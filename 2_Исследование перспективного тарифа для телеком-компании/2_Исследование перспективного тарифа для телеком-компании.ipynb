{
 "cells": [
  {
   "cell_type": "markdown",
   "metadata": {},
   "source": [
    "# Исследование перспективного тарифа для телеком-компании."
   ]
  },
  {
   "cell_type": "markdown",
   "metadata": {},
   "source": [
    "<h1>Описание проекта.<span class=\"tocSkip\"></span></h1>\n",
    "\n",
    "Вы аналитик телеком-компании — оператора сотовой связи. Клиентам предлагают два тарифных плана: «Смарт» и «Ультра». Чтобы скорректировать рекламный бюджет, коммерческий департамент хочет понять, какой тариф приносит больше денег.\n",
    "Вам предстоит сделать предварительный анализ тарифов на небольшой выборке клиентов. В вашем распоряжении данные 500 пользователей телеком-компании: кто они, откуда, каким тарифом пользуются, сколько звонков и сообщений каждый отправил за 2018 год. Нужно проанализировать поведение клиентов и сделать вывод — какой тариф лучше.\n",
    "\n"
   ]
  },
  {
   "cell_type": "markdown",
   "metadata": {},
   "source": [
    "# Описание тарифов\n",
    "Тариф «Смарт»\n",
    "Ежемесячная плата: 550 рублей\n",
    "Включено 500 минут разговора, 50 сообщений и 15 Гб интернет-трафика\n",
    "Стоимость услуг сверх тарифного пакета:\n",
    "минута разговора: 3 рубля\n",
    "сообщение: 3 рубля\n",
    "1 Гб интернет-трафика: 200 рублей\n",
    "\n",
    "\n",
    "\n",
    "Тариф «Ультра»\n",
    "Ежемесячная плата: 1950 рублей\n",
    "Включено 3000 минут разговора, 1000 сообщений и 30 Гб интернет-трафика\n",
    "Стоимость услуг сверх тарифного пакета:\n",
    "минута разговора: 1 рубль\n",
    "сообщение: 1 рубль\n",
    "1 Гб интернет-трафика: 150 рублей"
   ]
  },
  {
   "cell_type": "markdown",
   "metadata": {},
   "source": [
    "# Задачи исследования.\n",
    "\n",
    "<b>1. Изучение данных.</b>\n",
    "\n",
    "- изучение датасета\n",
    "- поиск аномалий\n",
    "- предварительные выводы\n"
   ]
  },
  {
   "cell_type": "markdown",
   "metadata": {},
   "source": [
    "<b>2. Обработка данных.</b> \n",
    "\n",
    "- поиск и обработка пропусков\n",
    "- замена типов данных\n",
    "- удаление дубликатов\n",
    "- поиск и устранение ошибок в данных\n",
    "\n",
    "\n",
    "<b>Просчет для каждого пользователя:</b>\n",
    "\n",
    "- количество сделанных звонков и израсходованных минут разговора по месяцам;\n",
    "- количество отправленных сообщений по месяцам;\n",
    "- объем израсходованного интернет-трафика по месяцам;\n",
    "- помесячную выручку с каждого пользователя (вычтите бесплатный лимит из суммарного количества звонков, сообщений и интернет-трафика; остаток умножьте на значение из тарифного плана; прибавьте абонентскую плату, соответствующую тарифному плану)."
   ]
  },
  {
   "cell_type": "markdown",
   "metadata": {},
   "source": [
    "<b>3. Анализ данных.</b>\n",
    "\n",
    "- Описание поведения клиентов оператора, исходя из выборки. \n",
    "- Подсчет количества минут разговора, количества сообщений и  объёма интернет-трафика требуемого пользователям каждого тарифа в месяц\n",
    "- Подсчет среднего количества, дисперсии и стандартного отклонения. \n",
    "- Построение гистограмм. \n",
    "- Описание распределения."
   ]
  },
  {
   "cell_type": "markdown",
   "metadata": {},
   "source": [
    "<b>4. Проверка гипотез.</b>\n",
    "\n",
    "- средняя выручка пользователей тарифов «Ультра» и «Смарт» различаются;\n",
    "- средняя выручка пользователей из Москвы отличается от выручки пользователей из других регионов."
   ]
  },
  {
   "cell_type": "markdown",
   "metadata": {},
   "source": [
    "<b>5. Результаты исследования.</b>\n",
    "\n",
    "- Общие выводы\n",
    "- Рекомендации"
   ]
  },
  {
   "cell_type": "markdown",
   "metadata": {},
   "source": [
    "# Основная цель проекта:\n",
    "\n",
    "\n",
    "Для коммерческого департамента компании \"Мегалайн\" определить какой из тарифных планов услуг связи («Смарт» или «Ультра») более прибыльный (какой приносит компании больше денег) и дать рекоментации по корректировке рекламного бюджета.\n"
   ]
  },
  {
   "cell_type": "markdown",
   "metadata": {},
   "source": [
    "<b>ОПИСАНИЕ  ДАННЫХ:</b>\n",
    "\n",
    "<b>Таблица users (информация о пользователях):</b>\n",
    "\n",
    "\n",
    "user_id — уникальный идентификатор пользователя\n",
    "\n",
    "first_name — имя пользователя\n",
    "\n",
    "last_name — фамилия пользователя\n",
    "\n",
    "age — возраст пользователя (годы)\n",
    "\n",
    "reg_date — дата подключения тарифа (день, месяц, год)\n",
    "\n",
    "churn_date — дата прекращения пользования тарифом (если значение пропущено, то тариф ещё действовал на момент выгрузки данных)\n",
    "\n",
    "city — город проживания пользователя\n",
    "\n",
    "tarif — название тарифного плана\n",
    "\n",
    "\n",
    "<b>Таблица calls (информация о звонках):</b>\n",
    "\n",
    "\n",
    "id — уникальный номер звонка\n",
    "\n",
    "call_date — дата звонка\n",
    "\n",
    "duration — длительность звонка в минутах\n",
    "\n",
    "user_id — идентификатор пользователя, сделавшего звонок\n",
    "\n",
    "\n",
    "<b>Таблица messages (информация о сообщениях):</b>\n",
    "\n",
    "\n",
    "id — уникальный номер сообщения\n",
    "\n",
    "message_date — дата сообщения\n",
    "\n",
    "user_id — идентификатор пользователя, отправившего сообщение\n",
    "\n",
    "\n",
    "\n",
    "<b>Таблица internet (информация об интернет-сессиях):</b>\n",
    "\n",
    "\n",
    "id — уникальный номер сессии\n",
    "\n",
    "mb_used — объём потраченного за сессию интернет-трафика (в мегабайтах)\n",
    "\n",
    "session_date — дата интернет-сессии\n",
    "\n",
    "user_id — идентификатор пользователя\n",
    "\n",
    "\n",
    "<b>Таблица tariffs (информация о тарифах):</b>\n",
    "\n",
    "\n",
    "tariff_name — название тарифа\n",
    "\n",
    "rub_monthly_fee — ежемесячная абонентская плата в рублях\n",
    "\n",
    "minutes_included — количество минут разговора в месяц, включённых в абонентскую плату\n",
    "\n",
    "messages_included — количество сообщений в месяц, включённых в абонентскую плату\n",
    "\n",
    "mb_per_month_included — объём интернет-трафика, включённого в абонентскую плату (в мегабайтах)\n",
    "\n",
    "rub_per_minute — стоимость минуты разговора сверх тарифного пакета (например, если в тарифе 100 минут разговора в месяц, то со 101 минуты будет взиматься плата)\n",
    "\n",
    "rub_per_message — стоимость отправки сообщения сверх тарифного пакета\n",
    "\n",
    "rub_per_gb — стоимость дополнительного гигабайта интернет-трафика сверх тарифного пакета (1 гигабайт = 1024 мегабайта)"
   ]
  },
  {
   "cell_type": "markdown",
   "metadata": {},
   "source": [
    "## Изучение данных "
   ]
  },
  {
   "cell_type": "code",
   "execution_count": 1,
   "metadata": {},
   "outputs": [],
   "source": [
    "import pandas as pd\n",
    "import numpy as np\n",
    "import math\n",
    "from scipy import stats as st\n",
    "from datetime import datetime\n",
    "import matplotlib.pyplot as plt\n",
    "import seaborn as sns\n",
    "%matplotlib inline\n",
    "pd.set_option('display.max_columns', 500)\n",
    "pd.options.mode.chained_assignment = None\n"
   ]
  },
  {
   "cell_type": "code",
   "execution_count": 2,
   "metadata": {},
   "outputs": [],
   "source": [
    "users = pd.read_csv('/datasets/......csv')\n",
    "calls = pd.read_csv('/datasets/.....csv')\n",
    "messages = pd.read_csv('/datasets/.......csv')\n",
    "internet = pd.read_csv('/datasets/......csv')\n",
    "tariffs = pd.read_csv('/datasets/.......csv')"
   ]
  },
  {
   "cell_type": "markdown",
   "metadata": {},
   "source": [
    "### Изучение данных пользователей (users)"
   ]
  },
  {
   "cell_type": "code",
   "execution_count": 3,
   "metadata": {},
   "outputs": [],
   "source": [
    "# Напишем функцию изучения таблиц датасета для общей информации, пропусков,\n",
    "#дубликатов, описательной статистики \n",
    "#для изучения первых, последних и рандомных строк функцию не пишу,\n",
    "#так как мне удобнее их изучать отдельно, чтобы не запутаться\n",
    "def info_result(data_frame):\n",
    "    print('\\n')\n",
    "    print('Общая информация')     \n",
    "    print(data_frame.info())\n",
    "    print('\\n')\n",
    "    print('Пропуски')\n",
    "    print(data_frame.isna().sum())\n",
    "    print('\\n')\n",
    "    print('Дубликаты')\n",
    "    print(data_frame.duplicated().sum())\n",
    "    print('\\n')\n",
    "    print('Описательная статистика')\n",
    "    print(data_frame.describe())"
   ]
  },
  {
   "cell_type": "code",
   "execution_count": 4,
   "metadata": {},
   "outputs": [
    {
     "data": {
      "text/html": [
       "<div>\n",
       "<style scoped>\n",
       "    .dataframe tbody tr th:only-of-type {\n",
       "        vertical-align: middle;\n",
       "    }\n",
       "\n",
       "    .dataframe tbody tr th {\n",
       "        vertical-align: top;\n",
       "    }\n",
       "\n",
       "    .dataframe thead th {\n",
       "        text-align: right;\n",
       "    }\n",
       "</style>\n",
       "<table border=\"1\" class=\"dataframe\">\n",
       "  <thead>\n",
       "    <tr style=\"text-align: right;\">\n",
       "      <th></th>\n",
       "      <th>user_id</th>\n",
       "      <th>age</th>\n",
       "      <th>churn_date</th>\n",
       "      <th>city</th>\n",
       "      <th>first_name</th>\n",
       "      <th>last_name</th>\n",
       "      <th>reg_date</th>\n",
       "      <th>tariff</th>\n",
       "    </tr>\n",
       "  </thead>\n",
       "  <tbody>\n",
       "    <tr>\n",
       "      <td>0</td>\n",
       "      <td>1000</td>\n",
       "      <td>52</td>\n",
       "      <td>NaN</td>\n",
       "      <td>Краснодар</td>\n",
       "      <td>Рафаил</td>\n",
       "      <td>Верещагин</td>\n",
       "      <td>2018-05-25</td>\n",
       "      <td>ultra</td>\n",
       "    </tr>\n",
       "    <tr>\n",
       "      <td>1</td>\n",
       "      <td>1001</td>\n",
       "      <td>41</td>\n",
       "      <td>NaN</td>\n",
       "      <td>Москва</td>\n",
       "      <td>Иван</td>\n",
       "      <td>Ежов</td>\n",
       "      <td>2018-11-01</td>\n",
       "      <td>smart</td>\n",
       "    </tr>\n",
       "    <tr>\n",
       "      <td>2</td>\n",
       "      <td>1002</td>\n",
       "      <td>59</td>\n",
       "      <td>NaN</td>\n",
       "      <td>Стерлитамак</td>\n",
       "      <td>Евгений</td>\n",
       "      <td>Абрамович</td>\n",
       "      <td>2018-06-17</td>\n",
       "      <td>smart</td>\n",
       "    </tr>\n",
       "    <tr>\n",
       "      <td>3</td>\n",
       "      <td>1003</td>\n",
       "      <td>23</td>\n",
       "      <td>NaN</td>\n",
       "      <td>Москва</td>\n",
       "      <td>Белла</td>\n",
       "      <td>Белякова</td>\n",
       "      <td>2018-08-17</td>\n",
       "      <td>ultra</td>\n",
       "    </tr>\n",
       "    <tr>\n",
       "      <td>4</td>\n",
       "      <td>1004</td>\n",
       "      <td>68</td>\n",
       "      <td>NaN</td>\n",
       "      <td>Новокузнецк</td>\n",
       "      <td>Татьяна</td>\n",
       "      <td>Авдеенко</td>\n",
       "      <td>2018-05-14</td>\n",
       "      <td>ultra</td>\n",
       "    </tr>\n",
       "    <tr>\n",
       "      <td>5</td>\n",
       "      <td>1005</td>\n",
       "      <td>67</td>\n",
       "      <td>NaN</td>\n",
       "      <td>Набережные Челны</td>\n",
       "      <td>Афанасий</td>\n",
       "      <td>Горлов</td>\n",
       "      <td>2018-01-25</td>\n",
       "      <td>smart</td>\n",
       "    </tr>\n",
       "    <tr>\n",
       "      <td>6</td>\n",
       "      <td>1006</td>\n",
       "      <td>21</td>\n",
       "      <td>NaN</td>\n",
       "      <td>Ульяновск</td>\n",
       "      <td>Леонид</td>\n",
       "      <td>Ермолаев</td>\n",
       "      <td>2018-02-26</td>\n",
       "      <td>smart</td>\n",
       "    </tr>\n",
       "    <tr>\n",
       "      <td>7</td>\n",
       "      <td>1007</td>\n",
       "      <td>65</td>\n",
       "      <td>NaN</td>\n",
       "      <td>Москва</td>\n",
       "      <td>Юна</td>\n",
       "      <td>Березина</td>\n",
       "      <td>2018-04-19</td>\n",
       "      <td>smart</td>\n",
       "    </tr>\n",
       "    <tr>\n",
       "      <td>8</td>\n",
       "      <td>1008</td>\n",
       "      <td>63</td>\n",
       "      <td>NaN</td>\n",
       "      <td>Челябинск</td>\n",
       "      <td>Рустэм</td>\n",
       "      <td>Пономарёв</td>\n",
       "      <td>2018-12-19</td>\n",
       "      <td>smart</td>\n",
       "    </tr>\n",
       "    <tr>\n",
       "      <td>9</td>\n",
       "      <td>1009</td>\n",
       "      <td>24</td>\n",
       "      <td>NaN</td>\n",
       "      <td>Пермь</td>\n",
       "      <td>Василиса</td>\n",
       "      <td>Блинова</td>\n",
       "      <td>2018-03-22</td>\n",
       "      <td>smart</td>\n",
       "    </tr>\n",
       "  </tbody>\n",
       "</table>\n",
       "</div>"
      ],
      "text/plain": [
       "   user_id  age churn_date              city first_name  last_name  \\\n",
       "0     1000   52        NaN         Краснодар     Рафаил  Верещагин   \n",
       "1     1001   41        NaN            Москва       Иван       Ежов   \n",
       "2     1002   59        NaN       Стерлитамак    Евгений  Абрамович   \n",
       "3     1003   23        NaN            Москва      Белла   Белякова   \n",
       "4     1004   68        NaN       Новокузнецк    Татьяна   Авдеенко   \n",
       "5     1005   67        NaN  Набережные Челны   Афанасий     Горлов   \n",
       "6     1006   21        NaN         Ульяновск     Леонид   Ермолаев   \n",
       "7     1007   65        NaN            Москва        Юна   Березина   \n",
       "8     1008   63        NaN         Челябинск     Рустэм  Пономарёв   \n",
       "9     1009   24        NaN             Пермь   Василиса    Блинова   \n",
       "\n",
       "     reg_date tariff  \n",
       "0  2018-05-25  ultra  \n",
       "1  2018-11-01  smart  \n",
       "2  2018-06-17  smart  \n",
       "3  2018-08-17  ultra  \n",
       "4  2018-05-14  ultra  \n",
       "5  2018-01-25  smart  \n",
       "6  2018-02-26  smart  \n",
       "7  2018-04-19  smart  \n",
       "8  2018-12-19  smart  \n",
       "9  2018-03-22  smart  "
      ]
     },
     "execution_count": 4,
     "metadata": {},
     "output_type": "execute_result"
    }
   ],
   "source": [
    "# первые 10 строк датасета\n",
    "\n",
    "users.head(10)\n",
    "\n"
   ]
  },
  {
   "cell_type": "code",
   "execution_count": 5,
   "metadata": {},
   "outputs": [
    {
     "data": {
      "text/html": [
       "<div>\n",
       "<style scoped>\n",
       "    .dataframe tbody tr th:only-of-type {\n",
       "        vertical-align: middle;\n",
       "    }\n",
       "\n",
       "    .dataframe tbody tr th {\n",
       "        vertical-align: top;\n",
       "    }\n",
       "\n",
       "    .dataframe thead th {\n",
       "        text-align: right;\n",
       "    }\n",
       "</style>\n",
       "<table border=\"1\" class=\"dataframe\">\n",
       "  <thead>\n",
       "    <tr style=\"text-align: right;\">\n",
       "      <th></th>\n",
       "      <th>user_id</th>\n",
       "      <th>age</th>\n",
       "      <th>churn_date</th>\n",
       "      <th>city</th>\n",
       "      <th>first_name</th>\n",
       "      <th>last_name</th>\n",
       "      <th>reg_date</th>\n",
       "      <th>tariff</th>\n",
       "    </tr>\n",
       "  </thead>\n",
       "  <tbody>\n",
       "    <tr>\n",
       "      <td>490</td>\n",
       "      <td>1490</td>\n",
       "      <td>30</td>\n",
       "      <td>NaN</td>\n",
       "      <td>Москва</td>\n",
       "      <td>Радомир</td>\n",
       "      <td>Алесин</td>\n",
       "      <td>2018-04-03</td>\n",
       "      <td>smart</td>\n",
       "    </tr>\n",
       "    <tr>\n",
       "      <td>491</td>\n",
       "      <td>1491</td>\n",
       "      <td>56</td>\n",
       "      <td>NaN</td>\n",
       "      <td>Челябинск</td>\n",
       "      <td>Радислав</td>\n",
       "      <td>Андрейкин</td>\n",
       "      <td>2018-04-25</td>\n",
       "      <td>ultra</td>\n",
       "    </tr>\n",
       "    <tr>\n",
       "      <td>492</td>\n",
       "      <td>1492</td>\n",
       "      <td>63</td>\n",
       "      <td>NaN</td>\n",
       "      <td>Санкт-Петербург</td>\n",
       "      <td>Руслана</td>\n",
       "      <td>Артёменко</td>\n",
       "      <td>2018-06-26</td>\n",
       "      <td>smart</td>\n",
       "    </tr>\n",
       "    <tr>\n",
       "      <td>493</td>\n",
       "      <td>1493</td>\n",
       "      <td>71</td>\n",
       "      <td>NaN</td>\n",
       "      <td>Красноярск</td>\n",
       "      <td>Таисия</td>\n",
       "      <td>Ахматулина</td>\n",
       "      <td>2018-11-24</td>\n",
       "      <td>ultra</td>\n",
       "    </tr>\n",
       "    <tr>\n",
       "      <td>494</td>\n",
       "      <td>1494</td>\n",
       "      <td>62</td>\n",
       "      <td>NaN</td>\n",
       "      <td>Омск</td>\n",
       "      <td>Ренат</td>\n",
       "      <td>Андропов</td>\n",
       "      <td>2018-08-17</td>\n",
       "      <td>smart</td>\n",
       "    </tr>\n",
       "    <tr>\n",
       "      <td>495</td>\n",
       "      <td>1495</td>\n",
       "      <td>65</td>\n",
       "      <td>NaN</td>\n",
       "      <td>Иркутск</td>\n",
       "      <td>Авксентий</td>\n",
       "      <td>Фокин</td>\n",
       "      <td>2018-08-28</td>\n",
       "      <td>ultra</td>\n",
       "    </tr>\n",
       "    <tr>\n",
       "      <td>496</td>\n",
       "      <td>1496</td>\n",
       "      <td>36</td>\n",
       "      <td>NaN</td>\n",
       "      <td>Вологда</td>\n",
       "      <td>Трифон</td>\n",
       "      <td>Блохин</td>\n",
       "      <td>2018-01-27</td>\n",
       "      <td>smart</td>\n",
       "    </tr>\n",
       "    <tr>\n",
       "      <td>497</td>\n",
       "      <td>1497</td>\n",
       "      <td>32</td>\n",
       "      <td>NaN</td>\n",
       "      <td>Челябинск</td>\n",
       "      <td>Каролина</td>\n",
       "      <td>Агеева</td>\n",
       "      <td>2018-10-09</td>\n",
       "      <td>smart</td>\n",
       "    </tr>\n",
       "    <tr>\n",
       "      <td>498</td>\n",
       "      <td>1498</td>\n",
       "      <td>68</td>\n",
       "      <td>2018-10-25</td>\n",
       "      <td>Владикавказ</td>\n",
       "      <td>Всеволод</td>\n",
       "      <td>Акимчин</td>\n",
       "      <td>2018-07-19</td>\n",
       "      <td>smart</td>\n",
       "    </tr>\n",
       "    <tr>\n",
       "      <td>499</td>\n",
       "      <td>1499</td>\n",
       "      <td>35</td>\n",
       "      <td>NaN</td>\n",
       "      <td>Пермь</td>\n",
       "      <td>Гектор</td>\n",
       "      <td>Корнилов</td>\n",
       "      <td>2018-09-27</td>\n",
       "      <td>smart</td>\n",
       "    </tr>\n",
       "  </tbody>\n",
       "</table>\n",
       "</div>"
      ],
      "text/plain": [
       "     user_id  age  churn_date             city first_name   last_name  \\\n",
       "490     1490   30         NaN           Москва    Радомир      Алесин   \n",
       "491     1491   56         NaN        Челябинск   Радислав   Андрейкин   \n",
       "492     1492   63         NaN  Санкт-Петербург    Руслана   Артёменко   \n",
       "493     1493   71         NaN       Красноярск     Таисия  Ахматулина   \n",
       "494     1494   62         NaN             Омск      Ренат    Андропов   \n",
       "495     1495   65         NaN          Иркутск  Авксентий       Фокин   \n",
       "496     1496   36         NaN          Вологда     Трифон      Блохин   \n",
       "497     1497   32         NaN        Челябинск   Каролина      Агеева   \n",
       "498     1498   68  2018-10-25      Владикавказ   Всеволод     Акимчин   \n",
       "499     1499   35         NaN            Пермь     Гектор    Корнилов   \n",
       "\n",
       "       reg_date tariff  \n",
       "490  2018-04-03  smart  \n",
       "491  2018-04-25  ultra  \n",
       "492  2018-06-26  smart  \n",
       "493  2018-11-24  ultra  \n",
       "494  2018-08-17  smart  \n",
       "495  2018-08-28  ultra  \n",
       "496  2018-01-27  smart  \n",
       "497  2018-10-09  smart  \n",
       "498  2018-07-19  smart  \n",
       "499  2018-09-27  smart  "
      ]
     },
     "execution_count": 5,
     "metadata": {},
     "output_type": "execute_result"
    }
   ],
   "source": [
    "#последние 10 строк датасета\n",
    "users.tail(10)\n"
   ]
  },
  {
   "cell_type": "code",
   "execution_count": 6,
   "metadata": {},
   "outputs": [
    {
     "data": {
      "text/html": [
       "<div>\n",
       "<style scoped>\n",
       "    .dataframe tbody tr th:only-of-type {\n",
       "        vertical-align: middle;\n",
       "    }\n",
       "\n",
       "    .dataframe tbody tr th {\n",
       "        vertical-align: top;\n",
       "    }\n",
       "\n",
       "    .dataframe thead th {\n",
       "        text-align: right;\n",
       "    }\n",
       "</style>\n",
       "<table border=\"1\" class=\"dataframe\">\n",
       "  <thead>\n",
       "    <tr style=\"text-align: right;\">\n",
       "      <th></th>\n",
       "      <th>user_id</th>\n",
       "      <th>age</th>\n",
       "      <th>churn_date</th>\n",
       "      <th>city</th>\n",
       "      <th>first_name</th>\n",
       "      <th>last_name</th>\n",
       "      <th>reg_date</th>\n",
       "      <th>tariff</th>\n",
       "    </tr>\n",
       "  </thead>\n",
       "  <tbody>\n",
       "    <tr>\n",
       "      <td>188</td>\n",
       "      <td>1188</td>\n",
       "      <td>41</td>\n",
       "      <td>NaN</td>\n",
       "      <td>Санкт-Петербург</td>\n",
       "      <td>Габриэль</td>\n",
       "      <td>Соколов</td>\n",
       "      <td>2018-02-04</td>\n",
       "      <td>smart</td>\n",
       "    </tr>\n",
       "    <tr>\n",
       "      <td>215</td>\n",
       "      <td>1215</td>\n",
       "      <td>55</td>\n",
       "      <td>NaN</td>\n",
       "      <td>Рязань</td>\n",
       "      <td>Руслан</td>\n",
       "      <td>Алиев</td>\n",
       "      <td>2018-08-12</td>\n",
       "      <td>smart</td>\n",
       "    </tr>\n",
       "    <tr>\n",
       "      <td>229</td>\n",
       "      <td>1229</td>\n",
       "      <td>24</td>\n",
       "      <td>NaN</td>\n",
       "      <td>Москва</td>\n",
       "      <td>Нелли</td>\n",
       "      <td>Зубкова</td>\n",
       "      <td>2018-10-29</td>\n",
       "      <td>smart</td>\n",
       "    </tr>\n",
       "    <tr>\n",
       "      <td>379</td>\n",
       "      <td>1379</td>\n",
       "      <td>39</td>\n",
       "      <td>NaN</td>\n",
       "      <td>Москва</td>\n",
       "      <td>Нелли</td>\n",
       "      <td>Кочергина</td>\n",
       "      <td>2018-08-09</td>\n",
       "      <td>ultra</td>\n",
       "    </tr>\n",
       "    <tr>\n",
       "      <td>251</td>\n",
       "      <td>1251</td>\n",
       "      <td>48</td>\n",
       "      <td>NaN</td>\n",
       "      <td>Пермь</td>\n",
       "      <td>Роксана</td>\n",
       "      <td>Тетерина</td>\n",
       "      <td>2018-02-13</td>\n",
       "      <td>smart</td>\n",
       "    </tr>\n",
       "    <tr>\n",
       "      <td>421</td>\n",
       "      <td>1421</td>\n",
       "      <td>30</td>\n",
       "      <td>NaN</td>\n",
       "      <td>Калининград</td>\n",
       "      <td>Гайдар</td>\n",
       "      <td>Александрович</td>\n",
       "      <td>2018-02-22</td>\n",
       "      <td>smart</td>\n",
       "    </tr>\n",
       "    <tr>\n",
       "      <td>240</td>\n",
       "      <td>1240</td>\n",
       "      <td>30</td>\n",
       "      <td>NaN</td>\n",
       "      <td>Воронеж</td>\n",
       "      <td>Зинаида</td>\n",
       "      <td>Шарова</td>\n",
       "      <td>2018-02-27</td>\n",
       "      <td>ultra</td>\n",
       "    </tr>\n",
       "    <tr>\n",
       "      <td>300</td>\n",
       "      <td>1300</td>\n",
       "      <td>40</td>\n",
       "      <td>NaN</td>\n",
       "      <td>Москва</td>\n",
       "      <td>Тихон</td>\n",
       "      <td>Азерников</td>\n",
       "      <td>2018-07-26</td>\n",
       "      <td>ultra</td>\n",
       "    </tr>\n",
       "    <tr>\n",
       "      <td>127</td>\n",
       "      <td>1127</td>\n",
       "      <td>26</td>\n",
       "      <td>NaN</td>\n",
       "      <td>Казань</td>\n",
       "      <td>Альберта</td>\n",
       "      <td>Ильина</td>\n",
       "      <td>2018-04-11</td>\n",
       "      <td>smart</td>\n",
       "    </tr>\n",
       "    <tr>\n",
       "      <td>342</td>\n",
       "      <td>1342</td>\n",
       "      <td>20</td>\n",
       "      <td>NaN</td>\n",
       "      <td>Новосибирск</td>\n",
       "      <td>Валентина</td>\n",
       "      <td>Казакова</td>\n",
       "      <td>2018-10-18</td>\n",
       "      <td>smart</td>\n",
       "    </tr>\n",
       "  </tbody>\n",
       "</table>\n",
       "</div>"
      ],
      "text/plain": [
       "     user_id  age churn_date             city first_name      last_name  \\\n",
       "188     1188   41        NaN  Санкт-Петербург   Габриэль        Соколов   \n",
       "215     1215   55        NaN           Рязань     Руслан          Алиев   \n",
       "229     1229   24        NaN           Москва      Нелли        Зубкова   \n",
       "379     1379   39        NaN           Москва      Нелли      Кочергина   \n",
       "251     1251   48        NaN            Пермь    Роксана       Тетерина   \n",
       "421     1421   30        NaN      Калининград     Гайдар  Александрович   \n",
       "240     1240   30        NaN          Воронеж    Зинаида         Шарова   \n",
       "300     1300   40        NaN           Москва      Тихон      Азерников   \n",
       "127     1127   26        NaN           Казань   Альберта         Ильина   \n",
       "342     1342   20        NaN      Новосибирск  Валентина       Казакова   \n",
       "\n",
       "       reg_date tariff  \n",
       "188  2018-02-04  smart  \n",
       "215  2018-08-12  smart  \n",
       "229  2018-10-29  smart  \n",
       "379  2018-08-09  ultra  \n",
       "251  2018-02-13  smart  \n",
       "421  2018-02-22  smart  \n",
       "240  2018-02-27  ultra  \n",
       "300  2018-07-26  ultra  \n",
       "127  2018-04-11  smart  \n",
       "342  2018-10-18  smart  "
      ]
     },
     "execution_count": 6,
     "metadata": {},
     "output_type": "execute_result"
    }
   ],
   "source": [
    "#рандомная выборка\n",
    "users.sample(10)"
   ]
  },
  {
   "cell_type": "code",
   "execution_count": 7,
   "metadata": {},
   "outputs": [
    {
     "name": "stdout",
     "output_type": "stream",
     "text": [
      "\n",
      "\n",
      "Общая информация\n",
      "<class 'pandas.core.frame.DataFrame'>\n",
      "RangeIndex: 500 entries, 0 to 499\n",
      "Data columns (total 8 columns):\n",
      "user_id       500 non-null int64\n",
      "age           500 non-null int64\n",
      "churn_date    38 non-null object\n",
      "city          500 non-null object\n",
      "first_name    500 non-null object\n",
      "last_name     500 non-null object\n",
      "reg_date      500 non-null object\n",
      "tariff        500 non-null object\n",
      "dtypes: int64(2), object(6)\n",
      "memory usage: 31.4+ KB\n",
      "None\n",
      "\n",
      "\n",
      "Пропуски\n",
      "user_id         0\n",
      "age             0\n",
      "churn_date    462\n",
      "city            0\n",
      "first_name      0\n",
      "last_name       0\n",
      "reg_date        0\n",
      "tariff          0\n",
      "dtype: int64\n",
      "\n",
      "\n",
      "Дубликаты\n",
      "0\n",
      "\n",
      "\n",
      "Описательная статистика\n",
      "           user_id        age\n",
      "count   500.000000  500.00000\n",
      "mean   1249.500000   46.58800\n",
      "std     144.481833   16.66763\n",
      "min    1000.000000   18.00000\n",
      "25%    1124.750000   32.00000\n",
      "50%    1249.500000   46.00000\n",
      "75%    1374.250000   62.00000\n",
      "max    1499.000000   75.00000\n"
     ]
    }
   ],
   "source": [
    "# общая информация, пропущенные значения, дубликаты, описательная статистика\n",
    "\n",
    "info_result(users)"
   ]
  },
  {
   "cell_type": "markdown",
   "metadata": {},
   "source": [
    "Есть пропуски только в churn_date (\"дата прекращения пользования тарифом\"), значит на момент выгрузки данный тариф действующий. Дубликатов нет.\n",
    "Необходимо изменить тип данных в столбцах \"дата подключения тарифа\" (reg_date) и \"дата прекращения пользования тарифом\"(churn_date) к типу datetime. "
   ]
  },
  {
   "cell_type": "markdown",
   "metadata": {},
   "source": [
    "### Изучение данных звонков (calls)"
   ]
  },
  {
   "cell_type": "code",
   "execution_count": 8,
   "metadata": {},
   "outputs": [
    {
     "data": {
      "text/html": [
       "<div>\n",
       "<style scoped>\n",
       "    .dataframe tbody tr th:only-of-type {\n",
       "        vertical-align: middle;\n",
       "    }\n",
       "\n",
       "    .dataframe tbody tr th {\n",
       "        vertical-align: top;\n",
       "    }\n",
       "\n",
       "    .dataframe thead th {\n",
       "        text-align: right;\n",
       "    }\n",
       "</style>\n",
       "<table border=\"1\" class=\"dataframe\">\n",
       "  <thead>\n",
       "    <tr style=\"text-align: right;\">\n",
       "      <th></th>\n",
       "      <th>id</th>\n",
       "      <th>call_date</th>\n",
       "      <th>duration</th>\n",
       "      <th>user_id</th>\n",
       "    </tr>\n",
       "  </thead>\n",
       "  <tbody>\n",
       "    <tr>\n",
       "      <td>0</td>\n",
       "      <td>1000_0</td>\n",
       "      <td>2018-07-25</td>\n",
       "      <td>0.00</td>\n",
       "      <td>1000</td>\n",
       "    </tr>\n",
       "    <tr>\n",
       "      <td>1</td>\n",
       "      <td>1000_1</td>\n",
       "      <td>2018-08-17</td>\n",
       "      <td>0.00</td>\n",
       "      <td>1000</td>\n",
       "    </tr>\n",
       "    <tr>\n",
       "      <td>2</td>\n",
       "      <td>1000_2</td>\n",
       "      <td>2018-06-11</td>\n",
       "      <td>2.85</td>\n",
       "      <td>1000</td>\n",
       "    </tr>\n",
       "    <tr>\n",
       "      <td>3</td>\n",
       "      <td>1000_3</td>\n",
       "      <td>2018-09-21</td>\n",
       "      <td>13.80</td>\n",
       "      <td>1000</td>\n",
       "    </tr>\n",
       "    <tr>\n",
       "      <td>4</td>\n",
       "      <td>1000_4</td>\n",
       "      <td>2018-12-15</td>\n",
       "      <td>5.18</td>\n",
       "      <td>1000</td>\n",
       "    </tr>\n",
       "    <tr>\n",
       "      <td>5</td>\n",
       "      <td>1000_5</td>\n",
       "      <td>2018-11-02</td>\n",
       "      <td>0.00</td>\n",
       "      <td>1000</td>\n",
       "    </tr>\n",
       "    <tr>\n",
       "      <td>6</td>\n",
       "      <td>1000_6</td>\n",
       "      <td>2018-10-18</td>\n",
       "      <td>0.00</td>\n",
       "      <td>1000</td>\n",
       "    </tr>\n",
       "    <tr>\n",
       "      <td>7</td>\n",
       "      <td>1000_7</td>\n",
       "      <td>2018-08-22</td>\n",
       "      <td>18.31</td>\n",
       "      <td>1000</td>\n",
       "    </tr>\n",
       "    <tr>\n",
       "      <td>8</td>\n",
       "      <td>1000_8</td>\n",
       "      <td>2018-09-15</td>\n",
       "      <td>18.44</td>\n",
       "      <td>1000</td>\n",
       "    </tr>\n",
       "    <tr>\n",
       "      <td>9</td>\n",
       "      <td>1000_9</td>\n",
       "      <td>2018-08-15</td>\n",
       "      <td>0.00</td>\n",
       "      <td>1000</td>\n",
       "    </tr>\n",
       "  </tbody>\n",
       "</table>\n",
       "</div>"
      ],
      "text/plain": [
       "       id   call_date  duration  user_id\n",
       "0  1000_0  2018-07-25      0.00     1000\n",
       "1  1000_1  2018-08-17      0.00     1000\n",
       "2  1000_2  2018-06-11      2.85     1000\n",
       "3  1000_3  2018-09-21     13.80     1000\n",
       "4  1000_4  2018-12-15      5.18     1000\n",
       "5  1000_5  2018-11-02      0.00     1000\n",
       "6  1000_6  2018-10-18      0.00     1000\n",
       "7  1000_7  2018-08-22     18.31     1000\n",
       "8  1000_8  2018-09-15     18.44     1000\n",
       "9  1000_9  2018-08-15      0.00     1000"
      ]
     },
     "execution_count": 8,
     "metadata": {},
     "output_type": "execute_result"
    }
   ],
   "source": [
    "#первые 10 строк датасета\n",
    "calls.head(10)"
   ]
  },
  {
   "cell_type": "code",
   "execution_count": 9,
   "metadata": {},
   "outputs": [
    {
     "data": {
      "text/html": [
       "<div>\n",
       "<style scoped>\n",
       "    .dataframe tbody tr th:only-of-type {\n",
       "        vertical-align: middle;\n",
       "    }\n",
       "\n",
       "    .dataframe tbody tr th {\n",
       "        vertical-align: top;\n",
       "    }\n",
       "\n",
       "    .dataframe thead th {\n",
       "        text-align: right;\n",
       "    }\n",
       "</style>\n",
       "<table border=\"1\" class=\"dataframe\">\n",
       "  <thead>\n",
       "    <tr style=\"text-align: right;\">\n",
       "      <th></th>\n",
       "      <th>id</th>\n",
       "      <th>call_date</th>\n",
       "      <th>duration</th>\n",
       "      <th>user_id</th>\n",
       "    </tr>\n",
       "  </thead>\n",
       "  <tbody>\n",
       "    <tr>\n",
       "      <td>202597</td>\n",
       "      <td>1499_210</td>\n",
       "      <td>2018-10-02</td>\n",
       "      <td>8.86</td>\n",
       "      <td>1499</td>\n",
       "    </tr>\n",
       "    <tr>\n",
       "      <td>202598</td>\n",
       "      <td>1499_211</td>\n",
       "      <td>2018-12-29</td>\n",
       "      <td>4.58</td>\n",
       "      <td>1499</td>\n",
       "    </tr>\n",
       "    <tr>\n",
       "      <td>202599</td>\n",
       "      <td>1499_212</td>\n",
       "      <td>2018-12-30</td>\n",
       "      <td>1.35</td>\n",
       "      <td>1499</td>\n",
       "    </tr>\n",
       "    <tr>\n",
       "      <td>202600</td>\n",
       "      <td>1499_213</td>\n",
       "      <td>2018-10-17</td>\n",
       "      <td>10.77</td>\n",
       "      <td>1499</td>\n",
       "    </tr>\n",
       "    <tr>\n",
       "      <td>202601</td>\n",
       "      <td>1499_214</td>\n",
       "      <td>2018-12-05</td>\n",
       "      <td>2.42</td>\n",
       "      <td>1499</td>\n",
       "    </tr>\n",
       "    <tr>\n",
       "      <td>202602</td>\n",
       "      <td>1499_215</td>\n",
       "      <td>2018-12-26</td>\n",
       "      <td>0.76</td>\n",
       "      <td>1499</td>\n",
       "    </tr>\n",
       "    <tr>\n",
       "      <td>202603</td>\n",
       "      <td>1499_216</td>\n",
       "      <td>2018-10-18</td>\n",
       "      <td>18.83</td>\n",
       "      <td>1499</td>\n",
       "    </tr>\n",
       "    <tr>\n",
       "      <td>202604</td>\n",
       "      <td>1499_217</td>\n",
       "      <td>2018-11-10</td>\n",
       "      <td>10.81</td>\n",
       "      <td>1499</td>\n",
       "    </tr>\n",
       "    <tr>\n",
       "      <td>202605</td>\n",
       "      <td>1499_218</td>\n",
       "      <td>2018-10-06</td>\n",
       "      <td>4.27</td>\n",
       "      <td>1499</td>\n",
       "    </tr>\n",
       "    <tr>\n",
       "      <td>202606</td>\n",
       "      <td>1499_219</td>\n",
       "      <td>2018-12-14</td>\n",
       "      <td>19.62</td>\n",
       "      <td>1499</td>\n",
       "    </tr>\n",
       "  </tbody>\n",
       "</table>\n",
       "</div>"
      ],
      "text/plain": [
       "              id   call_date  duration  user_id\n",
       "202597  1499_210  2018-10-02      8.86     1499\n",
       "202598  1499_211  2018-12-29      4.58     1499\n",
       "202599  1499_212  2018-12-30      1.35     1499\n",
       "202600  1499_213  2018-10-17     10.77     1499\n",
       "202601  1499_214  2018-12-05      2.42     1499\n",
       "202602  1499_215  2018-12-26      0.76     1499\n",
       "202603  1499_216  2018-10-18     18.83     1499\n",
       "202604  1499_217  2018-11-10     10.81     1499\n",
       "202605  1499_218  2018-10-06      4.27     1499\n",
       "202606  1499_219  2018-12-14     19.62     1499"
      ]
     },
     "execution_count": 9,
     "metadata": {},
     "output_type": "execute_result"
    }
   ],
   "source": [
    "#последние 10 строк датасета\n",
    "calls.tail(10)"
   ]
  },
  {
   "cell_type": "code",
   "execution_count": 10,
   "metadata": {},
   "outputs": [
    {
     "data": {
      "text/html": [
       "<div>\n",
       "<style scoped>\n",
       "    .dataframe tbody tr th:only-of-type {\n",
       "        vertical-align: middle;\n",
       "    }\n",
       "\n",
       "    .dataframe tbody tr th {\n",
       "        vertical-align: top;\n",
       "    }\n",
       "\n",
       "    .dataframe thead th {\n",
       "        text-align: right;\n",
       "    }\n",
       "</style>\n",
       "<table border=\"1\" class=\"dataframe\">\n",
       "  <thead>\n",
       "    <tr style=\"text-align: right;\">\n",
       "      <th></th>\n",
       "      <th>id</th>\n",
       "      <th>call_date</th>\n",
       "      <th>duration</th>\n",
       "      <th>user_id</th>\n",
       "    </tr>\n",
       "  </thead>\n",
       "  <tbody>\n",
       "    <tr>\n",
       "      <td>42308</td>\n",
       "      <td>1104_210</td>\n",
       "      <td>2018-02-22</td>\n",
       "      <td>8.75</td>\n",
       "      <td>1104</td>\n",
       "    </tr>\n",
       "    <tr>\n",
       "      <td>95963</td>\n",
       "      <td>1244_218</td>\n",
       "      <td>2018-08-27</td>\n",
       "      <td>0.00</td>\n",
       "      <td>1244</td>\n",
       "    </tr>\n",
       "    <tr>\n",
       "      <td>187777</td>\n",
       "      <td>1464_297</td>\n",
       "      <td>2018-08-21</td>\n",
       "      <td>13.75</td>\n",
       "      <td>1464</td>\n",
       "    </tr>\n",
       "    <tr>\n",
       "      <td>164700</td>\n",
       "      <td>1407_144</td>\n",
       "      <td>2018-09-29</td>\n",
       "      <td>0.00</td>\n",
       "      <td>1407</td>\n",
       "    </tr>\n",
       "    <tr>\n",
       "      <td>35951</td>\n",
       "      <td>1089_424</td>\n",
       "      <td>2018-05-19</td>\n",
       "      <td>10.22</td>\n",
       "      <td>1089</td>\n",
       "    </tr>\n",
       "    <tr>\n",
       "      <td>171417</td>\n",
       "      <td>1425_29</td>\n",
       "      <td>2018-11-11</td>\n",
       "      <td>12.78</td>\n",
       "      <td>1425</td>\n",
       "    </tr>\n",
       "    <tr>\n",
       "      <td>194955</td>\n",
       "      <td>1477_703</td>\n",
       "      <td>2018-06-01</td>\n",
       "      <td>3.72</td>\n",
       "      <td>1477</td>\n",
       "    </tr>\n",
       "    <tr>\n",
       "      <td>140238</td>\n",
       "      <td>1358_0</td>\n",
       "      <td>2018-10-03</td>\n",
       "      <td>0.00</td>\n",
       "      <td>1358</td>\n",
       "    </tr>\n",
       "    <tr>\n",
       "      <td>11803</td>\n",
       "      <td>1030_336</td>\n",
       "      <td>2018-08-05</td>\n",
       "      <td>0.00</td>\n",
       "      <td>1030</td>\n",
       "    </tr>\n",
       "    <tr>\n",
       "      <td>51472</td>\n",
       "      <td>1127_135</td>\n",
       "      <td>2018-06-26</td>\n",
       "      <td>0.00</td>\n",
       "      <td>1127</td>\n",
       "    </tr>\n",
       "  </tbody>\n",
       "</table>\n",
       "</div>"
      ],
      "text/plain": [
       "              id   call_date  duration  user_id\n",
       "42308   1104_210  2018-02-22      8.75     1104\n",
       "95963   1244_218  2018-08-27      0.00     1244\n",
       "187777  1464_297  2018-08-21     13.75     1464\n",
       "164700  1407_144  2018-09-29      0.00     1407\n",
       "35951   1089_424  2018-05-19     10.22     1089\n",
       "171417   1425_29  2018-11-11     12.78     1425\n",
       "194955  1477_703  2018-06-01      3.72     1477\n",
       "140238    1358_0  2018-10-03      0.00     1358\n",
       "11803   1030_336  2018-08-05      0.00     1030\n",
       "51472   1127_135  2018-06-26      0.00     1127"
      ]
     },
     "execution_count": 10,
     "metadata": {},
     "output_type": "execute_result"
    }
   ],
   "source": [
    "#рандомная выборка\n",
    "calls.sample(10)"
   ]
  },
  {
   "cell_type": "code",
   "execution_count": 11,
   "metadata": {},
   "outputs": [
    {
     "name": "stdout",
     "output_type": "stream",
     "text": [
      "\n",
      "\n",
      "Общая информация\n",
      "<class 'pandas.core.frame.DataFrame'>\n",
      "RangeIndex: 202607 entries, 0 to 202606\n",
      "Data columns (total 4 columns):\n",
      "id           202607 non-null object\n",
      "call_date    202607 non-null object\n",
      "duration     202607 non-null float64\n",
      "user_id      202607 non-null int64\n",
      "dtypes: float64(1), int64(1), object(2)\n",
      "memory usage: 6.2+ MB\n",
      "None\n",
      "\n",
      "\n",
      "Пропуски\n",
      "id           0\n",
      "call_date    0\n",
      "duration     0\n",
      "user_id      0\n",
      "dtype: int64\n",
      "\n",
      "\n",
      "Дубликаты\n",
      "0\n",
      "\n",
      "\n",
      "Описательная статистика\n",
      "            duration        user_id\n",
      "count  202607.000000  202607.000000\n",
      "mean        6.755887    1253.940619\n",
      "std         5.843365     144.722751\n",
      "min         0.000000    1000.000000\n",
      "25%         1.300000    1126.000000\n",
      "50%         6.000000    1260.000000\n",
      "75%        10.700000    1379.000000\n",
      "max        38.000000    1499.000000\n"
     ]
    }
   ],
   "source": [
    "# общая информация, пропущенные значения, дубликаты, описательная статистика\n",
    "info_result(calls)"
   ]
  },
  {
   "cell_type": "markdown",
   "metadata": {},
   "source": [
    "В данных мы нашли звонки с нулевой продолжительностью. Как указано в задании - это не ошибка: нулями обозначены пропущенные звонки, поэтому их не нужно удалять.\n",
    "\n",
    "Пропущенных значений и дубликатов нет. Хорошо.\n",
    "\n",
    "Тип данных в столбце \"call_date\" — дата звонка, нужно привести к типу данных - datetime, столбец \"id\" к типу данных int.\n",
    "\n",
    "Столбец \"duration\" (длительность звонка в минутах) тип данных float привести к типу данных int, округлив вверх, так как оперетор связи по условиям задания, каждый звонок округляет отдельно: даже если он длился всего 1 секунду, будет засчитан как 1 минута."
   ]
  },
  {
   "cell_type": "markdown",
   "metadata": {},
   "source": [
    "### Изучение данных messages (информация о сообщениях)."
   ]
  },
  {
   "cell_type": "code",
   "execution_count": 12,
   "metadata": {},
   "outputs": [
    {
     "data": {
      "text/html": [
       "<div>\n",
       "<style scoped>\n",
       "    .dataframe tbody tr th:only-of-type {\n",
       "        vertical-align: middle;\n",
       "    }\n",
       "\n",
       "    .dataframe tbody tr th {\n",
       "        vertical-align: top;\n",
       "    }\n",
       "\n",
       "    .dataframe thead th {\n",
       "        text-align: right;\n",
       "    }\n",
       "</style>\n",
       "<table border=\"1\" class=\"dataframe\">\n",
       "  <thead>\n",
       "    <tr style=\"text-align: right;\">\n",
       "      <th></th>\n",
       "      <th>id</th>\n",
       "      <th>message_date</th>\n",
       "      <th>user_id</th>\n",
       "    </tr>\n",
       "  </thead>\n",
       "  <tbody>\n",
       "    <tr>\n",
       "      <td>0</td>\n",
       "      <td>1000_0</td>\n",
       "      <td>2018-06-27</td>\n",
       "      <td>1000</td>\n",
       "    </tr>\n",
       "    <tr>\n",
       "      <td>1</td>\n",
       "      <td>1000_1</td>\n",
       "      <td>2018-10-08</td>\n",
       "      <td>1000</td>\n",
       "    </tr>\n",
       "    <tr>\n",
       "      <td>2</td>\n",
       "      <td>1000_2</td>\n",
       "      <td>2018-08-04</td>\n",
       "      <td>1000</td>\n",
       "    </tr>\n",
       "    <tr>\n",
       "      <td>3</td>\n",
       "      <td>1000_3</td>\n",
       "      <td>2018-06-16</td>\n",
       "      <td>1000</td>\n",
       "    </tr>\n",
       "    <tr>\n",
       "      <td>4</td>\n",
       "      <td>1000_4</td>\n",
       "      <td>2018-12-05</td>\n",
       "      <td>1000</td>\n",
       "    </tr>\n",
       "    <tr>\n",
       "      <td>5</td>\n",
       "      <td>1000_5</td>\n",
       "      <td>2018-06-20</td>\n",
       "      <td>1000</td>\n",
       "    </tr>\n",
       "    <tr>\n",
       "      <td>6</td>\n",
       "      <td>1000_6</td>\n",
       "      <td>2018-11-19</td>\n",
       "      <td>1000</td>\n",
       "    </tr>\n",
       "    <tr>\n",
       "      <td>7</td>\n",
       "      <td>1000_7</td>\n",
       "      <td>2018-10-29</td>\n",
       "      <td>1000</td>\n",
       "    </tr>\n",
       "    <tr>\n",
       "      <td>8</td>\n",
       "      <td>1000_8</td>\n",
       "      <td>2018-06-25</td>\n",
       "      <td>1000</td>\n",
       "    </tr>\n",
       "    <tr>\n",
       "      <td>9</td>\n",
       "      <td>1000_9</td>\n",
       "      <td>2018-12-18</td>\n",
       "      <td>1000</td>\n",
       "    </tr>\n",
       "  </tbody>\n",
       "</table>\n",
       "</div>"
      ],
      "text/plain": [
       "       id message_date  user_id\n",
       "0  1000_0   2018-06-27     1000\n",
       "1  1000_1   2018-10-08     1000\n",
       "2  1000_2   2018-08-04     1000\n",
       "3  1000_3   2018-06-16     1000\n",
       "4  1000_4   2018-12-05     1000\n",
       "5  1000_5   2018-06-20     1000\n",
       "6  1000_6   2018-11-19     1000\n",
       "7  1000_7   2018-10-29     1000\n",
       "8  1000_8   2018-06-25     1000\n",
       "9  1000_9   2018-12-18     1000"
      ]
     },
     "execution_count": 12,
     "metadata": {},
     "output_type": "execute_result"
    }
   ],
   "source": [
    "#первые 10 строк датасета\n",
    "messages.head(10)"
   ]
  },
  {
   "cell_type": "code",
   "execution_count": 13,
   "metadata": {},
   "outputs": [
    {
     "data": {
      "text/html": [
       "<div>\n",
       "<style scoped>\n",
       "    .dataframe tbody tr th:only-of-type {\n",
       "        vertical-align: middle;\n",
       "    }\n",
       "\n",
       "    .dataframe tbody tr th {\n",
       "        vertical-align: top;\n",
       "    }\n",
       "\n",
       "    .dataframe thead th {\n",
       "        text-align: right;\n",
       "    }\n",
       "</style>\n",
       "<table border=\"1\" class=\"dataframe\">\n",
       "  <thead>\n",
       "    <tr style=\"text-align: right;\">\n",
       "      <th></th>\n",
       "      <th>id</th>\n",
       "      <th>message_date</th>\n",
       "      <th>user_id</th>\n",
       "    </tr>\n",
       "  </thead>\n",
       "  <tbody>\n",
       "    <tr>\n",
       "      <td>123026</td>\n",
       "      <td>1499_174</td>\n",
       "      <td>2018-12-14</td>\n",
       "      <td>1499</td>\n",
       "    </tr>\n",
       "    <tr>\n",
       "      <td>123027</td>\n",
       "      <td>1499_175</td>\n",
       "      <td>2018-10-09</td>\n",
       "      <td>1499</td>\n",
       "    </tr>\n",
       "    <tr>\n",
       "      <td>123028</td>\n",
       "      <td>1499_176</td>\n",
       "      <td>2018-12-17</td>\n",
       "      <td>1499</td>\n",
       "    </tr>\n",
       "    <tr>\n",
       "      <td>123029</td>\n",
       "      <td>1499_177</td>\n",
       "      <td>2018-12-30</td>\n",
       "      <td>1499</td>\n",
       "    </tr>\n",
       "    <tr>\n",
       "      <td>123030</td>\n",
       "      <td>1499_178</td>\n",
       "      <td>2018-10-25</td>\n",
       "      <td>1499</td>\n",
       "    </tr>\n",
       "    <tr>\n",
       "      <td>123031</td>\n",
       "      <td>1499_179</td>\n",
       "      <td>2018-12-12</td>\n",
       "      <td>1499</td>\n",
       "    </tr>\n",
       "    <tr>\n",
       "      <td>123032</td>\n",
       "      <td>1499_180</td>\n",
       "      <td>2018-09-28</td>\n",
       "      <td>1499</td>\n",
       "    </tr>\n",
       "    <tr>\n",
       "      <td>123033</td>\n",
       "      <td>1499_181</td>\n",
       "      <td>2018-09-27</td>\n",
       "      <td>1499</td>\n",
       "    </tr>\n",
       "    <tr>\n",
       "      <td>123034</td>\n",
       "      <td>1499_182</td>\n",
       "      <td>2018-11-15</td>\n",
       "      <td>1499</td>\n",
       "    </tr>\n",
       "    <tr>\n",
       "      <td>123035</td>\n",
       "      <td>1499_183</td>\n",
       "      <td>2018-11-16</td>\n",
       "      <td>1499</td>\n",
       "    </tr>\n",
       "  </tbody>\n",
       "</table>\n",
       "</div>"
      ],
      "text/plain": [
       "              id message_date  user_id\n",
       "123026  1499_174   2018-12-14     1499\n",
       "123027  1499_175   2018-10-09     1499\n",
       "123028  1499_176   2018-12-17     1499\n",
       "123029  1499_177   2018-12-30     1499\n",
       "123030  1499_178   2018-10-25     1499\n",
       "123031  1499_179   2018-12-12     1499\n",
       "123032  1499_180   2018-09-28     1499\n",
       "123033  1499_181   2018-09-27     1499\n",
       "123034  1499_182   2018-11-15     1499\n",
       "123035  1499_183   2018-11-16     1499"
      ]
     },
     "execution_count": 13,
     "metadata": {},
     "output_type": "execute_result"
    }
   ],
   "source": [
    "#последние 10 строк датасета\n",
    "messages.tail(10)"
   ]
  },
  {
   "cell_type": "code",
   "execution_count": 14,
   "metadata": {},
   "outputs": [
    {
     "data": {
      "text/html": [
       "<div>\n",
       "<style scoped>\n",
       "    .dataframe tbody tr th:only-of-type {\n",
       "        vertical-align: middle;\n",
       "    }\n",
       "\n",
       "    .dataframe tbody tr th {\n",
       "        vertical-align: top;\n",
       "    }\n",
       "\n",
       "    .dataframe thead th {\n",
       "        text-align: right;\n",
       "    }\n",
       "</style>\n",
       "<table border=\"1\" class=\"dataframe\">\n",
       "  <thead>\n",
       "    <tr style=\"text-align: right;\">\n",
       "      <th></th>\n",
       "      <th>id</th>\n",
       "      <th>message_date</th>\n",
       "      <th>user_id</th>\n",
       "    </tr>\n",
       "  </thead>\n",
       "  <tbody>\n",
       "    <tr>\n",
       "      <td>35098</td>\n",
       "      <td>1150_278</td>\n",
       "      <td>2018-12-29</td>\n",
       "      <td>1150</td>\n",
       "    </tr>\n",
       "    <tr>\n",
       "      <td>33927</td>\n",
       "      <td>1147_69</td>\n",
       "      <td>2018-08-23</td>\n",
       "      <td>1147</td>\n",
       "    </tr>\n",
       "    <tr>\n",
       "      <td>78020</td>\n",
       "      <td>1330_46</td>\n",
       "      <td>2018-06-15</td>\n",
       "      <td>1330</td>\n",
       "    </tr>\n",
       "    <tr>\n",
       "      <td>39724</td>\n",
       "      <td>1168_502</td>\n",
       "      <td>2018-08-02</td>\n",
       "      <td>1168</td>\n",
       "    </tr>\n",
       "    <tr>\n",
       "      <td>118838</td>\n",
       "      <td>1482_400</td>\n",
       "      <td>2018-04-26</td>\n",
       "      <td>1482</td>\n",
       "    </tr>\n",
       "    <tr>\n",
       "      <td>80600</td>\n",
       "      <td>1335_512</td>\n",
       "      <td>2018-08-05</td>\n",
       "      <td>1335</td>\n",
       "    </tr>\n",
       "    <tr>\n",
       "      <td>118919</td>\n",
       "      <td>1482_481</td>\n",
       "      <td>2018-11-27</td>\n",
       "      <td>1482</td>\n",
       "    </tr>\n",
       "    <tr>\n",
       "      <td>122693</td>\n",
       "      <td>1498_9</td>\n",
       "      <td>2018-07-19</td>\n",
       "      <td>1498</td>\n",
       "    </tr>\n",
       "    <tr>\n",
       "      <td>77423</td>\n",
       "      <td>1326_64</td>\n",
       "      <td>2018-09-15</td>\n",
       "      <td>1326</td>\n",
       "    </tr>\n",
       "    <tr>\n",
       "      <td>101076</td>\n",
       "      <td>1414_20</td>\n",
       "      <td>2018-06-28</td>\n",
       "      <td>1414</td>\n",
       "    </tr>\n",
       "  </tbody>\n",
       "</table>\n",
       "</div>"
      ],
      "text/plain": [
       "              id message_date  user_id\n",
       "35098   1150_278   2018-12-29     1150\n",
       "33927    1147_69   2018-08-23     1147\n",
       "78020    1330_46   2018-06-15     1330\n",
       "39724   1168_502   2018-08-02     1168\n",
       "118838  1482_400   2018-04-26     1482\n",
       "80600   1335_512   2018-08-05     1335\n",
       "118919  1482_481   2018-11-27     1482\n",
       "122693    1498_9   2018-07-19     1498\n",
       "77423    1326_64   2018-09-15     1326\n",
       "101076   1414_20   2018-06-28     1414"
      ]
     },
     "execution_count": 14,
     "metadata": {},
     "output_type": "execute_result"
    }
   ],
   "source": [
    "#рандомная выборка\n",
    "messages.sample(10)"
   ]
  },
  {
   "cell_type": "code",
   "execution_count": 15,
   "metadata": {},
   "outputs": [
    {
     "name": "stdout",
     "output_type": "stream",
     "text": [
      "\n",
      "\n",
      "Общая информация\n",
      "<class 'pandas.core.frame.DataFrame'>\n",
      "RangeIndex: 123036 entries, 0 to 123035\n",
      "Data columns (total 3 columns):\n",
      "id              123036 non-null object\n",
      "message_date    123036 non-null object\n",
      "user_id         123036 non-null int64\n",
      "dtypes: int64(1), object(2)\n",
      "memory usage: 2.8+ MB\n",
      "None\n",
      "\n",
      "\n",
      "Пропуски\n",
      "id              0\n",
      "message_date    0\n",
      "user_id         0\n",
      "dtype: int64\n",
      "\n",
      "\n",
      "Дубликаты\n",
      "0\n",
      "\n",
      "\n",
      "Описательная статистика\n",
      "             user_id\n",
      "count  123036.000000\n",
      "mean     1256.989410\n",
      "std       143.523967\n",
      "min      1000.000000\n",
      "25%      1134.000000\n",
      "50%      1271.000000\n",
      "75%      1381.000000\n",
      "max      1499.000000\n"
     ]
    }
   ],
   "source": [
    "# общая информация, пропущенные значения, дубликаты, описательная статистика\n",
    "info_result(messages)"
   ]
  },
  {
   "cell_type": "markdown",
   "metadata": {},
   "source": [
    "Пропущенных значений и дубликатов нет. Тип данных столбца \"message_date\"  нужно привести к datetime, столбец \"id\" к типу данных int."
   ]
  },
  {
   "cell_type": "markdown",
   "metadata": {},
   "source": [
    "### Изучение данных таблицы internet (информация об интернет-сессиях)."
   ]
  },
  {
   "cell_type": "code",
   "execution_count": 16,
   "metadata": {},
   "outputs": [
    {
     "data": {
      "text/html": [
       "<div>\n",
       "<style scoped>\n",
       "    .dataframe tbody tr th:only-of-type {\n",
       "        vertical-align: middle;\n",
       "    }\n",
       "\n",
       "    .dataframe tbody tr th {\n",
       "        vertical-align: top;\n",
       "    }\n",
       "\n",
       "    .dataframe thead th {\n",
       "        text-align: right;\n",
       "    }\n",
       "</style>\n",
       "<table border=\"1\" class=\"dataframe\">\n",
       "  <thead>\n",
       "    <tr style=\"text-align: right;\">\n",
       "      <th></th>\n",
       "      <th>Unnamed: 0</th>\n",
       "      <th>id</th>\n",
       "      <th>mb_used</th>\n",
       "      <th>session_date</th>\n",
       "      <th>user_id</th>\n",
       "    </tr>\n",
       "  </thead>\n",
       "  <tbody>\n",
       "    <tr>\n",
       "      <td>0</td>\n",
       "      <td>0</td>\n",
       "      <td>1000_0</td>\n",
       "      <td>112.95</td>\n",
       "      <td>2018-11-25</td>\n",
       "      <td>1000</td>\n",
       "    </tr>\n",
       "    <tr>\n",
       "      <td>1</td>\n",
       "      <td>1</td>\n",
       "      <td>1000_1</td>\n",
       "      <td>1052.81</td>\n",
       "      <td>2018-09-07</td>\n",
       "      <td>1000</td>\n",
       "    </tr>\n",
       "    <tr>\n",
       "      <td>2</td>\n",
       "      <td>2</td>\n",
       "      <td>1000_2</td>\n",
       "      <td>1197.26</td>\n",
       "      <td>2018-06-25</td>\n",
       "      <td>1000</td>\n",
       "    </tr>\n",
       "    <tr>\n",
       "      <td>3</td>\n",
       "      <td>3</td>\n",
       "      <td>1000_3</td>\n",
       "      <td>550.27</td>\n",
       "      <td>2018-08-22</td>\n",
       "      <td>1000</td>\n",
       "    </tr>\n",
       "    <tr>\n",
       "      <td>4</td>\n",
       "      <td>4</td>\n",
       "      <td>1000_4</td>\n",
       "      <td>302.56</td>\n",
       "      <td>2018-09-24</td>\n",
       "      <td>1000</td>\n",
       "    </tr>\n",
       "    <tr>\n",
       "      <td>5</td>\n",
       "      <td>5</td>\n",
       "      <td>1000_5</td>\n",
       "      <td>399.97</td>\n",
       "      <td>2018-10-02</td>\n",
       "      <td>1000</td>\n",
       "    </tr>\n",
       "    <tr>\n",
       "      <td>6</td>\n",
       "      <td>6</td>\n",
       "      <td>1000_6</td>\n",
       "      <td>540.08</td>\n",
       "      <td>2018-09-07</td>\n",
       "      <td>1000</td>\n",
       "    </tr>\n",
       "    <tr>\n",
       "      <td>7</td>\n",
       "      <td>7</td>\n",
       "      <td>1000_7</td>\n",
       "      <td>415.70</td>\n",
       "      <td>2018-07-11</td>\n",
       "      <td>1000</td>\n",
       "    </tr>\n",
       "    <tr>\n",
       "      <td>8</td>\n",
       "      <td>8</td>\n",
       "      <td>1000_8</td>\n",
       "      <td>505.40</td>\n",
       "      <td>2018-10-08</td>\n",
       "      <td>1000</td>\n",
       "    </tr>\n",
       "    <tr>\n",
       "      <td>9</td>\n",
       "      <td>9</td>\n",
       "      <td>1000_9</td>\n",
       "      <td>345.54</td>\n",
       "      <td>2018-09-03</td>\n",
       "      <td>1000</td>\n",
       "    </tr>\n",
       "  </tbody>\n",
       "</table>\n",
       "</div>"
      ],
      "text/plain": [
       "   Unnamed: 0      id  mb_used session_date  user_id\n",
       "0           0  1000_0   112.95   2018-11-25     1000\n",
       "1           1  1000_1  1052.81   2018-09-07     1000\n",
       "2           2  1000_2  1197.26   2018-06-25     1000\n",
       "3           3  1000_3   550.27   2018-08-22     1000\n",
       "4           4  1000_4   302.56   2018-09-24     1000\n",
       "5           5  1000_5   399.97   2018-10-02     1000\n",
       "6           6  1000_6   540.08   2018-09-07     1000\n",
       "7           7  1000_7   415.70   2018-07-11     1000\n",
       "8           8  1000_8   505.40   2018-10-08     1000\n",
       "9           9  1000_9   345.54   2018-09-03     1000"
      ]
     },
     "execution_count": 16,
     "metadata": {},
     "output_type": "execute_result"
    }
   ],
   "source": [
    "#первые 10 строк датасета\n",
    "internet.head(10)"
   ]
  },
  {
   "cell_type": "code",
   "execution_count": 17,
   "metadata": {},
   "outputs": [
    {
     "data": {
      "text/html": [
       "<div>\n",
       "<style scoped>\n",
       "    .dataframe tbody tr th:only-of-type {\n",
       "        vertical-align: middle;\n",
       "    }\n",
       "\n",
       "    .dataframe tbody tr th {\n",
       "        vertical-align: top;\n",
       "    }\n",
       "\n",
       "    .dataframe thead th {\n",
       "        text-align: right;\n",
       "    }\n",
       "</style>\n",
       "<table border=\"1\" class=\"dataframe\">\n",
       "  <thead>\n",
       "    <tr style=\"text-align: right;\">\n",
       "      <th></th>\n",
       "      <th>Unnamed: 0</th>\n",
       "      <th>id</th>\n",
       "      <th>mb_used</th>\n",
       "      <th>session_date</th>\n",
       "      <th>user_id</th>\n",
       "    </tr>\n",
       "  </thead>\n",
       "  <tbody>\n",
       "    <tr>\n",
       "      <td>149386</td>\n",
       "      <td>149386</td>\n",
       "      <td>1499_147</td>\n",
       "      <td>0.00</td>\n",
       "      <td>2018-10-21</td>\n",
       "      <td>1499</td>\n",
       "    </tr>\n",
       "    <tr>\n",
       "      <td>149387</td>\n",
       "      <td>149387</td>\n",
       "      <td>1499_148</td>\n",
       "      <td>268.19</td>\n",
       "      <td>2018-11-13</td>\n",
       "      <td>1499</td>\n",
       "    </tr>\n",
       "    <tr>\n",
       "      <td>149388</td>\n",
       "      <td>149388</td>\n",
       "      <td>1499_149</td>\n",
       "      <td>778.68</td>\n",
       "      <td>2018-11-24</td>\n",
       "      <td>1499</td>\n",
       "    </tr>\n",
       "    <tr>\n",
       "      <td>149389</td>\n",
       "      <td>149389</td>\n",
       "      <td>1499_150</td>\n",
       "      <td>273.98</td>\n",
       "      <td>2018-11-20</td>\n",
       "      <td>1499</td>\n",
       "    </tr>\n",
       "    <tr>\n",
       "      <td>149390</td>\n",
       "      <td>149390</td>\n",
       "      <td>1499_151</td>\n",
       "      <td>752.72</td>\n",
       "      <td>2018-10-11</td>\n",
       "      <td>1499</td>\n",
       "    </tr>\n",
       "    <tr>\n",
       "      <td>149391</td>\n",
       "      <td>149391</td>\n",
       "      <td>1499_152</td>\n",
       "      <td>318.90</td>\n",
       "      <td>2018-10-03</td>\n",
       "      <td>1499</td>\n",
       "    </tr>\n",
       "    <tr>\n",
       "      <td>149392</td>\n",
       "      <td>149392</td>\n",
       "      <td>1499_153</td>\n",
       "      <td>490.13</td>\n",
       "      <td>2018-12-14</td>\n",
       "      <td>1499</td>\n",
       "    </tr>\n",
       "    <tr>\n",
       "      <td>149393</td>\n",
       "      <td>149393</td>\n",
       "      <td>1499_154</td>\n",
       "      <td>0.00</td>\n",
       "      <td>2018-10-27</td>\n",
       "      <td>1499</td>\n",
       "    </tr>\n",
       "    <tr>\n",
       "      <td>149394</td>\n",
       "      <td>149394</td>\n",
       "      <td>1499_155</td>\n",
       "      <td>1246.32</td>\n",
       "      <td>2018-11-26</td>\n",
       "      <td>1499</td>\n",
       "    </tr>\n",
       "    <tr>\n",
       "      <td>149395</td>\n",
       "      <td>149395</td>\n",
       "      <td>1499_156</td>\n",
       "      <td>544.37</td>\n",
       "      <td>2018-10-26</td>\n",
       "      <td>1499</td>\n",
       "    </tr>\n",
       "  </tbody>\n",
       "</table>\n",
       "</div>"
      ],
      "text/plain": [
       "        Unnamed: 0        id  mb_used session_date  user_id\n",
       "149386      149386  1499_147     0.00   2018-10-21     1499\n",
       "149387      149387  1499_148   268.19   2018-11-13     1499\n",
       "149388      149388  1499_149   778.68   2018-11-24     1499\n",
       "149389      149389  1499_150   273.98   2018-11-20     1499\n",
       "149390      149390  1499_151   752.72   2018-10-11     1499\n",
       "149391      149391  1499_152   318.90   2018-10-03     1499\n",
       "149392      149392  1499_153   490.13   2018-12-14     1499\n",
       "149393      149393  1499_154     0.00   2018-10-27     1499\n",
       "149394      149394  1499_155  1246.32   2018-11-26     1499\n",
       "149395      149395  1499_156   544.37   2018-10-26     1499"
      ]
     },
     "execution_count": 17,
     "metadata": {},
     "output_type": "execute_result"
    }
   ],
   "source": [
    "#последние 10 строк датасета\n",
    "internet.tail(10)"
   ]
  },
  {
   "cell_type": "code",
   "execution_count": 18,
   "metadata": {},
   "outputs": [
    {
     "data": {
      "text/html": [
       "<div>\n",
       "<style scoped>\n",
       "    .dataframe tbody tr th:only-of-type {\n",
       "        vertical-align: middle;\n",
       "    }\n",
       "\n",
       "    .dataframe tbody tr th {\n",
       "        vertical-align: top;\n",
       "    }\n",
       "\n",
       "    .dataframe thead th {\n",
       "        text-align: right;\n",
       "    }\n",
       "</style>\n",
       "<table border=\"1\" class=\"dataframe\">\n",
       "  <thead>\n",
       "    <tr style=\"text-align: right;\">\n",
       "      <th></th>\n",
       "      <th>Unnamed: 0</th>\n",
       "      <th>id</th>\n",
       "      <th>mb_used</th>\n",
       "      <th>session_date</th>\n",
       "      <th>user_id</th>\n",
       "    </tr>\n",
       "  </thead>\n",
       "  <tbody>\n",
       "    <tr>\n",
       "      <td>125612</td>\n",
       "      <td>125612</td>\n",
       "      <td>1423_69</td>\n",
       "      <td>341.81</td>\n",
       "      <td>2018-09-05</td>\n",
       "      <td>1423</td>\n",
       "    </tr>\n",
       "    <tr>\n",
       "      <td>144672</td>\n",
       "      <td>144672</td>\n",
       "      <td>1483_51</td>\n",
       "      <td>992.14</td>\n",
       "      <td>2018-06-20</td>\n",
       "      <td>1483</td>\n",
       "    </tr>\n",
       "    <tr>\n",
       "      <td>17488</td>\n",
       "      <td>17488</td>\n",
       "      <td>1059_494</td>\n",
       "      <td>0.00</td>\n",
       "      <td>2018-10-17</td>\n",
       "      <td>1059</td>\n",
       "    </tr>\n",
       "    <tr>\n",
       "      <td>76286</td>\n",
       "      <td>76286</td>\n",
       "      <td>1255_482</td>\n",
       "      <td>193.36</td>\n",
       "      <td>2018-06-21</td>\n",
       "      <td>1255</td>\n",
       "    </tr>\n",
       "    <tr>\n",
       "      <td>90286</td>\n",
       "      <td>90286</td>\n",
       "      <td>1306_20</td>\n",
       "      <td>335.07</td>\n",
       "      <td>2018-12-24</td>\n",
       "      <td>1306</td>\n",
       "    </tr>\n",
       "    <tr>\n",
       "      <td>88262</td>\n",
       "      <td>88262</td>\n",
       "      <td>1299_179</td>\n",
       "      <td>209.63</td>\n",
       "      <td>2018-03-15</td>\n",
       "      <td>1299</td>\n",
       "    </tr>\n",
       "    <tr>\n",
       "      <td>103841</td>\n",
       "      <td>103841</td>\n",
       "      <td>1352_65</td>\n",
       "      <td>553.32</td>\n",
       "      <td>2018-12-26</td>\n",
       "      <td>1352</td>\n",
       "    </tr>\n",
       "    <tr>\n",
       "      <td>84359</td>\n",
       "      <td>84359</td>\n",
       "      <td>1286_41</td>\n",
       "      <td>354.72</td>\n",
       "      <td>2018-12-29</td>\n",
       "      <td>1286</td>\n",
       "    </tr>\n",
       "    <tr>\n",
       "      <td>110277</td>\n",
       "      <td>110277</td>\n",
       "      <td>1374_488</td>\n",
       "      <td>646.39</td>\n",
       "      <td>2018-06-03</td>\n",
       "      <td>1374</td>\n",
       "    </tr>\n",
       "    <tr>\n",
       "      <td>46406</td>\n",
       "      <td>46406</td>\n",
       "      <td>1158_243</td>\n",
       "      <td>359.30</td>\n",
       "      <td>2018-02-06</td>\n",
       "      <td>1158</td>\n",
       "    </tr>\n",
       "  </tbody>\n",
       "</table>\n",
       "</div>"
      ],
      "text/plain": [
       "        Unnamed: 0        id  mb_used session_date  user_id\n",
       "125612      125612   1423_69   341.81   2018-09-05     1423\n",
       "144672      144672   1483_51   992.14   2018-06-20     1483\n",
       "17488        17488  1059_494     0.00   2018-10-17     1059\n",
       "76286        76286  1255_482   193.36   2018-06-21     1255\n",
       "90286        90286   1306_20   335.07   2018-12-24     1306\n",
       "88262        88262  1299_179   209.63   2018-03-15     1299\n",
       "103841      103841   1352_65   553.32   2018-12-26     1352\n",
       "84359        84359   1286_41   354.72   2018-12-29     1286\n",
       "110277      110277  1374_488   646.39   2018-06-03     1374\n",
       "46406        46406  1158_243   359.30   2018-02-06     1158"
      ]
     },
     "execution_count": 18,
     "metadata": {},
     "output_type": "execute_result"
    }
   ],
   "source": [
    "#рандомная выборка\n",
    "internet.sample(10)"
   ]
  },
  {
   "cell_type": "code",
   "execution_count": 19,
   "metadata": {},
   "outputs": [
    {
     "name": "stdout",
     "output_type": "stream",
     "text": [
      "\n",
      "\n",
      "Общая информация\n",
      "<class 'pandas.core.frame.DataFrame'>\n",
      "RangeIndex: 149396 entries, 0 to 149395\n",
      "Data columns (total 5 columns):\n",
      "Unnamed: 0      149396 non-null int64\n",
      "id              149396 non-null object\n",
      "mb_used         149396 non-null float64\n",
      "session_date    149396 non-null object\n",
      "user_id         149396 non-null int64\n",
      "dtypes: float64(1), int64(2), object(2)\n",
      "memory usage: 5.7+ MB\n",
      "None\n",
      "\n",
      "\n",
      "Пропуски\n",
      "Unnamed: 0      0\n",
      "id              0\n",
      "mb_used         0\n",
      "session_date    0\n",
      "user_id         0\n",
      "dtype: int64\n",
      "\n",
      "\n",
      "Дубликаты\n",
      "0\n",
      "\n",
      "\n",
      "Описательная статистика\n",
      "          Unnamed: 0        mb_used        user_id\n",
      "count  149396.000000  149396.000000  149396.000000\n",
      "mean    74697.500000     370.192426    1252.099842\n",
      "std     43127.054745     278.300951     144.050823\n",
      "min         0.000000       0.000000    1000.000000\n",
      "25%     37348.750000     138.187500    1130.000000\n",
      "50%     74697.500000     348.015000    1251.000000\n",
      "75%    112046.250000     559.552500    1380.000000\n",
      "max    149395.000000    1724.830000    1499.000000\n"
     ]
    }
   ],
   "source": [
    "# общая информация, пропущенные значения, дубликаты, описательная статистика\n",
    "info_result(internet)"
   ]
  },
  {
   "cell_type": "code",
   "execution_count": 20,
   "metadata": {},
   "outputs": [
    {
     "data": {
      "text/plain": [
       "<matplotlib.axes._subplots.AxesSubplot at 0x7f0cdf1dc210>"
      ]
     },
     "execution_count": 20,
     "metadata": {},
     "output_type": "execute_result"
    },
    {
     "data": {
      "image/png": "[encoded data removed]",
      "text/plain": [
       "<Figure size 720x360 with 1 Axes>"
      ]
     },
     "metadata": {
      "needs_background": "light"
     },
     "output_type": "display_data"
    }
   ],
   "source": [
    "# Видим на минимуме нулевые значения, посмотрим на гистограмме сколько их\n",
    "internet.plot(y='mb_used', x='user_id', kind='hist', bins=30, range=(0, 2000), grid=True, figsize=(10,5))"
   ]
  },
  {
   "cell_type": "markdown",
   "metadata": {},
   "source": [
    "Посмотрели на пользование трафиком, нулевых значений мало. Уберем нулевые значения, т.к. скорее всего в этот день человек не пользовался интернетом, но даже если и там что-то было, то возможности восстановить у нас нет и нулевые значения так же не несут никакой информативности, но могут повлиять на общий результат анализа."
   ]
  },
  {
   "cell_type": "code",
   "execution_count": 21,
   "metadata": {},
   "outputs": [
    {
     "name": "stdout",
     "output_type": "stream",
     "text": [
      "Количество записей до удаления: 149396\n",
      "Количество записей после исключения: 129798\n"
     ]
    }
   ],
   "source": [
    "# Обработаем записи о сессиях в интернете (internet)\n",
    "# Исключим из рассмотрения сессии с нулевой продолжительностью:\n",
    "print('Количество записей до удаления:', len(internet)) # 149396\n",
    "internet = internet.loc[internet['mb_used'] != 0]\n",
    "print('Количество записей после исключения:', len(internet)) # 129798 "
   ]
  },
  {
   "cell_type": "markdown",
   "metadata": {},
   "source": [
    "Пропущенных значений и дубликатов нет. Типы данных в столбце id нужно привести к int, тип данных столбца 'session_date' приведем к типу данных datetime. "
   ]
  },
  {
   "cell_type": "markdown",
   "metadata": {},
   "source": [
    "### Изучение данных таблицы tariffs (информация о тарифах)."
   ]
  },
  {
   "cell_type": "code",
   "execution_count": 22,
   "metadata": {},
   "outputs": [
    {
     "data": {
      "text/html": [
       "<div>\n",
       "<style scoped>\n",
       "    .dataframe tbody tr th:only-of-type {\n",
       "        vertical-align: middle;\n",
       "    }\n",
       "\n",
       "    .dataframe tbody tr th {\n",
       "        vertical-align: top;\n",
       "    }\n",
       "\n",
       "    .dataframe thead th {\n",
       "        text-align: right;\n",
       "    }\n",
       "</style>\n",
       "<table border=\"1\" class=\"dataframe\">\n",
       "  <thead>\n",
       "    <tr style=\"text-align: right;\">\n",
       "      <th></th>\n",
       "      <th>messages_included</th>\n",
       "      <th>mb_per_month_included</th>\n",
       "      <th>minutes_included</th>\n",
       "      <th>rub_monthly_fee</th>\n",
       "      <th>rub_per_gb</th>\n",
       "      <th>rub_per_message</th>\n",
       "      <th>rub_per_minute</th>\n",
       "      <th>tariff_name</th>\n",
       "    </tr>\n",
       "  </thead>\n",
       "  <tbody>\n",
       "    <tr>\n",
       "      <td>0</td>\n",
       "      <td>50</td>\n",
       "      <td>15360</td>\n",
       "      <td>500</td>\n",
       "      <td>550</td>\n",
       "      <td>200</td>\n",
       "      <td>3</td>\n",
       "      <td>3</td>\n",
       "      <td>smart</td>\n",
       "    </tr>\n",
       "    <tr>\n",
       "      <td>1</td>\n",
       "      <td>1000</td>\n",
       "      <td>30720</td>\n",
       "      <td>3000</td>\n",
       "      <td>1950</td>\n",
       "      <td>150</td>\n",
       "      <td>1</td>\n",
       "      <td>1</td>\n",
       "      <td>ultra</td>\n",
       "    </tr>\n",
       "  </tbody>\n",
       "</table>\n",
       "</div>"
      ],
      "text/plain": [
       "   messages_included  mb_per_month_included  minutes_included  \\\n",
       "0                 50                  15360               500   \n",
       "1               1000                  30720              3000   \n",
       "\n",
       "   rub_monthly_fee  rub_per_gb  rub_per_message  rub_per_minute tariff_name  \n",
       "0              550         200                3               3       smart  \n",
       "1             1950         150                1               1       ultra  "
      ]
     },
     "execution_count": 22,
     "metadata": {},
     "output_type": "execute_result"
    }
   ],
   "source": [
    "#первые строки датасета\n",
    "tariffs.head()"
   ]
  },
  {
   "cell_type": "code",
   "execution_count": 23,
   "metadata": {},
   "outputs": [
    {
     "name": "stdout",
     "output_type": "stream",
     "text": [
      "\n",
      "\n",
      "Общая информация\n",
      "<class 'pandas.core.frame.DataFrame'>\n",
      "RangeIndex: 2 entries, 0 to 1\n",
      "Data columns (total 8 columns):\n",
      "messages_included        2 non-null int64\n",
      "mb_per_month_included    2 non-null int64\n",
      "minutes_included         2 non-null int64\n",
      "rub_monthly_fee          2 non-null int64\n",
      "rub_per_gb               2 non-null int64\n",
      "rub_per_message          2 non-null int64\n",
      "rub_per_minute           2 non-null int64\n",
      "tariff_name              2 non-null object\n",
      "dtypes: int64(7), object(1)\n",
      "memory usage: 256.0+ bytes\n",
      "None\n",
      "\n",
      "\n",
      "Пропуски\n",
      "messages_included        0\n",
      "mb_per_month_included    0\n",
      "minutes_included         0\n",
      "rub_monthly_fee          0\n",
      "rub_per_gb               0\n",
      "rub_per_message          0\n",
      "rub_per_minute           0\n",
      "tariff_name              0\n",
      "dtype: int64\n",
      "\n",
      "\n",
      "Дубликаты\n",
      "0\n",
      "\n",
      "\n",
      "Описательная статистика\n",
      "       messages_included  mb_per_month_included  minutes_included  \\\n",
      "count           2.000000               2.000000          2.000000   \n",
      "mean          525.000000           23040.000000       1750.000000   \n",
      "std           671.751442           10861.160159       1767.766953   \n",
      "min            50.000000           15360.000000        500.000000   \n",
      "25%           287.500000           19200.000000       1125.000000   \n",
      "50%           525.000000           23040.000000       1750.000000   \n",
      "75%           762.500000           26880.000000       2375.000000   \n",
      "max          1000.000000           30720.000000       3000.000000   \n",
      "\n",
      "       rub_monthly_fee  rub_per_gb  rub_per_message  rub_per_minute  \n",
      "count         2.000000    2.000000         2.000000        2.000000  \n",
      "mean       1250.000000  175.000000         2.000000        2.000000  \n",
      "std         989.949494   35.355339         1.414214        1.414214  \n",
      "min         550.000000  150.000000         1.000000        1.000000  \n",
      "25%         900.000000  162.500000         1.500000        1.500000  \n",
      "50%        1250.000000  175.000000         2.000000        2.000000  \n",
      "75%        1600.000000  187.500000         2.500000        2.500000  \n",
      "max        1950.000000  200.000000         3.000000        3.000000  \n"
     ]
    }
   ],
   "source": [
    "# общая информация, пропущенные значения, дубликаты, описательная статистика\n",
    "info_result(tariffs)"
   ]
  },
  {
   "cell_type": "markdown",
   "metadata": {},
   "source": [
    "Данные в порядке. Пропущенных значений и дубликатов не наблюдаем."
   ]
  },
  {
   "cell_type": "markdown",
   "metadata": {},
   "source": [
    "### Вывод\n",
    "\n",
    "Необходимо выполнить следующее:\n",
    "- в таблице users: изменить тип данных в столбцах \"дата подключения тарифа\" (reg_date) и \"дата прекращения пользования тарифом\"(churn_date) к типу datetime\n",
    "- в таблице calls: тип данных в столбце \"call_date\" — дата звонка, нужно привести к типу данных - datetime, столбец \"id\" к типу данных int.,  столбец \"duration\" (длительность звонка в минутах) тип данных float привести к типу данных int, округлив вверх, так как оперетор связи по условиям задания, каждый звонок округляет отдельно: даже если он длился всего 1 секунду, будет засчитан как 1 минута.\n",
    "- в таблице message: Тип данных столбца \"message_date\" нужно привести к datetime, столбец \"id\" к типу данных int.\n",
    "- в таблице internet: типы данных в столбце id нужно привести к int, тип данных столбца 'session_date' приведем к типу данных datetime"
   ]
  },
  {
   "cell_type": "markdown",
   "metadata": {},
   "source": [
    "## Предобработка данных"
   ]
  },
  {
   "cell_type": "markdown",
   "metadata": {},
   "source": [
    "### Замена типов данных"
   ]
  },
  {
   "cell_type": "code",
   "execution_count": 24,
   "metadata": {},
   "outputs": [],
   "source": [
    "# заменим типы данных в столбце users\n",
    "users['churn_date'] = pd.to_datetime(users['churn_date'], format=\"%Y-%m-%d\")\n",
    "users['reg_date'] = pd.to_datetime(users['reg_date'], format=\"%Y-%m-%d\")"
   ]
  },
  {
   "cell_type": "code",
   "execution_count": 25,
   "metadata": {},
   "outputs": [
    {
     "name": "stdout",
     "output_type": "stream",
     "text": [
      "<class 'pandas.core.frame.DataFrame'>\n",
      "RangeIndex: 500 entries, 0 to 499\n",
      "Data columns (total 8 columns):\n",
      "user_id       500 non-null int64\n",
      "age           500 non-null int64\n",
      "churn_date    38 non-null datetime64[ns]\n",
      "city          500 non-null object\n",
      "first_name    500 non-null object\n",
      "last_name     500 non-null object\n",
      "reg_date      500 non-null datetime64[ns]\n",
      "tariff        500 non-null object\n",
      "dtypes: datetime64[ns](2), int64(2), object(4)\n",
      "memory usage: 31.4+ KB\n"
     ]
    }
   ],
   "source": [
    "#проверим\n",
    "users.info()"
   ]
  },
  {
   "cell_type": "code",
   "execution_count": 26,
   "metadata": {},
   "outputs": [],
   "source": [
    "#заменим типы данных в таблице calls\n",
    "calls['call_date'] = pd.to_datetime(calls['call_date'], format=\"%Y-%m-%d\")\n",
    "calls['id'] = calls['id'].astype('int')"
   ]
  },
  {
   "cell_type": "code",
   "execution_count": 27,
   "metadata": {},
   "outputs": [
    {
     "name": "stdout",
     "output_type": "stream",
     "text": [
      "<class 'pandas.core.frame.DataFrame'>\n",
      "RangeIndex: 202607 entries, 0 to 202606\n",
      "Data columns (total 4 columns):\n",
      "id           202607 non-null int64\n",
      "call_date    202607 non-null datetime64[ns]\n",
      "duration     202607 non-null float64\n",
      "user_id      202607 non-null int64\n",
      "dtypes: datetime64[ns](1), float64(1), int64(2)\n",
      "memory usage: 6.2 MB\n"
     ]
    }
   ],
   "source": [
    "#проверим\n",
    "calls.info()"
   ]
  },
  {
   "cell_type": "code",
   "execution_count": 28,
   "metadata": {},
   "outputs": [
    {
     "data": {
      "text/html": [
       "<div>\n",
       "<style scoped>\n",
       "    .dataframe tbody tr th:only-of-type {\n",
       "        vertical-align: middle;\n",
       "    }\n",
       "\n",
       "    .dataframe tbody tr th {\n",
       "        vertical-align: top;\n",
       "    }\n",
       "\n",
       "    .dataframe thead th {\n",
       "        text-align: right;\n",
       "    }\n",
       "</style>\n",
       "<table border=\"1\" class=\"dataframe\">\n",
       "  <thead>\n",
       "    <tr style=\"text-align: right;\">\n",
       "      <th></th>\n",
       "      <th>id</th>\n",
       "      <th>call_date</th>\n",
       "      <th>duration</th>\n",
       "      <th>user_id</th>\n",
       "    </tr>\n",
       "  </thead>\n",
       "  <tbody>\n",
       "    <tr>\n",
       "      <td>0</td>\n",
       "      <td>10000</td>\n",
       "      <td>2018-07-25</td>\n",
       "      <td>0.0</td>\n",
       "      <td>1000</td>\n",
       "    </tr>\n",
       "    <tr>\n",
       "      <td>1</td>\n",
       "      <td>10001</td>\n",
       "      <td>2018-08-17</td>\n",
       "      <td>0.0</td>\n",
       "      <td>1000</td>\n",
       "    </tr>\n",
       "    <tr>\n",
       "      <td>2</td>\n",
       "      <td>10002</td>\n",
       "      <td>2018-06-11</td>\n",
       "      <td>3.0</td>\n",
       "      <td>1000</td>\n",
       "    </tr>\n",
       "    <tr>\n",
       "      <td>3</td>\n",
       "      <td>10003</td>\n",
       "      <td>2018-09-21</td>\n",
       "      <td>14.0</td>\n",
       "      <td>1000</td>\n",
       "    </tr>\n",
       "    <tr>\n",
       "      <td>4</td>\n",
       "      <td>10004</td>\n",
       "      <td>2018-12-15</td>\n",
       "      <td>6.0</td>\n",
       "      <td>1000</td>\n",
       "    </tr>\n",
       "    <tr>\n",
       "      <td>5</td>\n",
       "      <td>10005</td>\n",
       "      <td>2018-11-02</td>\n",
       "      <td>0.0</td>\n",
       "      <td>1000</td>\n",
       "    </tr>\n",
       "    <tr>\n",
       "      <td>6</td>\n",
       "      <td>10006</td>\n",
       "      <td>2018-10-18</td>\n",
       "      <td>0.0</td>\n",
       "      <td>1000</td>\n",
       "    </tr>\n",
       "    <tr>\n",
       "      <td>7</td>\n",
       "      <td>10007</td>\n",
       "      <td>2018-08-22</td>\n",
       "      <td>19.0</td>\n",
       "      <td>1000</td>\n",
       "    </tr>\n",
       "    <tr>\n",
       "      <td>8</td>\n",
       "      <td>10008</td>\n",
       "      <td>2018-09-15</td>\n",
       "      <td>19.0</td>\n",
       "      <td>1000</td>\n",
       "    </tr>\n",
       "    <tr>\n",
       "      <td>9</td>\n",
       "      <td>10009</td>\n",
       "      <td>2018-08-15</td>\n",
       "      <td>0.0</td>\n",
       "      <td>1000</td>\n",
       "    </tr>\n",
       "  </tbody>\n",
       "</table>\n",
       "</div>"
      ],
      "text/plain": [
       "      id  call_date  duration  user_id\n",
       "0  10000 2018-07-25       0.0     1000\n",
       "1  10001 2018-08-17       0.0     1000\n",
       "2  10002 2018-06-11       3.0     1000\n",
       "3  10003 2018-09-21      14.0     1000\n",
       "4  10004 2018-12-15       6.0     1000\n",
       "5  10005 2018-11-02       0.0     1000\n",
       "6  10006 2018-10-18       0.0     1000\n",
       "7  10007 2018-08-22      19.0     1000\n",
       "8  10008 2018-09-15      19.0     1000\n",
       "9  10009 2018-08-15       0.0     1000"
      ]
     },
     "execution_count": 28,
     "metadata": {},
     "output_type": "execute_result"
    }
   ],
   "source": [
    "#округлим в большую сторону данные столбца \"duration\" и проверим\n",
    "calls['duration'] = np.ceil(calls['duration'])\n",
    "calls.head(10)"
   ]
  },
  {
   "cell_type": "code",
   "execution_count": 29,
   "metadata": {},
   "outputs": [
    {
     "data": {
      "text/html": [
       "<div>\n",
       "<style scoped>\n",
       "    .dataframe tbody tr th:only-of-type {\n",
       "        vertical-align: middle;\n",
       "    }\n",
       "\n",
       "    .dataframe tbody tr th {\n",
       "        vertical-align: top;\n",
       "    }\n",
       "\n",
       "    .dataframe thead th {\n",
       "        text-align: right;\n",
       "    }\n",
       "</style>\n",
       "<table border=\"1\" class=\"dataframe\">\n",
       "  <thead>\n",
       "    <tr style=\"text-align: right;\">\n",
       "      <th></th>\n",
       "      <th>id</th>\n",
       "      <th>call_date</th>\n",
       "      <th>duration</th>\n",
       "      <th>user_id</th>\n",
       "    </tr>\n",
       "  </thead>\n",
       "  <tbody>\n",
       "    <tr>\n",
       "      <td>0</td>\n",
       "      <td>10000</td>\n",
       "      <td>2018-07-25</td>\n",
       "      <td>0</td>\n",
       "      <td>1000</td>\n",
       "    </tr>\n",
       "    <tr>\n",
       "      <td>1</td>\n",
       "      <td>10001</td>\n",
       "      <td>2018-08-17</td>\n",
       "      <td>0</td>\n",
       "      <td>1000</td>\n",
       "    </tr>\n",
       "    <tr>\n",
       "      <td>2</td>\n",
       "      <td>10002</td>\n",
       "      <td>2018-06-11</td>\n",
       "      <td>3</td>\n",
       "      <td>1000</td>\n",
       "    </tr>\n",
       "    <tr>\n",
       "      <td>3</td>\n",
       "      <td>10003</td>\n",
       "      <td>2018-09-21</td>\n",
       "      <td>14</td>\n",
       "      <td>1000</td>\n",
       "    </tr>\n",
       "    <tr>\n",
       "      <td>4</td>\n",
       "      <td>10004</td>\n",
       "      <td>2018-12-15</td>\n",
       "      <td>6</td>\n",
       "      <td>1000</td>\n",
       "    </tr>\n",
       "    <tr>\n",
       "      <td>5</td>\n",
       "      <td>10005</td>\n",
       "      <td>2018-11-02</td>\n",
       "      <td>0</td>\n",
       "      <td>1000</td>\n",
       "    </tr>\n",
       "    <tr>\n",
       "      <td>6</td>\n",
       "      <td>10006</td>\n",
       "      <td>2018-10-18</td>\n",
       "      <td>0</td>\n",
       "      <td>1000</td>\n",
       "    </tr>\n",
       "    <tr>\n",
       "      <td>7</td>\n",
       "      <td>10007</td>\n",
       "      <td>2018-08-22</td>\n",
       "      <td>19</td>\n",
       "      <td>1000</td>\n",
       "    </tr>\n",
       "    <tr>\n",
       "      <td>8</td>\n",
       "      <td>10008</td>\n",
       "      <td>2018-09-15</td>\n",
       "      <td>19</td>\n",
       "      <td>1000</td>\n",
       "    </tr>\n",
       "    <tr>\n",
       "      <td>9</td>\n",
       "      <td>10009</td>\n",
       "      <td>2018-08-15</td>\n",
       "      <td>0</td>\n",
       "      <td>1000</td>\n",
       "    </tr>\n",
       "  </tbody>\n",
       "</table>\n",
       "</div>"
      ],
      "text/plain": [
       "      id  call_date  duration  user_id\n",
       "0  10000 2018-07-25         0     1000\n",
       "1  10001 2018-08-17         0     1000\n",
       "2  10002 2018-06-11         3     1000\n",
       "3  10003 2018-09-21        14     1000\n",
       "4  10004 2018-12-15         6     1000\n",
       "5  10005 2018-11-02         0     1000\n",
       "6  10006 2018-10-18         0     1000\n",
       "7  10007 2018-08-22        19     1000\n",
       "8  10008 2018-09-15        19     1000\n",
       "9  10009 2018-08-15         0     1000"
      ]
     },
     "execution_count": 29,
     "metadata": {},
     "output_type": "execute_result"
    }
   ],
   "source": [
    "calls['duration'] = calls['duration'].astype('int')\n",
    "calls.head(10)"
   ]
  },
  {
   "cell_type": "code",
   "execution_count": 30,
   "metadata": {},
   "outputs": [
    {
     "name": "stdout",
     "output_type": "stream",
     "text": [
      "<class 'pandas.core.frame.DataFrame'>\n",
      "RangeIndex: 123036 entries, 0 to 123035\n",
      "Data columns (total 3 columns):\n",
      "id              123036 non-null int64\n",
      "message_date    123036 non-null datetime64[ns]\n",
      "user_id         123036 non-null int64\n",
      "dtypes: datetime64[ns](1), int64(2)\n",
      "memory usage: 2.8 MB\n"
     ]
    }
   ],
   "source": [
    "#заменим типы данных в столбце message и проверим\n",
    "messages['message_date'] = pd.to_datetime(messages['message_date'], format=\"%Y-%m-%d\")\n",
    "messages['id'] = messages['id'].astype('int')\n",
    "messages.info()"
   ]
  },
  {
   "cell_type": "code",
   "execution_count": 31,
   "metadata": {},
   "outputs": [
    {
     "name": "stdout",
     "output_type": "stream",
     "text": [
      "<class 'pandas.core.frame.DataFrame'>\n",
      "Int64Index: 129798 entries, 0 to 149395\n",
      "Data columns (total 5 columns):\n",
      "Unnamed: 0      129798 non-null int64\n",
      "id              129798 non-null int64\n",
      "mb_used         129798 non-null float64\n",
      "session_date    129798 non-null datetime64[ns]\n",
      "user_id         129798 non-null int64\n",
      "dtypes: datetime64[ns](1), float64(1), int64(3)\n",
      "memory usage: 5.9 MB\n"
     ]
    }
   ],
   "source": [
    "#заменим типы данных в толбце internet и проверим\n",
    "internet['session_date'] = pd.to_datetime(internet['session_date'], format=\"%Y-%m-%d\")\n",
    "internet['id'] = internet['id'].astype('int')\n",
    "internet.info()"
   ]
  },
  {
   "cell_type": "markdown",
   "metadata": {},
   "source": [
    "### Количество совершенных звонков и израсходованных минут разговора по месяцам"
   ]
  },
  {
   "cell_type": "code",
   "execution_count": 32,
   "metadata": {},
   "outputs": [
    {
     "data": {
      "text/html": [
       "<div>\n",
       "<style scoped>\n",
       "    .dataframe tbody tr th:only-of-type {\n",
       "        vertical-align: middle;\n",
       "    }\n",
       "\n",
       "    .dataframe tbody tr th {\n",
       "        vertical-align: top;\n",
       "    }\n",
       "\n",
       "    .dataframe thead th {\n",
       "        text-align: right;\n",
       "    }\n",
       "</style>\n",
       "<table border=\"1\" class=\"dataframe\">\n",
       "  <thead>\n",
       "    <tr style=\"text-align: right;\">\n",
       "      <th></th>\n",
       "      <th>id</th>\n",
       "      <th>call_date</th>\n",
       "      <th>duration</th>\n",
       "      <th>user_id</th>\n",
       "      <th>month</th>\n",
       "    </tr>\n",
       "  </thead>\n",
       "  <tbody>\n",
       "    <tr>\n",
       "      <td>0</td>\n",
       "      <td>10000</td>\n",
       "      <td>2018-07-25</td>\n",
       "      <td>0</td>\n",
       "      <td>1000</td>\n",
       "      <td>7</td>\n",
       "    </tr>\n",
       "    <tr>\n",
       "      <td>1</td>\n",
       "      <td>10001</td>\n",
       "      <td>2018-08-17</td>\n",
       "      <td>0</td>\n",
       "      <td>1000</td>\n",
       "      <td>8</td>\n",
       "    </tr>\n",
       "    <tr>\n",
       "      <td>2</td>\n",
       "      <td>10002</td>\n",
       "      <td>2018-06-11</td>\n",
       "      <td>3</td>\n",
       "      <td>1000</td>\n",
       "      <td>6</td>\n",
       "    </tr>\n",
       "    <tr>\n",
       "      <td>3</td>\n",
       "      <td>10003</td>\n",
       "      <td>2018-09-21</td>\n",
       "      <td>14</td>\n",
       "      <td>1000</td>\n",
       "      <td>9</td>\n",
       "    </tr>\n",
       "    <tr>\n",
       "      <td>4</td>\n",
       "      <td>10004</td>\n",
       "      <td>2018-12-15</td>\n",
       "      <td>6</td>\n",
       "      <td>1000</td>\n",
       "      <td>12</td>\n",
       "    </tr>\n",
       "    <tr>\n",
       "      <td>5</td>\n",
       "      <td>10005</td>\n",
       "      <td>2018-11-02</td>\n",
       "      <td>0</td>\n",
       "      <td>1000</td>\n",
       "      <td>11</td>\n",
       "    </tr>\n",
       "    <tr>\n",
       "      <td>6</td>\n",
       "      <td>10006</td>\n",
       "      <td>2018-10-18</td>\n",
       "      <td>0</td>\n",
       "      <td>1000</td>\n",
       "      <td>10</td>\n",
       "    </tr>\n",
       "    <tr>\n",
       "      <td>7</td>\n",
       "      <td>10007</td>\n",
       "      <td>2018-08-22</td>\n",
       "      <td>19</td>\n",
       "      <td>1000</td>\n",
       "      <td>8</td>\n",
       "    </tr>\n",
       "    <tr>\n",
       "      <td>8</td>\n",
       "      <td>10008</td>\n",
       "      <td>2018-09-15</td>\n",
       "      <td>19</td>\n",
       "      <td>1000</td>\n",
       "      <td>9</td>\n",
       "    </tr>\n",
       "    <tr>\n",
       "      <td>9</td>\n",
       "      <td>10009</td>\n",
       "      <td>2018-08-15</td>\n",
       "      <td>0</td>\n",
       "      <td>1000</td>\n",
       "      <td>8</td>\n",
       "    </tr>\n",
       "  </tbody>\n",
       "</table>\n",
       "</div>"
      ],
      "text/plain": [
       "      id  call_date  duration  user_id  month\n",
       "0  10000 2018-07-25         0     1000      7\n",
       "1  10001 2018-08-17         0     1000      8\n",
       "2  10002 2018-06-11         3     1000      6\n",
       "3  10003 2018-09-21        14     1000      9\n",
       "4  10004 2018-12-15         6     1000     12\n",
       "5  10005 2018-11-02         0     1000     11\n",
       "6  10006 2018-10-18         0     1000     10\n",
       "7  10007 2018-08-22        19     1000      8\n",
       "8  10008 2018-09-15        19     1000      9\n",
       "9  10009 2018-08-15         0     1000      8"
      ]
     },
     "execution_count": 32,
     "metadata": {},
     "output_type": "execute_result"
    }
   ],
   "source": [
    "#для удобства столбец с месяцами переводим более удобный тип\n",
    "calls['month'] = calls['call_date'].dt.month\n",
    "calls.head(10)"
   ]
  },
  {
   "cell_type": "code",
   "execution_count": 33,
   "metadata": {},
   "outputs": [],
   "source": [
    "#расчитаем количество и добавим в таблицу\n",
    "user_calls = calls.groupby(['user_id', 'month'])\\\n",
    "                  .agg({'duration':'sum', 'id':'count'})\\\n",
    "                  .reset_index().rename(columns={'duration':'calls_duration','id':'calls_total'})"
   ]
  },
  {
   "cell_type": "code",
   "execution_count": 34,
   "metadata": {},
   "outputs": [
    {
     "data": {
      "text/html": [
       "<div>\n",
       "<style scoped>\n",
       "    .dataframe tbody tr th:only-of-type {\n",
       "        vertical-align: middle;\n",
       "    }\n",
       "\n",
       "    .dataframe tbody tr th {\n",
       "        vertical-align: top;\n",
       "    }\n",
       "\n",
       "    .dataframe thead th {\n",
       "        text-align: right;\n",
       "    }\n",
       "</style>\n",
       "<table border=\"1\" class=\"dataframe\">\n",
       "  <thead>\n",
       "    <tr style=\"text-align: right;\">\n",
       "      <th></th>\n",
       "      <th>user_id</th>\n",
       "      <th>month</th>\n",
       "      <th>calls_duration</th>\n",
       "      <th>calls_total</th>\n",
       "    </tr>\n",
       "  </thead>\n",
       "  <tbody>\n",
       "    <tr>\n",
       "      <td>0</td>\n",
       "      <td>1000</td>\n",
       "      <td>5</td>\n",
       "      <td>159</td>\n",
       "      <td>22</td>\n",
       "    </tr>\n",
       "    <tr>\n",
       "      <td>1</td>\n",
       "      <td>1000</td>\n",
       "      <td>6</td>\n",
       "      <td>172</td>\n",
       "      <td>43</td>\n",
       "    </tr>\n",
       "    <tr>\n",
       "      <td>2</td>\n",
       "      <td>1000</td>\n",
       "      <td>7</td>\n",
       "      <td>340</td>\n",
       "      <td>47</td>\n",
       "    </tr>\n",
       "    <tr>\n",
       "      <td>3</td>\n",
       "      <td>1000</td>\n",
       "      <td>8</td>\n",
       "      <td>408</td>\n",
       "      <td>52</td>\n",
       "    </tr>\n",
       "    <tr>\n",
       "      <td>4</td>\n",
       "      <td>1000</td>\n",
       "      <td>9</td>\n",
       "      <td>466</td>\n",
       "      <td>58</td>\n",
       "    </tr>\n",
       "  </tbody>\n",
       "</table>\n",
       "</div>"
      ],
      "text/plain": [
       "   user_id  month  calls_duration  calls_total\n",
       "0     1000      5             159           22\n",
       "1     1000      6             172           43\n",
       "2     1000      7             340           47\n",
       "3     1000      8             408           52\n",
       "4     1000      9             466           58"
      ]
     },
     "execution_count": 34,
     "metadata": {},
     "output_type": "execute_result"
    }
   ],
   "source": [
    "user_calls.head()\n"
   ]
  },
  {
   "cell_type": "markdown",
   "metadata": {},
   "source": [
    "### Количество отправленных сообщений по месяцам"
   ]
  },
  {
   "cell_type": "code",
   "execution_count": 35,
   "metadata": {},
   "outputs": [
    {
     "data": {
      "text/html": [
       "<div>\n",
       "<style scoped>\n",
       "    .dataframe tbody tr th:only-of-type {\n",
       "        vertical-align: middle;\n",
       "    }\n",
       "\n",
       "    .dataframe tbody tr th {\n",
       "        vertical-align: top;\n",
       "    }\n",
       "\n",
       "    .dataframe thead th {\n",
       "        text-align: right;\n",
       "    }\n",
       "</style>\n",
       "<table border=\"1\" class=\"dataframe\">\n",
       "  <thead>\n",
       "    <tr style=\"text-align: right;\">\n",
       "      <th></th>\n",
       "      <th>user_id</th>\n",
       "      <th>month</th>\n",
       "      <th>sms_total</th>\n",
       "    </tr>\n",
       "  </thead>\n",
       "  <tbody>\n",
       "    <tr>\n",
       "      <td>0</td>\n",
       "      <td>1000</td>\n",
       "      <td>5</td>\n",
       "      <td>22</td>\n",
       "    </tr>\n",
       "    <tr>\n",
       "      <td>1</td>\n",
       "      <td>1000</td>\n",
       "      <td>6</td>\n",
       "      <td>60</td>\n",
       "    </tr>\n",
       "    <tr>\n",
       "      <td>2</td>\n",
       "      <td>1000</td>\n",
       "      <td>7</td>\n",
       "      <td>75</td>\n",
       "    </tr>\n",
       "    <tr>\n",
       "      <td>3</td>\n",
       "      <td>1000</td>\n",
       "      <td>8</td>\n",
       "      <td>81</td>\n",
       "    </tr>\n",
       "    <tr>\n",
       "      <td>4</td>\n",
       "      <td>1000</td>\n",
       "      <td>9</td>\n",
       "      <td>57</td>\n",
       "    </tr>\n",
       "  </tbody>\n",
       "</table>\n",
       "</div>"
      ],
      "text/plain": [
       "   user_id  month  sms_total\n",
       "0     1000      5         22\n",
       "1     1000      6         60\n",
       "2     1000      7         75\n",
       "3     1000      8         81\n",
       "4     1000      9         57"
      ]
     },
     "execution_count": 35,
     "metadata": {},
     "output_type": "execute_result"
    }
   ],
   "source": [
    "#расчитаем количество сообщений по месяцам и добавим в таблицу\n",
    "messages['month'] = messages['message_date'].dt.month\n",
    "users_messages = messages.groupby(['user_id', 'month'])\\\n",
    "                        .agg({'id':'count'})\\\n",
    "                        .reset_index()\\\n",
    "                        .rename(columns={'id':'sms_total'})\n",
    "users_messages.head()"
   ]
  },
  {
   "cell_type": "markdown",
   "metadata": {},
   "source": [
    "### Объем израсходованного интернет-трафика по месяцам"
   ]
  },
  {
   "cell_type": "code",
   "execution_count": 36,
   "metadata": {},
   "outputs": [
    {
     "data": {
      "text/html": [
       "<div>\n",
       "<style scoped>\n",
       "    .dataframe tbody tr th:only-of-type {\n",
       "        vertical-align: middle;\n",
       "    }\n",
       "\n",
       "    .dataframe tbody tr th {\n",
       "        vertical-align: top;\n",
       "    }\n",
       "\n",
       "    .dataframe thead th {\n",
       "        text-align: right;\n",
       "    }\n",
       "</style>\n",
       "<table border=\"1\" class=\"dataframe\">\n",
       "  <thead>\n",
       "    <tr style=\"text-align: right;\">\n",
       "      <th></th>\n",
       "      <th>user_id</th>\n",
       "      <th>month</th>\n",
       "      <th>gb_total_internet</th>\n",
       "    </tr>\n",
       "  </thead>\n",
       "  <tbody>\n",
       "    <tr>\n",
       "      <td>0</td>\n",
       "      <td>1000</td>\n",
       "      <td>5</td>\n",
       "      <td>2253.49</td>\n",
       "    </tr>\n",
       "    <tr>\n",
       "      <td>1</td>\n",
       "      <td>1000</td>\n",
       "      <td>6</td>\n",
       "      <td>23233.77</td>\n",
       "    </tr>\n",
       "    <tr>\n",
       "      <td>2</td>\n",
       "      <td>1000</td>\n",
       "      <td>7</td>\n",
       "      <td>14003.64</td>\n",
       "    </tr>\n",
       "    <tr>\n",
       "      <td>3</td>\n",
       "      <td>1000</td>\n",
       "      <td>8</td>\n",
       "      <td>14055.93</td>\n",
       "    </tr>\n",
       "    <tr>\n",
       "      <td>4</td>\n",
       "      <td>1000</td>\n",
       "      <td>9</td>\n",
       "      <td>14568.91</td>\n",
       "    </tr>\n",
       "  </tbody>\n",
       "</table>\n",
       "</div>"
      ],
      "text/plain": [
       "   user_id  month  gb_total_internet\n",
       "0     1000      5            2253.49\n",
       "1     1000      6           23233.77\n",
       "2     1000      7           14003.64\n",
       "3     1000      8           14055.93\n",
       "4     1000      9           14568.91"
      ]
     },
     "execution_count": 36,
     "metadata": {},
     "output_type": "execute_result"
    }
   ],
   "source": [
    "#расчитаем объем интернет трафика по месяцам и добавим в таблицу и переименуем столбец для удобства дальнейшей работы\n",
    "internet['month'] = internet['session_date'].dt.month\n",
    "users_internet = internet.groupby(['user_id', 'month'])\\\n",
    "                        .agg({'mb_used':'sum'})\\\n",
    "                        .reset_index()\\\n",
    "                        .rename(columns={'mb_used':'gb_total_internet'})\n",
    "users_internet.head()"
   ]
  },
  {
   "cell_type": "code",
   "execution_count": 37,
   "metadata": {},
   "outputs": [
    {
     "data": {
      "text/html": [
       "<div>\n",
       "<style scoped>\n",
       "    .dataframe tbody tr th:only-of-type {\n",
       "        vertical-align: middle;\n",
       "    }\n",
       "\n",
       "    .dataframe tbody tr th {\n",
       "        vertical-align: top;\n",
       "    }\n",
       "\n",
       "    .dataframe thead th {\n",
       "        text-align: right;\n",
       "    }\n",
       "</style>\n",
       "<table border=\"1\" class=\"dataframe\">\n",
       "  <thead>\n",
       "    <tr style=\"text-align: right;\">\n",
       "      <th></th>\n",
       "      <th>user_id</th>\n",
       "      <th>month</th>\n",
       "      <th>gb_total_internet</th>\n",
       "    </tr>\n",
       "  </thead>\n",
       "  <tbody>\n",
       "    <tr>\n",
       "      <td>0</td>\n",
       "      <td>1000</td>\n",
       "      <td>5</td>\n",
       "      <td>3.0</td>\n",
       "    </tr>\n",
       "    <tr>\n",
       "      <td>1</td>\n",
       "      <td>1000</td>\n",
       "      <td>6</td>\n",
       "      <td>23.0</td>\n",
       "    </tr>\n",
       "    <tr>\n",
       "      <td>2</td>\n",
       "      <td>1000</td>\n",
       "      <td>7</td>\n",
       "      <td>14.0</td>\n",
       "    </tr>\n",
       "    <tr>\n",
       "      <td>3</td>\n",
       "      <td>1000</td>\n",
       "      <td>8</td>\n",
       "      <td>14.0</td>\n",
       "    </tr>\n",
       "    <tr>\n",
       "      <td>4</td>\n",
       "      <td>1000</td>\n",
       "      <td>9</td>\n",
       "      <td>15.0</td>\n",
       "    </tr>\n",
       "    <tr>\n",
       "      <td>5</td>\n",
       "      <td>1000</td>\n",
       "      <td>10</td>\n",
       "      <td>15.0</td>\n",
       "    </tr>\n",
       "    <tr>\n",
       "      <td>6</td>\n",
       "      <td>1000</td>\n",
       "      <td>11</td>\n",
       "      <td>15.0</td>\n",
       "    </tr>\n",
       "    <tr>\n",
       "      <td>7</td>\n",
       "      <td>1000</td>\n",
       "      <td>12</td>\n",
       "      <td>10.0</td>\n",
       "    </tr>\n",
       "    <tr>\n",
       "      <td>8</td>\n",
       "      <td>1001</td>\n",
       "      <td>11</td>\n",
       "      <td>18.0</td>\n",
       "    </tr>\n",
       "    <tr>\n",
       "      <td>9</td>\n",
       "      <td>1001</td>\n",
       "      <td>12</td>\n",
       "      <td>14.0</td>\n",
       "    </tr>\n",
       "  </tbody>\n",
       "</table>\n",
       "</div>"
      ],
      "text/plain": [
       "   user_id  month  gb_total_internet\n",
       "0     1000      5                3.0\n",
       "1     1000      6               23.0\n",
       "2     1000      7               14.0\n",
       "3     1000      8               14.0\n",
       "4     1000      9               15.0\n",
       "5     1000     10               15.0\n",
       "6     1000     11               15.0\n",
       "7     1000     12               10.0\n",
       "8     1001     11               18.0\n",
       "9     1001     12               14.0"
      ]
     },
     "execution_count": 37,
     "metadata": {},
     "output_type": "execute_result"
    }
   ],
   "source": [
    "#Для удобства дальнейших расчетов переведем столбец с мегабайтами в гигабайты.\n",
    "# Насколько мы знаем, что гигабайт равен 1024 мб,\n",
    "# то и будем делить на это число.\n",
    "#Так же округлим вверх до ГБ, т.к. оператор в дальнейшем списывает средства за потраченные ГБ, а не МБ\n",
    "users_internet['gb_total_internet'] = users_internet.gb_total_internet / 1024\n",
    "users_internet.gb_total_internet = np.ceil(users_internet.gb_total_internet)\n",
    "users_internet.head(10)"
   ]
  },
  {
   "cell_type": "code",
   "execution_count": 38,
   "metadata": {},
   "outputs": [
    {
     "data": {
      "text/html": [
       "<div>\n",
       "<style scoped>\n",
       "    .dataframe tbody tr th:only-of-type {\n",
       "        vertical-align: middle;\n",
       "    }\n",
       "\n",
       "    .dataframe tbody tr th {\n",
       "        vertical-align: top;\n",
       "    }\n",
       "\n",
       "    .dataframe thead th {\n",
       "        text-align: right;\n",
       "    }\n",
       "</style>\n",
       "<table border=\"1\" class=\"dataframe\">\n",
       "  <thead>\n",
       "    <tr style=\"text-align: right;\">\n",
       "      <th></th>\n",
       "      <th>messages_included</th>\n",
       "      <th>gb_per_month_included</th>\n",
       "      <th>minutes_included</th>\n",
       "      <th>rub_monthly_fee</th>\n",
       "      <th>rub_per_gb</th>\n",
       "      <th>rub_per_message</th>\n",
       "      <th>rub_per_minute</th>\n",
       "      <th>tariff_name</th>\n",
       "    </tr>\n",
       "  </thead>\n",
       "  <tbody>\n",
       "    <tr>\n",
       "      <td>0</td>\n",
       "      <td>50</td>\n",
       "      <td>15.0</td>\n",
       "      <td>500</td>\n",
       "      <td>550</td>\n",
       "      <td>200</td>\n",
       "      <td>3</td>\n",
       "      <td>3</td>\n",
       "      <td>smart</td>\n",
       "    </tr>\n",
       "    <tr>\n",
       "      <td>1</td>\n",
       "      <td>1000</td>\n",
       "      <td>30.0</td>\n",
       "      <td>3000</td>\n",
       "      <td>1950</td>\n",
       "      <td>150</td>\n",
       "      <td>1</td>\n",
       "      <td>1</td>\n",
       "      <td>ultra</td>\n",
       "    </tr>\n",
       "  </tbody>\n",
       "</table>\n",
       "</div>"
      ],
      "text/plain": [
       "   messages_included  gb_per_month_included  minutes_included  \\\n",
       "0                 50                   15.0               500   \n",
       "1               1000                   30.0              3000   \n",
       "\n",
       "   rub_monthly_fee  rub_per_gb  rub_per_message  rub_per_minute tariff_name  \n",
       "0              550         200                3               3       smart  \n",
       "1             1950         150                1               1       ultra  "
      ]
     },
     "execution_count": 38,
     "metadata": {},
     "output_type": "execute_result"
    }
   ],
   "source": [
    "# В связи с тем, что мы перевели мегабайты в столбце 'mb_used'(после переименования - 'gb_total_internet')\n",
    "# для дальнейшего расчета нам нужен будет столбец с количеством трафика включенным в пакет, а он у нас тоже\n",
    "# изначально в датасете в мегабайтах, то также переведем в Гигабайты столбец 'mb_per_month_included'\n",
    "# и переименуем его\n",
    "tariffs['mb_per_month_included'] = tariffs.mb_per_month_included / 1024\n",
    "tariffs.mb_per_month_included  = np.ceil(tariffs.mb_per_month_included)\n",
    "tariffs = tariffs.rename(columns={'mb_per_month_included':'gb_per_month_included'})\n",
    "tariffs.head(10)"
   ]
  },
  {
   "cell_type": "markdown",
   "metadata": {},
   "source": [
    "### Помесячная выручка с каждого пользователя"
   ]
  },
  {
   "cell_type": "code",
   "execution_count": 39,
   "metadata": {},
   "outputs": [
    {
     "data": {
      "text/html": [
       "<div>\n",
       "<style scoped>\n",
       "    .dataframe tbody tr th:only-of-type {\n",
       "        vertical-align: middle;\n",
       "    }\n",
       "\n",
       "    .dataframe tbody tr th {\n",
       "        vertical-align: top;\n",
       "    }\n",
       "\n",
       "    .dataframe thead th {\n",
       "        text-align: right;\n",
       "    }\n",
       "</style>\n",
       "<table border=\"1\" class=\"dataframe\">\n",
       "  <thead>\n",
       "    <tr style=\"text-align: right;\">\n",
       "      <th></th>\n",
       "      <th>user_id</th>\n",
       "      <th>month</th>\n",
       "      <th>calls_duration</th>\n",
       "      <th>calls_total</th>\n",
       "      <th>sms_total</th>\n",
       "      <th>gb_total_internet</th>\n",
       "      <th>age</th>\n",
       "      <th>churn_date</th>\n",
       "      <th>city</th>\n",
       "      <th>first_name</th>\n",
       "      <th>last_name</th>\n",
       "      <th>reg_date</th>\n",
       "      <th>tariff</th>\n",
       "      <th>messages_included</th>\n",
       "      <th>gb_per_month_included</th>\n",
       "      <th>minutes_included</th>\n",
       "      <th>rub_monthly_fee</th>\n",
       "      <th>rub_per_gb</th>\n",
       "      <th>rub_per_message</th>\n",
       "      <th>rub_per_minute</th>\n",
       "      <th>tariff_name</th>\n",
       "    </tr>\n",
       "  </thead>\n",
       "  <tbody>\n",
       "    <tr>\n",
       "      <td>0</td>\n",
       "      <td>1000</td>\n",
       "      <td>5.0</td>\n",
       "      <td>159.0</td>\n",
       "      <td>22.0</td>\n",
       "      <td>22.0</td>\n",
       "      <td>3.0</td>\n",
       "      <td>52</td>\n",
       "      <td>NaT</td>\n",
       "      <td>Краснодар</td>\n",
       "      <td>Рафаил</td>\n",
       "      <td>Верещагин</td>\n",
       "      <td>2018-05-25</td>\n",
       "      <td>ultra</td>\n",
       "      <td>1000</td>\n",
       "      <td>30.0</td>\n",
       "      <td>3000</td>\n",
       "      <td>1950</td>\n",
       "      <td>150</td>\n",
       "      <td>1</td>\n",
       "      <td>1</td>\n",
       "      <td>ultra</td>\n",
       "    </tr>\n",
       "    <tr>\n",
       "      <td>1</td>\n",
       "      <td>1000</td>\n",
       "      <td>6.0</td>\n",
       "      <td>172.0</td>\n",
       "      <td>43.0</td>\n",
       "      <td>60.0</td>\n",
       "      <td>23.0</td>\n",
       "      <td>52</td>\n",
       "      <td>NaT</td>\n",
       "      <td>Краснодар</td>\n",
       "      <td>Рафаил</td>\n",
       "      <td>Верещагин</td>\n",
       "      <td>2018-05-25</td>\n",
       "      <td>ultra</td>\n",
       "      <td>1000</td>\n",
       "      <td>30.0</td>\n",
       "      <td>3000</td>\n",
       "      <td>1950</td>\n",
       "      <td>150</td>\n",
       "      <td>1</td>\n",
       "      <td>1</td>\n",
       "      <td>ultra</td>\n",
       "    </tr>\n",
       "    <tr>\n",
       "      <td>2</td>\n",
       "      <td>1000</td>\n",
       "      <td>7.0</td>\n",
       "      <td>340.0</td>\n",
       "      <td>47.0</td>\n",
       "      <td>75.0</td>\n",
       "      <td>14.0</td>\n",
       "      <td>52</td>\n",
       "      <td>NaT</td>\n",
       "      <td>Краснодар</td>\n",
       "      <td>Рафаил</td>\n",
       "      <td>Верещагин</td>\n",
       "      <td>2018-05-25</td>\n",
       "      <td>ultra</td>\n",
       "      <td>1000</td>\n",
       "      <td>30.0</td>\n",
       "      <td>3000</td>\n",
       "      <td>1950</td>\n",
       "      <td>150</td>\n",
       "      <td>1</td>\n",
       "      <td>1</td>\n",
       "      <td>ultra</td>\n",
       "    </tr>\n",
       "    <tr>\n",
       "      <td>3</td>\n",
       "      <td>1000</td>\n",
       "      <td>8.0</td>\n",
       "      <td>408.0</td>\n",
       "      <td>52.0</td>\n",
       "      <td>81.0</td>\n",
       "      <td>14.0</td>\n",
       "      <td>52</td>\n",
       "      <td>NaT</td>\n",
       "      <td>Краснодар</td>\n",
       "      <td>Рафаил</td>\n",
       "      <td>Верещагин</td>\n",
       "      <td>2018-05-25</td>\n",
       "      <td>ultra</td>\n",
       "      <td>1000</td>\n",
       "      <td>30.0</td>\n",
       "      <td>3000</td>\n",
       "      <td>1950</td>\n",
       "      <td>150</td>\n",
       "      <td>1</td>\n",
       "      <td>1</td>\n",
       "      <td>ultra</td>\n",
       "    </tr>\n",
       "    <tr>\n",
       "      <td>4</td>\n",
       "      <td>1000</td>\n",
       "      <td>9.0</td>\n",
       "      <td>466.0</td>\n",
       "      <td>58.0</td>\n",
       "      <td>57.0</td>\n",
       "      <td>15.0</td>\n",
       "      <td>52</td>\n",
       "      <td>NaT</td>\n",
       "      <td>Краснодар</td>\n",
       "      <td>Рафаил</td>\n",
       "      <td>Верещагин</td>\n",
       "      <td>2018-05-25</td>\n",
       "      <td>ultra</td>\n",
       "      <td>1000</td>\n",
       "      <td>30.0</td>\n",
       "      <td>3000</td>\n",
       "      <td>1950</td>\n",
       "      <td>150</td>\n",
       "      <td>1</td>\n",
       "      <td>1</td>\n",
       "      <td>ultra</td>\n",
       "    </tr>\n",
       "  </tbody>\n",
       "</table>\n",
       "</div>"
      ],
      "text/plain": [
       "   user_id  month  calls_duration  calls_total  sms_total  gb_total_internet  \\\n",
       "0     1000    5.0           159.0         22.0       22.0                3.0   \n",
       "1     1000    6.0           172.0         43.0       60.0               23.0   \n",
       "2     1000    7.0           340.0         47.0       75.0               14.0   \n",
       "3     1000    8.0           408.0         52.0       81.0               14.0   \n",
       "4     1000    9.0           466.0         58.0       57.0               15.0   \n",
       "\n",
       "   age churn_date       city first_name  last_name   reg_date tariff  \\\n",
       "0   52        NaT  Краснодар     Рафаил  Верещагин 2018-05-25  ultra   \n",
       "1   52        NaT  Краснодар     Рафаил  Верещагин 2018-05-25  ultra   \n",
       "2   52        NaT  Краснодар     Рафаил  Верещагин 2018-05-25  ultra   \n",
       "3   52        NaT  Краснодар     Рафаил  Верещагин 2018-05-25  ultra   \n",
       "4   52        NaT  Краснодар     Рафаил  Верещагин 2018-05-25  ultra   \n",
       "\n",
       "   messages_included  gb_per_month_included  minutes_included  \\\n",
       "0               1000                   30.0              3000   \n",
       "1               1000                   30.0              3000   \n",
       "2               1000                   30.0              3000   \n",
       "3               1000                   30.0              3000   \n",
       "4               1000                   30.0              3000   \n",
       "\n",
       "   rub_monthly_fee  rub_per_gb  rub_per_message  rub_per_minute tariff_name  \n",
       "0             1950         150                1               1       ultra  \n",
       "1             1950         150                1               1       ultra  \n",
       "2             1950         150                1               1       ultra  \n",
       "3             1950         150                1               1       ultra  \n",
       "4             1950         150                1               1       ultra  "
      ]
     },
     "execution_count": 39,
     "metadata": {},
     "output_type": "execute_result"
    }
   ],
   "source": [
    "#создадим сводную таблицу\n",
    "df = user_calls.merge(users_messages, on=['user_id','month'], how ='outer').reset_index(drop=True)\n",
    "df = df.merge(users_internet, on=['user_id','month'], how = 'outer').reset_index(drop=True)\n",
    "df = df.merge(users, on=['user_id'], how ='outer').reset_index(drop=True)\n",
    "df = df.merge(tariffs, left_on=['tariff'], right_on='tariff_name', how = 'outer').reset_index(drop=True)\n",
    "df.head()"
   ]
  },
  {
   "cell_type": "code",
   "execution_count": 40,
   "metadata": {},
   "outputs": [
    {
     "data": {
      "text/plain": [
       "user_id                     0\n",
       "month                       2\n",
       "calls_duration             42\n",
       "calls_total                42\n",
       "sms_total                 499\n",
       "gb_total_internet          15\n",
       "age                         0\n",
       "churn_date               3027\n",
       "city                        0\n",
       "first_name                  0\n",
       "last_name                   0\n",
       "reg_date                    0\n",
       "tariff                      0\n",
       "messages_included           0\n",
       "gb_per_month_included       0\n",
       "minutes_included            0\n",
       "rub_monthly_fee             0\n",
       "rub_per_gb                  0\n",
       "rub_per_message             0\n",
       "rub_per_minute              0\n",
       "tariff_name                 0\n",
       "dtype: int64"
      ]
     },
     "execution_count": 40,
     "metadata": {},
     "output_type": "execute_result"
    }
   ],
   "source": [
    "#проверим пропуски еще раз\n",
    "df.isna().sum()"
   ]
  },
  {
   "cell_type": "markdown",
   "metadata": {},
   "source": [
    "Пропуски в числовых показателях заменим на нули, так как это скорее всего означает отсутствие в этот день звонков, выхода в интернет, отправления сообщений. Пропуски в колонке 'month' скорее всего появились при изменении типа данных, они, видимо, изначально были записаны некорректно в датасете. Так как пропусков таких всего два, заменим также на нулевое значение."
   ]
  },
  {
   "cell_type": "code",
   "execution_count": 41,
   "metadata": {},
   "outputs": [
    {
     "data": {
      "text/plain": [
       "user_id                     0\n",
       "month                       0\n",
       "calls_duration              0\n",
       "calls_total                 0\n",
       "sms_total                   0\n",
       "gb_total_internet           0\n",
       "age                         0\n",
       "churn_date               3027\n",
       "city                        0\n",
       "first_name                  0\n",
       "last_name                   0\n",
       "reg_date                    0\n",
       "tariff                      0\n",
       "messages_included           0\n",
       "gb_per_month_included       0\n",
       "minutes_included            0\n",
       "rub_monthly_fee             0\n",
       "rub_per_gb                  0\n",
       "rub_per_message             0\n",
       "rub_per_minute              0\n",
       "tariff_name                 0\n",
       "dtype: int64"
      ]
     },
     "execution_count": 41,
     "metadata": {},
     "output_type": "execute_result"
    }
   ],
   "source": [
    "#заменим все получившиеся пропуски в количестве звонков/минутах/сообщениях/трафике/месяце на нули\n",
    "df['sms_total'] = df['sms_total'].fillna(0)\n",
    "df['gb_total_internet'] = df['gb_total_internet'].fillna(0)\n",
    "df['calls_duration'] = df['calls_duration'].fillna(0)\n",
    "df['calls_total'] = df['calls_total'].fillna(0)\n",
    "df['month'] = df['month'].fillna(0)\n",
    "df.isna().sum()"
   ]
  },
  {
   "cell_type": "code",
   "execution_count": 42,
   "metadata": {},
   "outputs": [
    {
     "data": {
      "text/plain": [
       "0"
      ]
     },
     "execution_count": 42,
     "metadata": {},
     "output_type": "execute_result"
    }
   ],
   "source": [
    "#проверим еще раз дубликаты\n",
    "df.duplicated().sum()"
   ]
  },
  {
   "cell_type": "code",
   "execution_count": 43,
   "metadata": {},
   "outputs": [
    {
     "data": {
      "text/html": [
       "<div>\n",
       "<style scoped>\n",
       "    .dataframe tbody tr th:only-of-type {\n",
       "        vertical-align: middle;\n",
       "    }\n",
       "\n",
       "    .dataframe tbody tr th {\n",
       "        vertical-align: top;\n",
       "    }\n",
       "\n",
       "    .dataframe thead th {\n",
       "        text-align: right;\n",
       "    }\n",
       "</style>\n",
       "<table border=\"1\" class=\"dataframe\">\n",
       "  <thead>\n",
       "    <tr style=\"text-align: right;\">\n",
       "      <th></th>\n",
       "      <th>user_id</th>\n",
       "      <th>month</th>\n",
       "      <th>calls_duration</th>\n",
       "      <th>calls_total</th>\n",
       "      <th>sms_total</th>\n",
       "      <th>gb_total_internet</th>\n",
       "      <th>age</th>\n",
       "      <th>churn_date</th>\n",
       "      <th>city</th>\n",
       "      <th>first_name</th>\n",
       "      <th>last_name</th>\n",
       "      <th>reg_date</th>\n",
       "      <th>tariff</th>\n",
       "      <th>messages_included</th>\n",
       "      <th>gb_per_month_included</th>\n",
       "      <th>minutes_included</th>\n",
       "      <th>rub_monthly_fee</th>\n",
       "      <th>rub_per_gb</th>\n",
       "      <th>rub_per_message</th>\n",
       "      <th>rub_per_minute</th>\n",
       "      <th>tariff_name</th>\n",
       "      <th>revenue_month</th>\n",
       "    </tr>\n",
       "  </thead>\n",
       "  <tbody>\n",
       "    <tr>\n",
       "      <td>0</td>\n",
       "      <td>1000</td>\n",
       "      <td>5.0</td>\n",
       "      <td>159.0</td>\n",
       "      <td>22.0</td>\n",
       "      <td>22.0</td>\n",
       "      <td>3.0</td>\n",
       "      <td>52</td>\n",
       "      <td>NaT</td>\n",
       "      <td>Краснодар</td>\n",
       "      <td>Рафаил</td>\n",
       "      <td>Верещагин</td>\n",
       "      <td>2018-05-25</td>\n",
       "      <td>ultra</td>\n",
       "      <td>1000</td>\n",
       "      <td>30.0</td>\n",
       "      <td>3000</td>\n",
       "      <td>1950</td>\n",
       "      <td>150</td>\n",
       "      <td>1</td>\n",
       "      <td>1</td>\n",
       "      <td>ultra</td>\n",
       "      <td>1950.0</td>\n",
       "    </tr>\n",
       "    <tr>\n",
       "      <td>1</td>\n",
       "      <td>1000</td>\n",
       "      <td>6.0</td>\n",
       "      <td>172.0</td>\n",
       "      <td>43.0</td>\n",
       "      <td>60.0</td>\n",
       "      <td>23.0</td>\n",
       "      <td>52</td>\n",
       "      <td>NaT</td>\n",
       "      <td>Краснодар</td>\n",
       "      <td>Рафаил</td>\n",
       "      <td>Верещагин</td>\n",
       "      <td>2018-05-25</td>\n",
       "      <td>ultra</td>\n",
       "      <td>1000</td>\n",
       "      <td>30.0</td>\n",
       "      <td>3000</td>\n",
       "      <td>1950</td>\n",
       "      <td>150</td>\n",
       "      <td>1</td>\n",
       "      <td>1</td>\n",
       "      <td>ultra</td>\n",
       "      <td>1950.0</td>\n",
       "    </tr>\n",
       "    <tr>\n",
       "      <td>2</td>\n",
       "      <td>1000</td>\n",
       "      <td>7.0</td>\n",
       "      <td>340.0</td>\n",
       "      <td>47.0</td>\n",
       "      <td>75.0</td>\n",
       "      <td>14.0</td>\n",
       "      <td>52</td>\n",
       "      <td>NaT</td>\n",
       "      <td>Краснодар</td>\n",
       "      <td>Рафаил</td>\n",
       "      <td>Верещагин</td>\n",
       "      <td>2018-05-25</td>\n",
       "      <td>ultra</td>\n",
       "      <td>1000</td>\n",
       "      <td>30.0</td>\n",
       "      <td>3000</td>\n",
       "      <td>1950</td>\n",
       "      <td>150</td>\n",
       "      <td>1</td>\n",
       "      <td>1</td>\n",
       "      <td>ultra</td>\n",
       "      <td>1950.0</td>\n",
       "    </tr>\n",
       "    <tr>\n",
       "      <td>3</td>\n",
       "      <td>1000</td>\n",
       "      <td>8.0</td>\n",
       "      <td>408.0</td>\n",
       "      <td>52.0</td>\n",
       "      <td>81.0</td>\n",
       "      <td>14.0</td>\n",
       "      <td>52</td>\n",
       "      <td>NaT</td>\n",
       "      <td>Краснодар</td>\n",
       "      <td>Рафаил</td>\n",
       "      <td>Верещагин</td>\n",
       "      <td>2018-05-25</td>\n",
       "      <td>ultra</td>\n",
       "      <td>1000</td>\n",
       "      <td>30.0</td>\n",
       "      <td>3000</td>\n",
       "      <td>1950</td>\n",
       "      <td>150</td>\n",
       "      <td>1</td>\n",
       "      <td>1</td>\n",
       "      <td>ultra</td>\n",
       "      <td>1950.0</td>\n",
       "    </tr>\n",
       "    <tr>\n",
       "      <td>4</td>\n",
       "      <td>1000</td>\n",
       "      <td>9.0</td>\n",
       "      <td>466.0</td>\n",
       "      <td>58.0</td>\n",
       "      <td>57.0</td>\n",
       "      <td>15.0</td>\n",
       "      <td>52</td>\n",
       "      <td>NaT</td>\n",
       "      <td>Краснодар</td>\n",
       "      <td>Рафаил</td>\n",
       "      <td>Верещагин</td>\n",
       "      <td>2018-05-25</td>\n",
       "      <td>ultra</td>\n",
       "      <td>1000</td>\n",
       "      <td>30.0</td>\n",
       "      <td>3000</td>\n",
       "      <td>1950</td>\n",
       "      <td>150</td>\n",
       "      <td>1</td>\n",
       "      <td>1</td>\n",
       "      <td>ultra</td>\n",
       "      <td>1950.0</td>\n",
       "    </tr>\n",
       "  </tbody>\n",
       "</table>\n",
       "</div>"
      ],
      "text/plain": [
       "   user_id  month  calls_duration  calls_total  sms_total  gb_total_internet  \\\n",
       "0     1000    5.0           159.0         22.0       22.0                3.0   \n",
       "1     1000    6.0           172.0         43.0       60.0               23.0   \n",
       "2     1000    7.0           340.0         47.0       75.0               14.0   \n",
       "3     1000    8.0           408.0         52.0       81.0               14.0   \n",
       "4     1000    9.0           466.0         58.0       57.0               15.0   \n",
       "\n",
       "   age churn_date       city first_name  last_name   reg_date tariff  \\\n",
       "0   52        NaT  Краснодар     Рафаил  Верещагин 2018-05-25  ultra   \n",
       "1   52        NaT  Краснодар     Рафаил  Верещагин 2018-05-25  ultra   \n",
       "2   52        NaT  Краснодар     Рафаил  Верещагин 2018-05-25  ultra   \n",
       "3   52        NaT  Краснодар     Рафаил  Верещагин 2018-05-25  ultra   \n",
       "4   52        NaT  Краснодар     Рафаил  Верещагин 2018-05-25  ultra   \n",
       "\n",
       "   messages_included  gb_per_month_included  minutes_included  \\\n",
       "0               1000                   30.0              3000   \n",
       "1               1000                   30.0              3000   \n",
       "2               1000                   30.0              3000   \n",
       "3               1000                   30.0              3000   \n",
       "4               1000                   30.0              3000   \n",
       "\n",
       "   rub_monthly_fee  rub_per_gb  rub_per_message  rub_per_minute tariff_name  \\\n",
       "0             1950         150                1               1       ultra   \n",
       "1             1950         150                1               1       ultra   \n",
       "2             1950         150                1               1       ultra   \n",
       "3             1950         150                1               1       ultra   \n",
       "4             1950         150                1               1       ultra   \n",
       "\n",
       "   revenue_month  \n",
       "0         1950.0  \n",
       "1         1950.0  \n",
       "2         1950.0  \n",
       "3         1950.0  \n",
       "4         1950.0  "
      ]
     },
     "execution_count": 43,
     "metadata": {},
     "output_type": "execute_result"
    }
   ],
   "source": [
    "# произведем расчет выручки в месяц и добавим в сводную таблицу колонку 'revenue_month'\n",
    "df['cost_gb'] = (df['gb_total_internet'] - df['gb_per_month_included']) * df['rub_per_gb']\n",
    "df['cost_minutes'] = (df['calls_duration'] - df['minutes_included']) * df['rub_per_minute']\n",
    "df['cost_messages'] = (df['sms_total'] - df['messages_included']) * df['rub_per_message']\n",
    "df.loc[df['cost_gb'] < 0, 'cost_gb'] = 0\n",
    "df.loc[df['cost_minutes'] < 0, 'cost_minutes'] = 0\n",
    "df.loc[df['cost_messages'] < 0, 'cost_messages'] = 0\n",
    "df['revenue_month'] = df['cost_gb'] + df['cost_minutes'] + df['cost_messages'] + df['rub_monthly_fee']\n",
    "#Удалим ненужные нам столбцы.\n",
    "\n",
    "df.drop(['cost_gb', 'cost_minutes', 'cost_messages'], axis=1, inplace=True) \n",
    "df.head(5)"
   ]
  },
  {
   "cell_type": "markdown",
   "metadata": {},
   "source": [
    "### Вывод\n",
    "\n",
    "Составили отчёт о ежемесячной активности пользователей обоих тарифных планов. Посчитали ежемесячную выручку с каждого клиента. Подготовлены данные для дальнейшего анализа."
   ]
  },
  {
   "cell_type": "markdown",
   "metadata": {},
   "source": [
    "## Анализ данных"
   ]
  },
  {
   "cell_type": "markdown",
   "metadata": {},
   "source": [
    "### Описание поведения клиентов оператора, исходя из выборки"
   ]
  },
  {
   "cell_type": "code",
   "execution_count": 44,
   "metadata": {},
   "outputs": [],
   "source": [
    "# для описания поведения клиентов, исходя из выборки, построим гистограммы и рассмотрим распределения переменных \n",
    "# используем для автоматизации функцию\n",
    "# функция строит гистограмму для переменной 'param' датафрейма 'df' с заголовком 'title' - \n",
    "# отдельно для каждого тарифа (smart и ultra), и, для удобства сравнения, на одном графике\n",
    "def hist_display(df, param, title):\n",
    "    dx = df[param].describe()\n",
    "    m1 = dx['min']\n",
    "    m2 = dx['max']\n",
    "    df.query('tariff==\"smart\"')[param].plot(kind='hist', x=param, y='Частота', bins=30, range=(m1, m2), grid=True, title=title, figsize=(10,5), legend=True, alpha=0.5, color='g', label='smart') \n",
    "    df.query('tariff==\"ultra\"')[param].plot(kind='hist', x=param, y='Частота', bins=30, range=(m1, m2), grid=True, title=title, figsize=(10,5), legend=True, alpha=0.5, color='blue', label='ultra')\n",
    "    \n",
    "    \n",
    "    "
   ]
  },
  {
   "cell_type": "code",
   "execution_count": 45,
   "metadata": {},
   "outputs": [],
   "source": [
    "# создадим функцию для построения график распределения для параметра 'param' датафрейма 'df' для каждого тарифного плана (smart и ultra), \n",
    "# а также для вывода описания describe() колонки df[param] и расчета дисперсии 'param'\n",
    "def distplot_display(df, param, title):\n",
    "    df_dropna = df.dropna(subset=[param])\n",
    "    df_smart = df_dropna.query('tariff==\"smart\"')\n",
    "    df_ultra = df_dropna.query('tariff==\"ultra\"')\n",
    "    plt.figure(figsize=(8,5))\n",
    "    plt.title(title)\n",
    "    plt.ylabel('Плотность')\n",
    "    sns.distplot(df_smart[param], color='g', label='smart')\n",
    "    sns.distplot(df_ultra[param], color='blue', label='ultra')\n",
    "    plt.legend()\n",
    "    plt.show()\n",
    "    \n",
    "    smart_descr = df_smart[param].describe()\n",
    "    ultra_descr = df_ultra[param].describe()\n",
    "    smart_disp = np.var(df_smart[param], ddof=1)\n",
    "    ultra_disp = np.var(df_ultra[param], ddof=1)\n",
    "    \n",
    "    df_describe = pd.concat([smart_descr, ultra_descr], axis=1)\n",
    "    df_describe.columns = ['smart', 'ultra']\n",
    "    df_describe.loc['dispersion'] = [smart_disp, ultra_disp]\n",
    "\n",
    "    print(df_describe)"
   ]
  },
  {
   "cell_type": "markdown",
   "metadata": {},
   "source": [
    "#### Исследование количества звонков в месяц для тарифов 'ultra' и 'smart'"
   ]
  },
  {
   "cell_type": "code",
   "execution_count": 46,
   "metadata": {},
   "outputs": [
    {
     "data": {
      "image/png": "[encoded data removed]",
      "text/plain": [
       "<Figure size 720x360 with 1 Axes>"
      ]
     },
     "metadata": {
      "needs_background": "light"
     },
     "output_type": "display_data"
    },
    {
     "data": {
      "image/png": "[encoded data removed]",
      "text/plain": [
       "<Figure size 576x360 with 1 Axes>"
      ]
     },
     "metadata": {
      "needs_background": "light"
     },
     "output_type": "display_data"
    },
    {
     "name": "stdout",
     "output_type": "stream",
     "text": [
      "                  smart        ultra\n",
      "count       2230.000000   986.000000\n",
      "mean          58.437220    73.318458\n",
      "std           25.963572    43.956739\n",
      "min            0.000000     0.000000\n",
      "25%           40.000000    41.000000\n",
      "50%           60.000000    73.500000\n",
      "75%           76.000000   103.750000\n",
      "max          198.000000   244.000000\n",
      "dispersion   674.107093  1932.194928\n"
     ]
    }
   ],
   "source": [
    "hist_display(df, 'calls_total', 'количество звонков в месяц')\n",
    "distplot_display(df, 'calls_total', 'распределение количества звонков в месяц')"
   ]
  },
  {
   "cell_type": "markdown",
   "metadata": {},
   "source": [
    "Общее количество звонков пользователей тарифа Ultra  больше, чем у пользователей тарифа Smart. Что вполне логично, так как в тариф ultra входит больше минут для разговора, соответственно и звонков больше. Интересно, посмотреть на данные по выручке.   \n",
    "Распределения по обоим тарифам тяготеют к нормальному и скошены вправо. Для тарифа Ultra распределение шире, что говорит о сильном разбросе разброс количества звонков в месяц у пользователей данного тарифа. Это подтверждается и значительной дисперсией.\n",
    "Среднее количество звонков в мес пользователей Ultra больше, чем у пользователей Smart: 73 и 58 соответственно.\n",
    "Медианы для обоих тарифов практически совпадают со средними значениями, что говорит о том, что выбросов в выборке немного."
   ]
  },
  {
   "cell_type": "markdown",
   "metadata": {},
   "source": [
    "#### Исследование продолжительности разговоров по тарифам 'ultra' и 'smart'."
   ]
  },
  {
   "cell_type": "code",
   "execution_count": 47,
   "metadata": {},
   "outputs": [
    {
     "data": {
      "image/png": "[encoded data removed]",
      "text/plain": [
       "<Figure size 720x360 with 1 Axes>"
      ]
     },
     "metadata": {
      "needs_background": "light"
     },
     "output_type": "display_data"
    },
    {
     "data": {
      "image/png": "[encoded data removed]",
      "text/plain": [
       "<Figure size 576x360 with 1 Axes>"
      ]
     },
     "metadata": {
      "needs_background": "light"
     },
     "output_type": "display_data"
    },
    {
     "name": "stdout",
     "output_type": "stream",
     "text": [
      "                   smart          ultra\n",
      "count        2230.000000     986.000000\n",
      "mean          417.747534     526.089249\n",
      "std           190.476754     317.887549\n",
      "min             0.000000       0.000000\n",
      "25%           282.000000     282.500000\n",
      "50%           421.500000     518.000000\n",
      "75%           545.000000     751.750000\n",
      "max          1435.000000    1673.000000\n",
      "dispersion  36281.393836  101052.493549\n"
     ]
    }
   ],
   "source": [
    "hist_display(df, 'calls_duration', 'Продолжительность разговора в месяц, мин')\n",
    "distplot_display(df, 'calls_duration', 'Распределение продолжительности разговора в месяц')"
   ]
  },
  {
   "cell_type": "markdown",
   "metadata": {},
   "source": [
    "Частотные гистограммы и графики распределения похожи на графики количества звонков. Распределение продолжительности звонков пользователей Ultra шире, чем у Smart. Разброс значений по Smart больше. Это мы видим из значительной дисперсии. \n",
    "Среднее значение продолжительности звонков абонентов Ultra ежемесячно больше, чем у абонентов Smart: 526 против 417 соответственно.\n",
    "Медианы по обоим тарифным планам почти совпадают со средними значениями, что подтверждает - выбросов немного."
   ]
  },
  {
   "cell_type": "markdown",
   "metadata": {},
   "source": [
    "#### Исследование количества сообщений 'ultra' и 'smart'."
   ]
  },
  {
   "cell_type": "code",
   "execution_count": 48,
   "metadata": {},
   "outputs": [
    {
     "data": {
      "image/png": "[encoded data removed]",
      "text/plain": [
       "<Figure size 720x360 with 1 Axes>"
      ]
     },
     "metadata": {
      "needs_background": "light"
     },
     "output_type": "display_data"
    },
    {
     "data": {
      "image/png": "[encoded data removed]",
      "text/plain": [
       "<Figure size 576x360 with 1 Axes>"
      ]
     },
     "metadata": {
      "needs_background": "light"
     },
     "output_type": "display_data"
    },
    {
     "name": "stdout",
     "output_type": "stream",
     "text": [
      "                  smart        ultra\n",
      "count       2230.000000   986.000000\n",
      "mean          33.369058    49.313387\n",
      "std           28.230396    47.806040\n",
      "min            0.000000     0.000000\n",
      "25%           10.000000     6.000000\n",
      "50%           28.000000    38.000000\n",
      "75%           51.000000    78.750000\n",
      "max          143.000000   224.000000\n",
      "dispersion   796.955256  2285.417425\n"
     ]
    }
   ],
   "source": [
    "hist_display(df, 'sms_total', 'количество сообщений в месяц')\n",
    "distplot_display(df, 'sms_total', 'распределение количества сообщений в месяц')"
   ]
  },
  {
   "cell_type": "markdown",
   "metadata": {},
   "source": [
    "Пользователи тарифа Ultra в среднем отправляют больше sms в месяц, чем пользователи тарифа Smart: 49 и 33 соответственно.\n",
    "Распределения количества sms по тарифу Ultra шире, чем по Smart и расброс значений, соответственно, больше у Ultra.\n",
    "Также на графиках видим значителное отсутствие интереса к услуге тарифов по отправке сообщений. Полагаю, это связано с наличием множества альтернативных приложений-мессенджерей смартфонов, в которых нет учета количества сообщений, зависимость в них только от наличия интернета и трафика (более удобный способ не контролировать количество сообщений)."
   ]
  },
  {
   "cell_type": "markdown",
   "metadata": {},
   "source": [
    "#### Исследование интернет трафика 'ultra' и 'smart'."
   ]
  },
  {
   "cell_type": "code",
   "execution_count": 49,
   "metadata": {},
   "outputs": [
    {
     "data": {
      "image/png": "[encoded data removed]",
      "text/plain": [
       "<Figure size 720x360 with 1 Axes>"
      ]
     },
     "metadata": {
      "needs_background": "light"
     },
     "output_type": "display_data"
    },
    {
     "data": {
      "image/png": "[encoded data removed]",
      "text/plain": [
       "<Figure size 576x360 with 1 Axes>"
      ]
     },
     "metadata": {
      "needs_background": "light"
     },
     "output_type": "display_data"
    },
    {
     "name": "stdout",
     "output_type": "stream",
     "text": [
      "                  smart       ultra\n",
      "count       2230.000000  986.000000\n",
      "mean          16.321525   19.474645\n",
      "std            5.756167    9.868057\n",
      "min            0.000000    0.000000\n",
      "25%           13.000000   12.000000\n",
      "50%           17.000000   19.000000\n",
      "75%           20.000000   27.000000\n",
      "max           38.000000   49.000000\n",
      "dispersion    33.133453   97.378544\n"
     ]
    }
   ],
   "source": [
    "hist_display(df, 'gb_total_internet', 'интернет трафик в месяц')\n",
    "distplot_display(df, 'gb_total_internet', 'распределение интернет трафика в месяц')"
   ]
  },
  {
   "cell_type": "markdown",
   "metadata": {},
   "source": [
    "При исследовании потребления интернет трафика абонентами наблюдается интересное поведение. Более высокое значение потребления интернет трафика пользователями Ultra (что очевидно, так как больший объем предоставлен в тарифе). Могу предположить, что  пользователи тарифа Smart, имея более низкий объем трафика, не расчитывают изначально на его потребление в большем объеме. Соответственно, разброс значений потребления может быть связан с нестандартными и не частыми ситуациями абонентов Smart, когда они по той или иной причине потребляют большее количество трафика, чем им предоставлено по тарифу.\n",
    "\n",
    "В среднем пользователи Ultra ежемесячно потребляют больше трафика, чем пользователи Smart: 19.47 Гб и  16.32 Гб).Медианы для обоих тарифов близки к их среднему значению.\n"
   ]
  },
  {
   "cell_type": "markdown",
   "metadata": {},
   "source": [
    "#### Исследование выручки в месяц по тарифам 'ultra' и 'smart'."
   ]
  },
  {
   "cell_type": "code",
   "execution_count": 50,
   "metadata": {},
   "outputs": [
    {
     "data": {
      "image/png": "[encoded data removed]",
      "text/plain": [
       "<Figure size 720x360 with 1 Axes>"
      ]
     },
     "metadata": {
      "needs_background": "light"
     },
     "output_type": "display_data"
    },
    {
     "data": {
      "image/png": "[encoded data removed]",
      "text/plain": [
       "<Figure size 576x360 with 1 Axes>"
      ]
     },
     "metadata": {
      "needs_background": "light"
     },
     "output_type": "display_data"
    },
    {
     "name": "stdout",
     "output_type": "stream",
     "text": [
      "                    smart          ultra\n",
      "count         2230.000000     986.000000\n",
      "mean          1289.641704    2070.030426\n",
      "std            818.370799     376.015578\n",
      "min            550.000000    1950.000000\n",
      "25%            550.000000    1950.000000\n",
      "50%           1021.000000    1950.000000\n",
      "75%           1750.000000    1950.000000\n",
      "max           6770.000000    4800.000000\n",
      "dispersion  669730.763895  141387.714809\n"
     ]
    }
   ],
   "source": [
    "\n",
    "hist_display(df, 'revenue_month', 'выручка в месяц')\n",
    "distplot_display(df, 'revenue_month', 'выручка в месяц')"
   ]
  },
  {
   "cell_type": "markdown",
   "metadata": {},
   "source": [
    "На графиках видим пиковые значения - это норма и означает выручку в тех случаях, когда абоненты не превысили установленные лимиты минут, сообщений, интернет трафика и заплатили только абонентскую плату.\n",
    "В среднем пользователи Smart платят меньше, чем пользователи Ultra: 1289 против 2070 соответственно.\n",
    "Судя по графику, дисперсии и квартилям, абоненты тарифа смарт Smart, намного чаще превышают лимиты, чем абоненты Ultra, соответственно и средняя выручка от них для компании более, чем в 2 раза превышает абонентскую плату по тарифу. Так, средняя выручка от абонентов Smart - 1250 руб., а абонентская плата по тарифу - 550 руб. Средняя выручка от абонентов Ultra 2059 руб, а абонентская плата - 1950 руб. Соответственно, можем предположить, что причиной превышения лимитов тарифного плана и в связи с этим, повышение затрат абонентов фарифа Smart, связана с тем, что при разбросе лимитов на различные услуги сложнее расчитать и проконтролировать потребление этих услуг в повседневной жизни. У абонентов Ultra такой задачи не стоит, так как границы лимитов на услуги мобильной связи существенно выше."
   ]
  },
  {
   "cell_type": "markdown",
   "metadata": {},
   "source": [
    "### Вывод\n",
    "\n",
    "Около одной трети абонентов из нашей выборки пользуются тарифом Ultra, остальным подключен Smart. При этом среднее значение выручки пользователей Ultra на 30 % превышает среднюю выручку в месяц от абонентов Smart.\n",
    "\n",
    "Но и потребление у пользователей Ultra в среднем выше, чем у пользователей Smart.\n",
    "\n",
    "Выше при пошаговом анализе данных я более подробно описывала выводы, подводя итог, еще раз тезисно остановлюсь на общих выводах.\n",
    "\n",
    "- Общее количество звонков пользователей тарифа Ultra больше, чем у пользователей тарифа Smart. Что вполне логично, так как в тариф ultra входит больше минут для разговора, соответственно и звонков больше. Интересно, посмотреть на данные по выручке.Среднее количество звонков в месяц пользователей Ultra больше, чем у пользователей Smart: (73 > 58) соответственно. \n",
    "\n",
    "\n",
    "- Распределение продолжительности звонков пользователей Ultra шире, чем у Smart. Разброс значений по Smart больше. Это мы видим из значительной дисперсии. Среднее значение продолжительности звонков абонентов Ultra ежемесячно больше, чем у абонентов Smart: (526 > 417) соответственно. Данное соотношение вполне логично, так как в тарифный план Ultra включено большее количество минут.\n",
    "\n",
    "\n",
    "- Пользователи тарифа Ultra в среднем отправляют больше sms в месяц, чем пользователи тарифа Smart: (49 > 33) соответственно. Распределения количества sms по тарифу Ultra шире, чем по Smart и расброс значений, соответственно, больше у Ultra. Также на графиках видим значителное отсутствие интереса к услуге тарифов по отправке сообщений. \n",
    "\n",
    "- При более высоком значении потребления интернет трафика пользователями Ultra (что очевидно, так как больший объем предоставлен в тарифе), чем абонентами Smart, одновременно же дисперсия абонентов Smart в 3 раза выше, чем Ultra. Могу предположить, что это связано с тем, что пользователи тарифа Smart, имея более низкий объем трафика, не расчитывают изначально на его потребление в большем объеме. Соответственно, разброс значений потребления может быть связан с нестандартными и не частыми ситуациями абонентов Smart, когда они по той или иной причине потребляют большее количество трафика, чем им предоставлено по тарифу.В среднем пользователи Ultra ежемесячно потребляют больше трафика, чем пользователи Smart: (19.74 Гб > 16.32 Гб).\n",
    "\n",
    "\n",
    "- Анализируя выручку по месяцам абонентов тарифных планов Ultra и Smart, видим пиковые значения на графиках - это норма и означает выручку в тех случаях, когда абоненты не превысили установленные лимиты минут, сообщений, интернет трафика и заплатили только абонентскую плату. В среднем пользователи Smart платят меньше, чем пользователи Ultra: 1289 против 2070 соответственно. Абоненты тарифа смарт Smart, намного чаще превышают лимиты тарифного пакета, чем абоненты Ultra, соответственно и средняя выручка от них для компании более, чем в 2 раза превышает абонентскую плату по тарифу. Можем предположить, что причиной превышения лимитов тарифного плана и в связи с этим, повышение затрат абонентов фарифа Smart, связана с тем, что при разбросе лимитов на различные услуги сложнее расчитать и проконтролировать потребление этих услуг в повседневной жизни. \n",
    "\n"
   ]
  },
  {
   "cell_type": "markdown",
   "metadata": {},
   "source": [
    "## Проверка гипотез"
   ]
  },
  {
   "cell_type": "markdown",
   "metadata": {},
   "source": [
    "### Средняя выручка пользователей тарифов «Ultra» и «Smart» различаются"
   ]
  },
  {
   "cell_type": "markdown",
   "metadata": {},
   "source": [
    "Предположим, что средняя выручка пользователей Ultra и Smart равны между собой - принимаем данное утверждение за нулевую гипотезу - H0.\n",
    "\n",
    "Проверим нулевую гипотезу о равенстве средних значений выборок по этим двум тарифам:"
   ]
  },
  {
   "cell_type": "code",
   "execution_count": 51,
   "metadata": {},
   "outputs": [
    {
     "name": "stdout",
     "output_type": "stream",
     "text": [
      "p-значение: 8.081909555489933e-161\n",
      "Отвергаем нулевую гипотезу\n"
     ]
    }
   ],
   "source": [
    "revenue_smart = df.query('tariff == \"smart\"')['revenue_month'].values\n",
    "revenue_ultra = df.query('tariff == \"ultra\"')['revenue_month'].values\n",
    "\n",
    "\n",
    "alpha = 0.05 # критический уровень статистической значимости\n",
    "\n",
    "df_results = st.ttest_ind(revenue_smart, revenue_ultra)\n",
    "\n",
    "print('p-значение:', df_results.pvalue)\n",
    "\n",
    "if (df_results.pvalue < alpha):\n",
    "    print(\"Отвергаем нулевую гипотезу\")\n",
    "else:\n",
    "    print(\"Не получилось отвергнуть нулевую гипотезу\")"
   ]
  },
  {
   "cell_type": "markdown",
   "metadata": {},
   "source": [
    "### Вывод\n",
    "p-значение: 8.081909555489933e-161\n",
    "\n",
    "обозначение \"e-161\" в конце pvalue говорит о том, что это экспоненциальная запись, (чтобы понять итоговое значение такого числа, надо  и соответственно значение  8.081909555489933e-161 умножить на 1- в минус 161 степени) и конечно же оно в значительной степени ниже alpha = 0.05.\n",
    "\n",
    "Итак, исходя из выполненного кода, предполагаем, что нулевая гипотеза отвергается.\n",
    "Полученное значение p-value говорит о том, что средние значения наших выборок не равны. \n",
    "\n",
    "Следовательно, можем предположить, что выручка от пользователей тарифов Ultra и Smart различается. Обратного мы не смогли доказать. В принципе, то, что выручка от пользователей разных тарифов различается, мы наблюдали и при исследовании данных по выручке выше."
   ]
  },
  {
   "cell_type": "markdown",
   "metadata": {},
   "source": [
    "### Cредняя выручка пользователей из Москвы отличается от выручки пользователей из других регионов"
   ]
  },
  {
   "cell_type": "markdown",
   "metadata": {},
   "source": [
    "Для проверки гипотез применим t-тест.\n",
    "Причины, по которым мы будем его применять: \n",
    "- t-тест — работает для выборки любого размера\n",
    "- по значению p-value можно сразу понять, отвергать двустороннюю гипотезу или нет, сравнив это значение с  выбранным уровнем значимости\n",
    "- исследуемые генеральные совокупности (наши выборки)  взаимонезависимы.\n",
    "- как мы видели из исследования выручки выше, выборочные средние нормально распределены."
   ]
  },
  {
   "cell_type": "markdown",
   "metadata": {},
   "source": [
    "Предположим, что выручка пользователей из Москвы и из других регионов равны между собой - принимаем данное утверждение за нулевую гипотезу - H0.\n",
    "\n",
    "Проверим нулевую гипотезу о равенстве средних значений двух выборок:"
   ]
  },
  {
   "cell_type": "code",
   "execution_count": 52,
   "metadata": {},
   "outputs": [
    {
     "name": "stdout",
     "output_type": "stream",
     "text": [
      "p-значение: 0.5400751614511182\n",
      "Не получилось отвергнуть нулевую гипотезу\n"
     ]
    }
   ],
   "source": [
    "revenue_moscow = df.query('city == \"Москва\"')['revenue_month']\n",
    "revenue_other = df.query('city != \"Москва\"')['revenue_month']\n",
    "\n",
    "alpha = 0.05 # критический уровень статистической значимости\n",
    "\n",
    "df_results = st.ttest_ind(revenue_moscow, revenue_other)\n",
    "\n",
    "print('p-значение:', df_results.pvalue)\n",
    "\n",
    "if (df_results.pvalue < alpha):\n",
    "    print(\"Отвергаем нулевую гипотезу\")\n",
    "else:\n",
    "    print(\"Не получилось отвергнуть нулевую гипотезу\")"
   ]
  },
  {
   "cell_type": "markdown",
   "metadata": {},
   "source": [
    "### Вывод\n",
    "p-значение: 0.5400751614511182\n",
    "Нулевую гипотезу не смогли опровергнуть.\n",
    "Полученное значение p-value говорит о том, что хотя средняя выручка пользователей из Москвы отличается от выручки пользователей из других регионов,  вероятность ошибки при отклонении от нулевой гипотезы: 54 % . Это, разумеется, слишком большая вероятность, чтобы делать вывод о значимом различии средних выручек."
   ]
  },
  {
   "cell_type": "markdown",
   "metadata": {},
   "source": [
    "## Общий вывод\n",
    "\n"
   ]
  },
  {
   "cell_type": "code",
   "execution_count": 53,
   "metadata": {},
   "outputs": [
    {
     "data": {
      "image/png": "[encoded data removed]",
      "text/plain": [
       "<Figure size 1080x504 with 1 Axes>"
      ]
     },
     "metadata": {
      "needs_background": "light"
     },
     "output_type": "display_data"
    }
   ],
   "source": [
    "# изучим динамику средней выручки по месяцам на абонента\n",
    "plt.figure(figsize=(15,7))\n",
    "plt.title('Динамика средней выручки по месяцам на абонента в зависимости от тарифа')\n",
    "plt.xlabel('Месяц')\n",
    "plt.ylabel('выручка на абонента в мес (средняя)')\n",
    "plt.plot(df.query('tariff == \"smart\"').pivot_table(index='month', values='revenue_month', aggfunc='mean'), 'o', linestyle='solid', label='тариф Смарт')\n",
    "plt.plot(df.query('tariff == \"ultra\"').pivot_table(index='month', values='revenue_month', aggfunc='mean'), 'r*', linestyle='solid', label='тариф Ультра')\n",
    "plt.legend(loc=\"upper left\")\n",
    "plt.show()\n",
    "\n"
   ]
  },
  {
   "cell_type": "code",
   "execution_count": 54,
   "metadata": {},
   "outputs": [
    {
     "data": {
      "image/png": "[encoded data removed]",
      "text/plain": [
       "<Figure size 1080x504 with 1 Axes>"
      ]
     },
     "metadata": {
      "needs_background": "light"
     },
     "output_type": "display_data"
    }
   ],
   "source": [
    "# визуализируем динамику общей выручки от всех абонентов по тарифам (изменения каждый месяц)\n",
    "plt.figure(figsize=(15,7))\n",
    "plt.title('Динамика общей выручки по месяцам в зависимости от тарифа')\n",
    "plt.xlabel('Месяц')\n",
    "plt.ylabel('выручка_общая сумма в мес')\n",
    "plt.plot(df.query('tariff == \"smart\"').pivot_table(index='month', values='revenue_month', aggfunc='sum'), 'o', linestyle='solid', label='тариф Смарт')\n",
    "plt.plot(df.query('tariff == \"ultra\"').pivot_table(index='month', values='revenue_month', aggfunc='sum'), 'r*', linestyle='solid', label='тариф Ультра')\n",
    "plt.legend(loc=\"upper left\")\n",
    "plt.show()"
   ]
  },
  {
   "cell_type": "code",
   "execution_count": 55,
   "metadata": {},
   "outputs": [
    {
     "data": {
      "text/html": [
       "<div>\n",
       "<style scoped>\n",
       "    .dataframe tbody tr th:only-of-type {\n",
       "        vertical-align: middle;\n",
       "    }\n",
       "\n",
       "    .dataframe tbody tr th {\n",
       "        vertical-align: top;\n",
       "    }\n",
       "\n",
       "    .dataframe thead tr th {\n",
       "        text-align: left;\n",
       "    }\n",
       "\n",
       "    .dataframe thead tr:last-of-type th {\n",
       "        text-align: right;\n",
       "    }\n",
       "</style>\n",
       "<table border=\"1\" class=\"dataframe\">\n",
       "  <thead>\n",
       "    <tr>\n",
       "      <th></th>\n",
       "      <th colspan=\"4\" halign=\"left\">revenue_month</th>\n",
       "    </tr>\n",
       "    <tr>\n",
       "      <th></th>\n",
       "      <th>median</th>\n",
       "      <th>mean</th>\n",
       "      <th>sum</th>\n",
       "      <th>count</th>\n",
       "    </tr>\n",
       "    <tr>\n",
       "      <th>tariff</th>\n",
       "      <th></th>\n",
       "      <th></th>\n",
       "      <th></th>\n",
       "      <th></th>\n",
       "    </tr>\n",
       "  </thead>\n",
       "  <tbody>\n",
       "    <tr>\n",
       "      <td>smart</td>\n",
       "      <td>1021.0</td>\n",
       "      <td>1289.641704</td>\n",
       "      <td>2875901.0</td>\n",
       "      <td>2230</td>\n",
       "    </tr>\n",
       "    <tr>\n",
       "      <td>ultra</td>\n",
       "      <td>1950.0</td>\n",
       "      <td>2070.030426</td>\n",
       "      <td>2041050.0</td>\n",
       "      <td>986</td>\n",
       "    </tr>\n",
       "  </tbody>\n",
       "</table>\n",
       "</div>"
      ],
      "text/plain": [
       "       revenue_month                              \n",
       "              median         mean        sum count\n",
       "tariff                                            \n",
       "smart         1021.0  1289.641704  2875901.0  2230\n",
       "ultra         1950.0  2070.030426  2041050.0   986"
      ]
     },
     "execution_count": 55,
     "metadata": {},
     "output_type": "execute_result"
    }
   ],
   "source": [
    "# сделаем табличку по выручке для удобства сравнения\n",
    "df.groupby('tariff').agg({'revenue_month':['median','mean','sum', 'count']})"
   ]
  },
  {
   "cell_type": "code",
   "execution_count": 56,
   "metadata": {},
   "outputs": [
    {
     "data": {
      "text/plain": [
       "<matplotlib.axes._subplots.AxesSubplot at 0x7f0cd4fa1e50>"
      ]
     },
     "execution_count": 56,
     "metadata": {},
     "output_type": "execute_result"
    },
    {
     "data": {
      "image/png": "[encoded data removed]",
      "text/plain": [
       "<Figure size 720x576 with 1 Axes>"
      ]
     },
     "metadata": {},
     "output_type": "display_data"
    }
   ],
   "source": [
    "#визуализируем долю общей выручки по тарифам\n",
    "df.groupby('tariff').agg({'revenue_month':'sum'}).plot.pie(y='revenue_month', figsize=(10, 8))"
   ]
  },
  {
   "cell_type": "markdown",
   "metadata": {},
   "source": [
    "Мы произвели анализ  всех показателей активности пользователей  тарифов \"Ультра\" и \"Смарт\". При исследовании мы увидели, что в среднем абоненты, которые пользуются \"Смарт\", потребляют меньше ресурсов по услугам компании-оператора сотовой связи (исследовали количество звонков, длительность разговоров, сообщения и трафик интернет), чем клиенты, подключенные к \"Ультра\".\n",
    "\n",
    "С другой стороны, важным критерием является выручка, которую получит компания, от пользователей тарифов сотовой связи. При исследовании данных мы увидели, что пользователи тарифа \"Смарт\" и платят в среднем меньше, чем пользователи тарифа \"Ультра\", хоть и чаще превышают лимиты, установленные тарифом (то есть выходят за рамки предоплаченных услуг и дают тем самым дополнительную выручку).\n",
    "\n",
    "Исходя из предоставленных данных  для анализа - пропорции потребления и выручки по разным тарифным планам  свидетельствуют о более высокой прибыльности тарифа \"Ультра\" для компании. Причём, во всех регионах, включая Москву. Следует особо отметить: предположение, что выручка пользователей из Москвы и из других регионов равны между собой - не было опровергнуто. Следовательно, стоит обратить равное внимание на проведение рекламной компании как в Москве, так и в других регионах страны. \n",
    "\n",
    "Еще я бы не исключала того, что при повышенном объеме потребления услуг абонентами тарифа \"Ультра\", увеличиваются и затраты компании на обслуживание предоставления такого объема услуг. Поэтому для более точного понимания и предоставления рекомендации компании,  на рекламную компанию какого из двух тарифов  более выгодно вложить денежные средства, я бы еще запросила данные по затратам на предоставленные услуги в зависимости об объема и применив разницу (выручка минус расходы), смогла бы приблизиться к более точному пониманию ответа на поставленную задачу.\n",
    "\n",
    "Также при принятии решения, нужно учитывать, что абоненты тарифа \"Смарт\" часто превышают установленные пакетом лимиты услуг связи, и следовательно, несут большие затраты на мобильную связь, чем предполагали. Такой факт может повлиять на отток абонентов к конкурентам. В этой связи я бы рекомендовала компании подумать над решением задачи: возможно стоило бы пересмотреть условия пакета \"Смарт\", предоставлении различных дисконтов, выгодного перевода на другие тарифы этой же сети, чтобы мотивировать абонентов сохранить контракт с компанией.\n",
    "\n",
    "Дополнительно, хотелось бы обратить внимание и на крайне редкое использование услуги смс-сообщений абонентами сети  в пакете \"Ультра\" они почти не востребованы, а объем по лимиту большой. Так, в среднем абоненты \"Ультра\" используют 49 смс-сообщений в месяц, в то время как по тарифу лимит смс-сообщений равен 1000!  Возможно было бы целесообразно перенаправить невостребованные мощности по техническому обслуживанию такой опции, на что-то более выгодное для компании \"Мегалайн\".  \n",
    "\n",
    "## Основной вывод по проекту\n",
    "\n",
    "В результате изучения графиков получения выручки по тарифам, видим, что помесячная выручка пользователей тарифа \"Ультра\" выше и растет, одновременно как самих пользователей более чем в 2 раза меньше (что может говорить именно о недостаточном уделении внимания рекламе именно для этого тарифа). Общая Выручка по тарифам \"Смарт\" на момент анализа выше и растет с каждым месяцем, а помесячная для абонента - ниже, но по тарифу \"Смарт\" и пользователей больше (более чем в 2 раза). Так при  общей выручке для абонентов \"Смарт\" 2875901 р. при количестве абонентов 2230, а в тарифе \"Ультра\" при общем количестве абонентов 986 выручка составляет 2041050 р. На основании исследования, прихожу к выводу, что нужно увеличить рекламный бюджет для тарифа \"Ультра\", при привлечении большего числа пользователей тарифа \"Ультра\" - выручка очень возрастет и будет значительно превышать выручку от пользователей тарифа \"Смарт\" при одинаковом количестве абонентов.\n",
    "\n",
    "\n",
    "\n"
   ]
  }
 ],
 "metadata": {
  "ExecuteTimeLog": [
   {
    "duration": 1123,
    "start_time": "2022-02-09T17:29:10.708Z"
   },
   {
    "duration": 5,
    "start_time": "2022-02-09T17:31:56.879Z"
   },
   {
    "duration": 356,
    "start_time": "2022-02-09T17:33:08.364Z"
   },
   {
    "duration": 22,
    "start_time": "2022-02-09T17:37:52.070Z"
   },
   {
    "duration": 24,
    "start_time": "2022-02-09T17:41:17.016Z"
   },
   {
    "duration": 16,
    "start_time": "2022-02-09T17:42:45.039Z"
   },
   {
    "duration": 18,
    "start_time": "2022-02-09T17:43:11.273Z"
   },
   {
    "duration": 18,
    "start_time": "2022-02-09T17:43:55.983Z"
   },
   {
    "duration": 20,
    "start_time": "2022-02-09T17:44:31.568Z"
   },
   {
    "duration": 21,
    "start_time": "2022-02-09T17:45:35.150Z"
   },
   {
    "duration": 23,
    "start_time": "2022-02-09T17:46:47.381Z"
   },
   {
    "duration": 20,
    "start_time": "2022-02-09T17:47:04.200Z"
   },
   {
    "duration": 4,
    "start_time": "2022-02-09T17:54:30.722Z"
   },
   {
    "duration": 1163,
    "start_time": "2022-02-09T17:54:42.853Z"
   },
   {
    "duration": 378,
    "start_time": "2022-02-09T17:54:44.018Z"
   },
   {
    "duration": 23,
    "start_time": "2022-02-09T17:54:44.397Z"
   },
   {
    "duration": 4,
    "start_time": "2022-02-09T17:55:26.762Z"
   },
   {
    "duration": 1073,
    "start_time": "2022-02-09T17:55:36.744Z"
   },
   {
    "duration": 364,
    "start_time": "2022-02-09T17:55:37.819Z"
   },
   {
    "duration": 22,
    "start_time": "2022-02-09T17:55:38.185Z"
   },
   {
    "duration": 5,
    "start_time": "2022-02-09T17:56:20.736Z"
   },
   {
    "duration": 1268,
    "start_time": "2022-02-09T17:56:29.154Z"
   },
   {
    "duration": 391,
    "start_time": "2022-02-09T17:56:30.424Z"
   },
   {
    "duration": 22,
    "start_time": "2022-02-09T17:56:30.817Z"
   },
   {
    "duration": 22,
    "start_time": "2022-02-09T17:59:29.789Z"
   },
   {
    "duration": 6,
    "start_time": "2022-02-09T18:00:22.053Z"
   },
   {
    "duration": 370,
    "start_time": "2022-02-09T18:01:50.771Z"
   },
   {
    "duration": 5,
    "start_time": "2022-02-09T18:01:55.243Z"
   },
   {
    "duration": 8,
    "start_time": "2022-02-09T18:02:27.197Z"
   },
   {
    "duration": 99,
    "start_time": "2022-02-09T18:02:46.512Z"
   },
   {
    "duration": 373,
    "start_time": "2022-02-09T18:02:58.088Z"
   },
   {
    "duration": 6,
    "start_time": "2022-02-09T18:03:01.674Z"
   },
   {
    "duration": 355,
    "start_time": "2022-02-09T18:03:37.724Z"
   },
   {
    "duration": 9,
    "start_time": "2022-02-09T18:03:40.949Z"
   },
   {
    "duration": 11,
    "start_time": "2022-02-09T18:04:34.713Z"
   },
   {
    "duration": 9,
    "start_time": "2022-02-09T18:05:01.809Z"
   },
   {
    "duration": 10,
    "start_time": "2022-02-09T18:05:16.047Z"
   },
   {
    "duration": 10,
    "start_time": "2022-02-09T18:05:36.714Z"
   },
   {
    "duration": 1084,
    "start_time": "2022-02-09T18:05:47.040Z"
   },
   {
    "duration": 366,
    "start_time": "2022-02-09T18:05:48.125Z"
   },
   {
    "duration": 11,
    "start_time": "2022-02-09T18:05:48.493Z"
   },
   {
    "duration": 11,
    "start_time": "2022-02-09T18:05:48.505Z"
   },
   {
    "duration": 10,
    "start_time": "2022-02-09T18:05:48.517Z"
   },
   {
    "duration": 21,
    "start_time": "2022-02-09T18:05:48.529Z"
   },
   {
    "duration": 5,
    "start_time": "2022-02-09T18:11:31.498Z"
   },
   {
    "duration": 355,
    "start_time": "2022-02-09T18:11:34.191Z"
   },
   {
    "duration": 10,
    "start_time": "2022-02-09T18:11:38.440Z"
   },
   {
    "duration": 1136,
    "start_time": "2022-02-09T18:11:52.791Z"
   },
   {
    "duration": 420,
    "start_time": "2022-02-09T18:11:53.929Z"
   },
   {
    "duration": 16,
    "start_time": "2022-02-09T18:11:54.351Z"
   },
   {
    "duration": 12,
    "start_time": "2022-02-09T18:11:54.369Z"
   },
   {
    "duration": 10,
    "start_time": "2022-02-09T18:11:54.382Z"
   },
   {
    "duration": 34,
    "start_time": "2022-02-09T18:11:54.394Z"
   },
   {
    "duration": 9,
    "start_time": "2022-02-09T18:21:47.609Z"
   },
   {
    "duration": 8,
    "start_time": "2022-02-09T18:22:18.906Z"
   },
   {
    "duration": 18,
    "start_time": "2022-02-09T18:23:05.081Z"
   },
   {
    "duration": 143,
    "start_time": "2022-02-09T18:23:59.772Z"
   },
   {
    "duration": 9,
    "start_time": "2022-02-09T18:41:36.712Z"
   },
   {
    "duration": 7,
    "start_time": "2022-02-09T18:42:13.203Z"
   },
   {
    "duration": 12,
    "start_time": "2022-02-09T18:42:50.017Z"
   },
   {
    "duration": 63,
    "start_time": "2022-02-09T18:43:42.407Z"
   },
   {
    "duration": 9,
    "start_time": "2022-02-09T18:49:28.284Z"
   },
   {
    "duration": 8,
    "start_time": "2022-02-09T18:49:53.619Z"
   },
   {
    "duration": 12,
    "start_time": "2022-02-09T18:50:43.874Z"
   },
   {
    "duration": 100,
    "start_time": "2022-02-09T18:51:42.092Z"
   },
   {
    "duration": 8,
    "start_time": "2022-02-09T19:38:49.859Z"
   },
   {
    "duration": 7,
    "start_time": "2022-02-09T19:39:14.382Z"
   },
   {
    "duration": 28,
    "start_time": "2022-02-09T19:40:18.178Z"
   },
   {
    "duration": 117,
    "start_time": "2022-02-09T19:42:30.854Z"
   },
   {
    "duration": 6,
    "start_time": "2022-02-09T20:00:21.476Z"
   },
   {
    "duration": 6,
    "start_time": "2022-02-09T20:00:41.277Z"
   },
   {
    "duration": 40,
    "start_time": "2022-02-09T20:03:38.860Z"
   },
   {
    "duration": 9,
    "start_time": "2022-02-09T20:03:55.271Z"
   },
   {
    "duration": 10,
    "start_time": "2022-02-09T20:10:49.764Z"
   },
   {
    "duration": 9,
    "start_time": "2022-02-09T20:11:09.414Z"
   },
   {
    "duration": 9,
    "start_time": "2022-02-09T20:11:28.661Z"
   },
   {
    "duration": 9,
    "start_time": "2022-02-09T20:12:53.772Z"
   },
   {
    "duration": 455,
    "start_time": "2022-02-09T20:14:59.775Z"
   },
   {
    "duration": 13,
    "start_time": "2022-02-09T20:15:16.340Z"
   },
   {
    "duration": 43,
    "start_time": "2022-02-09T20:16:57.598Z"
   },
   {
    "duration": 18,
    "start_time": "2022-02-09T21:21:40.723Z"
   },
   {
    "duration": 19,
    "start_time": "2022-02-09T21:22:33.149Z"
   },
   {
    "duration": 18,
    "start_time": "2022-02-09T21:22:52.180Z"
   },
   {
    "duration": 19,
    "start_time": "2022-02-09T21:23:06.919Z"
   },
   {
    "duration": 16,
    "start_time": "2022-02-09T21:23:27.517Z"
   },
   {
    "duration": 16,
    "start_time": "2022-02-09T21:23:34.879Z"
   },
   {
    "duration": 18,
    "start_time": "2022-02-09T21:23:48.343Z"
   },
   {
    "duration": 18,
    "start_time": "2022-02-09T21:24:56.286Z"
   },
   {
    "duration": 24,
    "start_time": "2022-02-09T21:32:57.467Z"
   },
   {
    "duration": 26,
    "start_time": "2022-02-09T21:33:18.526Z"
   },
   {
    "duration": 9,
    "start_time": "2022-02-09T21:35:11.888Z"
   },
   {
    "duration": 23,
    "start_time": "2022-02-09T21:37:03.035Z"
   },
   {
    "duration": 14,
    "start_time": "2022-02-09T21:37:10.411Z"
   },
   {
    "duration": 1129,
    "start_time": "2022-02-09T21:37:26.797Z"
   },
   {
    "duration": 388,
    "start_time": "2022-02-09T21:37:27.927Z"
   },
   {
    "duration": 12,
    "start_time": "2022-02-09T21:37:28.316Z"
   },
   {
    "duration": 9,
    "start_time": "2022-02-09T21:37:28.329Z"
   },
   {
    "duration": 9,
    "start_time": "2022-02-09T21:37:28.340Z"
   },
   {
    "duration": 17,
    "start_time": "2022-02-09T21:37:28.351Z"
   },
   {
    "duration": 6,
    "start_time": "2022-02-09T21:37:28.370Z"
   },
   {
    "duration": 7,
    "start_time": "2022-02-09T21:37:28.379Z"
   },
   {
    "duration": 43,
    "start_time": "2022-02-09T21:37:28.388Z"
   },
   {
    "duration": 140,
    "start_time": "2022-02-09T21:37:28.433Z"
   },
   {
    "duration": 6,
    "start_time": "2022-02-09T21:37:28.575Z"
   },
   {
    "duration": 8,
    "start_time": "2022-02-09T21:37:28.582Z"
   },
   {
    "duration": 10,
    "start_time": "2022-02-09T21:37:28.591Z"
   },
   {
    "duration": 75,
    "start_time": "2022-02-09T21:37:28.603Z"
   },
   {
    "duration": 8,
    "start_time": "2022-02-09T21:37:28.679Z"
   },
   {
    "duration": 9,
    "start_time": "2022-02-09T21:37:28.688Z"
   },
   {
    "duration": 32,
    "start_time": "2022-02-09T21:37:28.698Z"
   },
   {
    "duration": 113,
    "start_time": "2022-02-09T21:37:28.732Z"
   },
   {
    "duration": 8,
    "start_time": "2022-02-09T21:37:28.847Z"
   },
   {
    "duration": 27,
    "start_time": "2022-02-09T21:37:28.857Z"
   },
   {
    "duration": 5,
    "start_time": "2022-02-09T21:37:28.885Z"
   },
   {
    "duration": 9,
    "start_time": "2022-02-09T21:37:28.892Z"
   },
   {
    "duration": 63,
    "start_time": "2022-02-09T21:37:28.903Z"
   },
   {
    "duration": 9,
    "start_time": "2022-02-09T21:37:28.968Z"
   },
   {
    "duration": 8,
    "start_time": "2022-02-09T21:37:28.978Z"
   },
   {
    "duration": 45,
    "start_time": "2022-02-09T21:37:28.987Z"
   },
   {
    "duration": 39,
    "start_time": "2022-02-09T21:37:29.034Z"
   },
   {
    "duration": 25,
    "start_time": "2022-02-09T21:37:29.074Z"
   },
   {
    "duration": 42,
    "start_time": "2022-02-09T21:37:29.100Z"
   },
   {
    "duration": 7,
    "start_time": "2022-02-09T21:37:47.243Z"
   },
   {
    "duration": 15,
    "start_time": "2022-02-09T21:42:57.303Z"
   },
   {
    "duration": 7,
    "start_time": "2022-02-09T21:43:01.077Z"
   },
   {
    "duration": 16,
    "start_time": "2022-02-09T21:44:05.394Z"
   },
   {
    "duration": 15,
    "start_time": "2022-02-09T21:45:26.105Z"
   },
   {
    "duration": 7,
    "start_time": "2022-02-09T21:45:29.194Z"
   },
   {
    "duration": 26,
    "start_time": "2022-02-09T21:49:22.005Z"
   },
   {
    "duration": 25,
    "start_time": "2022-02-09T21:49:45.972Z"
   },
   {
    "duration": 7,
    "start_time": "2022-02-09T21:50:18.717Z"
   },
   {
    "duration": 7,
    "start_time": "2022-02-09T21:50:50.793Z"
   },
   {
    "duration": 25,
    "start_time": "2022-02-09T21:51:01.890Z"
   },
   {
    "duration": 25,
    "start_time": "2022-02-09T21:52:04.157Z"
   },
   {
    "duration": 427,
    "start_time": "2022-02-09T22:05:21.460Z"
   },
   {
    "duration": 34,
    "start_time": "2022-02-09T22:05:34.822Z"
   },
   {
    "duration": 333,
    "start_time": "2022-02-09T22:20:30.528Z"
   },
   {
    "duration": 17,
    "start_time": "2022-02-09T22:20:53.905Z"
   },
   {
    "duration": 340,
    "start_time": "2022-02-09T22:21:36.209Z"
   },
   {
    "duration": 18,
    "start_time": "2022-02-09T22:21:52.591Z"
   },
   {
    "duration": 352,
    "start_time": "2022-02-09T22:27:20.620Z"
   },
   {
    "duration": 352,
    "start_time": "2022-02-09T22:28:49.116Z"
   },
   {
    "duration": 330,
    "start_time": "2022-02-09T22:31:51.828Z"
   },
   {
    "duration": 343,
    "start_time": "2022-02-09T22:32:24.723Z"
   },
   {
    "duration": 376,
    "start_time": "2022-02-09T22:32:48.562Z"
   },
   {
    "duration": 347,
    "start_time": "2022-02-09T22:33:12.119Z"
   },
   {
    "duration": 26,
    "start_time": "2022-02-09T22:33:27.887Z"
   },
   {
    "duration": 35,
    "start_time": "2022-02-09T22:34:15.162Z"
   },
   {
    "duration": 25,
    "start_time": "2022-02-09T22:34:30.318Z"
   },
   {
    "duration": 405,
    "start_time": "2022-02-09T22:54:38.471Z"
   },
   {
    "duration": 26,
    "start_time": "2022-02-09T22:57:05.687Z"
   },
   {
    "duration": 24,
    "start_time": "2022-02-09T22:57:22.620Z"
   },
   {
    "duration": 127,
    "start_time": "2022-02-09T23:01:06.259Z"
   },
   {
    "duration": 6,
    "start_time": "2022-02-09T23:01:24.228Z"
   },
   {
    "duration": -669,
    "start_time": "2022-02-09T23:02:12.207Z"
   },
   {
    "duration": 4,
    "start_time": "2022-02-09T23:02:33.817Z"
   },
   {
    "duration": 9053,
    "start_time": "2022-02-09T23:02:47.614Z"
   },
   {
    "duration": 5,
    "start_time": "2022-02-09T23:11:27.833Z"
   },
   {
    "duration": 9102,
    "start_time": "2022-02-09T23:11:31.917Z"
   },
   {
    "duration": 5,
    "start_time": "2022-02-09T23:12:14.912Z"
   },
   {
    "duration": 2445,
    "start_time": "2022-02-09T23:12:19.250Z"
   },
   {
    "duration": 1080,
    "start_time": "2022-02-09T23:30:10.442Z"
   },
   {
    "duration": 383,
    "start_time": "2022-02-09T23:30:11.524Z"
   },
   {
    "duration": 15,
    "start_time": "2022-02-09T23:30:11.909Z"
   },
   {
    "duration": 8,
    "start_time": "2022-02-09T23:30:11.926Z"
   },
   {
    "duration": 10,
    "start_time": "2022-02-09T23:30:11.935Z"
   },
   {
    "duration": 17,
    "start_time": "2022-02-09T23:30:11.946Z"
   },
   {
    "duration": 7,
    "start_time": "2022-02-09T23:30:11.964Z"
   },
   {
    "duration": 11,
    "start_time": "2022-02-09T23:30:11.973Z"
   },
   {
    "duration": 14,
    "start_time": "2022-02-09T23:30:11.986Z"
   },
   {
    "duration": 158,
    "start_time": "2022-02-09T23:30:12.002Z"
   },
   {
    "duration": 6,
    "start_time": "2022-02-09T23:30:12.162Z"
   },
   {
    "duration": 8,
    "start_time": "2022-02-09T23:30:12.169Z"
   },
   {
    "duration": 9,
    "start_time": "2022-02-09T23:30:12.178Z"
   },
   {
    "duration": 79,
    "start_time": "2022-02-09T23:30:12.188Z"
   },
   {
    "duration": 7,
    "start_time": "2022-02-09T23:30:12.269Z"
   },
   {
    "duration": 9,
    "start_time": "2022-02-09T23:30:12.277Z"
   },
   {
    "duration": 11,
    "start_time": "2022-02-09T23:30:12.287Z"
   },
   {
    "duration": 126,
    "start_time": "2022-02-09T23:30:12.300Z"
   },
   {
    "duration": 6,
    "start_time": "2022-02-09T23:30:12.428Z"
   },
   {
    "duration": 25,
    "start_time": "2022-02-09T23:30:12.436Z"
   },
   {
    "duration": 5,
    "start_time": "2022-02-09T23:30:12.462Z"
   },
   {
    "duration": 11,
    "start_time": "2022-02-09T23:30:12.469Z"
   },
   {
    "duration": 61,
    "start_time": "2022-02-09T23:30:12.483Z"
   },
   {
    "duration": 9,
    "start_time": "2022-02-09T23:30:12.546Z"
   },
   {
    "duration": 8,
    "start_time": "2022-02-09T23:30:12.556Z"
   },
   {
    "duration": 29,
    "start_time": "2022-02-09T23:30:12.565Z"
   },
   {
    "duration": 60,
    "start_time": "2022-02-09T23:30:12.595Z"
   },
   {
    "duration": 25,
    "start_time": "2022-02-09T23:30:12.656Z"
   },
   {
    "duration": 21,
    "start_time": "2022-02-09T23:30:12.682Z"
   },
   {
    "duration": 24,
    "start_time": "2022-02-09T23:30:12.704Z"
   },
   {
    "duration": 27,
    "start_time": "2022-02-09T23:30:12.729Z"
   },
   {
    "duration": 38,
    "start_time": "2022-02-09T23:30:12.757Z"
   },
   {
    "duration": 42,
    "start_time": "2022-02-09T23:30:12.797Z"
   },
   {
    "duration": 113,
    "start_time": "2022-02-09T23:30:12.841Z"
   },
   {
    "duration": -160,
    "start_time": "2022-02-09T23:30:13.115Z"
   },
   {
    "duration": 1219,
    "start_time": "2022-02-09T23:30:32.011Z"
   },
   {
    "duration": 373,
    "start_time": "2022-02-09T23:30:33.231Z"
   },
   {
    "duration": 12,
    "start_time": "2022-02-09T23:30:33.606Z"
   },
   {
    "duration": 13,
    "start_time": "2022-02-09T23:30:33.620Z"
   },
   {
    "duration": 12,
    "start_time": "2022-02-09T23:30:33.634Z"
   },
   {
    "duration": 21,
    "start_time": "2022-02-09T23:30:33.648Z"
   },
   {
    "duration": 6,
    "start_time": "2022-02-09T23:30:33.671Z"
   },
   {
    "duration": 9,
    "start_time": "2022-02-09T23:30:33.680Z"
   },
   {
    "duration": 11,
    "start_time": "2022-02-09T23:30:33.692Z"
   },
   {
    "duration": 161,
    "start_time": "2022-02-09T23:30:33.705Z"
   },
   {
    "duration": 7,
    "start_time": "2022-02-09T23:30:33.868Z"
   },
   {
    "duration": 8,
    "start_time": "2022-02-09T23:30:33.877Z"
   },
   {
    "duration": 10,
    "start_time": "2022-02-09T23:30:33.886Z"
   },
   {
    "duration": 88,
    "start_time": "2022-02-09T23:30:33.898Z"
   },
   {
    "duration": 8,
    "start_time": "2022-02-09T23:30:33.988Z"
   },
   {
    "duration": 30,
    "start_time": "2022-02-09T23:30:33.998Z"
   },
   {
    "duration": 11,
    "start_time": "2022-02-09T23:30:34.029Z"
   },
   {
    "duration": 114,
    "start_time": "2022-02-09T23:30:34.041Z"
   },
   {
    "duration": 7,
    "start_time": "2022-02-09T23:30:34.157Z"
   },
   {
    "duration": 32,
    "start_time": "2022-02-09T23:30:34.166Z"
   },
   {
    "duration": 27,
    "start_time": "2022-02-09T23:30:34.200Z"
   },
   {
    "duration": 10,
    "start_time": "2022-02-09T23:30:34.229Z"
   },
   {
    "duration": 63,
    "start_time": "2022-02-09T23:30:34.242Z"
   },
   {
    "duration": 23,
    "start_time": "2022-02-09T23:30:34.308Z"
   },
   {
    "duration": 9,
    "start_time": "2022-02-09T23:30:34.332Z"
   },
   {
    "duration": 31,
    "start_time": "2022-02-09T23:30:34.343Z"
   },
   {
    "duration": 60,
    "start_time": "2022-02-09T23:30:34.375Z"
   },
   {
    "duration": 25,
    "start_time": "2022-02-09T23:30:34.437Z"
   },
   {
    "duration": 20,
    "start_time": "2022-02-09T23:30:34.463Z"
   },
   {
    "duration": 6,
    "start_time": "2022-02-09T23:30:34.485Z"
   },
   {
    "duration": 52,
    "start_time": "2022-02-09T23:30:34.493Z"
   },
   {
    "duration": 37,
    "start_time": "2022-02-09T23:30:34.547Z"
   },
   {
    "duration": 26,
    "start_time": "2022-02-09T23:30:34.585Z"
   },
   {
    "duration": 119,
    "start_time": "2022-02-09T23:30:34.612Z"
   },
   {
    "duration": -235,
    "start_time": "2022-02-09T23:30:34.968Z"
   },
   {
    "duration": 1067,
    "start_time": "2022-02-09T23:30:56.957Z"
   },
   {
    "duration": 372,
    "start_time": "2022-02-09T23:30:58.026Z"
   },
   {
    "duration": 12,
    "start_time": "2022-02-09T23:30:58.400Z"
   },
   {
    "duration": 10,
    "start_time": "2022-02-09T23:30:58.414Z"
   },
   {
    "duration": 11,
    "start_time": "2022-02-09T23:30:58.425Z"
   },
   {
    "duration": 18,
    "start_time": "2022-02-09T23:30:58.437Z"
   },
   {
    "duration": 6,
    "start_time": "2022-02-09T23:30:58.457Z"
   },
   {
    "duration": 9,
    "start_time": "2022-02-09T23:30:58.465Z"
   },
   {
    "duration": 12,
    "start_time": "2022-02-09T23:30:58.476Z"
   },
   {
    "duration": 171,
    "start_time": "2022-02-09T23:30:58.490Z"
   },
   {
    "duration": 6,
    "start_time": "2022-02-09T23:30:58.663Z"
   },
   {
    "duration": 9,
    "start_time": "2022-02-09T23:30:58.670Z"
   },
   {
    "duration": 9,
    "start_time": "2022-02-09T23:30:58.680Z"
   },
   {
    "duration": 66,
    "start_time": "2022-02-09T23:30:58.690Z"
   },
   {
    "duration": 7,
    "start_time": "2022-02-09T23:30:58.757Z"
   },
   {
    "duration": 10,
    "start_time": "2022-02-09T23:30:58.765Z"
   },
   {
    "duration": 10,
    "start_time": "2022-02-09T23:30:58.776Z"
   },
   {
    "duration": 102,
    "start_time": "2022-02-09T23:30:58.787Z"
   },
   {
    "duration": 7,
    "start_time": "2022-02-09T23:30:58.890Z"
   },
   {
    "duration": 33,
    "start_time": "2022-02-09T23:30:58.898Z"
   },
   {
    "duration": 5,
    "start_time": "2022-02-09T23:30:58.933Z"
   },
   {
    "duration": 7,
    "start_time": "2022-02-09T23:30:58.939Z"
   },
   {
    "duration": 41,
    "start_time": "2022-02-09T23:30:58.947Z"
   },
   {
    "duration": 8,
    "start_time": "2022-02-09T23:30:58.990Z"
   },
   {
    "duration": 8,
    "start_time": "2022-02-09T23:30:58.999Z"
   },
   {
    "duration": 28,
    "start_time": "2022-02-09T23:30:59.009Z"
   },
   {
    "duration": 54,
    "start_time": "2022-02-09T23:30:59.040Z"
   },
   {
    "duration": 32,
    "start_time": "2022-02-09T23:30:59.096Z"
   },
   {
    "duration": 30,
    "start_time": "2022-02-09T23:30:59.130Z"
   },
   {
    "duration": 8,
    "start_time": "2022-02-09T23:30:59.162Z"
   },
   {
    "duration": 33,
    "start_time": "2022-02-09T23:30:59.172Z"
   },
   {
    "duration": 34,
    "start_time": "2022-02-09T23:30:59.207Z"
   },
   {
    "duration": 25,
    "start_time": "2022-02-09T23:30:59.243Z"
   },
   {
    "duration": 2,
    "start_time": "2022-02-09T23:30:59.269Z"
   },
   {
    "duration": 431,
    "start_time": "2022-02-09T23:30:59.273Z"
   },
   {
    "duration": 6,
    "start_time": "2022-02-09T23:32:35.824Z"
   },
   {
    "duration": 8,
    "start_time": "2022-02-09T23:37:43.949Z"
   },
   {
    "duration": 8,
    "start_time": "2022-02-09T23:38:07.619Z"
   },
   {
    "duration": 8,
    "start_time": "2022-02-09T23:38:29.210Z"
   },
   {
    "duration": 1085,
    "start_time": "2022-02-09T23:44:39.825Z"
   },
   {
    "duration": 374,
    "start_time": "2022-02-09T23:44:40.912Z"
   },
   {
    "duration": 13,
    "start_time": "2022-02-09T23:44:41.288Z"
   },
   {
    "duration": 11,
    "start_time": "2022-02-09T23:44:41.303Z"
   },
   {
    "duration": 12,
    "start_time": "2022-02-09T23:44:41.316Z"
   },
   {
    "duration": 19,
    "start_time": "2022-02-09T23:44:41.329Z"
   },
   {
    "duration": 7,
    "start_time": "2022-02-09T23:44:41.349Z"
   },
   {
    "duration": 8,
    "start_time": "2022-02-09T23:44:41.357Z"
   },
   {
    "duration": 11,
    "start_time": "2022-02-09T23:44:41.367Z"
   },
   {
    "duration": 156,
    "start_time": "2022-02-09T23:44:41.380Z"
   },
   {
    "duration": 6,
    "start_time": "2022-02-09T23:44:41.538Z"
   },
   {
    "duration": 9,
    "start_time": "2022-02-09T23:44:41.545Z"
   },
   {
    "duration": 11,
    "start_time": "2022-02-09T23:44:41.555Z"
   },
   {
    "duration": 76,
    "start_time": "2022-02-09T23:44:41.567Z"
   },
   {
    "duration": 7,
    "start_time": "2022-02-09T23:44:41.645Z"
   },
   {
    "duration": 12,
    "start_time": "2022-02-09T23:44:41.653Z"
   },
   {
    "duration": 11,
    "start_time": "2022-02-09T23:44:41.666Z"
   },
   {
    "duration": 117,
    "start_time": "2022-02-09T23:44:41.678Z"
   },
   {
    "duration": 7,
    "start_time": "2022-02-09T23:44:41.796Z"
   },
   {
    "duration": 36,
    "start_time": "2022-02-09T23:44:41.804Z"
   },
   {
    "duration": 6,
    "start_time": "2022-02-09T23:44:41.842Z"
   },
   {
    "duration": 8,
    "start_time": "2022-02-09T23:44:41.850Z"
   },
   {
    "duration": 41,
    "start_time": "2022-02-09T23:44:41.862Z"
   },
   {
    "duration": 25,
    "start_time": "2022-02-09T23:44:41.905Z"
   },
   {
    "duration": 8,
    "start_time": "2022-02-09T23:44:41.931Z"
   },
   {
    "duration": 29,
    "start_time": "2022-02-09T23:44:41.940Z"
   },
   {
    "duration": 58,
    "start_time": "2022-02-09T23:44:41.971Z"
   },
   {
    "duration": 24,
    "start_time": "2022-02-09T23:44:42.031Z"
   },
   {
    "duration": 22,
    "start_time": "2022-02-09T23:44:42.057Z"
   },
   {
    "duration": 6,
    "start_time": "2022-02-09T23:44:42.080Z"
   },
   {
    "duration": 44,
    "start_time": "2022-02-09T23:44:42.087Z"
   },
   {
    "duration": 32,
    "start_time": "2022-02-09T23:44:42.132Z"
   },
   {
    "duration": 26,
    "start_time": "2022-02-09T23:44:42.165Z"
   },
   {
    "duration": 7,
    "start_time": "2022-02-09T23:44:42.193Z"
   },
   {
    "duration": 9,
    "start_time": "2022-02-09T23:44:42.227Z"
   },
   {
    "duration": 8,
    "start_time": "2022-02-09T23:44:42.238Z"
   },
   {
    "duration": 2,
    "start_time": "2022-02-09T23:44:42.248Z"
   },
   {
    "duration": 6,
    "start_time": "2022-02-09T23:44:42.252Z"
   },
   {
    "duration": 397,
    "start_time": "2022-02-09T23:50:36.143Z"
   },
   {
    "duration": 343,
    "start_time": "2022-02-09T23:51:11.279Z"
   },
   {
    "duration": 19,
    "start_time": "2022-02-09T23:52:18.437Z"
   },
   {
    "duration": 318,
    "start_time": "2022-02-09T23:52:47.901Z"
   },
   {
    "duration": 6,
    "start_time": "2022-02-10T00:01:30.229Z"
   },
   {
    "duration": 3467,
    "start_time": "2022-02-10T00:01:58.232Z"
   },
   {
    "duration": 3135,
    "start_time": "2022-02-10T00:02:47.032Z"
   },
   {
    "duration": 5,
    "start_time": "2022-02-10T00:10:28.976Z"
   },
   {
    "duration": 3728,
    "start_time": "2022-02-10T00:10:32.833Z"
   },
   {
    "duration": 5,
    "start_time": "2022-02-10T00:11:18.068Z"
   },
   {
    "duration": 5,
    "start_time": "2022-02-10T00:11:48.054Z"
   },
   {
    "duration": 2345,
    "start_time": "2022-02-10T00:11:51.864Z"
   },
   {
    "duration": 394,
    "start_time": "2022-02-10T00:25:01.893Z"
   },
   {
    "duration": 24,
    "start_time": "2022-02-10T00:25:13.158Z"
   },
   {
    "duration": 334,
    "start_time": "2022-02-10T00:26:23.144Z"
   },
   {
    "duration": 334,
    "start_time": "2022-02-10T00:26:32.552Z"
   },
   {
    "duration": 340,
    "start_time": "2022-02-10T00:28:01.627Z"
   },
   {
    "duration": 1109,
    "start_time": "2022-02-10T00:28:34.405Z"
   },
   {
    "duration": 365,
    "start_time": "2022-02-10T00:28:35.516Z"
   },
   {
    "duration": 13,
    "start_time": "2022-02-10T00:28:35.883Z"
   },
   {
    "duration": 9,
    "start_time": "2022-02-10T00:28:35.898Z"
   },
   {
    "duration": 10,
    "start_time": "2022-02-10T00:28:35.909Z"
   },
   {
    "duration": 19,
    "start_time": "2022-02-10T00:28:35.927Z"
   },
   {
    "duration": 7,
    "start_time": "2022-02-10T00:28:35.948Z"
   },
   {
    "duration": 8,
    "start_time": "2022-02-10T00:28:35.956Z"
   },
   {
    "duration": 11,
    "start_time": "2022-02-10T00:28:35.967Z"
   },
   {
    "duration": 175,
    "start_time": "2022-02-10T00:28:35.980Z"
   },
   {
    "duration": 7,
    "start_time": "2022-02-10T00:28:36.157Z"
   },
   {
    "duration": 9,
    "start_time": "2022-02-10T00:28:36.165Z"
   },
   {
    "duration": 10,
    "start_time": "2022-02-10T00:28:36.175Z"
   },
   {
    "duration": 80,
    "start_time": "2022-02-10T00:28:36.186Z"
   },
   {
    "duration": 8,
    "start_time": "2022-02-10T00:28:36.268Z"
   },
   {
    "duration": 9,
    "start_time": "2022-02-10T00:28:36.277Z"
   },
   {
    "duration": 11,
    "start_time": "2022-02-10T00:28:36.288Z"
   },
   {
    "duration": 128,
    "start_time": "2022-02-10T00:28:36.300Z"
   },
   {
    "duration": 6,
    "start_time": "2022-02-10T00:28:36.430Z"
   },
   {
    "duration": 27,
    "start_time": "2022-02-10T00:28:36.437Z"
   },
   {
    "duration": 5,
    "start_time": "2022-02-10T00:28:36.465Z"
   },
   {
    "duration": 7,
    "start_time": "2022-02-10T00:28:36.471Z"
   },
   {
    "duration": 63,
    "start_time": "2022-02-10T00:28:36.480Z"
   },
   {
    "duration": 9,
    "start_time": "2022-02-10T00:28:36.544Z"
   },
   {
    "duration": 8,
    "start_time": "2022-02-10T00:28:36.554Z"
   },
   {
    "duration": 29,
    "start_time": "2022-02-10T00:28:36.563Z"
   },
   {
    "duration": 60,
    "start_time": "2022-02-10T00:28:36.594Z"
   },
   {
    "duration": 24,
    "start_time": "2022-02-10T00:28:36.656Z"
   },
   {
    "duration": 21,
    "start_time": "2022-02-10T00:28:36.682Z"
   },
   {
    "duration": 6,
    "start_time": "2022-02-10T00:28:36.704Z"
   },
   {
    "duration": 25,
    "start_time": "2022-02-10T00:28:36.727Z"
   },
   {
    "duration": 29,
    "start_time": "2022-02-10T00:28:36.753Z"
   },
   {
    "duration": 23,
    "start_time": "2022-02-10T00:28:36.784Z"
   },
   {
    "duration": 5,
    "start_time": "2022-02-10T00:28:36.827Z"
   },
   {
    "duration": 7,
    "start_time": "2022-02-10T00:28:36.834Z"
   },
   {
    "duration": 8,
    "start_time": "2022-02-10T00:28:36.842Z"
   },
   {
    "duration": 16,
    "start_time": "2022-02-10T00:28:36.851Z"
   },
   {
    "duration": 2,
    "start_time": "2022-02-10T00:28:36.868Z"
   },
   {
    "duration": 6,
    "start_time": "2022-02-10T00:28:36.872Z"
   },
   {
    "duration": 463,
    "start_time": "2022-02-10T00:29:02.114Z"
   },
   {
    "duration": 329,
    "start_time": "2022-02-10T00:30:20.698Z"
   },
   {
    "duration": 328,
    "start_time": "2022-02-10T00:31:53.756Z"
   },
   {
    "duration": 335,
    "start_time": "2022-02-10T00:39:06.508Z"
   },
   {
    "duration": 350,
    "start_time": "2022-02-10T00:40:02.751Z"
   },
   {
    "duration": 339,
    "start_time": "2022-02-10T00:44:43.056Z"
   },
   {
    "duration": 339,
    "start_time": "2022-02-10T00:50:39.452Z"
   },
   {
    "duration": 1060,
    "start_time": "2022-02-10T00:51:17.847Z"
   },
   {
    "duration": 468,
    "start_time": "2022-02-10T00:51:18.909Z"
   },
   {
    "duration": 16,
    "start_time": "2022-02-10T00:51:19.379Z"
   },
   {
    "duration": 12,
    "start_time": "2022-02-10T00:51:19.398Z"
   },
   {
    "duration": 10,
    "start_time": "2022-02-10T00:51:19.412Z"
   },
   {
    "duration": 17,
    "start_time": "2022-02-10T00:51:19.427Z"
   },
   {
    "duration": 7,
    "start_time": "2022-02-10T00:51:19.445Z"
   },
   {
    "duration": 10,
    "start_time": "2022-02-10T00:51:19.453Z"
   },
   {
    "duration": 12,
    "start_time": "2022-02-10T00:51:19.465Z"
   },
   {
    "duration": 155,
    "start_time": "2022-02-10T00:51:19.479Z"
   },
   {
    "duration": 6,
    "start_time": "2022-02-10T00:51:19.635Z"
   },
   {
    "duration": 8,
    "start_time": "2022-02-10T00:51:19.642Z"
   },
   {
    "duration": 9,
    "start_time": "2022-02-10T00:51:19.652Z"
   },
   {
    "duration": 84,
    "start_time": "2022-02-10T00:51:19.663Z"
   },
   {
    "duration": 14,
    "start_time": "2022-02-10T00:51:19.749Z"
   },
   {
    "duration": 9,
    "start_time": "2022-02-10T00:51:19.765Z"
   },
   {
    "duration": 14,
    "start_time": "2022-02-10T00:51:19.776Z"
   },
   {
    "duration": 113,
    "start_time": "2022-02-10T00:51:19.791Z"
   },
   {
    "duration": 6,
    "start_time": "2022-02-10T00:51:19.906Z"
   },
   {
    "duration": 34,
    "start_time": "2022-02-10T00:51:19.913Z"
   },
   {
    "duration": 5,
    "start_time": "2022-02-10T00:51:19.949Z"
   },
   {
    "duration": 8,
    "start_time": "2022-02-10T00:51:19.955Z"
   },
   {
    "duration": 42,
    "start_time": "2022-02-10T00:51:19.964Z"
   },
   {
    "duration": 27,
    "start_time": "2022-02-10T00:51:20.007Z"
   },
   {
    "duration": 8,
    "start_time": "2022-02-10T00:51:20.036Z"
   },
   {
    "duration": 30,
    "start_time": "2022-02-10T00:51:20.046Z"
   },
   {
    "duration": 62,
    "start_time": "2022-02-10T00:51:20.079Z"
   },
   {
    "duration": 25,
    "start_time": "2022-02-10T00:51:20.143Z"
   },
   {
    "duration": 23,
    "start_time": "2022-02-10T00:51:20.169Z"
   },
   {
    "duration": 6,
    "start_time": "2022-02-10T00:51:20.194Z"
   },
   {
    "duration": 44,
    "start_time": "2022-02-10T00:51:20.201Z"
   },
   {
    "duration": 31,
    "start_time": "2022-02-10T00:51:20.246Z"
   },
   {
    "duration": 445,
    "start_time": "2022-02-10T00:51:20.278Z"
   },
   {
    "duration": 265,
    "start_time": "2022-02-10T00:51:20.460Z"
   },
   {
    "duration": 261,
    "start_time": "2022-02-10T00:51:20.465Z"
   },
   {
    "duration": 257,
    "start_time": "2022-02-10T00:51:20.469Z"
   },
   {
    "duration": 252,
    "start_time": "2022-02-10T00:51:20.475Z"
   },
   {
    "duration": 249,
    "start_time": "2022-02-10T00:51:20.479Z"
   },
   {
    "duration": 246,
    "start_time": "2022-02-10T00:51:20.483Z"
   },
   {
    "duration": 414,
    "start_time": "2022-02-10T00:52:12.624Z"
   },
   {
    "duration": 349,
    "start_time": "2022-02-10T00:55:45.717Z"
   },
   {
    "duration": 335,
    "start_time": "2022-02-10T00:56:20.329Z"
   },
   {
    "duration": 332,
    "start_time": "2022-02-10T00:56:34.120Z"
   },
   {
    "duration": 368,
    "start_time": "2022-02-10T00:57:07.332Z"
   },
   {
    "duration": 336,
    "start_time": "2022-02-10T00:57:44.587Z"
   },
   {
    "duration": 337,
    "start_time": "2022-02-10T01:06:37.858Z"
   },
   {
    "duration": 361,
    "start_time": "2022-02-10T01:08:42.386Z"
   },
   {
    "duration": 332,
    "start_time": "2022-02-10T01:08:52.115Z"
   },
   {
    "duration": 18,
    "start_time": "2022-02-10T01:08:59.247Z"
   },
   {
    "duration": 26,
    "start_time": "2022-02-10T01:13:45.355Z"
   },
   {
    "duration": 340,
    "start_time": "2022-02-10T01:15:26.858Z"
   },
   {
    "duration": 31,
    "start_time": "2022-02-10T01:17:37.182Z"
   },
   {
    "duration": 1126,
    "start_time": "2022-02-10T01:18:19.094Z"
   },
   {
    "duration": 372,
    "start_time": "2022-02-10T01:18:20.222Z"
   },
   {
    "duration": 12,
    "start_time": "2022-02-10T01:18:20.595Z"
   },
   {
    "duration": 9,
    "start_time": "2022-02-10T01:18:20.609Z"
   },
   {
    "duration": 10,
    "start_time": "2022-02-10T01:18:20.619Z"
   },
   {
    "duration": 19,
    "start_time": "2022-02-10T01:18:20.630Z"
   },
   {
    "duration": 6,
    "start_time": "2022-02-10T01:18:20.651Z"
   },
   {
    "duration": 7,
    "start_time": "2022-02-10T01:18:20.659Z"
   },
   {
    "duration": 13,
    "start_time": "2022-02-10T01:18:20.668Z"
   },
   {
    "duration": 148,
    "start_time": "2022-02-10T01:18:20.683Z"
   },
   {
    "duration": 6,
    "start_time": "2022-02-10T01:18:20.833Z"
   },
   {
    "duration": 7,
    "start_time": "2022-02-10T01:18:20.841Z"
   },
   {
    "duration": 9,
    "start_time": "2022-02-10T01:18:20.849Z"
   },
   {
    "duration": 83,
    "start_time": "2022-02-10T01:18:20.859Z"
   },
   {
    "duration": 8,
    "start_time": "2022-02-10T01:18:20.944Z"
   },
   {
    "duration": 9,
    "start_time": "2022-02-10T01:18:20.953Z"
   },
   {
    "duration": 10,
    "start_time": "2022-02-10T01:18:20.963Z"
   },
   {
    "duration": 120,
    "start_time": "2022-02-10T01:18:20.974Z"
   },
   {
    "duration": 7,
    "start_time": "2022-02-10T01:18:21.096Z"
   },
   {
    "duration": 43,
    "start_time": "2022-02-10T01:18:21.104Z"
   },
   {
    "duration": 5,
    "start_time": "2022-02-10T01:18:21.148Z"
   },
   {
    "duration": 11,
    "start_time": "2022-02-10T01:18:21.155Z"
   },
   {
    "duration": 39,
    "start_time": "2022-02-10T01:18:21.169Z"
   },
   {
    "duration": 20,
    "start_time": "2022-02-10T01:18:21.210Z"
   },
   {
    "duration": 7,
    "start_time": "2022-02-10T01:18:21.232Z"
   },
   {
    "duration": 29,
    "start_time": "2022-02-10T01:18:21.241Z"
   },
   {
    "duration": 60,
    "start_time": "2022-02-10T01:18:21.271Z"
   },
   {
    "duration": 24,
    "start_time": "2022-02-10T01:18:21.333Z"
   },
   {
    "duration": 22,
    "start_time": "2022-02-10T01:18:21.359Z"
   },
   {
    "duration": 6,
    "start_time": "2022-02-10T01:18:21.383Z"
   },
   {
    "duration": 47,
    "start_time": "2022-02-10T01:18:21.390Z"
   },
   {
    "duration": 31,
    "start_time": "2022-02-10T01:18:21.439Z"
   },
   {
    "duration": 31,
    "start_time": "2022-02-10T01:18:21.471Z"
   },
   {
    "duration": 4,
    "start_time": "2022-02-10T01:18:21.504Z"
   },
   {
    "duration": 24,
    "start_time": "2022-02-10T01:18:21.510Z"
   },
   {
    "duration": 9,
    "start_time": "2022-02-10T01:18:21.535Z"
   },
   {
    "duration": 2,
    "start_time": "2022-02-10T01:18:21.545Z"
   },
   {
    "duration": 8,
    "start_time": "2022-02-10T01:18:21.548Z"
   },
   {
    "duration": 7,
    "start_time": "2022-02-10T01:18:21.557Z"
   },
   {
    "duration": 4,
    "start_time": "2022-02-10T01:19:34.333Z"
   },
   {
    "duration": 119,
    "start_time": "2022-02-10T01:19:43.811Z"
   },
   {
    "duration": 114,
    "start_time": "2022-02-10T01:20:04.057Z"
   },
   {
    "duration": 5,
    "start_time": "2022-02-10T01:21:49.857Z"
   },
   {
    "duration": 3034,
    "start_time": "2022-02-10T01:21:53.960Z"
   },
   {
    "duration": 3015,
    "start_time": "2022-02-10T01:22:08.417Z"
   },
   {
    "duration": 3044,
    "start_time": "2022-02-10T01:22:48.884Z"
   },
   {
    "duration": 122,
    "start_time": "2022-02-10T01:45:03.927Z"
   },
   {
    "duration": 117,
    "start_time": "2022-02-10T01:47:12.020Z"
   },
   {
    "duration": 825,
    "start_time": "2022-02-10T01:53:23.127Z"
   },
   {
    "duration": 848,
    "start_time": "2022-02-10T01:54:41.883Z"
   },
   {
    "duration": 811,
    "start_time": "2022-02-10T01:55:46.350Z"
   },
   {
    "duration": 843,
    "start_time": "2022-02-10T01:59:59.459Z"
   },
   {
    "duration": 5,
    "start_time": "2022-02-10T02:00:50.162Z"
   },
   {
    "duration": 4,
    "start_time": "2022-02-10T02:03:17.913Z"
   },
   {
    "duration": 380,
    "start_time": "2022-02-10T02:06:43.107Z"
   },
   {
    "duration": 320,
    "start_time": "2022-02-10T02:12:40.978Z"
   },
   {
    "duration": 1124,
    "start_time": "2022-02-10T02:16:42.293Z"
   },
   {
    "duration": 361,
    "start_time": "2022-02-10T02:16:43.419Z"
   },
   {
    "duration": 13,
    "start_time": "2022-02-10T02:16:43.782Z"
   },
   {
    "duration": 10,
    "start_time": "2022-02-10T02:16:43.797Z"
   },
   {
    "duration": 10,
    "start_time": "2022-02-10T02:16:43.808Z"
   },
   {
    "duration": 25,
    "start_time": "2022-02-10T02:16:43.819Z"
   },
   {
    "duration": 7,
    "start_time": "2022-02-10T02:16:43.845Z"
   },
   {
    "duration": 8,
    "start_time": "2022-02-10T02:16:43.854Z"
   },
   {
    "duration": 12,
    "start_time": "2022-02-10T02:16:43.865Z"
   },
   {
    "duration": 166,
    "start_time": "2022-02-10T02:16:43.879Z"
   },
   {
    "duration": 6,
    "start_time": "2022-02-10T02:16:44.047Z"
   },
   {
    "duration": 8,
    "start_time": "2022-02-10T02:16:44.055Z"
   },
   {
    "duration": 10,
    "start_time": "2022-02-10T02:16:44.065Z"
   },
   {
    "duration": 87,
    "start_time": "2022-02-10T02:16:44.076Z"
   },
   {
    "duration": 8,
    "start_time": "2022-02-10T02:16:44.164Z"
   },
   {
    "duration": 11,
    "start_time": "2022-02-10T02:16:44.173Z"
   },
   {
    "duration": 15,
    "start_time": "2022-02-10T02:16:44.186Z"
   },
   {
    "duration": 162,
    "start_time": "2022-02-10T02:16:44.202Z"
   },
   {
    "duration": 6,
    "start_time": "2022-02-10T02:16:44.365Z"
   },
   {
    "duration": 26,
    "start_time": "2022-02-10T02:16:44.373Z"
   },
   {
    "duration": 5,
    "start_time": "2022-02-10T02:16:44.401Z"
   },
   {
    "duration": 26,
    "start_time": "2022-02-10T02:16:44.407Z"
   },
   {
    "duration": 41,
    "start_time": "2022-02-10T02:16:44.436Z"
   },
   {
    "duration": 10,
    "start_time": "2022-02-10T02:16:44.479Z"
   },
   {
    "duration": 9,
    "start_time": "2022-02-10T02:16:44.490Z"
   },
   {
    "duration": 57,
    "start_time": "2022-02-10T02:16:44.500Z"
   },
   {
    "duration": 38,
    "start_time": "2022-02-10T02:16:44.559Z"
   },
   {
    "duration": 48,
    "start_time": "2022-02-10T02:16:44.599Z"
   },
   {
    "duration": 22,
    "start_time": "2022-02-10T02:16:44.649Z"
   },
   {
    "duration": 6,
    "start_time": "2022-02-10T02:16:44.672Z"
   },
   {
    "duration": 28,
    "start_time": "2022-02-10T02:16:44.680Z"
   },
   {
    "duration": 43,
    "start_time": "2022-02-10T02:16:44.709Z"
   },
   {
    "duration": 31,
    "start_time": "2022-02-10T02:16:44.753Z"
   },
   {
    "duration": 5,
    "start_time": "2022-02-10T02:16:44.785Z"
   },
   {
    "duration": 13,
    "start_time": "2022-02-10T02:16:44.791Z"
   },
   {
    "duration": 30,
    "start_time": "2022-02-10T02:16:44.805Z"
   },
   {
    "duration": 5,
    "start_time": "2022-02-10T02:16:44.836Z"
   },
   {
    "duration": 3042,
    "start_time": "2022-02-10T02:16:44.842Z"
   },
   {
    "duration": 5,
    "start_time": "2022-02-10T02:16:47.886Z"
   },
   {
    "duration": 7,
    "start_time": "2022-02-10T02:16:47.893Z"
   },
   {
    "duration": 422,
    "start_time": "2022-02-10T02:16:47.902Z"
   },
   {
    "duration": 348,
    "start_time": "2022-02-10T02:21:32.942Z"
   },
   {
    "duration": 348,
    "start_time": "2022-02-10T02:21:46.483Z"
   },
   {
    "duration": 5,
    "start_time": "2022-02-10T02:26:34.649Z"
   },
   {
    "duration": 334,
    "start_time": "2022-02-10T02:26:40.694Z"
   },
   {
    "duration": 1091,
    "start_time": "2022-02-10T02:27:53.628Z"
   },
   {
    "duration": 354,
    "start_time": "2022-02-10T02:27:54.721Z"
   },
   {
    "duration": 12,
    "start_time": "2022-02-10T02:27:55.077Z"
   },
   {
    "duration": 9,
    "start_time": "2022-02-10T02:27:55.091Z"
   },
   {
    "duration": 10,
    "start_time": "2022-02-10T02:27:55.101Z"
   },
   {
    "duration": 27,
    "start_time": "2022-02-10T02:27:55.112Z"
   },
   {
    "duration": 7,
    "start_time": "2022-02-10T02:27:55.140Z"
   },
   {
    "duration": 7,
    "start_time": "2022-02-10T02:27:55.149Z"
   },
   {
    "duration": 18,
    "start_time": "2022-02-10T02:27:55.158Z"
   },
   {
    "duration": 152,
    "start_time": "2022-02-10T02:27:55.177Z"
   },
   {
    "duration": 6,
    "start_time": "2022-02-10T02:27:55.331Z"
   },
   {
    "duration": 8,
    "start_time": "2022-02-10T02:27:55.339Z"
   },
   {
    "duration": 10,
    "start_time": "2022-02-10T02:27:55.348Z"
   },
   {
    "duration": 86,
    "start_time": "2022-02-10T02:27:55.360Z"
   },
   {
    "duration": 8,
    "start_time": "2022-02-10T02:27:55.447Z"
   },
   {
    "duration": 9,
    "start_time": "2022-02-10T02:27:55.457Z"
   },
   {
    "duration": 11,
    "start_time": "2022-02-10T02:27:55.468Z"
   },
   {
    "duration": 126,
    "start_time": "2022-02-10T02:27:55.481Z"
   },
   {
    "duration": 6,
    "start_time": "2022-02-10T02:27:55.609Z"
   },
   {
    "duration": 33,
    "start_time": "2022-02-10T02:27:55.617Z"
   },
   {
    "duration": 4,
    "start_time": "2022-02-10T02:27:55.652Z"
   },
   {
    "duration": 8,
    "start_time": "2022-02-10T02:27:55.658Z"
   },
   {
    "duration": 59,
    "start_time": "2022-02-10T02:27:55.669Z"
   },
   {
    "duration": 8,
    "start_time": "2022-02-10T02:27:55.730Z"
   },
   {
    "duration": 8,
    "start_time": "2022-02-10T02:27:55.739Z"
   },
   {
    "duration": 29,
    "start_time": "2022-02-10T02:27:55.748Z"
   },
   {
    "duration": 58,
    "start_time": "2022-02-10T02:27:55.778Z"
   },
   {
    "duration": 24,
    "start_time": "2022-02-10T02:27:55.838Z"
   },
   {
    "duration": 22,
    "start_time": "2022-02-10T02:27:55.863Z"
   },
   {
    "duration": 6,
    "start_time": "2022-02-10T02:27:55.886Z"
   },
   {
    "duration": 47,
    "start_time": "2022-02-10T02:27:55.893Z"
   },
   {
    "duration": 29,
    "start_time": "2022-02-10T02:27:55.941Z"
   },
   {
    "duration": 31,
    "start_time": "2022-02-10T02:27:55.972Z"
   },
   {
    "duration": 6,
    "start_time": "2022-02-10T02:27:56.004Z"
   },
   {
    "duration": 7,
    "start_time": "2022-02-10T02:27:56.027Z"
   },
   {
    "duration": 8,
    "start_time": "2022-02-10T02:27:56.036Z"
   },
   {
    "duration": 4,
    "start_time": "2022-02-10T02:27:56.046Z"
   },
   {
    "duration": 3140,
    "start_time": "2022-02-10T02:27:56.052Z"
   },
   {
    "duration": 5,
    "start_time": "2022-02-10T02:27:59.193Z"
   },
   {
    "duration": 8,
    "start_time": "2022-02-10T02:27:59.199Z"
   },
   {
    "duration": 587,
    "start_time": "2022-02-10T02:30:14.747Z"
   },
   {
    "duration": 641,
    "start_time": "2022-02-10T03:01:22.308Z"
   },
   {
    "duration": 1111,
    "start_time": "2022-02-10T03:11:16.702Z"
   },
   {
    "duration": 377,
    "start_time": "2022-02-10T03:11:17.815Z"
   },
   {
    "duration": 12,
    "start_time": "2022-02-10T03:11:18.194Z"
   },
   {
    "duration": 10,
    "start_time": "2022-02-10T03:11:18.208Z"
   },
   {
    "duration": 9,
    "start_time": "2022-02-10T03:11:18.220Z"
   },
   {
    "duration": 18,
    "start_time": "2022-02-10T03:11:18.231Z"
   },
   {
    "duration": 7,
    "start_time": "2022-02-10T03:11:18.250Z"
   },
   {
    "duration": 8,
    "start_time": "2022-02-10T03:11:18.259Z"
   },
   {
    "duration": 12,
    "start_time": "2022-02-10T03:11:18.269Z"
   },
   {
    "duration": 162,
    "start_time": "2022-02-10T03:11:18.283Z"
   },
   {
    "duration": 7,
    "start_time": "2022-02-10T03:11:18.446Z"
   },
   {
    "duration": 8,
    "start_time": "2022-02-10T03:11:18.454Z"
   },
   {
    "duration": 10,
    "start_time": "2022-02-10T03:11:18.463Z"
   },
   {
    "duration": 81,
    "start_time": "2022-02-10T03:11:18.474Z"
   },
   {
    "duration": 7,
    "start_time": "2022-02-10T03:11:18.557Z"
   },
   {
    "duration": 9,
    "start_time": "2022-02-10T03:11:18.565Z"
   },
   {
    "duration": 11,
    "start_time": "2022-02-10T03:11:18.576Z"
   },
   {
    "duration": 114,
    "start_time": "2022-02-10T03:11:18.588Z"
   },
   {
    "duration": 6,
    "start_time": "2022-02-10T03:11:18.704Z"
   },
   {
    "duration": 26,
    "start_time": "2022-02-10T03:11:18.727Z"
   },
   {
    "duration": 5,
    "start_time": "2022-02-10T03:11:18.755Z"
   },
   {
    "duration": 9,
    "start_time": "2022-02-10T03:11:18.761Z"
   },
   {
    "duration": 56,
    "start_time": "2022-02-10T03:11:18.772Z"
   },
   {
    "duration": 8,
    "start_time": "2022-02-10T03:11:18.830Z"
   },
   {
    "duration": 8,
    "start_time": "2022-02-10T03:11:18.840Z"
   },
   {
    "duration": 30,
    "start_time": "2022-02-10T03:11:18.849Z"
   },
   {
    "duration": 58,
    "start_time": "2022-02-10T03:11:18.881Z"
   },
   {
    "duration": 24,
    "start_time": "2022-02-10T03:11:18.940Z"
   },
   {
    "duration": 23,
    "start_time": "2022-02-10T03:11:18.966Z"
   },
   {
    "duration": 6,
    "start_time": "2022-02-10T03:11:18.990Z"
   },
   {
    "duration": 48,
    "start_time": "2022-02-10T03:11:18.998Z"
   },
   {
    "duration": 39,
    "start_time": "2022-02-10T03:11:19.047Z"
   },
   {
    "duration": 57,
    "start_time": "2022-02-10T03:11:19.088Z"
   },
   {
    "duration": 6,
    "start_time": "2022-02-10T03:11:19.147Z"
   },
   {
    "duration": 9,
    "start_time": "2022-02-10T03:11:19.155Z"
   },
   {
    "duration": 13,
    "start_time": "2022-02-10T03:11:19.166Z"
   },
   {
    "duration": 5,
    "start_time": "2022-02-10T03:11:19.180Z"
   },
   {
    "duration": 3122,
    "start_time": "2022-02-10T03:11:19.186Z"
   },
   {
    "duration": 4,
    "start_time": "2022-02-10T03:11:22.310Z"
   },
   {
    "duration": 12,
    "start_time": "2022-02-10T03:11:22.316Z"
   },
   {
    "duration": 585,
    "start_time": "2022-02-10T03:11:22.330Z"
   },
   {
    "duration": 752,
    "start_time": "2022-02-10T03:12:49.416Z"
   },
   {
    "duration": 629,
    "start_time": "2022-02-10T03:13:05.956Z"
   },
   {
    "duration": 541,
    "start_time": "2022-02-10T03:25:51.455Z"
   },
   {
    "duration": 569,
    "start_time": "2022-02-10T03:44:52.592Z"
   },
   {
    "duration": 976,
    "start_time": "2022-02-10T04:27:14.907Z"
   },
   {
    "duration": 646,
    "start_time": "2022-02-10T04:27:34.820Z"
   },
   {
    "duration": 338,
    "start_time": "2022-02-10T05:55:14.559Z"
   },
   {
    "duration": 3,
    "start_time": "2022-02-10T05:55:23.223Z"
   },
   {
    "duration": 341,
    "start_time": "2022-02-10T05:55:27.164Z"
   },
   {
    "duration": 663,
    "start_time": "2022-02-10T05:57:36.557Z"
   },
   {
    "duration": 677,
    "start_time": "2022-02-10T05:59:34.119Z"
   },
   {
    "duration": 4,
    "start_time": "2022-02-10T06:00:21.166Z"
   },
   {
    "duration": 576,
    "start_time": "2022-02-10T06:00:26.272Z"
   },
   {
    "duration": 570,
    "start_time": "2022-02-10T06:02:16.733Z"
   },
   {
    "duration": 592,
    "start_time": "2022-02-10T06:02:31.090Z"
   },
   {
    "duration": 1239,
    "start_time": "2022-02-10T06:02:43.528Z"
   },
   {
    "duration": 379,
    "start_time": "2022-02-10T06:02:44.769Z"
   },
   {
    "duration": 12,
    "start_time": "2022-02-10T06:02:45.151Z"
   },
   {
    "duration": 11,
    "start_time": "2022-02-10T06:02:45.165Z"
   },
   {
    "duration": 11,
    "start_time": "2022-02-10T06:02:45.177Z"
   },
   {
    "duration": 19,
    "start_time": "2022-02-10T06:02:45.189Z"
   },
   {
    "duration": 20,
    "start_time": "2022-02-10T06:02:45.210Z"
   },
   {
    "duration": 8,
    "start_time": "2022-02-10T06:02:45.232Z"
   },
   {
    "duration": 12,
    "start_time": "2022-02-10T06:02:45.243Z"
   },
   {
    "duration": 156,
    "start_time": "2022-02-10T06:02:45.257Z"
   },
   {
    "duration": 14,
    "start_time": "2022-02-10T06:02:45.415Z"
   },
   {
    "duration": 7,
    "start_time": "2022-02-10T06:02:45.431Z"
   },
   {
    "duration": 9,
    "start_time": "2022-02-10T06:02:45.440Z"
   },
   {
    "duration": 77,
    "start_time": "2022-02-10T06:02:45.450Z"
   },
   {
    "duration": 7,
    "start_time": "2022-02-10T06:02:45.528Z"
   },
   {
    "duration": 8,
    "start_time": "2022-02-10T06:02:45.537Z"
   },
   {
    "duration": 11,
    "start_time": "2022-02-10T06:02:45.547Z"
   },
   {
    "duration": 116,
    "start_time": "2022-02-10T06:02:45.560Z"
   },
   {
    "duration": 6,
    "start_time": "2022-02-10T06:02:45.678Z"
   },
   {
    "duration": 46,
    "start_time": "2022-02-10T06:02:45.685Z"
   },
   {
    "duration": 5,
    "start_time": "2022-02-10T06:02:45.733Z"
   },
   {
    "duration": 11,
    "start_time": "2022-02-10T06:02:45.739Z"
   },
   {
    "duration": 41,
    "start_time": "2022-02-10T06:02:45.751Z"
   },
   {
    "duration": 9,
    "start_time": "2022-02-10T06:02:45.793Z"
   },
   {
    "duration": 24,
    "start_time": "2022-02-10T06:02:45.804Z"
   },
   {
    "duration": 31,
    "start_time": "2022-02-10T06:02:45.830Z"
   },
   {
    "duration": 39,
    "start_time": "2022-02-10T06:02:45.864Z"
   },
   {
    "duration": 45,
    "start_time": "2022-02-10T06:02:45.905Z"
   },
   {
    "duration": 22,
    "start_time": "2022-02-10T06:02:45.951Z"
   },
   {
    "duration": 7,
    "start_time": "2022-02-10T06:02:45.974Z"
   },
   {
    "duration": 46,
    "start_time": "2022-02-10T06:02:45.982Z"
   },
   {
    "duration": 31,
    "start_time": "2022-02-10T06:02:46.029Z"
   },
   {
    "duration": 30,
    "start_time": "2022-02-10T06:02:46.062Z"
   },
   {
    "duration": 5,
    "start_time": "2022-02-10T06:02:46.093Z"
   },
   {
    "duration": 32,
    "start_time": "2022-02-10T06:02:46.099Z"
   },
   {
    "duration": 9,
    "start_time": "2022-02-10T06:02:46.133Z"
   },
   {
    "duration": 4,
    "start_time": "2022-02-10T06:02:46.143Z"
   },
   {
    "duration": 3034,
    "start_time": "2022-02-10T06:02:46.149Z"
   },
   {
    "duration": 4,
    "start_time": "2022-02-10T06:02:49.185Z"
   },
   {
    "duration": 5,
    "start_time": "2022-02-10T06:02:49.191Z"
   },
   {
    "duration": 608,
    "start_time": "2022-02-10T06:02:49.198Z"
   },
   {
    "duration": 636,
    "start_time": "2022-02-10T06:02:49.808Z"
   },
   {
    "duration": 558,
    "start_time": "2022-02-10T06:02:50.446Z"
   },
   {
    "duration": 589,
    "start_time": "2022-02-10T06:02:51.006Z"
   },
   {
    "duration": 599,
    "start_time": "2022-02-10T06:02:51.597Z"
   },
   {
    "duration": 678,
    "start_time": "2022-02-10T06:02:52.197Z"
   },
   {
    "duration": 10,
    "start_time": "2022-02-10T06:04:29.187Z"
   },
   {
    "duration": 6,
    "start_time": "2022-02-10T06:15:51.976Z"
   },
   {
    "duration": 322,
    "start_time": "2022-02-10T06:18:05.161Z"
   },
   {
    "duration": 9,
    "start_time": "2022-02-10T06:21:32.888Z"
   },
   {
    "duration": 705,
    "start_time": "2022-02-10T06:28:48.577Z"
   },
   {
    "duration": 1218,
    "start_time": "2022-02-10T06:29:22.805Z"
   },
   {
    "duration": 545,
    "start_time": "2022-02-10T06:29:24.025Z"
   },
   {
    "duration": 16,
    "start_time": "2022-02-10T06:29:24.572Z"
   },
   {
    "duration": 12,
    "start_time": "2022-02-10T06:29:24.590Z"
   },
   {
    "duration": 13,
    "start_time": "2022-02-10T06:29:24.604Z"
   },
   {
    "duration": 29,
    "start_time": "2022-02-10T06:29:24.619Z"
   },
   {
    "duration": 9,
    "start_time": "2022-02-10T06:29:24.649Z"
   },
   {
    "duration": 8,
    "start_time": "2022-02-10T06:29:24.660Z"
   },
   {
    "duration": 12,
    "start_time": "2022-02-10T06:29:24.670Z"
   },
   {
    "duration": 165,
    "start_time": "2022-02-10T06:29:24.684Z"
   },
   {
    "duration": 6,
    "start_time": "2022-02-10T06:29:24.850Z"
   },
   {
    "duration": 8,
    "start_time": "2022-02-10T06:29:24.858Z"
   },
   {
    "duration": 10,
    "start_time": "2022-02-10T06:29:24.867Z"
   },
   {
    "duration": 80,
    "start_time": "2022-02-10T06:29:24.878Z"
   },
   {
    "duration": 6,
    "start_time": "2022-02-10T06:29:24.960Z"
   },
   {
    "duration": 10,
    "start_time": "2022-02-10T06:29:24.968Z"
   },
   {
    "duration": 12,
    "start_time": "2022-02-10T06:29:24.979Z"
   },
   {
    "duration": 118,
    "start_time": "2022-02-10T06:29:24.993Z"
   },
   {
    "duration": 17,
    "start_time": "2022-02-10T06:29:25.113Z"
   },
   {
    "duration": 28,
    "start_time": "2022-02-10T06:29:25.132Z"
   },
   {
    "duration": 5,
    "start_time": "2022-02-10T06:29:25.162Z"
   },
   {
    "duration": 8,
    "start_time": "2022-02-10T06:29:25.168Z"
   },
   {
    "duration": 62,
    "start_time": "2022-02-10T06:29:25.178Z"
   },
   {
    "duration": 9,
    "start_time": "2022-02-10T06:29:25.242Z"
   },
   {
    "duration": 8,
    "start_time": "2022-02-10T06:29:25.253Z"
   },
   {
    "duration": 29,
    "start_time": "2022-02-10T06:29:25.262Z"
   },
   {
    "duration": 59,
    "start_time": "2022-02-10T06:29:25.295Z"
   },
   {
    "duration": 25,
    "start_time": "2022-02-10T06:29:25.356Z"
   },
   {
    "duration": 22,
    "start_time": "2022-02-10T06:29:25.382Z"
   },
   {
    "duration": 22,
    "start_time": "2022-02-10T06:29:25.406Z"
   },
   {
    "duration": 28,
    "start_time": "2022-02-10T06:29:25.430Z"
   },
   {
    "duration": 31,
    "start_time": "2022-02-10T06:29:25.460Z"
   },
   {
    "duration": 51,
    "start_time": "2022-02-10T06:29:25.493Z"
   },
   {
    "duration": 6,
    "start_time": "2022-02-10T06:29:25.546Z"
   },
   {
    "duration": 14,
    "start_time": "2022-02-10T06:29:25.553Z"
   },
   {
    "duration": 12,
    "start_time": "2022-02-10T06:29:25.569Z"
   },
   {
    "duration": 5,
    "start_time": "2022-02-10T06:29:25.583Z"
   },
   {
    "duration": 3188,
    "start_time": "2022-02-10T06:29:25.589Z"
   },
   {
    "duration": 4,
    "start_time": "2022-02-10T06:29:28.779Z"
   },
   {
    "duration": 5,
    "start_time": "2022-02-10T06:29:28.785Z"
   },
   {
    "duration": 611,
    "start_time": "2022-02-10T06:29:28.791Z"
   },
   {
    "duration": 645,
    "start_time": "2022-02-10T06:29:29.404Z"
   },
   {
    "duration": 553,
    "start_time": "2022-02-10T06:29:30.050Z"
   },
   {
    "duration": 614,
    "start_time": "2022-02-10T06:29:30.605Z"
   },
   {
    "duration": 723,
    "start_time": "2022-02-10T06:29:31.228Z"
   },
   {
    "duration": 9,
    "start_time": "2022-02-10T06:29:31.953Z"
   },
   {
    "duration": 9116,
    "start_time": "2022-02-10T06:29:31.963Z"
   },
   {
    "duration": 9,
    "start_time": "2022-02-10T06:30:23.269Z"
   },
   {
    "duration": 445,
    "start_time": "2022-02-10T07:32:10.283Z"
   },
   {
    "duration": 625,
    "start_time": "2022-02-10T07:33:31.259Z"
   },
   {
    "duration": 588,
    "start_time": "2022-02-10T07:34:55.247Z"
   },
   {
    "duration": 2487,
    "start_time": "2022-02-10T07:35:09.769Z"
   },
   {
    "duration": 383,
    "start_time": "2022-02-10T07:35:12.257Z"
   },
   {
    "duration": 12,
    "start_time": "2022-02-10T07:35:12.642Z"
   },
   {
    "duration": 13,
    "start_time": "2022-02-10T07:35:12.655Z"
   },
   {
    "duration": 11,
    "start_time": "2022-02-10T07:35:12.669Z"
   },
   {
    "duration": 19,
    "start_time": "2022-02-10T07:35:12.682Z"
   },
   {
    "duration": 8,
    "start_time": "2022-02-10T07:35:12.702Z"
   },
   {
    "duration": 8,
    "start_time": "2022-02-10T07:35:12.727Z"
   },
   {
    "duration": 11,
    "start_time": "2022-02-10T07:35:12.738Z"
   },
   {
    "duration": 151,
    "start_time": "2022-02-10T07:35:12.751Z"
   },
   {
    "duration": 6,
    "start_time": "2022-02-10T07:35:12.903Z"
   },
   {
    "duration": 21,
    "start_time": "2022-02-10T07:35:12.910Z"
   },
   {
    "duration": 10,
    "start_time": "2022-02-10T07:35:12.933Z"
   },
   {
    "duration": 61,
    "start_time": "2022-02-10T07:35:12.944Z"
   },
   {
    "duration": 24,
    "start_time": "2022-02-10T07:35:13.006Z"
   },
   {
    "duration": 10,
    "start_time": "2022-02-10T07:35:13.031Z"
   },
   {
    "duration": 13,
    "start_time": "2022-02-10T07:35:13.042Z"
   },
   {
    "duration": 118,
    "start_time": "2022-02-10T07:35:13.057Z"
   },
   {
    "duration": 8,
    "start_time": "2022-02-10T07:35:13.177Z"
   },
   {
    "duration": 48,
    "start_time": "2022-02-10T07:35:13.187Z"
   },
   {
    "duration": 6,
    "start_time": "2022-02-10T07:35:13.237Z"
   },
   {
    "duration": 7,
    "start_time": "2022-02-10T07:35:13.244Z"
   },
   {
    "duration": 42,
    "start_time": "2022-02-10T07:35:13.253Z"
   },
   {
    "duration": 29,
    "start_time": "2022-02-10T07:35:13.297Z"
   },
   {
    "duration": 9,
    "start_time": "2022-02-10T07:35:13.328Z"
   },
   {
    "duration": 30,
    "start_time": "2022-02-10T07:35:13.339Z"
   },
   {
    "duration": 61,
    "start_time": "2022-02-10T07:35:13.374Z"
   },
   {
    "duration": 26,
    "start_time": "2022-02-10T07:35:13.437Z"
   },
   {
    "duration": 23,
    "start_time": "2022-02-10T07:35:13.464Z"
   },
   {
    "duration": 7,
    "start_time": "2022-02-10T07:35:13.489Z"
   },
   {
    "duration": 55,
    "start_time": "2022-02-10T07:35:13.498Z"
   },
   {
    "duration": 34,
    "start_time": "2022-02-10T07:35:13.554Z"
   },
   {
    "duration": 53,
    "start_time": "2022-02-10T07:35:13.590Z"
   },
   {
    "duration": 7,
    "start_time": "2022-02-10T07:35:13.645Z"
   },
   {
    "duration": 8,
    "start_time": "2022-02-10T07:35:13.653Z"
   },
   {
    "duration": 11,
    "start_time": "2022-02-10T07:35:13.663Z"
   },
   {
    "duration": 5,
    "start_time": "2022-02-10T07:35:13.676Z"
   },
   {
    "duration": 3074,
    "start_time": "2022-02-10T07:35:13.683Z"
   },
   {
    "duration": 4,
    "start_time": "2022-02-10T07:35:16.759Z"
   },
   {
    "duration": 7,
    "start_time": "2022-02-10T07:35:16.764Z"
   },
   {
    "duration": 590,
    "start_time": "2022-02-10T07:35:16.772Z"
   },
   {
    "duration": 645,
    "start_time": "2022-02-10T07:35:17.363Z"
   },
   {
    "duration": 544,
    "start_time": "2022-02-10T07:35:18.009Z"
   },
   {
    "duration": 587,
    "start_time": "2022-02-10T07:35:18.555Z"
   },
   {
    "duration": 606,
    "start_time": "2022-02-10T07:35:19.143Z"
   },
   {
    "duration": 2195,
    "start_time": "2022-02-10T07:35:19.750Z"
   },
   {
    "duration": 889,
    "start_time": "2022-02-10T07:35:21.057Z"
   },
   {
    "duration": 752,
    "start_time": "2022-02-10T07:36:16.504Z"
   },
   {
    "duration": 118,
    "start_time": "2022-02-10T07:37:56.828Z"
   },
   {
    "duration": 10,
    "start_time": "2022-02-10T07:44:54.249Z"
   },
   {
    "duration": 10,
    "start_time": "2022-02-10T08:00:20.539Z"
   },
   {
    "duration": 351,
    "start_time": "2022-02-10T08:15:59.796Z"
   },
   {
    "duration": 18,
    "start_time": "2022-02-10T08:54:16.355Z"
   },
   {
    "duration": 19,
    "start_time": "2022-02-10T08:54:42.378Z"
   },
   {
    "duration": 368,
    "start_time": "2022-02-10T08:57:37.693Z"
   },
   {
    "duration": 17,
    "start_time": "2022-02-10T08:58:00.703Z"
   },
   {
    "duration": 344,
    "start_time": "2022-02-10T09:00:05.676Z"
   },
   {
    "duration": 346,
    "start_time": "2022-02-10T09:02:00.181Z"
   },
   {
    "duration": 361,
    "start_time": "2022-02-10T09:02:35.869Z"
   },
   {
    "duration": 394,
    "start_time": "2022-02-10T09:03:48.992Z"
   },
   {
    "duration": 348,
    "start_time": "2022-02-10T09:04:42.027Z"
   },
   {
    "duration": 380,
    "start_time": "2022-02-10T09:04:51.632Z"
   },
   {
    "duration": 19,
    "start_time": "2022-02-10T09:05:13.153Z"
   },
   {
    "duration": 21,
    "start_time": "2022-02-10T09:05:41.652Z"
   },
   {
    "duration": 1126,
    "start_time": "2022-02-10T09:44:38.084Z"
   },
   {
    "duration": 420,
    "start_time": "2022-02-10T09:44:39.212Z"
   },
   {
    "duration": 12,
    "start_time": "2022-02-10T09:44:39.634Z"
   },
   {
    "duration": 8,
    "start_time": "2022-02-10T09:44:39.648Z"
   },
   {
    "duration": 10,
    "start_time": "2022-02-10T09:44:39.658Z"
   },
   {
    "duration": 20,
    "start_time": "2022-02-10T09:44:39.669Z"
   },
   {
    "duration": 7,
    "start_time": "2022-02-10T09:44:39.690Z"
   },
   {
    "duration": 33,
    "start_time": "2022-02-10T09:44:39.699Z"
   },
   {
    "duration": 11,
    "start_time": "2022-02-10T09:44:39.734Z"
   },
   {
    "duration": 167,
    "start_time": "2022-02-10T09:44:39.747Z"
   },
   {
    "duration": 13,
    "start_time": "2022-02-10T09:44:39.916Z"
   },
   {
    "duration": 8,
    "start_time": "2022-02-10T09:44:39.931Z"
   },
   {
    "duration": 11,
    "start_time": "2022-02-10T09:44:39.940Z"
   },
   {
    "duration": 87,
    "start_time": "2022-02-10T09:44:39.953Z"
   },
   {
    "duration": 8,
    "start_time": "2022-02-10T09:44:40.042Z"
   },
   {
    "duration": 9,
    "start_time": "2022-02-10T09:44:40.051Z"
   },
   {
    "duration": 14,
    "start_time": "2022-02-10T09:44:40.062Z"
   },
   {
    "duration": 125,
    "start_time": "2022-02-10T09:44:40.078Z"
   },
   {
    "duration": 6,
    "start_time": "2022-02-10T09:44:40.205Z"
   },
   {
    "duration": 53,
    "start_time": "2022-02-10T09:44:40.213Z"
   },
   {
    "duration": 7,
    "start_time": "2022-02-10T09:44:40.268Z"
   },
   {
    "duration": 9,
    "start_time": "2022-02-10T09:44:40.277Z"
   },
   {
    "duration": 89,
    "start_time": "2022-02-10T09:44:40.290Z"
   },
   {
    "duration": 12,
    "start_time": "2022-02-10T09:44:40.382Z"
   },
   {
    "duration": 10,
    "start_time": "2022-02-10T09:44:40.395Z"
   },
   {
    "duration": 42,
    "start_time": "2022-02-10T09:44:40.407Z"
   },
   {
    "duration": 42,
    "start_time": "2022-02-10T09:44:40.451Z"
   },
   {
    "duration": 45,
    "start_time": "2022-02-10T09:44:40.494Z"
   },
   {
    "duration": 24,
    "start_time": "2022-02-10T09:44:40.541Z"
   },
   {
    "duration": 7,
    "start_time": "2022-02-10T09:44:40.566Z"
   },
   {
    "duration": 28,
    "start_time": "2022-02-10T09:44:40.575Z"
   },
   {
    "duration": 35,
    "start_time": "2022-02-10T09:44:40.628Z"
   },
   {
    "duration": 33,
    "start_time": "2022-02-10T09:44:40.665Z"
   },
   {
    "duration": 5,
    "start_time": "2022-02-10T09:44:40.700Z"
   },
   {
    "duration": 27,
    "start_time": "2022-02-10T09:44:40.706Z"
   },
   {
    "duration": 8,
    "start_time": "2022-02-10T09:44:40.735Z"
   },
   {
    "duration": 4,
    "start_time": "2022-02-10T09:44:40.745Z"
   },
   {
    "duration": 3177,
    "start_time": "2022-02-10T09:44:40.751Z"
   },
   {
    "duration": 4,
    "start_time": "2022-02-10T09:44:43.929Z"
   },
   {
    "duration": 16,
    "start_time": "2022-02-10T09:44:43.935Z"
   },
   {
    "duration": 620,
    "start_time": "2022-02-10T09:44:43.952Z"
   },
   {
    "duration": 862,
    "start_time": "2022-02-10T09:44:44.574Z"
   },
   {
    "duration": 567,
    "start_time": "2022-02-10T09:44:45.438Z"
   },
   {
    "duration": 626,
    "start_time": "2022-02-10T09:44:46.007Z"
   },
   {
    "duration": 649,
    "start_time": "2022-02-10T09:44:46.635Z"
   },
   {
    "duration": 12,
    "start_time": "2022-02-10T09:44:47.286Z"
   },
   {
    "duration": 27,
    "start_time": "2022-02-10T09:44:47.300Z"
   },
   {
    "duration": 1107,
    "start_time": "2022-02-15T19:37:28.054Z"
   },
   {
    "duration": 374,
    "start_time": "2022-02-15T19:37:29.162Z"
   },
   {
    "duration": 13,
    "start_time": "2022-02-15T19:37:29.538Z"
   },
   {
    "duration": 13,
    "start_time": "2022-02-15T19:37:29.553Z"
   },
   {
    "duration": 13,
    "start_time": "2022-02-15T19:37:29.567Z"
   },
   {
    "duration": 36,
    "start_time": "2022-02-15T19:37:29.582Z"
   },
   {
    "duration": 9,
    "start_time": "2022-02-15T19:37:29.620Z"
   },
   {
    "duration": 12,
    "start_time": "2022-02-15T19:37:29.631Z"
   },
   {
    "duration": 17,
    "start_time": "2022-02-15T19:37:29.645Z"
   },
   {
    "duration": 185,
    "start_time": "2022-02-15T19:37:29.664Z"
   },
   {
    "duration": 8,
    "start_time": "2022-02-15T19:37:29.851Z"
   },
   {
    "duration": 8,
    "start_time": "2022-02-15T19:37:29.861Z"
   },
   {
    "duration": 11,
    "start_time": "2022-02-15T19:37:29.871Z"
   },
   {
    "duration": 102,
    "start_time": "2022-02-15T19:37:29.884Z"
   },
   {
    "duration": 8,
    "start_time": "2022-02-15T19:37:29.988Z"
   },
   {
    "duration": 24,
    "start_time": "2022-02-15T19:37:29.998Z"
   },
   {
    "duration": 26,
    "start_time": "2022-02-15T19:37:30.024Z"
   },
   {
    "duration": 146,
    "start_time": "2022-02-15T19:37:30.052Z"
   },
   {
    "duration": 8,
    "start_time": "2022-02-15T19:37:30.199Z"
   },
   {
    "duration": 88,
    "start_time": "2022-02-15T19:37:30.209Z"
   },
   {
    "duration": 10,
    "start_time": "2022-02-15T19:37:30.299Z"
   },
   {
    "duration": 26,
    "start_time": "2022-02-15T19:37:30.311Z"
   },
   {
    "duration": 81,
    "start_time": "2022-02-15T19:37:30.343Z"
   },
   {
    "duration": 13,
    "start_time": "2022-02-15T19:37:30.427Z"
   },
   {
    "duration": 15,
    "start_time": "2022-02-15T19:37:30.443Z"
   },
   {
    "duration": 59,
    "start_time": "2022-02-15T19:37:30.460Z"
   },
   {
    "duration": 48,
    "start_time": "2022-02-15T19:37:30.521Z"
   },
   {
    "duration": 49,
    "start_time": "2022-02-15T19:37:30.571Z"
   },
   {
    "duration": 26,
    "start_time": "2022-02-15T19:37:30.622Z"
   },
   {
    "duration": 64,
    "start_time": "2022-02-15T19:37:30.649Z"
   },
   {
    "duration": 42,
    "start_time": "2022-02-15T19:37:30.715Z"
   },
   {
    "duration": 38,
    "start_time": "2022-02-15T19:37:30.759Z"
   },
   {
    "duration": 44,
    "start_time": "2022-02-15T19:37:30.798Z"
   },
   {
    "duration": 6,
    "start_time": "2022-02-15T19:37:30.844Z"
   },
   {
    "duration": 22,
    "start_time": "2022-02-15T19:37:30.852Z"
   },
   {
    "duration": 43,
    "start_time": "2022-02-15T19:37:30.876Z"
   },
   {
    "duration": 8,
    "start_time": "2022-02-15T19:37:30.922Z"
   },
   {
    "duration": 3716,
    "start_time": "2022-02-15T19:37:30.931Z"
   },
   {
    "duration": 6,
    "start_time": "2022-02-15T19:37:34.648Z"
   },
   {
    "duration": 28,
    "start_time": "2022-02-15T19:37:34.656Z"
   },
   {
    "duration": 732,
    "start_time": "2022-02-15T19:37:34.686Z"
   },
   {
    "duration": 798,
    "start_time": "2022-02-15T19:37:35.420Z"
   },
   {
    "duration": 669,
    "start_time": "2022-02-15T19:37:36.220Z"
   },
   {
    "duration": 715,
    "start_time": "2022-02-15T19:37:36.891Z"
   },
   {
    "duration": 744,
    "start_time": "2022-02-15T19:37:37.607Z"
   },
   {
    "duration": 12,
    "start_time": "2022-02-15T19:37:38.353Z"
   },
   {
    "duration": 16,
    "start_time": "2022-02-15T19:37:38.367Z"
   },
   {
    "duration": 6,
    "start_time": "2022-02-15T21:09:41.683Z"
   },
   {
    "duration": 7,
    "start_time": "2022-02-15T21:11:44.396Z"
   },
   {
    "duration": 6,
    "start_time": "2022-02-15T21:12:48.253Z"
   },
   {
    "duration": 6,
    "start_time": "2022-02-15T21:13:42.084Z"
   },
   {
    "duration": 6,
    "start_time": "2022-02-15T21:15:06.174Z"
   },
   {
    "duration": 8,
    "start_time": "2022-02-15T21:16:48.274Z"
   },
   {
    "duration": 361,
    "start_time": "2022-02-15T21:19:09.657Z"
   },
   {
    "duration": 280,
    "start_time": "2022-02-15T21:19:21.653Z"
   },
   {
    "duration": 19,
    "start_time": "2022-02-15T21:19:31.871Z"
   },
   {
    "duration": 16,
    "start_time": "2022-02-15T21:20:48.947Z"
   },
   {
    "duration": 40,
    "start_time": "2022-02-15T21:22:28.125Z"
   },
   {
    "duration": 41,
    "start_time": "2022-02-15T21:22:47.344Z"
   },
   {
    "duration": 16,
    "start_time": "2022-02-15T21:22:55.770Z"
   },
   {
    "duration": 265,
    "start_time": "2022-02-15T21:23:28.478Z"
   },
   {
    "duration": 253,
    "start_time": "2022-02-15T21:26:33.318Z"
   },
   {
    "duration": 22,
    "start_time": "2022-02-15T21:33:25.852Z"
   },
   {
    "duration": 9,
    "start_time": "2022-02-15T22:58:51.060Z"
   },
   {
    "duration": 95,
    "start_time": "2022-02-15T23:33:03.809Z"
   },
   {
    "duration": 351,
    "start_time": "2022-02-16T02:12:30.712Z"
   },
   {
    "duration": 1542,
    "start_time": "2022-02-16T02:17:20.128Z"
   },
   {
    "duration": 512,
    "start_time": "2022-02-16T02:17:21.672Z"
   },
   {
    "duration": 20,
    "start_time": "2022-02-16T02:17:22.187Z"
   },
   {
    "duration": 16,
    "start_time": "2022-02-16T02:17:22.210Z"
   },
   {
    "duration": 41,
    "start_time": "2022-02-16T02:17:22.228Z"
   },
   {
    "duration": 33,
    "start_time": "2022-02-16T02:17:22.272Z"
   },
   {
    "duration": 11,
    "start_time": "2022-02-16T02:17:22.307Z"
   },
   {
    "duration": 16,
    "start_time": "2022-02-16T02:17:22.322Z"
   },
   {
    "duration": 18,
    "start_time": "2022-02-16T02:17:22.371Z"
   },
   {
    "duration": 246,
    "start_time": "2022-02-16T02:17:22.391Z"
   },
   {
    "duration": 11,
    "start_time": "2022-02-16T02:17:22.640Z"
   },
   {
    "duration": 11,
    "start_time": "2022-02-16T02:17:22.670Z"
   },
   {
    "duration": 17,
    "start_time": "2022-02-16T02:17:22.684Z"
   },
   {
    "duration": 137,
    "start_time": "2022-02-16T02:17:22.703Z"
   },
   {
    "duration": 12,
    "start_time": "2022-02-16T02:17:22.843Z"
   },
   {
    "duration": 13,
    "start_time": "2022-02-16T02:17:22.870Z"
   },
   {
    "duration": 19,
    "start_time": "2022-02-16T02:17:22.886Z"
   },
   {
    "duration": 237,
    "start_time": "2022-02-16T02:17:22.907Z"
   },
   {
    "duration": 11,
    "start_time": "2022-02-16T02:17:23.147Z"
   },
   {
    "duration": 50,
    "start_time": "2022-02-16T02:17:23.160Z"
   },
   {
    "duration": 9,
    "start_time": "2022-02-16T02:17:23.212Z"
   },
   {
    "duration": 17,
    "start_time": "2022-02-16T02:17:23.223Z"
   },
   {
    "duration": 71,
    "start_time": "2022-02-16T02:17:23.246Z"
   },
   {
    "duration": 14,
    "start_time": "2022-02-16T02:17:23.320Z"
   },
   {
    "duration": 16,
    "start_time": "2022-02-16T02:17:23.336Z"
   },
   {
    "duration": 54,
    "start_time": "2022-02-16T02:17:23.354Z"
   },
   {
    "duration": 74,
    "start_time": "2022-02-16T02:17:23.410Z"
   },
   {
    "duration": 49,
    "start_time": "2022-02-16T02:17:23.487Z"
   },
   {
    "duration": 56,
    "start_time": "2022-02-16T02:17:23.539Z"
   },
   {
    "duration": 14,
    "start_time": "2022-02-16T02:17:23.599Z"
   },
   {
    "duration": 57,
    "start_time": "2022-02-16T02:17:23.616Z"
   },
   {
    "duration": 49,
    "start_time": "2022-02-16T02:17:23.675Z"
   },
   {
    "duration": 66,
    "start_time": "2022-02-16T02:17:23.726Z"
   },
   {
    "duration": 9,
    "start_time": "2022-02-16T02:17:23.794Z"
   },
   {
    "duration": 13,
    "start_time": "2022-02-16T02:17:23.805Z"
   },
   {
    "duration": 16,
    "start_time": "2022-02-16T02:17:23.820Z"
   },
   {
    "duration": 8,
    "start_time": "2022-02-16T02:17:23.838Z"
   },
   {
    "duration": 6200,
    "start_time": "2022-02-16T02:17:23.848Z"
   },
   {
    "duration": 7,
    "start_time": "2022-02-16T02:17:30.050Z"
   },
   {
    "duration": 8,
    "start_time": "2022-02-16T02:17:30.069Z"
   },
   {
    "duration": 1147,
    "start_time": "2022-02-16T02:17:30.079Z"
   },
   {
    "duration": 1207,
    "start_time": "2022-02-16T02:17:31.228Z"
   },
   {
    "duration": 1069,
    "start_time": "2022-02-16T02:17:32.437Z"
   },
   {
    "duration": 1126,
    "start_time": "2022-02-16T02:17:33.508Z"
   },
   {
    "duration": 1159,
    "start_time": "2022-02-16T02:17:34.637Z"
   },
   {
    "duration": 14,
    "start_time": "2022-02-16T02:17:35.799Z"
   },
   {
    "duration": 16,
    "start_time": "2022-02-16T02:17:35.815Z"
   },
   {
    "duration": 848,
    "start_time": "2022-02-16T02:17:35.833Z"
   },
   {
    "duration": 821,
    "start_time": "2022-02-16T02:20:27.470Z"
   },
   {
    "duration": 487,
    "start_time": "2022-02-16T02:22:37.224Z"
   },
   {
    "duration": 455,
    "start_time": "2022-02-16T02:22:56.261Z"
   },
   {
    "duration": 705,
    "start_time": "2022-02-16T02:31:02.709Z"
   },
   {
    "duration": 675,
    "start_time": "2022-02-16T02:32:07.319Z"
   },
   {
    "duration": 678,
    "start_time": "2022-02-16T02:33:29.880Z"
   },
   {
    "duration": 705,
    "start_time": "2022-02-16T02:34:16.695Z"
   },
   {
    "duration": 694,
    "start_time": "2022-02-16T02:45:24.111Z"
   },
   {
    "duration": 259,
    "start_time": "2022-02-16T02:45:38.756Z"
   },
   {
    "duration": 703,
    "start_time": "2022-02-16T02:48:11.243Z"
   },
   {
    "duration": 707,
    "start_time": "2022-02-16T02:49:15.623Z"
   },
   {
    "duration": 484,
    "start_time": "2022-02-16T02:50:47.311Z"
   },
   {
    "duration": 26,
    "start_time": "2022-02-16T03:49:46.653Z"
   },
   {
    "duration": 347,
    "start_time": "2022-02-16T03:50:36.237Z"
   },
   {
    "duration": 84,
    "start_time": "2022-02-16T04:06:48.926Z"
   },
   {
    "duration": 88,
    "start_time": "2022-02-16T04:07:27.587Z"
   },
   {
    "duration": 91,
    "start_time": "2022-02-16T04:08:00.038Z"
   },
   {
    "duration": 455,
    "start_time": "2022-02-16T04:08:19.850Z"
   },
   {
    "duration": 82,
    "start_time": "2022-02-16T04:13:25.313Z"
   },
   {
    "duration": 564,
    "start_time": "2022-02-16T04:13:41.416Z"
   },
   {
    "duration": 532,
    "start_time": "2022-02-16T04:16:00.729Z"
   },
   {
    "duration": 482,
    "start_time": "2022-02-16T04:16:22.034Z"
   },
   {
    "duration": 110,
    "start_time": "2022-02-16T04:20:07.087Z"
   },
   {
    "duration": 502,
    "start_time": "2022-02-16T04:20:31.612Z"
   },
   {
    "duration": 475,
    "start_time": "2022-02-16T04:22:14.394Z"
   },
   {
    "duration": 496,
    "start_time": "2022-02-16T04:22:39.990Z"
   },
   {
    "duration": 489,
    "start_time": "2022-02-16T04:23:46.388Z"
   },
   {
    "duration": 481,
    "start_time": "2022-02-16T04:27:18.919Z"
   },
   {
    "duration": 479,
    "start_time": "2022-02-16T04:28:17.444Z"
   },
   {
    "duration": 490,
    "start_time": "2022-02-16T04:30:45.771Z"
   },
   {
    "duration": 483,
    "start_time": "2022-02-16T04:31:28.379Z"
   },
   {
    "duration": 568,
    "start_time": "2022-02-16T04:32:12.485Z"
   },
   {
    "duration": 490,
    "start_time": "2022-02-16T04:33:21.132Z"
   },
   {
    "duration": 521,
    "start_time": "2022-02-16T04:33:45.741Z"
   },
   {
    "duration": 266,
    "start_time": "2022-02-16T04:40:58.827Z"
   },
   {
    "duration": 641,
    "start_time": "2022-02-16T04:41:09.459Z"
   },
   {
    "duration": 682,
    "start_time": "2022-02-16T04:42:01.184Z"
   },
   {
    "duration": 522,
    "start_time": "2022-02-16T04:44:12.825Z"
   },
   {
    "duration": 1515,
    "start_time": "2022-02-16T04:45:58.688Z"
   },
   {
    "duration": 6317,
    "start_time": "2022-02-16T04:46:18.867Z"
   },
   {
    "duration": 519,
    "start_time": "2022-02-16T04:58:50.286Z"
   },
   {
    "duration": 532,
    "start_time": "2022-02-16T05:00:04.699Z"
   },
   {
    "duration": 516,
    "start_time": "2022-02-16T05:01:33.215Z"
   },
   {
    "duration": 12,
    "start_time": "2022-02-16T05:04:18.855Z"
   },
   {
    "duration": 258,
    "start_time": "2022-02-16T05:09:51.506Z"
   },
   {
    "duration": 263,
    "start_time": "2022-02-16T05:10:11.549Z"
   },
   {
    "duration": 278,
    "start_time": "2022-02-16T05:11:05.235Z"
   },
   {
    "duration": 20,
    "start_time": "2022-02-16T05:11:41.471Z"
   },
   {
    "duration": 27,
    "start_time": "2022-02-16T05:12:01.308Z"
   },
   {
    "duration": 25,
    "start_time": "2022-02-16T05:12:24.291Z"
   },
   {
    "duration": 20,
    "start_time": "2022-02-16T05:13:48.110Z"
   },
   {
    "duration": 26,
    "start_time": "2022-02-16T05:13:57.847Z"
   },
   {
    "duration": 87,
    "start_time": "2022-02-16T05:16:16.786Z"
   },
   {
    "duration": 212,
    "start_time": "2022-02-16T05:16:35.137Z"
   },
   {
    "duration": 1474,
    "start_time": "2022-02-16T05:17:24.800Z"
   },
   {
    "duration": 520,
    "start_time": "2022-02-16T05:17:26.277Z"
   },
   {
    "duration": 21,
    "start_time": "2022-02-16T05:17:26.800Z"
   },
   {
    "duration": 16,
    "start_time": "2022-02-16T05:17:26.824Z"
   },
   {
    "duration": 38,
    "start_time": "2022-02-16T05:17:26.843Z"
   },
   {
    "duration": 35,
    "start_time": "2022-02-16T05:17:26.884Z"
   },
   {
    "duration": 12,
    "start_time": "2022-02-16T05:17:26.922Z"
   },
   {
    "duration": 42,
    "start_time": "2022-02-16T05:17:26.938Z"
   },
   {
    "duration": 21,
    "start_time": "2022-02-16T05:17:26.983Z"
   },
   {
    "duration": 251,
    "start_time": "2022-02-16T05:17:27.006Z"
   },
   {
    "duration": 19,
    "start_time": "2022-02-16T05:17:27.259Z"
   },
   {
    "duration": 21,
    "start_time": "2022-02-16T05:17:27.281Z"
   },
   {
    "duration": 25,
    "start_time": "2022-02-16T05:17:27.304Z"
   },
   {
    "duration": 120,
    "start_time": "2022-02-16T05:17:27.332Z"
   },
   {
    "duration": 26,
    "start_time": "2022-02-16T05:17:27.455Z"
   },
   {
    "duration": 13,
    "start_time": "2022-02-16T05:17:27.484Z"
   },
   {
    "duration": 20,
    "start_time": "2022-02-16T05:17:27.499Z"
   },
   {
    "duration": 222,
    "start_time": "2022-02-16T05:17:27.522Z"
   },
   {
    "duration": 555,
    "start_time": "2022-02-16T05:17:27.747Z"
   },
   {
    "duration": 20,
    "start_time": "2022-02-16T05:17:28.305Z"
   },
   {
    "duration": 134,
    "start_time": "2022-02-16T05:17:28.327Z"
   },
   {
    "duration": 14,
    "start_time": "2022-02-16T05:17:28.468Z"
   },
   {
    "duration": 82,
    "start_time": "2022-02-16T05:17:28.490Z"
   },
   {
    "duration": 9,
    "start_time": "2022-02-16T05:17:28.576Z"
   },
   {
    "duration": 13,
    "start_time": "2022-02-16T05:17:28.588Z"
   },
   {
    "duration": 95,
    "start_time": "2022-02-16T05:17:28.604Z"
   },
   {
    "duration": 17,
    "start_time": "2022-02-16T05:17:28.702Z"
   },
   {
    "duration": 14,
    "start_time": "2022-02-16T05:17:28.721Z"
   },
   {
    "duration": 72,
    "start_time": "2022-02-16T05:17:28.737Z"
   },
   {
    "duration": 73,
    "start_time": "2022-02-16T05:17:28.811Z"
   },
   {
    "duration": 42,
    "start_time": "2022-02-16T05:17:28.886Z"
   },
   {
    "duration": 51,
    "start_time": "2022-02-16T05:17:28.930Z"
   },
   {
    "duration": 11,
    "start_time": "2022-02-16T05:17:28.984Z"
   },
   {
    "duration": 43,
    "start_time": "2022-02-16T05:17:28.997Z"
   },
   {
    "duration": 74,
    "start_time": "2022-02-16T05:17:29.042Z"
   },
   {
    "duration": 79,
    "start_time": "2022-02-16T05:17:29.118Z"
   },
   {
    "duration": 8,
    "start_time": "2022-02-16T05:17:29.200Z"
   },
   {
    "duration": 19,
    "start_time": "2022-02-16T05:17:29.211Z"
   },
   {
    "duration": 41,
    "start_time": "2022-02-16T05:17:29.233Z"
   },
   {
    "duration": 8,
    "start_time": "2022-02-16T05:17:29.276Z"
   },
   {
    "duration": 5941,
    "start_time": "2022-02-16T05:17:29.286Z"
   },
   {
    "duration": 6,
    "start_time": "2022-02-16T05:17:35.230Z"
   },
   {
    "duration": 16,
    "start_time": "2022-02-16T05:17:35.239Z"
   },
   {
    "duration": 1131,
    "start_time": "2022-02-16T05:17:35.269Z"
   },
   {
    "duration": 1398,
    "start_time": "2022-02-16T05:17:36.402Z"
   },
   {
    "duration": 1102,
    "start_time": "2022-02-16T05:17:37.802Z"
   },
   {
    "duration": 1241,
    "start_time": "2022-02-16T05:17:38.907Z"
   },
   {
    "duration": 1326,
    "start_time": "2022-02-16T05:17:40.150Z"
   },
   {
    "duration": 15,
    "start_time": "2022-02-16T05:17:41.479Z"
   },
   {
    "duration": 17,
    "start_time": "2022-02-16T05:17:41.496Z"
   },
   {
    "duration": 492,
    "start_time": "2022-02-16T05:17:41.516Z"
   },
   {
    "duration": 477,
    "start_time": "2022-02-16T05:17:42.011Z"
   },
   {
    "duration": 22,
    "start_time": "2022-02-16T05:17:42.491Z"
   },
   {
    "duration": 262,
    "start_time": "2022-02-16T05:17:42.515Z"
   },
   {
    "duration": 29,
    "start_time": "2022-02-16T05:25:10.321Z"
   },
   {
    "duration": 19,
    "start_time": "2022-02-16T05:26:21.092Z"
   },
   {
    "duration": 43,
    "start_time": "2022-02-16T05:27:35.557Z"
   },
   {
    "duration": 43,
    "start_time": "2022-02-16T05:28:07.161Z"
   },
   {
    "duration": 1610,
    "start_time": "2022-02-16T05:31:45.648Z"
   },
   {
    "duration": 516,
    "start_time": "2022-02-16T05:31:47.261Z"
   },
   {
    "duration": 20,
    "start_time": "2022-02-16T05:31:47.780Z"
   },
   {
    "duration": 16,
    "start_time": "2022-02-16T05:31:47.803Z"
   },
   {
    "duration": 19,
    "start_time": "2022-02-16T05:31:47.822Z"
   },
   {
    "duration": 57,
    "start_time": "2022-02-16T05:31:47.843Z"
   },
   {
    "duration": 12,
    "start_time": "2022-02-16T05:31:47.902Z"
   },
   {
    "duration": 12,
    "start_time": "2022-02-16T05:31:47.918Z"
   },
   {
    "duration": 53,
    "start_time": "2022-02-16T05:31:47.933Z"
   },
   {
    "duration": 262,
    "start_time": "2022-02-16T05:31:47.989Z"
   },
   {
    "duration": 21,
    "start_time": "2022-02-16T05:31:48.253Z"
   },
   {
    "duration": 11,
    "start_time": "2022-02-16T05:31:48.277Z"
   },
   {
    "duration": 16,
    "start_time": "2022-02-16T05:31:48.290Z"
   },
   {
    "duration": 133,
    "start_time": "2022-02-16T05:31:48.308Z"
   },
   {
    "duration": 12,
    "start_time": "2022-02-16T05:31:48.443Z"
   },
   {
    "duration": 12,
    "start_time": "2022-02-16T05:31:48.470Z"
   },
   {
    "duration": 18,
    "start_time": "2022-02-16T05:31:48.484Z"
   },
   {
    "duration": 206,
    "start_time": "2022-02-16T05:31:48.505Z"
   },
   {
    "duration": 555,
    "start_time": "2022-02-16T05:31:48.714Z"
   },
   {
    "duration": 19,
    "start_time": "2022-02-16T05:31:49.272Z"
   },
   {
    "duration": 30,
    "start_time": "2022-02-16T05:31:49.293Z"
   },
   {
    "duration": 11,
    "start_time": "2022-02-16T05:31:49.326Z"
   },
   {
    "duration": 49,
    "start_time": "2022-02-16T05:31:49.374Z"
   },
   {
    "duration": 9,
    "start_time": "2022-02-16T05:31:49.426Z"
   },
   {
    "duration": 37,
    "start_time": "2022-02-16T05:31:49.437Z"
   },
   {
    "duration": 68,
    "start_time": "2022-02-16T05:31:49.476Z"
   },
   {
    "duration": 31,
    "start_time": "2022-02-16T05:31:49.546Z"
   },
   {
    "duration": 14,
    "start_time": "2022-02-16T05:31:49.580Z"
   },
   {
    "duration": 77,
    "start_time": "2022-02-16T05:31:49.597Z"
   },
   {
    "duration": 56,
    "start_time": "2022-02-16T05:31:49.676Z"
   },
   {
    "duration": 61,
    "start_time": "2022-02-16T05:31:49.735Z"
   },
   {
    "duration": 32,
    "start_time": "2022-02-16T05:31:49.798Z"
   },
   {
    "duration": 10,
    "start_time": "2022-02-16T05:31:49.833Z"
   },
   {
    "duration": 41,
    "start_time": "2022-02-16T05:31:49.869Z"
   },
   {
    "duration": 61,
    "start_time": "2022-02-16T05:31:49.913Z"
   },
   {
    "duration": 59,
    "start_time": "2022-02-16T05:31:49.976Z"
   },
   {
    "duration": 32,
    "start_time": "2022-02-16T05:31:50.038Z"
   },
   {
    "duration": 6571,
    "start_time": "2022-02-16T05:31:50.072Z"
   },
   {
    "duration": 1559,
    "start_time": "2022-02-16T05:31:55.087Z"
   },
   {
    "duration": 1542,
    "start_time": "2022-02-16T05:31:55.105Z"
   },
   {
    "duration": 1538,
    "start_time": "2022-02-16T05:31:55.111Z"
   },
   {
    "duration": 1533,
    "start_time": "2022-02-16T05:31:55.117Z"
   },
   {
    "duration": 1525,
    "start_time": "2022-02-16T05:31:55.127Z"
   },
   {
    "duration": 1518,
    "start_time": "2022-02-16T05:31:55.135Z"
   },
   {
    "duration": 1512,
    "start_time": "2022-02-16T05:31:55.142Z"
   },
   {
    "duration": 1506,
    "start_time": "2022-02-16T05:31:55.150Z"
   },
   {
    "duration": 1497,
    "start_time": "2022-02-16T05:31:55.160Z"
   },
   {
    "duration": 1494,
    "start_time": "2022-02-16T05:31:55.165Z"
   },
   {
    "duration": 1488,
    "start_time": "2022-02-16T05:31:55.172Z"
   },
   {
    "duration": 1485,
    "start_time": "2022-02-16T05:31:55.177Z"
   },
   {
    "duration": 1480,
    "start_time": "2022-02-16T05:31:55.183Z"
   },
   {
    "duration": 1475,
    "start_time": "2022-02-16T05:31:55.189Z"
   },
   {
    "duration": 1471,
    "start_time": "2022-02-16T05:31:55.195Z"
   },
   {
    "duration": 1455,
    "start_time": "2022-02-16T05:31:55.212Z"
   },
   {
    "duration": 6125,
    "start_time": "2022-02-16T05:32:37.054Z"
   },
   {
    "duration": 1529,
    "start_time": "2022-02-16T05:32:41.653Z"
   },
   {
    "duration": 14,
    "start_time": "2022-02-16T05:32:59.194Z"
   },
   {
    "duration": 1470,
    "start_time": "2022-02-16T05:38:31.406Z"
   },
   {
    "duration": 536,
    "start_time": "2022-02-16T05:38:32.879Z"
   },
   {
    "duration": 21,
    "start_time": "2022-02-16T05:38:33.418Z"
   },
   {
    "duration": 30,
    "start_time": "2022-02-16T05:38:33.442Z"
   },
   {
    "duration": 20,
    "start_time": "2022-02-16T05:38:33.474Z"
   },
   {
    "duration": 29,
    "start_time": "2022-02-16T05:38:33.497Z"
   },
   {
    "duration": 11,
    "start_time": "2022-02-16T05:38:33.529Z"
   },
   {
    "duration": 13,
    "start_time": "2022-02-16T05:38:33.568Z"
   },
   {
    "duration": 22,
    "start_time": "2022-02-16T05:38:33.583Z"
   },
   {
    "duration": 255,
    "start_time": "2022-02-16T05:38:33.607Z"
   },
   {
    "duration": 12,
    "start_time": "2022-02-16T05:38:33.864Z"
   },
   {
    "duration": 10,
    "start_time": "2022-02-16T05:38:33.879Z"
   },
   {
    "duration": 16,
    "start_time": "2022-02-16T05:38:33.891Z"
   },
   {
    "duration": 132,
    "start_time": "2022-02-16T05:38:33.909Z"
   },
   {
    "duration": 27,
    "start_time": "2022-02-16T05:38:34.044Z"
   },
   {
    "duration": 14,
    "start_time": "2022-02-16T05:38:34.074Z"
   },
   {
    "duration": 17,
    "start_time": "2022-02-16T05:38:34.091Z"
   },
   {
    "duration": 225,
    "start_time": "2022-02-16T05:38:34.111Z"
   },
   {
    "duration": 554,
    "start_time": "2022-02-16T05:38:34.338Z"
   },
   {
    "duration": 18,
    "start_time": "2022-02-16T05:38:34.894Z"
   },
   {
    "duration": 30,
    "start_time": "2022-02-16T05:38:34.915Z"
   },
   {
    "duration": 32,
    "start_time": "2022-02-16T05:38:34.948Z"
   },
   {
    "duration": 51,
    "start_time": "2022-02-16T05:38:34.986Z"
   },
   {
    "duration": 9,
    "start_time": "2022-02-16T05:38:35.070Z"
   },
   {
    "duration": 17,
    "start_time": "2022-02-16T05:38:35.082Z"
   },
   {
    "duration": 92,
    "start_time": "2022-02-16T05:38:35.101Z"
   },
   {
    "duration": 14,
    "start_time": "2022-02-16T05:38:35.196Z"
   },
   {
    "duration": 13,
    "start_time": "2022-02-16T05:38:35.213Z"
   },
   {
    "duration": 79,
    "start_time": "2022-02-16T05:38:35.229Z"
   },
   {
    "duration": 71,
    "start_time": "2022-02-16T05:38:35.310Z"
   },
   {
    "duration": 41,
    "start_time": "2022-02-16T05:38:35.384Z"
   },
   {
    "duration": 52,
    "start_time": "2022-02-16T05:38:35.428Z"
   },
   {
    "duration": 11,
    "start_time": "2022-02-16T05:38:35.482Z"
   },
   {
    "duration": 43,
    "start_time": "2022-02-16T05:38:35.495Z"
   },
   {
    "duration": 69,
    "start_time": "2022-02-16T05:38:35.541Z"
   },
   {
    "duration": 75,
    "start_time": "2022-02-16T05:38:35.613Z"
   },
   {
    "duration": 9,
    "start_time": "2022-02-16T05:38:35.691Z"
   },
   {
    "duration": 13,
    "start_time": "2022-02-16T05:38:35.702Z"
   },
   {
    "duration": 16,
    "start_time": "2022-02-16T05:38:35.718Z"
   },
   {
    "duration": 8,
    "start_time": "2022-02-16T05:38:35.770Z"
   },
   {
    "duration": 7385,
    "start_time": "2022-02-16T05:38:35.780Z"
   },
   {
    "duration": 1550,
    "start_time": "2022-02-16T05:38:41.619Z"
   },
   {
    "duration": 1541,
    "start_time": "2022-02-16T05:38:41.630Z"
   },
   {
    "duration": 1530,
    "start_time": "2022-02-16T05:38:41.643Z"
   },
   {
    "duration": 1518,
    "start_time": "2022-02-16T05:38:41.657Z"
   },
   {
    "duration": 1492,
    "start_time": "2022-02-16T05:38:41.685Z"
   },
   {
    "duration": 1489,
    "start_time": "2022-02-16T05:38:41.691Z"
   },
   {
    "duration": 1483,
    "start_time": "2022-02-16T05:38:41.699Z"
   },
   {
    "duration": 1479,
    "start_time": "2022-02-16T05:38:41.705Z"
   },
   {
    "duration": 1475,
    "start_time": "2022-02-16T05:38:41.711Z"
   },
   {
    "duration": 1471,
    "start_time": "2022-02-16T05:38:41.717Z"
   },
   {
    "duration": 1467,
    "start_time": "2022-02-16T05:38:41.723Z"
   },
   {
    "duration": 1463,
    "start_time": "2022-02-16T05:38:41.729Z"
   },
   {
    "duration": 1459,
    "start_time": "2022-02-16T05:38:41.735Z"
   },
   {
    "duration": 9,
    "start_time": "2022-02-16T05:40:01.958Z"
   },
   {
    "duration": 6561,
    "start_time": "2022-02-16T05:40:14.530Z"
   },
   {
    "duration": 8,
    "start_time": "2022-02-16T05:42:42.523Z"
   },
   {
    "duration": 4809,
    "start_time": "2022-02-16T05:42:47.833Z"
   },
   {
    "duration": 1491,
    "start_time": "2022-02-16T05:46:31.766Z"
   },
   {
    "duration": 540,
    "start_time": "2022-02-16T05:46:33.259Z"
   },
   {
    "duration": 22,
    "start_time": "2022-02-16T05:46:33.803Z"
   },
   {
    "duration": 40,
    "start_time": "2022-02-16T05:46:33.829Z"
   },
   {
    "duration": 17,
    "start_time": "2022-02-16T05:46:33.871Z"
   },
   {
    "duration": 46,
    "start_time": "2022-02-16T05:46:33.890Z"
   },
   {
    "duration": 12,
    "start_time": "2022-02-16T05:46:33.938Z"
   },
   {
    "duration": 12,
    "start_time": "2022-02-16T05:46:33.969Z"
   },
   {
    "duration": 20,
    "start_time": "2022-02-16T05:46:33.985Z"
   },
   {
    "duration": 247,
    "start_time": "2022-02-16T05:46:34.008Z"
   },
   {
    "duration": 17,
    "start_time": "2022-02-16T05:46:34.257Z"
   },
   {
    "duration": 13,
    "start_time": "2022-02-16T05:46:34.277Z"
   },
   {
    "duration": 17,
    "start_time": "2022-02-16T05:46:34.292Z"
   },
   {
    "duration": 138,
    "start_time": "2022-02-16T05:46:34.312Z"
   },
   {
    "duration": 25,
    "start_time": "2022-02-16T05:46:34.452Z"
   },
   {
    "duration": 15,
    "start_time": "2022-02-16T05:46:34.480Z"
   },
   {
    "duration": 19,
    "start_time": "2022-02-16T05:46:34.497Z"
   },
   {
    "duration": 209,
    "start_time": "2022-02-16T05:46:34.519Z"
   },
   {
    "duration": 557,
    "start_time": "2022-02-16T05:46:34.730Z"
   },
   {
    "duration": 3,
    "start_time": "2022-02-16T05:46:35.290Z"
   },
   {
    "duration": 38,
    "start_time": "2022-02-16T05:46:35.295Z"
   },
   {
    "duration": 12,
    "start_time": "2022-02-16T05:46:35.335Z"
   },
   {
    "duration": 48,
    "start_time": "2022-02-16T05:46:35.371Z"
   },
   {
    "duration": 9,
    "start_time": "2022-02-16T05:46:35.421Z"
   },
   {
    "duration": 43,
    "start_time": "2022-02-16T05:46:35.432Z"
   },
   {
    "duration": 67,
    "start_time": "2022-02-16T05:46:35.478Z"
   },
   {
    "duration": 29,
    "start_time": "2022-02-16T05:46:35.551Z"
   },
   {
    "duration": 13,
    "start_time": "2022-02-16T05:46:35.583Z"
   },
   {
    "duration": 84,
    "start_time": "2022-02-16T05:46:35.599Z"
   },
   {
    "duration": 62,
    "start_time": "2022-02-16T05:46:35.686Z"
   },
   {
    "duration": 57,
    "start_time": "2022-02-16T05:46:35.751Z"
   },
   {
    "duration": 33,
    "start_time": "2022-02-16T05:46:35.810Z"
   },
   {
    "duration": 28,
    "start_time": "2022-02-16T05:46:35.846Z"
   },
   {
    "duration": 46,
    "start_time": "2022-02-16T05:46:35.877Z"
   },
   {
    "duration": 76,
    "start_time": "2022-02-16T05:46:35.925Z"
   },
   {
    "duration": 73,
    "start_time": "2022-02-16T05:46:36.003Z"
   },
   {
    "duration": 9,
    "start_time": "2022-02-16T05:46:36.078Z"
   },
   {
    "duration": 19,
    "start_time": "2022-02-16T05:46:36.089Z"
   },
   {
    "duration": 18,
    "start_time": "2022-02-16T05:46:36.111Z"
   },
   {
    "duration": 41,
    "start_time": "2022-02-16T05:46:36.131Z"
   },
   {
    "duration": 4632,
    "start_time": "2022-02-16T05:46:36.174Z"
   },
   {
    "duration": 7,
    "start_time": "2022-02-16T05:46:40.808Z"
   },
   {
    "duration": 10,
    "start_time": "2022-02-16T05:46:40.818Z"
   },
   {
    "duration": 1180,
    "start_time": "2022-02-16T05:46:40.831Z"
   },
   {
    "duration": 1295,
    "start_time": "2022-02-16T05:46:42.014Z"
   },
   {
    "duration": 1076,
    "start_time": "2022-02-16T05:46:43.312Z"
   },
   {
    "duration": 7064,
    "start_time": "2022-02-16T05:46:44.391Z"
   },
   {
    "duration": 1602,
    "start_time": "2022-02-16T05:46:49.855Z"
   },
   {
    "duration": 1576,
    "start_time": "2022-02-16T05:46:49.882Z"
   },
   {
    "duration": 1561,
    "start_time": "2022-02-16T05:46:49.899Z"
   },
   {
    "duration": 1555,
    "start_time": "2022-02-16T05:46:49.906Z"
   },
   {
    "duration": 1550,
    "start_time": "2022-02-16T05:46:49.912Z"
   },
   {
    "duration": 1543,
    "start_time": "2022-02-16T05:46:49.921Z"
   },
   {
    "duration": 1537,
    "start_time": "2022-02-16T05:46:49.928Z"
   },
   {
    "duration": 1152,
    "start_time": "2022-02-16T05:48:42.175Z"
   },
   {
    "duration": 22,
    "start_time": "2022-02-16T06:09:11.570Z"
   },
   {
    "duration": 49,
    "start_time": "2022-02-16T06:10:57.548Z"
   },
   {
    "duration": 8,
    "start_time": "2022-02-16T06:12:44.368Z"
   },
   {
    "duration": 12,
    "start_time": "2022-02-16T06:13:30.315Z"
   },
   {
    "duration": 300,
    "start_time": "2022-02-16T06:15:34.438Z"
   },
   {
    "duration": 264,
    "start_time": "2022-02-16T06:15:41.268Z"
   },
   {
    "duration": 254,
    "start_time": "2022-02-16T06:16:25.378Z"
   },
   {
    "duration": 264,
    "start_time": "2022-02-16T06:18:38.890Z"
   },
   {
    "duration": 12,
    "start_time": "2022-02-16T06:21:45.592Z"
   },
   {
    "duration": 1653,
    "start_time": "2022-02-16T06:23:01.177Z"
   },
   {
    "duration": 630,
    "start_time": "2022-02-16T06:23:02.834Z"
   },
   {
    "duration": 20,
    "start_time": "2022-02-16T06:23:03.467Z"
   },
   {
    "duration": 19,
    "start_time": "2022-02-16T06:23:03.490Z"
   },
   {
    "duration": 24,
    "start_time": "2022-02-16T06:23:03.511Z"
   },
   {
    "duration": 64,
    "start_time": "2022-02-16T06:23:03.537Z"
   },
   {
    "duration": 11,
    "start_time": "2022-02-16T06:23:03.604Z"
   },
   {
    "duration": 17,
    "start_time": "2022-02-16T06:23:03.619Z"
   },
   {
    "duration": 20,
    "start_time": "2022-02-16T06:23:03.669Z"
   },
   {
    "duration": 247,
    "start_time": "2022-02-16T06:23:03.691Z"
   },
   {
    "duration": 12,
    "start_time": "2022-02-16T06:23:03.941Z"
   },
   {
    "duration": 12,
    "start_time": "2022-02-16T06:23:03.971Z"
   },
   {
    "duration": 17,
    "start_time": "2022-02-16T06:23:03.987Z"
   },
   {
    "duration": 141,
    "start_time": "2022-02-16T06:23:04.007Z"
   },
   {
    "duration": 25,
    "start_time": "2022-02-16T06:23:04.150Z"
   },
   {
    "duration": 15,
    "start_time": "2022-02-16T06:23:04.178Z"
   },
   {
    "duration": 24,
    "start_time": "2022-02-16T06:23:04.196Z"
   },
   {
    "duration": 208,
    "start_time": "2022-02-16T06:23:04.222Z"
   },
   {
    "duration": 557,
    "start_time": "2022-02-16T06:23:04.433Z"
   },
   {
    "duration": 3,
    "start_time": "2022-02-16T06:23:04.993Z"
   },
   {
    "duration": 39,
    "start_time": "2022-02-16T06:23:04.998Z"
   },
   {
    "duration": 37,
    "start_time": "2022-02-16T06:23:05.039Z"
   },
   {
    "duration": 59,
    "start_time": "2022-02-16T06:23:05.078Z"
   },
   {
    "duration": 10,
    "start_time": "2022-02-16T06:23:05.139Z"
   },
   {
    "duration": 26,
    "start_time": "2022-02-16T06:23:05.151Z"
   },
   {
    "duration": 91,
    "start_time": "2022-02-16T06:23:05.183Z"
   },
   {
    "duration": 17,
    "start_time": "2022-02-16T06:23:05.277Z"
   },
   {
    "duration": 16,
    "start_time": "2022-02-16T06:23:05.296Z"
   },
   {
    "duration": 78,
    "start_time": "2022-02-16T06:23:05.314Z"
   },
   {
    "duration": 82,
    "start_time": "2022-02-16T06:23:05.394Z"
   },
   {
    "duration": 41,
    "start_time": "2022-02-16T06:23:05.478Z"
   },
   {
    "duration": 53,
    "start_time": "2022-02-16T06:23:05.521Z"
   },
   {
    "duration": 10,
    "start_time": "2022-02-16T06:23:05.577Z"
   },
   {
    "duration": 45,
    "start_time": "2022-02-16T06:23:05.590Z"
   },
   {
    "duration": 71,
    "start_time": "2022-02-16T06:23:05.637Z"
   },
   {
    "duration": 12,
    "start_time": "2022-02-16T06:23:05.710Z"
   },
   {
    "duration": 88,
    "start_time": "2022-02-16T06:23:05.724Z"
   },
   {
    "duration": 8,
    "start_time": "2022-02-16T06:23:05.814Z"
   },
   {
    "duration": 13,
    "start_time": "2022-02-16T06:23:05.825Z"
   },
   {
    "duration": 44,
    "start_time": "2022-02-16T06:23:05.840Z"
   },
   {
    "duration": 10,
    "start_time": "2022-02-16T06:23:05.887Z"
   },
   {
    "duration": 5051,
    "start_time": "2022-02-16T06:23:05.899Z"
   },
   {
    "duration": 23,
    "start_time": "2022-02-16T06:23:10.953Z"
   },
   {
    "duration": 11,
    "start_time": "2022-02-16T06:23:10.979Z"
   },
   {
    "duration": 1129,
    "start_time": "2022-02-16T06:23:10.993Z"
   },
   {
    "duration": 1178,
    "start_time": "2022-02-16T06:23:12.125Z"
   },
   {
    "duration": 1056,
    "start_time": "2022-02-16T06:23:13.305Z"
   },
   {
    "duration": 1119,
    "start_time": "2022-02-16T06:23:14.370Z"
   },
   {
    "duration": 1337,
    "start_time": "2022-02-16T06:23:15.492Z"
   },
   {
    "duration": 14,
    "start_time": "2022-02-16T06:23:16.831Z"
   },
   {
    "duration": 32,
    "start_time": "2022-02-16T06:23:16.848Z"
   },
   {
    "duration": 580,
    "start_time": "2022-02-16T06:23:16.882Z"
   },
   {
    "duration": 461,
    "start_time": "2022-02-16T06:23:17.465Z"
   },
   {
    "duration": 20,
    "start_time": "2022-02-16T06:23:17.929Z"
   },
   {
    "duration": 246,
    "start_time": "2022-02-16T06:23:17.969Z"
   },
   {
    "duration": 8,
    "start_time": "2022-02-16T06:36:55.933Z"
   },
   {
    "duration": 693,
    "start_time": "2022-02-16T06:37:03.349Z"
   },
   {
    "duration": 9,
    "start_time": "2022-02-16T06:39:42.228Z"
   },
   {
    "duration": 529,
    "start_time": "2022-02-16T06:39:48.294Z"
   },
   {
    "duration": 85,
    "start_time": "2022-02-16T06:43:21.838Z"
   },
   {
    "duration": 88,
    "start_time": "2022-02-16T06:43:59.877Z"
   },
   {
    "duration": 94,
    "start_time": "2022-02-16T06:44:11.398Z"
   },
   {
    "duration": 8,
    "start_time": "2022-02-16T06:44:23.255Z"
   },
   {
    "duration": 5606,
    "start_time": "2022-02-16T06:44:26.872Z"
   },
   {
    "duration": 1585,
    "start_time": "2022-02-16T06:45:08.374Z"
   },
   {
    "duration": 527,
    "start_time": "2022-02-16T06:45:09.962Z"
   },
   {
    "duration": 20,
    "start_time": "2022-02-16T06:45:10.492Z"
   },
   {
    "duration": 18,
    "start_time": "2022-02-16T06:45:10.514Z"
   },
   {
    "duration": 40,
    "start_time": "2022-02-16T06:45:10.535Z"
   },
   {
    "duration": 33,
    "start_time": "2022-02-16T06:45:10.578Z"
   },
   {
    "duration": 12,
    "start_time": "2022-02-16T06:45:10.613Z"
   },
   {
    "duration": 42,
    "start_time": "2022-02-16T06:45:10.629Z"
   },
   {
    "duration": 20,
    "start_time": "2022-02-16T06:45:10.674Z"
   },
   {
    "duration": 234,
    "start_time": "2022-02-16T06:45:10.697Z"
   },
   {
    "duration": 11,
    "start_time": "2022-02-16T06:45:10.933Z"
   },
   {
    "duration": 31,
    "start_time": "2022-02-16T06:45:10.946Z"
   },
   {
    "duration": 15,
    "start_time": "2022-02-16T06:45:10.979Z"
   },
   {
    "duration": 122,
    "start_time": "2022-02-16T06:45:10.997Z"
   },
   {
    "duration": 11,
    "start_time": "2022-02-16T06:45:11.122Z"
   },
   {
    "duration": 38,
    "start_time": "2022-02-16T06:45:11.136Z"
   },
   {
    "duration": 26,
    "start_time": "2022-02-16T06:45:11.176Z"
   },
   {
    "duration": 188,
    "start_time": "2022-02-16T06:45:11.204Z"
   },
   {
    "duration": 550,
    "start_time": "2022-02-16T06:45:11.394Z"
   },
   {
    "duration": 3,
    "start_time": "2022-02-16T06:45:11.946Z"
   },
   {
    "duration": 40,
    "start_time": "2022-02-16T06:45:11.951Z"
   },
   {
    "duration": 12,
    "start_time": "2022-02-16T06:45:11.994Z"
   },
   {
    "duration": 72,
    "start_time": "2022-02-16T06:45:12.012Z"
   },
   {
    "duration": 9,
    "start_time": "2022-02-16T06:45:12.089Z"
   },
   {
    "duration": 12,
    "start_time": "2022-02-16T06:45:12.101Z"
   },
   {
    "duration": 102,
    "start_time": "2022-02-16T06:45:12.116Z"
   },
   {
    "duration": 13,
    "start_time": "2022-02-16T06:45:12.221Z"
   },
   {
    "duration": 34,
    "start_time": "2022-02-16T06:45:12.237Z"
   },
   {
    "duration": 47,
    "start_time": "2022-02-16T06:45:12.274Z"
   },
   {
    "duration": 83,
    "start_time": "2022-02-16T06:45:12.324Z"
   },
   {
    "duration": 41,
    "start_time": "2022-02-16T06:45:12.409Z"
   },
   {
    "duration": 43,
    "start_time": "2022-02-16T06:45:12.452Z"
   },
   {
    "duration": 10,
    "start_time": "2022-02-16T06:45:12.498Z"
   },
   {
    "duration": 70,
    "start_time": "2022-02-16T06:45:12.510Z"
   },
   {
    "duration": 53,
    "start_time": "2022-02-16T06:45:12.582Z"
   },
   {
    "duration": 11,
    "start_time": "2022-02-16T06:45:12.637Z"
   },
   {
    "duration": 57,
    "start_time": "2022-02-16T06:45:12.669Z"
   },
   {
    "duration": 9,
    "start_time": "2022-02-16T06:45:12.729Z"
   },
   {
    "duration": 37,
    "start_time": "2022-02-16T06:45:12.741Z"
   },
   {
    "duration": 14,
    "start_time": "2022-02-16T06:45:12.781Z"
   },
   {
    "duration": 8,
    "start_time": "2022-02-16T06:45:12.798Z"
   },
   {
    "duration": 5655,
    "start_time": "2022-02-16T06:45:12.808Z"
   },
   {
    "duration": 8,
    "start_time": "2022-02-16T06:45:18.465Z"
   },
   {
    "duration": 11,
    "start_time": "2022-02-16T06:45:18.475Z"
   },
   {
    "duration": 1192,
    "start_time": "2022-02-16T06:45:18.488Z"
   },
   {
    "duration": 1235,
    "start_time": "2022-02-16T06:45:19.683Z"
   },
   {
    "duration": 1261,
    "start_time": "2022-02-16T06:45:20.921Z"
   },
   {
    "duration": 1215,
    "start_time": "2022-02-16T06:45:22.184Z"
   },
   {
    "duration": 1430,
    "start_time": "2022-02-16T06:45:23.402Z"
   },
   {
    "duration": 43,
    "start_time": "2022-02-16T06:45:24.834Z"
   },
   {
    "duration": 15,
    "start_time": "2022-02-16T06:45:24.880Z"
   },
   {
    "duration": 602,
    "start_time": "2022-02-16T06:45:24.898Z"
   },
   {
    "duration": 578,
    "start_time": "2022-02-16T06:45:25.503Z"
   },
   {
    "duration": 20,
    "start_time": "2022-02-16T06:45:26.083Z"
   },
   {
    "duration": 265,
    "start_time": "2022-02-16T06:45:26.106Z"
   },
   {
    "duration": 1509,
    "start_time": "2022-02-16T06:47:51.472Z"
   },
   {
    "duration": 517,
    "start_time": "2022-02-16T06:47:52.983Z"
   },
   {
    "duration": 29,
    "start_time": "2022-02-16T06:47:53.503Z"
   },
   {
    "duration": 18,
    "start_time": "2022-02-16T06:47:53.535Z"
   },
   {
    "duration": 41,
    "start_time": "2022-02-16T06:47:53.556Z"
   },
   {
    "duration": 50,
    "start_time": "2022-02-16T06:47:53.600Z"
   },
   {
    "duration": 13,
    "start_time": "2022-02-16T06:47:53.652Z"
   },
   {
    "duration": 19,
    "start_time": "2022-02-16T06:47:53.670Z"
   },
   {
    "duration": 39,
    "start_time": "2022-02-16T06:47:53.695Z"
   },
   {
    "duration": 239,
    "start_time": "2022-02-16T06:47:53.738Z"
   },
   {
    "duration": 12,
    "start_time": "2022-02-16T06:47:53.980Z"
   },
   {
    "duration": 18,
    "start_time": "2022-02-16T06:47:53.995Z"
   },
   {
    "duration": 19,
    "start_time": "2022-02-16T06:47:54.016Z"
   },
   {
    "duration": 119,
    "start_time": "2022-02-16T06:47:54.070Z"
   },
   {
    "duration": 14,
    "start_time": "2022-02-16T06:47:54.191Z"
   },
   {
    "duration": 26,
    "start_time": "2022-02-16T06:47:54.208Z"
   },
   {
    "duration": 43,
    "start_time": "2022-02-16T06:47:54.236Z"
   },
   {
    "duration": 188,
    "start_time": "2022-02-16T06:47:54.281Z"
   },
   {
    "duration": 563,
    "start_time": "2022-02-16T06:47:54.471Z"
   },
   {
    "duration": 3,
    "start_time": "2022-02-16T06:47:55.037Z"
   },
   {
    "duration": 13,
    "start_time": "2022-02-16T06:47:55.043Z"
   },
   {
    "duration": 19,
    "start_time": "2022-02-16T06:47:55.070Z"
   },
   {
    "duration": 47,
    "start_time": "2022-02-16T06:47:55.092Z"
   },
   {
    "duration": 29,
    "start_time": "2022-02-16T06:47:55.141Z"
   },
   {
    "duration": 14,
    "start_time": "2022-02-16T06:47:55.173Z"
   },
   {
    "duration": 93,
    "start_time": "2022-02-16T06:47:55.190Z"
   },
   {
    "duration": 14,
    "start_time": "2022-02-16T06:47:55.288Z"
   },
   {
    "duration": 13,
    "start_time": "2022-02-16T06:47:55.306Z"
   },
   {
    "duration": 87,
    "start_time": "2022-02-16T06:47:55.321Z"
   },
   {
    "duration": 79,
    "start_time": "2022-02-16T06:47:55.412Z"
   },
   {
    "duration": 41,
    "start_time": "2022-02-16T06:47:55.494Z"
   },
   {
    "duration": 54,
    "start_time": "2022-02-16T06:47:55.537Z"
   },
   {
    "duration": 11,
    "start_time": "2022-02-16T06:47:55.594Z"
   },
   {
    "duration": 63,
    "start_time": "2022-02-16T06:47:55.608Z"
   },
   {
    "duration": 6664,
    "start_time": "2022-02-16T06:47:55.673Z"
   },
   {
    "duration": 1491,
    "start_time": "2022-02-16T06:48:00.850Z"
   },
   {
    "duration": 1487,
    "start_time": "2022-02-16T06:48:00.857Z"
   },
   {
    "duration": 1484,
    "start_time": "2022-02-16T06:48:00.862Z"
   },
   {
    "duration": 1477,
    "start_time": "2022-02-16T06:48:00.871Z"
   },
   {
    "duration": 1473,
    "start_time": "2022-02-16T06:48:00.877Z"
   },
   {
    "duration": 1470,
    "start_time": "2022-02-16T06:48:00.883Z"
   },
   {
    "duration": 1465,
    "start_time": "2022-02-16T06:48:00.890Z"
   },
   {
    "duration": 1462,
    "start_time": "2022-02-16T06:48:00.896Z"
   },
   {
    "duration": 1458,
    "start_time": "2022-02-16T06:48:00.902Z"
   },
   {
    "duration": 1454,
    "start_time": "2022-02-16T06:48:00.908Z"
   },
   {
    "duration": 1450,
    "start_time": "2022-02-16T06:48:00.914Z"
   },
   {
    "duration": 1445,
    "start_time": "2022-02-16T06:48:00.921Z"
   },
   {
    "duration": 1442,
    "start_time": "2022-02-16T06:48:00.927Z"
   },
   {
    "duration": 1438,
    "start_time": "2022-02-16T06:48:00.933Z"
   },
   {
    "duration": 1417,
    "start_time": "2022-02-16T06:48:00.956Z"
   },
   {
    "duration": 1412,
    "start_time": "2022-02-16T06:48:00.963Z"
   },
   {
    "duration": 1409,
    "start_time": "2022-02-16T06:48:00.969Z"
   },
   {
    "duration": 1405,
    "start_time": "2022-02-16T06:48:00.975Z"
   },
   {
    "duration": 1401,
    "start_time": "2022-02-16T06:48:00.981Z"
   },
   {
    "duration": 1394,
    "start_time": "2022-02-16T06:48:00.990Z"
   },
   {
    "duration": 1472,
    "start_time": "2022-02-16T06:50:36.003Z"
   },
   {
    "duration": 548,
    "start_time": "2022-02-16T06:50:37.478Z"
   },
   {
    "duration": 20,
    "start_time": "2022-02-16T06:50:38.029Z"
   },
   {
    "duration": 30,
    "start_time": "2022-02-16T06:50:38.052Z"
   },
   {
    "duration": 18,
    "start_time": "2022-02-16T06:50:38.084Z"
   },
   {
    "duration": 33,
    "start_time": "2022-02-16T06:50:38.104Z"
   },
   {
    "duration": 13,
    "start_time": "2022-02-16T06:50:38.169Z"
   },
   {
    "duration": 13,
    "start_time": "2022-02-16T06:50:38.184Z"
   },
   {
    "duration": 20,
    "start_time": "2022-02-16T06:50:38.201Z"
   },
   {
    "duration": 261,
    "start_time": "2022-02-16T06:50:38.224Z"
   },
   {
    "duration": 12,
    "start_time": "2022-02-16T06:50:38.488Z"
   },
   {
    "duration": 19,
    "start_time": "2022-02-16T06:50:38.503Z"
   },
   {
    "duration": 41,
    "start_time": "2022-02-16T06:50:38.530Z"
   },
   {
    "duration": 161,
    "start_time": "2022-02-16T06:50:38.574Z"
   },
   {
    "duration": 32,
    "start_time": "2022-02-16T06:50:38.737Z"
   },
   {
    "duration": 14,
    "start_time": "2022-02-16T06:50:38.771Z"
   },
   {
    "duration": 20,
    "start_time": "2022-02-16T06:50:38.788Z"
   },
   {
    "duration": 223,
    "start_time": "2022-02-16T06:50:38.811Z"
   },
   {
    "duration": 576,
    "start_time": "2022-02-16T06:50:39.037Z"
   },
   {
    "duration": 4,
    "start_time": "2022-02-16T06:50:39.616Z"
   },
   {
    "duration": 8,
    "start_time": "2022-02-16T06:50:39.623Z"
   },
   {
    "duration": 40,
    "start_time": "2022-02-16T06:50:39.633Z"
   },
   {
    "duration": 49,
    "start_time": "2022-02-16T06:50:39.676Z"
   },
   {
    "duration": 9,
    "start_time": "2022-02-16T06:50:39.728Z"
   },
   {
    "duration": 39,
    "start_time": "2022-02-16T06:50:39.739Z"
   },
   {
    "duration": 93,
    "start_time": "2022-02-16T06:50:39.781Z"
   },
   {
    "duration": 14,
    "start_time": "2022-02-16T06:50:39.880Z"
   },
   {
    "duration": 14,
    "start_time": "2022-02-16T06:50:39.897Z"
   },
   {
    "duration": 90,
    "start_time": "2022-02-16T06:50:39.914Z"
   },
   {
    "duration": 75,
    "start_time": "2022-02-16T06:50:40.007Z"
   },
   {
    "duration": 41,
    "start_time": "2022-02-16T06:50:40.084Z"
   },
   {
    "duration": 55,
    "start_time": "2022-02-16T06:50:40.128Z"
   },
   {
    "duration": 11,
    "start_time": "2022-02-16T06:50:40.185Z"
   },
   {
    "duration": 45,
    "start_time": "2022-02-16T06:50:40.198Z"
   },
   {
    "duration": 6993,
    "start_time": "2022-02-16T06:50:40.270Z"
   },
   {
    "duration": 1476,
    "start_time": "2022-02-16T06:50:45.790Z"
   },
   {
    "duration": 1471,
    "start_time": "2022-02-16T06:50:45.797Z"
   },
   {
    "duration": 1423,
    "start_time": "2022-02-16T06:50:45.846Z"
   },
   {
    "duration": 1420,
    "start_time": "2022-02-16T06:50:45.851Z"
   },
   {
    "duration": 1326,
    "start_time": "2022-02-16T06:50:45.947Z"
   },
   {
    "duration": 1258,
    "start_time": "2022-02-16T06:50:46.017Z"
   },
   {
    "duration": 1241,
    "start_time": "2022-02-16T06:50:46.035Z"
   },
   {
    "duration": 1235,
    "start_time": "2022-02-16T06:50:46.043Z"
   },
   {
    "duration": 1227,
    "start_time": "2022-02-16T06:50:46.053Z"
   },
   {
    "duration": 1219,
    "start_time": "2022-02-16T06:50:46.062Z"
   },
   {
    "duration": 1211,
    "start_time": "2022-02-16T06:50:46.072Z"
   },
   {
    "duration": 1204,
    "start_time": "2022-02-16T06:50:46.080Z"
   },
   {
    "duration": 1199,
    "start_time": "2022-02-16T06:50:46.086Z"
   },
   {
    "duration": 1195,
    "start_time": "2022-02-16T06:50:46.092Z"
   },
   {
    "duration": 1188,
    "start_time": "2022-02-16T06:50:46.100Z"
   },
   {
    "duration": 1181,
    "start_time": "2022-02-16T06:50:46.108Z"
   },
   {
    "duration": 1173,
    "start_time": "2022-02-16T06:50:46.117Z"
   },
   {
    "duration": 1169,
    "start_time": "2022-02-16T06:50:46.123Z"
   },
   {
    "duration": 1164,
    "start_time": "2022-02-16T06:50:46.129Z"
   },
   {
    "duration": 1149,
    "start_time": "2022-02-16T06:50:46.145Z"
   },
   {
    "duration": 46,
    "start_time": "2022-02-16T06:51:43.371Z"
   },
   {
    "duration": 277,
    "start_time": "2022-02-16T06:53:04.534Z"
   },
   {
    "duration": 17,
    "start_time": "2022-02-16T06:54:04.524Z"
   },
   {
    "duration": 1555,
    "start_time": "2022-02-16T06:54:29.735Z"
   },
   {
    "duration": 536,
    "start_time": "2022-02-16T06:54:31.293Z"
   },
   {
    "duration": 22,
    "start_time": "2022-02-16T06:54:31.832Z"
   },
   {
    "duration": 28,
    "start_time": "2022-02-16T06:54:31.857Z"
   },
   {
    "duration": 18,
    "start_time": "2022-02-16T06:54:31.887Z"
   },
   {
    "duration": 31,
    "start_time": "2022-02-16T06:54:31.908Z"
   },
   {
    "duration": 37,
    "start_time": "2022-02-16T06:54:31.941Z"
   },
   {
    "duration": 13,
    "start_time": "2022-02-16T06:54:31.981Z"
   },
   {
    "duration": 18,
    "start_time": "2022-02-16T06:54:31.998Z"
   },
   {
    "duration": 259,
    "start_time": "2022-02-16T06:54:32.020Z"
   },
   {
    "duration": 10,
    "start_time": "2022-02-16T06:54:32.281Z"
   },
   {
    "duration": 13,
    "start_time": "2022-02-16T06:54:32.294Z"
   },
   {
    "duration": 16,
    "start_time": "2022-02-16T06:54:32.309Z"
   },
   {
    "duration": 142,
    "start_time": "2022-02-16T06:54:32.328Z"
   },
   {
    "duration": 12,
    "start_time": "2022-02-16T06:54:32.472Z"
   },
   {
    "duration": 31,
    "start_time": "2022-02-16T06:54:32.487Z"
   },
   {
    "duration": 22,
    "start_time": "2022-02-16T06:54:32.520Z"
   },
   {
    "duration": 191,
    "start_time": "2022-02-16T06:54:32.544Z"
   },
   {
    "duration": 574,
    "start_time": "2022-02-16T06:54:32.737Z"
   },
   {
    "duration": 3,
    "start_time": "2022-02-16T06:54:33.313Z"
   },
   {
    "duration": 6,
    "start_time": "2022-02-16T06:54:33.319Z"
   },
   {
    "duration": 13,
    "start_time": "2022-02-16T06:54:33.328Z"
   },
   {
    "duration": 72,
    "start_time": "2022-02-16T06:54:33.344Z"
   },
   {
    "duration": 8,
    "start_time": "2022-02-16T06:54:33.419Z"
   },
   {
    "duration": 39,
    "start_time": "2022-02-16T06:54:33.430Z"
   },
   {
    "duration": 69,
    "start_time": "2022-02-16T06:54:33.472Z"
   },
   {
    "duration": 30,
    "start_time": "2022-02-16T06:54:33.547Z"
   },
   {
    "duration": 14,
    "start_time": "2022-02-16T06:54:33.581Z"
   },
   {
    "duration": 73,
    "start_time": "2022-02-16T06:54:33.597Z"
   },
   {
    "duration": 62,
    "start_time": "2022-02-16T06:54:33.673Z"
   },
   {
    "duration": 62,
    "start_time": "2022-02-16T06:54:33.738Z"
   },
   {
    "duration": 35,
    "start_time": "2022-02-16T06:54:33.803Z"
   },
   {
    "duration": 35,
    "start_time": "2022-02-16T06:54:33.840Z"
   },
   {
    "duration": 45,
    "start_time": "2022-02-16T06:54:33.877Z"
   },
   {
    "duration": 76,
    "start_time": "2022-02-16T06:54:33.924Z"
   },
   {
    "duration": 18,
    "start_time": "2022-02-16T06:54:34.003Z"
   },
   {
    "duration": 85,
    "start_time": "2022-02-16T06:54:34.024Z"
   },
   {
    "duration": 9,
    "start_time": "2022-02-16T06:54:34.112Z"
   },
   {
    "duration": 12,
    "start_time": "2022-02-16T06:54:34.123Z"
   },
   {
    "duration": 40,
    "start_time": "2022-02-16T06:54:34.138Z"
   },
   {
    "duration": 8,
    "start_time": "2022-02-16T06:54:34.180Z"
   },
   {
    "duration": 5720,
    "start_time": "2022-02-16T06:54:34.190Z"
   },
   {
    "duration": 7,
    "start_time": "2022-02-16T06:54:39.912Z"
   },
   {
    "duration": 8,
    "start_time": "2022-02-16T06:54:39.922Z"
   },
   {
    "duration": 1194,
    "start_time": "2022-02-16T06:54:39.932Z"
   },
   {
    "duration": 1229,
    "start_time": "2022-02-16T06:54:41.128Z"
   },
   {
    "duration": 1086,
    "start_time": "2022-02-16T06:54:42.368Z"
   },
   {
    "duration": 1156,
    "start_time": "2022-02-16T06:54:43.456Z"
   },
   {
    "duration": 1273,
    "start_time": "2022-02-16T06:54:44.615Z"
   },
   {
    "duration": 17,
    "start_time": "2022-02-16T06:54:45.891Z"
   },
   {
    "duration": 21,
    "start_time": "2022-02-16T06:54:45.912Z"
   },
   {
    "duration": 636,
    "start_time": "2022-02-16T06:54:45.936Z"
   },
   {
    "duration": 500,
    "start_time": "2022-02-16T06:54:46.576Z"
   },
   {
    "duration": 22,
    "start_time": "2022-02-16T06:54:47.078Z"
   },
   {
    "duration": 261,
    "start_time": "2022-02-16T06:54:47.103Z"
   },
   {
    "duration": 15,
    "start_time": "2022-02-16T06:57:05.536Z"
   },
   {
    "duration": 197,
    "start_time": "2022-02-17T14:54:20.835Z"
   },
   {
    "duration": 155,
    "start_time": "2022-02-17T14:54:44.291Z"
   },
   {
    "duration": 121,
    "start_time": "2022-02-17T14:55:14.956Z"
   },
   {
    "duration": 128,
    "start_time": "2022-02-17T14:55:32.868Z"
   },
   {
    "duration": 157,
    "start_time": "2022-02-17T14:56:08.869Z"
   },
   {
    "duration": 139,
    "start_time": "2022-02-17T15:01:19.693Z"
   },
   {
    "duration": 381,
    "start_time": "2022-02-17T15:07:49.451Z"
   },
   {
    "duration": 2120,
    "start_time": "2022-02-17T15:08:31.929Z"
   },
   {
    "duration": 1153,
    "start_time": "2022-02-17T15:08:53.901Z"
   },
   {
    "duration": 398,
    "start_time": "2022-02-17T15:08:55.056Z"
   },
   {
    "duration": 11,
    "start_time": "2022-02-17T15:08:55.456Z"
   },
   {
    "duration": 11,
    "start_time": "2022-02-17T15:08:55.469Z"
   },
   {
    "duration": 11,
    "start_time": "2022-02-17T15:08:55.481Z"
   },
   {
    "duration": 18,
    "start_time": "2022-02-17T15:08:55.494Z"
   },
   {
    "duration": 7,
    "start_time": "2022-02-17T15:08:55.514Z"
   },
   {
    "duration": 26,
    "start_time": "2022-02-17T15:08:55.523Z"
   },
   {
    "duration": 13,
    "start_time": "2022-02-17T15:08:55.550Z"
   },
   {
    "duration": 147,
    "start_time": "2022-02-17T15:08:55.565Z"
   },
   {
    "duration": 6,
    "start_time": "2022-02-17T15:08:55.713Z"
   },
   {
    "duration": 7,
    "start_time": "2022-02-17T15:08:55.721Z"
   },
   {
    "duration": 9,
    "start_time": "2022-02-17T15:08:55.745Z"
   },
   {
    "duration": 62,
    "start_time": "2022-02-17T15:08:55.755Z"
   },
   {
    "duration": 27,
    "start_time": "2022-02-17T15:08:55.819Z"
   },
   {
    "duration": 13,
    "start_time": "2022-02-17T15:08:55.847Z"
   },
   {
    "duration": 13,
    "start_time": "2022-02-17T15:08:55.862Z"
   },
   {
    "duration": 107,
    "start_time": "2022-02-17T15:08:55.877Z"
   },
   {
    "duration": 307,
    "start_time": "2022-02-17T15:08:55.985Z"
   },
   {
    "duration": 2,
    "start_time": "2022-02-17T15:08:56.293Z"
   },
   {
    "duration": 9,
    "start_time": "2022-02-17T15:08:56.297Z"
   },
   {
    "duration": 40,
    "start_time": "2022-02-17T15:08:56.308Z"
   },
   {
    "duration": 5,
    "start_time": "2022-02-17T15:08:56.351Z"
   },
   {
    "duration": 9,
    "start_time": "2022-02-17T15:08:56.358Z"
   },
   {
    "duration": 43,
    "start_time": "2022-02-17T15:08:56.368Z"
   },
   {
    "duration": 8,
    "start_time": "2022-02-17T15:08:56.412Z"
   },
   {
    "duration": 28,
    "start_time": "2022-02-17T15:08:56.421Z"
   },
   {
    "duration": 7,
    "start_time": "2022-02-17T15:08:56.451Z"
   },
   {
    "duration": 31,
    "start_time": "2022-02-17T15:08:56.460Z"
   },
   {
    "duration": 56,
    "start_time": "2022-02-17T15:08:56.492Z"
   },
   {
    "duration": 25,
    "start_time": "2022-02-17T15:08:56.550Z"
   },
   {
    "duration": 22,
    "start_time": "2022-02-17T15:08:56.576Z"
   },
   {
    "duration": 6,
    "start_time": "2022-02-17T15:08:56.599Z"
   },
   {
    "duration": 52,
    "start_time": "2022-02-17T15:08:56.606Z"
   },
   {
    "duration": 30,
    "start_time": "2022-02-17T15:08:56.659Z"
   },
   {
    "duration": 12,
    "start_time": "2022-02-17T15:08:56.690Z"
   },
   {
    "duration": 44,
    "start_time": "2022-02-17T15:08:56.703Z"
   },
   {
    "duration": 5,
    "start_time": "2022-02-17T15:08:56.748Z"
   },
   {
    "duration": 9,
    "start_time": "2022-02-17T15:08:56.754Z"
   },
   {
    "duration": 10,
    "start_time": "2022-02-17T15:08:56.764Z"
   },
   {
    "duration": 5,
    "start_time": "2022-02-17T15:08:56.775Z"
   },
   {
    "duration": 2952,
    "start_time": "2022-02-17T15:08:56.782Z"
   },
   {
    "duration": 5,
    "start_time": "2022-02-17T15:08:59.736Z"
   },
   {
    "duration": 5,
    "start_time": "2022-02-17T15:08:59.745Z"
   },
   {
    "duration": 650,
    "start_time": "2022-02-17T15:08:59.752Z"
   },
   {
    "duration": 661,
    "start_time": "2022-02-17T15:09:00.404Z"
   },
   {
    "duration": 567,
    "start_time": "2022-02-17T15:09:01.066Z"
   },
   {
    "duration": 613,
    "start_time": "2022-02-17T15:09:01.634Z"
   },
   {
    "duration": 640,
    "start_time": "2022-02-17T15:09:02.248Z"
   },
   {
    "duration": 9,
    "start_time": "2022-02-17T15:09:02.889Z"
   },
   {
    "duration": 9,
    "start_time": "2022-02-17T15:09:02.899Z"
   },
   {
    "duration": 346,
    "start_time": "2022-02-17T15:09:02.909Z"
   },
   {
    "duration": 253,
    "start_time": "2022-02-17T15:09:03.257Z"
   },
   {
    "duration": 13,
    "start_time": "2022-02-17T15:09:03.511Z"
   },
   {
    "duration": 141,
    "start_time": "2022-02-17T15:09:03.525Z"
   },
   {
    "duration": 1123,
    "start_time": "2022-02-17T15:25:57.035Z"
   },
   {
    "duration": 427,
    "start_time": "2022-02-17T15:25:58.161Z"
   },
   {
    "duration": 13,
    "start_time": "2022-02-17T15:25:58.590Z"
   },
   {
    "duration": 9,
    "start_time": "2022-02-17T15:25:58.605Z"
   },
   {
    "duration": 15,
    "start_time": "2022-02-17T15:25:58.616Z"
   },
   {
    "duration": 24,
    "start_time": "2022-02-17T15:25:58.632Z"
   },
   {
    "duration": 11,
    "start_time": "2022-02-17T15:25:58.658Z"
   },
   {
    "duration": 12,
    "start_time": "2022-02-17T15:25:58.672Z"
   },
   {
    "duration": 16,
    "start_time": "2022-02-17T15:25:58.687Z"
   },
   {
    "duration": 170,
    "start_time": "2022-02-17T15:25:58.705Z"
   },
   {
    "duration": 7,
    "start_time": "2022-02-17T15:25:58.877Z"
   },
   {
    "duration": 8,
    "start_time": "2022-02-17T15:25:58.886Z"
   },
   {
    "duration": 11,
    "start_time": "2022-02-17T15:25:58.896Z"
   },
   {
    "duration": 92,
    "start_time": "2022-02-17T15:25:58.908Z"
   },
   {
    "duration": 7,
    "start_time": "2022-02-17T15:25:59.002Z"
   },
   {
    "duration": 11,
    "start_time": "2022-02-17T15:25:59.010Z"
   },
   {
    "duration": 30,
    "start_time": "2022-02-17T15:25:59.023Z"
   },
   {
    "duration": 118,
    "start_time": "2022-02-17T15:25:59.054Z"
   },
   {
    "duration": 359,
    "start_time": "2022-02-17T15:25:59.174Z"
   },
   {
    "duration": 2,
    "start_time": "2022-02-17T15:25:59.534Z"
   },
   {
    "duration": 15,
    "start_time": "2022-02-17T15:25:59.538Z"
   },
   {
    "duration": 35,
    "start_time": "2022-02-17T15:25:59.555Z"
   },
   {
    "duration": 5,
    "start_time": "2022-02-17T15:25:59.593Z"
   },
   {
    "duration": 8,
    "start_time": "2022-02-17T15:25:59.600Z"
   },
   {
    "duration": 66,
    "start_time": "2022-02-17T15:25:59.609Z"
   },
   {
    "duration": 9,
    "start_time": "2022-02-17T15:25:59.677Z"
   },
   {
    "duration": 8,
    "start_time": "2022-02-17T15:25:59.687Z"
   },
   {
    "duration": 8,
    "start_time": "2022-02-17T15:25:59.697Z"
   },
   {
    "duration": 65,
    "start_time": "2022-02-17T15:25:59.706Z"
   },
   {
    "duration": 37,
    "start_time": "2022-02-17T15:25:59.773Z"
   },
   {
    "duration": 38,
    "start_time": "2022-02-17T15:25:59.812Z"
   },
   {
    "duration": 25,
    "start_time": "2022-02-17T15:25:59.852Z"
   },
   {
    "duration": 6,
    "start_time": "2022-02-17T15:25:59.879Z"
   },
   {
    "duration": 30,
    "start_time": "2022-02-17T15:25:59.887Z"
   },
   {
    "duration": 52,
    "start_time": "2022-02-17T15:25:59.919Z"
   },
   {
    "duration": 12,
    "start_time": "2022-02-17T15:25:59.973Z"
   },
   {
    "duration": 33,
    "start_time": "2022-02-17T15:25:59.986Z"
   },
   {
    "duration": 28,
    "start_time": "2022-02-17T15:26:00.021Z"
   },
   {
    "duration": 12,
    "start_time": "2022-02-17T15:26:00.051Z"
   },
   {
    "duration": 9,
    "start_time": "2022-02-17T15:26:00.065Z"
   },
   {
    "duration": 123,
    "start_time": "2022-02-17T15:26:00.076Z"
   },
   {
    "duration": 704,
    "start_time": "2022-02-17T15:25:59.497Z"
   },
   {
    "duration": 700,
    "start_time": "2022-02-17T15:25:59.502Z"
   },
   {
    "duration": 693,
    "start_time": "2022-02-17T15:25:59.509Z"
   },
   {
    "duration": 688,
    "start_time": "2022-02-17T15:25:59.515Z"
   },
   {
    "duration": 683,
    "start_time": "2022-02-17T15:25:59.521Z"
   },
   {
    "duration": 678,
    "start_time": "2022-02-17T15:25:59.527Z"
   },
   {
    "duration": 673,
    "start_time": "2022-02-17T15:25:59.533Z"
   },
   {
    "duration": 666,
    "start_time": "2022-02-17T15:25:59.541Z"
   },
   {
    "duration": 659,
    "start_time": "2022-02-17T15:25:59.549Z"
   },
   {
    "duration": 651,
    "start_time": "2022-02-17T15:25:59.557Z"
   },
   {
    "duration": 643,
    "start_time": "2022-02-17T15:25:59.566Z"
   },
   {
    "duration": 599,
    "start_time": "2022-02-17T15:25:59.611Z"
   },
   {
    "duration": 590,
    "start_time": "2022-02-17T15:25:59.621Z"
   },
   {
    "duration": 581,
    "start_time": "2022-02-17T15:25:59.630Z"
   },
   {
    "duration": 115,
    "start_time": "2022-02-17T15:26:53.113Z"
   },
   {
    "duration": 111,
    "start_time": "2022-02-17T15:27:56.564Z"
   },
   {
    "duration": 134,
    "start_time": "2022-02-17T15:28:10.277Z"
   },
   {
    "duration": 117,
    "start_time": "2022-02-17T15:28:26.602Z"
   },
   {
    "duration": 5,
    "start_time": "2022-02-17T15:28:42.670Z"
   },
   {
    "duration": 115,
    "start_time": "2022-02-17T15:28:56.466Z"
   },
   {
    "duration": 5,
    "start_time": "2022-02-17T15:29:01.888Z"
   },
   {
    "duration": 125,
    "start_time": "2022-02-17T15:30:41.172Z"
   },
   {
    "duration": 110,
    "start_time": "2022-02-17T15:31:26.570Z"
   },
   {
    "duration": 5,
    "start_time": "2022-02-17T15:32:14.623Z"
   },
   {
    "duration": 5,
    "start_time": "2022-02-17T15:32:29.664Z"
   },
   {
    "duration": 136,
    "start_time": "2022-02-17T15:32:55.706Z"
   },
   {
    "duration": 124,
    "start_time": "2022-02-17T15:33:00.456Z"
   },
   {
    "duration": 139,
    "start_time": "2022-02-17T15:33:32.623Z"
   },
   {
    "duration": 118,
    "start_time": "2022-02-17T15:34:12.633Z"
   },
   {
    "duration": 4,
    "start_time": "2022-02-17T15:34:31.475Z"
   },
   {
    "duration": 126,
    "start_time": "2022-02-17T15:34:49.196Z"
   },
   {
    "duration": 119,
    "start_time": "2022-02-17T15:34:57.640Z"
   },
   {
    "duration": 237,
    "start_time": "2022-02-17T15:35:03.356Z"
   },
   {
    "duration": 814,
    "start_time": "2022-02-17T15:35:08.266Z"
   },
   {
    "duration": 310,
    "start_time": "2022-02-17T15:35:25.730Z"
   },
   {
    "duration": 257,
    "start_time": "2022-02-17T15:35:43.787Z"
   },
   {
    "duration": 5,
    "start_time": "2022-02-17T15:36:13.740Z"
   },
   {
    "duration": 1066,
    "start_time": "2022-02-17T15:36:21.593Z"
   },
   {
    "duration": 1214,
    "start_time": "2022-02-17T15:37:30.537Z"
   },
   {
    "duration": 410,
    "start_time": "2022-02-17T15:37:31.753Z"
   },
   {
    "duration": 16,
    "start_time": "2022-02-17T15:37:32.164Z"
   },
   {
    "duration": 9,
    "start_time": "2022-02-17T15:37:32.182Z"
   },
   {
    "duration": 11,
    "start_time": "2022-02-17T15:37:32.192Z"
   },
   {
    "duration": 17,
    "start_time": "2022-02-17T15:37:32.205Z"
   },
   {
    "duration": 6,
    "start_time": "2022-02-17T15:37:32.224Z"
   },
   {
    "duration": 10,
    "start_time": "2022-02-17T15:37:32.248Z"
   },
   {
    "duration": 16,
    "start_time": "2022-02-17T15:37:32.260Z"
   },
   {
    "duration": 156,
    "start_time": "2022-02-17T15:37:32.278Z"
   },
   {
    "duration": 12,
    "start_time": "2022-02-17T15:37:32.435Z"
   },
   {
    "duration": 9,
    "start_time": "2022-02-17T15:37:32.449Z"
   },
   {
    "duration": 15,
    "start_time": "2022-02-17T15:37:32.459Z"
   },
   {
    "duration": 80,
    "start_time": "2022-02-17T15:37:32.475Z"
   },
   {
    "duration": 9,
    "start_time": "2022-02-17T15:37:32.557Z"
   },
   {
    "duration": 7,
    "start_time": "2022-02-17T15:37:32.567Z"
   },
   {
    "duration": 16,
    "start_time": "2022-02-17T15:37:32.576Z"
   },
   {
    "duration": 130,
    "start_time": "2022-02-17T15:37:32.594Z"
   },
   {
    "duration": 324,
    "start_time": "2022-02-17T15:37:32.726Z"
   },
   {
    "duration": 3,
    "start_time": "2022-02-17T15:37:33.052Z"
   },
   {
    "duration": 15,
    "start_time": "2022-02-17T15:37:33.057Z"
   },
   {
    "duration": 28,
    "start_time": "2022-02-17T15:37:33.073Z"
   },
   {
    "duration": 5,
    "start_time": "2022-02-17T15:37:33.104Z"
   },
   {
    "duration": 7,
    "start_time": "2022-02-17T15:37:33.111Z"
   },
   {
    "duration": 68,
    "start_time": "2022-02-17T15:37:33.120Z"
   },
   {
    "duration": 9,
    "start_time": "2022-02-17T15:37:33.189Z"
   },
   {
    "duration": 8,
    "start_time": "2022-02-17T15:37:33.200Z"
   },
   {
    "duration": 8,
    "start_time": "2022-02-17T15:37:33.210Z"
   },
   {
    "duration": 65,
    "start_time": "2022-02-17T15:37:33.220Z"
   },
   {
    "duration": 38,
    "start_time": "2022-02-17T15:37:33.287Z"
   },
   {
    "duration": 42,
    "start_time": "2022-02-17T15:37:33.327Z"
   },
   {
    "duration": 23,
    "start_time": "2022-02-17T15:37:33.370Z"
   },
   {
    "duration": 6,
    "start_time": "2022-02-17T15:37:33.395Z"
   },
   {
    "duration": 50,
    "start_time": "2022-02-17T15:37:33.402Z"
   },
   {
    "duration": 37,
    "start_time": "2022-02-17T15:37:33.454Z"
   },
   {
    "duration": 12,
    "start_time": "2022-02-17T15:37:33.493Z"
   },
   {
    "duration": 56,
    "start_time": "2022-02-17T15:37:33.507Z"
   },
   {
    "duration": 6,
    "start_time": "2022-02-17T15:37:33.564Z"
   },
   {
    "duration": 9,
    "start_time": "2022-02-17T15:37:33.571Z"
   },
   {
    "duration": 10,
    "start_time": "2022-02-17T15:37:33.581Z"
   },
   {
    "duration": 4,
    "start_time": "2022-02-17T15:37:33.592Z"
   },
   {
    "duration": 1068,
    "start_time": "2022-02-17T15:37:33.598Z"
   },
   {
    "duration": 1072,
    "start_time": "2022-02-17T15:37:33.596Z"
   },
   {
    "duration": 1067,
    "start_time": "2022-02-17T15:37:33.602Z"
   },
   {
    "duration": 1062,
    "start_time": "2022-02-17T15:37:33.608Z"
   },
   {
    "duration": 1057,
    "start_time": "2022-02-17T15:37:33.614Z"
   },
   {
    "duration": 1052,
    "start_time": "2022-02-17T15:37:33.620Z"
   },
   {
    "duration": 1047,
    "start_time": "2022-02-17T15:37:33.626Z"
   },
   {
    "duration": 1042,
    "start_time": "2022-02-17T15:37:33.632Z"
   },
   {
    "duration": 1036,
    "start_time": "2022-02-17T15:37:33.639Z"
   },
   {
    "duration": 1020,
    "start_time": "2022-02-17T15:37:33.656Z"
   },
   {
    "duration": 1014,
    "start_time": "2022-02-17T15:37:33.663Z"
   },
   {
    "duration": 1008,
    "start_time": "2022-02-17T15:37:33.670Z"
   },
   {
    "duration": 1004,
    "start_time": "2022-02-17T15:37:33.675Z"
   },
   {
    "duration": 997,
    "start_time": "2022-02-17T15:37:33.683Z"
   },
   {
    "duration": 118,
    "start_time": "2022-02-17T15:42:56.530Z"
   },
   {
    "duration": 127,
    "start_time": "2022-02-17T15:43:11.743Z"
   },
   {
    "duration": 167,
    "start_time": "2022-02-17T15:43:47.228Z"
   },
   {
    "duration": 3,
    "start_time": "2022-02-17T15:50:56.517Z"
   },
   {
    "duration": 1028,
    "start_time": "2022-02-17T15:50:59.877Z"
   },
   {
    "duration": 9026,
    "start_time": "2022-02-17T15:58:44.273Z"
   },
   {
    "duration": 108,
    "start_time": "2022-02-17T15:59:01.336Z"
   },
   {
    "duration": 351,
    "start_time": "2022-02-17T15:59:29.128Z"
   },
   {
    "duration": 358,
    "start_time": "2022-02-17T15:59:41.324Z"
   },
   {
    "duration": 154,
    "start_time": "2022-02-17T15:59:53.272Z"
   },
   {
    "duration": 363,
    "start_time": "2022-02-17T16:00:12.863Z"
   },
   {
    "duration": 1153,
    "start_time": "2022-02-17T16:08:52.398Z"
   },
   {
    "duration": 371,
    "start_time": "2022-02-17T16:08:53.553Z"
   },
   {
    "duration": 12,
    "start_time": "2022-02-17T16:08:53.926Z"
   },
   {
    "duration": 10,
    "start_time": "2022-02-17T16:08:53.940Z"
   },
   {
    "duration": 14,
    "start_time": "2022-02-17T16:08:53.951Z"
   },
   {
    "duration": 23,
    "start_time": "2022-02-17T16:08:53.966Z"
   },
   {
    "duration": 7,
    "start_time": "2022-02-17T16:08:53.990Z"
   },
   {
    "duration": 11,
    "start_time": "2022-02-17T16:08:53.998Z"
   },
   {
    "duration": 19,
    "start_time": "2022-02-17T16:08:54.012Z"
   },
   {
    "duration": 158,
    "start_time": "2022-02-17T16:08:54.034Z"
   },
   {
    "duration": 6,
    "start_time": "2022-02-17T16:08:54.194Z"
   },
   {
    "duration": 9,
    "start_time": "2022-02-17T16:08:54.202Z"
   },
   {
    "duration": 11,
    "start_time": "2022-02-17T16:08:54.212Z"
   },
   {
    "duration": 77,
    "start_time": "2022-02-17T16:08:54.224Z"
   },
   {
    "duration": 7,
    "start_time": "2022-02-17T16:08:54.303Z"
   },
   {
    "duration": 14,
    "start_time": "2022-02-17T16:08:54.311Z"
   },
   {
    "duration": 27,
    "start_time": "2022-02-17T16:08:54.326Z"
   },
   {
    "duration": 111,
    "start_time": "2022-02-17T16:08:54.354Z"
   },
   {
    "duration": 303,
    "start_time": "2022-02-17T16:08:54.467Z"
   },
   {
    "duration": 2,
    "start_time": "2022-02-17T16:08:54.771Z"
   },
   {
    "duration": 12,
    "start_time": "2022-02-17T16:08:54.774Z"
   },
   {
    "duration": 29,
    "start_time": "2022-02-17T16:08:54.787Z"
   },
   {
    "duration": 5,
    "start_time": "2022-02-17T16:08:54.817Z"
   },
   {
    "duration": 24,
    "start_time": "2022-02-17T16:08:54.824Z"
   },
   {
    "duration": 41,
    "start_time": "2022-02-17T16:08:54.850Z"
   },
   {
    "duration": 9,
    "start_time": "2022-02-17T16:08:54.892Z"
   },
   {
    "duration": 9,
    "start_time": "2022-02-17T16:08:54.904Z"
   },
   {
    "duration": 7,
    "start_time": "2022-02-17T16:08:54.915Z"
   },
   {
    "duration": 30,
    "start_time": "2022-02-17T16:08:54.946Z"
   },
   {
    "duration": 45,
    "start_time": "2022-02-17T16:08:54.978Z"
   },
   {
    "duration": 42,
    "start_time": "2022-02-17T16:08:55.025Z"
   },
   {
    "duration": 22,
    "start_time": "2022-02-17T16:08:55.069Z"
   },
   {
    "duration": 5,
    "start_time": "2022-02-17T16:08:55.093Z"
   },
   {
    "duration": 26,
    "start_time": "2022-02-17T16:08:55.100Z"
   },
   {
    "duration": 47,
    "start_time": "2022-02-17T16:08:55.127Z"
   },
   {
    "duration": 21,
    "start_time": "2022-02-17T16:08:55.175Z"
   },
   {
    "duration": 32,
    "start_time": "2022-02-17T16:08:55.198Z"
   },
   {
    "duration": 17,
    "start_time": "2022-02-17T16:08:55.232Z"
   },
   {
    "duration": 10,
    "start_time": "2022-02-17T16:08:55.250Z"
   },
   {
    "duration": 9,
    "start_time": "2022-02-17T16:08:55.261Z"
   },
   {
    "duration": 124,
    "start_time": "2022-02-17T16:08:55.271Z"
   },
   {
    "duration": 946,
    "start_time": "2022-02-17T16:08:54.451Z"
   },
   {
    "duration": 936,
    "start_time": "2022-02-17T16:08:54.462Z"
   },
   {
    "duration": 930,
    "start_time": "2022-02-17T16:08:54.469Z"
   },
   {
    "duration": 924,
    "start_time": "2022-02-17T16:08:54.476Z"
   },
   {
    "duration": 919,
    "start_time": "2022-02-17T16:08:54.482Z"
   },
   {
    "duration": 912,
    "start_time": "2022-02-17T16:08:54.490Z"
   },
   {
    "duration": 904,
    "start_time": "2022-02-17T16:08:54.499Z"
   },
   {
    "duration": 897,
    "start_time": "2022-02-17T16:08:54.507Z"
   },
   {
    "duration": 889,
    "start_time": "2022-02-17T16:08:54.516Z"
   },
   {
    "duration": 881,
    "start_time": "2022-02-17T16:08:54.525Z"
   },
   {
    "duration": 876,
    "start_time": "2022-02-17T16:08:54.531Z"
   },
   {
    "duration": 871,
    "start_time": "2022-02-17T16:08:54.538Z"
   },
   {
    "duration": 854,
    "start_time": "2022-02-17T16:08:54.556Z"
   },
   {
    "duration": 847,
    "start_time": "2022-02-17T16:08:54.564Z"
   },
   {
    "duration": 1167,
    "start_time": "2022-02-17T16:09:41.635Z"
   },
   {
    "duration": 389,
    "start_time": "2022-02-17T16:09:42.804Z"
   },
   {
    "duration": 13,
    "start_time": "2022-02-17T16:09:43.195Z"
   },
   {
    "duration": 12,
    "start_time": "2022-02-17T16:09:43.210Z"
   },
   {
    "duration": 11,
    "start_time": "2022-02-17T16:09:43.224Z"
   },
   {
    "duration": 22,
    "start_time": "2022-02-17T16:09:43.236Z"
   },
   {
    "duration": 7,
    "start_time": "2022-02-17T16:09:43.260Z"
   },
   {
    "duration": 9,
    "start_time": "2022-02-17T16:09:43.269Z"
   },
   {
    "duration": 14,
    "start_time": "2022-02-17T16:09:43.282Z"
   },
   {
    "duration": 214,
    "start_time": "2022-02-17T16:09:43.298Z"
   },
   {
    "duration": 9,
    "start_time": "2022-02-17T16:09:43.514Z"
   },
   {
    "duration": 23,
    "start_time": "2022-02-17T16:09:43.525Z"
   },
   {
    "duration": 11,
    "start_time": "2022-02-17T16:09:43.550Z"
   },
   {
    "duration": 84,
    "start_time": "2022-02-17T16:09:43.562Z"
   },
   {
    "duration": 8,
    "start_time": "2022-02-17T16:09:43.648Z"
   },
   {
    "duration": 8,
    "start_time": "2022-02-17T16:09:43.658Z"
   },
   {
    "duration": 12,
    "start_time": "2022-02-17T16:09:43.668Z"
   },
   {
    "duration": 132,
    "start_time": "2022-02-17T16:09:43.681Z"
   },
   {
    "duration": 347,
    "start_time": "2022-02-17T16:09:43.815Z"
   },
   {
    "duration": 2,
    "start_time": "2022-02-17T16:09:44.164Z"
   },
   {
    "duration": 12,
    "start_time": "2022-02-17T16:09:44.168Z"
   },
   {
    "duration": 35,
    "start_time": "2022-02-17T16:09:44.181Z"
   },
   {
    "duration": 6,
    "start_time": "2022-02-17T16:09:44.218Z"
   },
   {
    "duration": 24,
    "start_time": "2022-02-17T16:09:44.225Z"
   },
   {
    "duration": 59,
    "start_time": "2022-02-17T16:09:44.251Z"
   },
   {
    "duration": 12,
    "start_time": "2022-02-17T16:09:44.312Z"
   },
   {
    "duration": 12,
    "start_time": "2022-02-17T16:09:44.345Z"
   },
   {
    "duration": 12,
    "start_time": "2022-02-17T16:09:44.360Z"
   },
   {
    "duration": 33,
    "start_time": "2022-02-17T16:09:44.374Z"
   },
   {
    "duration": 68,
    "start_time": "2022-02-17T16:09:44.409Z"
   },
   {
    "duration": 27,
    "start_time": "2022-02-17T16:09:44.478Z"
   },
   {
    "duration": 42,
    "start_time": "2022-02-17T16:09:44.507Z"
   },
   {
    "duration": 8,
    "start_time": "2022-02-17T16:09:44.550Z"
   },
   {
    "duration": 31,
    "start_time": "2022-02-17T16:09:44.559Z"
   },
   {
    "duration": 67,
    "start_time": "2022-02-17T16:09:44.592Z"
   },
   {
    "duration": 14,
    "start_time": "2022-02-17T16:09:44.660Z"
   },
   {
    "duration": 38,
    "start_time": "2022-02-17T16:09:44.676Z"
   },
   {
    "duration": 6,
    "start_time": "2022-02-17T16:09:44.716Z"
   },
   {
    "duration": 34,
    "start_time": "2022-02-17T16:09:44.724Z"
   },
   {
    "duration": 11,
    "start_time": "2022-02-17T16:09:44.759Z"
   },
   {
    "duration": 121,
    "start_time": "2022-02-17T16:09:44.771Z"
   },
   {
    "duration": 840,
    "start_time": "2022-02-17T16:09:44.054Z"
   },
   {
    "duration": 833,
    "start_time": "2022-02-17T16:09:44.062Z"
   },
   {
    "duration": 826,
    "start_time": "2022-02-17T16:09:44.070Z"
   },
   {
    "duration": 818,
    "start_time": "2022-02-17T16:09:44.079Z"
   },
   {
    "duration": 812,
    "start_time": "2022-02-17T16:09:44.086Z"
   },
   {
    "duration": 808,
    "start_time": "2022-02-17T16:09:44.092Z"
   },
   {
    "duration": 782,
    "start_time": "2022-02-17T16:09:44.119Z"
   },
   {
    "duration": 776,
    "start_time": "2022-02-17T16:09:44.126Z"
   },
   {
    "duration": 769,
    "start_time": "2022-02-17T16:09:44.134Z"
   },
   {
    "duration": 763,
    "start_time": "2022-02-17T16:09:44.141Z"
   },
   {
    "duration": 676,
    "start_time": "2022-02-17T16:09:44.229Z"
   },
   {
    "duration": 671,
    "start_time": "2022-02-17T16:09:44.236Z"
   },
   {
    "duration": 665,
    "start_time": "2022-02-17T16:09:44.243Z"
   },
   {
    "duration": 660,
    "start_time": "2022-02-17T16:09:44.249Z"
   },
   {
    "duration": 131,
    "start_time": "2022-02-17T16:10:31.315Z"
   },
   {
    "duration": 139,
    "start_time": "2022-02-17T16:11:05.066Z"
   },
   {
    "duration": 5,
    "start_time": "2022-02-17T16:11:45.346Z"
   },
   {
    "duration": 1044,
    "start_time": "2022-02-17T16:11:50.568Z"
   },
   {
    "duration": 5,
    "start_time": "2022-02-17T16:13:03.261Z"
   },
   {
    "duration": 3091,
    "start_time": "2022-02-17T16:13:06.544Z"
   },
   {
    "duration": 1102,
    "start_time": "2022-02-17T16:13:37.343Z"
   },
   {
    "duration": 367,
    "start_time": "2022-02-17T16:13:38.447Z"
   },
   {
    "duration": 12,
    "start_time": "2022-02-17T16:13:38.816Z"
   },
   {
    "duration": 9,
    "start_time": "2022-02-17T16:13:38.830Z"
   },
   {
    "duration": 11,
    "start_time": "2022-02-17T16:13:38.840Z"
   },
   {
    "duration": 19,
    "start_time": "2022-02-17T16:13:38.853Z"
   },
   {
    "duration": 7,
    "start_time": "2022-02-17T16:13:38.873Z"
   },
   {
    "duration": 12,
    "start_time": "2022-02-17T16:13:38.881Z"
   },
   {
    "duration": 15,
    "start_time": "2022-02-17T16:13:38.895Z"
   },
   {
    "duration": 160,
    "start_time": "2022-02-17T16:13:38.912Z"
   },
   {
    "duration": 6,
    "start_time": "2022-02-17T16:13:39.074Z"
   },
   {
    "duration": 7,
    "start_time": "2022-02-17T16:13:39.082Z"
   },
   {
    "duration": 22,
    "start_time": "2022-02-17T16:13:39.091Z"
   },
   {
    "duration": 85,
    "start_time": "2022-02-17T16:13:39.115Z"
   },
   {
    "duration": 8,
    "start_time": "2022-02-17T16:13:39.202Z"
   },
   {
    "duration": 9,
    "start_time": "2022-02-17T16:13:39.211Z"
   },
   {
    "duration": 28,
    "start_time": "2022-02-17T16:13:39.221Z"
   },
   {
    "duration": 108,
    "start_time": "2022-02-17T16:13:39.251Z"
   },
   {
    "duration": 308,
    "start_time": "2022-02-17T16:13:39.361Z"
   },
   {
    "duration": 2,
    "start_time": "2022-02-17T16:13:39.671Z"
   },
   {
    "duration": 18,
    "start_time": "2022-02-17T16:13:39.675Z"
   },
   {
    "duration": 38,
    "start_time": "2022-02-17T16:13:39.695Z"
   },
   {
    "duration": 5,
    "start_time": "2022-02-17T16:13:39.735Z"
   },
   {
    "duration": 10,
    "start_time": "2022-02-17T16:13:39.741Z"
   },
   {
    "duration": 43,
    "start_time": "2022-02-17T16:13:39.752Z"
   },
   {
    "duration": 10,
    "start_time": "2022-02-17T16:13:39.797Z"
   },
   {
    "duration": 8,
    "start_time": "2022-02-17T16:13:39.810Z"
   },
   {
    "duration": 28,
    "start_time": "2022-02-17T16:13:39.819Z"
   },
   {
    "duration": 31,
    "start_time": "2022-02-17T16:13:39.848Z"
   },
   {
    "duration": 38,
    "start_time": "2022-02-17T16:13:39.881Z"
   },
   {
    "duration": 41,
    "start_time": "2022-02-17T16:13:39.920Z"
   },
   {
    "duration": 23,
    "start_time": "2022-02-17T16:13:39.962Z"
   },
   {
    "duration": 6,
    "start_time": "2022-02-17T16:13:39.987Z"
   },
   {
    "duration": 30,
    "start_time": "2022-02-17T16:13:39.994Z"
   },
   {
    "duration": 32,
    "start_time": "2022-02-17T16:13:40.046Z"
   },
   {
    "duration": 21,
    "start_time": "2022-02-17T16:13:40.080Z"
   },
   {
    "duration": 31,
    "start_time": "2022-02-17T16:13:40.103Z"
   },
   {
    "duration": 12,
    "start_time": "2022-02-17T16:13:40.135Z"
   },
   {
    "duration": 9,
    "start_time": "2022-02-17T16:13:40.148Z"
   },
   {
    "duration": 9,
    "start_time": "2022-02-17T16:13:40.159Z"
   },
   {
    "duration": 5,
    "start_time": "2022-02-17T16:13:40.169Z"
   },
   {
    "duration": 3124,
    "start_time": "2022-02-17T16:13:40.175Z"
   },
   {
    "duration": 4,
    "start_time": "2022-02-17T16:13:43.301Z"
   },
   {
    "duration": 8,
    "start_time": "2022-02-17T16:13:43.306Z"
   },
   {
    "duration": 618,
    "start_time": "2022-02-17T16:13:43.315Z"
   },
   {
    "duration": 653,
    "start_time": "2022-02-17T16:13:43.935Z"
   },
   {
    "duration": 560,
    "start_time": "2022-02-17T16:13:44.589Z"
   },
   {
    "duration": 589,
    "start_time": "2022-02-17T16:13:45.150Z"
   },
   {
    "duration": 738,
    "start_time": "2022-02-17T16:13:45.745Z"
   },
   {
    "duration": 9,
    "start_time": "2022-02-17T16:13:46.485Z"
   },
   {
    "duration": 10,
    "start_time": "2022-02-17T16:13:46.496Z"
   },
   {
    "duration": 272,
    "start_time": "2022-02-17T16:13:46.507Z"
   },
   {
    "duration": 261,
    "start_time": "2022-02-17T16:13:46.781Z"
   },
   {
    "duration": 14,
    "start_time": "2022-02-17T16:13:47.046Z"
   },
   {
    "duration": 146,
    "start_time": "2022-02-17T16:13:47.061Z"
   },
   {
    "duration": 4,
    "start_time": "2022-02-17T16:30:02.728Z"
   },
   {
    "duration": 10666,
    "start_time": "2022-02-17T16:30:08.468Z"
   },
   {
    "duration": 1207,
    "start_time": "2022-02-17T16:31:22.267Z"
   },
   {
    "duration": 384,
    "start_time": "2022-02-17T16:31:23.476Z"
   },
   {
    "duration": 13,
    "start_time": "2022-02-17T16:31:23.862Z"
   },
   {
    "duration": 9,
    "start_time": "2022-02-17T16:31:23.877Z"
   },
   {
    "duration": 10,
    "start_time": "2022-02-17T16:31:23.887Z"
   },
   {
    "duration": 21,
    "start_time": "2022-02-17T16:31:23.899Z"
   },
   {
    "duration": 8,
    "start_time": "2022-02-17T16:31:23.922Z"
   },
   {
    "duration": 8,
    "start_time": "2022-02-17T16:31:23.946Z"
   },
   {
    "duration": 16,
    "start_time": "2022-02-17T16:31:23.957Z"
   },
   {
    "duration": 179,
    "start_time": "2022-02-17T16:31:23.975Z"
   },
   {
    "duration": 7,
    "start_time": "2022-02-17T16:31:24.155Z"
   },
   {
    "duration": 8,
    "start_time": "2022-02-17T16:31:24.163Z"
   },
   {
    "duration": 10,
    "start_time": "2022-02-17T16:31:24.173Z"
   },
   {
    "duration": 86,
    "start_time": "2022-02-17T16:31:24.185Z"
   },
   {
    "duration": 7,
    "start_time": "2022-02-17T16:31:24.273Z"
   },
   {
    "duration": 10,
    "start_time": "2022-02-17T16:31:24.281Z"
   },
   {
    "duration": 11,
    "start_time": "2022-02-17T16:31:24.292Z"
   },
   {
    "duration": 125,
    "start_time": "2022-02-17T16:31:24.305Z"
   },
   {
    "duration": 322,
    "start_time": "2022-02-17T16:31:24.432Z"
   },
   {
    "duration": 2,
    "start_time": "2022-02-17T16:31:24.756Z"
   },
   {
    "duration": 12,
    "start_time": "2022-02-17T16:31:24.759Z"
   },
   {
    "duration": 27,
    "start_time": "2022-02-17T16:31:24.772Z"
   },
   {
    "duration": 6,
    "start_time": "2022-02-17T16:31:24.801Z"
   },
   {
    "duration": 12,
    "start_time": "2022-02-17T16:31:24.808Z"
   },
   {
    "duration": 93,
    "start_time": "2022-02-17T16:31:24.822Z"
   },
   {
    "duration": 10,
    "start_time": "2022-02-17T16:31:24.918Z"
   },
   {
    "duration": 17,
    "start_time": "2022-02-17T16:31:24.932Z"
   },
   {
    "duration": 15,
    "start_time": "2022-02-17T16:31:24.951Z"
   },
   {
    "duration": 33,
    "start_time": "2022-02-17T16:31:24.967Z"
   },
   {
    "duration": 62,
    "start_time": "2022-02-17T16:31:25.002Z"
   },
   {
    "duration": 24,
    "start_time": "2022-02-17T16:31:25.066Z"
   },
   {
    "duration": 23,
    "start_time": "2022-02-17T16:31:25.092Z"
   },
   {
    "duration": 8,
    "start_time": "2022-02-17T16:31:25.117Z"
   },
   {
    "duration": 45,
    "start_time": "2022-02-17T16:31:25.126Z"
   },
   {
    "duration": 31,
    "start_time": "2022-02-17T16:31:25.172Z"
   },
   {
    "duration": 11,
    "start_time": "2022-02-17T16:31:25.205Z"
   },
   {
    "duration": 48,
    "start_time": "2022-02-17T16:31:25.218Z"
   },
   {
    "duration": 5,
    "start_time": "2022-02-17T16:31:25.268Z"
   },
   {
    "duration": 8,
    "start_time": "2022-02-17T16:31:25.275Z"
   },
   {
    "duration": 10,
    "start_time": "2022-02-17T16:31:25.284Z"
   },
   {
    "duration": 2,
    "start_time": "2022-02-17T16:31:25.296Z"
   },
   {
    "duration": 10,
    "start_time": "2022-02-17T16:31:25.299Z"
   },
   {
    "duration": 10544,
    "start_time": "2022-02-17T16:31:25.310Z"
   },
   {
    "duration": 1057,
    "start_time": "2022-02-17T16:31:34.800Z"
   },
   {
    "duration": 1044,
    "start_time": "2022-02-17T16:31:34.814Z"
   },
   {
    "duration": 1034,
    "start_time": "2022-02-17T16:31:34.825Z"
   },
   {
    "duration": 1026,
    "start_time": "2022-02-17T16:31:34.834Z"
   },
   {
    "duration": 1019,
    "start_time": "2022-02-17T16:31:34.843Z"
   },
   {
    "duration": 1012,
    "start_time": "2022-02-17T16:31:34.851Z"
   },
   {
    "duration": 1005,
    "start_time": "2022-02-17T16:31:34.859Z"
   },
   {
    "duration": 981,
    "start_time": "2022-02-17T16:31:34.885Z"
   },
   {
    "duration": 972,
    "start_time": "2022-02-17T16:31:34.895Z"
   },
   {
    "duration": 962,
    "start_time": "2022-02-17T16:31:34.906Z"
   },
   {
    "duration": 955,
    "start_time": "2022-02-17T16:31:34.914Z"
   },
   {
    "duration": 949,
    "start_time": "2022-02-17T16:31:34.922Z"
   },
   {
    "duration": 940,
    "start_time": "2022-02-17T16:31:34.932Z"
   },
   {
    "duration": 4,
    "start_time": "2022-02-17T16:33:25.516Z"
   },
   {
    "duration": 9693,
    "start_time": "2022-02-17T16:33:39.679Z"
   },
   {
    "duration": 3,
    "start_time": "2022-02-17T16:37:27.514Z"
   },
   {
    "duration": 726,
    "start_time": "2022-02-17T16:37:36.643Z"
   },
   {
    "duration": 4,
    "start_time": "2022-02-17T16:38:12.618Z"
   },
   {
    "duration": 231,
    "start_time": "2022-02-17T16:38:30.830Z"
   },
   {
    "duration": 1131,
    "start_time": "2022-02-17T16:39:08.405Z"
   },
   {
    "duration": 368,
    "start_time": "2022-02-17T16:39:09.537Z"
   },
   {
    "duration": 13,
    "start_time": "2022-02-17T16:39:09.906Z"
   },
   {
    "duration": 11,
    "start_time": "2022-02-17T16:39:09.920Z"
   },
   {
    "duration": 11,
    "start_time": "2022-02-17T16:39:09.932Z"
   },
   {
    "duration": 22,
    "start_time": "2022-02-17T16:39:09.944Z"
   },
   {
    "duration": 7,
    "start_time": "2022-02-17T16:39:09.967Z"
   },
   {
    "duration": 8,
    "start_time": "2022-02-17T16:39:09.976Z"
   },
   {
    "duration": 13,
    "start_time": "2022-02-17T16:39:09.985Z"
   },
   {
    "duration": 152,
    "start_time": "2022-02-17T16:39:09.999Z"
   },
   {
    "duration": 6,
    "start_time": "2022-02-17T16:39:10.153Z"
   },
   {
    "duration": 9,
    "start_time": "2022-02-17T16:39:10.160Z"
   },
   {
    "duration": 15,
    "start_time": "2022-02-17T16:39:10.171Z"
   },
   {
    "duration": 86,
    "start_time": "2022-02-17T16:39:10.187Z"
   },
   {
    "duration": 7,
    "start_time": "2022-02-17T16:39:10.274Z"
   },
   {
    "duration": 8,
    "start_time": "2022-02-17T16:39:10.283Z"
   },
   {
    "duration": 12,
    "start_time": "2022-02-17T16:39:10.293Z"
   },
   {
    "duration": 118,
    "start_time": "2022-02-17T16:39:10.306Z"
   },
   {
    "duration": 312,
    "start_time": "2022-02-17T16:39:10.426Z"
   },
   {
    "duration": 6,
    "start_time": "2022-02-17T16:39:10.740Z"
   },
   {
    "duration": 10,
    "start_time": "2022-02-17T16:39:10.747Z"
   },
   {
    "duration": 27,
    "start_time": "2022-02-17T16:39:10.758Z"
   },
   {
    "duration": 5,
    "start_time": "2022-02-17T16:39:10.788Z"
   },
   {
    "duration": 8,
    "start_time": "2022-02-17T16:39:10.796Z"
   },
   {
    "duration": 64,
    "start_time": "2022-02-17T16:39:10.806Z"
   },
   {
    "duration": 10,
    "start_time": "2022-02-17T16:39:10.872Z"
   },
   {
    "duration": 10,
    "start_time": "2022-02-17T16:39:10.883Z"
   },
   {
    "duration": 9,
    "start_time": "2022-02-17T16:39:10.894Z"
   },
   {
    "duration": 61,
    "start_time": "2022-02-17T16:39:10.905Z"
   },
   {
    "duration": 39,
    "start_time": "2022-02-17T16:39:10.968Z"
   },
   {
    "duration": 38,
    "start_time": "2022-02-17T16:39:11.009Z"
   },
   {
    "duration": 25,
    "start_time": "2022-02-17T16:39:11.049Z"
   },
   {
    "duration": 7,
    "start_time": "2022-02-17T16:39:11.076Z"
   },
   {
    "duration": 27,
    "start_time": "2022-02-17T16:39:11.085Z"
   },
   {
    "duration": 57,
    "start_time": "2022-02-17T16:39:11.113Z"
   },
   {
    "duration": 12,
    "start_time": "2022-02-17T16:39:11.171Z"
   },
   {
    "duration": 33,
    "start_time": "2022-02-17T16:39:11.185Z"
   },
   {
    "duration": 5,
    "start_time": "2022-02-17T16:39:11.219Z"
   },
   {
    "duration": 8,
    "start_time": "2022-02-17T16:39:11.246Z"
   },
   {
    "duration": 10,
    "start_time": "2022-02-17T16:39:11.256Z"
   },
   {
    "duration": 2,
    "start_time": "2022-02-17T16:39:11.268Z"
   },
   {
    "duration": 10,
    "start_time": "2022-02-17T16:39:11.271Z"
   },
   {
    "duration": 221,
    "start_time": "2022-02-17T16:39:11.282Z"
   },
   {
    "duration": 4,
    "start_time": "2022-02-17T16:39:11.504Z"
   },
   {
    "duration": 8,
    "start_time": "2022-02-17T16:39:11.510Z"
   },
   {
    "duration": 613,
    "start_time": "2022-02-17T16:39:11.519Z"
   },
   {
    "duration": 665,
    "start_time": "2022-02-17T16:39:12.134Z"
   },
   {
    "duration": 592,
    "start_time": "2022-02-17T16:39:12.801Z"
   },
   {
    "duration": 611,
    "start_time": "2022-02-17T16:39:13.395Z"
   },
   {
    "duration": 651,
    "start_time": "2022-02-17T16:39:14.007Z"
   },
   {
    "duration": 8,
    "start_time": "2022-02-17T16:39:14.659Z"
   },
   {
    "duration": 434,
    "start_time": "2022-02-17T16:39:14.669Z"
   },
   {
    "duration": 1208,
    "start_time": "2022-02-17T16:39:13.897Z"
   },
   {
    "duration": 1202,
    "start_time": "2022-02-17T16:39:13.904Z"
   },
   {
    "duration": 1197,
    "start_time": "2022-02-17T16:39:13.911Z"
   },
   {
    "duration": 1192,
    "start_time": "2022-02-17T16:39:13.917Z"
   },
   {
    "duration": 10,
    "start_time": "2022-02-17T16:39:48.974Z"
   },
   {
    "duration": 11,
    "start_time": "2022-02-17T16:39:55.954Z"
   },
   {
    "duration": 710,
    "start_time": "2022-02-17T16:41:29.904Z"
   },
   {
    "duration": 1142,
    "start_time": "2022-02-17T16:41:44.394Z"
   },
   {
    "duration": 364,
    "start_time": "2022-02-17T16:41:45.538Z"
   },
   {
    "duration": 13,
    "start_time": "2022-02-17T16:41:45.904Z"
   },
   {
    "duration": 11,
    "start_time": "2022-02-17T16:41:45.919Z"
   },
   {
    "duration": 16,
    "start_time": "2022-02-17T16:41:45.932Z"
   },
   {
    "duration": 19,
    "start_time": "2022-02-17T16:41:45.950Z"
   },
   {
    "duration": 7,
    "start_time": "2022-02-17T16:41:45.970Z"
   },
   {
    "duration": 8,
    "start_time": "2022-02-17T16:41:45.979Z"
   },
   {
    "duration": 11,
    "start_time": "2022-02-17T16:41:45.989Z"
   },
   {
    "duration": 158,
    "start_time": "2022-02-17T16:41:46.002Z"
   },
   {
    "duration": 6,
    "start_time": "2022-02-17T16:41:46.162Z"
   },
   {
    "duration": 9,
    "start_time": "2022-02-17T16:41:46.169Z"
   },
   {
    "duration": 10,
    "start_time": "2022-02-17T16:41:46.179Z"
   },
   {
    "duration": 80,
    "start_time": "2022-02-17T16:41:46.190Z"
   },
   {
    "duration": 7,
    "start_time": "2022-02-17T16:41:46.272Z"
   },
   {
    "duration": 9,
    "start_time": "2022-02-17T16:41:46.281Z"
   },
   {
    "duration": 11,
    "start_time": "2022-02-17T16:41:46.292Z"
   },
   {
    "duration": 122,
    "start_time": "2022-02-17T16:41:46.305Z"
   },
   {
    "duration": 296,
    "start_time": "2022-02-17T16:41:46.428Z"
   },
   {
    "duration": 2,
    "start_time": "2022-02-17T16:41:46.725Z"
   },
   {
    "duration": 18,
    "start_time": "2022-02-17T16:41:46.729Z"
   },
   {
    "duration": 29,
    "start_time": "2022-02-17T16:41:46.749Z"
   },
   {
    "duration": 6,
    "start_time": "2022-02-17T16:41:46.780Z"
   },
   {
    "duration": 10,
    "start_time": "2022-02-17T16:41:46.787Z"
   },
   {
    "duration": 56,
    "start_time": "2022-02-17T16:41:46.798Z"
   },
   {
    "duration": 9,
    "start_time": "2022-02-17T16:41:46.855Z"
   },
   {
    "duration": 9,
    "start_time": "2022-02-17T16:41:46.867Z"
   },
   {
    "duration": 9,
    "start_time": "2022-02-17T16:41:46.878Z"
   },
   {
    "duration": 31,
    "start_time": "2022-02-17T16:41:46.888Z"
   },
   {
    "duration": 64,
    "start_time": "2022-02-17T16:41:46.920Z"
   },
   {
    "duration": 25,
    "start_time": "2022-02-17T16:41:46.986Z"
   },
   {
    "duration": 48,
    "start_time": "2022-02-17T16:41:47.013Z"
   },
   {
    "duration": 7,
    "start_time": "2022-02-17T16:41:47.063Z"
   },
   {
    "duration": 27,
    "start_time": "2022-02-17T16:41:47.072Z"
   },
   {
    "duration": 46,
    "start_time": "2022-02-17T16:41:47.101Z"
   },
   {
    "duration": 12,
    "start_time": "2022-02-17T16:41:47.149Z"
   },
   {
    "duration": 32,
    "start_time": "2022-02-17T16:41:47.163Z"
   },
   {
    "duration": 6,
    "start_time": "2022-02-17T16:41:47.197Z"
   },
   {
    "duration": 9,
    "start_time": "2022-02-17T16:41:47.205Z"
   },
   {
    "duration": 37,
    "start_time": "2022-02-17T16:41:47.216Z"
   },
   {
    "duration": 2,
    "start_time": "2022-02-17T16:41:47.255Z"
   },
   {
    "duration": 9,
    "start_time": "2022-02-17T16:41:47.258Z"
   },
   {
    "duration": 226,
    "start_time": "2022-02-17T16:41:47.268Z"
   },
   {
    "duration": 4,
    "start_time": "2022-02-17T16:41:47.495Z"
   },
   {
    "duration": 8,
    "start_time": "2022-02-17T16:41:47.501Z"
   },
   {
    "duration": 611,
    "start_time": "2022-02-17T16:41:47.510Z"
   },
   {
    "duration": 674,
    "start_time": "2022-02-17T16:41:48.123Z"
   },
   {
    "duration": 695,
    "start_time": "2022-02-17T16:41:48.799Z"
   },
   {
    "duration": 631,
    "start_time": "2022-02-17T16:41:49.495Z"
   },
   {
    "duration": 667,
    "start_time": "2022-02-17T16:41:50.127Z"
   },
   {
    "duration": 10,
    "start_time": "2022-02-17T16:41:50.795Z"
   },
   {
    "duration": 11,
    "start_time": "2022-02-17T16:41:50.806Z"
   },
   {
    "duration": 350,
    "start_time": "2022-02-17T16:41:50.819Z"
   },
   {
    "duration": 292,
    "start_time": "2022-02-17T16:41:51.172Z"
   },
   {
    "duration": 13,
    "start_time": "2022-02-17T16:41:51.466Z"
   },
   {
    "duration": 138,
    "start_time": "2022-02-17T16:41:51.481Z"
   },
   {
    "duration": 620,
    "start_time": "2022-02-17T16:42:49.379Z"
   },
   {
    "duration": 219,
    "start_time": "2022-02-17T16:43:57.151Z"
   },
   {
    "duration": 112,
    "start_time": "2022-02-17T16:44:16.306Z"
   },
   {
    "duration": 4,
    "start_time": "2022-02-17T16:44:26.149Z"
   },
   {
    "duration": 317,
    "start_time": "2022-02-17T16:44:31.818Z"
   },
   {
    "duration": 3,
    "start_time": "2022-02-17T16:46:33.853Z"
   },
   {
    "duration": 9758,
    "start_time": "2022-02-17T16:46:39.169Z"
   },
   {
    "duration": 3,
    "start_time": "2022-02-17T16:50:18.755Z"
   },
   {
    "duration": 12091,
    "start_time": "2022-02-17T16:50:24.346Z"
   },
   {
    "duration": 3,
    "start_time": "2022-02-17T16:53:51.693Z"
   },
   {
    "duration": 10960,
    "start_time": "2022-02-17T16:54:03.078Z"
   },
   {
    "duration": 4,
    "start_time": "2022-02-17T16:56:07.929Z"
   },
   {
    "duration": 700,
    "start_time": "2022-02-17T16:56:22.630Z"
   },
   {
    "duration": 4,
    "start_time": "2022-02-17T16:56:48.094Z"
   },
   {
    "duration": 10352,
    "start_time": "2022-02-17T16:56:52.348Z"
   },
   {
    "duration": 3,
    "start_time": "2022-02-17T17:00:46.403Z"
   },
   {
    "duration": 214,
    "start_time": "2022-02-17T17:00:51.036Z"
   },
   {
    "duration": 4,
    "start_time": "2022-02-17T17:12:08.688Z"
   },
   {
    "duration": 9963,
    "start_time": "2022-02-17T17:12:28.198Z"
   },
   {
    "duration": 4,
    "start_time": "2022-02-17T17:13:34.521Z"
   },
   {
    "duration": 10267,
    "start_time": "2022-02-17T17:13:45.863Z"
   },
   {
    "duration": 4,
    "start_time": "2022-02-17T17:14:55.946Z"
   },
   {
    "duration": 778,
    "start_time": "2022-02-17T17:14:59.847Z"
   },
   {
    "duration": 138,
    "start_time": "2022-02-17T17:15:45.526Z"
   },
   {
    "duration": 120,
    "start_time": "2022-02-17T17:15:49.936Z"
   },
   {
    "duration": 109,
    "start_time": "2022-02-17T17:16:27.160Z"
   },
   {
    "duration": 113,
    "start_time": "2022-02-17T17:16:56.579Z"
   },
   {
    "duration": 110,
    "start_time": "2022-02-17T17:17:19.882Z"
   },
   {
    "duration": 117,
    "start_time": "2022-02-17T17:17:38.034Z"
   },
   {
    "duration": 3,
    "start_time": "2022-02-17T17:18:06.283Z"
   },
   {
    "duration": 755,
    "start_time": "2022-02-17T17:18:11.064Z"
   },
   {
    "duration": 3,
    "start_time": "2022-02-17T17:20:37.698Z"
   },
   {
    "duration": 276,
    "start_time": "2022-02-17T17:20:42.399Z"
   },
   {
    "duration": 4,
    "start_time": "2022-02-17T17:21:37.978Z"
   },
   {
    "duration": 9951,
    "start_time": "2022-02-17T17:21:42.040Z"
   },
   {
    "duration": 4,
    "start_time": "2022-02-17T17:22:55.269Z"
   },
   {
    "duration": 215,
    "start_time": "2022-02-17T17:23:02.749Z"
   },
   {
    "duration": 1165,
    "start_time": "2022-02-17T17:23:41.718Z"
   },
   {
    "duration": 422,
    "start_time": "2022-02-17T17:23:42.885Z"
   },
   {
    "duration": 13,
    "start_time": "2022-02-17T17:23:43.309Z"
   },
   {
    "duration": 9,
    "start_time": "2022-02-17T17:23:43.324Z"
   },
   {
    "duration": 11,
    "start_time": "2022-02-17T17:23:43.335Z"
   },
   {
    "duration": 19,
    "start_time": "2022-02-17T17:23:43.348Z"
   },
   {
    "duration": 7,
    "start_time": "2022-02-17T17:23:43.369Z"
   },
   {
    "duration": 16,
    "start_time": "2022-02-17T17:23:43.379Z"
   },
   {
    "duration": 19,
    "start_time": "2022-02-17T17:23:43.397Z"
   },
   {
    "duration": 175,
    "start_time": "2022-02-17T17:23:43.417Z"
   },
   {
    "duration": 6,
    "start_time": "2022-02-17T17:23:43.594Z"
   },
   {
    "duration": 8,
    "start_time": "2022-02-17T17:23:43.602Z"
   },
   {
    "duration": 11,
    "start_time": "2022-02-17T17:23:43.612Z"
   },
   {
    "duration": 92,
    "start_time": "2022-02-17T17:23:43.625Z"
   },
   {
    "duration": 8,
    "start_time": "2022-02-17T17:23:43.719Z"
   },
   {
    "duration": 24,
    "start_time": "2022-02-17T17:23:43.729Z"
   },
   {
    "duration": 14,
    "start_time": "2022-02-17T17:23:43.754Z"
   },
   {
    "duration": 130,
    "start_time": "2022-02-17T17:23:43.770Z"
   },
   {
    "duration": 350,
    "start_time": "2022-02-17T17:23:43.902Z"
   },
   {
    "duration": 2,
    "start_time": "2022-02-17T17:23:44.254Z"
   },
   {
    "duration": 11,
    "start_time": "2022-02-17T17:23:44.258Z"
   },
   {
    "duration": 31,
    "start_time": "2022-02-17T17:23:44.271Z"
   },
   {
    "duration": 6,
    "start_time": "2022-02-17T17:23:44.305Z"
   },
   {
    "duration": 34,
    "start_time": "2022-02-17T17:23:44.313Z"
   },
   {
    "duration": 50,
    "start_time": "2022-02-17T17:23:44.348Z"
   },
   {
    "duration": 9,
    "start_time": "2022-02-17T17:23:44.400Z"
   },
   {
    "duration": 9,
    "start_time": "2022-02-17T17:23:44.411Z"
   },
   {
    "duration": 30,
    "start_time": "2022-02-17T17:23:44.422Z"
   },
   {
    "duration": 37,
    "start_time": "2022-02-17T17:23:44.454Z"
   },
   {
    "duration": 65,
    "start_time": "2022-02-17T17:23:44.493Z"
   },
   {
    "duration": 26,
    "start_time": "2022-02-17T17:23:44.559Z"
   },
   {
    "duration": 26,
    "start_time": "2022-02-17T17:23:44.587Z"
   },
   {
    "duration": 6,
    "start_time": "2022-02-17T17:23:44.615Z"
   },
   {
    "duration": 47,
    "start_time": "2022-02-17T17:23:44.623Z"
   },
   {
    "duration": 32,
    "start_time": "2022-02-17T17:23:44.672Z"
   },
   {
    "duration": 13,
    "start_time": "2022-02-17T17:23:44.706Z"
   },
   {
    "duration": 58,
    "start_time": "2022-02-17T17:23:44.721Z"
   },
   {
    "duration": 7,
    "start_time": "2022-02-17T17:23:44.781Z"
   },
   {
    "duration": 10,
    "start_time": "2022-02-17T17:23:44.790Z"
   },
   {
    "duration": 11,
    "start_time": "2022-02-17T17:23:44.802Z"
   },
   {
    "duration": 33,
    "start_time": "2022-02-17T17:23:44.815Z"
   },
   {
    "duration": 246,
    "start_time": "2022-02-17T17:23:44.849Z"
   },
   {
    "duration": 5,
    "start_time": "2022-02-17T17:23:45.096Z"
   },
   {
    "duration": 7,
    "start_time": "2022-02-17T17:23:45.103Z"
   },
   {
    "duration": 666,
    "start_time": "2022-02-17T17:23:45.111Z"
   },
   {
    "duration": 696,
    "start_time": "2022-02-17T17:23:45.779Z"
   },
   {
    "duration": 605,
    "start_time": "2022-02-17T17:23:46.476Z"
   },
   {
    "duration": 609,
    "start_time": "2022-02-17T17:23:47.083Z"
   },
   {
    "duration": 633,
    "start_time": "2022-02-17T17:23:47.694Z"
   },
   {
    "duration": 17,
    "start_time": "2022-02-17T17:23:48.329Z"
   },
   {
    "duration": 7,
    "start_time": "2022-02-17T17:23:48.348Z"
   },
   {
    "duration": 355,
    "start_time": "2022-02-17T17:23:48.357Z"
   },
   {
    "duration": 263,
    "start_time": "2022-02-17T17:23:48.714Z"
   },
   {
    "duration": 14,
    "start_time": "2022-02-17T17:23:48.979Z"
   },
   {
    "duration": 140,
    "start_time": "2022-02-17T17:23:48.995Z"
   },
   {
    "duration": 3,
    "start_time": "2022-02-17T17:24:41.988Z"
   },
   {
    "duration": 10669,
    "start_time": "2022-02-17T17:24:46.388Z"
   },
   {
    "duration": 5,
    "start_time": "2022-02-17T17:25:58.652Z"
   },
   {
    "duration": 829,
    "start_time": "2022-02-17T17:26:03.312Z"
   },
   {
    "duration": 112,
    "start_time": "2022-02-17T17:27:12.501Z"
   },
   {
    "duration": 4,
    "start_time": "2022-02-17T17:27:22.095Z"
   },
   {
    "duration": 10190,
    "start_time": "2022-02-17T17:27:27.428Z"
   },
   {
    "duration": 4,
    "start_time": "2022-02-17T17:27:40.127Z"
   },
   {
    "duration": 279,
    "start_time": "2022-02-17T17:27:43.427Z"
   },
   {
    "duration": 1161,
    "start_time": "2022-02-17T17:29:39.987Z"
   },
   {
    "duration": 381,
    "start_time": "2022-02-17T17:29:41.150Z"
   },
   {
    "duration": 13,
    "start_time": "2022-02-17T17:29:41.532Z"
   },
   {
    "duration": 11,
    "start_time": "2022-02-17T17:29:41.546Z"
   },
   {
    "duration": 13,
    "start_time": "2022-02-17T17:29:41.558Z"
   },
   {
    "duration": 19,
    "start_time": "2022-02-17T17:29:41.572Z"
   },
   {
    "duration": 7,
    "start_time": "2022-02-17T17:29:41.592Z"
   },
   {
    "duration": 7,
    "start_time": "2022-02-17T17:29:41.601Z"
   },
   {
    "duration": 35,
    "start_time": "2022-02-17T17:29:41.611Z"
   },
   {
    "duration": 143,
    "start_time": "2022-02-17T17:29:41.648Z"
   },
   {
    "duration": 6,
    "start_time": "2022-02-17T17:29:41.793Z"
   },
   {
    "duration": 9,
    "start_time": "2022-02-17T17:29:41.800Z"
   },
   {
    "duration": 10,
    "start_time": "2022-02-17T17:29:41.810Z"
   },
   {
    "duration": 81,
    "start_time": "2022-02-17T17:29:41.821Z"
   },
   {
    "duration": 8,
    "start_time": "2022-02-17T17:29:41.903Z"
   },
   {
    "duration": 10,
    "start_time": "2022-02-17T17:29:41.912Z"
   },
   {
    "duration": 23,
    "start_time": "2022-02-17T17:29:41.923Z"
   },
   {
    "duration": 110,
    "start_time": "2022-02-17T17:29:41.948Z"
   },
   {
    "duration": 305,
    "start_time": "2022-02-17T17:29:42.059Z"
   },
   {
    "duration": 2,
    "start_time": "2022-02-17T17:29:42.366Z"
   },
   {
    "duration": 11,
    "start_time": "2022-02-17T17:29:42.370Z"
   },
   {
    "duration": 29,
    "start_time": "2022-02-17T17:29:42.382Z"
   },
   {
    "duration": 6,
    "start_time": "2022-02-17T17:29:42.412Z"
   },
   {
    "duration": 30,
    "start_time": "2022-02-17T17:29:42.419Z"
   },
   {
    "duration": 47,
    "start_time": "2022-02-17T17:29:42.451Z"
   },
   {
    "duration": 10,
    "start_time": "2022-02-17T17:29:42.499Z"
   },
   {
    "duration": 8,
    "start_time": "2022-02-17T17:29:42.513Z"
   },
   {
    "duration": 28,
    "start_time": "2022-02-17T17:29:42.524Z"
   },
   {
    "duration": 31,
    "start_time": "2022-02-17T17:29:42.554Z"
   },
   {
    "duration": 39,
    "start_time": "2022-02-17T17:29:42.586Z"
   },
   {
    "duration": 41,
    "start_time": "2022-02-17T17:29:42.626Z"
   },
   {
    "duration": 23,
    "start_time": "2022-02-17T17:29:42.668Z"
   },
   {
    "duration": 6,
    "start_time": "2022-02-17T17:29:42.693Z"
   },
   {
    "duration": 46,
    "start_time": "2022-02-17T17:29:42.701Z"
   },
   {
    "duration": 30,
    "start_time": "2022-02-17T17:29:42.749Z"
   },
   {
    "duration": 12,
    "start_time": "2022-02-17T17:29:42.781Z"
   },
   {
    "duration": 53,
    "start_time": "2022-02-17T17:29:42.795Z"
   },
   {
    "duration": 6,
    "start_time": "2022-02-17T17:29:42.849Z"
   },
   {
    "duration": 9,
    "start_time": "2022-02-17T17:29:42.856Z"
   },
   {
    "duration": 10,
    "start_time": "2022-02-17T17:29:42.867Z"
   },
   {
    "duration": 3,
    "start_time": "2022-02-17T17:29:42.878Z"
   },
   {
    "duration": 224,
    "start_time": "2022-02-17T17:29:42.883Z"
   },
   {
    "duration": 4,
    "start_time": "2022-02-17T17:29:43.109Z"
   },
   {
    "duration": 8,
    "start_time": "2022-02-17T17:29:43.115Z"
   },
   {
    "duration": 621,
    "start_time": "2022-02-17T17:29:43.125Z"
   },
   {
    "duration": 668,
    "start_time": "2022-02-17T17:29:43.747Z"
   },
   {
    "duration": 574,
    "start_time": "2022-02-17T17:29:44.417Z"
   },
   {
    "duration": 604,
    "start_time": "2022-02-17T17:29:44.993Z"
   },
   {
    "duration": 647,
    "start_time": "2022-02-17T17:29:45.599Z"
   },
   {
    "duration": 9,
    "start_time": "2022-02-17T17:29:46.247Z"
   },
   {
    "duration": 14,
    "start_time": "2022-02-17T17:29:46.257Z"
   },
   {
    "duration": 351,
    "start_time": "2022-02-17T17:29:46.272Z"
   },
   {
    "duration": 267,
    "start_time": "2022-02-17T17:29:46.625Z"
   },
   {
    "duration": 14,
    "start_time": "2022-02-17T17:29:46.894Z"
   },
   {
    "duration": 143,
    "start_time": "2022-02-17T17:29:46.910Z"
   },
   {
    "duration": 4,
    "start_time": "2022-02-17T17:33:39.640Z"
   },
   {
    "duration": 249,
    "start_time": "2022-02-17T17:33:43.462Z"
   },
   {
    "duration": 9293,
    "start_time": "2022-02-17T17:41:00.460Z"
   },
   {
    "duration": 1131,
    "start_time": "2022-02-17T17:41:08.625Z"
   },
   {
    "duration": 10046,
    "start_time": "2022-02-17T17:41:46.543Z"
   },
   {
    "duration": 1196,
    "start_time": "2022-02-17T17:41:55.395Z"
   },
   {
    "duration": 9379,
    "start_time": "2022-02-17T17:42:45.298Z"
   },
   {
    "duration": 1195,
    "start_time": "2022-02-17T17:42:53.484Z"
   },
   {
    "duration": 9,
    "start_time": "2022-02-17T17:46:28.238Z"
   },
   {
    "duration": 200,
    "start_time": "2022-02-17T17:47:06.226Z"
   },
   {
    "duration": 1114,
    "start_time": "2022-02-17T17:50:34.828Z"
   },
   {
    "duration": 394,
    "start_time": "2022-02-17T17:50:35.944Z"
   },
   {
    "duration": 12,
    "start_time": "2022-02-17T17:50:36.341Z"
   },
   {
    "duration": 10,
    "start_time": "2022-02-17T17:50:36.354Z"
   },
   {
    "duration": 14,
    "start_time": "2022-02-17T17:50:36.366Z"
   },
   {
    "duration": 23,
    "start_time": "2022-02-17T17:50:36.381Z"
   },
   {
    "duration": 6,
    "start_time": "2022-02-17T17:50:36.406Z"
   },
   {
    "duration": 8,
    "start_time": "2022-02-17T17:50:36.414Z"
   },
   {
    "duration": 27,
    "start_time": "2022-02-17T17:50:36.424Z"
   },
   {
    "duration": 145,
    "start_time": "2022-02-17T17:50:36.453Z"
   },
   {
    "duration": 6,
    "start_time": "2022-02-17T17:50:36.600Z"
   },
   {
    "duration": 8,
    "start_time": "2022-02-17T17:50:36.607Z"
   },
   {
    "duration": 9,
    "start_time": "2022-02-17T17:50:36.617Z"
   },
   {
    "duration": 78,
    "start_time": "2022-02-17T17:50:36.628Z"
   },
   {
    "duration": 8,
    "start_time": "2022-02-17T17:50:36.707Z"
   },
   {
    "duration": 9,
    "start_time": "2022-02-17T17:50:36.716Z"
   },
   {
    "duration": 28,
    "start_time": "2022-02-17T17:50:36.726Z"
   },
   {
    "duration": 112,
    "start_time": "2022-02-17T17:50:36.755Z"
   },
   {
    "duration": 298,
    "start_time": "2022-02-17T17:50:36.869Z"
   },
   {
    "duration": 2,
    "start_time": "2022-02-17T17:50:37.168Z"
   },
   {
    "duration": 10,
    "start_time": "2022-02-17T17:50:37.171Z"
   },
   {
    "duration": 26,
    "start_time": "2022-02-17T17:50:37.182Z"
   },
   {
    "duration": 5,
    "start_time": "2022-02-17T17:50:37.210Z"
   },
   {
    "duration": 8,
    "start_time": "2022-02-17T17:50:37.216Z"
   },
   {
    "duration": 44,
    "start_time": "2022-02-17T17:50:37.246Z"
   },
   {
    "duration": 9,
    "start_time": "2022-02-17T17:50:37.291Z"
   },
   {
    "duration": 8,
    "start_time": "2022-02-17T17:50:37.303Z"
   },
   {
    "duration": 7,
    "start_time": "2022-02-17T17:50:37.313Z"
   },
   {
    "duration": 53,
    "start_time": "2022-02-17T17:50:37.321Z"
   },
   {
    "duration": 39,
    "start_time": "2022-02-17T17:50:37.376Z"
   },
   {
    "duration": 42,
    "start_time": "2022-02-17T17:50:37.416Z"
   },
   {
    "duration": 23,
    "start_time": "2022-02-17T17:50:37.459Z"
   },
   {
    "duration": 6,
    "start_time": "2022-02-17T17:50:37.483Z"
   },
   {
    "duration": 36,
    "start_time": "2022-02-17T17:50:37.490Z"
   },
   {
    "duration": 42,
    "start_time": "2022-02-17T17:50:37.527Z"
   },
   {
    "duration": 11,
    "start_time": "2022-02-17T17:50:37.571Z"
   },
   {
    "duration": 32,
    "start_time": "2022-02-17T17:50:37.583Z"
   },
   {
    "duration": 6,
    "start_time": "2022-02-17T17:50:37.616Z"
   },
   {
    "duration": 24,
    "start_time": "2022-02-17T17:50:37.623Z"
   },
   {
    "duration": 10,
    "start_time": "2022-02-17T17:50:37.648Z"
   },
   {
    "duration": 107,
    "start_time": "2022-02-17T17:50:37.659Z"
   },
   {
    "duration": 926,
    "start_time": "2022-02-17T17:50:36.842Z"
   },
   {
    "duration": 919,
    "start_time": "2022-02-17T17:50:36.850Z"
   },
   {
    "duration": 911,
    "start_time": "2022-02-17T17:50:36.859Z"
   },
   {
    "duration": 907,
    "start_time": "2022-02-17T17:50:36.865Z"
   },
   {
    "duration": 901,
    "start_time": "2022-02-17T17:50:36.872Z"
   },
   {
    "duration": 896,
    "start_time": "2022-02-17T17:50:36.878Z"
   },
   {
    "duration": 891,
    "start_time": "2022-02-17T17:50:36.884Z"
   },
   {
    "duration": 870,
    "start_time": "2022-02-17T17:50:36.907Z"
   },
   {
    "duration": 863,
    "start_time": "2022-02-17T17:50:36.915Z"
   },
   {
    "duration": 857,
    "start_time": "2022-02-17T17:50:36.922Z"
   },
   {
    "duration": 852,
    "start_time": "2022-02-17T17:50:36.929Z"
   },
   {
    "duration": 847,
    "start_time": "2022-02-17T17:50:36.935Z"
   },
   {
    "duration": 843,
    "start_time": "2022-02-17T17:50:36.940Z"
   },
   {
    "duration": 838,
    "start_time": "2022-02-17T17:50:36.947Z"
   },
   {
    "duration": 833,
    "start_time": "2022-02-17T17:50:36.953Z"
   },
   {
    "duration": 109,
    "start_time": "2022-02-17T17:51:26.229Z"
   },
   {
    "duration": 164,
    "start_time": "2022-02-17T17:51:56.179Z"
   },
   {
    "duration": 117,
    "start_time": "2022-02-17T17:52:21.505Z"
   },
   {
    "duration": 3,
    "start_time": "2022-02-17T17:52:46.048Z"
   },
   {
    "duration": 8,
    "start_time": "2022-02-17T17:52:51.253Z"
   },
   {
    "duration": 800,
    "start_time": "2022-02-17T17:52:56.405Z"
   },
   {
    "duration": 21,
    "start_time": "2022-02-17T17:54:01.409Z"
   },
   {
    "duration": 1066,
    "start_time": "2022-02-17T17:55:21.700Z"
   },
   {
    "duration": 405,
    "start_time": "2022-02-17T17:55:22.767Z"
   },
   {
    "duration": 13,
    "start_time": "2022-02-17T17:55:23.173Z"
   },
   {
    "duration": 9,
    "start_time": "2022-02-17T17:55:23.188Z"
   },
   {
    "duration": 11,
    "start_time": "2022-02-17T17:55:23.198Z"
   },
   {
    "duration": 24,
    "start_time": "2022-02-17T17:55:23.211Z"
   },
   {
    "duration": 11,
    "start_time": "2022-02-17T17:55:23.237Z"
   },
   {
    "duration": 12,
    "start_time": "2022-02-17T17:55:23.251Z"
   },
   {
    "duration": 15,
    "start_time": "2022-02-17T17:55:23.265Z"
   },
   {
    "duration": 169,
    "start_time": "2022-02-17T17:55:23.282Z"
   },
   {
    "duration": 6,
    "start_time": "2022-02-17T17:55:23.453Z"
   },
   {
    "duration": 11,
    "start_time": "2022-02-17T17:55:23.461Z"
   },
   {
    "duration": 13,
    "start_time": "2022-02-17T17:55:23.473Z"
   },
   {
    "duration": 114,
    "start_time": "2022-02-17T17:55:23.488Z"
   },
   {
    "duration": 9,
    "start_time": "2022-02-17T17:55:23.604Z"
   },
   {
    "duration": 9,
    "start_time": "2022-02-17T17:55:23.615Z"
   },
   {
    "duration": 25,
    "start_time": "2022-02-17T17:55:23.626Z"
   },
   {
    "duration": 123,
    "start_time": "2022-02-17T17:55:23.652Z"
   },
   {
    "duration": 319,
    "start_time": "2022-02-17T17:55:23.776Z"
   },
   {
    "duration": 3,
    "start_time": "2022-02-17T17:55:24.096Z"
   },
   {
    "duration": 11,
    "start_time": "2022-02-17T17:55:24.100Z"
   },
   {
    "duration": 53,
    "start_time": "2022-02-17T17:55:24.112Z"
   },
   {
    "duration": 7,
    "start_time": "2022-02-17T17:55:24.169Z"
   },
   {
    "duration": 10,
    "start_time": "2022-02-17T17:55:24.179Z"
   },
   {
    "duration": 71,
    "start_time": "2022-02-17T17:55:24.191Z"
   },
   {
    "duration": 9,
    "start_time": "2022-02-17T17:55:24.264Z"
   },
   {
    "duration": 9,
    "start_time": "2022-02-17T17:55:24.274Z"
   },
   {
    "duration": 8,
    "start_time": "2022-02-17T17:55:24.284Z"
   },
   {
    "duration": 58,
    "start_time": "2022-02-17T17:55:24.293Z"
   },
   {
    "duration": 41,
    "start_time": "2022-02-17T17:55:24.353Z"
   },
   {
    "duration": 27,
    "start_time": "2022-02-17T17:55:24.395Z"
   },
   {
    "duration": 40,
    "start_time": "2022-02-17T17:55:24.423Z"
   },
   {
    "duration": 6,
    "start_time": "2022-02-17T17:55:24.465Z"
   },
   {
    "duration": 27,
    "start_time": "2022-02-17T17:55:24.472Z"
   },
   {
    "duration": 47,
    "start_time": "2022-02-17T17:55:24.501Z"
   },
   {
    "duration": 12,
    "start_time": "2022-02-17T17:55:24.550Z"
   },
   {
    "duration": 35,
    "start_time": "2022-02-17T17:55:24.563Z"
   },
   {
    "duration": 6,
    "start_time": "2022-02-17T17:55:24.599Z"
   },
   {
    "duration": 12,
    "start_time": "2022-02-17T17:55:24.606Z"
   },
   {
    "duration": 30,
    "start_time": "2022-02-17T17:55:24.619Z"
   },
   {
    "duration": 3,
    "start_time": "2022-02-17T17:55:24.651Z"
   },
   {
    "duration": 9,
    "start_time": "2022-02-17T17:55:24.655Z"
   },
   {
    "duration": 19,
    "start_time": "2022-02-17T17:55:24.666Z"
   },
   {
    "duration": 5,
    "start_time": "2022-02-17T17:55:24.687Z"
   },
   {
    "duration": 7,
    "start_time": "2022-02-17T17:55:24.694Z"
   },
   {
    "duration": 631,
    "start_time": "2022-02-17T17:55:24.703Z"
   },
   {
    "duration": 647,
    "start_time": "2022-02-17T17:55:25.336Z"
   },
   {
    "duration": 566,
    "start_time": "2022-02-17T17:55:25.984Z"
   },
   {
    "duration": 608,
    "start_time": "2022-02-17T17:55:26.552Z"
   },
   {
    "duration": 8611,
    "start_time": "2022-02-17T17:55:27.161Z"
   },
   {
    "duration": 1190,
    "start_time": "2022-02-17T17:55:34.584Z"
   },
   {
    "duration": 1183,
    "start_time": "2022-02-17T17:55:34.592Z"
   },
   {
    "duration": 1176,
    "start_time": "2022-02-17T17:55:34.600Z"
   },
   {
    "duration": 1171,
    "start_time": "2022-02-17T17:55:34.606Z"
   },
   {
    "duration": 1161,
    "start_time": "2022-02-17T17:55:34.617Z"
   },
   {
    "duration": 1157,
    "start_time": "2022-02-17T17:55:34.622Z"
   },
   {
    "duration": 167,
    "start_time": "2022-02-17T17:57:49.348Z"
   },
   {
    "duration": 691,
    "start_time": "2022-02-17T17:58:11.916Z"
   },
   {
    "duration": 4,
    "start_time": "2022-02-17T18:02:23.110Z"
   },
   {
    "duration": 727,
    "start_time": "2022-02-17T18:02:26.036Z"
   },
   {
    "duration": 1136,
    "start_time": "2022-02-17T18:02:43.531Z"
   },
   {
    "duration": 387,
    "start_time": "2022-02-17T18:02:44.669Z"
   },
   {
    "duration": 12,
    "start_time": "2022-02-17T18:02:45.059Z"
   },
   {
    "duration": 10,
    "start_time": "2022-02-17T18:02:45.073Z"
   },
   {
    "duration": 12,
    "start_time": "2022-02-17T18:02:45.085Z"
   },
   {
    "duration": 19,
    "start_time": "2022-02-17T18:02:45.099Z"
   },
   {
    "duration": 30,
    "start_time": "2022-02-17T18:02:45.119Z"
   },
   {
    "duration": 12,
    "start_time": "2022-02-17T18:02:45.151Z"
   },
   {
    "duration": 12,
    "start_time": "2022-02-17T18:02:45.165Z"
   },
   {
    "duration": 170,
    "start_time": "2022-02-17T18:02:45.179Z"
   },
   {
    "duration": 7,
    "start_time": "2022-02-17T18:02:45.350Z"
   },
   {
    "duration": 9,
    "start_time": "2022-02-17T18:02:45.359Z"
   },
   {
    "duration": 9,
    "start_time": "2022-02-17T18:02:45.370Z"
   },
   {
    "duration": 92,
    "start_time": "2022-02-17T18:02:45.380Z"
   },
   {
    "duration": 7,
    "start_time": "2022-02-17T18:02:45.474Z"
   },
   {
    "duration": 10,
    "start_time": "2022-02-17T18:02:45.483Z"
   },
   {
    "duration": 16,
    "start_time": "2022-02-17T18:02:45.495Z"
   },
   {
    "duration": 137,
    "start_time": "2022-02-17T18:02:45.513Z"
   },
   {
    "duration": 304,
    "start_time": "2022-02-17T18:02:45.652Z"
   },
   {
    "duration": 2,
    "start_time": "2022-02-17T18:02:45.957Z"
   },
   {
    "duration": 11,
    "start_time": "2022-02-17T18:02:45.961Z"
   },
   {
    "duration": 28,
    "start_time": "2022-02-17T18:02:45.973Z"
   },
   {
    "duration": 6,
    "start_time": "2022-02-17T18:02:46.002Z"
   },
   {
    "duration": 7,
    "start_time": "2022-02-17T18:02:46.009Z"
   },
   {
    "duration": 67,
    "start_time": "2022-02-17T18:02:46.018Z"
   },
   {
    "duration": 9,
    "start_time": "2022-02-17T18:02:46.087Z"
   },
   {
    "duration": 8,
    "start_time": "2022-02-17T18:02:46.099Z"
   },
   {
    "duration": 37,
    "start_time": "2022-02-17T18:02:46.109Z"
   },
   {
    "duration": 31,
    "start_time": "2022-02-17T18:02:46.148Z"
   },
   {
    "duration": 39,
    "start_time": "2022-02-17T18:02:46.181Z"
   },
   {
    "duration": 41,
    "start_time": "2022-02-17T18:02:46.221Z"
   },
   {
    "duration": 23,
    "start_time": "2022-02-17T18:02:46.264Z"
   },
   {
    "duration": 8,
    "start_time": "2022-02-17T18:02:46.288Z"
   },
   {
    "duration": 60,
    "start_time": "2022-02-17T18:02:46.297Z"
   },
   {
    "duration": 29,
    "start_time": "2022-02-17T18:02:46.359Z"
   },
   {
    "duration": 12,
    "start_time": "2022-02-17T18:02:46.390Z"
   },
   {
    "duration": 53,
    "start_time": "2022-02-17T18:02:46.403Z"
   },
   {
    "duration": 6,
    "start_time": "2022-02-17T18:02:46.457Z"
   },
   {
    "duration": 8,
    "start_time": "2022-02-17T18:02:46.465Z"
   },
   {
    "duration": 9,
    "start_time": "2022-02-17T18:02:46.475Z"
   },
   {
    "duration": 3,
    "start_time": "2022-02-17T18:02:46.485Z"
   },
   {
    "duration": 825,
    "start_time": "2022-02-17T18:02:46.490Z"
   },
   {
    "duration": -880,
    "start_time": "2022-02-17T18:02:48.197Z"
   },
   {
    "duration": -885,
    "start_time": "2022-02-17T18:02:48.203Z"
   },
   {
    "duration": -891,
    "start_time": "2022-02-17T18:02:48.210Z"
   },
   {
    "duration": -898,
    "start_time": "2022-02-17T18:02:48.218Z"
   },
   {
    "duration": -904,
    "start_time": "2022-02-17T18:02:48.225Z"
   },
   {
    "duration": -908,
    "start_time": "2022-02-17T18:02:48.230Z"
   },
   {
    "duration": -914,
    "start_time": "2022-02-17T18:02:48.237Z"
   },
   {
    "duration": -917,
    "start_time": "2022-02-17T18:02:48.242Z"
   },
   {
    "duration": -923,
    "start_time": "2022-02-17T18:02:48.249Z"
   },
   {
    "duration": -947,
    "start_time": "2022-02-17T18:02:48.273Z"
   },
   {
    "duration": -952,
    "start_time": "2022-02-17T18:02:48.280Z"
   },
   {
    "duration": -957,
    "start_time": "2022-02-17T18:02:48.286Z"
   },
   {
    "duration": -962,
    "start_time": "2022-02-17T18:02:48.293Z"
   },
   {
    "duration": 4,
    "start_time": "2022-02-17T18:06:58.610Z"
   },
   {
    "duration": 8674,
    "start_time": "2022-02-17T18:07:05.349Z"
   },
   {
    "duration": 1186,
    "start_time": "2022-02-17T18:07:12.839Z"
   },
   {
    "duration": 760,
    "start_time": "2022-02-17T18:07:15.075Z"
   },
   {
    "duration": 8313,
    "start_time": "2022-02-17T18:08:23.454Z"
   },
   {
    "duration": 1015,
    "start_time": "2022-02-17T18:08:30.754Z"
   },
   {
    "duration": 8639,
    "start_time": "2022-02-17T18:08:36.233Z"
   },
   {
    "duration": 1214,
    "start_time": "2022-02-17T18:08:43.660Z"
   },
   {
    "duration": 4,
    "start_time": "2022-02-17T18:10:12.222Z"
   },
   {
    "duration": 8388,
    "start_time": "2022-02-17T18:10:15.437Z"
   },
   {
    "duration": 1167,
    "start_time": "2022-02-17T18:10:22.660Z"
   },
   {
    "duration": 10,
    "start_time": "2022-02-17T18:12:38.669Z"
   },
   {
    "duration": 702,
    "start_time": "2022-02-17T18:12:44.667Z"
   },
   {
    "duration": 5,
    "start_time": "2022-02-17T18:16:45.849Z"
   },
   {
    "duration": 5,
    "start_time": "2022-02-17T18:20:44.629Z"
   },
   {
    "duration": 5,
    "start_time": "2022-02-17T18:20:48.884Z"
   },
   {
    "duration": 5,
    "start_time": "2022-02-17T18:20:59.552Z"
   },
   {
    "duration": 10290,
    "start_time": "2022-02-17T18:22:17.222Z"
   },
   {
    "duration": 1163,
    "start_time": "2022-02-17T18:22:33.383Z"
   },
   {
    "duration": 412,
    "start_time": "2022-02-17T18:22:34.547Z"
   },
   {
    "duration": 12,
    "start_time": "2022-02-17T18:22:34.961Z"
   },
   {
    "duration": 11,
    "start_time": "2022-02-17T18:22:34.975Z"
   },
   {
    "duration": 12,
    "start_time": "2022-02-17T18:22:34.988Z"
   },
   {
    "duration": 20,
    "start_time": "2022-02-17T18:22:35.001Z"
   },
   {
    "duration": 7,
    "start_time": "2022-02-17T18:22:35.023Z"
   },
   {
    "duration": 20,
    "start_time": "2022-02-17T18:22:35.032Z"
   },
   {
    "duration": 13,
    "start_time": "2022-02-17T18:22:35.056Z"
   },
   {
    "duration": 161,
    "start_time": "2022-02-17T18:22:35.071Z"
   },
   {
    "duration": 14,
    "start_time": "2022-02-17T18:22:35.233Z"
   },
   {
    "duration": 9,
    "start_time": "2022-02-17T18:22:35.248Z"
   },
   {
    "duration": 12,
    "start_time": "2022-02-17T18:22:35.258Z"
   },
   {
    "duration": 78,
    "start_time": "2022-02-17T18:22:35.271Z"
   },
   {
    "duration": 7,
    "start_time": "2022-02-17T18:22:35.351Z"
   },
   {
    "duration": 11,
    "start_time": "2022-02-17T18:22:35.360Z"
   },
   {
    "duration": 13,
    "start_time": "2022-02-17T18:22:35.372Z"
   },
   {
    "duration": 121,
    "start_time": "2022-02-17T18:22:35.386Z"
   },
   {
    "duration": 317,
    "start_time": "2022-02-17T18:22:35.509Z"
   },
   {
    "duration": 2,
    "start_time": "2022-02-17T18:22:35.827Z"
   },
   {
    "duration": 17,
    "start_time": "2022-02-17T18:22:35.830Z"
   },
   {
    "duration": 27,
    "start_time": "2022-02-17T18:22:35.849Z"
   },
   {
    "duration": 5,
    "start_time": "2022-02-17T18:22:35.877Z"
   },
   {
    "duration": 8,
    "start_time": "2022-02-17T18:22:35.884Z"
   },
   {
    "duration": 60,
    "start_time": "2022-02-17T18:22:35.893Z"
   },
   {
    "duration": 9,
    "start_time": "2022-02-17T18:22:35.954Z"
   },
   {
    "duration": 8,
    "start_time": "2022-02-17T18:22:35.966Z"
   },
   {
    "duration": 14,
    "start_time": "2022-02-17T18:22:35.976Z"
   },
   {
    "duration": 33,
    "start_time": "2022-02-17T18:22:35.992Z"
   },
   {
    "duration": 42,
    "start_time": "2022-02-17T18:22:36.045Z"
   },
   {
    "duration": 25,
    "start_time": "2022-02-17T18:22:36.089Z"
   },
   {
    "duration": 42,
    "start_time": "2022-02-17T18:22:36.115Z"
   },
   {
    "duration": 7,
    "start_time": "2022-02-17T18:22:36.159Z"
   },
   {
    "duration": 33,
    "start_time": "2022-02-17T18:22:36.169Z"
   },
   {
    "duration": 53,
    "start_time": "2022-02-17T18:22:36.203Z"
   },
   {
    "duration": 12,
    "start_time": "2022-02-17T18:22:36.258Z"
   },
   {
    "duration": 33,
    "start_time": "2022-02-17T18:22:36.271Z"
   },
   {
    "duration": 6,
    "start_time": "2022-02-17T18:22:36.306Z"
   },
   {
    "duration": 12,
    "start_time": "2022-02-17T18:22:36.313Z"
   },
   {
    "duration": 10,
    "start_time": "2022-02-17T18:22:36.346Z"
   },
   {
    "duration": 5,
    "start_time": "2022-02-17T18:22:36.357Z"
   },
   {
    "duration": 9866,
    "start_time": "2022-02-17T18:22:36.363Z"
   },
   {
    "duration": 1180,
    "start_time": "2022-02-17T18:22:45.051Z"
   },
   {
    "duration": 1140,
    "start_time": "2022-02-17T18:22:45.092Z"
   },
   {
    "duration": 1129,
    "start_time": "2022-02-17T18:22:45.104Z"
   },
   {
    "duration": 1121,
    "start_time": "2022-02-17T18:22:45.113Z"
   },
   {
    "duration": 1116,
    "start_time": "2022-02-17T18:22:45.119Z"
   },
   {
    "duration": 1109,
    "start_time": "2022-02-17T18:22:45.126Z"
   },
   {
    "duration": 1092,
    "start_time": "2022-02-17T18:22:45.144Z"
   },
   {
    "duration": 1086,
    "start_time": "2022-02-17T18:22:45.151Z"
   },
   {
    "duration": 1078,
    "start_time": "2022-02-17T18:22:45.160Z"
   },
   {
    "duration": 1072,
    "start_time": "2022-02-17T18:22:45.167Z"
   },
   {
    "duration": 1067,
    "start_time": "2022-02-17T18:22:45.173Z"
   },
   {
    "duration": 1061,
    "start_time": "2022-02-17T18:22:45.180Z"
   },
   {
    "duration": 1057,
    "start_time": "2022-02-17T18:22:45.185Z"
   },
   {
    "duration": 5,
    "start_time": "2022-02-17T18:25:11.451Z"
   },
   {
    "duration": 2750,
    "start_time": "2022-02-17T18:25:16.812Z"
   },
   {
    "duration": 2853,
    "start_time": "2022-02-17T18:26:59.793Z"
   },
   {
    "duration": 2489,
    "start_time": "2022-02-17T18:27:38.127Z"
   },
   {
    "duration": 4,
    "start_time": "2022-02-17T18:43:57.916Z"
   },
   {
    "duration": 5,
    "start_time": "2022-02-17T18:44:02.843Z"
   },
   {
    "duration": 773,
    "start_time": "2022-02-17T18:44:08.045Z"
   },
   {
    "duration": 603,
    "start_time": "2022-02-17T18:44:13.845Z"
   },
   {
    "duration": 564,
    "start_time": "2022-02-17T18:44:20.214Z"
   },
   {
    "duration": 582,
    "start_time": "2022-02-17T18:44:25.798Z"
   },
   {
    "duration": 8659,
    "start_time": "2022-02-17T18:44:32.041Z"
   },
   {
    "duration": 2654,
    "start_time": "2022-02-17T18:54:27.980Z"
   },
   {
    "duration": 5,
    "start_time": "2022-02-17T18:55:25.541Z"
   },
   {
    "duration": 4,
    "start_time": "2022-02-17T18:55:28.998Z"
   },
   {
    "duration": 5,
    "start_time": "2022-02-17T18:55:32.382Z"
   },
   {
    "duration": 780,
    "start_time": "2022-02-17T18:55:37.973Z"
   },
   {
    "duration": 5,
    "start_time": "2022-02-17T18:56:20.859Z"
   },
   {
    "duration": 2566,
    "start_time": "2022-02-17T18:56:23.459Z"
   },
   {
    "duration": 4,
    "start_time": "2022-02-17T18:57:51.314Z"
   },
   {
    "duration": 707,
    "start_time": "2022-02-17T18:57:55.128Z"
   },
   {
    "duration": 8,
    "start_time": "2022-02-17T18:58:52.641Z"
   },
   {
    "duration": 2697,
    "start_time": "2022-02-17T18:58:56.563Z"
   },
   {
    "duration": 1118,
    "start_time": "2022-02-17T18:59:18.945Z"
   },
   {
    "duration": 450,
    "start_time": "2022-02-17T18:59:20.065Z"
   },
   {
    "duration": 13,
    "start_time": "2022-02-17T18:59:20.517Z"
   },
   {
    "duration": 10,
    "start_time": "2022-02-17T18:59:20.532Z"
   },
   {
    "duration": 17,
    "start_time": "2022-02-17T18:59:20.544Z"
   },
   {
    "duration": 37,
    "start_time": "2022-02-17T18:59:20.563Z"
   },
   {
    "duration": 7,
    "start_time": "2022-02-17T18:59:20.602Z"
   },
   {
    "duration": 10,
    "start_time": "2022-02-17T18:59:20.611Z"
   },
   {
    "duration": 20,
    "start_time": "2022-02-17T18:59:20.623Z"
   },
   {
    "duration": 168,
    "start_time": "2022-02-17T18:59:20.646Z"
   },
   {
    "duration": 7,
    "start_time": "2022-02-17T18:59:20.816Z"
   },
   {
    "duration": 23,
    "start_time": "2022-02-17T18:59:20.824Z"
   },
   {
    "duration": 19,
    "start_time": "2022-02-17T18:59:20.848Z"
   },
   {
    "duration": 101,
    "start_time": "2022-02-17T18:59:20.869Z"
   },
   {
    "duration": 8,
    "start_time": "2022-02-17T18:59:20.971Z"
   },
   {
    "duration": 13,
    "start_time": "2022-02-17T18:59:20.981Z"
   },
   {
    "duration": 12,
    "start_time": "2022-02-17T18:59:20.995Z"
   },
   {
    "duration": 137,
    "start_time": "2022-02-17T18:59:21.009Z"
   },
   {
    "duration": 328,
    "start_time": "2022-02-17T18:59:21.147Z"
   },
   {
    "duration": 3,
    "start_time": "2022-02-17T18:59:21.476Z"
   },
   {
    "duration": 12,
    "start_time": "2022-02-17T18:59:21.481Z"
   },
   {
    "duration": 27,
    "start_time": "2022-02-17T18:59:21.495Z"
   },
   {
    "duration": 8,
    "start_time": "2022-02-17T18:59:21.546Z"
   },
   {
    "duration": 13,
    "start_time": "2022-02-17T18:59:21.556Z"
   },
   {
    "duration": 47,
    "start_time": "2022-02-17T18:59:21.571Z"
   },
   {
    "duration": 31,
    "start_time": "2022-02-17T18:59:21.620Z"
   },
   {
    "duration": 10,
    "start_time": "2022-02-17T18:59:21.653Z"
   },
   {
    "duration": 13,
    "start_time": "2022-02-17T18:59:21.667Z"
   },
   {
    "duration": 31,
    "start_time": "2022-02-17T18:59:21.682Z"
   },
   {
    "duration": 55,
    "start_time": "2022-02-17T18:59:21.715Z"
   },
   {
    "duration": 25,
    "start_time": "2022-02-17T18:59:21.772Z"
   },
   {
    "duration": 24,
    "start_time": "2022-02-17T18:59:21.798Z"
   },
   {
    "duration": 30,
    "start_time": "2022-02-17T18:59:21.823Z"
   },
   {
    "duration": 36,
    "start_time": "2022-02-17T18:59:21.855Z"
   },
   {
    "duration": 33,
    "start_time": "2022-02-17T18:59:21.893Z"
   },
   {
    "duration": 13,
    "start_time": "2022-02-17T18:59:21.927Z"
   },
   {
    "duration": 37,
    "start_time": "2022-02-17T18:59:21.946Z"
   },
   {
    "duration": 6,
    "start_time": "2022-02-17T18:59:21.984Z"
   },
   {
    "duration": 9,
    "start_time": "2022-02-17T18:59:21.992Z"
   },
   {
    "duration": 11,
    "start_time": "2022-02-17T18:59:22.003Z"
   },
   {
    "duration": 33,
    "start_time": "2022-02-17T18:59:22.015Z"
   },
   {
    "duration": 2674,
    "start_time": "2022-02-17T18:59:22.050Z"
   },
   {
    "duration": 6,
    "start_time": "2022-02-17T18:59:24.727Z"
   },
   {
    "duration": 25,
    "start_time": "2022-02-17T18:59:24.735Z"
   },
   {
    "duration": 1002,
    "start_time": "2022-02-17T18:59:24.762Z"
   },
   {
    "duration": 1058,
    "start_time": "2022-02-17T18:59:25.766Z"
   },
   {
    "duration": 939,
    "start_time": "2022-02-17T18:59:26.826Z"
   },
   {
    "duration": 936,
    "start_time": "2022-02-17T18:59:27.767Z"
   },
   {
    "duration": 9500,
    "start_time": "2022-02-17T18:59:28.705Z"
   },
   {
    "duration": 1362,
    "start_time": "2022-02-17T18:59:36.846Z"
   },
   {
    "duration": 1356,
    "start_time": "2022-02-17T18:59:36.853Z"
   },
   {
    "duration": 1351,
    "start_time": "2022-02-17T18:59:36.859Z"
   },
   {
    "duration": 1347,
    "start_time": "2022-02-17T18:59:36.865Z"
   },
   {
    "duration": 1341,
    "start_time": "2022-02-17T18:59:36.872Z"
   },
   {
    "duration": 1337,
    "start_time": "2022-02-17T18:59:36.877Z"
   },
   {
    "duration": 333,
    "start_time": "2022-02-18T07:07:30.864Z"
   },
   {
    "duration": 1269,
    "start_time": "2022-02-18T07:07:50.508Z"
   },
   {
    "duration": 407,
    "start_time": "2022-02-18T07:07:51.779Z"
   },
   {
    "duration": 16,
    "start_time": "2022-02-18T07:07:52.188Z"
   },
   {
    "duration": 14,
    "start_time": "2022-02-18T07:07:52.206Z"
   },
   {
    "duration": 16,
    "start_time": "2022-02-18T07:07:52.222Z"
   },
   {
    "duration": 26,
    "start_time": "2022-02-18T07:07:52.240Z"
   },
   {
    "duration": 10,
    "start_time": "2022-02-18T07:07:52.268Z"
   },
   {
    "duration": 35,
    "start_time": "2022-02-18T07:07:52.280Z"
   },
   {
    "duration": 18,
    "start_time": "2022-02-18T07:07:52.318Z"
   },
   {
    "duration": 197,
    "start_time": "2022-02-18T07:07:52.339Z"
   },
   {
    "duration": 8,
    "start_time": "2022-02-18T07:07:52.538Z"
   },
   {
    "duration": 15,
    "start_time": "2022-02-18T07:07:52.548Z"
   },
   {
    "duration": 14,
    "start_time": "2022-02-18T07:07:52.565Z"
   },
   {
    "duration": 99,
    "start_time": "2022-02-18T07:07:52.581Z"
   },
   {
    "duration": 27,
    "start_time": "2022-02-18T07:07:52.682Z"
   },
   {
    "duration": 11,
    "start_time": "2022-02-18T07:07:52.711Z"
   },
   {
    "duration": 17,
    "start_time": "2022-02-18T07:07:52.724Z"
   },
   {
    "duration": 149,
    "start_time": "2022-02-18T07:07:52.744Z"
   },
   {
    "duration": 381,
    "start_time": "2022-02-18T07:07:52.895Z"
   },
   {
    "duration": 3,
    "start_time": "2022-02-18T07:07:53.279Z"
   },
   {
    "duration": 25,
    "start_time": "2022-02-18T07:07:53.284Z"
   },
   {
    "duration": 36,
    "start_time": "2022-02-18T07:07:53.311Z"
   },
   {
    "duration": 7,
    "start_time": "2022-02-18T07:07:53.349Z"
   },
   {
    "duration": 14,
    "start_time": "2022-02-18T07:07:53.358Z"
   },
   {
    "duration": 71,
    "start_time": "2022-02-18T07:07:53.374Z"
   },
   {
    "duration": 10,
    "start_time": "2022-02-18T07:07:53.447Z"
   },
   {
    "duration": 11,
    "start_time": "2022-02-18T07:07:53.461Z"
   },
   {
    "duration": 34,
    "start_time": "2022-02-18T07:07:53.474Z"
   },
   {
    "duration": 40,
    "start_time": "2022-02-18T07:07:53.510Z"
   },
   {
    "duration": 64,
    "start_time": "2022-02-18T07:07:53.552Z"
   },
   {
    "duration": 30,
    "start_time": "2022-02-18T07:07:53.618Z"
   },
   {
    "duration": 27,
    "start_time": "2022-02-18T07:07:53.650Z"
   },
   {
    "duration": 30,
    "start_time": "2022-02-18T07:07:53.679Z"
   },
   {
    "duration": 35,
    "start_time": "2022-02-18T07:07:53.711Z"
   },
   {
    "duration": 37,
    "start_time": "2022-02-18T07:07:53.748Z"
   },
   {
    "duration": 32,
    "start_time": "2022-02-18T07:07:53.787Z"
   },
   {
    "duration": 39,
    "start_time": "2022-02-18T07:07:53.821Z"
   },
   {
    "duration": 7,
    "start_time": "2022-02-18T07:07:53.862Z"
   },
   {
    "duration": 38,
    "start_time": "2022-02-18T07:07:53.871Z"
   },
   {
    "duration": 12,
    "start_time": "2022-02-18T07:07:53.910Z"
   },
   {
    "duration": 5,
    "start_time": "2022-02-18T07:07:53.924Z"
   },
   {
    "duration": 2899,
    "start_time": "2022-02-18T07:07:53.931Z"
   },
   {
    "duration": 5,
    "start_time": "2022-02-18T07:07:56.832Z"
   },
   {
    "duration": 14,
    "start_time": "2022-02-18T07:07:56.839Z"
   },
   {
    "duration": 773,
    "start_time": "2022-02-18T07:07:56.855Z"
   },
   {
    "duration": 1024,
    "start_time": "2022-02-18T07:07:57.630Z"
   },
   {
    "duration": 708,
    "start_time": "2022-02-18T07:07:58.656Z"
   },
   {
    "duration": 784,
    "start_time": "2022-02-18T07:07:59.366Z"
   },
   {
    "duration": 801,
    "start_time": "2022-02-18T07:08:00.152Z"
   },
   {
    "duration": 12,
    "start_time": "2022-02-18T07:08:00.955Z"
   },
   {
    "duration": 22,
    "start_time": "2022-02-18T07:08:00.969Z"
   },
   {
    "duration": 471,
    "start_time": "2022-02-18T07:08:01.008Z"
   },
   {
    "duration": 323,
    "start_time": "2022-02-18T07:08:01.481Z"
   },
   {
    "duration": 16,
    "start_time": "2022-02-18T07:08:01.807Z"
   },
   {
    "duration": 178,
    "start_time": "2022-02-18T07:08:01.825Z"
   },
   {
    "duration": 10,
    "start_time": "2022-02-18T07:13:15.676Z"
   },
   {
    "duration": 4476,
    "start_time": "2022-02-18T07:13:21.409Z"
   },
   {
    "duration": 6,
    "start_time": "2022-02-18T07:14:50.189Z"
   },
   {
    "duration": 683,
    "start_time": "2022-02-18T07:14:55.883Z"
   },
   {
    "duration": 1528,
    "start_time": "2022-02-18T07:15:09.732Z"
   },
   {
    "duration": 417,
    "start_time": "2022-02-18T07:15:11.263Z"
   },
   {
    "duration": 16,
    "start_time": "2022-02-18T07:15:11.683Z"
   },
   {
    "duration": 12,
    "start_time": "2022-02-18T07:15:11.708Z"
   },
   {
    "duration": 17,
    "start_time": "2022-02-18T07:15:11.722Z"
   },
   {
    "duration": 34,
    "start_time": "2022-02-18T07:15:11.742Z"
   },
   {
    "duration": 29,
    "start_time": "2022-02-18T07:15:11.778Z"
   },
   {
    "duration": 10,
    "start_time": "2022-02-18T07:15:11.810Z"
   },
   {
    "duration": 28,
    "start_time": "2022-02-18T07:15:11.823Z"
   },
   {
    "duration": 188,
    "start_time": "2022-02-18T07:15:11.854Z"
   },
   {
    "duration": 8,
    "start_time": "2022-02-18T07:15:12.044Z"
   },
   {
    "duration": 43,
    "start_time": "2022-02-18T07:15:12.054Z"
   },
   {
    "duration": 34,
    "start_time": "2022-02-18T07:15:12.099Z"
   },
   {
    "duration": 91,
    "start_time": "2022-02-18T07:15:12.135Z"
   },
   {
    "duration": 10,
    "start_time": "2022-02-18T07:15:12.228Z"
   },
   {
    "duration": 27,
    "start_time": "2022-02-18T07:15:12.240Z"
   },
   {
    "duration": 22,
    "start_time": "2022-02-18T07:15:12.269Z"
   },
   {
    "duration": 200,
    "start_time": "2022-02-18T07:15:12.307Z"
   },
   {
    "duration": 379,
    "start_time": "2022-02-18T07:15:12.509Z"
   },
   {
    "duration": 3,
    "start_time": "2022-02-18T07:15:12.890Z"
   },
   {
    "duration": 34,
    "start_time": "2022-02-18T07:15:12.895Z"
   },
   {
    "duration": 54,
    "start_time": "2022-02-18T07:15:12.931Z"
   },
   {
    "duration": 21,
    "start_time": "2022-02-18T07:15:12.988Z"
   },
   {
    "duration": 11,
    "start_time": "2022-02-18T07:15:13.011Z"
   },
   {
    "duration": 73,
    "start_time": "2022-02-18T07:15:13.024Z"
   },
   {
    "duration": 10,
    "start_time": "2022-02-18T07:15:13.100Z"
   },
   {
    "duration": 28,
    "start_time": "2022-02-18T07:15:13.115Z"
   },
   {
    "duration": 18,
    "start_time": "2022-02-18T07:15:13.146Z"
   },
   {
    "duration": 46,
    "start_time": "2022-02-18T07:15:13.166Z"
   },
   {
    "duration": 47,
    "start_time": "2022-02-18T07:15:13.214Z"
   },
   {
    "duration": 48,
    "start_time": "2022-02-18T07:15:13.263Z"
   },
   {
    "duration": 29,
    "start_time": "2022-02-18T07:15:13.314Z"
   },
   {
    "duration": 7,
    "start_time": "2022-02-18T07:15:13.345Z"
   },
   {
    "duration": 57,
    "start_time": "2022-02-18T07:15:13.354Z"
   },
   {
    "duration": 38,
    "start_time": "2022-02-18T07:15:13.413Z"
   },
   {
    "duration": 15,
    "start_time": "2022-02-18T07:15:13.453Z"
   },
   {
    "duration": 91,
    "start_time": "2022-02-18T07:15:13.470Z"
   },
   {
    "duration": 12,
    "start_time": "2022-02-18T07:15:13.563Z"
   },
   {
    "duration": 18,
    "start_time": "2022-02-18T07:15:13.577Z"
   },
   {
    "duration": 36,
    "start_time": "2022-02-18T07:15:13.608Z"
   },
   {
    "duration": 10,
    "start_time": "2022-02-18T07:15:13.646Z"
   },
   {
    "duration": 683,
    "start_time": "2022-02-18T07:15:13.658Z"
   },
   {
    "duration": 1198,
    "start_time": "2022-02-18T07:15:13.146Z"
   },
   {
    "duration": 1192,
    "start_time": "2022-02-18T07:15:13.153Z"
   },
   {
    "duration": 1184,
    "start_time": "2022-02-18T07:15:13.162Z"
   },
   {
    "duration": 1179,
    "start_time": "2022-02-18T07:15:13.169Z"
   },
   {
    "duration": 1172,
    "start_time": "2022-02-18T07:15:13.177Z"
   },
   {
    "duration": 1167,
    "start_time": "2022-02-18T07:15:13.183Z"
   },
   {
    "duration": 1162,
    "start_time": "2022-02-18T07:15:13.189Z"
   },
   {
    "duration": 1159,
    "start_time": "2022-02-18T07:15:13.194Z"
   },
   {
    "duration": 1154,
    "start_time": "2022-02-18T07:15:13.200Z"
   },
   {
    "duration": 1150,
    "start_time": "2022-02-18T07:15:13.205Z"
   },
   {
    "duration": 1144,
    "start_time": "2022-02-18T07:15:13.212Z"
   },
   {
    "duration": 1140,
    "start_time": "2022-02-18T07:15:13.217Z"
   },
   {
    "duration": 1134,
    "start_time": "2022-02-18T07:15:13.224Z"
   },
   {
    "duration": 6,
    "start_time": "2022-02-18T07:19:29.675Z"
   },
   {
    "duration": 524,
    "start_time": "2022-02-18T07:19:33.572Z"
   },
   {
    "duration": 1281,
    "start_time": "2022-02-18T07:20:18.620Z"
   },
   {
    "duration": 437,
    "start_time": "2022-02-18T07:20:19.903Z"
   },
   {
    "duration": 16,
    "start_time": "2022-02-18T07:20:20.343Z"
   },
   {
    "duration": 43,
    "start_time": "2022-02-18T07:20:20.361Z"
   },
   {
    "duration": 32,
    "start_time": "2022-02-18T07:20:20.405Z"
   },
   {
    "duration": 58,
    "start_time": "2022-02-18T07:20:20.439Z"
   },
   {
    "duration": 22,
    "start_time": "2022-02-18T07:20:20.499Z"
   },
   {
    "duration": 15,
    "start_time": "2022-02-18T07:20:20.523Z"
   },
   {
    "duration": 33,
    "start_time": "2022-02-18T07:20:20.541Z"
   },
   {
    "duration": 184,
    "start_time": "2022-02-18T07:20:20.593Z"
   },
   {
    "duration": 8,
    "start_time": "2022-02-18T07:20:20.779Z"
   },
   {
    "duration": 37,
    "start_time": "2022-02-18T07:20:20.789Z"
   },
   {
    "duration": 34,
    "start_time": "2022-02-18T07:20:20.829Z"
   },
   {
    "duration": 101,
    "start_time": "2022-02-18T07:20:20.865Z"
   },
   {
    "duration": 11,
    "start_time": "2022-02-18T07:20:20.969Z"
   },
   {
    "duration": 42,
    "start_time": "2022-02-18T07:20:20.982Z"
   },
   {
    "duration": 39,
    "start_time": "2022-02-18T07:20:21.027Z"
   },
   {
    "duration": 159,
    "start_time": "2022-02-18T07:20:21.068Z"
   },
   {
    "duration": 410,
    "start_time": "2022-02-18T07:20:21.230Z"
   },
   {
    "duration": 3,
    "start_time": "2022-02-18T07:20:21.642Z"
   },
   {
    "duration": 33,
    "start_time": "2022-02-18T07:20:21.647Z"
   },
   {
    "duration": 51,
    "start_time": "2022-02-18T07:20:21.682Z"
   },
   {
    "duration": 7,
    "start_time": "2022-02-18T07:20:21.735Z"
   },
   {
    "duration": 53,
    "start_time": "2022-02-18T07:20:21.744Z"
   },
   {
    "duration": 90,
    "start_time": "2022-02-18T07:20:21.799Z"
   },
   {
    "duration": 12,
    "start_time": "2022-02-18T07:20:21.891Z"
   },
   {
    "duration": 29,
    "start_time": "2022-02-18T07:20:21.907Z"
   },
   {
    "duration": 32,
    "start_time": "2022-02-18T07:20:21.939Z"
   },
   {
    "duration": 43,
    "start_time": "2022-02-18T07:20:21.974Z"
   },
   {
    "duration": 50,
    "start_time": "2022-02-18T07:20:22.019Z"
   },
   {
    "duration": 53,
    "start_time": "2022-02-18T07:20:22.071Z"
   },
   {
    "duration": 29,
    "start_time": "2022-02-18T07:20:22.126Z"
   },
   {
    "duration": 17,
    "start_time": "2022-02-18T07:20:22.158Z"
   },
   {
    "duration": 73,
    "start_time": "2022-02-18T07:20:22.177Z"
   },
   {
    "duration": 46,
    "start_time": "2022-02-18T07:20:22.252Z"
   },
   {
    "duration": 16,
    "start_time": "2022-02-18T07:20:22.300Z"
   },
   {
    "duration": 68,
    "start_time": "2022-02-18T07:20:22.318Z"
   },
   {
    "duration": 7,
    "start_time": "2022-02-18T07:20:22.388Z"
   },
   {
    "duration": 32,
    "start_time": "2022-02-18T07:20:22.397Z"
   },
   {
    "duration": 44,
    "start_time": "2022-02-18T07:20:22.431Z"
   },
   {
    "duration": 43,
    "start_time": "2022-02-18T07:20:22.477Z"
   },
   {
    "duration": 684,
    "start_time": "2022-02-18T07:20:22.522Z"
   },
   {
    "duration": -1947,
    "start_time": "2022-02-18T07:20:25.155Z"
   },
   {
    "duration": -2205,
    "start_time": "2022-02-18T07:20:25.414Z"
   },
   {
    "duration": -2240,
    "start_time": "2022-02-18T07:20:25.450Z"
   },
   {
    "duration": -2251,
    "start_time": "2022-02-18T07:20:25.463Z"
   },
   {
    "duration": -2261,
    "start_time": "2022-02-18T07:20:25.474Z"
   },
   {
    "duration": -2272,
    "start_time": "2022-02-18T07:20:25.486Z"
   },
   {
    "duration": -2278,
    "start_time": "2022-02-18T07:20:25.493Z"
   },
   {
    "duration": -2284,
    "start_time": "2022-02-18T07:20:25.500Z"
   },
   {
    "duration": -2288,
    "start_time": "2022-02-18T07:20:25.506Z"
   },
   {
    "duration": -2295,
    "start_time": "2022-02-18T07:20:25.514Z"
   },
   {
    "duration": -2301,
    "start_time": "2022-02-18T07:20:25.521Z"
   },
   {
    "duration": -2404,
    "start_time": "2022-02-18T07:20:25.625Z"
   },
   {
    "duration": -2436,
    "start_time": "2022-02-18T07:20:25.658Z"
   },
   {
    "duration": 21,
    "start_time": "2022-02-18T07:22:25.796Z"
   },
   {
    "duration": 1323,
    "start_time": "2022-02-18T07:22:48.862Z"
   },
   {
    "duration": 438,
    "start_time": "2022-02-18T07:22:50.187Z"
   },
   {
    "duration": 16,
    "start_time": "2022-02-18T07:22:50.627Z"
   },
   {
    "duration": 17,
    "start_time": "2022-02-18T07:22:50.645Z"
   },
   {
    "duration": 17,
    "start_time": "2022-02-18T07:22:50.664Z"
   },
   {
    "duration": 45,
    "start_time": "2022-02-18T07:22:50.682Z"
   },
   {
    "duration": 10,
    "start_time": "2022-02-18T07:22:50.729Z"
   },
   {
    "duration": 15,
    "start_time": "2022-02-18T07:22:50.742Z"
   },
   {
    "duration": 20,
    "start_time": "2022-02-18T07:22:50.760Z"
   },
   {
    "duration": 234,
    "start_time": "2022-02-18T07:22:50.782Z"
   },
   {
    "duration": 10,
    "start_time": "2022-02-18T07:22:51.018Z"
   },
   {
    "duration": 18,
    "start_time": "2022-02-18T07:22:51.030Z"
   },
   {
    "duration": 19,
    "start_time": "2022-02-18T07:22:51.050Z"
   },
   {
    "duration": 144,
    "start_time": "2022-02-18T07:22:51.071Z"
   },
   {
    "duration": 17,
    "start_time": "2022-02-18T07:22:51.217Z"
   },
   {
    "duration": 16,
    "start_time": "2022-02-18T07:22:51.236Z"
   },
   {
    "duration": 22,
    "start_time": "2022-02-18T07:22:51.254Z"
   },
   {
    "duration": 159,
    "start_time": "2022-02-18T07:22:51.278Z"
   },
   {
    "duration": 411,
    "start_time": "2022-02-18T07:22:51.439Z"
   },
   {
    "duration": 3,
    "start_time": "2022-02-18T07:22:51.853Z"
   },
   {
    "duration": 24,
    "start_time": "2022-02-18T07:22:51.858Z"
   },
   {
    "duration": 55,
    "start_time": "2022-02-18T07:22:51.884Z"
   },
   {
    "duration": 7,
    "start_time": "2022-02-18T07:22:51.944Z"
   },
   {
    "duration": 14,
    "start_time": "2022-02-18T07:22:51.954Z"
   },
   {
    "duration": 103,
    "start_time": "2022-02-18T07:22:51.970Z"
   },
   {
    "duration": 11,
    "start_time": "2022-02-18T07:22:52.075Z"
   },
   {
    "duration": 25,
    "start_time": "2022-02-18T07:22:52.089Z"
   },
   {
    "duration": 11,
    "start_time": "2022-02-18T07:22:52.116Z"
   },
   {
    "duration": 87,
    "start_time": "2022-02-18T07:22:52.129Z"
   },
   {
    "duration": 54,
    "start_time": "2022-02-18T07:22:52.218Z"
   },
   {
    "duration": 52,
    "start_time": "2022-02-18T07:22:52.274Z"
   },
   {
    "duration": 30,
    "start_time": "2022-02-18T07:22:52.328Z"
   },
   {
    "duration": 8,
    "start_time": "2022-02-18T07:22:52.360Z"
   },
   {
    "duration": 58,
    "start_time": "2022-02-18T07:22:52.369Z"
   },
   {
    "duration": 39,
    "start_time": "2022-02-18T07:22:52.428Z"
   },
   {
    "duration": 42,
    "start_time": "2022-02-18T07:22:52.469Z"
   },
   {
    "duration": 41,
    "start_time": "2022-02-18T07:22:52.513Z"
   },
   {
    "duration": 7,
    "start_time": "2022-02-18T07:22:52.556Z"
   },
   {
    "duration": 12,
    "start_time": "2022-02-18T07:22:52.565Z"
   },
   {
    "duration": 39,
    "start_time": "2022-02-18T07:22:52.579Z"
   },
   {
    "duration": 6,
    "start_time": "2022-02-18T07:22:52.620Z"
   },
   {
    "duration": 735,
    "start_time": "2022-02-18T07:22:52.628Z"
   },
   {
    "duration": 1140,
    "start_time": "2022-02-18T07:22:52.226Z"
   },
   {
    "duration": 1135,
    "start_time": "2022-02-18T07:22:52.232Z"
   },
   {
    "duration": 1130,
    "start_time": "2022-02-18T07:22:52.238Z"
   },
   {
    "duration": 1123,
    "start_time": "2022-02-18T07:22:52.246Z"
   },
   {
    "duration": 1118,
    "start_time": "2022-02-18T07:22:52.252Z"
   },
   {
    "duration": 1094,
    "start_time": "2022-02-18T07:22:52.277Z"
   },
   {
    "duration": 1090,
    "start_time": "2022-02-18T07:22:52.283Z"
   },
   {
    "duration": 1085,
    "start_time": "2022-02-18T07:22:52.289Z"
   },
   {
    "duration": 1080,
    "start_time": "2022-02-18T07:22:52.295Z"
   },
   {
    "duration": 1076,
    "start_time": "2022-02-18T07:22:52.301Z"
   },
   {
    "duration": 1071,
    "start_time": "2022-02-18T07:22:52.307Z"
   },
   {
    "duration": 1065,
    "start_time": "2022-02-18T07:22:52.315Z"
   },
   {
    "duration": 1055,
    "start_time": "2022-02-18T07:22:52.327Z"
   },
   {
    "duration": 1316,
    "start_time": "2022-02-18T07:25:30.572Z"
   },
   {
    "duration": 432,
    "start_time": "2022-02-18T07:25:31.890Z"
   },
   {
    "duration": 15,
    "start_time": "2022-02-18T07:25:32.325Z"
   },
   {
    "duration": 24,
    "start_time": "2022-02-18T07:25:32.343Z"
   },
   {
    "duration": 20,
    "start_time": "2022-02-18T07:25:32.369Z"
   },
   {
    "duration": 66,
    "start_time": "2022-02-18T07:25:32.392Z"
   },
   {
    "duration": 45,
    "start_time": "2022-02-18T07:25:32.460Z"
   },
   {
    "duration": 42,
    "start_time": "2022-02-18T07:25:32.508Z"
   },
   {
    "duration": 28,
    "start_time": "2022-02-18T07:25:32.553Z"
   },
   {
    "duration": 183,
    "start_time": "2022-02-18T07:25:32.584Z"
   },
   {
    "duration": 9,
    "start_time": "2022-02-18T07:25:32.768Z"
   },
   {
    "duration": 51,
    "start_time": "2022-02-18T07:25:32.780Z"
   },
   {
    "duration": 20,
    "start_time": "2022-02-18T07:25:32.834Z"
   },
   {
    "duration": 83,
    "start_time": "2022-02-18T07:25:32.856Z"
   },
   {
    "duration": 10,
    "start_time": "2022-02-18T07:25:32.941Z"
   },
   {
    "duration": 46,
    "start_time": "2022-02-18T07:25:32.953Z"
   },
   {
    "duration": 36,
    "start_time": "2022-02-18T07:25:33.001Z"
   },
   {
    "duration": 136,
    "start_time": "2022-02-18T07:25:33.040Z"
   },
   {
    "duration": 373,
    "start_time": "2022-02-18T07:25:33.178Z"
   },
   {
    "duration": 3,
    "start_time": "2022-02-18T07:25:33.553Z"
   },
   {
    "duration": 15,
    "start_time": "2022-02-18T07:25:33.557Z"
   },
   {
    "duration": 52,
    "start_time": "2022-02-18T07:25:33.574Z"
   },
   {
    "duration": 7,
    "start_time": "2022-02-18T07:25:33.631Z"
   },
   {
    "duration": 9,
    "start_time": "2022-02-18T07:25:33.642Z"
   },
   {
    "duration": 85,
    "start_time": "2022-02-18T07:25:33.654Z"
   },
   {
    "duration": 12,
    "start_time": "2022-02-18T07:25:33.741Z"
   },
   {
    "duration": 12,
    "start_time": "2022-02-18T07:25:33.756Z"
   },
   {
    "duration": 37,
    "start_time": "2022-02-18T07:25:33.770Z"
   },
   {
    "duration": 39,
    "start_time": "2022-02-18T07:25:33.810Z"
   },
   {
    "duration": 69,
    "start_time": "2022-02-18T07:25:33.851Z"
   },
   {
    "duration": 31,
    "start_time": "2022-02-18T07:25:33.922Z"
   },
   {
    "duration": 27,
    "start_time": "2022-02-18T07:25:33.955Z"
   },
   {
    "duration": 27,
    "start_time": "2022-02-18T07:25:33.985Z"
   },
   {
    "duration": 39,
    "start_time": "2022-02-18T07:25:34.014Z"
   },
   {
    "duration": 54,
    "start_time": "2022-02-18T07:25:34.055Z"
   },
   {
    "duration": 2,
    "start_time": "2022-02-18T07:25:34.111Z"
   },
   {
    "duration": 45,
    "start_time": "2022-02-18T07:25:34.115Z"
   },
   {
    "duration": 7,
    "start_time": "2022-02-18T07:25:34.162Z"
   },
   {
    "duration": 17,
    "start_time": "2022-02-18T07:25:34.171Z"
   },
   {
    "duration": 27,
    "start_time": "2022-02-18T07:25:34.191Z"
   },
   {
    "duration": 6,
    "start_time": "2022-02-18T07:25:34.220Z"
   },
   {
    "duration": 635,
    "start_time": "2022-02-18T07:25:34.228Z"
   },
   {
    "duration": 891,
    "start_time": "2022-02-18T07:25:33.974Z"
   },
   {
    "duration": 880,
    "start_time": "2022-02-18T07:25:33.987Z"
   },
   {
    "duration": 873,
    "start_time": "2022-02-18T07:25:33.996Z"
   },
   {
    "duration": 868,
    "start_time": "2022-02-18T07:25:34.003Z"
   },
   {
    "duration": 862,
    "start_time": "2022-02-18T07:25:34.010Z"
   },
   {
    "duration": 855,
    "start_time": "2022-02-18T07:25:34.019Z"
   },
   {
    "duration": 851,
    "start_time": "2022-02-18T07:25:34.025Z"
   },
   {
    "duration": 846,
    "start_time": "2022-02-18T07:25:34.031Z"
   },
   {
    "duration": 843,
    "start_time": "2022-02-18T07:25:34.036Z"
   },
   {
    "duration": 838,
    "start_time": "2022-02-18T07:25:34.043Z"
   },
   {
    "duration": 835,
    "start_time": "2022-02-18T07:25:34.048Z"
   },
   {
    "duration": 830,
    "start_time": "2022-02-18T07:25:34.054Z"
   },
   {
    "duration": 826,
    "start_time": "2022-02-18T07:25:34.059Z"
   },
   {
    "duration": 10,
    "start_time": "2022-02-18T07:29:51.215Z"
   },
   {
    "duration": 36,
    "start_time": "2022-02-18T07:30:46.723Z"
   },
   {
    "duration": 38,
    "start_time": "2022-02-18T07:31:02.109Z"
   },
   {
    "duration": 53,
    "start_time": "2022-02-18T07:32:08.589Z"
   },
   {
    "duration": 1228,
    "start_time": "2022-02-18T07:32:41.856Z"
   },
   {
    "duration": 419,
    "start_time": "2022-02-18T07:32:43.086Z"
   },
   {
    "duration": 17,
    "start_time": "2022-02-18T07:32:43.507Z"
   },
   {
    "duration": 18,
    "start_time": "2022-02-18T07:32:43.526Z"
   },
   {
    "duration": 21,
    "start_time": "2022-02-18T07:32:43.546Z"
   },
   {
    "duration": 45,
    "start_time": "2022-02-18T07:32:43.569Z"
   },
   {
    "duration": 9,
    "start_time": "2022-02-18T07:32:43.616Z"
   },
   {
    "duration": 15,
    "start_time": "2022-02-18T07:32:43.627Z"
   },
   {
    "duration": 26,
    "start_time": "2022-02-18T07:32:43.645Z"
   },
   {
    "duration": 200,
    "start_time": "2022-02-18T07:32:43.674Z"
   },
   {
    "duration": 9,
    "start_time": "2022-02-18T07:32:43.876Z"
   },
   {
    "duration": 25,
    "start_time": "2022-02-18T07:32:43.887Z"
   },
   {
    "duration": 25,
    "start_time": "2022-02-18T07:32:43.914Z"
   },
   {
    "duration": 88,
    "start_time": "2022-02-18T07:32:43.941Z"
   },
   {
    "duration": 10,
    "start_time": "2022-02-18T07:32:44.031Z"
   },
   {
    "duration": 14,
    "start_time": "2022-02-18T07:32:44.043Z"
   },
   {
    "duration": 22,
    "start_time": "2022-02-18T07:32:44.059Z"
   },
   {
    "duration": 162,
    "start_time": "2022-02-18T07:32:44.083Z"
   },
   {
    "duration": 433,
    "start_time": "2022-02-18T07:32:44.247Z"
   },
   {
    "duration": 2,
    "start_time": "2022-02-18T07:32:44.682Z"
   },
   {
    "duration": 27,
    "start_time": "2022-02-18T07:32:44.686Z"
   },
   {
    "duration": 35,
    "start_time": "2022-02-18T07:32:44.715Z"
   },
   {
    "duration": 7,
    "start_time": "2022-02-18T07:32:44.752Z"
   },
   {
    "duration": 13,
    "start_time": "2022-02-18T07:32:44.761Z"
   },
   {
    "duration": 79,
    "start_time": "2022-02-18T07:32:44.776Z"
   },
   {
    "duration": 12,
    "start_time": "2022-02-18T07:32:44.857Z"
   },
   {
    "duration": 14,
    "start_time": "2022-02-18T07:32:44.873Z"
   },
   {
    "duration": 13,
    "start_time": "2022-02-18T07:32:44.908Z"
   },
   {
    "duration": 45,
    "start_time": "2022-02-18T07:32:44.923Z"
   },
   {
    "duration": 84,
    "start_time": "2022-02-18T07:32:44.971Z"
   },
   {
    "duration": 34,
    "start_time": "2022-02-18T07:32:45.057Z"
   },
   {
    "duration": 41,
    "start_time": "2022-02-18T07:32:45.093Z"
   },
   {
    "duration": 8,
    "start_time": "2022-02-18T07:32:45.137Z"
   },
   {
    "duration": 36,
    "start_time": "2022-02-18T07:32:45.146Z"
   },
   {
    "duration": 39,
    "start_time": "2022-02-18T07:32:45.208Z"
   },
   {
    "duration": 14,
    "start_time": "2022-02-18T07:32:45.249Z"
   },
   {
    "duration": 66,
    "start_time": "2022-02-18T07:32:45.265Z"
   },
   {
    "duration": 8,
    "start_time": "2022-02-18T07:32:45.333Z"
   },
   {
    "duration": 16,
    "start_time": "2022-02-18T07:32:45.343Z"
   },
   {
    "duration": 32,
    "start_time": "2022-02-18T07:32:45.362Z"
   },
   {
    "duration": 15,
    "start_time": "2022-02-18T07:32:45.396Z"
   },
   {
    "duration": 659,
    "start_time": "2022-02-18T07:32:45.412Z"
   },
   {
    "duration": 1077,
    "start_time": "2022-02-18T07:32:44.996Z"
   },
   {
    "duration": 1064,
    "start_time": "2022-02-18T07:32:45.010Z"
   },
   {
    "duration": 1053,
    "start_time": "2022-02-18T07:32:45.022Z"
   },
   {
    "duration": 1048,
    "start_time": "2022-02-18T07:32:45.029Z"
   },
   {
    "duration": 1042,
    "start_time": "2022-02-18T07:32:45.036Z"
   },
   {
    "duration": 1037,
    "start_time": "2022-02-18T07:32:45.043Z"
   },
   {
    "duration": 1031,
    "start_time": "2022-02-18T07:32:45.050Z"
   },
   {
    "duration": 1025,
    "start_time": "2022-02-18T07:32:45.057Z"
   },
   {
    "duration": 1021,
    "start_time": "2022-02-18T07:32:45.063Z"
   },
   {
    "duration": 1016,
    "start_time": "2022-02-18T07:32:45.069Z"
   },
   {
    "duration": 1002,
    "start_time": "2022-02-18T07:32:45.085Z"
   },
   {
    "duration": 998,
    "start_time": "2022-02-18T07:32:45.090Z"
   },
   {
    "duration": 992,
    "start_time": "2022-02-18T07:32:45.097Z"
   },
   {
    "duration": 219,
    "start_time": "2022-02-18T11:20:06.863Z"
   },
   {
    "duration": 1158,
    "start_time": "2022-02-18T11:20:30.800Z"
   },
   {
    "duration": 402,
    "start_time": "2022-02-18T11:20:31.960Z"
   },
   {
    "duration": 15,
    "start_time": "2022-02-18T11:20:32.364Z"
   },
   {
    "duration": 13,
    "start_time": "2022-02-18T11:20:32.381Z"
   },
   {
    "duration": 18,
    "start_time": "2022-02-18T11:20:32.396Z"
   },
   {
    "duration": 56,
    "start_time": "2022-02-18T11:20:32.416Z"
   },
   {
    "duration": 10,
    "start_time": "2022-02-18T11:20:32.474Z"
   },
   {
    "duration": 13,
    "start_time": "2022-02-18T11:20:32.486Z"
   },
   {
    "duration": 26,
    "start_time": "2022-02-18T11:20:32.501Z"
   },
   {
    "duration": 239,
    "start_time": "2022-02-18T11:20:32.530Z"
   },
   {
    "duration": 8,
    "start_time": "2022-02-18T11:20:32.771Z"
   },
   {
    "duration": 14,
    "start_time": "2022-02-18T11:20:32.781Z"
   },
   {
    "duration": 16,
    "start_time": "2022-02-18T11:20:32.797Z"
   },
   {
    "duration": 108,
    "start_time": "2022-02-18T11:20:32.815Z"
   },
   {
    "duration": 10,
    "start_time": "2022-02-18T11:20:32.926Z"
   },
   {
    "duration": 28,
    "start_time": "2022-02-18T11:20:32.938Z"
   },
   {
    "duration": 24,
    "start_time": "2022-02-18T11:20:32.968Z"
   },
   {
    "duration": 146,
    "start_time": "2022-02-18T11:20:32.994Z"
   },
   {
    "duration": 370,
    "start_time": "2022-02-18T11:20:33.142Z"
   },
   {
    "duration": 2,
    "start_time": "2022-02-18T11:20:33.514Z"
   },
   {
    "duration": 11,
    "start_time": "2022-02-18T11:20:33.518Z"
   },
   {
    "duration": 54,
    "start_time": "2022-02-18T11:20:33.531Z"
   },
   {
    "duration": 6,
    "start_time": "2022-02-18T11:20:33.588Z"
   },
   {
    "duration": 12,
    "start_time": "2022-02-18T11:20:33.596Z"
   },
   {
    "duration": 74,
    "start_time": "2022-02-18T11:20:33.610Z"
   },
   {
    "duration": 10,
    "start_time": "2022-02-18T11:20:33.686Z"
   },
   {
    "duration": 12,
    "start_time": "2022-02-18T11:20:33.699Z"
   },
   {
    "duration": 9,
    "start_time": "2022-02-18T11:20:33.712Z"
   },
   {
    "duration": 65,
    "start_time": "2022-02-18T11:20:33.722Z"
   },
   {
    "duration": 44,
    "start_time": "2022-02-18T11:20:33.788Z"
   },
   {
    "duration": 46,
    "start_time": "2022-02-18T11:20:33.834Z"
   },
   {
    "duration": 26,
    "start_time": "2022-02-18T11:20:33.882Z"
   },
   {
    "duration": 6,
    "start_time": "2022-02-18T11:20:33.910Z"
   },
   {
    "duration": 60,
    "start_time": "2022-02-18T11:20:33.918Z"
   },
   {
    "duration": 35,
    "start_time": "2022-02-18T11:20:33.980Z"
   },
   {
    "duration": 11,
    "start_time": "2022-02-18T11:20:34.016Z"
   },
   {
    "duration": 31,
    "start_time": "2022-02-18T11:20:34.029Z"
   },
   {
    "duration": 38,
    "start_time": "2022-02-18T11:20:34.062Z"
   },
   {
    "duration": 7,
    "start_time": "2022-02-18T11:20:34.101Z"
   },
   {
    "duration": 14,
    "start_time": "2022-02-18T11:20:34.109Z"
   },
   {
    "duration": 45,
    "start_time": "2022-02-18T11:20:34.125Z"
   },
   {
    "duration": 6,
    "start_time": "2022-02-18T11:20:34.172Z"
   },
   {
    "duration": 507,
    "start_time": "2022-02-18T11:20:34.180Z"
   },
   {
    "duration": -400,
    "start_time": "2022-02-18T11:20:35.089Z"
   },
   {
    "duration": -405,
    "start_time": "2022-02-18T11:20:35.096Z"
   },
   {
    "duration": -409,
    "start_time": "2022-02-18T11:20:35.102Z"
   },
   {
    "duration": -415,
    "start_time": "2022-02-18T11:20:35.109Z"
   },
   {
    "duration": -418,
    "start_time": "2022-02-18T11:20:35.114Z"
   },
   {
    "duration": -424,
    "start_time": "2022-02-18T11:20:35.121Z"
   },
   {
    "duration": -428,
    "start_time": "2022-02-18T11:20:35.127Z"
   },
   {
    "duration": -433,
    "start_time": "2022-02-18T11:20:35.133Z"
   },
   {
    "duration": -438,
    "start_time": "2022-02-18T11:20:35.139Z"
   },
   {
    "duration": -442,
    "start_time": "2022-02-18T11:20:35.145Z"
   },
   {
    "duration": -447,
    "start_time": "2022-02-18T11:20:35.151Z"
   },
   {
    "duration": -739,
    "start_time": "2022-02-18T11:20:35.445Z"
   },
   {
    "duration": -746,
    "start_time": "2022-02-18T11:20:35.453Z"
   },
   {
    "duration": 6,
    "start_time": "2022-02-18T11:22:53.379Z"
   },
   {
    "duration": 6,
    "start_time": "2022-02-18T11:23:16.157Z"
   },
   {
    "duration": 387,
    "start_time": "2022-02-18T11:23:19.760Z"
   },
   {
    "duration": 5,
    "start_time": "2022-02-18T11:24:18.703Z"
   },
   {
    "duration": 398,
    "start_time": "2022-02-18T11:24:22.005Z"
   },
   {
    "duration": 6,
    "start_time": "2022-02-18T11:25:20.708Z"
   },
   {
    "duration": 507,
    "start_time": "2022-02-18T11:25:23.987Z"
   },
   {
    "duration": 1238,
    "start_time": "2022-02-18T11:27:29.366Z"
   },
   {
    "duration": 383,
    "start_time": "2022-02-18T11:27:30.606Z"
   },
   {
    "duration": 14,
    "start_time": "2022-02-18T11:27:30.991Z"
   },
   {
    "duration": 19,
    "start_time": "2022-02-18T11:27:31.008Z"
   },
   {
    "duration": 36,
    "start_time": "2022-02-18T11:27:31.029Z"
   },
   {
    "duration": 24,
    "start_time": "2022-02-18T11:27:31.067Z"
   },
   {
    "duration": 9,
    "start_time": "2022-02-18T11:27:31.093Z"
   },
   {
    "duration": 13,
    "start_time": "2022-02-18T11:27:31.105Z"
   },
   {
    "duration": 53,
    "start_time": "2022-02-18T11:27:31.120Z"
   },
   {
    "duration": 207,
    "start_time": "2022-02-18T11:27:31.175Z"
   },
   {
    "duration": 7,
    "start_time": "2022-02-18T11:27:31.384Z"
   },
   {
    "duration": 16,
    "start_time": "2022-02-18T11:27:31.393Z"
   },
   {
    "duration": 15,
    "start_time": "2022-02-18T11:27:31.411Z"
   },
   {
    "duration": 106,
    "start_time": "2022-02-18T11:27:31.427Z"
   },
   {
    "duration": 24,
    "start_time": "2022-02-18T11:27:31.535Z"
   },
   {
    "duration": 9,
    "start_time": "2022-02-18T11:27:31.561Z"
   },
   {
    "duration": 34,
    "start_time": "2022-02-18T11:27:31.572Z"
   },
   {
    "duration": 159,
    "start_time": "2022-02-18T11:27:31.608Z"
   },
   {
    "duration": 373,
    "start_time": "2022-02-18T11:27:31.768Z"
   },
   {
    "duration": 2,
    "start_time": "2022-02-18T11:27:32.143Z"
   },
   {
    "duration": 11,
    "start_time": "2022-02-18T11:27:32.160Z"
   },
   {
    "duration": 35,
    "start_time": "2022-02-18T11:27:32.174Z"
   },
   {
    "duration": 7,
    "start_time": "2022-02-18T11:27:32.215Z"
   },
   {
    "duration": 38,
    "start_time": "2022-02-18T11:27:32.224Z"
   },
   {
    "duration": 56,
    "start_time": "2022-02-18T11:27:32.263Z"
   },
   {
    "duration": 10,
    "start_time": "2022-02-18T11:27:32.320Z"
   },
   {
    "duration": 31,
    "start_time": "2022-02-18T11:27:32.332Z"
   },
   {
    "duration": 10,
    "start_time": "2022-02-18T11:27:32.365Z"
   },
   {
    "duration": 37,
    "start_time": "2022-02-18T11:27:32.377Z"
   },
   {
    "duration": 77,
    "start_time": "2022-02-18T11:27:32.416Z"
   },
   {
    "duration": 28,
    "start_time": "2022-02-18T11:27:32.495Z"
   },
   {
    "duration": 49,
    "start_time": "2022-02-18T11:27:32.525Z"
   },
   {
    "duration": 7,
    "start_time": "2022-02-18T11:27:32.576Z"
   },
   {
    "duration": 33,
    "start_time": "2022-02-18T11:27:32.586Z"
   },
   {
    "duration": 65,
    "start_time": "2022-02-18T11:27:32.621Z"
   },
   {
    "duration": 12,
    "start_time": "2022-02-18T11:27:32.688Z"
   },
   {
    "duration": 10,
    "start_time": "2022-02-18T11:27:32.702Z"
   },
   {
    "duration": 71,
    "start_time": "2022-02-18T11:27:32.714Z"
   },
   {
    "duration": 7,
    "start_time": "2022-02-18T11:27:32.787Z"
   },
   {
    "duration": 10,
    "start_time": "2022-02-18T11:27:32.796Z"
   },
   {
    "duration": 11,
    "start_time": "2022-02-18T11:27:32.808Z"
   },
   {
    "duration": 5,
    "start_time": "2022-02-18T11:27:32.821Z"
   },
   {
    "duration": 508,
    "start_time": "2022-02-18T11:27:32.860Z"
   },
   {
    "duration": -6231,
    "start_time": "2022-02-18T11:27:39.601Z"
   },
   {
    "duration": -6242,
    "start_time": "2022-02-18T11:27:39.613Z"
   },
   {
    "duration": -6254,
    "start_time": "2022-02-18T11:27:39.626Z"
   },
   {
    "duration": -6265,
    "start_time": "2022-02-18T11:27:39.638Z"
   },
   {
    "duration": -6277,
    "start_time": "2022-02-18T11:27:39.651Z"
   },
   {
    "duration": -6286,
    "start_time": "2022-02-18T11:27:39.661Z"
   },
   {
    "duration": -6294,
    "start_time": "2022-02-18T11:27:39.669Z"
   },
   {
    "duration": -6300,
    "start_time": "2022-02-18T11:27:39.676Z"
   },
   {
    "duration": -6307,
    "start_time": "2022-02-18T11:27:39.684Z"
   },
   {
    "duration": -6313,
    "start_time": "2022-02-18T11:27:39.691Z"
   },
   {
    "duration": -6485,
    "start_time": "2022-02-18T11:27:39.864Z"
   },
   {
    "duration": -6509,
    "start_time": "2022-02-18T11:27:39.889Z"
   },
   {
    "duration": -6522,
    "start_time": "2022-02-18T11:27:39.902Z"
   },
   {
    "duration": 11,
    "start_time": "2022-02-18T11:42:03.765Z"
   },
   {
    "duration": 13,
    "start_time": "2022-02-18T11:42:59.092Z"
   },
   {
    "duration": 12,
    "start_time": "2022-02-18T11:45:08.544Z"
   },
   {
    "duration": 11,
    "start_time": "2022-02-18T11:45:50.113Z"
   },
   {
    "duration": 1146,
    "start_time": "2022-02-18T11:46:01.757Z"
   },
   {
    "duration": 398,
    "start_time": "2022-02-18T11:46:02.905Z"
   },
   {
    "duration": 14,
    "start_time": "2022-02-18T11:46:03.305Z"
   },
   {
    "duration": 11,
    "start_time": "2022-02-18T11:46:03.321Z"
   },
   {
    "duration": 26,
    "start_time": "2022-02-18T11:46:03.334Z"
   },
   {
    "duration": 22,
    "start_time": "2022-02-18T11:46:03.362Z"
   },
   {
    "duration": 8,
    "start_time": "2022-02-18T11:46:03.386Z"
   },
   {
    "duration": 10,
    "start_time": "2022-02-18T11:46:03.395Z"
   },
   {
    "duration": 20,
    "start_time": "2022-02-18T11:46:03.408Z"
   },
   {
    "duration": 187,
    "start_time": "2022-02-18T11:46:03.458Z"
   },
   {
    "duration": 7,
    "start_time": "2022-02-18T11:46:03.659Z"
   },
   {
    "duration": 9,
    "start_time": "2022-02-18T11:46:03.668Z"
   },
   {
    "duration": 15,
    "start_time": "2022-02-18T11:46:03.679Z"
   },
   {
    "duration": 94,
    "start_time": "2022-02-18T11:46:03.695Z"
   },
   {
    "duration": 9,
    "start_time": "2022-02-18T11:46:03.791Z"
   },
   {
    "duration": 14,
    "start_time": "2022-02-18T11:46:03.801Z"
   },
   {
    "duration": 17,
    "start_time": "2022-02-18T11:46:03.817Z"
   },
   {
    "duration": 148,
    "start_time": "2022-02-18T11:46:03.835Z"
   },
   {
    "duration": 343,
    "start_time": "2022-02-18T11:46:03.985Z"
   },
   {
    "duration": 3,
    "start_time": "2022-02-18T11:46:04.329Z"
   },
   {
    "duration": 26,
    "start_time": "2022-02-18T11:46:04.334Z"
   },
   {
    "duration": 31,
    "start_time": "2022-02-18T11:46:04.361Z"
   },
   {
    "duration": 6,
    "start_time": "2022-02-18T11:46:04.394Z"
   },
   {
    "duration": 12,
    "start_time": "2022-02-18T11:46:04.401Z"
   },
   {
    "duration": 72,
    "start_time": "2022-02-18T11:46:04.415Z"
   },
   {
    "duration": 11,
    "start_time": "2022-02-18T11:46:04.489Z"
   },
   {
    "duration": 11,
    "start_time": "2022-02-18T11:46:04.503Z"
   },
   {
    "duration": 10,
    "start_time": "2022-02-18T11:46:04.516Z"
   },
   {
    "duration": 38,
    "start_time": "2022-02-18T11:46:04.559Z"
   },
   {
    "duration": 67,
    "start_time": "2022-02-18T11:46:04.599Z"
   },
   {
    "duration": 29,
    "start_time": "2022-02-18T11:46:04.668Z"
   },
   {
    "duration": 28,
    "start_time": "2022-02-18T11:46:04.699Z"
   },
   {
    "duration": 39,
    "start_time": "2022-02-18T11:46:04.729Z"
   },
   {
    "duration": 31,
    "start_time": "2022-02-18T11:46:04.770Z"
   },
   {
    "duration": 58,
    "start_time": "2022-02-18T11:46:04.802Z"
   },
   {
    "duration": 11,
    "start_time": "2022-02-18T11:46:04.863Z"
   },
   {
    "duration": 10,
    "start_time": "2022-02-18T11:46:04.876Z"
   },
   {
    "duration": 39,
    "start_time": "2022-02-18T11:46:04.887Z"
   },
   {
    "duration": 37,
    "start_time": "2022-02-18T11:46:04.927Z"
   },
   {
    "duration": 12,
    "start_time": "2022-02-18T11:46:04.966Z"
   },
   {
    "duration": 11,
    "start_time": "2022-02-18T11:46:04.980Z"
   },
   {
    "duration": 5,
    "start_time": "2022-02-18T11:46:04.992Z"
   },
   {
    "duration": 490,
    "start_time": "2022-02-18T11:46:04.999Z"
   },
   {
    "duration": 201,
    "start_time": "2022-02-18T11:46:05.290Z"
   },
   {
    "duration": 195,
    "start_time": "2022-02-18T11:46:05.297Z"
   },
   {
    "duration": 189,
    "start_time": "2022-02-18T11:46:05.304Z"
   },
   {
    "duration": 185,
    "start_time": "2022-02-18T11:46:05.309Z"
   },
   {
    "duration": 178,
    "start_time": "2022-02-18T11:46:05.316Z"
   },
   {
    "duration": 153,
    "start_time": "2022-02-18T11:46:05.342Z"
   },
   {
    "duration": 147,
    "start_time": "2022-02-18T11:46:05.349Z"
   },
   {
    "duration": 143,
    "start_time": "2022-02-18T11:46:05.354Z"
   },
   {
    "duration": 136,
    "start_time": "2022-02-18T11:46:05.362Z"
   },
   {
    "duration": 132,
    "start_time": "2022-02-18T11:46:05.367Z"
   },
   {
    "duration": 126,
    "start_time": "2022-02-18T11:46:05.374Z"
   },
   {
    "duration": 121,
    "start_time": "2022-02-18T11:46:05.380Z"
   },
   {
    "duration": 115,
    "start_time": "2022-02-18T11:46:05.386Z"
   },
   {
    "duration": 12,
    "start_time": "2022-02-18T11:47:30.580Z"
   },
   {
    "duration": 1113,
    "start_time": "2022-02-18T11:47:53.312Z"
   },
   {
    "duration": 412,
    "start_time": "2022-02-18T11:47:54.427Z"
   },
   {
    "duration": 13,
    "start_time": "2022-02-18T11:47:54.841Z"
   },
   {
    "duration": 15,
    "start_time": "2022-02-18T11:47:54.856Z"
   },
   {
    "duration": 14,
    "start_time": "2022-02-18T11:47:54.873Z"
   },
   {
    "duration": 27,
    "start_time": "2022-02-18T11:47:54.889Z"
   },
   {
    "duration": 8,
    "start_time": "2022-02-18T11:47:54.918Z"
   },
   {
    "duration": 36,
    "start_time": "2022-02-18T11:47:54.929Z"
   },
   {
    "duration": 16,
    "start_time": "2022-02-18T11:47:54.967Z"
   },
   {
    "duration": 203,
    "start_time": "2022-02-18T11:47:54.985Z"
   },
   {
    "duration": 8,
    "start_time": "2022-02-18T11:47:55.190Z"
   },
   {
    "duration": 13,
    "start_time": "2022-02-18T11:47:55.200Z"
   },
   {
    "duration": 14,
    "start_time": "2022-02-18T11:47:55.214Z"
   },
   {
    "duration": 109,
    "start_time": "2022-02-18T11:47:55.230Z"
   },
   {
    "duration": 19,
    "start_time": "2022-02-18T11:47:55.341Z"
   },
   {
    "duration": 10,
    "start_time": "2022-02-18T11:47:55.362Z"
   },
   {
    "duration": 24,
    "start_time": "2022-02-18T11:47:55.375Z"
   },
   {
    "duration": 160,
    "start_time": "2022-02-18T11:47:55.401Z"
   },
   {
    "duration": 386,
    "start_time": "2022-02-18T11:47:55.563Z"
   },
   {
    "duration": 9,
    "start_time": "2022-02-18T11:47:55.951Z"
   },
   {
    "duration": 12,
    "start_time": "2022-02-18T11:47:55.963Z"
   },
   {
    "duration": 33,
    "start_time": "2022-02-18T11:47:55.977Z"
   },
   {
    "duration": 7,
    "start_time": "2022-02-18T11:47:56.014Z"
   },
   {
    "duration": 37,
    "start_time": "2022-02-18T11:47:56.023Z"
   },
   {
    "duration": 50,
    "start_time": "2022-02-18T11:47:56.062Z"
   },
   {
    "duration": 13,
    "start_time": "2022-02-18T11:47:56.114Z"
   },
   {
    "duration": 36,
    "start_time": "2022-02-18T11:47:56.129Z"
   },
   {
    "duration": 12,
    "start_time": "2022-02-18T11:47:56.168Z"
   },
   {
    "duration": 41,
    "start_time": "2022-02-18T11:47:56.182Z"
   },
   {
    "duration": 79,
    "start_time": "2022-02-18T11:47:56.225Z"
   },
   {
    "duration": 56,
    "start_time": "2022-02-18T11:47:56.306Z"
   },
   {
    "duration": 31,
    "start_time": "2022-02-18T11:47:56.364Z"
   },
   {
    "duration": 7,
    "start_time": "2022-02-18T11:47:56.396Z"
   },
   {
    "duration": 54,
    "start_time": "2022-02-18T11:47:56.405Z"
   },
   {
    "duration": 38,
    "start_time": "2022-02-18T11:47:56.461Z"
   },
   {
    "duration": 12,
    "start_time": "2022-02-18T11:47:56.501Z"
   },
   {
    "duration": 44,
    "start_time": "2022-02-18T11:47:56.515Z"
   },
   {
    "duration": 41,
    "start_time": "2022-02-18T11:47:56.561Z"
   },
   {
    "duration": 9,
    "start_time": "2022-02-18T11:47:56.604Z"
   },
   {
    "duration": 49,
    "start_time": "2022-02-18T11:47:56.616Z"
   },
   {
    "duration": 13,
    "start_time": "2022-02-18T11:47:56.668Z"
   },
   {
    "duration": 5,
    "start_time": "2022-02-18T11:47:56.683Z"
   },
   {
    "duration": 4756,
    "start_time": "2022-02-18T11:47:56.690Z"
   },
   {
    "duration": 296,
    "start_time": "2022-02-18T11:48:01.152Z"
   },
   {
    "duration": 281,
    "start_time": "2022-02-18T11:48:01.169Z"
   },
   {
    "duration": 266,
    "start_time": "2022-02-18T11:48:01.185Z"
   },
   {
    "duration": 256,
    "start_time": "2022-02-18T11:48:01.197Z"
   },
   {
    "duration": 251,
    "start_time": "2022-02-18T11:48:01.204Z"
   },
   {
    "duration": 245,
    "start_time": "2022-02-18T11:48:01.211Z"
   },
   {
    "duration": 238,
    "start_time": "2022-02-18T11:48:01.219Z"
   },
   {
    "duration": 234,
    "start_time": "2022-02-18T11:48:01.225Z"
   },
   {
    "duration": 215,
    "start_time": "2022-02-18T11:48:01.245Z"
   },
   {
    "duration": 211,
    "start_time": "2022-02-18T11:48:01.251Z"
   },
   {
    "duration": 204,
    "start_time": "2022-02-18T11:48:01.259Z"
   },
   {
    "duration": 199,
    "start_time": "2022-02-18T11:48:01.266Z"
   },
   {
    "duration": 193,
    "start_time": "2022-02-18T11:48:01.273Z"
   },
   {
    "duration": 33,
    "start_time": "2022-02-18T11:54:12.234Z"
   },
   {
    "duration": 32,
    "start_time": "2022-02-18T11:56:05.529Z"
   },
   {
    "duration": 1142,
    "start_time": "2022-02-18T11:56:34.267Z"
   },
   {
    "duration": 414,
    "start_time": "2022-02-18T11:56:35.411Z"
   },
   {
    "duration": 14,
    "start_time": "2022-02-18T11:56:35.827Z"
   },
   {
    "duration": 17,
    "start_time": "2022-02-18T11:56:35.843Z"
   },
   {
    "duration": 13,
    "start_time": "2022-02-18T11:56:35.861Z"
   },
   {
    "duration": 32,
    "start_time": "2022-02-18T11:56:35.876Z"
   },
   {
    "duration": 10,
    "start_time": "2022-02-18T11:56:35.910Z"
   },
   {
    "duration": 39,
    "start_time": "2022-02-18T11:56:35.923Z"
   },
   {
    "duration": 20,
    "start_time": "2022-02-18T11:56:35.965Z"
   },
   {
    "duration": 196,
    "start_time": "2022-02-18T11:56:35.987Z"
   },
   {
    "duration": 7,
    "start_time": "2022-02-18T11:56:36.186Z"
   },
   {
    "duration": 12,
    "start_time": "2022-02-18T11:56:36.195Z"
   },
   {
    "duration": 17,
    "start_time": "2022-02-18T11:56:36.209Z"
   },
   {
    "duration": 102,
    "start_time": "2022-02-18T11:56:36.228Z"
   },
   {
    "duration": 8,
    "start_time": "2022-02-18T11:56:36.332Z"
   },
   {
    "duration": 25,
    "start_time": "2022-02-18T11:56:36.342Z"
   },
   {
    "duration": 14,
    "start_time": "2022-02-18T11:56:36.369Z"
   },
   {
    "duration": 153,
    "start_time": "2022-02-18T11:56:36.385Z"
   },
   {
    "duration": 365,
    "start_time": "2022-02-18T11:56:36.540Z"
   },
   {
    "duration": 2,
    "start_time": "2022-02-18T11:56:36.908Z"
   },
   {
    "duration": 17,
    "start_time": "2022-02-18T11:56:36.912Z"
   },
   {
    "duration": 47,
    "start_time": "2022-02-18T11:56:36.931Z"
   },
   {
    "duration": 7,
    "start_time": "2022-02-18T11:56:36.982Z"
   },
   {
    "duration": 9,
    "start_time": "2022-02-18T11:56:36.991Z"
   },
   {
    "duration": 75,
    "start_time": "2022-02-18T11:56:37.003Z"
   },
   {
    "duration": 12,
    "start_time": "2022-02-18T11:56:37.080Z"
   },
   {
    "duration": 11,
    "start_time": "2022-02-18T11:56:37.094Z"
   },
   {
    "duration": 11,
    "start_time": "2022-02-18T11:56:37.108Z"
   },
   {
    "duration": 74,
    "start_time": "2022-02-18T11:56:37.121Z"
   },
   {
    "duration": 66,
    "start_time": "2022-02-18T11:56:37.197Z"
   },
   {
    "duration": 28,
    "start_time": "2022-02-18T11:56:37.265Z"
   },
   {
    "duration": 29,
    "start_time": "2022-02-18T11:56:37.295Z"
   },
   {
    "duration": 8,
    "start_time": "2022-02-18T11:56:37.325Z"
   },
   {
    "duration": 39,
    "start_time": "2022-02-18T11:56:37.358Z"
   },
   {
    "duration": 35,
    "start_time": "2022-02-18T11:56:37.399Z"
   },
   {
    "duration": 27,
    "start_time": "2022-02-18T11:56:37.436Z"
   },
   {
    "duration": 12,
    "start_time": "2022-02-18T11:56:37.464Z"
   },
   {
    "duration": 40,
    "start_time": "2022-02-18T11:56:37.478Z"
   },
   {
    "duration": 7,
    "start_time": "2022-02-18T11:56:37.520Z"
   },
   {
    "duration": 46,
    "start_time": "2022-02-18T11:56:37.528Z"
   },
   {
    "duration": 13,
    "start_time": "2022-02-18T11:56:37.576Z"
   },
   {
    "duration": 3,
    "start_time": "2022-02-18T11:56:37.590Z"
   },
   {
    "duration": 49,
    "start_time": "2022-02-18T11:56:37.594Z"
   },
   {
    "duration": 2,
    "start_time": "2022-02-18T11:56:37.645Z"
   },
   {
    "duration": 7,
    "start_time": "2022-02-18T11:56:37.658Z"
   },
   {
    "duration": 9,
    "start_time": "2022-02-18T11:56:37.667Z"
   },
   {
    "duration": 740,
    "start_time": "2022-02-18T11:56:37.678Z"
   },
   {
    "duration": 822,
    "start_time": "2022-02-18T11:56:38.420Z"
   },
   {
    "duration": 708,
    "start_time": "2022-02-18T11:56:39.244Z"
   },
   {
    "duration": 786,
    "start_time": "2022-02-18T11:56:39.954Z"
   },
   {
    "duration": 764,
    "start_time": "2022-02-18T11:56:40.741Z"
   },
   {
    "duration": 11,
    "start_time": "2022-02-18T11:56:41.507Z"
   },
   {
    "duration": 13,
    "start_time": "2022-02-18T11:56:41.520Z"
   },
   {
    "duration": 443,
    "start_time": "2022-02-18T11:56:41.559Z"
   },
   {
    "duration": 306,
    "start_time": "2022-02-18T11:56:42.004Z"
   },
   {
    "duration": 15,
    "start_time": "2022-02-18T11:56:42.312Z"
   },
   {
    "duration": 172,
    "start_time": "2022-02-18T11:56:42.329Z"
   },
   {
    "duration": 1102,
    "start_time": "2022-02-18T12:05:55.513Z"
   },
   {
    "duration": 412,
    "start_time": "2022-02-18T12:05:56.617Z"
   },
   {
    "duration": 17,
    "start_time": "2022-02-18T12:05:57.032Z"
   },
   {
    "duration": 33,
    "start_time": "2022-02-18T12:05:57.059Z"
   },
   {
    "duration": 49,
    "start_time": "2022-02-18T12:05:57.095Z"
   },
   {
    "duration": 45,
    "start_time": "2022-02-18T12:05:57.146Z"
   },
   {
    "duration": 17,
    "start_time": "2022-02-18T12:05:57.194Z"
   },
   {
    "duration": 38,
    "start_time": "2022-02-18T12:05:57.214Z"
   },
   {
    "duration": 36,
    "start_time": "2022-02-18T12:05:57.255Z"
   },
   {
    "duration": 190,
    "start_time": "2022-02-18T12:05:57.293Z"
   },
   {
    "duration": 8,
    "start_time": "2022-02-18T12:05:57.485Z"
   },
   {
    "duration": 29,
    "start_time": "2022-02-18T12:05:57.495Z"
   },
   {
    "duration": 26,
    "start_time": "2022-02-18T12:05:57.526Z"
   },
   {
    "duration": 124,
    "start_time": "2022-02-18T12:05:57.553Z"
   },
   {
    "duration": 10,
    "start_time": "2022-02-18T12:05:57.679Z"
   },
   {
    "duration": 50,
    "start_time": "2022-02-18T12:05:57.691Z"
   },
   {
    "duration": 61,
    "start_time": "2022-02-18T12:05:57.743Z"
   },
   {
    "duration": 158,
    "start_time": "2022-02-18T12:05:57.806Z"
   },
   {
    "duration": 401,
    "start_time": "2022-02-18T12:05:57.966Z"
   },
   {
    "duration": 15,
    "start_time": "2022-02-18T12:05:58.369Z"
   },
   {
    "duration": 28,
    "start_time": "2022-02-18T12:05:58.386Z"
   },
   {
    "duration": 66,
    "start_time": "2022-02-18T12:05:58.416Z"
   },
   {
    "duration": 18,
    "start_time": "2022-02-18T12:05:58.487Z"
   },
   {
    "duration": 32,
    "start_time": "2022-02-18T12:05:58.507Z"
   },
   {
    "duration": 86,
    "start_time": "2022-02-18T12:05:58.541Z"
   },
   {
    "duration": 10,
    "start_time": "2022-02-18T12:05:58.629Z"
   },
   {
    "duration": 23,
    "start_time": "2022-02-18T12:05:58.640Z"
   },
   {
    "duration": 39,
    "start_time": "2022-02-18T12:05:58.665Z"
   },
   {
    "duration": 86,
    "start_time": "2022-02-18T12:05:58.705Z"
   },
   {
    "duration": 51,
    "start_time": "2022-02-18T12:05:58.793Z"
   },
   {
    "duration": 37,
    "start_time": "2022-02-18T12:05:58.846Z"
   },
   {
    "duration": 26,
    "start_time": "2022-02-18T12:05:58.884Z"
   },
   {
    "duration": 15,
    "start_time": "2022-02-18T12:05:58.912Z"
   },
   {
    "duration": 61,
    "start_time": "2022-02-18T12:05:58.928Z"
   },
   {
    "duration": 47,
    "start_time": "2022-02-18T12:05:58.991Z"
   },
   {
    "duration": 10,
    "start_time": "2022-02-18T12:05:59.040Z"
   },
   {
    "duration": 20,
    "start_time": "2022-02-18T12:05:59.059Z"
   },
   {
    "duration": 54,
    "start_time": "2022-02-18T12:05:59.081Z"
   },
   {
    "duration": 6,
    "start_time": "2022-02-18T12:05:59.136Z"
   },
   {
    "duration": 39,
    "start_time": "2022-02-18T12:05:59.144Z"
   },
   {
    "duration": 35,
    "start_time": "2022-02-18T12:05:59.184Z"
   },
   {
    "duration": 14,
    "start_time": "2022-02-18T12:05:59.221Z"
   },
   {
    "duration": 65,
    "start_time": "2022-02-18T12:05:59.237Z"
   },
   {
    "duration": 19,
    "start_time": "2022-02-18T12:05:59.303Z"
   },
   {
    "duration": 30,
    "start_time": "2022-02-18T12:05:59.324Z"
   },
   {
    "duration": 21,
    "start_time": "2022-02-18T12:05:59.356Z"
   },
   {
    "duration": 811,
    "start_time": "2022-02-18T12:05:59.378Z"
   },
   {
    "duration": 847,
    "start_time": "2022-02-18T12:06:00.192Z"
   },
   {
    "duration": 717,
    "start_time": "2022-02-18T12:06:01.041Z"
   },
   {
    "duration": 737,
    "start_time": "2022-02-18T12:06:01.760Z"
   },
   {
    "duration": 774,
    "start_time": "2022-02-18T12:06:02.499Z"
   },
   {
    "duration": 10,
    "start_time": "2022-02-18T12:06:03.275Z"
   },
   {
    "duration": 16,
    "start_time": "2022-02-18T12:06:03.287Z"
   },
   {
    "duration": 442,
    "start_time": "2022-02-18T12:06:03.305Z"
   },
   {
    "duration": 315,
    "start_time": "2022-02-18T12:06:03.749Z"
   },
   {
    "duration": 14,
    "start_time": "2022-02-18T12:06:04.066Z"
   },
   {
    "duration": 165,
    "start_time": "2022-02-18T12:06:04.081Z"
   },
   {
    "duration": 58,
    "start_time": "2022-02-18T15:41:26.904Z"
   },
   {
    "duration": 59,
    "start_time": "2022-02-18T15:41:34.047Z"
   },
   {
    "duration": 56,
    "start_time": "2022-02-18T17:41:37.402Z"
   },
   {
    "duration": 4,
    "start_time": "2022-02-18T17:41:44.751Z"
   },
   {
    "duration": 213,
    "start_time": "2022-02-18T17:41:47.496Z"
   },
   {
    "duration": 173,
    "start_time": "2022-02-18T17:43:26.120Z"
   },
   {
    "duration": 1094,
    "start_time": "2022-02-18T17:43:38.472Z"
   },
   {
    "duration": 360,
    "start_time": "2022-02-18T17:43:39.568Z"
   },
   {
    "duration": 3,
    "start_time": "2022-02-18T17:43:39.930Z"
   },
   {
    "duration": 640,
    "start_time": "2022-02-18T17:43:39.935Z"
   },
   {
    "duration": 1589,
    "start_time": "2022-02-18T17:43:38.991Z"
   },
   {
    "duration": 1584,
    "start_time": "2022-02-18T17:43:38.997Z"
   },
   {
    "duration": 1578,
    "start_time": "2022-02-18T17:43:39.004Z"
   },
   {
    "duration": 1564,
    "start_time": "2022-02-18T17:43:39.019Z"
   },
   {
    "duration": 1558,
    "start_time": "2022-02-18T17:43:39.027Z"
   },
   {
    "duration": 1553,
    "start_time": "2022-02-18T17:43:39.033Z"
   },
   {
    "duration": 1546,
    "start_time": "2022-02-18T17:43:39.041Z"
   },
   {
    "duration": 1540,
    "start_time": "2022-02-18T17:43:39.048Z"
   },
   {
    "duration": 1534,
    "start_time": "2022-02-18T17:43:39.055Z"
   },
   {
    "duration": 1529,
    "start_time": "2022-02-18T17:43:39.061Z"
   },
   {
    "duration": 1523,
    "start_time": "2022-02-18T17:43:39.068Z"
   },
   {
    "duration": 1519,
    "start_time": "2022-02-18T17:43:39.074Z"
   },
   {
    "duration": 1513,
    "start_time": "2022-02-18T17:43:39.081Z"
   },
   {
    "duration": 1496,
    "start_time": "2022-02-18T17:43:39.099Z"
   },
   {
    "duration": 1389,
    "start_time": "2022-02-18T17:43:39.207Z"
   },
   {
    "duration": 1384,
    "start_time": "2022-02-18T17:43:39.214Z"
   },
   {
    "duration": 1377,
    "start_time": "2022-02-18T17:43:39.223Z"
   },
   {
    "duration": 1372,
    "start_time": "2022-02-18T17:43:39.229Z"
   },
   {
    "duration": 1368,
    "start_time": "2022-02-18T17:43:39.235Z"
   },
   {
    "duration": 1363,
    "start_time": "2022-02-18T17:43:39.241Z"
   },
   {
    "duration": 1357,
    "start_time": "2022-02-18T17:43:39.248Z"
   },
   {
    "duration": 1353,
    "start_time": "2022-02-18T17:43:39.254Z"
   },
   {
    "duration": 1347,
    "start_time": "2022-02-18T17:43:39.261Z"
   },
   {
    "duration": 1341,
    "start_time": "2022-02-18T17:43:39.268Z"
   },
   {
    "duration": 1332,
    "start_time": "2022-02-18T17:43:39.278Z"
   },
   {
    "duration": 1328,
    "start_time": "2022-02-18T17:43:39.284Z"
   },
   {
    "duration": 1322,
    "start_time": "2022-02-18T17:43:39.291Z"
   },
   {
    "duration": 1317,
    "start_time": "2022-02-18T17:43:39.297Z"
   },
   {
    "duration": 1301,
    "start_time": "2022-02-18T17:43:39.314Z"
   },
   {
    "duration": 1297,
    "start_time": "2022-02-18T17:43:39.319Z"
   },
   {
    "duration": 1235,
    "start_time": "2022-02-18T17:43:39.382Z"
   },
   {
    "duration": 1230,
    "start_time": "2022-02-18T17:43:39.388Z"
   },
   {
    "duration": 1223,
    "start_time": "2022-02-18T17:43:39.396Z"
   },
   {
    "duration": 1217,
    "start_time": "2022-02-18T17:43:39.402Z"
   },
   {
    "duration": 1212,
    "start_time": "2022-02-18T17:43:39.408Z"
   },
   {
    "duration": 1008,
    "start_time": "2022-02-18T17:43:39.613Z"
   },
   {
    "duration": 940,
    "start_time": "2022-02-18T17:43:39.690Z"
   },
   {
    "duration": 935,
    "start_time": "2022-02-18T17:43:39.696Z"
   },
   {
    "duration": 928,
    "start_time": "2022-02-18T17:43:39.703Z"
   },
   {
    "duration": 922,
    "start_time": "2022-02-18T17:43:39.710Z"
   },
   {
    "duration": 916,
    "start_time": "2022-02-18T17:43:39.717Z"
   },
   {
    "duration": 911,
    "start_time": "2022-02-18T17:43:39.723Z"
   },
   {
    "duration": 905,
    "start_time": "2022-02-18T17:43:39.730Z"
   },
   {
    "duration": 900,
    "start_time": "2022-02-18T17:43:39.736Z"
   },
   {
    "duration": 894,
    "start_time": "2022-02-18T17:43:39.742Z"
   },
   {
    "duration": 889,
    "start_time": "2022-02-18T17:43:39.748Z"
   },
   {
    "duration": 883,
    "start_time": "2022-02-18T17:43:39.755Z"
   },
   {
    "duration": 878,
    "start_time": "2022-02-18T17:43:39.761Z"
   },
   {
    "duration": 862,
    "start_time": "2022-02-18T17:43:39.778Z"
   },
   {
    "duration": 858,
    "start_time": "2022-02-18T17:43:39.783Z"
   },
   {
    "duration": 851,
    "start_time": "2022-02-18T17:43:39.791Z"
   },
   {
    "duration": 846,
    "start_time": "2022-02-18T17:43:39.797Z"
   },
   {
    "duration": 841,
    "start_time": "2022-02-18T17:43:39.803Z"
   },
   {
    "duration": 4,
    "start_time": "2022-02-18T17:44:30.125Z"
   },
   {
    "duration": 138,
    "start_time": "2022-02-18T17:44:34.009Z"
   },
   {
    "duration": 65,
    "start_time": "2022-02-18T17:47:08.896Z"
   },
   {
    "duration": 3,
    "start_time": "2022-02-18T17:47:19.515Z"
   },
   {
    "duration": 144,
    "start_time": "2022-02-18T17:47:23.162Z"
   },
   {
    "duration": 24,
    "start_time": "2022-02-18T17:48:15.809Z"
   },
   {
    "duration": 4,
    "start_time": "2022-02-18T17:51:34.540Z"
   },
   {
    "duration": 24,
    "start_time": "2022-02-18T17:51:40.803Z"
   },
   {
    "duration": 5,
    "start_time": "2022-02-18T17:53:39.344Z"
   },
   {
    "duration": 20,
    "start_time": "2022-02-18T17:53:41.886Z"
   },
   {
    "duration": 13,
    "start_time": "2022-02-18T17:54:08.379Z"
   },
   {
    "duration": 60,
    "start_time": "2022-02-18T17:57:22.162Z"
   },
   {
    "duration": 4,
    "start_time": "2022-02-18T17:57:29.694Z"
   },
   {
    "duration": 19,
    "start_time": "2022-02-18T17:57:32.681Z"
   },
   {
    "duration": 4,
    "start_time": "2022-02-18T17:58:09.053Z"
   },
   {
    "duration": 23,
    "start_time": "2022-02-18T17:58:12.093Z"
   },
   {
    "duration": 3,
    "start_time": "2022-02-18T17:59:08.709Z"
   },
   {
    "duration": 18,
    "start_time": "2022-02-18T17:59:11.232Z"
   },
   {
    "duration": 11,
    "start_time": "2022-02-18T18:00:04.487Z"
   },
   {
    "duration": 11,
    "start_time": "2022-02-18T18:00:10.167Z"
   },
   {
    "duration": 18,
    "start_time": "2022-02-18T18:00:40.606Z"
   },
   {
    "duration": 9,
    "start_time": "2022-02-18T18:02:51.232Z"
   },
   {
    "duration": 8,
    "start_time": "2022-02-18T18:02:55.423Z"
   },
   {
    "duration": 15,
    "start_time": "2022-02-18T18:02:59.296Z"
   },
   {
    "duration": 145,
    "start_time": "2022-02-18T18:03:46.145Z"
   },
   {
    "duration": 11,
    "start_time": "2022-02-18T18:04:34.733Z"
   },
   {
    "duration": 10,
    "start_time": "2022-02-18T18:04:38.446Z"
   },
   {
    "duration": 11,
    "start_time": "2022-02-18T18:04:42.223Z"
   },
   {
    "duration": 76,
    "start_time": "2022-02-18T18:05:01.814Z"
   },
   {
    "duration": 10,
    "start_time": "2022-02-18T18:05:13.693Z"
   },
   {
    "duration": 8,
    "start_time": "2022-02-18T18:05:17.514Z"
   },
   {
    "duration": 12,
    "start_time": "2022-02-18T18:05:20.778Z"
   },
   {
    "duration": 114,
    "start_time": "2022-02-18T18:05:44.416Z"
   },
   {
    "duration": 335,
    "start_time": "2022-02-18T18:05:50.937Z"
   },
   {
    "duration": 12,
    "start_time": "2022-02-18T18:06:03.895Z"
   },
   {
    "duration": 7,
    "start_time": "2022-02-18T18:06:11.380Z"
   },
   {
    "duration": 30,
    "start_time": "2022-02-18T18:06:34.126Z"
   },
   {
    "duration": 6,
    "start_time": "2022-02-18T18:06:57.901Z"
   },
   {
    "duration": 7,
    "start_time": "2022-02-18T18:07:04.359Z"
   },
   {
    "duration": 46,
    "start_time": "2022-02-18T18:07:09.157Z"
   },
   {
    "duration": 10,
    "start_time": "2022-02-18T18:07:18.715Z"
   },
   {
    "duration": 11,
    "start_time": "2022-02-18T18:07:29.818Z"
   },
   {
    "duration": 13,
    "start_time": "2022-02-18T18:07:35.230Z"
   },
   {
    "duration": 36,
    "start_time": "2022-02-18T18:07:40.889Z"
   },
   {
    "duration": 39,
    "start_time": "2022-02-18T18:07:44.287Z"
   },
   {
    "duration": 31,
    "start_time": "2022-02-18T18:07:55.051Z"
   },
   {
    "duration": 24,
    "start_time": "2022-02-18T18:08:08.411Z"
   },
   {
    "duration": 7,
    "start_time": "2022-02-18T18:08:11.208Z"
   },
   {
    "duration": 27,
    "start_time": "2022-02-18T18:08:18.897Z"
   },
   {
    "duration": 32,
    "start_time": "2022-02-18T18:08:23.549Z"
   },
   {
    "duration": 13,
    "start_time": "2022-02-18T18:08:29.825Z"
   },
   {
    "duration": 16,
    "start_time": "2022-02-18T18:08:34.571Z"
   },
   {
    "duration": 36,
    "start_time": "2022-02-18T18:08:57.640Z"
   },
   {
    "duration": 7,
    "start_time": "2022-02-18T18:09:07.057Z"
   },
   {
    "duration": 10,
    "start_time": "2022-02-18T18:14:46.976Z"
   },
   {
    "duration": 12,
    "start_time": "2022-02-18T18:14:52.593Z"
   },
   {
    "duration": 30,
    "start_time": "2022-02-18T18:14:57.731Z"
   },
   {
    "duration": 5,
    "start_time": "2022-02-18T18:15:06.593Z"
   },
   {
    "duration": 5,
    "start_time": "2022-02-18T18:15:10.300Z"
   },
   {
    "duration": 656,
    "start_time": "2022-02-18T18:15:14.653Z"
   },
   {
    "duration": 706,
    "start_time": "2022-02-18T18:15:24.785Z"
   },
   {
    "duration": 623,
    "start_time": "2022-02-18T18:15:31.400Z"
   },
   {
    "duration": 772,
    "start_time": "2022-02-18T18:15:36.627Z"
   },
   {
    "duration": 732,
    "start_time": "2022-02-18T18:15:41.718Z"
   },
   {
    "duration": 13,
    "start_time": "2022-02-18T18:15:51.473Z"
   },
   {
    "duration": 10,
    "start_time": "2022-02-18T18:16:00.537Z"
   },
   {
    "duration": 373,
    "start_time": "2022-02-18T18:16:05.188Z"
   },
   {
    "duration": 298,
    "start_time": "2022-02-18T18:16:10.444Z"
   },
   {
    "duration": 14,
    "start_time": "2022-02-18T18:16:14.961Z"
   },
   {
    "duration": 135,
    "start_time": "2022-02-18T18:16:18.550Z"
   },
   {
    "duration": 1076,
    "start_time": "2022-02-18T18:41:31.585Z"
   },
   {
    "duration": 375,
    "start_time": "2022-02-18T18:41:32.662Z"
   },
   {
    "duration": 3,
    "start_time": "2022-02-18T18:41:33.039Z"
   },
   {
    "duration": 18,
    "start_time": "2022-02-18T18:41:33.044Z"
   },
   {
    "duration": 10,
    "start_time": "2022-02-18T18:41:33.064Z"
   },
   {
    "duration": 11,
    "start_time": "2022-02-18T18:41:33.075Z"
   },
   {
    "duration": 21,
    "start_time": "2022-02-18T18:41:33.088Z"
   },
   {
    "duration": 27,
    "start_time": "2022-02-18T18:41:33.111Z"
   },
   {
    "duration": 8,
    "start_time": "2022-02-18T18:41:33.140Z"
   },
   {
    "duration": 15,
    "start_time": "2022-02-18T18:41:33.150Z"
   },
   {
    "duration": 176,
    "start_time": "2022-02-18T18:41:33.167Z"
   },
   {
    "duration": 7,
    "start_time": "2022-02-18T18:41:33.345Z"
   },
   {
    "duration": 10,
    "start_time": "2022-02-18T18:41:33.353Z"
   },
   {
    "duration": 12,
    "start_time": "2022-02-18T18:41:33.364Z"
   },
   {
    "duration": 90,
    "start_time": "2022-02-18T18:41:33.377Z"
   },
   {
    "duration": 7,
    "start_time": "2022-02-18T18:41:33.469Z"
   },
   {
    "duration": 9,
    "start_time": "2022-02-18T18:41:33.478Z"
   },
   {
    "duration": 11,
    "start_time": "2022-02-18T18:41:33.488Z"
   },
   {
    "duration": 142,
    "start_time": "2022-02-18T18:41:33.501Z"
   },
   {
    "duration": 341,
    "start_time": "2022-02-18T18:41:33.645Z"
   },
   {
    "duration": 12,
    "start_time": "2022-02-18T18:41:33.988Z"
   },
   {
    "duration": 8,
    "start_time": "2022-02-18T18:41:34.002Z"
   },
   {
    "duration": 31,
    "start_time": "2022-02-18T18:41:34.030Z"
   },
   {
    "duration": 6,
    "start_time": "2022-02-18T18:41:34.063Z"
   },
   {
    "duration": 9,
    "start_time": "2022-02-18T18:41:34.070Z"
   },
   {
    "duration": 68,
    "start_time": "2022-02-18T18:41:34.080Z"
   },
   {
    "duration": 10,
    "start_time": "2022-02-18T18:41:34.150Z"
   },
   {
    "duration": 9,
    "start_time": "2022-02-18T18:41:34.162Z"
   },
   {
    "duration": 9,
    "start_time": "2022-02-18T18:41:34.172Z"
   },
   {
    "duration": 58,
    "start_time": "2022-02-18T18:41:34.182Z"
   },
   {
    "duration": 39,
    "start_time": "2022-02-18T18:41:34.241Z"
   },
   {
    "duration": 26,
    "start_time": "2022-02-18T18:41:34.282Z"
   },
   {
    "duration": 39,
    "start_time": "2022-02-18T18:41:34.310Z"
   },
   {
    "duration": 7,
    "start_time": "2022-02-18T18:41:34.351Z"
   },
   {
    "duration": 30,
    "start_time": "2022-02-18T18:41:34.360Z"
   },
   {
    "duration": 58,
    "start_time": "2022-02-18T18:41:34.391Z"
   },
   {
    "duration": 9,
    "start_time": "2022-02-18T18:41:34.451Z"
   },
   {
    "duration": 10,
    "start_time": "2022-02-18T18:41:34.461Z"
   },
   {
    "duration": 57,
    "start_time": "2022-02-18T18:41:34.473Z"
   },
   {
    "duration": 6,
    "start_time": "2022-02-18T18:41:34.532Z"
   },
   {
    "duration": 10,
    "start_time": "2022-02-18T18:41:34.539Z"
   },
   {
    "duration": 12,
    "start_time": "2022-02-18T18:41:34.551Z"
   },
   {
    "duration": 29,
    "start_time": "2022-02-18T18:41:34.564Z"
   },
   {
    "duration": 4,
    "start_time": "2022-02-18T18:41:34.595Z"
   },
   {
    "duration": 34,
    "start_time": "2022-02-18T18:41:34.601Z"
   },
   {
    "duration": 686,
    "start_time": "2022-02-18T18:41:34.636Z"
   },
   {
    "duration": 741,
    "start_time": "2022-02-18T18:41:35.330Z"
   },
   {
    "duration": 642,
    "start_time": "2022-02-18T18:41:36.073Z"
   },
   {
    "duration": 679,
    "start_time": "2022-02-18T18:41:36.717Z"
   },
   {
    "duration": 689,
    "start_time": "2022-02-18T18:41:37.397Z"
   },
   {
    "duration": 10,
    "start_time": "2022-02-18T18:41:38.088Z"
   },
   {
    "duration": 10,
    "start_time": "2022-02-18T18:41:38.100Z"
   },
   {
    "duration": 404,
    "start_time": "2022-02-18T18:41:38.111Z"
   },
   {
    "duration": 285,
    "start_time": "2022-02-18T18:41:38.517Z"
   },
   {
    "duration": 27,
    "start_time": "2022-02-18T18:41:38.804Z"
   },
   {
    "duration": 150,
    "start_time": "2022-02-18T18:41:38.832Z"
   },
   {
    "duration": 1138,
    "start_time": "2022-02-19T12:56:32.940Z"
   },
   {
    "duration": 2373,
    "start_time": "2022-02-19T12:56:34.079Z"
   },
   {
    "duration": 3,
    "start_time": "2022-02-19T12:56:36.454Z"
   },
   {
    "duration": 13,
    "start_time": "2022-02-19T12:56:36.459Z"
   },
   {
    "duration": 9,
    "start_time": "2022-02-19T12:56:36.473Z"
   },
   {
    "duration": 11,
    "start_time": "2022-02-19T12:56:36.483Z"
   },
   {
    "duration": 18,
    "start_time": "2022-02-19T12:56:36.495Z"
   },
   {
    "duration": 32,
    "start_time": "2022-02-19T12:56:36.515Z"
   },
   {
    "duration": 8,
    "start_time": "2022-02-19T12:56:36.550Z"
   },
   {
    "duration": 14,
    "start_time": "2022-02-19T12:56:36.559Z"
   },
   {
    "duration": 172,
    "start_time": "2022-02-19T12:56:36.574Z"
   },
   {
    "duration": 7,
    "start_time": "2022-02-19T12:56:36.747Z"
   },
   {
    "duration": 9,
    "start_time": "2022-02-19T12:56:36.755Z"
   },
   {
    "duration": 13,
    "start_time": "2022-02-19T12:56:36.766Z"
   },
   {
    "duration": 81,
    "start_time": "2022-02-19T12:56:36.780Z"
   },
   {
    "duration": 7,
    "start_time": "2022-02-19T12:56:36.863Z"
   },
   {
    "duration": 10,
    "start_time": "2022-02-19T12:56:36.872Z"
   },
   {
    "duration": 12,
    "start_time": "2022-02-19T12:56:36.883Z"
   },
   {
    "duration": 120,
    "start_time": "2022-02-19T12:56:36.897Z"
   },
   {
    "duration": 306,
    "start_time": "2022-02-19T12:56:37.019Z"
   },
   {
    "duration": 21,
    "start_time": "2022-02-19T12:56:37.327Z"
   },
   {
    "duration": 7,
    "start_time": "2022-02-19T12:56:37.349Z"
   },
   {
    "duration": 26,
    "start_time": "2022-02-19T12:56:37.359Z"
   },
   {
    "duration": 5,
    "start_time": "2022-02-19T12:56:37.387Z"
   },
   {
    "duration": 9,
    "start_time": "2022-02-19T12:56:37.393Z"
   },
   {
    "duration": 69,
    "start_time": "2022-02-19T12:56:37.404Z"
   },
   {
    "duration": 9,
    "start_time": "2022-02-19T12:56:37.474Z"
   },
   {
    "duration": 9,
    "start_time": "2022-02-19T12:56:37.484Z"
   },
   {
    "duration": 8,
    "start_time": "2022-02-19T12:56:37.494Z"
   },
   {
    "duration": 57,
    "start_time": "2022-02-19T12:56:37.504Z"
   },
   {
    "duration": 36,
    "start_time": "2022-02-19T12:56:37.563Z"
   },
   {
    "duration": 25,
    "start_time": "2022-02-19T12:56:37.600Z"
   },
   {
    "duration": 38,
    "start_time": "2022-02-19T12:56:37.626Z"
   },
   {
    "duration": 6,
    "start_time": "2022-02-19T12:56:37.665Z"
   },
   {
    "duration": 32,
    "start_time": "2022-02-19T12:56:37.672Z"
   },
   {
    "duration": 27,
    "start_time": "2022-02-19T12:56:37.706Z"
   },
   {
    "duration": 12,
    "start_time": "2022-02-19T12:56:37.746Z"
   },
   {
    "duration": 10,
    "start_time": "2022-02-19T12:56:37.759Z"
   },
   {
    "duration": 33,
    "start_time": "2022-02-19T12:56:37.771Z"
   },
   {
    "duration": 6,
    "start_time": "2022-02-19T12:56:37.805Z"
   },
   {
    "duration": 37,
    "start_time": "2022-02-19T12:56:37.813Z"
   },
   {
    "duration": 10,
    "start_time": "2022-02-19T12:56:37.852Z"
   },
   {
    "duration": 26,
    "start_time": "2022-02-19T12:56:37.863Z"
   },
   {
    "duration": 4,
    "start_time": "2022-02-19T12:56:37.891Z"
   },
   {
    "duration": 7,
    "start_time": "2022-02-19T12:56:37.897Z"
   },
   {
    "duration": 607,
    "start_time": "2022-02-19T12:56:37.906Z"
   },
   {
    "duration": 670,
    "start_time": "2022-02-19T12:56:38.515Z"
   },
   {
    "duration": 568,
    "start_time": "2022-02-19T12:56:39.186Z"
   },
   {
    "duration": 600,
    "start_time": "2022-02-19T12:56:39.756Z"
   },
   {
    "duration": 611,
    "start_time": "2022-02-19T12:56:40.358Z"
   },
   {
    "duration": 8,
    "start_time": "2022-02-19T12:56:40.971Z"
   },
   {
    "duration": 12,
    "start_time": "2022-02-19T12:56:40.981Z"
   },
   {
    "duration": 378,
    "start_time": "2022-02-19T12:56:40.994Z"
   },
   {
    "duration": 259,
    "start_time": "2022-02-19T12:56:41.374Z"
   },
   {
    "duration": 18,
    "start_time": "2022-02-19T12:56:41.635Z"
   },
   {
    "duration": 130,
    "start_time": "2022-02-19T12:56:41.655Z"
   }
  ],
  "kernelspec": {
   "display_name": "Python 3 (ipykernel)",
   "language": "python",
   "name": "python3"
  },
  "language_info": {
   "codemirror_mode": {
    "name": "ipython",
    "version": 3
   },
   "file_extension": ".py",
   "mimetype": "text/x-python",
   "name": "python",
   "nbconvert_exporter": "python",
   "pygments_lexer": "ipython3",
   "version": "3.9.12"
  },
  "toc": {
   "base_numbering": 1,
   "nav_menu": {
    "height": "272px",
    "width": "492px"
   },
   "number_sections": true,
   "sideBar": true,
   "skip_h1_title": true,
   "title_cell": "Table of Contents",
   "title_sidebar": "Contents",
   "toc_cell": false,
   "toc_position": {
    "height": "calc(100% - 180px)",
    "left": "10px",
    "top": "150px",
    "width": "255.594px"
   },
   "toc_section_display": true,
   "toc_window_display": true
  }
 },
 "nbformat": 4,
 "nbformat_minor": 2
}
