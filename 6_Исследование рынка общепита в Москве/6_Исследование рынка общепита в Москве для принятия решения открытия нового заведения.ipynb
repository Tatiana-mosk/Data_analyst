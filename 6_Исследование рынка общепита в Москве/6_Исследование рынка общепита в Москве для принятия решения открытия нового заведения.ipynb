{
 "cells": [
  {
   "cell_type": "markdown",
   "metadata": {},
   "source": [
    "# Исследование рынка заведений общественного питания Москвы для принятия решения открытия нового заведения"
   ]
  },
  {
   "cell_type": "markdown",
   "metadata": {},
   "source": [
    "## Цель проекта"
   ]
  },
  {
   "cell_type": "markdown",
   "metadata": {},
   "source": [
    "Провести исследование рынка общественного питания города Москвы и определить перспективность открытия небольшого кафе в г. Москва с обслуживанием гостей роботами-официантами.\n",
    "\n",
    "\n"
   ]
  },
  {
   "cell_type": "markdown",
   "metadata": {},
   "source": [
    "## План проекта"
   ]
  },
  {
   "cell_type": "markdown",
   "metadata": {},
   "source": [
    "2.1. Изучение и предобработка данных\n",
    "\n",
    "- Обзор данных\n",
    "- Предобработка данных\n",
    "\n",
    "\n",
    "2.2. Исследовательский анализ данных\n",
    "\n",
    "- Исследование соотношения видов объектов общественного питания по количеству. Построение графика.\n",
    "- Исследование соотношения сетевых и несетевых заведений по количеству. Построение графика.\n",
    "- Определение для какого вида объекта общественного питания характерно сетевое распространение\n",
    "- Определение того, что характерно для сетевых заведений\n",
    "- Описание среднего количества посадочных мест для каждого вида объекта общественного питания¶\n",
    "- Выделение в отдельный столбец информации об улице из столбца address\n",
    "- Построение графика топ-10 улиц по количеству объектов общественного питания с использованием внешней информации\n",
    "- Определение числа улиц с одним объектом общественного питания с использованием внешней информации\n",
    "- Изучение распределения количества посадочных мест для улиц с большим количеством объектов общественного питания. Выявление закономерностей\n",
    "\n",
    "2.3. Вывод\n",
    "\n",
    "\n",
    "2.4. Презентация"
   ]
  },
  {
   "cell_type": "markdown",
   "metadata": {},
   "source": [
    "## Описание данных"
   ]
  },
  {
   "cell_type": "markdown",
   "metadata": {},
   "source": [
    "Таблица rest_data:\n",
    "\n",
    "id — идентификатор объекта;\n",
    "\n",
    "object_name — название объекта общественного питания;\n",
    "\n",
    "chain — сетевой ресторан;\n",
    "\n",
    "object_type — тип объекта общественного питания;\n",
    "\n",
    "address — адрес;\n",
    "\n",
    "number — количество посадочных мест\n"
   ]
  },
  {
   "cell_type": "markdown",
   "metadata": {},
   "source": [
    "## Изучение и предобработка данных"
   ]
  },
  {
   "cell_type": "markdown",
   "metadata": {},
   "source": [
    "### Обзор данных"
   ]
  },
  {
   "cell_type": "code",
   "execution_count": 1,
   "metadata": {},
   "outputs": [],
   "source": [
    "import pandas as pd\n",
    "import numpy as np\n",
    "from IPython.display import display\n",
    "import matplotlib.pyplot as plt\n",
    "import seaborn as sns\n",
    "import plotly.express as px\n",
    "from scipy import stats as st\n",
    "import string\n",
    "import requests\n",
    "import re\n",
    "%matplotlib inline\n",
    "pd.set_option('display.max_columns', 500)\n",
    "pd.options.mode.chained_assignment = None"
   ]
  },
  {
   "cell_type": "code",
   "execution_count": 2,
   "metadata": {
    "scrolled": false
   },
   "outputs": [
    {
     "data": {
      "text/html": [
       "<div>\n",
       "<style scoped>\n",
       "    .dataframe tbody tr th:only-of-type {\n",
       "        vertical-align: middle;\n",
       "    }\n",
       "\n",
       "    .dataframe tbody tr th {\n",
       "        vertical-align: top;\n",
       "    }\n",
       "\n",
       "    .dataframe thead th {\n",
       "        text-align: right;\n",
       "    }\n",
       "</style>\n",
       "<table border=\"1\" class=\"dataframe\">\n",
       "  <thead>\n",
       "    <tr style=\"text-align: right;\">\n",
       "      <th></th>\n",
       "      <th>id</th>\n",
       "      <th>object_name</th>\n",
       "      <th>chain</th>\n",
       "      <th>object_type</th>\n",
       "      <th>address</th>\n",
       "      <th>number</th>\n",
       "    </tr>\n",
       "  </thead>\n",
       "  <tbody>\n",
       "    <tr>\n",
       "      <th>12208</th>\n",
       "      <td>191646</td>\n",
       "      <td>259</td>\n",
       "      <td>нет</td>\n",
       "      <td>кафе</td>\n",
       "      <td>город Москва, Вятская улица, дом 41Г</td>\n",
       "      <td>24</td>\n",
       "    </tr>\n",
       "    <tr>\n",
       "      <th>1392</th>\n",
       "      <td>69174</td>\n",
       "      <td>Subway</td>\n",
       "      <td>да</td>\n",
       "      <td>предприятие быстрого обслуживания</td>\n",
       "      <td>город Москва, 3-я улица Ямского Поля, дом 13</td>\n",
       "      <td>35</td>\n",
       "    </tr>\n",
       "    <tr>\n",
       "      <th>2265</th>\n",
       "      <td>26471</td>\n",
       "      <td>Ресторан «КАБАНЧИК»</td>\n",
       "      <td>нет</td>\n",
       "      <td>ресторан</td>\n",
       "      <td>город Москва, улица Красина, дом 27, строение 1</td>\n",
       "      <td>260</td>\n",
       "    </tr>\n",
       "    <tr>\n",
       "      <th>10961</th>\n",
       "      <td>185893</td>\n",
       "      <td>МиЛя</td>\n",
       "      <td>нет</td>\n",
       "      <td>кафе</td>\n",
       "      <td>город Москва, Новоалексеевская улица, дом 12, ...</td>\n",
       "      <td>27</td>\n",
       "    </tr>\n",
       "    <tr>\n",
       "      <th>6760</th>\n",
       "      <td>144790</td>\n",
       "      <td>КАФЕ НА АЗС</td>\n",
       "      <td>нет</td>\n",
       "      <td>закусочная</td>\n",
       "      <td>город Москва, Волоколамское шоссе, дом 139, ст...</td>\n",
       "      <td>10</td>\n",
       "    </tr>\n",
       "    <tr>\n",
       "      <th>13722</th>\n",
       "      <td>208236</td>\n",
       "      <td>Kuzina</td>\n",
       "      <td>нет</td>\n",
       "      <td>кафе</td>\n",
       "      <td>город Москва, Братиславская улица, дом 13, кор...</td>\n",
       "      <td>8</td>\n",
       "    </tr>\n",
       "    <tr>\n",
       "      <th>1592</th>\n",
       "      <td>26993</td>\n",
       "      <td>Сосны</td>\n",
       "      <td>нет</td>\n",
       "      <td>ресторан</td>\n",
       "      <td>город Москва, 1-я линия Хорошёвского Серебряно...</td>\n",
       "      <td>30</td>\n",
       "    </tr>\n",
       "    <tr>\n",
       "      <th>888</th>\n",
       "      <td>76569</td>\n",
       "      <td>Brut Bar</td>\n",
       "      <td>нет</td>\n",
       "      <td>кафе</td>\n",
       "      <td>город Москва, Петровский бульвар, дом 17/1</td>\n",
       "      <td>45</td>\n",
       "    </tr>\n",
       "    <tr>\n",
       "      <th>8898</th>\n",
       "      <td>86794</td>\n",
       "      <td>Кафе «Баскин Роббинс»</td>\n",
       "      <td>да</td>\n",
       "      <td>кафе</td>\n",
       "      <td>город Москва, улица Мичуринский Проспект, Олим...</td>\n",
       "      <td>10</td>\n",
       "    </tr>\n",
       "    <tr>\n",
       "      <th>11962</th>\n",
       "      <td>94947</td>\n",
       "      <td>Восточный базар</td>\n",
       "      <td>да</td>\n",
       "      <td>ресторан</td>\n",
       "      <td>город Москва, Ходынский бульвар, дом 4</td>\n",
       "      <td>50</td>\n",
       "    </tr>\n",
       "    <tr>\n",
       "      <th>13947</th>\n",
       "      <td>217621</td>\n",
       "      <td>Сыроварня</td>\n",
       "      <td>нет</td>\n",
       "      <td>ресторан</td>\n",
       "      <td>город Москва, Усачёва улица, дом 26</td>\n",
       "      <td>20</td>\n",
       "    </tr>\n",
       "    <tr>\n",
       "      <th>490</th>\n",
       "      <td>125473</td>\n",
       "      <td>Бургер Кинг</td>\n",
       "      <td>да</td>\n",
       "      <td>предприятие быстрого обслуживания</td>\n",
       "      <td>город Москва, Краснодарская улица, дом 51, кор...</td>\n",
       "      <td>50</td>\n",
       "    </tr>\n",
       "    <tr>\n",
       "      <th>13362</th>\n",
       "      <td>192986</td>\n",
       "      <td>Папа Джонс</td>\n",
       "      <td>да</td>\n",
       "      <td>кафе</td>\n",
       "      <td>город Москва, Бакунинская улица, дом 23-41</td>\n",
       "      <td>26</td>\n",
       "    </tr>\n",
       "    <tr>\n",
       "      <th>14528</th>\n",
       "      <td>222792</td>\n",
       "      <td>Профессор Пуф</td>\n",
       "      <td>нет</td>\n",
       "      <td>кафе</td>\n",
       "      <td>город Москва, Мытная улица, дом 74</td>\n",
       "      <td>0</td>\n",
       "    </tr>\n",
       "    <tr>\n",
       "      <th>5507</th>\n",
       "      <td>151271</td>\n",
       "      <td>Столовая ХХI века</td>\n",
       "      <td>нет</td>\n",
       "      <td>столовая</td>\n",
       "      <td>город Москва, Тагильская улица, дом 4, строение 5</td>\n",
       "      <td>16</td>\n",
       "    </tr>\n",
       "    <tr>\n",
       "      <th>3782</th>\n",
       "      <td>153252</td>\n",
       "      <td>Булкер</td>\n",
       "      <td>нет</td>\n",
       "      <td>кафе</td>\n",
       "      <td>город Москва, Зубовский бульвар, дом 21-23, ст...</td>\n",
       "      <td>60</td>\n",
       "    </tr>\n",
       "    <tr>\n",
       "      <th>814</th>\n",
       "      <td>146109</td>\n",
       "      <td>Прайм стар</td>\n",
       "      <td>да</td>\n",
       "      <td>кафе</td>\n",
       "      <td>город Москва, улица Большая Ордынка, дом 7</td>\n",
       "      <td>38</td>\n",
       "    </tr>\n",
       "    <tr>\n",
       "      <th>5642</th>\n",
       "      <td>26870</td>\n",
       "      <td>Макдоналдс</td>\n",
       "      <td>да</td>\n",
       "      <td>предприятие быстрого обслуживания</td>\n",
       "      <td>город Москва, шоссе Энтузиастов, владение 63, ...</td>\n",
       "      <td>43</td>\n",
       "    </tr>\n",
       "    <tr>\n",
       "      <th>8267</th>\n",
       "      <td>93427</td>\n",
       "      <td>Бургер Кинг</td>\n",
       "      <td>да</td>\n",
       "      <td>предприятие быстрого обслуживания</td>\n",
       "      <td>город Москва, Верхняя Красносельская улица, до...</td>\n",
       "      <td>10</td>\n",
       "    </tr>\n",
       "    <tr>\n",
       "      <th>10769</th>\n",
       "      <td>173631</td>\n",
       "      <td>ВЕРАНДА 7.1</td>\n",
       "      <td>нет</td>\n",
       "      <td>ресторан</td>\n",
       "      <td>город Москва, Лесная улица, дом 20, строение 4</td>\n",
       "      <td>95</td>\n",
       "    </tr>\n",
       "  </tbody>\n",
       "</table>\n",
       "</div>"
      ],
      "text/plain": [
       "           id            object_name chain                        object_type  \\\n",
       "12208  191646                    259   нет                               кафе   \n",
       "1392    69174                 Subway    да  предприятие быстрого обслуживания   \n",
       "2265    26471    Ресторан «КАБАНЧИК»   нет                           ресторан   \n",
       "10961  185893                   МиЛя   нет                               кафе   \n",
       "6760   144790            КАФЕ НА АЗС   нет                         закусочная   \n",
       "13722  208236                 Kuzina   нет                               кафе   \n",
       "1592    26993                  Сосны   нет                           ресторан   \n",
       "888     76569               Brut Bar   нет                               кафе   \n",
       "8898    86794  Кафе «Баскин Роббинс»    да                               кафе   \n",
       "11962   94947        Восточный базар    да                           ресторан   \n",
       "13947  217621              Сыроварня   нет                           ресторан   \n",
       "490    125473            Бургер Кинг    да  предприятие быстрого обслуживания   \n",
       "13362  192986             Папа Джонс    да                               кафе   \n",
       "14528  222792          Профессор Пуф   нет                               кафе   \n",
       "5507   151271      Столовая ХХI века   нет                           столовая   \n",
       "3782   153252                 Булкер   нет                               кафе   \n",
       "814    146109             Прайм стар    да                               кафе   \n",
       "5642    26870             Макдоналдс    да  предприятие быстрого обслуживания   \n",
       "8267    93427            Бургер Кинг    да  предприятие быстрого обслуживания   \n",
       "10769  173631            ВЕРАНДА 7.1   нет                           ресторан   \n",
       "\n",
       "                                                 address  number  \n",
       "12208               город Москва, Вятская улица, дом 41Г      24  \n",
       "1392        город Москва, 3-я улица Ямского Поля, дом 13      35  \n",
       "2265     город Москва, улица Красина, дом 27, строение 1     260  \n",
       "10961  город Москва, Новоалексеевская улица, дом 12, ...      27  \n",
       "6760   город Москва, Волоколамское шоссе, дом 139, ст...      10  \n",
       "13722  город Москва, Братиславская улица, дом 13, кор...       8  \n",
       "1592   город Москва, 1-я линия Хорошёвского Серебряно...      30  \n",
       "888           город Москва, Петровский бульвар, дом 17/1      45  \n",
       "8898   город Москва, улица Мичуринский Проспект, Олим...      10  \n",
       "11962             город Москва, Ходынский бульвар, дом 4      50  \n",
       "13947                город Москва, Усачёва улица, дом 26      20  \n",
       "490    город Москва, Краснодарская улица, дом 51, кор...      50  \n",
       "13362         город Москва, Бакунинская улица, дом 23-41      26  \n",
       "14528                 город Москва, Мытная улица, дом 74       0  \n",
       "5507   город Москва, Тагильская улица, дом 4, строение 5      16  \n",
       "3782   город Москва, Зубовский бульвар, дом 21-23, ст...      60  \n",
       "814           город Москва, улица Большая Ордынка, дом 7      38  \n",
       "5642   город Москва, шоссе Энтузиастов, владение 63, ...      43  \n",
       "8267   город Москва, Верхняя Красносельская улица, до...      10  \n",
       "10769     город Москва, Лесная улица, дом 20, строение 4      95  "
      ]
     },
     "metadata": {},
     "output_type": "display_data"
    },
    {
     "name": "stdout",
     "output_type": "stream",
     "text": [
      "**************************************************\n",
      "<class 'pandas.core.frame.DataFrame'>\n",
      "RangeIndex: 15366 entries, 0 to 15365\n",
      "Data columns (total 6 columns):\n",
      " #   Column       Non-Null Count  Dtype \n",
      "---  ------       --------------  ----- \n",
      " 0   id           15366 non-null  int64 \n",
      " 1   object_name  15366 non-null  object\n",
      " 2   chain        15366 non-null  object\n",
      " 3   object_type  15366 non-null  object\n",
      " 4   address      15366 non-null  object\n",
      " 5   number       15366 non-null  int64 \n",
      "dtypes: int64(2), object(4)\n",
      "memory usage: 720.4+ KB\n",
      "**************************************************\n",
      "Дубликатов: 0\n",
      "**************************************************\n"
     ]
    },
    {
     "data": {
      "text/plain": [
       "array(['нет', 'да'], dtype=object)"
      ]
     },
     "metadata": {},
     "output_type": "display_data"
    },
    {
     "name": "stdout",
     "output_type": "stream",
     "text": [
      "**************************************************\n"
     ]
    },
    {
     "data": {
      "text/plain": [
       "array(['кафе', 'столовая', 'закусочная',\n",
       "       'предприятие быстрого обслуживания', 'ресторан', 'кафетерий',\n",
       "       'буфет', 'бар', 'магазин (отдел кулинарии)'], dtype=object)"
      ]
     },
     "metadata": {},
     "output_type": "display_data"
    }
   ],
   "source": [
    "# прочитаем датасет, посмотрим общую информацию, проверим на пропуски, дубликаты, уникальные названия\n",
    "df = pd.read_csv('/datasets/......csv')\n",
    "\n",
    "display(df.sample(n=20, random_state=123))\n",
    "print('*'*50)\n",
    "df.info()\n",
    "print('*'*50)\n",
    "#print('Пропусков:', df.isna().sum())\n",
    "\n",
    "print('Дубликатов:', df.duplicated().sum())\n",
    "print('*'*50)\n",
    "display(df['chain'].unique())\n",
    "print('*'*50)\n",
    "display(df['object_type'].unique())"
   ]
  },
  {
   "cell_type": "code",
   "execution_count": 3,
   "metadata": {},
   "outputs": [
    {
     "data": {
      "text/plain": [
       "id      object_name  chain  object_type                        address                                                                  number\n",
       "20410   СЕРДОЛИК-Ю   нет    бар                                город Москва, Профсоюзная улица, дом 61А                                 0         1\n",
       "200752  Выпечка      нет    закусочная                         город Москва, Старый Петровско-Разумовский проезд, дом 1/23, строение 1  0         1\n",
       "200997  Закусочная   нет    закусочная                         город Москва, Люблинская улица, дом 112, строение 3                      0         1\n",
       "200792  ШАУРМА       нет    предприятие быстрого обслуживания  город Москва, Профсоюзная улица, дом 2/22                                0         1\n",
       "200773  Донеретто    нет    закусочная                         город Москва, Уральская улица, дом 1                                     0         1\n",
       "                                                                                                                                                 ..\n",
       "173532  Fresh bar    нет    предприятие быстрого обслуживания  город Москва, Комсомольская площадь, дом 6, сооружение 1                 0         1\n",
       "173466  Кафе Шаурма  нет    кафе                               город Москва, улица Орджоникидзе, дом 11, строение 4                     0         1\n",
       "173441  Пекарня      нет    предприятие быстрого обслуживания  город Москва, улица Москворечье, дом 23                                  0         1\n",
       "173423  Теремок      да     предприятие быстрого обслуживания  город Москва, Комсомольская площадь, дом 6, сооружение 1                 0         1\n",
       "223439  Донер Кебаб  нет    предприятие быстрого обслуживания  город Москва, Ленинский проспект, дом 39/1                               0         1\n",
       "Length: 1621, dtype: int64"
      ]
     },
     "metadata": {},
     "output_type": "display_data"
    }
   ],
   "source": [
    "# проверим сколько объектов имеют количество мест равным нулю\n",
    "zero_number = df.query('number == 0').value_counts()\n",
    "display(zero_number)"
   ]
  },
  {
   "cell_type": "markdown",
   "metadata": {},
   "source": [
    "Вывод:\n",
    "\n",
    "\n",
    "- Всего в данных 15366 строк о заведениях Москвы.\n",
    "- Полных дубликатов нет. \n",
    "- Пропусков нет.\n",
    "- Целесообразно привести к нижнему регистру названия, адрес и тип объектов, заменить 'ё' на 'е', и затем еще  раз проверить на дубликаты\n",
    "- Видим объекты общественного питания с количеством посадочных мест равным нулю, их количество 1621 ед. (около 11 % от общего количества объектов). Скорее всего это заведения работают  только на доставку, самовывоз. Поэтому удалять их не будем, они могут пригодиться для дальнейшего анализа."
   ]
  },
  {
   "cell_type": "markdown",
   "metadata": {},
   "source": [
    "### Предобработка данных"
   ]
  },
  {
   "cell_type": "code",
   "execution_count": 4,
   "metadata": {},
   "outputs": [
    {
     "data": {
      "text/html": [
       "<div>\n",
       "<style scoped>\n",
       "    .dataframe tbody tr th:only-of-type {\n",
       "        vertical-align: middle;\n",
       "    }\n",
       "\n",
       "    .dataframe tbody tr th {\n",
       "        vertical-align: top;\n",
       "    }\n",
       "\n",
       "    .dataframe thead th {\n",
       "        text-align: right;\n",
       "    }\n",
       "</style>\n",
       "<table border=\"1\" class=\"dataframe\">\n",
       "  <thead>\n",
       "    <tr style=\"text-align: right;\">\n",
       "      <th></th>\n",
       "      <th>id</th>\n",
       "      <th>object_name</th>\n",
       "      <th>chain</th>\n",
       "      <th>object_type</th>\n",
       "      <th>address</th>\n",
       "      <th>number</th>\n",
       "    </tr>\n",
       "  </thead>\n",
       "  <tbody>\n",
       "    <tr>\n",
       "      <th>5973</th>\n",
       "      <td>134575</td>\n",
       "      <td>kfc</td>\n",
       "      <td>да</td>\n",
       "      <td>предприятие быстрого обслуживания</td>\n",
       "      <td>город москва, поречная улица, дом 10</td>\n",
       "      <td>0</td>\n",
       "    </tr>\n",
       "    <tr>\n",
       "      <th>6671</th>\n",
       "      <td>139499</td>\n",
       "      <td>dunkin donuts (азия box - бургер box)</td>\n",
       "      <td>нет</td>\n",
       "      <td>ресторан</td>\n",
       "      <td>город москва, площадь киевского вокзала, дом 2</td>\n",
       "      <td>50</td>\n",
       "    </tr>\n",
       "    <tr>\n",
       "      <th>5083</th>\n",
       "      <td>29252</td>\n",
       "      <td>столовая 1908</td>\n",
       "      <td>нет</td>\n",
       "      <td>столовая</td>\n",
       "      <td>город москва, привольная улица, дом 41</td>\n",
       "      <td>200</td>\n",
       "    </tr>\n",
       "    <tr>\n",
       "      <th>11877</th>\n",
       "      <td>181686</td>\n",
       "      <td>суши wok</td>\n",
       "      <td>да</td>\n",
       "      <td>предприятие быстрого обслуживания</td>\n",
       "      <td>город москва, 9-я парковая улица, дом 59, корп...</td>\n",
       "      <td>3</td>\n",
       "    </tr>\n",
       "    <tr>\n",
       "      <th>9542</th>\n",
       "      <td>164788</td>\n",
       "      <td>пиццерия</td>\n",
       "      <td>нет</td>\n",
       "      <td>предприятие быстрого обслуживания</td>\n",
       "      <td>город москва, домодедовская улица, дом 28</td>\n",
       "      <td>0</td>\n",
       "    </tr>\n",
       "    <tr>\n",
       "      <th>8633</th>\n",
       "      <td>79988</td>\n",
       "      <td>пицца экспресс</td>\n",
       "      <td>да</td>\n",
       "      <td>предприятие быстрого обслуживания</td>\n",
       "      <td>город москва, город щербинка, симферопольское ...</td>\n",
       "      <td>9</td>\n",
       "    </tr>\n",
       "    <tr>\n",
       "      <th>8149</th>\n",
       "      <td>26077</td>\n",
       "      <td>m cafe хинкальная</td>\n",
       "      <td>да</td>\n",
       "      <td>ресторан</td>\n",
       "      <td>город москва, большой саввинский переулок, дом...</td>\n",
       "      <td>150</td>\n",
       "    </tr>\n",
       "    <tr>\n",
       "      <th>7576</th>\n",
       "      <td>29332</td>\n",
       "      <td>школа 420</td>\n",
       "      <td>нет</td>\n",
       "      <td>столовая</td>\n",
       "      <td>город москва, шипиловская улица, дом 18, корпус 2</td>\n",
       "      <td>75</td>\n",
       "    </tr>\n",
       "    <tr>\n",
       "      <th>4636</th>\n",
       "      <td>28903</td>\n",
       "      <td>столовая гоу сош № 499</td>\n",
       "      <td>нет</td>\n",
       "      <td>столовая</td>\n",
       "      <td>город москва, батайский проезд, дом 23</td>\n",
       "      <td>240</td>\n",
       "    </tr>\n",
       "    <tr>\n",
       "      <th>14984</th>\n",
       "      <td>213210</td>\n",
       "      <td>бар «винный бар»</td>\n",
       "      <td>нет</td>\n",
       "      <td>бар</td>\n",
       "      <td>город москва, улица сергея макеева, дом 9, кор...</td>\n",
       "      <td>46</td>\n",
       "    </tr>\n",
       "  </tbody>\n",
       "</table>\n",
       "</div>"
      ],
      "text/plain": [
       "           id                            object_name chain  \\\n",
       "5973   134575                                    kfc    да   \n",
       "6671   139499  dunkin donuts (азия box - бургер box)   нет   \n",
       "5083    29252                          столовая 1908   нет   \n",
       "11877  181686                               суши wok    да   \n",
       "9542   164788                               пиццерия   нет   \n",
       "8633    79988                         пицца экспресс    да   \n",
       "8149    26077                      m cafe хинкальная    да   \n",
       "7576    29332                              школа 420   нет   \n",
       "4636    28903                 столовая гоу сош № 499   нет   \n",
       "14984  213210                       бар «винный бар»   нет   \n",
       "\n",
       "                             object_type  \\\n",
       "5973   предприятие быстрого обслуживания   \n",
       "6671                            ресторан   \n",
       "5083                            столовая   \n",
       "11877  предприятие быстрого обслуживания   \n",
       "9542   предприятие быстрого обслуживания   \n",
       "8633   предприятие быстрого обслуживания   \n",
       "8149                            ресторан   \n",
       "7576                            столовая   \n",
       "4636                            столовая   \n",
       "14984                                бар   \n",
       "\n",
       "                                                 address  number  \n",
       "5973                город москва, поречная улица, дом 10       0  \n",
       "6671      город москва, площадь киевского вокзала, дом 2      50  \n",
       "5083              город москва, привольная улица, дом 41     200  \n",
       "11877  город москва, 9-я парковая улица, дом 59, корп...       3  \n",
       "9542           город москва, домодедовская улица, дом 28       0  \n",
       "8633   город москва, город щербинка, симферопольское ...       9  \n",
       "8149   город москва, большой саввинский переулок, дом...     150  \n",
       "7576   город москва, шипиловская улица, дом 18, корпус 2      75  \n",
       "4636              город москва, батайский проезд, дом 23     240  \n",
       "14984  город москва, улица сергея макеева, дом 9, кор...      46  "
      ]
     },
     "metadata": {},
     "output_type": "display_data"
    }
   ],
   "source": [
    "# приводим к нижнему регистру поля 'object_name', 'object_type', 'address', заменим 'ё' на 'е'\n",
    "# проверим результат\n",
    "df['object_name'] = df['object_name'].str.lower()\n",
    "df['object_type'] = df['object_type'].str.lower()\n",
    "df['address'] = df['address'].str.lower()\n",
    "df['address'] = df['address'].str.replace('ё','е') \n",
    "df['object_name'] = df['object_name'].str.strip()  # удаляем пробельные символы в начале и в конце строки названия объекта\n",
    "display(df.sample(10))"
   ]
  },
  {
   "cell_type": "code",
   "execution_count": 5,
   "metadata": {},
   "outputs": [
    {
     "data": {
      "text/plain": [
       "0"
      ]
     },
     "execution_count": 5,
     "metadata": {},
     "output_type": "execute_result"
    }
   ],
   "source": [
    "# еще раз проверим наличие дубликатов\n",
    "df.duplicated().sum()"
   ]
  },
  {
   "cell_type": "code",
   "execution_count": 6,
   "metadata": {},
   "outputs": [
    {
     "data": {
      "text/plain": [
       "85"
      ]
     },
     "execution_count": 6,
     "metadata": {},
     "output_type": "execute_result"
    }
   ],
   "source": [
    "# удалим столбец 'id' и проверим на дубликаты\n",
    "df_one = df.drop(['id'], axis=1)\n",
    "df_one.duplicated().sum()"
   ]
  },
  {
   "cell_type": "code",
   "execution_count": 7,
   "metadata": {},
   "outputs": [
    {
     "data": {
      "text/plain": [
       "0"
      ]
     },
     "execution_count": 7,
     "metadata": {},
     "output_type": "execute_result"
    }
   ],
   "source": [
    "# удаляем дубликаты и проверим\n",
    "df = df_one.drop_duplicates().reset_index(drop=True)\n",
    "df.duplicated().sum()"
   ]
  },
  {
   "cell_type": "code",
   "execution_count": 8,
   "metadata": {
    "scrolled": true
   },
   "outputs": [
    {
     "data": {
      "text/html": [
       "<div>\n",
       "<style scoped>\n",
       "    .dataframe tbody tr th:only-of-type {\n",
       "        vertical-align: middle;\n",
       "    }\n",
       "\n",
       "    .dataframe tbody tr th {\n",
       "        vertical-align: top;\n",
       "    }\n",
       "\n",
       "    .dataframe thead th {\n",
       "        text-align: right;\n",
       "    }\n",
       "</style>\n",
       "<table border=\"1\" class=\"dataframe\">\n",
       "  <thead>\n",
       "    <tr style=\"text-align: right;\">\n",
       "      <th></th>\n",
       "      <th>object_name</th>\n",
       "      <th>chain</th>\n",
       "      <th>object_type</th>\n",
       "      <th>address</th>\n",
       "      <th>number</th>\n",
       "    </tr>\n",
       "  </thead>\n",
       "  <tbody>\n",
       "    <tr>\n",
       "      <th>0</th>\n",
       "      <td>сметана</td>\n",
       "      <td>False</td>\n",
       "      <td>кафе</td>\n",
       "      <td>город москва, улица егора абакумова, дом 9</td>\n",
       "      <td>48</td>\n",
       "    </tr>\n",
       "    <tr>\n",
       "      <th>1</th>\n",
       "      <td>родник</td>\n",
       "      <td>False</td>\n",
       "      <td>кафе</td>\n",
       "      <td>город москва, улица талалихина, дом 2/1, корпус 1</td>\n",
       "      <td>35</td>\n",
       "    </tr>\n",
       "    <tr>\n",
       "      <th>2</th>\n",
       "      <td>кафе «академия»</td>\n",
       "      <td>False</td>\n",
       "      <td>кафе</td>\n",
       "      <td>город москва, абельмановская улица, дом 6</td>\n",
       "      <td>95</td>\n",
       "    </tr>\n",
       "    <tr>\n",
       "      <th>3</th>\n",
       "      <td>пиццетория</td>\n",
       "      <td>True</td>\n",
       "      <td>кафе</td>\n",
       "      <td>город москва, абрамцевская улица, дом 1</td>\n",
       "      <td>40</td>\n",
       "    </tr>\n",
       "    <tr>\n",
       "      <th>4</th>\n",
       "      <td>кафе «вишневая метель»</td>\n",
       "      <td>False</td>\n",
       "      <td>кафе</td>\n",
       "      <td>город москва, абрамцевская улица, дом 9, корпус 1</td>\n",
       "      <td>50</td>\n",
       "    </tr>\n",
       "  </tbody>\n",
       "</table>\n",
       "</div>"
      ],
      "text/plain": [
       "              object_name  chain object_type  \\\n",
       "0                 сметана  False        кафе   \n",
       "1                  родник  False        кафе   \n",
       "2         кафе «академия»  False        кафе   \n",
       "3              пиццетория   True        кафе   \n",
       "4  кафе «вишневая метель»  False        кафе   \n",
       "\n",
       "                                             address  number  \n",
       "0         город москва, улица егора абакумова, дом 9      48  \n",
       "1  город москва, улица талалихина, дом 2/1, корпус 1      35  \n",
       "2          город москва, абельмановская улица, дом 6      95  \n",
       "3            город москва, абрамцевская улица, дом 1      40  \n",
       "4  город москва, абрамцевская улица, дом 9, корпус 1      50  "
      ]
     },
     "metadata": {},
     "output_type": "display_data"
    },
    {
     "name": "stdout",
     "output_type": "stream",
     "text": [
      "<class 'pandas.core.frame.DataFrame'>\n",
      "RangeIndex: 15281 entries, 0 to 15280\n",
      "Data columns (total 5 columns):\n",
      " #   Column       Non-Null Count  Dtype \n",
      "---  ------       --------------  ----- \n",
      " 0   object_name  15281 non-null  object\n",
      " 1   chain        15281 non-null  bool  \n",
      " 2   object_type  15281 non-null  object\n",
      " 3   address      15281 non-null  object\n",
      " 4   number       15281 non-null  int64 \n",
      "dtypes: bool(1), int64(1), object(3)\n",
      "memory usage: 492.6+ KB\n",
      "None\n"
     ]
    }
   ],
   "source": [
    "# Приведём поле 'chain' к логическому типу данных:\n",
    "\n",
    "df['chain'] = df['chain'].map({'да': True, 'нет': False})\n",
    "display(df.head(5))\n",
    "print(df.info())"
   ]
  },
  {
   "cell_type": "markdown",
   "metadata": {},
   "source": [
    "Вывод:\n",
    "\n",
    "Привели к нижнему регистру названия, адрес и тип объектов, заменили в адресе 'ё' на 'е', удалили пробельные символы в начале и в конце строки названия объекта и еще раз проверили на дубликаты. Дубликаты не обнаружили. Хорошо. Для удобства дальнейшей работы с данными тип поля \"chain\"  заменили на boolean.  Теперь можно приступать к исследованию."
   ]
  },
  {
   "cell_type": "markdown",
   "metadata": {},
   "source": [
    "## Исследовательский анализ данных"
   ]
  },
  {
   "cell_type": "markdown",
   "metadata": {},
   "source": [
    "### Исследование соотношения видов объектов общественного питания по количеству. Построение графика."
   ]
  },
  {
   "cell_type": "code",
   "execution_count": 9,
   "metadata": {},
   "outputs": [
    {
     "data": {
      "text/html": [
       "<div>\n",
       "<style scoped>\n",
       "    .dataframe tbody tr th:only-of-type {\n",
       "        vertical-align: middle;\n",
       "    }\n",
       "\n",
       "    .dataframe tbody tr th {\n",
       "        vertical-align: top;\n",
       "    }\n",
       "\n",
       "    .dataframe thead th {\n",
       "        text-align: right;\n",
       "    }\n",
       "</style>\n",
       "<table border=\"1\" class=\"dataframe\">\n",
       "  <thead>\n",
       "    <tr style=\"text-align: right;\">\n",
       "      <th></th>\n",
       "      <th>object_type</th>\n",
       "      <th>count</th>\n",
       "      <th>number</th>\n",
       "      <th>percent</th>\n",
       "    </tr>\n",
       "  </thead>\n",
       "  <tbody>\n",
       "    <tr>\n",
       "      <th>0</th>\n",
       "      <td>кафе</td>\n",
       "      <td>6071</td>\n",
       "      <td>40</td>\n",
       "      <td>40.0%</td>\n",
       "    </tr>\n",
       "    <tr>\n",
       "      <th>1</th>\n",
       "      <td>столовая</td>\n",
       "      <td>2584</td>\n",
       "      <td>130</td>\n",
       "      <td>17.0%</td>\n",
       "    </tr>\n",
       "    <tr>\n",
       "      <th>2</th>\n",
       "      <td>ресторан</td>\n",
       "      <td>2282</td>\n",
       "      <td>97</td>\n",
       "      <td>15.0%</td>\n",
       "    </tr>\n",
       "    <tr>\n",
       "      <th>3</th>\n",
       "      <td>предприятие быстрого обслуживания</td>\n",
       "      <td>1897</td>\n",
       "      <td>21</td>\n",
       "      <td>12.0%</td>\n",
       "    </tr>\n",
       "    <tr>\n",
       "      <th>4</th>\n",
       "      <td>бар</td>\n",
       "      <td>855</td>\n",
       "      <td>44</td>\n",
       "      <td>6.0%</td>\n",
       "    </tr>\n",
       "    <tr>\n",
       "      <th>5</th>\n",
       "      <td>буфет</td>\n",
       "      <td>576</td>\n",
       "      <td>51</td>\n",
       "      <td>4.0%</td>\n",
       "    </tr>\n",
       "    <tr>\n",
       "      <th>6</th>\n",
       "      <td>кафетерий</td>\n",
       "      <td>395</td>\n",
       "      <td>9</td>\n",
       "      <td>3.0%</td>\n",
       "    </tr>\n",
       "    <tr>\n",
       "      <th>7</th>\n",
       "      <td>закусочная</td>\n",
       "      <td>348</td>\n",
       "      <td>8</td>\n",
       "      <td>2.0%</td>\n",
       "    </tr>\n",
       "    <tr>\n",
       "      <th>8</th>\n",
       "      <td>магазин (отдел кулинарии)</td>\n",
       "      <td>273</td>\n",
       "      <td>6</td>\n",
       "      <td>2.0%</td>\n",
       "    </tr>\n",
       "  </tbody>\n",
       "</table>\n",
       "</div>"
      ],
      "text/plain": [
       "                         object_type  count  number percent\n",
       "0                               кафе   6071      40   40.0%\n",
       "1                           столовая   2584     130   17.0%\n",
       "2                           ресторан   2282      97   15.0%\n",
       "3  предприятие быстрого обслуживания   1897      21   12.0%\n",
       "4                                бар    855      44    6.0%\n",
       "5                              буфет    576      51    4.0%\n",
       "6                          кафетерий    395       9    3.0%\n",
       "7                         закусочная    348       8    2.0%\n",
       "8          магазин (отдел кулинарии)    273       6    2.0%"
      ]
     },
     "metadata": {},
     "output_type": "display_data"
    }
   ],
   "source": [
    "# выделим обьекты с разделением по видам обьектов в сводную таблицу\n",
    "# считаем число видов объектов общественного питания\n",
    "object_types = (\n",
    "    df.groupby('object_type')\n",
    "             .agg({'object_type':'count', 'number': 'mean'})\n",
    "             .rename(columns={'object_type':'count'})\n",
    "             .sort_values('count', ascending=False)\n",
    "    .reset_index()\n",
    ")\n",
    "object_types['number'] = object_types['number'].round(0).astype('int')\n",
    "# добавим столбец с соотношением заведений в процентах\n",
    "# lambda переводим значения столбца в проценты\n",
    "object_types['percent'] =  ((object_types['count']/object_types['count'].sum()).round(2)).apply(lambda x: f\"{x:1.1%}\")\n",
    "display(object_types)\n"
   ]
  },
  {
   "cell_type": "code",
   "execution_count": 10,
   "metadata": {},
   "outputs": [
    {
     "data": {
      "image/png": "[encoded data removed]",
      "text/plain": [
       "<Figure size 864x504 with 1 Axes>"
      ]
     },
     "metadata": {
      "needs_background": "light"
     },
     "output_type": "display_data"
    }
   ],
   "source": [
    "# строим график\n",
    "fig, ax = plt.subplots(figsize=(12,7))\n",
    "fig.suptitle('Соотношение видов объектов общественного питания', fontsize=15, style=\"italic\")\n",
    "\n",
    "\n",
    "\n",
    "sns.countplot(y=\"object_type\", \n",
    "              data=df, palette=\"Blues\",\n",
    "              order=df['object_type'].value_counts().index)\n",
    "\n",
    "sns.despine(left=True, bottom=True)\n",
    "\n",
    "ax.set_ylabel('Вид объекта\\n')\n",
    "ax.set_xlabel('\\nКоличество');\n",
    "\n"
   ]
  },
  {
   "cell_type": "markdown",
   "metadata": {},
   "source": [
    "### Вывод"
   ]
  },
  {
   "cell_type": "markdown",
   "metadata": {},
   "source": [
    "Почти 40% объектов нашей базы относятся к типу \"кафе\"\n",
    "Следующие по численности столовые (17%), рестораны (15%) и предприятия быстрого обслуживания (13 %)\n",
    "\n",
    "Таким образом, формат кафе является по нашим данным в Москве наиболее популярным форматом заведения. Следовательно, на данном этапе исследования тип объекта общесьтвенного питания в виде \"кафе\" _ наиболее удачный. Но не будем торопиться с выводами. Продолжим исследование.\n",
    "\n",
    "Наименьшее количество кафетериев, закусочных и отделов кулинарии в магазинах (в порядке убывания количества)."
   ]
  },
  {
   "cell_type": "markdown",
   "metadata": {},
   "source": [
    "### Исследование соотношения сетевых и несетевых заведений по количеству. Построение графика."
   ]
  },
  {
   "cell_type": "code",
   "execution_count": 11,
   "metadata": {},
   "outputs": [
    {
     "data": {
      "text/html": [
       "<div>\n",
       "<style scoped>\n",
       "    .dataframe tbody tr th:only-of-type {\n",
       "        vertical-align: middle;\n",
       "    }\n",
       "\n",
       "    .dataframe tbody tr th {\n",
       "        vertical-align: top;\n",
       "    }\n",
       "\n",
       "    .dataframe thead th {\n",
       "        text-align: right;\n",
       "    }\n",
       "</style>\n",
       "<table border=\"1\" class=\"dataframe\">\n",
       "  <thead>\n",
       "    <tr style=\"text-align: right;\">\n",
       "      <th></th>\n",
       "      <th>chain</th>\n",
       "      <th>count</th>\n",
       "      <th>percent</th>\n",
       "    </tr>\n",
       "  </thead>\n",
       "  <tbody>\n",
       "    <tr>\n",
       "      <th>0</th>\n",
       "      <td>False</td>\n",
       "      <td>12317</td>\n",
       "      <td>80.6%</td>\n",
       "    </tr>\n",
       "    <tr>\n",
       "      <th>1</th>\n",
       "      <td>True</td>\n",
       "      <td>2964</td>\n",
       "      <td>19.4%</td>\n",
       "    </tr>\n",
       "  </tbody>\n",
       "</table>\n",
       "</div>"
      ],
      "text/plain": [
       "   chain  count percent\n",
       "0  False  12317   80.6%\n",
       "1   True   2964   19.4%"
      ]
     },
     "metadata": {},
     "output_type": "display_data"
    }
   ],
   "source": [
    "# считаем количество сетевых и несетевых объектов\n",
    "chain_group = df.groupby('chain').agg(count=('object_type','count')).reset_index()\n",
    "\n",
    "# добавим столбец с процентами соотношения сетевой не сетевой\n",
    "# lambda переводим значения столбца в проценты\n",
    "chain_group['percent'] =  (chain_group['count']/chain_group['count'].sum()).apply(lambda x: f\"{x:.1%}\")\n",
    "\n",
    "display(chain_group)"
   ]
  },
  {
   "cell_type": "code",
   "execution_count": 12,
   "metadata": {},
   "outputs": [
    {
     "data": {
      "image/png": "[encoded data removed]",
      "text/plain": [
       "<Figure size 576x576 with 1 Axes>"
      ]
     },
     "metadata": {},
     "output_type": "display_data"
    }
   ],
   "source": [
    "# построим круговую диаграмму\n",
    "plt.figure(figsize=(8, 8))\n",
    "plt.pie(chain_group['count'], labels=chain_group['chain'].map({True: 'сеть', False: 'несетевые заведения'}), \n",
    "        autopct=lambda p : '{:.2f}%  ({:,.0f})'.format(p,p * sum(chain_group['count'])/100), textprops={'fontsize': 14})\n",
    "plt.show()"
   ]
  },
  {
   "cell_type": "markdown",
   "metadata": {},
   "source": [
    "Вывод:\n",
    "\n",
    "Несетевые объекты общественного питания занимают 80 % от общего количества исследуемых объектов. "
   ]
  },
  {
   "cell_type": "markdown",
   "metadata": {},
   "source": [
    "### Определение для какого вида объекта общественного питания характерно сетевое распространение"
   ]
  },
  {
   "cell_type": "code",
   "execution_count": 13,
   "metadata": {},
   "outputs": [
    {
     "data": {
      "image/png": "[encoded data removed]",
      "text/plain": [
       "<Figure size 936x504 with 1 Axes>"
      ]
     },
     "metadata": {
      "needs_background": "light"
     },
     "output_type": "display_data"
    }
   ],
   "source": [
    "# строим график\n",
    "fig, ax = plt.subplots(figsize=(13,7))\n",
    "fig.suptitle('Соотношение сетевых и несетевых заведений по количеству/виду заведения', fontsize=15, style=\"italic\")\n",
    "\n",
    "\n",
    "sns.countplot(y=\"object_type\", \n",
    "              hue=\"chain\", \n",
    "              data=df, \n",
    "              order=df['object_type'].value_counts().index)\n",
    "\n",
    "ax.legend(title='Является ли заведение сетевым')\n",
    "ax.set_ylabel('Вид объекта\\n')\n",
    "ax.set_xlabel('\\nКоличество');"
   ]
  },
  {
   "cell_type": "code",
   "execution_count": 14,
   "metadata": {},
   "outputs": [
    {
     "data": {
      "text/html": [
       "<div>\n",
       "<style scoped>\n",
       "    .dataframe tbody tr th:only-of-type {\n",
       "        vertical-align: middle;\n",
       "    }\n",
       "\n",
       "    .dataframe tbody tr th {\n",
       "        vertical-align: top;\n",
       "    }\n",
       "\n",
       "    .dataframe thead th {\n",
       "        text-align: right;\n",
       "    }\n",
       "</style>\n",
       "<table border=\"1\" class=\"dataframe\">\n",
       "  <thead>\n",
       "    <tr style=\"text-align: right;\">\n",
       "      <th></th>\n",
       "      <th>object_type</th>\n",
       "      <th>chain_count</th>\n",
       "      <th>total_count</th>\n",
       "      <th>chain_percent</th>\n",
       "    </tr>\n",
       "  </thead>\n",
       "  <tbody>\n",
       "    <tr>\n",
       "      <th>3</th>\n",
       "      <td>кафе</td>\n",
       "      <td>1396</td>\n",
       "      <td>6071</td>\n",
       "      <td>22.99</td>\n",
       "    </tr>\n",
       "    <tr>\n",
       "      <th>6</th>\n",
       "      <td>предприятие быстрого обслуживания</td>\n",
       "      <td>788</td>\n",
       "      <td>1897</td>\n",
       "      <td>41.54</td>\n",
       "    </tr>\n",
       "    <tr>\n",
       "      <th>7</th>\n",
       "      <td>ресторан</td>\n",
       "      <td>543</td>\n",
       "      <td>2282</td>\n",
       "      <td>23.79</td>\n",
       "    </tr>\n",
       "    <tr>\n",
       "      <th>5</th>\n",
       "      <td>магазин (отдел кулинарии)</td>\n",
       "      <td>78</td>\n",
       "      <td>273</td>\n",
       "      <td>28.57</td>\n",
       "    </tr>\n",
       "    <tr>\n",
       "      <th>2</th>\n",
       "      <td>закусочная</td>\n",
       "      <td>56</td>\n",
       "      <td>348</td>\n",
       "      <td>16.09</td>\n",
       "    </tr>\n",
       "    <tr>\n",
       "      <th>4</th>\n",
       "      <td>кафетерий</td>\n",
       "      <td>52</td>\n",
       "      <td>395</td>\n",
       "      <td>13.16</td>\n",
       "    </tr>\n",
       "    <tr>\n",
       "      <th>0</th>\n",
       "      <td>бар</td>\n",
       "      <td>37</td>\n",
       "      <td>855</td>\n",
       "      <td>4.33</td>\n",
       "    </tr>\n",
       "    <tr>\n",
       "      <th>1</th>\n",
       "      <td>буфет</td>\n",
       "      <td>11</td>\n",
       "      <td>576</td>\n",
       "      <td>1.91</td>\n",
       "    </tr>\n",
       "    <tr>\n",
       "      <th>8</th>\n",
       "      <td>столовая</td>\n",
       "      <td>3</td>\n",
       "      <td>2584</td>\n",
       "      <td>0.12</td>\n",
       "    </tr>\n",
       "  </tbody>\n",
       "</table>\n",
       "</div>"
      ],
      "text/plain": [
       "                         object_type  chain_count  total_count  chain_percent\n",
       "3                               кафе         1396         6071          22.99\n",
       "6  предприятие быстрого обслуживания          788         1897          41.54\n",
       "7                           ресторан          543         2282          23.79\n",
       "5          магазин (отдел кулинарии)           78          273          28.57\n",
       "2                         закусочная           56          348          16.09\n",
       "4                          кафетерий           52          395          13.16\n",
       "0                                бар           37          855           4.33\n",
       "1                              буфет           11          576           1.91\n",
       "8                           столовая            3         2584           0.12"
      ]
     },
     "metadata": {},
     "output_type": "display_data"
    }
   ],
   "source": [
    "rest_chain_group = df[df['chain']].groupby('object_type').agg(count=('object_type','count')).reset_index()\n",
    "rest_type = df.groupby('object_type').agg(count=('object_type','count')).reset_index().sort_values('count', ascending=False)\n",
    "\n",
    "# добавим в таблицу информацию об общем количестве заведений каждого типа\n",
    "rest_chain_group = rest_chain_group.merge(rest_type, how='left', left_on='object_type', right_on='object_type')\n",
    "rest_chain_group.columns = ['object_type', 'chain_count', 'total_count']\n",
    "\n",
    "# расчитаем долю сетевых заведений каждого типа в процентах\n",
    "rest_chain_group['chain_percent'] = round((rest_chain_group['chain_count'] / rest_chain_group['total_count']) * 100, 2)\n",
    "rest_chain_group.sort_values('total_count', ascending=False, inplace=True)\n",
    "\n",
    "display(rest_chain_group.sort_values('chain_count', ascending=False))"
   ]
  },
  {
   "cell_type": "markdown",
   "metadata": {},
   "source": [
    "### Вывод"
   ]
  },
  {
   "cell_type": "markdown",
   "metadata": {},
   "source": [
    "Наблюдаем наибольшее количество сетевых заведений в сегменте \"кафе\" (1396 единиц), на втором месте предприятия быстрого обслуживания (791 ед.), на третьем рестораны (544 ед.). Первая тройка явно выделяется по количеству, по сравнению с другими видами объектов общественного питания. \n",
    "\n",
    "Стоит выделить абсолютного лидера в долевом отношении сетевых заведений к общему количеству - это предприятия быстрого обслуживания (41,13 %), на втором месте магазины (отдел кулинарии) - 28,57 %, и на третьем рестораны (23,81 %). Кафе на четвертом месте в процентном соотношении к общему количеству заведений данного типа (22,89 %)Пятерку замыкают закусочные (15,56 %).\n",
    "\n",
    "Возможно есть хорошие перспективы развить сеть кафе, предприятий быстрого обслуживания и ресторанов, интересным может быть и продажи франшизы по данным категориям объектов ОП.\n",
    "\n",
    "Интересно отметить, что  сетевых столовых практически нет, а количество сетевых буфетов и баров очень незначительно."
   ]
  },
  {
   "cell_type": "markdown",
   "metadata": {},
   "source": [
    "###  Определение того, что характерно для сетевых заведений"
   ]
  },
  {
   "cell_type": "code",
   "execution_count": 15,
   "metadata": {},
   "outputs": [
    {
     "data": {
      "text/html": [
       "<div>\n",
       "<style scoped>\n",
       "    .dataframe tbody tr th:only-of-type {\n",
       "        vertical-align: middle;\n",
       "    }\n",
       "\n",
       "    .dataframe tbody tr th {\n",
       "        vertical-align: top;\n",
       "    }\n",
       "\n",
       "    .dataframe thead th {\n",
       "        text-align: right;\n",
       "    }\n",
       "</style>\n",
       "<table border=\"1\" class=\"dataframe\">\n",
       "  <thead>\n",
       "    <tr style=\"text-align: right;\">\n",
       "      <th></th>\n",
       "      <th>object_name</th>\n",
       "      <th>chain</th>\n",
       "      <th>object_type</th>\n",
       "      <th>address</th>\n",
       "      <th>number</th>\n",
       "    </tr>\n",
       "  </thead>\n",
       "  <tbody>\n",
       "    <tr>\n",
       "      <th>3</th>\n",
       "      <td>пиццетория</td>\n",
       "      <td>True</td>\n",
       "      <td>кафе</td>\n",
       "      <td>город москва, абрамцевская улица, дом 1</td>\n",
       "      <td>40</td>\n",
       "    </tr>\n",
       "    <tr>\n",
       "      <th>6</th>\n",
       "      <td>брусника</td>\n",
       "      <td>True</td>\n",
       "      <td>кафе</td>\n",
       "      <td>город москва, переулок сивцев вражек, дом 6/2</td>\n",
       "      <td>10</td>\n",
       "    </tr>\n",
       "    <tr>\n",
       "      <th>13</th>\n",
       "      <td>алло пицца</td>\n",
       "      <td>True</td>\n",
       "      <td>кафе</td>\n",
       "      <td>город москва, улица авиаторов, дом 14</td>\n",
       "      <td>32</td>\n",
       "    </tr>\n",
       "    <tr>\n",
       "      <th>16</th>\n",
       "      <td>суши wok</td>\n",
       "      <td>True</td>\n",
       "      <td>предприятие быстрого обслуживания</td>\n",
       "      <td>город москва, азовская улица, дом 3</td>\n",
       "      <td>7</td>\n",
       "    </tr>\n",
       "    <tr>\n",
       "      <th>18</th>\n",
       "      <td>тануки</td>\n",
       "      <td>True</td>\n",
       "      <td>ресторан</td>\n",
       "      <td>город москва, большая академическая улица, дом 65</td>\n",
       "      <td>160</td>\n",
       "    </tr>\n",
       "  </tbody>\n",
       "</table>\n",
       "</div>"
      ],
      "text/plain": [
       "   object_name  chain                        object_type  \\\n",
       "3   пиццетория   True                               кафе   \n",
       "6     брусника   True                               кафе   \n",
       "13  алло пицца   True                               кафе   \n",
       "16    суши wok   True  предприятие быстрого обслуживания   \n",
       "18      тануки   True                           ресторан   \n",
       "\n",
       "                                              address  number  \n",
       "3             город москва, абрамцевская улица, дом 1      40  \n",
       "6       город москва, переулок сивцев вражек, дом 6/2      10  \n",
       "13              город москва, улица авиаторов, дом 14      32  \n",
       "16                город москва, азовская улица, дом 3       7  \n",
       "18  город москва, большая академическая улица, дом 65     160  "
      ]
     },
     "metadata": {},
     "output_type": "display_data"
    },
    {
     "data": {
      "text/plain": [
       "(2964, 5)"
      ]
     },
     "metadata": {},
     "output_type": "display_data"
    },
    {
     "data": {
      "text/plain": [
       "count    2964.000000\n",
       "mean       52.981107\n",
       "std        57.152817\n",
       "min         0.000000\n",
       "25%        15.000000\n",
       "50%        40.000000\n",
       "75%        72.000000\n",
       "max       580.000000\n",
       "Name: number, dtype: float64"
      ]
     },
     "metadata": {},
     "output_type": "display_data"
    }
   ],
   "source": [
    "# Отсортируем только сетевые заведения\n",
    "\n",
    "object_chain = df[df['chain']== True]\n",
    "display(object_chain.head())\n",
    "display(object_chain.shape)\n",
    "display(object_chain['number'].describe())"
   ]
  },
  {
   "cell_type": "code",
   "execution_count": 16,
   "metadata": {},
   "outputs": [
    {
     "data": {
      "image/png": "[encoded data removed]",
      "text/plain": [
       "<Figure size 720x360 with 1 Axes>"
      ]
     },
     "metadata": {
      "needs_background": "light"
     },
     "output_type": "display_data"
    }
   ],
   "source": [
    "#посмотрим распределение по количеству посадочных мест\n",
    "object_chain['number'].hist(bins=70, figsize=(10,5), ec='black')\n",
    "plt.title('распределение количества посадочных мест в сети')\n",
    "plt.xlabel('Среднее количество посадочных мест в сети')\n",
    "plt.ylabel('Количество объектов в сети')\n",
    "plt.show()"
   ]
  },
  {
   "cell_type": "code",
   "execution_count": 17,
   "metadata": {},
   "outputs": [
    {
     "data": {
      "image/png": "[encoded data removed]",
      "text/plain": [
       "<Figure size 720x360 with 1 Axes>"
      ]
     },
     "metadata": {
      "needs_background": "light"
     },
     "output_type": "display_data"
    }
   ],
   "source": [
    "# посмотрим на распределение немного ближе\n",
    "object_chain['number'].hist(bins=70, figsize=(10,5), ec='black', range=(0, 300))\n",
    "plt.title('распределение количества посадочных мест в сети')\n",
    "plt.xlabel('Среднее количество посадочных мест в сети')\n",
    "plt.ylabel('Количество объектов в сети')\n",
    "plt.show()"
   ]
  },
  {
   "cell_type": "code",
   "execution_count": 18,
   "metadata": {},
   "outputs": [
    {
     "data": {
      "image/png": "[encoded data removed]",
      "text/plain": [
       "<Figure size 720x360 with 1 Axes>"
      ]
     },
     "metadata": {
      "needs_background": "light"
     },
     "output_type": "display_data"
    }
   ],
   "source": [
    "# Поспотрим распределение по среднему количеству посадочных мест\n",
    "rest_chain = df[df['chain']].groupby(['object_name']).agg(count=('object_type', 'count'), number_mean=('number','mean'))\n",
    "rest_chain.sort_values('count', ascending=False, inplace=True)\n",
    "\n",
    "plt.figure(figsize=(10, 5))\n",
    "plt.title('Среднее количество посадочных мест в сети')\n",
    "sns.boxplot(x=\"number_mean\", data=rest_chain)\n",
    "plt.xlabel('')\n",
    "plt.show()"
   ]
  },
  {
   "cell_type": "markdown",
   "metadata": {},
   "source": [
    " Исходя из графиков, нормальным можем принимать от 20 до 90 посадочных мест на объект общественного питания. При максимуме мест в 580 (видим по describe) и учитывая показатели \"ящика с усами\", приходим к выводу, что все что за 180 - аномалии.  Но посмотрим еще по другим графикамтак ли это."
   ]
  },
  {
   "cell_type": "code",
   "execution_count": 19,
   "metadata": {},
   "outputs": [
    {
     "data": {
      "image/png": "[encoded data removed]",
      "text/plain": [
       "<Figure size 720x432 with 1 Axes>"
      ]
     },
     "metadata": {
      "needs_background": "light"
     },
     "output_type": "display_data"
    }
   ],
   "source": [
    "plt.figure(figsize=(10, 6))\n",
    "plt.title('Распределение количества посадочных мест в сетевых заведениях')\n",
    "sns.scatterplot(x=\"number_mean\", y=\"count\",\n",
    "                palette=\"ch:r=-.2,d=.3_r\",\n",
    "                alpha = 0.4,\n",
    "                data=rest_chain)\n",
    "plt.xlabel('Среднее количество посадочных мест в сети')\n",
    "plt.ylabel('Количество объектов в сети')\n",
    "plt.show()"
   ]
  },
  {
   "cell_type": "code",
   "execution_count": 20,
   "metadata": {},
   "outputs": [
    {
     "data": {
      "image/png": "[encoded data removed]",
      "text/plain": [
       "<Figure size 720x432 with 1 Axes>"
      ]
     },
     "metadata": {
      "needs_background": "light"
     },
     "output_type": "display_data"
    }
   ],
   "source": [
    "# посмотрим поближе распределение  количеством объектов более 2-х\n",
    "plt.figure(figsize=(10, 6))\n",
    "\n",
    "plt.title('Распределение количества посадочных мест в сетевых заведениях')\n",
    "sns.scatterplot(x=\"number_mean\", y=\"count\",\n",
    "                palette=\"ch:r=-.2,d=.3_r\",\n",
    "                alpha = 0.4,\n",
    "                data=rest_chain[rest_chain['count'] > 2])\n",
    "plt.xlabel('Среднее количество посадочных мест в сети')\n",
    "plt.ylabel('Количество объектов в сети')\n",
    "plt.show()"
   ]
  },
  {
   "cell_type": "code",
   "execution_count": 21,
   "metadata": {},
   "outputs": [
    {
     "data": {
      "text/plain": [
       "(265, 5)"
      ]
     },
     "execution_count": 21,
     "metadata": {},
     "output_type": "execute_result"
    }
   ],
   "source": [
    "# посчитаем заведения с нулевым количеством мест и посмотрим на них\n",
    "object_chain[object_chain['number'] == 0].shape\n"
   ]
  },
  {
   "cell_type": "code",
   "execution_count": 22,
   "metadata": {},
   "outputs": [
    {
     "data": {
      "text/html": [
       "<div>\n",
       "<style scoped>\n",
       "    .dataframe tbody tr th:only-of-type {\n",
       "        vertical-align: middle;\n",
       "    }\n",
       "\n",
       "    .dataframe tbody tr th {\n",
       "        vertical-align: top;\n",
       "    }\n",
       "\n",
       "    .dataframe thead th {\n",
       "        text-align: right;\n",
       "    }\n",
       "</style>\n",
       "<table border=\"1\" class=\"dataframe\">\n",
       "  <thead>\n",
       "    <tr style=\"text-align: right;\">\n",
       "      <th></th>\n",
       "      <th>object_name</th>\n",
       "      <th>chain</th>\n",
       "      <th>object_type</th>\n",
       "      <th>address</th>\n",
       "      <th>number</th>\n",
       "    </tr>\n",
       "  </thead>\n",
       "  <tbody>\n",
       "    <tr>\n",
       "      <th>290</th>\n",
       "      <td>кофе с собой</td>\n",
       "      <td>True</td>\n",
       "      <td>предприятие быстрого обслуживания</td>\n",
       "      <td>город москва, 1-я тверская-ямская улица, дом 1...</td>\n",
       "      <td>0</td>\n",
       "    </tr>\n",
       "    <tr>\n",
       "      <th>498</th>\n",
       "      <td>суши сет</td>\n",
       "      <td>True</td>\n",
       "      <td>предприятие быстрого обслуживания</td>\n",
       "      <td>город москва, краснопрудная улица, дом 22-24</td>\n",
       "      <td>0</td>\n",
       "    </tr>\n",
       "    <tr>\n",
       "      <th>504</th>\n",
       "      <td>кофе с собой</td>\n",
       "      <td>True</td>\n",
       "      <td>кафетерий</td>\n",
       "      <td>город москва, краснохолмская набережная, дом 1...</td>\n",
       "      <td>0</td>\n",
       "    </tr>\n",
       "    <tr>\n",
       "      <th>577</th>\n",
       "      <td>кофейня «кофе хаус»</td>\n",
       "      <td>True</td>\n",
       "      <td>кафе</td>\n",
       "      <td>город москва, павелецкая площадь, дом 1а, стро...</td>\n",
       "      <td>0</td>\n",
       "    </tr>\n",
       "    <tr>\n",
       "      <th>938</th>\n",
       "      <td>стардогs</td>\n",
       "      <td>True</td>\n",
       "      <td>предприятие быстрого обслуживания</td>\n",
       "      <td>город москва, профсоюзная улица, дом 2/22</td>\n",
       "      <td>0</td>\n",
       "    </tr>\n",
       "    <tr>\n",
       "      <th>...</th>\n",
       "      <td>...</td>\n",
       "      <td>...</td>\n",
       "      <td>...</td>\n",
       "      <td>...</td>\n",
       "      <td>...</td>\n",
       "    </tr>\n",
       "    <tr>\n",
       "      <th>15249</th>\n",
       "      <td>милти</td>\n",
       "      <td>True</td>\n",
       "      <td>магазин (отдел кулинарии)</td>\n",
       "      <td>город москва, дубравная улица, дом 34/29</td>\n",
       "      <td>0</td>\n",
       "    </tr>\n",
       "    <tr>\n",
       "      <th>15250</th>\n",
       "      <td>милти</td>\n",
       "      <td>True</td>\n",
       "      <td>магазин (отдел кулинарии)</td>\n",
       "      <td>город москва, пятницкое шоссе, дом 3</td>\n",
       "      <td>0</td>\n",
       "    </tr>\n",
       "    <tr>\n",
       "      <th>15251</th>\n",
       "      <td>готовые блюда милти</td>\n",
       "      <td>True</td>\n",
       "      <td>предприятие быстрого обслуживания</td>\n",
       "      <td>город москва, ореховый бульвар, дом 22а</td>\n",
       "      <td>0</td>\n",
       "    </tr>\n",
       "    <tr>\n",
       "      <th>15252</th>\n",
       "      <td>милти</td>\n",
       "      <td>True</td>\n",
       "      <td>предприятие быстрого обслуживания</td>\n",
       "      <td>город москва, 3-й крутицкий переулок, дом 18</td>\n",
       "      <td>0</td>\n",
       "    </tr>\n",
       "    <tr>\n",
       "      <th>15253</th>\n",
       "      <td>милти</td>\n",
       "      <td>True</td>\n",
       "      <td>магазин (отдел кулинарии)</td>\n",
       "      <td>город москва, новослободская улица, дом 4</td>\n",
       "      <td>0</td>\n",
       "    </tr>\n",
       "  </tbody>\n",
       "</table>\n",
       "<p>265 rows × 5 columns</p>\n",
       "</div>"
      ],
      "text/plain": [
       "               object_name  chain                        object_type  \\\n",
       "290           кофе с собой   True  предприятие быстрого обслуживания   \n",
       "498               суши сет   True  предприятие быстрого обслуживания   \n",
       "504           кофе с собой   True                          кафетерий   \n",
       "577    кофейня «кофе хаус»   True                               кафе   \n",
       "938               стардогs   True  предприятие быстрого обслуживания   \n",
       "...                    ...    ...                                ...   \n",
       "15249                милти   True          магазин (отдел кулинарии)   \n",
       "15250                милти   True          магазин (отдел кулинарии)   \n",
       "15251  готовые блюда милти   True  предприятие быстрого обслуживания   \n",
       "15252                милти   True  предприятие быстрого обслуживания   \n",
       "15253                милти   True          магазин (отдел кулинарии)   \n",
       "\n",
       "                                                 address  number  \n",
       "290    город москва, 1-я тверская-ямская улица, дом 1...       0  \n",
       "498         город москва, краснопрудная улица, дом 22-24       0  \n",
       "504    город москва, краснохолмская набережная, дом 1...       0  \n",
       "577    город москва, павелецкая площадь, дом 1а, стро...       0  \n",
       "938            город москва, профсоюзная улица, дом 2/22       0  \n",
       "...                                                  ...     ...  \n",
       "15249           город москва, дубравная улица, дом 34/29       0  \n",
       "15250               город москва, пятницкое шоссе, дом 3       0  \n",
       "15251            город москва, ореховый бульвар, дом 22а       0  \n",
       "15252       город москва, 3-й крутицкий переулок, дом 18       0  \n",
       "15253          город москва, новослободская улица, дом 4       0  \n",
       "\n",
       "[265 rows x 5 columns]"
      ]
     },
     "metadata": {},
     "output_type": "display_data"
    }
   ],
   "source": [
    "# посмотрим на ООП с нулевым количеством посадочных мест\n",
    "display(object_chain[object_chain['number'] == 0])"
   ]
  },
  {
   "cell_type": "markdown",
   "metadata": {},
   "source": [
    "### Вывод"
   ]
  },
  {
   "cell_type": "markdown",
   "metadata": {},
   "source": [
    "Всего сетевых заведений - 2964 единиц. \n",
    "Исходя из полученных результатов распределения, можем прийти к выводу, что в преобладающем количестве объекты общественного питания с небольшим количеством филиалов и малым либо  средним количеством посадочных мест.\n",
    "Крупные сети, редко встречаются, и имеют не более 100 посадочных мест. Стоит также обратить особое внимание, что встречаются сетевые заведения, в которых отсутствуют посадочные места (всего 265 объектов). Как уже указывалось при первоначальном изучении данных, это могут быть объекты, ориентированные на доставку либо на продажу \"на вынос\" (самовывоз), такие заведения составляют около 10 % от общего количества сетевых объектов.\n"
   ]
  },
  {
   "cell_type": "markdown",
   "metadata": {},
   "source": [
    "### Описание среднего количества посадочных мест для каждого вида объекта общественного питания"
   ]
  },
  {
   "cell_type": "code",
   "execution_count": 23,
   "metadata": {},
   "outputs": [
    {
     "data": {
      "image/png": "[encoded data removed]",
      "text/plain": [
       "<Figure size 1080x576 with 1 Axes>"
      ]
     },
     "metadata": {
      "needs_background": "light"
     },
     "output_type": "display_data"
    },
    {
     "data": {
      "text/html": [
       "<div>\n",
       "<style scoped>\n",
       "    .dataframe tbody tr th:only-of-type {\n",
       "        vertical-align: middle;\n",
       "    }\n",
       "\n",
       "    .dataframe tbody tr th {\n",
       "        vertical-align: top;\n",
       "    }\n",
       "\n",
       "    .dataframe thead th {\n",
       "        text-align: right;\n",
       "    }\n",
       "</style>\n",
       "<table border=\"1\" class=\"dataframe\">\n",
       "  <thead>\n",
       "    <tr style=\"text-align: right;\">\n",
       "      <th></th>\n",
       "      <th></th>\n",
       "      <th>count</th>\n",
       "      <th>number_median</th>\n",
       "    </tr>\n",
       "    <tr>\n",
       "      <th>object_type</th>\n",
       "      <th>chain</th>\n",
       "      <th></th>\n",
       "      <th></th>\n",
       "    </tr>\n",
       "  </thead>\n",
       "  <tbody>\n",
       "    <tr>\n",
       "      <th>буфет</th>\n",
       "      <th>True</th>\n",
       "      <td>11</td>\n",
       "      <td>0.0</td>\n",
       "    </tr>\n",
       "    <tr>\n",
       "      <th>закусочная</th>\n",
       "      <th>False</th>\n",
       "      <td>292</td>\n",
       "      <td>0.0</td>\n",
       "    </tr>\n",
       "    <tr>\n",
       "      <th>предприятие быстрого обслуживания</th>\n",
       "      <th>False</th>\n",
       "      <td>1109</td>\n",
       "      <td>0.0</td>\n",
       "    </tr>\n",
       "    <tr>\n",
       "      <th rowspan=\"2\" valign=\"top\">магазин (отдел кулинарии)</th>\n",
       "      <th>False</th>\n",
       "      <td>195</td>\n",
       "      <td>0.0</td>\n",
       "    </tr>\n",
       "    <tr>\n",
       "      <th>True</th>\n",
       "      <td>78</td>\n",
       "      <td>3.5</td>\n",
       "    </tr>\n",
       "    <tr>\n",
       "      <th>кафетерий</th>\n",
       "      <th>False</th>\n",
       "      <td>343</td>\n",
       "      <td>6.0</td>\n",
       "    </tr>\n",
       "    <tr>\n",
       "      <th>закусочная</th>\n",
       "      <th>True</th>\n",
       "      <td>56</td>\n",
       "      <td>8.0</td>\n",
       "    </tr>\n",
       "    <tr>\n",
       "      <th>кафетерий</th>\n",
       "      <th>True</th>\n",
       "      <td>52</td>\n",
       "      <td>8.0</td>\n",
       "    </tr>\n",
       "    <tr>\n",
       "      <th>предприятие быстрого обслуживания</th>\n",
       "      <th>True</th>\n",
       "      <td>788</td>\n",
       "      <td>25.0</td>\n",
       "    </tr>\n",
       "    <tr>\n",
       "      <th>кафе</th>\n",
       "      <th>False</th>\n",
       "      <td>4675</td>\n",
       "      <td>30.0</td>\n",
       "    </tr>\n",
       "    <tr>\n",
       "      <th>буфет</th>\n",
       "      <th>False</th>\n",
       "      <td>565</td>\n",
       "      <td>32.0</td>\n",
       "    </tr>\n",
       "    <tr>\n",
       "      <th>бар</th>\n",
       "      <th>False</th>\n",
       "      <td>818</td>\n",
       "      <td>34.0</td>\n",
       "    </tr>\n",
       "    <tr>\n",
       "      <th>кафе</th>\n",
       "      <th>True</th>\n",
       "      <td>1396</td>\n",
       "      <td>40.0</td>\n",
       "    </tr>\n",
       "    <tr>\n",
       "      <th>бар</th>\n",
       "      <th>True</th>\n",
       "      <td>37</td>\n",
       "      <td>45.0</td>\n",
       "    </tr>\n",
       "    <tr>\n",
       "      <th rowspan=\"2\" valign=\"top\">ресторан</th>\n",
       "      <th>False</th>\n",
       "      <td>1739</td>\n",
       "      <td>75.0</td>\n",
       "    </tr>\n",
       "    <tr>\n",
       "      <th>True</th>\n",
       "      <td>543</td>\n",
       "      <td>89.0</td>\n",
       "    </tr>\n",
       "    <tr>\n",
       "      <th rowspan=\"2\" valign=\"top\">столовая</th>\n",
       "      <th>False</th>\n",
       "      <td>2581</td>\n",
       "      <td>103.0</td>\n",
       "    </tr>\n",
       "    <tr>\n",
       "      <th>True</th>\n",
       "      <td>3</td>\n",
       "      <td>120.0</td>\n",
       "    </tr>\n",
       "  </tbody>\n",
       "</table>\n",
       "</div>"
      ],
      "text/plain": [
       "                                         count  number_median\n",
       "object_type                       chain                      \n",
       "буфет                             True      11            0.0\n",
       "закусочная                        False    292            0.0\n",
       "предприятие быстрого обслуживания False   1109            0.0\n",
       "магазин (отдел кулинарии)         False    195            0.0\n",
       "                                  True      78            3.5\n",
       "кафетерий                         False    343            6.0\n",
       "закусочная                        True      56            8.0\n",
       "кафетерий                         True      52            8.0\n",
       "предприятие быстрого обслуживания True     788           25.0\n",
       "кафе                              False   4675           30.0\n",
       "буфет                             False    565           32.0\n",
       "бар                               False    818           34.0\n",
       "кафе                              True    1396           40.0\n",
       "бар                               True      37           45.0\n",
       "ресторан                          False   1739           75.0\n",
       "                                  True     543           89.0\n",
       "столовая                          False   2581          103.0\n",
       "                                  True       3          120.0"
      ]
     },
     "metadata": {},
     "output_type": "display_data"
    }
   ],
   "source": [
    "# Посмотрим распределение по видам объекта среднего количества посадочных мест\n",
    "# для оценки среднего количества посадочных мест используем медиану\n",
    "plt.figure(figsize=(15, 8))\n",
    "plt.ylim(-10,300)\n",
    "plt.title('Распределение количества посадочных мест в заведениях разного типа')\n",
    "sns.boxplot(x=\"object_type\", y=\"number\", hue=\"chain\", data=df) \n",
    "plt.xlabel('Тип заведения')\n",
    "plt.ylabel('Количество мест') \n",
    "plt.xticks(rotation=25)\n",
    "plt.show()\n",
    "\n",
    "display(df\n",
    "        .groupby(['object_type', 'chain'])\n",
    "        .agg(count=('object_type', 'count'), number_median=('number', 'median')) \n",
    "        .sort_values('number_median')\n",
    "       )"
   ]
  },
  {
   "cell_type": "code",
   "execution_count": 24,
   "metadata": {},
   "outputs": [
    {
     "data": {
      "image/png": "[encoded data removed]",
      "text/plain": [
       "<Figure size 864x360 with 1 Axes>"
      ]
     },
     "metadata": {
      "needs_background": "light"
     },
     "output_type": "display_data"
    },
    {
     "data": {
      "text/html": [
       "<div>\n",
       "<style scoped>\n",
       "    .dataframe tbody tr th:only-of-type {\n",
       "        vertical-align: middle;\n",
       "    }\n",
       "\n",
       "    .dataframe tbody tr th {\n",
       "        vertical-align: top;\n",
       "    }\n",
       "\n",
       "    .dataframe thead th {\n",
       "        text-align: right;\n",
       "    }\n",
       "</style>\n",
       "<table border=\"1\" class=\"dataframe\">\n",
       "  <thead>\n",
       "    <tr style=\"text-align: right;\">\n",
       "      <th></th>\n",
       "      <th>number_median</th>\n",
       "    </tr>\n",
       "    <tr>\n",
       "      <th>object_type</th>\n",
       "      <th></th>\n",
       "    </tr>\n",
       "  </thead>\n",
       "  <tbody>\n",
       "    <tr>\n",
       "      <th>столовая</th>\n",
       "      <td>103</td>\n",
       "    </tr>\n",
       "    <tr>\n",
       "      <th>ресторан</th>\n",
       "      <td>80</td>\n",
       "    </tr>\n",
       "    <tr>\n",
       "      <th>бар</th>\n",
       "      <td>35</td>\n",
       "    </tr>\n",
       "    <tr>\n",
       "      <th>буфет</th>\n",
       "      <td>32</td>\n",
       "    </tr>\n",
       "    <tr>\n",
       "      <th>кафе</th>\n",
       "      <td>30</td>\n",
       "    </tr>\n",
       "    <tr>\n",
       "      <th>кафетерий</th>\n",
       "      <td>6</td>\n",
       "    </tr>\n",
       "    <tr>\n",
       "      <th>предприятие быстрого обслуживания</th>\n",
       "      <td>6</td>\n",
       "    </tr>\n",
       "    <tr>\n",
       "      <th>закусочная</th>\n",
       "      <td>0</td>\n",
       "    </tr>\n",
       "    <tr>\n",
       "      <th>магазин (отдел кулинарии)</th>\n",
       "      <td>0</td>\n",
       "    </tr>\n",
       "  </tbody>\n",
       "</table>\n",
       "</div>"
      ],
      "text/plain": [
       "                                   number_median\n",
       "object_type                                     \n",
       "столовая                                     103\n",
       "ресторан                                      80\n",
       "бар                                           35\n",
       "буфет                                         32\n",
       "кафе                                          30\n",
       "кафетерий                                      6\n",
       "предприятие быстрого обслуживания              6\n",
       "закусочная                                     0\n",
       "магазин (отдел кулинарии)                      0"
      ]
     },
     "metadata": {},
     "output_type": "display_data"
    }
   ],
   "source": [
    "\n",
    "rest_number_median = (df\n",
    "                      .groupby(['object_type'])\n",
    "                      .agg(number_median=('number', 'median'))\n",
    "                      .sort_values('number_median', ascending=False)\n",
    "                     )\n",
    "plt.figure(figsize=(12, 5))\n",
    "plt.title('Среднее количество посадочных мест')\n",
    "sns.lineplot(data=rest_number_median, palette=\"tab10\", linewidth=2.5, sort=False)\n",
    "plt.xlabel('Тип заведения')\n",
    "plt.ylabel('Количество мест') \n",
    "plt.xticks(rotation=45)\n",
    "plt.show()\n",
    "\n",
    "display(rest_number_median)"
   ]
  },
  {
   "cell_type": "markdown",
   "metadata": {},
   "source": [
    "### Вывод"
   ]
  },
  {
   "cell_type": "markdown",
   "metadata": {},
   "source": [
    "На первом месте по количеству посадочных мест в среднем - столовые (103), на втором - рестораны (80).\n",
    "Затем по убыванию количества мест идут бары (35), буфеты (32) и кафе (30).\n",
    "Кафетерии (6) и предприятия быстрого обслуживания (6) предоставляют в среднем очень небольшое количество мест для посетителей.\n",
    "В закусочных и магазинах посадочных мест в среднем отсутствуют.\n",
    "\n"
   ]
  },
  {
   "cell_type": "markdown",
   "metadata": {},
   "source": [
    "### Выделение в отдельный столбец информации об улице из столбца address "
   ]
  },
  {
   "cell_type": "code",
   "execution_count": 25,
   "metadata": {},
   "outputs": [
    {
     "data": {
      "text/html": [
       "<div>\n",
       "<style scoped>\n",
       "    .dataframe tbody tr th:only-of-type {\n",
       "        vertical-align: middle;\n",
       "    }\n",
       "\n",
       "    .dataframe tbody tr th {\n",
       "        vertical-align: top;\n",
       "    }\n",
       "\n",
       "    .dataframe thead th {\n",
       "        text-align: right;\n",
       "    }\n",
       "</style>\n",
       "<table border=\"1\" class=\"dataframe\">\n",
       "  <thead>\n",
       "    <tr style=\"text-align: right;\">\n",
       "      <th></th>\n",
       "      <th>object_name</th>\n",
       "      <th>chain</th>\n",
       "      <th>object_type</th>\n",
       "      <th>address</th>\n",
       "      <th>number</th>\n",
       "      <th>street_name</th>\n",
       "    </tr>\n",
       "  </thead>\n",
       "  <tbody>\n",
       "    <tr>\n",
       "      <th>0</th>\n",
       "      <td>сметана</td>\n",
       "      <td>False</td>\n",
       "      <td>кафе</td>\n",
       "      <td>город москва, улица егора абакумова, дом 9</td>\n",
       "      <td>48</td>\n",
       "      <td>улица егора абакумова</td>\n",
       "    </tr>\n",
       "    <tr>\n",
       "      <th>1</th>\n",
       "      <td>родник</td>\n",
       "      <td>False</td>\n",
       "      <td>кафе</td>\n",
       "      <td>город москва, улица талалихина, дом 2/1, корпус 1</td>\n",
       "      <td>35</td>\n",
       "      <td>улица талалихина</td>\n",
       "    </tr>\n",
       "    <tr>\n",
       "      <th>2</th>\n",
       "      <td>кафе «академия»</td>\n",
       "      <td>False</td>\n",
       "      <td>кафе</td>\n",
       "      <td>город москва, абельмановская улица, дом 6</td>\n",
       "      <td>95</td>\n",
       "      <td>абельмановская улица</td>\n",
       "    </tr>\n",
       "    <tr>\n",
       "      <th>3</th>\n",
       "      <td>пиццетория</td>\n",
       "      <td>True</td>\n",
       "      <td>кафе</td>\n",
       "      <td>город москва, абрамцевская улица, дом 1</td>\n",
       "      <td>40</td>\n",
       "      <td>абрамцевская улица</td>\n",
       "    </tr>\n",
       "    <tr>\n",
       "      <th>4</th>\n",
       "      <td>кафе «вишневая метель»</td>\n",
       "      <td>False</td>\n",
       "      <td>кафе</td>\n",
       "      <td>город москва, абрамцевская улица, дом 9, корпус 1</td>\n",
       "      <td>50</td>\n",
       "      <td>абрамцевская улица</td>\n",
       "    </tr>\n",
       "    <tr>\n",
       "      <th>5</th>\n",
       "      <td>стол. при гоу сош № 1051</td>\n",
       "      <td>False</td>\n",
       "      <td>столовая</td>\n",
       "      <td>город москва, абрамцевская улица, дом 15, корп...</td>\n",
       "      <td>240</td>\n",
       "      <td>абрамцевская улица</td>\n",
       "    </tr>\n",
       "    <tr>\n",
       "      <th>6</th>\n",
       "      <td>брусника</td>\n",
       "      <td>True</td>\n",
       "      <td>кафе</td>\n",
       "      <td>город москва, переулок сивцев вражек, дом 6/2</td>\n",
       "      <td>10</td>\n",
       "      <td>переулок сивцев вражек</td>\n",
       "    </tr>\n",
       "    <tr>\n",
       "      <th>7</th>\n",
       "      <td>буфет мтуси</td>\n",
       "      <td>False</td>\n",
       "      <td>столовая</td>\n",
       "      <td>город москва, авиамоторная улица, дом 8, строе...</td>\n",
       "      <td>90</td>\n",
       "      <td>авиамоторная улица</td>\n",
       "    </tr>\n",
       "    <tr>\n",
       "      <th>8</th>\n",
       "      <td>кпф семья-1</td>\n",
       "      <td>False</td>\n",
       "      <td>столовая</td>\n",
       "      <td>город москва, авиамоторная улица, дом 8, строе...</td>\n",
       "      <td>150</td>\n",
       "      <td>авиамоторная улица</td>\n",
       "    </tr>\n",
       "    <tr>\n",
       "      <th>9</th>\n",
       "      <td>столовая мтуси</td>\n",
       "      <td>False</td>\n",
       "      <td>столовая</td>\n",
       "      <td>город москва, авиамоторная улица, дом 8, строе...</td>\n",
       "      <td>120</td>\n",
       "      <td>авиамоторная улица</td>\n",
       "    </tr>\n",
       "  </tbody>\n",
       "</table>\n",
       "</div>"
      ],
      "text/plain": [
       "                object_name  chain object_type  \\\n",
       "0                   сметана  False        кафе   \n",
       "1                    родник  False        кафе   \n",
       "2           кафе «академия»  False        кафе   \n",
       "3                пиццетория   True        кафе   \n",
       "4    кафе «вишневая метель»  False        кафе   \n",
       "5  стол. при гоу сош № 1051  False    столовая   \n",
       "6                  брусника   True        кафе   \n",
       "7               буфет мтуси  False    столовая   \n",
       "8               кпф семья-1  False    столовая   \n",
       "9            столовая мтуси  False    столовая   \n",
       "\n",
       "                                             address  number  \\\n",
       "0         город москва, улица егора абакумова, дом 9      48   \n",
       "1  город москва, улица талалихина, дом 2/1, корпус 1      35   \n",
       "2          город москва, абельмановская улица, дом 6      95   \n",
       "3            город москва, абрамцевская улица, дом 1      40   \n",
       "4  город москва, абрамцевская улица, дом 9, корпус 1      50   \n",
       "5  город москва, абрамцевская улица, дом 15, корп...     240   \n",
       "6      город москва, переулок сивцев вражек, дом 6/2      10   \n",
       "7  город москва, авиамоторная улица, дом 8, строе...      90   \n",
       "8  город москва, авиамоторная улица, дом 8, строе...     150   \n",
       "9  город москва, авиамоторная улица, дом 8, строе...     120   \n",
       "\n",
       "              street_name  \n",
       "0   улица егора абакумова  \n",
       "1        улица талалихина  \n",
       "2    абельмановская улица  \n",
       "3      абрамцевская улица  \n",
       "4      абрамцевская улица  \n",
       "5      абрамцевская улица  \n",
       "6  переулок сивцев вражек  \n",
       "7      авиамоторная улица  \n",
       "8      авиамоторная улица  \n",
       "9      авиамоторная улица  "
      ]
     },
     "metadata": {},
     "output_type": "display_data"
    }
   ],
   "source": [
    "#([А-яё0-9\\s]+)? - любое количество цифр букв пробелов предшествующие словам улица|переулок|шоссе|площадь|проспект|проезд|бульвар|набережная|микрорайон|аллея|квартал|линия|тупик\n",
    "# (улица|переулок) ключевые слова\n",
    "# ([А-яё0-9\\s]+)? любое количество цифр букв пробелов идущих сразу за словам улица|переулок|шоссе|площадь|проспект|проезд|бульвар|набережная|микрорайон|аллея|квартал|линия|тупик\n",
    "df['street_name'] = (df['address'].str.extract('(([А-яё0-9\\s\\-]+)?(улица|переулок|шоссе|площадь|проспект|проезд|бульвар|набережная|микрорайон|аллея|квартал|линия|тупик)([А-яё0-9\\s]+)?)')[0])\n",
    "\n",
    "# .str.strip() Метод str.strip() вернет копию строки str с удаленными начальными и конечными символами chars. \n",
    "# Другими словами, обрежет строку str с обоих концов. Аргумент chars - это строка, указывающая набор удаляемых символов. \n",
    "# Если аргумент chars не задан или None, то по умолчанию удалит пробелы с обоих концов строки.\n",
    "\n",
    "df['street_name'] = df['street_name'].str.strip()\n",
    "display(df.head(10))"
   ]
  },
  {
   "cell_type": "code",
   "execution_count": 26,
   "metadata": {},
   "outputs": [
    {
     "data": {
      "text/html": [
       "<div>\n",
       "<style scoped>\n",
       "    .dataframe tbody tr th:only-of-type {\n",
       "        vertical-align: middle;\n",
       "    }\n",
       "\n",
       "    .dataframe tbody tr th {\n",
       "        vertical-align: top;\n",
       "    }\n",
       "\n",
       "    .dataframe thead th {\n",
       "        text-align: right;\n",
       "    }\n",
       "</style>\n",
       "<table border=\"1\" class=\"dataframe\">\n",
       "  <thead>\n",
       "    <tr style=\"text-align: right;\">\n",
       "      <th></th>\n",
       "      <th>object_name</th>\n",
       "      <th>chain</th>\n",
       "      <th>object_type</th>\n",
       "      <th>address</th>\n",
       "      <th>number</th>\n",
       "      <th>street_name</th>\n",
       "    </tr>\n",
       "  </thead>\n",
       "  <tbody>\n",
       "    <tr>\n",
       "      <th>1405</th>\n",
       "      <td>это</td>\n",
       "      <td>False</td>\n",
       "      <td>кафе</td>\n",
       "      <td>город москва, город зеленоград, корпус 401</td>\n",
       "      <td>35</td>\n",
       "      <td>NaN</td>\n",
       "    </tr>\n",
       "    <tr>\n",
       "      <th>1406</th>\n",
       "      <td>френдс</td>\n",
       "      <td>False</td>\n",
       "      <td>кафе</td>\n",
       "      <td>город москва, город зеленоград, корпус 435</td>\n",
       "      <td>34</td>\n",
       "      <td>NaN</td>\n",
       "    </tr>\n",
       "    <tr>\n",
       "      <th>1407</th>\n",
       "      <td>кафе «граф монте-кристо»</td>\n",
       "      <td>False</td>\n",
       "      <td>кафе</td>\n",
       "      <td>город москва, город зеленоград, корпус 436</td>\n",
       "      <td>40</td>\n",
       "      <td>NaN</td>\n",
       "    </tr>\n",
       "    <tr>\n",
       "      <th>1408</th>\n",
       "      <td>альфорно</td>\n",
       "      <td>False</td>\n",
       "      <td>кафе</td>\n",
       "      <td>город москва, город зеленоград, корпус 438</td>\n",
       "      <td>49</td>\n",
       "      <td>NaN</td>\n",
       "    </tr>\n",
       "    <tr>\n",
       "      <th>1409</th>\n",
       "      <td>альфорно</td>\n",
       "      <td>False</td>\n",
       "      <td>кафе</td>\n",
       "      <td>город москва, город зеленоград, корпус 438</td>\n",
       "      <td>45</td>\n",
       "      <td>NaN</td>\n",
       "    </tr>\n",
       "    <tr>\n",
       "      <th>...</th>\n",
       "      <td>...</td>\n",
       "      <td>...</td>\n",
       "      <td>...</td>\n",
       "      <td>...</td>\n",
       "      <td>...</td>\n",
       "      <td>...</td>\n",
       "    </tr>\n",
       "    <tr>\n",
       "      <th>14898</th>\n",
       "      <td>кафе</td>\n",
       "      <td>False</td>\n",
       "      <td>буфет</td>\n",
       "      <td>город москва, поселение десеновское, деревня в...</td>\n",
       "      <td>10</td>\n",
       "      <td>NaN</td>\n",
       "    </tr>\n",
       "    <tr>\n",
       "      <th>14914</th>\n",
       "      <td>шашлычный дворик</td>\n",
       "      <td>False</td>\n",
       "      <td>кафе</td>\n",
       "      <td>город москва, поселение десеновское, деревня в...</td>\n",
       "      <td>15</td>\n",
       "      <td>NaN</td>\n",
       "    </tr>\n",
       "    <tr>\n",
       "      <th>14915</th>\n",
       "      <td>кафе «сахли»</td>\n",
       "      <td>False</td>\n",
       "      <td>закусочная</td>\n",
       "      <td>город москва, поселение десеновское, деревня в...</td>\n",
       "      <td>10</td>\n",
       "      <td>NaN</td>\n",
       "    </tr>\n",
       "    <tr>\n",
       "      <th>14932</th>\n",
       "      <td>газпромнефть</td>\n",
       "      <td>False</td>\n",
       "      <td>кафе</td>\n",
       "      <td>поселение \"мосрентген\", деревня дудкино, владе...</td>\n",
       "      <td>20</td>\n",
       "      <td>NaN</td>\n",
       "    </tr>\n",
       "    <tr>\n",
       "      <th>15100</th>\n",
       "      <td>пицца паоло</td>\n",
       "      <td>True</td>\n",
       "      <td>кафетерий</td>\n",
       "      <td>город москва, город зеленоград, корпус 1627</td>\n",
       "      <td>0</td>\n",
       "      <td>NaN</td>\n",
       "    </tr>\n",
       "  </tbody>\n",
       "</table>\n",
       "<p>320 rows × 6 columns</p>\n",
       "</div>"
      ],
      "text/plain": [
       "                    object_name  chain object_type  \\\n",
       "1405                        это  False        кафе   \n",
       "1406                     френдс  False        кафе   \n",
       "1407   кафе «граф монте-кристо»  False        кафе   \n",
       "1408                   альфорно  False        кафе   \n",
       "1409                   альфорно  False        кафе   \n",
       "...                         ...    ...         ...   \n",
       "14898                      кафе  False       буфет   \n",
       "14914          шашлычный дворик  False        кафе   \n",
       "14915              кафе «сахли»  False  закусочная   \n",
       "14932              газпромнефть  False        кафе   \n",
       "15100               пицца паоло   True   кафетерий   \n",
       "\n",
       "                                                 address  number street_name  \n",
       "1405          город москва, город зеленоград, корпус 401      35         NaN  \n",
       "1406          город москва, город зеленоград, корпус 435      34         NaN  \n",
       "1407          город москва, город зеленоград, корпус 436      40         NaN  \n",
       "1408          город москва, город зеленоград, корпус 438      49         NaN  \n",
       "1409          город москва, город зеленоград, корпус 438      45         NaN  \n",
       "...                                                  ...     ...         ...  \n",
       "14898  город москва, поселение десеновское, деревня в...      10         NaN  \n",
       "14914  город москва, поселение десеновское, деревня в...      15         NaN  \n",
       "14915  город москва, поселение десеновское, деревня в...      10         NaN  \n",
       "14932  поселение \"мосрентген\", деревня дудкино, владе...      20         NaN  \n",
       "15100        город москва, город зеленоград, корпус 1627       0         NaN  \n",
       "\n",
       "[320 rows x 6 columns]"
      ]
     },
     "metadata": {},
     "output_type": "display_data"
    }
   ],
   "source": [
    "# посмотрим, появились ли пропуски\n",
    "display(df[df['street_name'].isna()])"
   ]
  },
  {
   "cell_type": "markdown",
   "metadata": {},
   "source": [
    "Появились пропуски в столбце названий улиц, в количестве 320 ед., но это не критично и допустимо, так как при заполнении данных возможны пропуски в данной информации."
   ]
  },
  {
   "cell_type": "markdown",
   "metadata": {},
   "source": [
    "### Определение топ-10 улиц по количеству объектов общественного питания и с использованием внешней информации определить районы их нахождения"
   ]
  },
  {
   "cell_type": "code",
   "execution_count": 27,
   "metadata": {},
   "outputs": [
    {
     "name": "stdout",
     "output_type": "stream",
     "text": [
      "                        streetname  areaid okrug               area\n",
      "0             Выставочный переулок      17   ЦАО  Пресненский район\n",
      "1                     улица Гашека      17   ЦАО  Пресненский район\n",
      "2          Большая Никитская улица      17   ЦАО  Пресненский район\n",
      "3                Глубокий переулок      17   ЦАО  Пресненский район\n",
      "4  Большой Гнездниковский переулок      17   ЦАО  Пресненский район\n"
     ]
    }
   ],
   "source": [
    "# загрузим внешние данные по распередению улиц по округам из сайта Мосгаз, для дальнейшей работы и сохраним в переменную, проверим\n",
    "new_df_street = pd.read_csv('https://frs.noosphere.ru/xmlui/bitstream/handle/20.500.11925/714058/mosgaz-streets.csv?sequence=1&isAllowed=y')\n",
    "print(new_df_street.head())"
   ]
  },
  {
   "cell_type": "code",
   "execution_count": 28,
   "metadata": {},
   "outputs": [
    {
     "data": {
      "text/html": [
       "<div>\n",
       "<style scoped>\n",
       "    .dataframe tbody tr th:only-of-type {\n",
       "        vertical-align: middle;\n",
       "    }\n",
       "\n",
       "    .dataframe tbody tr th {\n",
       "        vertical-align: top;\n",
       "    }\n",
       "\n",
       "    .dataframe thead th {\n",
       "        text-align: right;\n",
       "    }\n",
       "</style>\n",
       "<table border=\"1\" class=\"dataframe\">\n",
       "  <thead>\n",
       "    <tr style=\"text-align: right;\">\n",
       "      <th></th>\n",
       "      <th>street_name</th>\n",
       "      <th>object_name</th>\n",
       "      <th>chain</th>\n",
       "      <th>object_type</th>\n",
       "      <th>address</th>\n",
       "      <th>number</th>\n",
       "    </tr>\n",
       "  </thead>\n",
       "  <tbody>\n",
       "    <tr>\n",
       "      <th>0</th>\n",
       "      <td>проспект мира</td>\n",
       "      <td>203</td>\n",
       "      <td>203</td>\n",
       "      <td>203</td>\n",
       "      <td>203</td>\n",
       "      <td>203</td>\n",
       "    </tr>\n",
       "    <tr>\n",
       "      <th>1</th>\n",
       "      <td>профсоюзная улица</td>\n",
       "      <td>182</td>\n",
       "      <td>182</td>\n",
       "      <td>182</td>\n",
       "      <td>182</td>\n",
       "      <td>182</td>\n",
       "    </tr>\n",
       "    <tr>\n",
       "      <th>2</th>\n",
       "      <td>ленинградский проспект</td>\n",
       "      <td>172</td>\n",
       "      <td>172</td>\n",
       "      <td>172</td>\n",
       "      <td>172</td>\n",
       "      <td>172</td>\n",
       "    </tr>\n",
       "    <tr>\n",
       "      <th>3</th>\n",
       "      <td>пресненская набережная</td>\n",
       "      <td>167</td>\n",
       "      <td>167</td>\n",
       "      <td>167</td>\n",
       "      <td>167</td>\n",
       "      <td>167</td>\n",
       "    </tr>\n",
       "    <tr>\n",
       "      <th>4</th>\n",
       "      <td>варшавское шоссе</td>\n",
       "      <td>165</td>\n",
       "      <td>165</td>\n",
       "      <td>165</td>\n",
       "      <td>165</td>\n",
       "      <td>165</td>\n",
       "    </tr>\n",
       "    <tr>\n",
       "      <th>5</th>\n",
       "      <td>ленинский проспект</td>\n",
       "      <td>148</td>\n",
       "      <td>148</td>\n",
       "      <td>148</td>\n",
       "      <td>148</td>\n",
       "      <td>148</td>\n",
       "    </tr>\n",
       "    <tr>\n",
       "      <th>6</th>\n",
       "      <td>проспект вернадского</td>\n",
       "      <td>128</td>\n",
       "      <td>128</td>\n",
       "      <td>128</td>\n",
       "      <td>128</td>\n",
       "      <td>128</td>\n",
       "    </tr>\n",
       "    <tr>\n",
       "      <th>7</th>\n",
       "      <td>кутузовский проспект</td>\n",
       "      <td>114</td>\n",
       "      <td>114</td>\n",
       "      <td>114</td>\n",
       "      <td>114</td>\n",
       "      <td>114</td>\n",
       "    </tr>\n",
       "    <tr>\n",
       "      <th>8</th>\n",
       "      <td>каширское шоссе</td>\n",
       "      <td>111</td>\n",
       "      <td>111</td>\n",
       "      <td>111</td>\n",
       "      <td>111</td>\n",
       "      <td>111</td>\n",
       "    </tr>\n",
       "    <tr>\n",
       "      <th>9</th>\n",
       "      <td>кировоградская улица</td>\n",
       "      <td>108</td>\n",
       "      <td>108</td>\n",
       "      <td>108</td>\n",
       "      <td>108</td>\n",
       "      <td>108</td>\n",
       "    </tr>\n",
       "  </tbody>\n",
       "</table>\n",
       "</div>"
      ],
      "text/plain": [
       "              street_name  object_name  chain  object_type  address  number\n",
       "0           проспект мира          203    203          203      203     203\n",
       "1       профсоюзная улица          182    182          182      182     182\n",
       "2  ленинградский проспект          172    172          172      172     172\n",
       "3  пресненская набережная          167    167          167      167     167\n",
       "4        варшавское шоссе          165    165          165      165     165\n",
       "5      ленинский проспект          148    148          148      148     148\n",
       "6    проспект вернадского          128    128          128      128     128\n",
       "7    кутузовский проспект          114    114          114      114     114\n",
       "8         каширское шоссе          111    111          111      111     111\n",
       "9    кировоградская улица          108    108          108      108     108"
      ]
     },
     "execution_count": 28,
     "metadata": {},
     "output_type": "execute_result"
    }
   ],
   "source": [
    "# находим топ-10 улиц с наибольшим количеством заведений\n",
    "temp = df.groupby('street_name').count().sort_values(by='object_type', ascending=False).head(10).reset_index()\n",
    "top_10 = list(temp['street_name'])\n",
    "temp"
   ]
  },
  {
   "cell_type": "code",
   "execution_count": 29,
   "metadata": {},
   "outputs": [
    {
     "data": {
      "image/png": "[encoded data removed]",
      "text/plain": [
       "<Figure size 432x288 with 1 Axes>"
      ]
     },
     "metadata": {
      "needs_background": "light"
     },
     "output_type": "display_data"
    }
   ],
   "source": [
    "# построим график\n",
    "ax = sns.barplot(x='object_type', y='street_name', data=temp, palette=\"magma\", alpha=.8, orient='h')\n",
    "ax.set_xlabel('Количество объектов')\n",
    "ax.set_ylabel('Название улицы')\n",
    "ax.set_title('Топ-10 улиц по количеству объектов общественного питания')\n",
    "plt.xticks(rotation=100)\n",
    "plt.show()\n",
    "\n"
   ]
  },
  {
   "cell_type": "markdown",
   "metadata": {},
   "source": [
    "Определим районы Москвы, в которых находятся эти улицы? с помощью внешних данных, сохраненных в переменной 'new_df_street'."
   ]
  },
  {
   "cell_type": "code",
   "execution_count": 30,
   "metadata": {},
   "outputs": [
    {
     "data": {
      "text/html": [
       "<div>\n",
       "<style scoped>\n",
       "    .dataframe tbody tr th:only-of-type {\n",
       "        vertical-align: middle;\n",
       "    }\n",
       "\n",
       "    .dataframe tbody tr th {\n",
       "        vertical-align: top;\n",
       "    }\n",
       "\n",
       "    .dataframe thead th {\n",
       "        text-align: right;\n",
       "    }\n",
       "</style>\n",
       "<table border=\"1\" class=\"dataframe\">\n",
       "  <thead>\n",
       "    <tr style=\"text-align: right;\">\n",
       "      <th></th>\n",
       "      <th>streetname</th>\n",
       "      <th>areaid</th>\n",
       "      <th>okrug</th>\n",
       "      <th>area</th>\n",
       "    </tr>\n",
       "  </thead>\n",
       "  <tbody>\n",
       "    <tr>\n",
       "      <th>0</th>\n",
       "      <td>выставочный переулок</td>\n",
       "      <td>17</td>\n",
       "      <td>ЦАО</td>\n",
       "      <td>Пресненский район</td>\n",
       "    </tr>\n",
       "    <tr>\n",
       "      <th>1</th>\n",
       "      <td>улица гашека</td>\n",
       "      <td>17</td>\n",
       "      <td>ЦАО</td>\n",
       "      <td>Пресненский район</td>\n",
       "    </tr>\n",
       "    <tr>\n",
       "      <th>2</th>\n",
       "      <td>большая никитская улица</td>\n",
       "      <td>17</td>\n",
       "      <td>ЦАО</td>\n",
       "      <td>Пресненский район</td>\n",
       "    </tr>\n",
       "    <tr>\n",
       "      <th>3</th>\n",
       "      <td>глубокий переулок</td>\n",
       "      <td>17</td>\n",
       "      <td>ЦАО</td>\n",
       "      <td>Пресненский район</td>\n",
       "    </tr>\n",
       "    <tr>\n",
       "      <th>4</th>\n",
       "      <td>большой гнездниковский переулок</td>\n",
       "      <td>17</td>\n",
       "      <td>ЦАО</td>\n",
       "      <td>Пресненский район</td>\n",
       "    </tr>\n",
       "  </tbody>\n",
       "</table>\n",
       "</div>"
      ],
      "text/plain": [
       "                        streetname  areaid okrug               area\n",
       "0             выставочный переулок      17   ЦАО  Пресненский район\n",
       "1                     улица гашека      17   ЦАО  Пресненский район\n",
       "2          большая никитская улица      17   ЦАО  Пресненский район\n",
       "3                глубокий переулок      17   ЦАО  Пресненский район\n",
       "4  большой гнездниковский переулок      17   ЦАО  Пресненский район"
      ]
     },
     "execution_count": 30,
     "metadata": {},
     "output_type": "execute_result"
    }
   ],
   "source": [
    "# добавляем информацию о районах для топ-10 улиц\n",
    "new_df_street['streetname'] = new_df_street['streetname'].str.lower()\n",
    "new_df_street['streetname'] = new_df_street['streetname'].str.strip()\n",
    "\n",
    "new_df_street.head()\n",
    " \n",
    "\n",
    "\n"
   ]
  },
  {
   "cell_type": "code",
   "execution_count": 31,
   "metadata": {
    "scrolled": true
   },
   "outputs": [
    {
     "data": {
      "text/html": [
       "<div>\n",
       "<style scoped>\n",
       "    .dataframe tbody tr th:only-of-type {\n",
       "        vertical-align: middle;\n",
       "    }\n",
       "\n",
       "    .dataframe tbody tr th {\n",
       "        vertical-align: top;\n",
       "    }\n",
       "\n",
       "    .dataframe thead th {\n",
       "        text-align: right;\n",
       "    }\n",
       "</style>\n",
       "<table border=\"1\" class=\"dataframe\">\n",
       "  <thead>\n",
       "    <tr style=\"text-align: right;\">\n",
       "      <th></th>\n",
       "      <th>street_name</th>\n",
       "      <th>okrug</th>\n",
       "      <th>area</th>\n",
       "    </tr>\n",
       "  </thead>\n",
       "  <tbody>\n",
       "    <tr>\n",
       "      <th>0</th>\n",
       "      <td>проспект мира</td>\n",
       "      <td>СВАО</td>\n",
       "      <td>Алексеевский район</td>\n",
       "    </tr>\n",
       "    <tr>\n",
       "      <th>1</th>\n",
       "      <td>проспект мира</td>\n",
       "      <td>СВАО</td>\n",
       "      <td>Ярославский Район</td>\n",
       "    </tr>\n",
       "    <tr>\n",
       "      <th>2</th>\n",
       "      <td>проспект мира</td>\n",
       "      <td>СВАО</td>\n",
       "      <td>Район Марьина роща</td>\n",
       "    </tr>\n",
       "    <tr>\n",
       "      <th>3</th>\n",
       "      <td>проспект мира</td>\n",
       "      <td>СВАО</td>\n",
       "      <td>Останкинский район</td>\n",
       "    </tr>\n",
       "    <tr>\n",
       "      <th>4</th>\n",
       "      <td>проспект мира</td>\n",
       "      <td>СВАО</td>\n",
       "      <td>Район Ростокино</td>\n",
       "    </tr>\n",
       "    <tr>\n",
       "      <th>5</th>\n",
       "      <td>проспект мира</td>\n",
       "      <td>СВАО</td>\n",
       "      <td>Район Свиблово</td>\n",
       "    </tr>\n",
       "    <tr>\n",
       "      <th>6</th>\n",
       "      <td>проспект мира</td>\n",
       "      <td>ЦАО</td>\n",
       "      <td>Мещанский район</td>\n",
       "    </tr>\n",
       "    <tr>\n",
       "      <th>7</th>\n",
       "      <td>профсоюзная улица</td>\n",
       "      <td>ЮЗАО</td>\n",
       "      <td>Академический район</td>\n",
       "    </tr>\n",
       "    <tr>\n",
       "      <th>8</th>\n",
       "      <td>профсоюзная улица</td>\n",
       "      <td>ЮЗАО</td>\n",
       "      <td>Район Черемушки</td>\n",
       "    </tr>\n",
       "    <tr>\n",
       "      <th>9</th>\n",
       "      <td>профсоюзная улица</td>\n",
       "      <td>ЮЗАО</td>\n",
       "      <td>Район Ясенево</td>\n",
       "    </tr>\n",
       "    <tr>\n",
       "      <th>10</th>\n",
       "      <td>профсоюзная улица</td>\n",
       "      <td>ЮЗАО</td>\n",
       "      <td>Район Коньково</td>\n",
       "    </tr>\n",
       "    <tr>\n",
       "      <th>11</th>\n",
       "      <td>профсоюзная улица</td>\n",
       "      <td>ЮЗАО</td>\n",
       "      <td>Обручевский район</td>\n",
       "    </tr>\n",
       "    <tr>\n",
       "      <th>12</th>\n",
       "      <td>профсоюзная улица</td>\n",
       "      <td>ЮЗАО</td>\n",
       "      <td>Район Теплый Стан</td>\n",
       "    </tr>\n",
       "    <tr>\n",
       "      <th>13</th>\n",
       "      <td>ленинградский проспект</td>\n",
       "      <td>САО</td>\n",
       "      <td>Район Аэропорт</td>\n",
       "    </tr>\n",
       "    <tr>\n",
       "      <th>14</th>\n",
       "      <td>ленинградский проспект</td>\n",
       "      <td>САО</td>\n",
       "      <td>Район Беговой</td>\n",
       "    </tr>\n",
       "    <tr>\n",
       "      <th>15</th>\n",
       "      <td>ленинградский проспект</td>\n",
       "      <td>САО</td>\n",
       "      <td>Хорошевский район</td>\n",
       "    </tr>\n",
       "    <tr>\n",
       "      <th>16</th>\n",
       "      <td>ленинградский проспект</td>\n",
       "      <td>САО</td>\n",
       "      <td>Район Сокол</td>\n",
       "    </tr>\n",
       "    <tr>\n",
       "      <th>17</th>\n",
       "      <td>пресненская набережная</td>\n",
       "      <td>ЦАО</td>\n",
       "      <td>Пресненский район</td>\n",
       "    </tr>\n",
       "    <tr>\n",
       "      <th>18</th>\n",
       "      <td>варшавское шоссе</td>\n",
       "      <td>ЮАО</td>\n",
       "      <td>Район Чертаново Центральное</td>\n",
       "    </tr>\n",
       "    <tr>\n",
       "      <th>19</th>\n",
       "      <td>варшавское шоссе</td>\n",
       "      <td>ЮАО</td>\n",
       "      <td>Район Чертаново Северное</td>\n",
       "    </tr>\n",
       "    <tr>\n",
       "      <th>20</th>\n",
       "      <td>варшавское шоссе</td>\n",
       "      <td>ЮАО</td>\n",
       "      <td>Район Чертаново Южное</td>\n",
       "    </tr>\n",
       "    <tr>\n",
       "      <th>21</th>\n",
       "      <td>варшавское шоссе</td>\n",
       "      <td>ЮАО</td>\n",
       "      <td>Донской район</td>\n",
       "    </tr>\n",
       "    <tr>\n",
       "      <th>22</th>\n",
       "      <td>варшавское шоссе</td>\n",
       "      <td>ЮАО</td>\n",
       "      <td>Район Нагатино-Садовники</td>\n",
       "    </tr>\n",
       "    <tr>\n",
       "      <th>23</th>\n",
       "      <td>варшавское шоссе</td>\n",
       "      <td>ЮАО</td>\n",
       "      <td>Нагорный район</td>\n",
       "    </tr>\n",
       "    <tr>\n",
       "      <th>24</th>\n",
       "      <td>варшавское шоссе</td>\n",
       "      <td>ЮЗАО</td>\n",
       "      <td>Район Северное Бутово</td>\n",
       "    </tr>\n",
       "    <tr>\n",
       "      <th>25</th>\n",
       "      <td>варшавское шоссе</td>\n",
       "      <td>ЮЗАО</td>\n",
       "      <td>Район Южное Бутово</td>\n",
       "    </tr>\n",
       "    <tr>\n",
       "      <th>26</th>\n",
       "      <td>ленинский проспект</td>\n",
       "      <td>ЗАО</td>\n",
       "      <td>Район Проспект Вернадского</td>\n",
       "    </tr>\n",
       "    <tr>\n",
       "      <th>27</th>\n",
       "      <td>ленинский проспект</td>\n",
       "      <td>ЗАО</td>\n",
       "      <td>Район Тропарево-Никулино</td>\n",
       "    </tr>\n",
       "    <tr>\n",
       "      <th>28</th>\n",
       "      <td>ленинский проспект</td>\n",
       "      <td>ЮАО</td>\n",
       "      <td>Донской район</td>\n",
       "    </tr>\n",
       "    <tr>\n",
       "      <th>29</th>\n",
       "      <td>ленинский проспект</td>\n",
       "      <td>ЮЗАО</td>\n",
       "      <td>Район Гагаринский</td>\n",
       "    </tr>\n",
       "    <tr>\n",
       "      <th>30</th>\n",
       "      <td>ленинский проспект</td>\n",
       "      <td>ЮЗАО</td>\n",
       "      <td>Ломоносовский район</td>\n",
       "    </tr>\n",
       "    <tr>\n",
       "      <th>31</th>\n",
       "      <td>ленинский проспект</td>\n",
       "      <td>ЮЗАО</td>\n",
       "      <td>Обручевский район</td>\n",
       "    </tr>\n",
       "    <tr>\n",
       "      <th>32</th>\n",
       "      <td>ленинский проспект</td>\n",
       "      <td>ЮЗАО</td>\n",
       "      <td>Район Теплый Стан</td>\n",
       "    </tr>\n",
       "    <tr>\n",
       "      <th>33</th>\n",
       "      <td>ленинский проспект</td>\n",
       "      <td>ЦАО</td>\n",
       "      <td>Район Якиманка</td>\n",
       "    </tr>\n",
       "    <tr>\n",
       "      <th>34</th>\n",
       "      <td>проспект вернадского</td>\n",
       "      <td>ЗАО</td>\n",
       "      <td>Район Проспект Вернадского</td>\n",
       "    </tr>\n",
       "    <tr>\n",
       "      <th>35</th>\n",
       "      <td>проспект вернадского</td>\n",
       "      <td>ЗАО</td>\n",
       "      <td>Район Раменки</td>\n",
       "    </tr>\n",
       "    <tr>\n",
       "      <th>36</th>\n",
       "      <td>проспект вернадского</td>\n",
       "      <td>ЗАО</td>\n",
       "      <td>Район Тропарево-Никулино</td>\n",
       "    </tr>\n",
       "    <tr>\n",
       "      <th>37</th>\n",
       "      <td>проспект вернадского</td>\n",
       "      <td>ЮЗАО</td>\n",
       "      <td>Район Гагаринский</td>\n",
       "    </tr>\n",
       "    <tr>\n",
       "      <th>38</th>\n",
       "      <td>проспект вернадского</td>\n",
       "      <td>ЮЗАО</td>\n",
       "      <td>Ломоносовский район</td>\n",
       "    </tr>\n",
       "    <tr>\n",
       "      <th>39</th>\n",
       "      <td>кутузовский проспект</td>\n",
       "      <td>ЗАО</td>\n",
       "      <td>Район Дорогомилово</td>\n",
       "    </tr>\n",
       "    <tr>\n",
       "      <th>40</th>\n",
       "      <td>кутузовский проспект</td>\n",
       "      <td>ЗАО</td>\n",
       "      <td>Район Фили-Давыдково</td>\n",
       "    </tr>\n",
       "    <tr>\n",
       "      <th>41</th>\n",
       "      <td>каширское шоссе</td>\n",
       "      <td>ЮАО</td>\n",
       "      <td>Район Москворечье-Сабурово</td>\n",
       "    </tr>\n",
       "    <tr>\n",
       "      <th>42</th>\n",
       "      <td>каширское шоссе</td>\n",
       "      <td>ЮАО</td>\n",
       "      <td>Район Нагатино-Садовники</td>\n",
       "    </tr>\n",
       "    <tr>\n",
       "      <th>43</th>\n",
       "      <td>каширское шоссе</td>\n",
       "      <td>ЮАО</td>\n",
       "      <td>Район Орехово-Борисово Южное</td>\n",
       "    </tr>\n",
       "    <tr>\n",
       "      <th>44</th>\n",
       "      <td>каширское шоссе</td>\n",
       "      <td>ЮАО</td>\n",
       "      <td>Район Орехово-Борисово Северное</td>\n",
       "    </tr>\n",
       "    <tr>\n",
       "      <th>45</th>\n",
       "      <td>кировоградская улица</td>\n",
       "      <td>ЮАО</td>\n",
       "      <td>Район Чертаново Центральное</td>\n",
       "    </tr>\n",
       "    <tr>\n",
       "      <th>46</th>\n",
       "      <td>кировоградская улица</td>\n",
       "      <td>ЮАО</td>\n",
       "      <td>Район Чертаново Северное</td>\n",
       "    </tr>\n",
       "    <tr>\n",
       "      <th>47</th>\n",
       "      <td>кировоградская улица</td>\n",
       "      <td>ЮАО</td>\n",
       "      <td>Район Чертаново Южное</td>\n",
       "    </tr>\n",
       "  </tbody>\n",
       "</table>\n",
       "</div>"
      ],
      "text/plain": [
       "               street_name okrug                             area\n",
       "0            проспект мира  СВАО               Алексеевский район\n",
       "1            проспект мира  СВАО                Ярославский Район\n",
       "2            проспект мира  СВАО               Район Марьина роща\n",
       "3            проспект мира  СВАО               Останкинский район\n",
       "4            проспект мира  СВАО                  Район Ростокино\n",
       "5            проспект мира  СВАО                   Район Свиблово\n",
       "6            проспект мира   ЦАО                  Мещанский район\n",
       "7        профсоюзная улица  ЮЗАО              Академический район\n",
       "8        профсоюзная улица  ЮЗАО                  Район Черемушки\n",
       "9        профсоюзная улица  ЮЗАО                    Район Ясенево\n",
       "10       профсоюзная улица  ЮЗАО                   Район Коньково\n",
       "11       профсоюзная улица  ЮЗАО                Обручевский район\n",
       "12       профсоюзная улица  ЮЗАО                Район Теплый Стан\n",
       "13  ленинградский проспект   САО                   Район Аэропорт\n",
       "14  ленинградский проспект   САО                    Район Беговой\n",
       "15  ленинградский проспект   САО                Хорошевский район\n",
       "16  ленинградский проспект   САО                      Район Сокол\n",
       "17  пресненская набережная   ЦАО                Пресненский район\n",
       "18        варшавское шоссе   ЮАО      Район Чертаново Центральное\n",
       "19        варшавское шоссе   ЮАО         Район Чертаново Северное\n",
       "20        варшавское шоссе   ЮАО            Район Чертаново Южное\n",
       "21        варшавское шоссе   ЮАО                    Донской район\n",
       "22        варшавское шоссе   ЮАО         Район Нагатино-Садовники\n",
       "23        варшавское шоссе   ЮАО                   Нагорный район\n",
       "24        варшавское шоссе  ЮЗАО            Район Северное Бутово\n",
       "25        варшавское шоссе  ЮЗАО               Район Южное Бутово\n",
       "26      ленинский проспект   ЗАО       Район Проспект Вернадского\n",
       "27      ленинский проспект   ЗАО         Район Тропарево-Никулино\n",
       "28      ленинский проспект   ЮАО                    Донской район\n",
       "29      ленинский проспект  ЮЗАО                Район Гагаринский\n",
       "30      ленинский проспект  ЮЗАО              Ломоносовский район\n",
       "31      ленинский проспект  ЮЗАО                Обручевский район\n",
       "32      ленинский проспект  ЮЗАО                Район Теплый Стан\n",
       "33      ленинский проспект   ЦАО                   Район Якиманка\n",
       "34    проспект вернадского   ЗАО       Район Проспект Вернадского\n",
       "35    проспект вернадского   ЗАО                    Район Раменки\n",
       "36    проспект вернадского   ЗАО         Район Тропарево-Никулино\n",
       "37    проспект вернадского  ЮЗАО                Район Гагаринский\n",
       "38    проспект вернадского  ЮЗАО              Ломоносовский район\n",
       "39    кутузовский проспект   ЗАО               Район Дорогомилово\n",
       "40    кутузовский проспект   ЗАО             Район Фили-Давыдково\n",
       "41         каширское шоссе   ЮАО       Район Москворечье-Сабурово\n",
       "42         каширское шоссе   ЮАО         Район Нагатино-Садовники\n",
       "43         каширское шоссе   ЮАО     Район Орехово-Борисово Южное\n",
       "44         каширское шоссе   ЮАО  Район Орехово-Борисово Северное\n",
       "45    кировоградская улица   ЮАО      Район Чертаново Центральное\n",
       "46    кировоградская улица   ЮАО         Район Чертаново Северное\n",
       "47    кировоградская улица   ЮАО            Район Чертаново Южное"
      ]
     },
     "metadata": {},
     "output_type": "display_data"
    }
   ],
   "source": [
    "rest_by_street = temp.merge(new_df_street, how='left', left_on='street_name', right_on='streetname')\n",
    "#rest_by_street = rest_by_street.rename(columns={'street_name':'count_object'})\n",
    "rest_by_street = rest_by_street.drop(['streetname', 'areaid', 'object_name', 'chain', 'object_type', 'address', 'number'], axis=1)\n",
    "display(rest_by_street)\n"
   ]
  },
  {
   "cell_type": "markdown",
   "metadata": {},
   "source": [
    "Исходя из вышеуказанной таблицы, в Топ-10  по количеству расположенных на них объектов общественного питания, попадают самые длинные улицы Москвы, которые проходят через несколько районов, иногда округов. "
   ]
  },
  {
   "cell_type": "code",
   "execution_count": 32,
   "metadata": {},
   "outputs": [],
   "source": [
    "# рассмотрим через какие округа проходят самые богатые на общепит улицы\n",
    "okrug_top10 = pd.DataFrame(rest_by_street.groupby('okrug')['street_name'].nunique().reset_index()) \n",
    "\n",
    "# все возможные округа\n",
    "okrug_total = pd.DataFrame(new_df_street.groupby('okrug')['streetname'].count().reset_index())\n",
    "\n",
    "# все районы по округам:\n",
    "district_total = pd.DataFrame(new_df_street.groupby(['okrug', 'area'])['streetname'].count().reset_index())\n",
    "\n",
    "# собираем  для наглядности:\n",
    "rep_okrug_top10 = okrug_top10.merge(okrug_total, how='right', left_on='okrug', right_on='okrug')\n",
    "rep_okrug_top10 = rep_okrug_top10.drop(['streetname'], axis=1)\n",
    "rep_okrug_top10['street_count'] = rep_okrug_top10['street_name'].fillna(0).astype('int32')\n",
    "rep_okrug_top10.sort_values('street_count', ascending=False, inplace=True)\n"
   ]
  },
  {
   "cell_type": "code",
   "execution_count": 33,
   "metadata": {},
   "outputs": [
    {
     "data": {
      "image/png": "[encoded data removed]",
      "text/plain": [
       "<Figure size 720x360 with 1 Axes>"
      ]
     },
     "metadata": {
      "needs_background": "light"
     },
     "output_type": "display_data"
    },
    {
     "data": {
      "text/html": [
       "<div>\n",
       "<style scoped>\n",
       "    .dataframe tbody tr th:only-of-type {\n",
       "        vertical-align: middle;\n",
       "    }\n",
       "\n",
       "    .dataframe tbody tr th {\n",
       "        vertical-align: top;\n",
       "    }\n",
       "\n",
       "    .dataframe thead th {\n",
       "        text-align: right;\n",
       "    }\n",
       "</style>\n",
       "<table border=\"1\" class=\"dataframe\">\n",
       "  <thead>\n",
       "    <tr style=\"text-align: right;\">\n",
       "      <th></th>\n",
       "      <th>okrug</th>\n",
       "      <th>street_name</th>\n",
       "      <th>street_count</th>\n",
       "    </tr>\n",
       "  </thead>\n",
       "  <tbody>\n",
       "    <tr>\n",
       "      <th>7</th>\n",
       "      <td>ЮАО</td>\n",
       "      <td>4.0</td>\n",
       "      <td>4</td>\n",
       "    </tr>\n",
       "    <tr>\n",
       "      <th>9</th>\n",
       "      <td>ЮЗАО</td>\n",
       "      <td>4.0</td>\n",
       "      <td>4</td>\n",
       "    </tr>\n",
       "    <tr>\n",
       "      <th>1</th>\n",
       "      <td>ЗАО</td>\n",
       "      <td>3.0</td>\n",
       "      <td>3</td>\n",
       "    </tr>\n",
       "    <tr>\n",
       "      <th>6</th>\n",
       "      <td>ЦАО</td>\n",
       "      <td>3.0</td>\n",
       "      <td>3</td>\n",
       "    </tr>\n",
       "    <tr>\n",
       "      <th>3</th>\n",
       "      <td>САО</td>\n",
       "      <td>1.0</td>\n",
       "      <td>1</td>\n",
       "    </tr>\n",
       "    <tr>\n",
       "      <th>4</th>\n",
       "      <td>СВАО</td>\n",
       "      <td>1.0</td>\n",
       "      <td>1</td>\n",
       "    </tr>\n",
       "    <tr>\n",
       "      <th>0</th>\n",
       "      <td>ВАО</td>\n",
       "      <td>NaN</td>\n",
       "      <td>0</td>\n",
       "    </tr>\n",
       "    <tr>\n",
       "      <th>2</th>\n",
       "      <td>Зеленоград</td>\n",
       "      <td>NaN</td>\n",
       "      <td>0</td>\n",
       "    </tr>\n",
       "    <tr>\n",
       "      <th>5</th>\n",
       "      <td>СЗАО</td>\n",
       "      <td>NaN</td>\n",
       "      <td>0</td>\n",
       "    </tr>\n",
       "    <tr>\n",
       "      <th>8</th>\n",
       "      <td>ЮВАО</td>\n",
       "      <td>NaN</td>\n",
       "      <td>0</td>\n",
       "    </tr>\n",
       "  </tbody>\n",
       "</table>\n",
       "</div>"
      ],
      "text/plain": [
       "        okrug  street_name  street_count\n",
       "7         ЮАО          4.0             4\n",
       "9        ЮЗАО          4.0             4\n",
       "1         ЗАО          3.0             3\n",
       "6         ЦАО          3.0             3\n",
       "3         САО          1.0             1\n",
       "4        СВАО          1.0             1\n",
       "0         ВАО          NaN             0\n",
       "2  Зеленоград          NaN             0\n",
       "5        СЗАО          NaN             0\n",
       "8        ЮВАО          NaN             0"
      ]
     },
     "metadata": {},
     "output_type": "display_data"
    }
   ],
   "source": [
    "# изобразим на графике\n",
    "plt.figure(figsize=(10, 5))\n",
    "ax = sns.barplot(x='okrug', y='street_name', data=rep_okrug_top10, palette=\"magma\", alpha=.8)\n",
    "ax.set_title('Расположение улиц из Топ-10')\n",
    "ax.set_xlabel('округ Москвы', fontsize = 12) \n",
    "ax.set_ylabel('количество улиц из Топ-10', fontsize = 12) \n",
    "sns.despine()\n",
    "plt.show()\n",
    "\n",
    "display(rep_okrug_top10)"
   ]
  },
  {
   "cell_type": "markdown",
   "metadata": {},
   "source": [
    "### Вывод"
   ]
  },
  {
   "cell_type": "markdown",
   "metadata": {},
   "source": [
    "В топ-10 улиц, на которых расположено самое большое количество объектов общественного питания входят (в порядке убывания количества объектов):\n",
    "    проспект мира, профсюзная улица,ленинградский проспект, пресненская набережная, варшавское шоссе, ленинский проспект, проспект вернадского, кутузовский проспект, каширское шоссе, кировоградская улица.  \n",
    "    Исходя из вышеуказанного, в Топ-10 попадают самые длинные улицы Москвы, которые проходят через несколько районов, иногда округов. \n",
    "    Самыми насыщенными по расположению заведений общественного питания являются следующие районы города Москвы Северо-Восточного административного округа: Алексеевский район, Ярославский Район, Район Марьина роща, Останкинский район, Район Ростокино, Район Свиблово, \tМещанский район Центрального административного округа. Самые насыщенные улицами, которые попали в топ-10 по количеству заведений, являются Южный административный округ и Юго-Западный АО г. Москвы. \n",
    "    "
   ]
  },
  {
   "cell_type": "markdown",
   "metadata": {},
   "source": [
    "### Определение числа улиц с одним объектом общественного питания с использованием внешней информации"
   ]
  },
  {
   "cell_type": "code",
   "execution_count": 34,
   "metadata": {},
   "outputs": [],
   "source": [
    "temp_one = df.groupby('street_name').count().sort_values(by='object_type', ascending=False).reset_index()\n"
   ]
  },
  {
   "cell_type": "code",
   "execution_count": 35,
   "metadata": {},
   "outputs": [
    {
     "data": {
      "text/html": [
       "<div>\n",
       "<style scoped>\n",
       "    .dataframe tbody tr th:only-of-type {\n",
       "        vertical-align: middle;\n",
       "    }\n",
       "\n",
       "    .dataframe tbody tr th {\n",
       "        vertical-align: top;\n",
       "    }\n",
       "\n",
       "    .dataframe thead th {\n",
       "        text-align: right;\n",
       "    }\n",
       "</style>\n",
       "<table border=\"1\" class=\"dataframe\">\n",
       "  <thead>\n",
       "    <tr style=\"text-align: right;\">\n",
       "      <th></th>\n",
       "      <th>street_name</th>\n",
       "      <th>count_object</th>\n",
       "      <th>okrug</th>\n",
       "      <th>area</th>\n",
       "    </tr>\n",
       "  </thead>\n",
       "  <tbody>\n",
       "    <tr>\n",
       "      <th>1802</th>\n",
       "      <td>улица паперника</td>\n",
       "      <td>1</td>\n",
       "      <td>ЮВАО</td>\n",
       "      <td>Рязанский район</td>\n",
       "    </tr>\n",
       "    <tr>\n",
       "      <th>1803</th>\n",
       "      <td>улица маршала новикова</td>\n",
       "      <td>1</td>\n",
       "      <td>СЗАО</td>\n",
       "      <td>Район Щукино</td>\n",
       "    </tr>\n",
       "    <tr>\n",
       "      <th>1804</th>\n",
       "      <td>улица можайский вал</td>\n",
       "      <td>1</td>\n",
       "      <td>ЗАО</td>\n",
       "      <td>Район Дорогомилово</td>\n",
       "    </tr>\n",
       "    <tr>\n",
       "      <th>1805</th>\n",
       "      <td>улица подвойского</td>\n",
       "      <td>1</td>\n",
       "      <td>ЦАО</td>\n",
       "      <td>Пресненский район</td>\n",
       "    </tr>\n",
       "    <tr>\n",
       "      <th>1806</th>\n",
       "      <td>алымов переулок</td>\n",
       "      <td>1</td>\n",
       "      <td>ВАО</td>\n",
       "      <td>Район Богородское</td>\n",
       "    </tr>\n",
       "    <tr>\n",
       "      <th>...</th>\n",
       "      <td>...</td>\n",
       "      <td>...</td>\n",
       "      <td>...</td>\n",
       "      <td>...</td>\n",
       "    </tr>\n",
       "    <tr>\n",
       "      <th>2386</th>\n",
       "      <td>улица академика понтрягина</td>\n",
       "      <td>1</td>\n",
       "      <td>ЮЗАО</td>\n",
       "      <td>Район Южное Бутово</td>\n",
       "    </tr>\n",
       "    <tr>\n",
       "      <th>2387</th>\n",
       "      <td>улица академика семенова</td>\n",
       "      <td>1</td>\n",
       "      <td>NaN</td>\n",
       "      <td>NaN</td>\n",
       "    </tr>\n",
       "    <tr>\n",
       "      <th>2388</th>\n",
       "      <td>докучаев переулок</td>\n",
       "      <td>1</td>\n",
       "      <td>ЦАО</td>\n",
       "      <td>Красносельский район</td>\n",
       "    </tr>\n",
       "    <tr>\n",
       "      <th>2389</th>\n",
       "      <td>улица алексея дикого</td>\n",
       "      <td>1</td>\n",
       "      <td>ВАО</td>\n",
       "      <td>Район Новогиреево</td>\n",
       "    </tr>\n",
       "    <tr>\n",
       "      <th>2390</th>\n",
       "      <td>яхромская улица</td>\n",
       "      <td>1</td>\n",
       "      <td>САО</td>\n",
       "      <td>Дмитровский район</td>\n",
       "    </tr>\n",
       "  </tbody>\n",
       "</table>\n",
       "<p>589 rows × 4 columns</p>\n",
       "</div>"
      ],
      "text/plain": [
       "                     street_name  count_object okrug                  area\n",
       "1802             улица паперника             1  ЮВАО       Рязанский район\n",
       "1803      улица маршала новикова             1  СЗАО          Район Щукино\n",
       "1804         улица можайский вал             1   ЗАО    Район Дорогомилово\n",
       "1805           улица подвойского             1   ЦАО     Пресненский район\n",
       "1806             алымов переулок             1   ВАО     Район Богородское\n",
       "...                          ...           ...   ...                   ...\n",
       "2386  улица академика понтрягина             1  ЮЗАО    Район Южное Бутово\n",
       "2387    улица академика семенова             1   NaN                   NaN\n",
       "2388           докучаев переулок             1   ЦАО  Красносельский район\n",
       "2389        улица алексея дикого             1   ВАО     Район Новогиреево\n",
       "2390             яхромская улица             1   САО     Дмитровский район\n",
       "\n",
       "[589 rows x 4 columns]"
      ]
     },
     "metadata": {},
     "output_type": "display_data"
    }
   ],
   "source": [
    "# формируем таблицу с улицами, в которых расположен один объект общественного питания используя внешние данные\n",
    "rest_one_street = temp_one.merge(new_df_street, how='left', left_on='street_name', right_on='streetname')\n",
    "rest_one_streets = rest_one_street[rest_one_street['address'] == 1]\n",
    "\n",
    "rest_one_streets = rest_one_streets.rename(columns={'address':'count_object'})\n",
    "rest_one_streets = rest_one_streets.drop(['streetname', 'areaid', 'object_name', 'chain', 'object_type', 'number'], axis=1)\n",
    "\n",
    "display(rest_one_streets)"
   ]
  },
  {
   "cell_type": "markdown",
   "metadata": {},
   "source": [
    "Всего таких улиц 589 единиц. Посмотрим как они распределены по районам (округам) города Москвы."
   ]
  },
  {
   "cell_type": "code",
   "execution_count": 36,
   "metadata": {},
   "outputs": [],
   "source": [
    "# Посмотрим, через какие округа проходят самые определенные общепитом улицы\n",
    "okrug_one_rest = pd.DataFrame(rest_one_streets.groupby('okrug')['street_name'].nunique().reset_index()) \n",
    "\n",
    "# Добавим для наглядности остальные округа:\n",
    "rep_okrug_one_rest = okrug_one_rest.merge(okrug_total, how='right', left_on='okrug', right_on='okrug')\n",
    "rep_okrug_one_rest = rep_okrug_one_rest.drop(['streetname'], axis=1)\n",
    "rep_okrug_one_rest = rep_okrug_one_rest.rename(columns = {'street_name':'count_object'})\n",
    "rep_okrug_one_rest.sort_values('count_object', ascending=False, inplace=True)"
   ]
  },
  {
   "cell_type": "code",
   "execution_count": 37,
   "metadata": {},
   "outputs": [
    {
     "data": {
      "image/png": "[encoded data removed]",
      "text/plain": [
       "<Figure size 720x360 with 1 Axes>"
      ]
     },
     "metadata": {
      "needs_background": "light"
     },
     "output_type": "display_data"
    },
    {
     "data": {
      "text/html": [
       "<div>\n",
       "<style scoped>\n",
       "    .dataframe tbody tr th:only-of-type {\n",
       "        vertical-align: middle;\n",
       "    }\n",
       "\n",
       "    .dataframe tbody tr th {\n",
       "        vertical-align: top;\n",
       "    }\n",
       "\n",
       "    .dataframe thead th {\n",
       "        text-align: right;\n",
       "    }\n",
       "</style>\n",
       "<table border=\"1\" class=\"dataframe\">\n",
       "  <thead>\n",
       "    <tr style=\"text-align: right;\">\n",
       "      <th></th>\n",
       "      <th>okrug</th>\n",
       "      <th>count_object</th>\n",
       "      <th>percent</th>\n",
       "    </tr>\n",
       "  </thead>\n",
       "  <tbody>\n",
       "    <tr>\n",
       "      <th>6</th>\n",
       "      <td>ЦАО</td>\n",
       "      <td>166</td>\n",
       "      <td>32.81</td>\n",
       "    </tr>\n",
       "    <tr>\n",
       "      <th>4</th>\n",
       "      <td>СВАО</td>\n",
       "      <td>64</td>\n",
       "      <td>12.65</td>\n",
       "    </tr>\n",
       "    <tr>\n",
       "      <th>0</th>\n",
       "      <td>ВАО</td>\n",
       "      <td>54</td>\n",
       "      <td>10.67</td>\n",
       "    </tr>\n",
       "    <tr>\n",
       "      <th>8</th>\n",
       "      <td>ЮВАО</td>\n",
       "      <td>50</td>\n",
       "      <td>9.88</td>\n",
       "    </tr>\n",
       "    <tr>\n",
       "      <th>3</th>\n",
       "      <td>САО</td>\n",
       "      <td>49</td>\n",
       "      <td>9.68</td>\n",
       "    </tr>\n",
       "    <tr>\n",
       "      <th>1</th>\n",
       "      <td>ЗАО</td>\n",
       "      <td>42</td>\n",
       "      <td>8.30</td>\n",
       "    </tr>\n",
       "    <tr>\n",
       "      <th>5</th>\n",
       "      <td>СЗАО</td>\n",
       "      <td>27</td>\n",
       "      <td>5.34</td>\n",
       "    </tr>\n",
       "    <tr>\n",
       "      <th>7</th>\n",
       "      <td>ЮАО</td>\n",
       "      <td>27</td>\n",
       "      <td>5.34</td>\n",
       "    </tr>\n",
       "    <tr>\n",
       "      <th>9</th>\n",
       "      <td>ЮЗАО</td>\n",
       "      <td>24</td>\n",
       "      <td>4.74</td>\n",
       "    </tr>\n",
       "    <tr>\n",
       "      <th>2</th>\n",
       "      <td>Зеленоград</td>\n",
       "      <td>3</td>\n",
       "      <td>0.59</td>\n",
       "    </tr>\n",
       "  </tbody>\n",
       "</table>\n",
       "</div>"
      ],
      "text/plain": [
       "        okrug  count_object  percent\n",
       "6         ЦАО           166    32.81\n",
       "4        СВАО            64    12.65\n",
       "0         ВАО            54    10.67\n",
       "8        ЮВАО            50     9.88\n",
       "3         САО            49     9.68\n",
       "1         ЗАО            42     8.30\n",
       "5        СЗАО            27     5.34\n",
       "7         ЮАО            27     5.34\n",
       "9        ЮЗАО            24     4.74\n",
       "2  Зеленоград             3     0.59"
      ]
     },
     "execution_count": 37,
     "metadata": {},
     "output_type": "execute_result"
    }
   ],
   "source": [
    "# построим график\n",
    "plt.figure(figsize=(10, 5))\n",
    "ax = sns.barplot(x='okrug', y='count_object', data=rep_okrug_one_rest, palette=\"magma\", alpha=.8)\n",
    "ax.set_title('Расположение улиц с единственным объектом питания')\n",
    "ax.set_xlabel('округ Москвы', fontsize = 12) \n",
    "ax.set_ylabel('количество улиц', fontsize = 12) \n",
    "sns.despine()\n",
    "plt.show()\n",
    "\n",
    "rep_okrug_one_rest['percent'] = round((rep_okrug_one_rest['count_object'] / rep_okrug_one_rest['count_object'].sum()) * 100, 2)\n",
    "rep_okrug_one_rest"
   ]
  },
  {
   "cell_type": "code",
   "execution_count": 38,
   "metadata": {},
   "outputs": [
    {
     "data": {
      "image/png": "[encoded data removed]",
      "text/plain": [
       "<Figure size 864x720 with 1 Axes>"
      ]
     },
     "metadata": {
      "needs_background": "light"
     },
     "output_type": "display_data"
    }
   ],
   "source": [
    "# Создадим график и посмотрим как распределилось количество улиц в которых только один объект ОП\n",
    "# определим первую десятку районов г. Москвы по количеству улиц в которых одтг объект\n",
    "one_rest_street_by_district = (\n",
    "    rest_one_streets.groupby('area')\n",
    "                            .agg({'street_name':'count'})\n",
    "                            .rename(columns={'street_name': 'number_of_streets'})\n",
    "                            .sort_values('number_of_streets', ascending=False)\n",
    ")\n",
    "# строим график\n",
    "fig, ax = plt.subplots(figsize=(12,10))\n",
    "fig.suptitle('Топ-10 районов по числу улиц с одним объектом питания', fontsize=15, style=\"italic\")\n",
    "\n",
    "# отрисовываем график\n",
    "sns.barplot(y=one_rest_street_by_district.head(10).index,\n",
    "            x='number_of_streets',\n",
    "            data=one_rest_street_by_district.head(10), palette='flare')\n",
    "\n",
    "sns.despine(left=True, bottom=True)\n",
    "\n",
    "ax.set_ylabel('Район\\n')\n",
    "ax.set_xlabel('\\nЧисло улиц с одним заведением');\n"
   ]
  },
  {
   "cell_type": "markdown",
   "metadata": {},
   "source": [
    "### Вывод"
   ]
  },
  {
   "cell_type": "markdown",
   "metadata": {},
   "source": [
    "Всего в г. Москва улиц, на которых расположен только один объект общественного питания - 589 единиц. В преобладающем большинстве - 32 % от общего числа, они расположены в Центральном административном округе. Таганский район, Хамовники и Басманный районы г. Москвы являются лидерами среди районов, в которых находятся улицы с одним объектом общественного питания."
   ]
  },
  {
   "cell_type": "markdown",
   "metadata": {},
   "source": [
    "### Изучение распределения количества посадочных мест для улиц с большим количеством объектов общественного питания. Выявление закономерностей"
   ]
  },
  {
   "cell_type": "code",
   "execution_count": 39,
   "metadata": {},
   "outputs": [],
   "source": [
    "\n",
    "# добавляем информацию о количестве посадочных мест\n",
    "top10_rest = df[df['street_name'].isin(rest_by_street['street_name'].unique())]\n"
   ]
  },
  {
   "cell_type": "code",
   "execution_count": 40,
   "metadata": {},
   "outputs": [
    {
     "data": {
      "image/png": "[encoded data removed]",
      "text/plain": [
       "<Figure size 864x504 with 1 Axes>"
      ]
     },
     "metadata": {
      "needs_background": "light"
     },
     "output_type": "display_data"
    }
   ],
   "source": [
    "# посмотрим распределение по \"ящикам с усами\"\n",
    "plt.figure(figsize=(12, 7))\n",
    "plt.xlim(0,220)\n",
    "plt.title('Распределение количества посадочных мест (Топ-10 улиц)')\n",
    "\n",
    "sns.boxplot(x=\"number\", y=\"street_name\", data=top10_rest, orient='h') \n",
    "plt.xlabel('Количество мест')\n",
    "plt.ylabel('') \n",
    "plt.show()"
   ]
  },
  {
   "cell_type": "code",
   "execution_count": 41,
   "metadata": {},
   "outputs": [
    {
     "data": {
      "text/html": [
       "<div>\n",
       "<style scoped>\n",
       "    .dataframe tbody tr th:only-of-type {\n",
       "        vertical-align: middle;\n",
       "    }\n",
       "\n",
       "    .dataframe tbody tr th {\n",
       "        vertical-align: top;\n",
       "    }\n",
       "\n",
       "    .dataframe thead th {\n",
       "        text-align: right;\n",
       "    }\n",
       "</style>\n",
       "<table border=\"1\" class=\"dataframe\">\n",
       "  <thead>\n",
       "    <tr style=\"text-align: right;\">\n",
       "      <th></th>\n",
       "      <th>number</th>\n",
       "    </tr>\n",
       "    <tr>\n",
       "      <th>street_name</th>\n",
       "      <th></th>\n",
       "    </tr>\n",
       "  </thead>\n",
       "  <tbody>\n",
       "    <tr>\n",
       "      <th>1-й автозаводский проезд</th>\n",
       "      <td>114</td>\n",
       "    </tr>\n",
       "    <tr>\n",
       "      <th>1-й амбулаторный проезд</th>\n",
       "      <td>140</td>\n",
       "    </tr>\n",
       "    <tr>\n",
       "      <th>1-й балтийский переулок</th>\n",
       "      <td>60</td>\n",
       "    </tr>\n",
       "    <tr>\n",
       "      <th>1-й басманный переулок</th>\n",
       "      <td>50</td>\n",
       "    </tr>\n",
       "    <tr>\n",
       "      <th>1-й ботанический проезд</th>\n",
       "      <td>40</td>\n",
       "    </tr>\n",
       "  </tbody>\n",
       "</table>\n",
       "</div>"
      ],
      "text/plain": [
       "                          number\n",
       "street_name                     \n",
       "1-й автозаводский проезд     114\n",
       "1-й амбулаторный проезд      140\n",
       "1-й балтийский переулок       60\n",
       "1-й басманный переулок        50\n",
       "1-й ботанический проезд       40"
      ]
     },
     "metadata": {},
     "output_type": "display_data"
    }
   ],
   "source": [
    "rest_number_max = df.groupby('street_name').agg({'number':'sum'})\n",
    "display(rest_number_max.head())"
   ]
  },
  {
   "cell_type": "code",
   "execution_count": 42,
   "metadata": {
    "scrolled": true
   },
   "outputs": [
    {
     "data": {
      "text/html": [
       "<div>\n",
       "<style scoped>\n",
       "    .dataframe tbody tr th:only-of-type {\n",
       "        vertical-align: middle;\n",
       "    }\n",
       "\n",
       "    .dataframe tbody tr th {\n",
       "        vertical-align: top;\n",
       "    }\n",
       "\n",
       "    .dataframe thead th {\n",
       "        text-align: right;\n",
       "    }\n",
       "</style>\n",
       "<table border=\"1\" class=\"dataframe\">\n",
       "  <thead>\n",
       "    <tr style=\"text-align: right;\">\n",
       "      <th></th>\n",
       "      <th>street_name</th>\n",
       "      <th>okrug</th>\n",
       "      <th>area</th>\n",
       "      <th>number</th>\n",
       "    </tr>\n",
       "  </thead>\n",
       "  <tbody>\n",
       "    <tr>\n",
       "      <th>0</th>\n",
       "      <td>проспект мира</td>\n",
       "      <td>СВАО</td>\n",
       "      <td>Алексеевский район</td>\n",
       "      <td>12790</td>\n",
       "    </tr>\n",
       "    <tr>\n",
       "      <th>1</th>\n",
       "      <td>проспект мира</td>\n",
       "      <td>СВАО</td>\n",
       "      <td>Ярославский Район</td>\n",
       "      <td>12790</td>\n",
       "    </tr>\n",
       "    <tr>\n",
       "      <th>2</th>\n",
       "      <td>проспект мира</td>\n",
       "      <td>СВАО</td>\n",
       "      <td>Район Марьина роща</td>\n",
       "      <td>12790</td>\n",
       "    </tr>\n",
       "    <tr>\n",
       "      <th>3</th>\n",
       "      <td>проспект мира</td>\n",
       "      <td>СВАО</td>\n",
       "      <td>Останкинский район</td>\n",
       "      <td>12790</td>\n",
       "    </tr>\n",
       "    <tr>\n",
       "      <th>4</th>\n",
       "      <td>проспект мира</td>\n",
       "      <td>СВАО</td>\n",
       "      <td>Район Ростокино</td>\n",
       "      <td>12790</td>\n",
       "    </tr>\n",
       "    <tr>\n",
       "      <th>5</th>\n",
       "      <td>проспект мира</td>\n",
       "      <td>СВАО</td>\n",
       "      <td>Район Свиблово</td>\n",
       "      <td>12790</td>\n",
       "    </tr>\n",
       "    <tr>\n",
       "      <th>6</th>\n",
       "      <td>проспект мира</td>\n",
       "      <td>ЦАО</td>\n",
       "      <td>Мещанский район</td>\n",
       "      <td>12790</td>\n",
       "    </tr>\n",
       "    <tr>\n",
       "      <th>7</th>\n",
       "      <td>профсоюзная улица</td>\n",
       "      <td>ЮЗАО</td>\n",
       "      <td>Академический район</td>\n",
       "      <td>8667</td>\n",
       "    </tr>\n",
       "    <tr>\n",
       "      <th>8</th>\n",
       "      <td>профсоюзная улица</td>\n",
       "      <td>ЮЗАО</td>\n",
       "      <td>Район Черемушки</td>\n",
       "      <td>8667</td>\n",
       "    </tr>\n",
       "    <tr>\n",
       "      <th>9</th>\n",
       "      <td>профсоюзная улица</td>\n",
       "      <td>ЮЗАО</td>\n",
       "      <td>Район Ясенево</td>\n",
       "      <td>8667</td>\n",
       "    </tr>\n",
       "    <tr>\n",
       "      <th>10</th>\n",
       "      <td>профсоюзная улица</td>\n",
       "      <td>ЮЗАО</td>\n",
       "      <td>Район Коньково</td>\n",
       "      <td>8667</td>\n",
       "    </tr>\n",
       "    <tr>\n",
       "      <th>11</th>\n",
       "      <td>профсоюзная улица</td>\n",
       "      <td>ЮЗАО</td>\n",
       "      <td>Обручевский район</td>\n",
       "      <td>8667</td>\n",
       "    </tr>\n",
       "    <tr>\n",
       "      <th>12</th>\n",
       "      <td>профсоюзная улица</td>\n",
       "      <td>ЮЗАО</td>\n",
       "      <td>Район Теплый Стан</td>\n",
       "      <td>8667</td>\n",
       "    </tr>\n",
       "    <tr>\n",
       "      <th>13</th>\n",
       "      <td>ленинградский проспект</td>\n",
       "      <td>САО</td>\n",
       "      <td>Район Аэропорт</td>\n",
       "      <td>9002</td>\n",
       "    </tr>\n",
       "    <tr>\n",
       "      <th>14</th>\n",
       "      <td>ленинградский проспект</td>\n",
       "      <td>САО</td>\n",
       "      <td>Район Беговой</td>\n",
       "      <td>9002</td>\n",
       "    </tr>\n",
       "    <tr>\n",
       "      <th>15</th>\n",
       "      <td>ленинградский проспект</td>\n",
       "      <td>САО</td>\n",
       "      <td>Хорошевский район</td>\n",
       "      <td>9002</td>\n",
       "    </tr>\n",
       "    <tr>\n",
       "      <th>16</th>\n",
       "      <td>ленинградский проспект</td>\n",
       "      <td>САО</td>\n",
       "      <td>Район Сокол</td>\n",
       "      <td>9002</td>\n",
       "    </tr>\n",
       "    <tr>\n",
       "      <th>17</th>\n",
       "      <td>пресненская набережная</td>\n",
       "      <td>ЦАО</td>\n",
       "      <td>Пресненский район</td>\n",
       "      <td>7656</td>\n",
       "    </tr>\n",
       "    <tr>\n",
       "      <th>18</th>\n",
       "      <td>варшавское шоссе</td>\n",
       "      <td>ЮАО</td>\n",
       "      <td>Район Чертаново Центральное</td>\n",
       "      <td>8626</td>\n",
       "    </tr>\n",
       "    <tr>\n",
       "      <th>19</th>\n",
       "      <td>варшавское шоссе</td>\n",
       "      <td>ЮАО</td>\n",
       "      <td>Район Чертаново Северное</td>\n",
       "      <td>8626</td>\n",
       "    </tr>\n",
       "    <tr>\n",
       "      <th>20</th>\n",
       "      <td>варшавское шоссе</td>\n",
       "      <td>ЮАО</td>\n",
       "      <td>Район Чертаново Южное</td>\n",
       "      <td>8626</td>\n",
       "    </tr>\n",
       "    <tr>\n",
       "      <th>21</th>\n",
       "      <td>варшавское шоссе</td>\n",
       "      <td>ЮАО</td>\n",
       "      <td>Донской район</td>\n",
       "      <td>8626</td>\n",
       "    </tr>\n",
       "    <tr>\n",
       "      <th>22</th>\n",
       "      <td>варшавское шоссе</td>\n",
       "      <td>ЮАО</td>\n",
       "      <td>Район Нагатино-Садовники</td>\n",
       "      <td>8626</td>\n",
       "    </tr>\n",
       "    <tr>\n",
       "      <th>23</th>\n",
       "      <td>варшавское шоссе</td>\n",
       "      <td>ЮАО</td>\n",
       "      <td>Нагорный район</td>\n",
       "      <td>8626</td>\n",
       "    </tr>\n",
       "    <tr>\n",
       "      <th>24</th>\n",
       "      <td>варшавское шоссе</td>\n",
       "      <td>ЮЗАО</td>\n",
       "      <td>Район Северное Бутово</td>\n",
       "      <td>8626</td>\n",
       "    </tr>\n",
       "    <tr>\n",
       "      <th>25</th>\n",
       "      <td>варшавское шоссе</td>\n",
       "      <td>ЮЗАО</td>\n",
       "      <td>Район Южное Бутово</td>\n",
       "      <td>8626</td>\n",
       "    </tr>\n",
       "    <tr>\n",
       "      <th>26</th>\n",
       "      <td>ленинский проспект</td>\n",
       "      <td>ЗАО</td>\n",
       "      <td>Район Проспект Вернадского</td>\n",
       "      <td>9346</td>\n",
       "    </tr>\n",
       "    <tr>\n",
       "      <th>27</th>\n",
       "      <td>ленинский проспект</td>\n",
       "      <td>ЗАО</td>\n",
       "      <td>Район Тропарево-Никулино</td>\n",
       "      <td>9346</td>\n",
       "    </tr>\n",
       "    <tr>\n",
       "      <th>28</th>\n",
       "      <td>ленинский проспект</td>\n",
       "      <td>ЮАО</td>\n",
       "      <td>Донской район</td>\n",
       "      <td>9346</td>\n",
       "    </tr>\n",
       "    <tr>\n",
       "      <th>29</th>\n",
       "      <td>ленинский проспект</td>\n",
       "      <td>ЮЗАО</td>\n",
       "      <td>Район Гагаринский</td>\n",
       "      <td>9346</td>\n",
       "    </tr>\n",
       "    <tr>\n",
       "      <th>30</th>\n",
       "      <td>ленинский проспект</td>\n",
       "      <td>ЮЗАО</td>\n",
       "      <td>Ломоносовский район</td>\n",
       "      <td>9346</td>\n",
       "    </tr>\n",
       "    <tr>\n",
       "      <th>31</th>\n",
       "      <td>ленинский проспект</td>\n",
       "      <td>ЮЗАО</td>\n",
       "      <td>Обручевский район</td>\n",
       "      <td>9346</td>\n",
       "    </tr>\n",
       "    <tr>\n",
       "      <th>32</th>\n",
       "      <td>ленинский проспект</td>\n",
       "      <td>ЮЗАО</td>\n",
       "      <td>Район Теплый Стан</td>\n",
       "      <td>9346</td>\n",
       "    </tr>\n",
       "    <tr>\n",
       "      <th>33</th>\n",
       "      <td>ленинский проспект</td>\n",
       "      <td>ЦАО</td>\n",
       "      <td>Район Якиманка</td>\n",
       "      <td>9346</td>\n",
       "    </tr>\n",
       "    <tr>\n",
       "      <th>34</th>\n",
       "      <td>проспект вернадского</td>\n",
       "      <td>ЗАО</td>\n",
       "      <td>Район Проспект Вернадского</td>\n",
       "      <td>8807</td>\n",
       "    </tr>\n",
       "    <tr>\n",
       "      <th>35</th>\n",
       "      <td>проспект вернадского</td>\n",
       "      <td>ЗАО</td>\n",
       "      <td>Район Раменки</td>\n",
       "      <td>8807</td>\n",
       "    </tr>\n",
       "    <tr>\n",
       "      <th>36</th>\n",
       "      <td>проспект вернадского</td>\n",
       "      <td>ЗАО</td>\n",
       "      <td>Район Тропарево-Никулино</td>\n",
       "      <td>8807</td>\n",
       "    </tr>\n",
       "    <tr>\n",
       "      <th>37</th>\n",
       "      <td>проспект вернадского</td>\n",
       "      <td>ЮЗАО</td>\n",
       "      <td>Район Гагаринский</td>\n",
       "      <td>8807</td>\n",
       "    </tr>\n",
       "    <tr>\n",
       "      <th>38</th>\n",
       "      <td>проспект вернадского</td>\n",
       "      <td>ЮЗАО</td>\n",
       "      <td>Ломоносовский район</td>\n",
       "      <td>8807</td>\n",
       "    </tr>\n",
       "    <tr>\n",
       "      <th>39</th>\n",
       "      <td>кутузовский проспект</td>\n",
       "      <td>ЗАО</td>\n",
       "      <td>Район Дорогомилово</td>\n",
       "      <td>9697</td>\n",
       "    </tr>\n",
       "    <tr>\n",
       "      <th>40</th>\n",
       "      <td>кутузовский проспект</td>\n",
       "      <td>ЗАО</td>\n",
       "      <td>Район Фили-Давыдково</td>\n",
       "      <td>9697</td>\n",
       "    </tr>\n",
       "    <tr>\n",
       "      <th>41</th>\n",
       "      <td>каширское шоссе</td>\n",
       "      <td>ЮАО</td>\n",
       "      <td>Район Москворечье-Сабурово</td>\n",
       "      <td>6161</td>\n",
       "    </tr>\n",
       "    <tr>\n",
       "      <th>42</th>\n",
       "      <td>каширское шоссе</td>\n",
       "      <td>ЮАО</td>\n",
       "      <td>Район Нагатино-Садовники</td>\n",
       "      <td>6161</td>\n",
       "    </tr>\n",
       "    <tr>\n",
       "      <th>43</th>\n",
       "      <td>каширское шоссе</td>\n",
       "      <td>ЮАО</td>\n",
       "      <td>Район Орехово-Борисово Южное</td>\n",
       "      <td>6161</td>\n",
       "    </tr>\n",
       "    <tr>\n",
       "      <th>44</th>\n",
       "      <td>каширское шоссе</td>\n",
       "      <td>ЮАО</td>\n",
       "      <td>Район Орехово-Борисово Северное</td>\n",
       "      <td>6161</td>\n",
       "    </tr>\n",
       "    <tr>\n",
       "      <th>45</th>\n",
       "      <td>кировоградская улица</td>\n",
       "      <td>ЮАО</td>\n",
       "      <td>Район Чертаново Центральное</td>\n",
       "      <td>6457</td>\n",
       "    </tr>\n",
       "    <tr>\n",
       "      <th>46</th>\n",
       "      <td>кировоградская улица</td>\n",
       "      <td>ЮАО</td>\n",
       "      <td>Район Чертаново Северное</td>\n",
       "      <td>6457</td>\n",
       "    </tr>\n",
       "    <tr>\n",
       "      <th>47</th>\n",
       "      <td>кировоградская улица</td>\n",
       "      <td>ЮАО</td>\n",
       "      <td>Район Чертаново Южное</td>\n",
       "      <td>6457</td>\n",
       "    </tr>\n",
       "  </tbody>\n",
       "</table>\n",
       "</div>"
      ],
      "text/plain": [
       "               street_name okrug                             area  number\n",
       "0            проспект мира  СВАО               Алексеевский район   12790\n",
       "1            проспект мира  СВАО                Ярославский Район   12790\n",
       "2            проспект мира  СВАО               Район Марьина роща   12790\n",
       "3            проспект мира  СВАО               Останкинский район   12790\n",
       "4            проспект мира  СВАО                  Район Ростокино   12790\n",
       "5            проспект мира  СВАО                   Район Свиблово   12790\n",
       "6            проспект мира   ЦАО                  Мещанский район   12790\n",
       "7        профсоюзная улица  ЮЗАО              Академический район    8667\n",
       "8        профсоюзная улица  ЮЗАО                  Район Черемушки    8667\n",
       "9        профсоюзная улица  ЮЗАО                    Район Ясенево    8667\n",
       "10       профсоюзная улица  ЮЗАО                   Район Коньково    8667\n",
       "11       профсоюзная улица  ЮЗАО                Обручевский район    8667\n",
       "12       профсоюзная улица  ЮЗАО                Район Теплый Стан    8667\n",
       "13  ленинградский проспект   САО                   Район Аэропорт    9002\n",
       "14  ленинградский проспект   САО                    Район Беговой    9002\n",
       "15  ленинградский проспект   САО                Хорошевский район    9002\n",
       "16  ленинградский проспект   САО                      Район Сокол    9002\n",
       "17  пресненская набережная   ЦАО                Пресненский район    7656\n",
       "18        варшавское шоссе   ЮАО      Район Чертаново Центральное    8626\n",
       "19        варшавское шоссе   ЮАО         Район Чертаново Северное    8626\n",
       "20        варшавское шоссе   ЮАО            Район Чертаново Южное    8626\n",
       "21        варшавское шоссе   ЮАО                    Донской район    8626\n",
       "22        варшавское шоссе   ЮАО         Район Нагатино-Садовники    8626\n",
       "23        варшавское шоссе   ЮАО                   Нагорный район    8626\n",
       "24        варшавское шоссе  ЮЗАО            Район Северное Бутово    8626\n",
       "25        варшавское шоссе  ЮЗАО               Район Южное Бутово    8626\n",
       "26      ленинский проспект   ЗАО       Район Проспект Вернадского    9346\n",
       "27      ленинский проспект   ЗАО         Район Тропарево-Никулино    9346\n",
       "28      ленинский проспект   ЮАО                    Донской район    9346\n",
       "29      ленинский проспект  ЮЗАО                Район Гагаринский    9346\n",
       "30      ленинский проспект  ЮЗАО              Ломоносовский район    9346\n",
       "31      ленинский проспект  ЮЗАО                Обручевский район    9346\n",
       "32      ленинский проспект  ЮЗАО                Район Теплый Стан    9346\n",
       "33      ленинский проспект   ЦАО                   Район Якиманка    9346\n",
       "34    проспект вернадского   ЗАО       Район Проспект Вернадского    8807\n",
       "35    проспект вернадского   ЗАО                    Район Раменки    8807\n",
       "36    проспект вернадского   ЗАО         Район Тропарево-Никулино    8807\n",
       "37    проспект вернадского  ЮЗАО                Район Гагаринский    8807\n",
       "38    проспект вернадского  ЮЗАО              Ломоносовский район    8807\n",
       "39    кутузовский проспект   ЗАО               Район Дорогомилово    9697\n",
       "40    кутузовский проспект   ЗАО             Район Фили-Давыдково    9697\n",
       "41         каширское шоссе   ЮАО       Район Москворечье-Сабурово    6161\n",
       "42         каширское шоссе   ЮАО         Район Нагатино-Садовники    6161\n",
       "43         каширское шоссе   ЮАО     Район Орехово-Борисово Южное    6161\n",
       "44         каширское шоссе   ЮАО  Район Орехово-Борисово Северное    6161\n",
       "45    кировоградская улица   ЮАО      Район Чертаново Центральное    6457\n",
       "46    кировоградская улица   ЮАО         Район Чертаново Северное    6457\n",
       "47    кировоградская улица   ЮАО            Район Чертаново Южное    6457"
      ]
     },
     "metadata": {},
     "output_type": "display_data"
    }
   ],
   "source": [
    "# создаем сводную таблицу по количеству улиц и посадочных мест относительно улиц с самым большим количеством объектов ОП\n",
    "rest_top10_street_number_max = rest_by_street.merge(rest_number_max, on='street_name')\n",
    "\n",
    "display(rest_top10_street_number_max)"
   ]
  },
  {
   "cell_type": "markdown",
   "metadata": {},
   "source": [
    "Проверим гипотезу о равенстве среднего количества посадочных мест на улицах из Топ-10 и остальных улицах базы, т.е. о равенстве двух независимых выборок. Т.к. распределения средних значений отличаются от нормального и они не зависят между собой, воспользуемся критерием Манна-Уитни. Нулевая гипотеза сформулируем так: Н0 - количество посадочных мест на улицах с самым большим количеством объектов общественного питания не отличается от количества посадочных мест на иных улицах города Москвы."
   ]
  },
  {
   "cell_type": "code",
   "execution_count": 43,
   "metadata": {},
   "outputs": [
    {
     "name": "stdout",
     "output_type": "stream",
     "text": [
      "\u001b[1mНулевая гипотеза H0: количество посадочных мест не отличается\u001b[0m\n",
      "p-значение:  0.11619537962076892\n",
      "Не получилось отвергнуть нулевую гипотезу\n"
     ]
    }
   ],
   "source": [
    "top10_number = top10_rest['number'].values\n",
    "\n",
    "df_number = df[~df['street_name'].isin(rest_by_street['street_name'].unique())]['number'].values\n",
    "\n",
    "alpha = .05 # критический уровень статистической значимости\n",
    "\n",
    "results = st.mannwhitneyu(top10_number, df_number)\n",
    "\n",
    "print('\\033[1mНулевая гипотеза H0: количество посадочных мест не отличается\\033[0m')\n",
    "print('p-значение: ', results.pvalue)\n",
    "\n",
    "if (results.pvalue < alpha):\n",
    "    print(\"Отвергаем нулевую гипотезу\")\n",
    "else:\n",
    "    print(\"Не получилось отвергнуть нулевую гипотезу\") "
   ]
  },
  {
   "cell_type": "markdown",
   "metadata": {},
   "source": [
    "### Вывод"
   ]
  },
  {
   "cell_type": "markdown",
   "metadata": {},
   "source": [
    "При изучении таблицы и распределения, мы увидели, что относительно топ-1 мы увидели полную корреляцию количества обьектов с количеством посадочных мест на Проспекте мира. Но также наблюдались небольшие расхождения относительно корреляции количества посадочных мест на улицах с самым высоким количеством объектов общественного питания. Применив проверку гипотезы, мы смогли подтвердить, что количество посадочных мест в заведениях на улицах с самым высоким количеством объектов не отличается от количества посадочных мест в заведениях ОП в других районах г. Москва.\n",
    "\n",
    "Таким образом, у нас нет оснований считать, что среднее количество посадочных мест в заведениях общепита на улицах из Топ-10 отличается от среднего количества мест по остальной базе\n",
    "\n"
   ]
  },
  {
   "cell_type": "markdown",
   "metadata": {},
   "source": [
    "## Вывод"
   ]
  },
  {
   "cell_type": "markdown",
   "metadata": {},
   "source": [
    "При проведении исследования приходим к выводу, что самым перспективным типом объекта общественного питания (далее - ООП) является кафе. Так, данному формату  ООП соответствует наибольшее кличество сетевых заведений, а также формат кафе является одним из лидеров в процентном соотношении к общему количеству заведений данного вида.  \n",
    "\n",
    "Стоит выделить абсолютного лидера в долевом отношении сетевых заведений к общему количеству - это предприятия быстрого обслуживания (41,13 %), на втором месте магазины (отдел кулинарии) - 28,57 %, и на третьем рестораны (23,81 %). Кафе на четвертом месте в процентном соотношении к общему количеству заведений данного типа (22,89 %)Пятерку замыкают закусочные (15,56 %). \n",
    "\n",
    "Исходя из графиков, основным количеством посадочных мест и самым распространенным является количество от 20 до 90 мест на объект общественного питания. количество посадочных мест в ООП распределяются следующим образом: на первом месте по количеству посадочных мест в среднем - столовые (103), на втором - рестораны (80). Затем по убыванию количества мест идут бары (35), буфеты (32) и кафе (30). Кафетерии (6) и предприятия быстрого обслуживания (5) предоставляют в среднем очень небольшое количество мест для посетителей. \n",
    "\n",
    "\n",
    "В топ-10 улиц, на которых расположено самое большое количество объектов общественного питания входят (в порядке убывания количества объектов): проспект мира, профсюзная улица,ленинградский проспект, пресненская набережная, варшавское шоссе, ленинский проспект, проспект вернадского, кутузовский проспект, каширское шоссе, кировоградская улица.\n",
    "Исходя из вышеуказанного, в Топ-10 попадают самые длинные улицы Москвы, которые проходят через несколько районов, иногда округов. Самыми насыщенными по расположению заведений общественного питания являются следующие районы города Москвы Северо-Восточного административного округа: Алексеевский район, Ярославский Район, Район Марьина роща, Останкинский район, Район Ростокино, Район Свиблово, Мещанский район Центрального административного округа. Самые насыщенные улицами, которые попали в топ-10 по количеству заведений, являются Южный административный округ и Юго-Западный АО г. Москвы. Всего в г. Москва улиц, на которых расположен только один объект общественного питания - 589 единиц. В преобладающем большинстве - 32 % от общего числа, они расположены в Центральном административном округе. Таганский район, Хамовники и Басманный районы г. Москвы являются лидерами среди районов, в которых находятся улицы с одним объектом общественного питания.\n",
    "Среднее количество посадочных мест в заведениях общепита на улицах из Топ-10 отличается от среднего количества мест по остальной базе. \n",
    "\n",
    "Исходя из вышеизложенного, самым перспективным типом ООП для старта проекта является - кафе, с ориентировочным количеством посадочных мест - около 30 ед. Для поиска объекта недвижимости следует выбрать следующие районы города Москвы Северо-Восточного административного округа: Алексеевский район, Ярославский Район, Район Марьина роща, Останкинский район, Район Ростокино, Район Свиблово, Мещанский район Центрального административного округа. Изучая опыт конкурентов, приходим к выводу, что именно такой формат ООП масштабируется чаще, чем, иные форматы, т.е. доказана возможность развития сети в будущем.\n",
    "\n",
    "\n",
    "\n"
   ]
  },
  {
   "cell_type": "markdown",
   "metadata": {},
   "source": [
    "## Презентация"
   ]
  },
  {
   "cell_type": "markdown",
   "metadata": {},
   "source": [
    "https://disk.yandex.ru/d/SgGUHK57sD5lYA"
   ]
  },
  {
   "cell_type": "code",
   "execution_count": null,
   "metadata": {},
   "outputs": [],
   "source": []
  }
 ],
 "metadata": {
  "ExecuteTimeLog": [
   {
    "duration": 1461,
    "start_time": "2022-04-23T23:33:12.154Z"
   },
   {
    "duration": 104,
    "start_time": "2022-04-23T23:34:27.660Z"
   },
   {
    "duration": 114,
    "start_time": "2022-04-23T23:36:01.183Z"
   },
   {
    "duration": 110,
    "start_time": "2022-04-23T23:37:24.292Z"
   },
   {
    "duration": 146,
    "start_time": "2022-04-23T23:37:57.543Z"
   },
   {
    "duration": 106,
    "start_time": "2022-04-23T23:38:06.295Z"
   },
   {
    "duration": 98,
    "start_time": "2022-04-23T23:38:56.905Z"
   },
   {
    "duration": 2187,
    "start_time": "2022-04-24T22:05:22.455Z"
   },
   {
    "duration": 194,
    "start_time": "2022-04-24T22:05:24.646Z"
   },
   {
    "duration": 1844,
    "start_time": "2022-04-24T22:33:56.927Z"
   },
   {
    "duration": 13,
    "start_time": "2022-04-24T22:37:56.276Z"
   },
   {
    "duration": 14,
    "start_time": "2022-04-24T22:40:32.019Z"
   },
   {
    "duration": 14,
    "start_time": "2022-04-24T22:41:41.282Z"
   },
   {
    "duration": 27,
    "start_time": "2022-04-24T22:41:53.441Z"
   },
   {
    "duration": 36,
    "start_time": "2022-04-24T22:43:32.355Z"
   },
   {
    "duration": 95,
    "start_time": "2022-04-24T23:03:53.019Z"
   },
   {
    "duration": 314,
    "start_time": "2022-04-24T23:04:19.468Z"
   },
   {
    "duration": 5,
    "start_time": "2022-04-24T23:04:47.095Z"
   },
   {
    "duration": 285,
    "start_time": "2022-04-24T23:05:15.143Z"
   },
   {
    "duration": 113,
    "start_time": "2022-04-24T23:06:13.292Z"
   },
   {
    "duration": 30,
    "start_time": "2022-04-24T23:06:45.795Z"
   },
   {
    "duration": 1714,
    "start_time": "2022-04-24T23:07:42.708Z"
   },
   {
    "duration": 137,
    "start_time": "2022-04-24T23:07:44.425Z"
   },
   {
    "duration": 45,
    "start_time": "2022-04-24T23:07:44.583Z"
   },
   {
    "duration": 141,
    "start_time": "2022-04-24T23:07:44.632Z"
   },
   {
    "duration": 51,
    "start_time": "2022-04-24T23:07:44.776Z"
   },
   {
    "duration": 75,
    "start_time": "2022-04-24T23:26:30.852Z"
   },
   {
    "duration": 30,
    "start_time": "2022-04-24T23:28:22.089Z"
   },
   {
    "duration": 23,
    "start_time": "2022-04-24T23:37:38.875Z"
   },
   {
    "duration": 23,
    "start_time": "2022-04-24T23:38:25.157Z"
   },
   {
    "duration": 23,
    "start_time": "2022-04-24T23:40:39.834Z"
   },
   {
    "duration": 544,
    "start_time": "2022-04-24T23:41:12.425Z"
   },
   {
    "duration": 84,
    "start_time": "2022-04-24T23:42:04.261Z"
   },
   {
    "duration": 168,
    "start_time": "2022-04-24T23:42:17.123Z"
   },
   {
    "duration": 143,
    "start_time": "2022-04-24T23:43:11.329Z"
   },
   {
    "duration": 79,
    "start_time": "2022-04-24T23:43:59.531Z"
   },
   {
    "duration": 78,
    "start_time": "2022-04-24T23:44:11.689Z"
   },
   {
    "duration": 80,
    "start_time": "2022-04-24T23:45:01.405Z"
   },
   {
    "duration": 77,
    "start_time": "2022-04-24T23:46:42.806Z"
   },
   {
    "duration": 341,
    "start_time": "2022-04-24T23:51:05.157Z"
   },
   {
    "duration": 23,
    "start_time": "2022-04-24T23:55:00.011Z"
   },
   {
    "duration": 331,
    "start_time": "2022-04-24T23:57:39.416Z"
   },
   {
    "duration": 25,
    "start_time": "2022-04-24T23:58:57.880Z"
   },
   {
    "duration": 332,
    "start_time": "2022-04-24T23:59:07.099Z"
   },
   {
    "duration": 1595,
    "start_time": "2022-04-24T23:59:36.117Z"
   },
   {
    "duration": 136,
    "start_time": "2022-04-24T23:59:37.715Z"
   },
   {
    "duration": 47,
    "start_time": "2022-04-24T23:59:37.853Z"
   },
   {
    "duration": 90,
    "start_time": "2022-04-24T23:59:37.902Z"
   },
   {
    "duration": 33,
    "start_time": "2022-04-24T23:59:37.995Z"
   },
   {
    "duration": 61,
    "start_time": "2022-04-24T23:59:38.031Z"
   },
   {
    "duration": 389,
    "start_time": "2022-04-24T23:59:38.095Z"
   },
   {
    "duration": 20,
    "start_time": "2022-04-25T01:04:50.887Z"
   },
   {
    "duration": 1955,
    "start_time": "2022-04-25T01:07:03.407Z"
   },
   {
    "duration": 1701,
    "start_time": "2022-04-25T01:07:53.040Z"
   },
   {
    "duration": 1796,
    "start_time": "2022-04-25T01:08:27.342Z"
   },
   {
    "duration": 25,
    "start_time": "2022-04-25T01:10:28.714Z"
   },
   {
    "duration": 1677,
    "start_time": "2022-04-25T01:10:41.026Z"
   },
   {
    "duration": 137,
    "start_time": "2022-04-25T01:10:42.706Z"
   },
   {
    "duration": 55,
    "start_time": "2022-04-25T01:10:42.846Z"
   },
   {
    "duration": 88,
    "start_time": "2022-04-25T01:10:42.903Z"
   },
   {
    "duration": 31,
    "start_time": "2022-04-25T01:10:42.995Z"
   },
   {
    "duration": 57,
    "start_time": "2022-04-25T01:10:43.028Z"
   },
   {
    "duration": 387,
    "start_time": "2022-04-25T01:10:43.087Z"
   },
   {
    "duration": 181,
    "start_time": "2022-04-25T01:10:43.476Z"
   },
   {
    "duration": 0,
    "start_time": "2022-04-25T01:10:43.660Z"
   },
   {
    "duration": 26,
    "start_time": "2022-04-25T01:11:42.473Z"
   },
   {
    "duration": 161,
    "start_time": "2022-04-25T01:11:57.480Z"
   },
   {
    "duration": 35,
    "start_time": "2022-04-25T01:13:41.711Z"
   },
   {
    "duration": 160,
    "start_time": "2022-04-25T01:17:09.276Z"
   },
   {
    "duration": 1657,
    "start_time": "2022-04-25T01:17:17.114Z"
   },
   {
    "duration": 145,
    "start_time": "2022-04-25T01:17:18.774Z"
   },
   {
    "duration": 25,
    "start_time": "2022-04-25T01:17:18.921Z"
   },
   {
    "duration": 93,
    "start_time": "2022-04-25T01:17:18.948Z"
   },
   {
    "duration": 62,
    "start_time": "2022-04-25T01:17:19.044Z"
   },
   {
    "duration": 30,
    "start_time": "2022-04-25T01:17:19.108Z"
   },
   {
    "duration": 53,
    "start_time": "2022-04-25T01:17:19.140Z"
   },
   {
    "duration": 388,
    "start_time": "2022-04-25T01:17:19.195Z"
   },
   {
    "duration": 23,
    "start_time": "2022-04-25T01:17:19.585Z"
   },
   {
    "duration": 198,
    "start_time": "2022-04-25T01:17:19.610Z"
   },
   {
    "duration": 568,
    "start_time": "2022-04-25T01:38:38.515Z"
   },
   {
    "duration": 450,
    "start_time": "2022-04-25T01:45:28.972Z"
   },
   {
    "duration": 1689,
    "start_time": "2022-04-25T01:46:33.542Z"
   },
   {
    "duration": 252,
    "start_time": "2022-04-25T01:48:07.491Z"
   },
   {
    "duration": 437,
    "start_time": "2022-04-25T01:48:44.177Z"
   },
   {
    "duration": 419,
    "start_time": "2022-04-25T01:51:03.448Z"
   },
   {
    "duration": 441,
    "start_time": "2022-04-25T01:51:20.728Z"
   },
   {
    "duration": 1568,
    "start_time": "2022-04-25T01:53:51.465Z"
   },
   {
    "duration": 38,
    "start_time": "2022-04-25T01:55:14.475Z"
   },
   {
    "duration": 40,
    "start_time": "2022-04-25T01:55:43.229Z"
   },
   {
    "duration": 37,
    "start_time": "2022-04-25T01:55:53.191Z"
   },
   {
    "duration": 125,
    "start_time": "2022-04-25T01:56:36.660Z"
   },
   {
    "duration": 424,
    "start_time": "2022-04-25T01:58:34.490Z"
   },
   {
    "duration": 47,
    "start_time": "2022-04-25T02:00:40.585Z"
   },
   {
    "duration": 689,
    "start_time": "2022-04-25T02:40:02.245Z"
   },
   {
    "duration": 738,
    "start_time": "2022-04-25T02:40:46.813Z"
   },
   {
    "duration": 1816,
    "start_time": "2022-04-25T02:41:16.389Z"
   },
   {
    "duration": 148,
    "start_time": "2022-04-25T02:41:18.208Z"
   },
   {
    "duration": 45,
    "start_time": "2022-04-25T02:41:18.358Z"
   },
   {
    "duration": 97,
    "start_time": "2022-04-25T02:41:18.406Z"
   },
   {
    "duration": 34,
    "start_time": "2022-04-25T02:41:18.506Z"
   },
   {
    "duration": 66,
    "start_time": "2022-04-25T02:41:18.543Z"
   },
   {
    "duration": 30,
    "start_time": "2022-04-25T02:41:18.612Z"
   },
   {
    "duration": 466,
    "start_time": "2022-04-25T02:41:18.645Z"
   },
   {
    "duration": 27,
    "start_time": "2022-04-25T02:41:19.114Z"
   },
   {
    "duration": 232,
    "start_time": "2022-04-25T02:41:19.145Z"
   },
   {
    "duration": 446,
    "start_time": "2022-04-25T02:41:19.380Z"
   },
   {
    "duration": 63,
    "start_time": "2022-04-25T02:41:19.830Z"
   },
   {
    "duration": 826,
    "start_time": "2022-04-25T02:41:19.895Z"
   },
   {
    "duration": 176,
    "start_time": "2022-04-25T02:48:33.950Z"
   },
   {
    "duration": 741,
    "start_time": "2022-04-25T02:49:24.555Z"
   },
   {
    "duration": 1743,
    "start_time": "2022-04-25T02:49:54.187Z"
   },
   {
    "duration": 155,
    "start_time": "2022-04-25T02:49:55.933Z"
   },
   {
    "duration": 27,
    "start_time": "2022-04-25T02:49:56.090Z"
   },
   {
    "duration": 109,
    "start_time": "2022-04-25T02:49:56.120Z"
   },
   {
    "duration": 51,
    "start_time": "2022-04-25T02:49:56.231Z"
   },
   {
    "duration": 35,
    "start_time": "2022-04-25T02:49:56.284Z"
   },
   {
    "duration": 67,
    "start_time": "2022-04-25T02:49:56.321Z"
   },
   {
    "duration": 401,
    "start_time": "2022-04-25T02:49:56.391Z"
   },
   {
    "duration": 31,
    "start_time": "2022-04-25T02:49:56.795Z"
   },
   {
    "duration": 276,
    "start_time": "2022-04-25T02:49:56.830Z"
   },
   {
    "duration": 620,
    "start_time": "2022-04-25T02:49:57.108Z"
   },
   {
    "duration": 80,
    "start_time": "2022-04-25T02:49:57.731Z"
   },
   {
    "duration": 680,
    "start_time": "2022-04-25T02:49:57.814Z"
   },
   {
    "duration": 727,
    "start_time": "2022-04-25T02:52:31.393Z"
   },
   {
    "duration": 681,
    "start_time": "2022-04-25T02:53:21.878Z"
   },
   {
    "duration": 640,
    "start_time": "2022-04-25T02:54:25.993Z"
   },
   {
    "duration": 414,
    "start_time": "2022-04-25T02:54:55.323Z"
   },
   {
    "duration": 239,
    "start_time": "2022-04-25T02:55:48.809Z"
   },
   {
    "duration": 13,
    "start_time": "2022-04-25T03:03:57.579Z"
   },
   {
    "duration": 171,
    "start_time": "2022-04-25T03:06:53.570Z"
   },
   {
    "duration": 23,
    "start_time": "2022-04-25T03:07:12.405Z"
   },
   {
    "duration": 28,
    "start_time": "2022-04-25T03:07:51.786Z"
   },
   {
    "duration": 349,
    "start_time": "2022-04-25T03:09:42.061Z"
   },
   {
    "duration": 357,
    "start_time": "2022-04-25T03:11:54.409Z"
   },
   {
    "duration": 462,
    "start_time": "2022-04-25T03:12:35.992Z"
   },
   {
    "duration": 371,
    "start_time": "2022-04-25T03:12:45.888Z"
   },
   {
    "duration": 186,
    "start_time": "2022-04-25T03:21:23.740Z"
   },
   {
    "duration": 209,
    "start_time": "2022-04-25T03:21:42.099Z"
   },
   {
    "duration": 287,
    "start_time": "2022-04-25T03:23:03.248Z"
   },
   {
    "duration": 1844,
    "start_time": "2022-04-25T03:40:26.671Z"
   },
   {
    "duration": 23,
    "start_time": "2022-04-25T03:40:44.562Z"
   },
   {
    "duration": 17,
    "start_time": "2022-04-25T03:42:49.372Z"
   },
   {
    "duration": 12,
    "start_time": "2022-04-25T03:42:58.103Z"
   },
   {
    "duration": 18,
    "start_time": "2022-04-25T03:44:13.773Z"
   },
   {
    "duration": 15,
    "start_time": "2022-04-25T03:44:28.665Z"
   },
   {
    "duration": 15,
    "start_time": "2022-04-25T03:44:55.511Z"
   },
   {
    "duration": 13,
    "start_time": "2022-04-25T03:45:10.262Z"
   },
   {
    "duration": 17,
    "start_time": "2022-04-25T03:46:54.290Z"
   },
   {
    "duration": 106,
    "start_time": "2022-04-25T03:47:15.531Z"
   },
   {
    "duration": 8,
    "start_time": "2022-04-25T03:47:29.021Z"
   },
   {
    "duration": 37,
    "start_time": "2022-04-25T03:49:36.820Z"
   },
   {
    "duration": 778,
    "start_time": "2022-04-25T04:07:02.417Z"
   },
   {
    "duration": 1067,
    "start_time": "2022-04-25T04:08:33.530Z"
   },
   {
    "duration": 867,
    "start_time": "2022-04-25T04:09:23.400Z"
   },
   {
    "duration": 1231,
    "start_time": "2022-04-25T04:11:22.667Z"
   },
   {
    "duration": 267,
    "start_time": "2022-04-25T04:13:51.382Z"
   },
   {
    "duration": 269,
    "start_time": "2022-04-25T04:14:13.875Z"
   },
   {
    "duration": 233,
    "start_time": "2022-04-25T04:14:44.758Z"
   },
   {
    "duration": 238,
    "start_time": "2022-04-25T04:15:35.379Z"
   },
   {
    "duration": 347,
    "start_time": "2022-04-25T04:18:00.556Z"
   },
   {
    "duration": 2399,
    "start_time": "2022-04-25T04:18:12.020Z"
   },
   {
    "duration": 213,
    "start_time": "2022-04-25T04:18:14.423Z"
   },
   {
    "duration": 62,
    "start_time": "2022-04-25T04:18:14.639Z"
   },
   {
    "duration": 129,
    "start_time": "2022-04-25T04:18:14.704Z"
   },
   {
    "duration": 66,
    "start_time": "2022-04-25T04:18:14.835Z"
   },
   {
    "duration": 47,
    "start_time": "2022-04-25T04:18:14.904Z"
   },
   {
    "duration": 61,
    "start_time": "2022-04-25T04:18:14.954Z"
   },
   {
    "duration": 400,
    "start_time": "2022-04-25T04:18:15.018Z"
   },
   {
    "duration": 24,
    "start_time": "2022-04-25T04:18:15.421Z"
   },
   {
    "duration": 205,
    "start_time": "2022-04-25T04:18:15.449Z"
   },
   {
    "duration": 537,
    "start_time": "2022-04-25T04:18:15.657Z"
   },
   {
    "duration": 54,
    "start_time": "2022-04-25T04:18:16.197Z"
   },
   {
    "duration": 49,
    "start_time": "2022-04-25T04:18:16.253Z"
   },
   {
    "duration": 392,
    "start_time": "2022-04-25T04:18:16.304Z"
   },
   {
    "duration": 459,
    "start_time": "2022-04-25T04:18:16.698Z"
   },
   {
    "duration": 235,
    "start_time": "2022-04-25T04:18:17.159Z"
   },
   {
    "duration": 311,
    "start_time": "2022-04-25T04:18:17.396Z"
   },
   {
    "duration": 6,
    "start_time": "2022-04-25T04:18:17.710Z"
   },
   {
    "duration": 23,
    "start_time": "2022-04-25T04:18:17.718Z"
   },
   {
    "duration": 791,
    "start_time": "2022-04-25T04:18:17.744Z"
   },
   {
    "duration": 407,
    "start_time": "2022-04-25T04:18:18.537Z"
   },
   {
    "duration": 369,
    "start_time": "2022-04-25T04:19:02.813Z"
   },
   {
    "duration": 101,
    "start_time": "2022-04-25T04:20:19.463Z"
   },
   {
    "duration": 900,
    "start_time": "2022-04-25T04:20:35.210Z"
   },
   {
    "duration": 5,
    "start_time": "2022-04-25T04:52:06.626Z"
   },
   {
    "duration": 20,
    "start_time": "2022-04-25T04:52:31.817Z"
   },
   {
    "duration": 6,
    "start_time": "2022-04-25T04:52:49.759Z"
   },
   {
    "duration": 20,
    "start_time": "2022-04-25T04:53:14.084Z"
   },
   {
    "duration": 346,
    "start_time": "2022-04-25T04:55:18.915Z"
   },
   {
    "duration": 1721,
    "start_time": "2022-04-25T04:58:43.900Z"
   },
   {
    "duration": 181,
    "start_time": "2022-04-25T04:58:45.624Z"
   },
   {
    "duration": 27,
    "start_time": "2022-04-25T04:58:45.807Z"
   },
   {
    "duration": 123,
    "start_time": "2022-04-25T04:58:45.837Z"
   },
   {
    "duration": 48,
    "start_time": "2022-04-25T04:58:45.963Z"
   },
   {
    "duration": 69,
    "start_time": "2022-04-25T04:58:46.013Z"
   },
   {
    "duration": 27,
    "start_time": "2022-04-25T04:58:46.085Z"
   },
   {
    "duration": 435,
    "start_time": "2022-04-25T04:58:46.116Z"
   },
   {
    "duration": 33,
    "start_time": "2022-04-25T04:58:46.554Z"
   },
   {
    "duration": 226,
    "start_time": "2022-04-25T04:58:46.591Z"
   },
   {
    "duration": 454,
    "start_time": "2022-04-25T04:58:46.820Z"
   },
   {
    "duration": 53,
    "start_time": "2022-04-25T04:58:47.276Z"
   },
   {
    "duration": 65,
    "start_time": "2022-04-25T04:58:47.333Z"
   },
   {
    "duration": 543,
    "start_time": "2022-04-25T04:58:47.400Z"
   },
   {
    "duration": 659,
    "start_time": "2022-04-25T04:58:47.946Z"
   },
   {
    "duration": 238,
    "start_time": "2022-04-25T04:58:48.607Z"
   },
   {
    "duration": 344,
    "start_time": "2022-04-25T04:58:48.847Z"
   },
   {
    "duration": 8,
    "start_time": "2022-04-25T04:58:49.193Z"
   },
   {
    "duration": 31,
    "start_time": "2022-04-25T04:58:49.204Z"
   },
   {
    "duration": 867,
    "start_time": "2022-04-25T04:58:49.237Z"
   },
   {
    "duration": 378,
    "start_time": "2022-04-25T04:58:50.107Z"
   },
   {
    "duration": 358,
    "start_time": "2022-04-25T04:58:50.488Z"
   },
   {
    "duration": 40,
    "start_time": "2022-04-25T05:01:58.067Z"
   },
   {
    "duration": 222,
    "start_time": "2022-04-25T05:13:38.640Z"
   },
   {
    "duration": 100,
    "start_time": "2022-04-25T05:13:49.598Z"
   },
   {
    "duration": 83,
    "start_time": "2022-04-25T05:14:49.468Z"
   },
   {
    "duration": 277,
    "start_time": "2022-04-25T05:20:52.196Z"
   },
   {
    "duration": 229,
    "start_time": "2022-04-25T05:21:23.597Z"
   },
   {
    "duration": 73,
    "start_time": "2022-04-25T05:23:57.182Z"
   },
   {
    "duration": 24,
    "start_time": "2022-04-25T05:24:04.862Z"
   },
   {
    "duration": 184,
    "start_time": "2022-04-25T05:25:07.411Z"
   },
   {
    "duration": 31,
    "start_time": "2022-04-25T05:28:55.565Z"
   },
   {
    "duration": 1914,
    "start_time": "2022-04-25T05:29:19.119Z"
   },
   {
    "duration": 1781,
    "start_time": "2022-04-25T05:30:15.835Z"
   },
   {
    "duration": 141,
    "start_time": "2022-04-25T05:30:17.619Z"
   },
   {
    "duration": 26,
    "start_time": "2022-04-25T05:30:17.782Z"
   },
   {
    "duration": 96,
    "start_time": "2022-04-25T05:30:17.811Z"
   },
   {
    "duration": 30,
    "start_time": "2022-04-25T05:30:17.909Z"
   },
   {
    "duration": 61,
    "start_time": "2022-04-25T05:30:17.941Z"
   },
   {
    "duration": 25,
    "start_time": "2022-04-25T05:30:18.004Z"
   },
   {
    "duration": 406,
    "start_time": "2022-04-25T05:30:18.031Z"
   },
   {
    "duration": 23,
    "start_time": "2022-04-25T05:30:18.439Z"
   },
   {
    "duration": 186,
    "start_time": "2022-04-25T05:30:18.483Z"
   },
   {
    "duration": 435,
    "start_time": "2022-04-25T05:30:18.671Z"
   },
   {
    "duration": 45,
    "start_time": "2022-04-25T05:30:19.108Z"
   },
   {
    "duration": 46,
    "start_time": "2022-04-25T05:30:19.155Z"
   },
   {
    "duration": 378,
    "start_time": "2022-04-25T05:30:19.204Z"
   },
   {
    "duration": 458,
    "start_time": "2022-04-25T05:30:19.584Z"
   },
   {
    "duration": 239,
    "start_time": "2022-04-25T05:30:20.045Z"
   },
   {
    "duration": 315,
    "start_time": "2022-04-25T05:30:20.287Z"
   },
   {
    "duration": 6,
    "start_time": "2022-04-25T05:30:20.605Z"
   },
   {
    "duration": 27,
    "start_time": "2022-04-25T05:30:20.613Z"
   },
   {
    "duration": 774,
    "start_time": "2022-04-25T05:30:20.642Z"
   },
   {
    "duration": 390,
    "start_time": "2022-04-25T05:30:21.419Z"
   },
   {
    "duration": 348,
    "start_time": "2022-04-25T05:30:21.812Z"
   },
   {
    "duration": 42,
    "start_time": "2022-04-25T05:30:22.163Z"
   },
   {
    "duration": 192,
    "start_time": "2022-04-25T05:30:22.208Z"
   },
   {
    "duration": 208,
    "start_time": "2022-04-25T05:30:22.403Z"
   },
   {
    "duration": 2056,
    "start_time": "2022-04-25T05:33:23.226Z"
   },
   {
    "duration": 1944,
    "start_time": "2022-04-25T05:34:11.230Z"
   },
   {
    "duration": 37,
    "start_time": "2022-04-25T05:39:05.521Z"
   },
   {
    "duration": 18,
    "start_time": "2022-04-25T05:39:22.846Z"
   },
   {
    "duration": 25,
    "start_time": "2022-04-25T05:40:11.888Z"
   },
   {
    "duration": 1765,
    "start_time": "2022-04-25T05:40:46.750Z"
   },
   {
    "duration": 141,
    "start_time": "2022-04-25T05:40:48.519Z"
   },
   {
    "duration": 28,
    "start_time": "2022-04-25T05:40:48.683Z"
   },
   {
    "duration": 97,
    "start_time": "2022-04-25T05:40:48.714Z"
   },
   {
    "duration": 31,
    "start_time": "2022-04-25T05:40:48.814Z"
   },
   {
    "duration": 57,
    "start_time": "2022-04-25T05:40:48.847Z"
   },
   {
    "duration": 25,
    "start_time": "2022-04-25T05:40:48.906Z"
   },
   {
    "duration": 409,
    "start_time": "2022-04-25T05:40:48.934Z"
   },
   {
    "duration": 38,
    "start_time": "2022-04-25T05:40:49.345Z"
   },
   {
    "duration": 189,
    "start_time": "2022-04-25T05:40:49.387Z"
   },
   {
    "duration": 427,
    "start_time": "2022-04-25T05:40:49.582Z"
   },
   {
    "duration": 47,
    "start_time": "2022-04-25T05:40:50.011Z"
   },
   {
    "duration": 45,
    "start_time": "2022-04-25T05:40:50.060Z"
   },
   {
    "duration": 371,
    "start_time": "2022-04-25T05:40:50.107Z"
   },
   {
    "duration": 460,
    "start_time": "2022-04-25T05:40:50.482Z"
   },
   {
    "duration": 240,
    "start_time": "2022-04-25T05:40:50.944Z"
   },
   {
    "duration": 312,
    "start_time": "2022-04-25T05:40:51.187Z"
   },
   {
    "duration": 7,
    "start_time": "2022-04-25T05:40:51.501Z"
   },
   {
    "duration": 22,
    "start_time": "2022-04-25T05:40:51.510Z"
   },
   {
    "duration": 780,
    "start_time": "2022-04-25T05:40:51.535Z"
   },
   {
    "duration": 381,
    "start_time": "2022-04-25T05:40:52.317Z"
   },
   {
    "duration": 335,
    "start_time": "2022-04-25T05:40:52.700Z"
   },
   {
    "duration": 46,
    "start_time": "2022-04-25T05:40:53.037Z"
   },
   {
    "duration": 238,
    "start_time": "2022-04-25T05:40:53.085Z"
   },
   {
    "duration": 177,
    "start_time": "2022-04-25T05:40:53.325Z"
   },
   {
    "duration": 25,
    "start_time": "2022-04-25T05:42:11.079Z"
   },
   {
    "duration": 24,
    "start_time": "2022-04-25T05:43:11.377Z"
   },
   {
    "duration": 1734,
    "start_time": "2022-04-25T05:44:18.032Z"
   },
   {
    "duration": 156,
    "start_time": "2022-04-25T05:44:19.769Z"
   },
   {
    "duration": 59,
    "start_time": "2022-04-25T05:44:19.927Z"
   },
   {
    "duration": 95,
    "start_time": "2022-04-25T05:44:19.989Z"
   },
   {
    "duration": 32,
    "start_time": "2022-04-25T05:44:20.086Z"
   },
   {
    "duration": 74,
    "start_time": "2022-04-25T05:44:20.120Z"
   },
   {
    "duration": 28,
    "start_time": "2022-04-25T05:44:20.197Z"
   },
   {
    "duration": 554,
    "start_time": "2022-04-25T05:44:20.228Z"
   },
   {
    "duration": 27,
    "start_time": "2022-04-25T05:44:20.784Z"
   },
   {
    "duration": 286,
    "start_time": "2022-04-25T05:44:20.816Z"
   },
   {
    "duration": 727,
    "start_time": "2022-04-25T05:44:21.105Z"
   },
   {
    "duration": 67,
    "start_time": "2022-04-25T05:44:21.835Z"
   },
   {
    "duration": 25,
    "start_time": "2022-04-25T05:44:21.905Z"
   },
   {
    "duration": 399,
    "start_time": "2022-04-25T05:44:21.932Z"
   },
   {
    "duration": 682,
    "start_time": "2022-04-25T05:44:22.334Z"
   },
   {
    "duration": 324,
    "start_time": "2022-04-25T05:44:23.019Z"
   },
   {
    "duration": 405,
    "start_time": "2022-04-25T05:44:23.346Z"
   },
   {
    "duration": 8,
    "start_time": "2022-04-25T05:44:23.754Z"
   },
   {
    "duration": 35,
    "start_time": "2022-04-25T05:44:23.765Z"
   },
   {
    "duration": 764,
    "start_time": "2022-04-25T05:44:23.803Z"
   },
   {
    "duration": 380,
    "start_time": "2022-04-25T05:44:24.569Z"
   },
   {
    "duration": 451,
    "start_time": "2022-04-25T05:44:24.951Z"
   },
   {
    "duration": 4,
    "start_time": "2022-04-25T05:44:25.404Z"
   },
   {
    "duration": 401,
    "start_time": "2022-04-25T05:44:25.411Z"
   },
   {
    "duration": 183,
    "start_time": "2022-04-25T05:44:25.816Z"
   },
   {
    "duration": 37,
    "start_time": "2022-04-25T05:45:56.816Z"
   },
   {
    "duration": 64,
    "start_time": "2022-04-25T05:52:21.840Z"
   },
   {
    "duration": 26,
    "start_time": "2022-04-25T05:52:47.342Z"
   },
   {
    "duration": 33,
    "start_time": "2022-04-25T05:52:57.135Z"
   },
   {
    "duration": 429,
    "start_time": "2022-04-25T05:53:10.431Z"
   },
   {
    "duration": 2288,
    "start_time": "2022-04-25T05:53:57.559Z"
   },
   {
    "duration": 177,
    "start_time": "2022-04-25T05:53:59.851Z"
   },
   {
    "duration": 70,
    "start_time": "2022-04-25T05:54:00.030Z"
   },
   {
    "duration": 93,
    "start_time": "2022-04-25T05:54:00.103Z"
   },
   {
    "duration": 32,
    "start_time": "2022-04-25T05:54:00.198Z"
   },
   {
    "duration": 72,
    "start_time": "2022-04-25T05:54:00.232Z"
   },
   {
    "duration": 28,
    "start_time": "2022-04-25T05:54:00.306Z"
   },
   {
    "duration": 424,
    "start_time": "2022-04-25T05:54:00.337Z"
   },
   {
    "duration": 32,
    "start_time": "2022-04-25T05:54:00.763Z"
   },
   {
    "duration": 203,
    "start_time": "2022-04-25T05:54:00.801Z"
   },
   {
    "duration": 621,
    "start_time": "2022-04-25T05:54:01.007Z"
   },
   {
    "duration": 85,
    "start_time": "2022-04-25T05:54:01.631Z"
   },
   {
    "duration": 33,
    "start_time": "2022-04-25T05:54:01.719Z"
   },
   {
    "duration": 387,
    "start_time": "2022-04-25T05:54:01.754Z"
   },
   {
    "duration": 627,
    "start_time": "2022-04-25T05:54:02.144Z"
   },
   {
    "duration": 269,
    "start_time": "2022-04-25T05:54:02.774Z"
   },
   {
    "duration": 302,
    "start_time": "2022-04-25T05:54:03.046Z"
   },
   {
    "duration": 8,
    "start_time": "2022-04-25T05:54:03.350Z"
   },
   {
    "duration": 45,
    "start_time": "2022-04-25T05:54:03.361Z"
   },
   {
    "duration": 974,
    "start_time": "2022-04-25T05:54:03.409Z"
   },
   {
    "duration": 374,
    "start_time": "2022-04-25T05:54:04.386Z"
   },
   {
    "duration": 374,
    "start_time": "2022-04-25T05:54:04.763Z"
   },
   {
    "duration": 48,
    "start_time": "2022-04-25T05:54:05.141Z"
   },
   {
    "duration": 232,
    "start_time": "2022-04-25T05:54:05.191Z"
   },
   {
    "duration": 44,
    "start_time": "2022-04-25T05:54:05.425Z"
   },
   {
    "duration": 300,
    "start_time": "2022-04-25T05:54:05.475Z"
   },
   {
    "duration": 0,
    "start_time": "2022-04-25T05:54:05.778Z"
   },
   {
    "duration": 40,
    "start_time": "2022-04-25T05:55:06.183Z"
   },
   {
    "duration": 25,
    "start_time": "2022-04-25T05:55:23.450Z"
   },
   {
    "duration": 326,
    "start_time": "2022-04-25T05:57:03.195Z"
   },
   {
    "duration": 321,
    "start_time": "2022-04-25T05:58:03.064Z"
   },
   {
    "duration": 660,
    "start_time": "2022-04-25T05:58:10.300Z"
   },
   {
    "duration": 318,
    "start_time": "2022-04-25T05:58:25.701Z"
   },
   {
    "duration": 33,
    "start_time": "2022-04-25T06:07:35.489Z"
   },
   {
    "duration": 22,
    "start_time": "2022-04-25T06:08:57.274Z"
   },
   {
    "duration": 12,
    "start_time": "2022-04-25T06:14:26.237Z"
   },
   {
    "duration": 32,
    "start_time": "2022-04-25T06:15:02.157Z"
   },
   {
    "duration": 28,
    "start_time": "2022-04-25T06:15:53.904Z"
   },
   {
    "duration": 25,
    "start_time": "2022-04-25T06:16:11.877Z"
   },
   {
    "duration": 23,
    "start_time": "2022-04-25T06:16:40.548Z"
   },
   {
    "duration": 24,
    "start_time": "2022-04-25T06:17:25.655Z"
   },
   {
    "duration": 24,
    "start_time": "2022-04-25T06:18:29.153Z"
   },
   {
    "duration": 24,
    "start_time": "2022-04-25T06:21:05.099Z"
   },
   {
    "duration": 3092,
    "start_time": "2022-04-25T06:21:14.351Z"
   },
   {
    "duration": 20,
    "start_time": "2022-04-25T06:22:08.420Z"
   },
   {
    "duration": 21,
    "start_time": "2022-04-25T06:22:21.488Z"
   },
   {
    "duration": 21,
    "start_time": "2022-04-25T06:22:55.110Z"
   },
   {
    "duration": 2407,
    "start_time": "2022-04-25T06:23:13.461Z"
   },
   {
    "duration": 219,
    "start_time": "2022-04-25T06:23:15.872Z"
   },
   {
    "duration": 38,
    "start_time": "2022-04-25T06:23:16.094Z"
   },
   {
    "duration": 105,
    "start_time": "2022-04-25T06:23:16.135Z"
   },
   {
    "duration": 51,
    "start_time": "2022-04-25T06:23:16.242Z"
   },
   {
    "duration": 33,
    "start_time": "2022-04-25T06:23:16.295Z"
   },
   {
    "duration": 58,
    "start_time": "2022-04-25T06:23:16.330Z"
   },
   {
    "duration": 381,
    "start_time": "2022-04-25T06:23:16.390Z"
   },
   {
    "duration": 23,
    "start_time": "2022-04-25T06:23:16.781Z"
   },
   {
    "duration": 205,
    "start_time": "2022-04-25T06:23:16.810Z"
   },
   {
    "duration": 443,
    "start_time": "2022-04-25T06:23:17.018Z"
   },
   {
    "duration": 63,
    "start_time": "2022-04-25T06:23:17.464Z"
   },
   {
    "duration": 58,
    "start_time": "2022-04-25T06:23:17.530Z"
   },
   {
    "duration": 389,
    "start_time": "2022-04-25T06:23:17.590Z"
   },
   {
    "duration": 466,
    "start_time": "2022-04-25T06:23:17.982Z"
   },
   {
    "duration": 260,
    "start_time": "2022-04-25T06:23:18.450Z"
   },
   {
    "duration": 310,
    "start_time": "2022-04-25T06:23:18.713Z"
   },
   {
    "duration": 7,
    "start_time": "2022-04-25T06:23:19.026Z"
   },
   {
    "duration": 49,
    "start_time": "2022-04-25T06:23:19.034Z"
   },
   {
    "duration": 748,
    "start_time": "2022-04-25T06:23:19.086Z"
   },
   {
    "duration": 381,
    "start_time": "2022-04-25T06:23:19.836Z"
   },
   {
    "duration": 345,
    "start_time": "2022-04-25T06:23:20.219Z"
   },
   {
    "duration": 37,
    "start_time": "2022-04-25T06:23:20.566Z"
   },
   {
    "duration": 255,
    "start_time": "2022-04-25T06:23:20.605Z"
   },
   {
    "duration": 35,
    "start_time": "2022-04-25T06:23:20.862Z"
   },
   {
    "duration": 337,
    "start_time": "2022-04-25T06:23:20.900Z"
   },
   {
    "duration": 196,
    "start_time": "2022-04-25T06:23:21.239Z"
   },
   {
    "duration": 24,
    "start_time": "2022-04-25T06:30:28.919Z"
   },
   {
    "duration": 45,
    "start_time": "2022-04-25T06:41:48.811Z"
   },
   {
    "duration": 44,
    "start_time": "2022-04-25T06:42:36.075Z"
   },
   {
    "duration": 25,
    "start_time": "2022-04-25T06:44:52.354Z"
   },
   {
    "duration": 10,
    "start_time": "2022-04-25T06:45:29.724Z"
   },
   {
    "duration": 31,
    "start_time": "2022-04-25T06:46:16.443Z"
   },
   {
    "duration": 37,
    "start_time": "2022-04-25T06:48:16.801Z"
   },
   {
    "duration": 47,
    "start_time": "2022-04-25T06:48:56.722Z"
   },
   {
    "duration": 2371,
    "start_time": "2022-04-25T06:50:25.236Z"
   },
   {
    "duration": 214,
    "start_time": "2022-04-25T06:50:27.610Z"
   },
   {
    "duration": 30,
    "start_time": "2022-04-25T06:50:27.827Z"
   },
   {
    "duration": 124,
    "start_time": "2022-04-25T06:50:27.886Z"
   },
   {
    "duration": 35,
    "start_time": "2022-04-25T06:50:28.013Z"
   },
   {
    "duration": 59,
    "start_time": "2022-04-25T06:50:28.050Z"
   },
   {
    "duration": 25,
    "start_time": "2022-04-25T06:50:28.111Z"
   },
   {
    "duration": 425,
    "start_time": "2022-04-25T06:50:28.138Z"
   },
   {
    "duration": 32,
    "start_time": "2022-04-25T06:50:28.565Z"
   },
   {
    "duration": 190,
    "start_time": "2022-04-25T06:50:28.601Z"
   },
   {
    "duration": 457,
    "start_time": "2022-04-25T06:50:28.793Z"
   },
   {
    "duration": 74,
    "start_time": "2022-04-25T06:50:29.253Z"
   },
   {
    "duration": 55,
    "start_time": "2022-04-25T06:50:29.330Z"
   },
   {
    "duration": 412,
    "start_time": "2022-04-25T06:50:29.388Z"
   },
   {
    "duration": 510,
    "start_time": "2022-04-25T06:50:29.802Z"
   },
   {
    "duration": 261,
    "start_time": "2022-04-25T06:50:30.315Z"
   },
   {
    "duration": 300,
    "start_time": "2022-04-25T06:50:30.582Z"
   },
   {
    "duration": 7,
    "start_time": "2022-04-25T06:50:30.885Z"
   },
   {
    "duration": 31,
    "start_time": "2022-04-25T06:50:30.894Z"
   },
   {
    "duration": 860,
    "start_time": "2022-04-25T06:50:30.928Z"
   },
   {
    "duration": 370,
    "start_time": "2022-04-25T06:50:31.790Z"
   },
   {
    "duration": 517,
    "start_time": "2022-04-25T06:50:32.162Z"
   },
   {
    "duration": 32,
    "start_time": "2022-04-25T06:50:32.681Z"
   },
   {
    "duration": 185,
    "start_time": "2022-04-25T06:50:32.717Z"
   },
   {
    "duration": 87,
    "start_time": "2022-04-25T06:50:32.925Z"
   },
   {
    "duration": 460,
    "start_time": "2022-04-25T06:50:33.031Z"
   },
   {
    "duration": 29,
    "start_time": "2022-04-25T06:50:33.494Z"
   },
   {
    "duration": 76,
    "start_time": "2022-04-25T06:50:33.529Z"
   },
   {
    "duration": 28,
    "start_time": "2022-04-25T06:51:49.573Z"
   },
   {
    "duration": 334,
    "start_time": "2022-04-25T06:58:16.866Z"
   },
   {
    "duration": 40,
    "start_time": "2022-04-25T06:58:54.582Z"
   },
   {
    "duration": 28,
    "start_time": "2022-04-25T06:59:09.089Z"
   },
   {
    "duration": 1726,
    "start_time": "2022-04-25T06:59:30.094Z"
   },
   {
    "duration": 143,
    "start_time": "2022-04-25T06:59:31.823Z"
   },
   {
    "duration": 38,
    "start_time": "2022-04-25T06:59:31.968Z"
   },
   {
    "duration": 99,
    "start_time": "2022-04-25T06:59:32.010Z"
   },
   {
    "duration": 29,
    "start_time": "2022-04-25T06:59:32.111Z"
   },
   {
    "duration": 55,
    "start_time": "2022-04-25T06:59:32.143Z"
   },
   {
    "duration": 28,
    "start_time": "2022-04-25T06:59:32.200Z"
   },
   {
    "duration": 421,
    "start_time": "2022-04-25T06:59:32.231Z"
   },
   {
    "duration": 32,
    "start_time": "2022-04-25T06:59:32.655Z"
   },
   {
    "duration": 193,
    "start_time": "2022-04-25T06:59:32.691Z"
   },
   {
    "duration": 441,
    "start_time": "2022-04-25T06:59:32.886Z"
   },
   {
    "duration": 67,
    "start_time": "2022-04-25T06:59:33.329Z"
   },
   {
    "duration": 24,
    "start_time": "2022-04-25T06:59:33.399Z"
   },
   {
    "duration": 390,
    "start_time": "2022-04-25T06:59:33.426Z"
   },
   {
    "duration": 458,
    "start_time": "2022-04-25T06:59:33.819Z"
   },
   {
    "duration": 231,
    "start_time": "2022-04-25T06:59:34.282Z"
   },
   {
    "duration": 301,
    "start_time": "2022-04-25T06:59:34.515Z"
   },
   {
    "duration": 8,
    "start_time": "2022-04-25T06:59:34.818Z"
   },
   {
    "duration": 54,
    "start_time": "2022-04-25T06:59:34.828Z"
   },
   {
    "duration": 742,
    "start_time": "2022-04-25T06:59:34.884Z"
   },
   {
    "duration": 402,
    "start_time": "2022-04-25T06:59:35.629Z"
   },
   {
    "duration": 326,
    "start_time": "2022-04-25T06:59:36.033Z"
   },
   {
    "duration": 40,
    "start_time": "2022-04-25T06:59:36.362Z"
   },
   {
    "duration": 221,
    "start_time": "2022-04-25T06:59:36.405Z"
   },
   {
    "duration": 30,
    "start_time": "2022-04-25T06:59:36.628Z"
   },
   {
    "duration": 178,
    "start_time": "2022-04-25T06:59:36.660Z"
   },
   {
    "duration": 0,
    "start_time": "2022-04-25T06:59:36.841Z"
   },
   {
    "duration": 0,
    "start_time": "2022-04-25T06:59:36.842Z"
   },
   {
    "duration": 30,
    "start_time": "2022-04-25T07:00:13.338Z"
   },
   {
    "duration": 309,
    "start_time": "2022-04-25T07:00:16.529Z"
   },
   {
    "duration": 22,
    "start_time": "2022-04-25T07:00:29.138Z"
   },
   {
    "duration": 107,
    "start_time": "2022-04-25T07:01:18.690Z"
   },
   {
    "duration": 22,
    "start_time": "2022-04-25T07:01:38.271Z"
   },
   {
    "duration": 27,
    "start_time": "2022-04-25T07:02:24.702Z"
   },
   {
    "duration": 28,
    "start_time": "2022-04-25T07:08:11.034Z"
   },
   {
    "duration": 25,
    "start_time": "2022-04-25T07:09:00.207Z"
   },
   {
    "duration": 881,
    "start_time": "2022-04-25T07:16:04.324Z"
   },
   {
    "duration": 152,
    "start_time": "2022-04-25T07:21:06.873Z"
   },
   {
    "duration": 40,
    "start_time": "2022-04-25T07:22:40.009Z"
   },
   {
    "duration": 31,
    "start_time": "2022-04-25T07:23:50.436Z"
   },
   {
    "duration": 23,
    "start_time": "2022-04-25T07:26:58.362Z"
   },
   {
    "duration": 104,
    "start_time": "2022-04-25T07:27:35.044Z"
   },
   {
    "duration": 119,
    "start_time": "2022-04-25T07:28:12.515Z"
   },
   {
    "duration": 97,
    "start_time": "2022-04-25T07:28:39.830Z"
   },
   {
    "duration": 99,
    "start_time": "2022-04-25T07:28:58.618Z"
   },
   {
    "duration": 94,
    "start_time": "2022-04-25T07:29:21.756Z"
   },
   {
    "duration": 89,
    "start_time": "2022-04-25T07:29:37.449Z"
   },
   {
    "duration": 87,
    "start_time": "2022-04-25T07:30:16.768Z"
   },
   {
    "duration": 89,
    "start_time": "2022-04-25T07:30:32.537Z"
   },
   {
    "duration": 88,
    "start_time": "2022-04-25T07:31:11.307Z"
   },
   {
    "duration": 95,
    "start_time": "2022-04-25T07:31:46.249Z"
   },
   {
    "duration": 92,
    "start_time": "2022-04-25T07:32:01.314Z"
   },
   {
    "duration": 18,
    "start_time": "2022-04-25T07:34:29.805Z"
   },
   {
    "duration": 127,
    "start_time": "2022-04-25T07:34:37.285Z"
   },
   {
    "duration": 84,
    "start_time": "2022-04-25T07:37:13.604Z"
   },
   {
    "duration": 480,
    "start_time": "2022-04-25T07:41:31.052Z"
   },
   {
    "duration": 478,
    "start_time": "2022-04-25T07:43:59.577Z"
   },
   {
    "duration": 584,
    "start_time": "2022-04-25T07:44:16.853Z"
   },
   {
    "duration": 664,
    "start_time": "2022-04-25T07:46:57.152Z"
   },
   {
    "duration": 1657,
    "start_time": "2022-04-25T07:50:00.380Z"
   },
   {
    "duration": 126,
    "start_time": "2022-04-25T07:57:11.443Z"
   },
   {
    "duration": 40,
    "start_time": "2022-04-25T07:58:49.876Z"
   },
   {
    "duration": 25,
    "start_time": "2022-04-25T07:59:21.935Z"
   },
   {
    "duration": 26,
    "start_time": "2022-04-25T08:00:02.843Z"
   },
   {
    "duration": 28,
    "start_time": "2022-04-25T08:03:10.675Z"
   },
   {
    "duration": 27,
    "start_time": "2022-04-25T08:03:21.222Z"
   },
   {
    "duration": 27,
    "start_time": "2022-04-25T08:04:15.968Z"
   },
   {
    "duration": 26,
    "start_time": "2022-04-25T08:04:39.343Z"
   },
   {
    "duration": 1551,
    "start_time": "2022-04-25T08:05:07.916Z"
   },
   {
    "duration": 1117,
    "start_time": "2022-04-25T08:05:38.126Z"
   },
   {
    "duration": 30,
    "start_time": "2022-04-25T08:20:33.621Z"
   },
   {
    "duration": 33,
    "start_time": "2022-04-25T08:27:20.653Z"
   },
   {
    "duration": 2478,
    "start_time": "2022-04-25T08:41:54.279Z"
   },
   {
    "duration": 31,
    "start_time": "2022-04-25T08:42:32.301Z"
   },
   {
    "duration": 437,
    "start_time": "2022-04-25T08:43:32.760Z"
   },
   {
    "duration": 323,
    "start_time": "2022-04-25T08:45:52.250Z"
   },
   {
    "duration": 2498,
    "start_time": "2022-04-25T09:04:56.197Z"
   },
   {
    "duration": 480,
    "start_time": "2022-04-25T09:05:49.614Z"
   },
   {
    "duration": 13,
    "start_time": "2022-04-25T09:07:24.499Z"
   },
   {
    "duration": 17,
    "start_time": "2022-04-25T09:09:19.342Z"
   },
   {
    "duration": 14,
    "start_time": "2022-04-25T09:09:30.800Z"
   },
   {
    "duration": 195,
    "start_time": "2022-04-25T09:15:55.143Z"
   },
   {
    "duration": 41,
    "start_time": "2022-04-25T09:16:37.288Z"
   },
   {
    "duration": 45,
    "start_time": "2022-04-25T09:18:16.384Z"
   },
   {
    "duration": 1782,
    "start_time": "2022-04-25T09:19:07.856Z"
   },
   {
    "duration": 164,
    "start_time": "2022-04-25T09:19:09.640Z"
   },
   {
    "duration": 39,
    "start_time": "2022-04-25T09:19:09.807Z"
   },
   {
    "duration": 110,
    "start_time": "2022-04-25T09:19:09.850Z"
   },
   {
    "duration": 46,
    "start_time": "2022-04-25T09:19:09.981Z"
   },
   {
    "duration": 75,
    "start_time": "2022-04-25T09:19:10.029Z"
   },
   {
    "duration": 37,
    "start_time": "2022-04-25T09:19:10.110Z"
   },
   {
    "duration": 566,
    "start_time": "2022-04-25T09:19:10.149Z"
   },
   {
    "duration": 28,
    "start_time": "2022-04-25T09:19:10.719Z"
   },
   {
    "duration": 184,
    "start_time": "2022-04-25T09:19:10.786Z"
   },
   {
    "duration": 448,
    "start_time": "2022-04-25T09:19:10.973Z"
   },
   {
    "duration": 63,
    "start_time": "2022-04-25T09:19:11.423Z"
   },
   {
    "duration": 35,
    "start_time": "2022-04-25T09:19:11.490Z"
   },
   {
    "duration": 393,
    "start_time": "2022-04-25T09:19:11.528Z"
   },
   {
    "duration": 484,
    "start_time": "2022-04-25T09:19:11.924Z"
   },
   {
    "duration": 576,
    "start_time": "2022-04-25T09:19:12.411Z"
   },
   {
    "duration": 0,
    "start_time": "2022-04-25T09:19:12.991Z"
   },
   {
    "duration": 0,
    "start_time": "2022-04-25T09:19:12.993Z"
   },
   {
    "duration": 0,
    "start_time": "2022-04-25T09:19:12.994Z"
   },
   {
    "duration": 0,
    "start_time": "2022-04-25T09:19:12.997Z"
   },
   {
    "duration": 0,
    "start_time": "2022-04-25T09:19:12.999Z"
   },
   {
    "duration": 0,
    "start_time": "2022-04-25T09:19:13.000Z"
   },
   {
    "duration": 0,
    "start_time": "2022-04-25T09:19:13.001Z"
   },
   {
    "duration": 0,
    "start_time": "2022-04-25T09:19:13.002Z"
   },
   {
    "duration": 0,
    "start_time": "2022-04-25T09:19:13.004Z"
   },
   {
    "duration": 0,
    "start_time": "2022-04-25T09:19:13.006Z"
   },
   {
    "duration": 0,
    "start_time": "2022-04-25T09:19:13.008Z"
   },
   {
    "duration": 0,
    "start_time": "2022-04-25T09:19:13.011Z"
   },
   {
    "duration": 0,
    "start_time": "2022-04-25T09:19:13.013Z"
   },
   {
    "duration": 0,
    "start_time": "2022-04-25T09:19:13.017Z"
   },
   {
    "duration": 235,
    "start_time": "2022-04-25T09:20:34.255Z"
   },
   {
    "duration": 1734,
    "start_time": "2022-04-25T09:20:57.983Z"
   },
   {
    "duration": 140,
    "start_time": "2022-04-25T09:20:59.719Z"
   },
   {
    "duration": 32,
    "start_time": "2022-04-25T09:20:59.884Z"
   },
   {
    "duration": 112,
    "start_time": "2022-04-25T09:20:59.920Z"
   },
   {
    "duration": 32,
    "start_time": "2022-04-25T09:21:00.035Z"
   },
   {
    "duration": 39,
    "start_time": "2022-04-25T09:21:00.082Z"
   },
   {
    "duration": 24,
    "start_time": "2022-04-25T09:21:00.124Z"
   },
   {
    "duration": 412,
    "start_time": "2022-04-25T09:21:00.150Z"
   },
   {
    "duration": 32,
    "start_time": "2022-04-25T09:21:00.565Z"
   },
   {
    "duration": 209,
    "start_time": "2022-04-25T09:21:00.603Z"
   },
   {
    "duration": 445,
    "start_time": "2022-04-25T09:21:00.814Z"
   },
   {
    "duration": 62,
    "start_time": "2022-04-25T09:21:01.261Z"
   },
   {
    "duration": 63,
    "start_time": "2022-04-25T09:21:01.325Z"
   },
   {
    "duration": 359,
    "start_time": "2022-04-25T09:21:01.390Z"
   },
   {
    "duration": 466,
    "start_time": "2022-04-25T09:21:01.751Z"
   },
   {
    "duration": 564,
    "start_time": "2022-04-25T09:21:02.219Z"
   },
   {
    "duration": 0,
    "start_time": "2022-04-25T09:21:02.787Z"
   },
   {
    "duration": 0,
    "start_time": "2022-04-25T09:21:02.789Z"
   },
   {
    "duration": 0,
    "start_time": "2022-04-25T09:21:02.791Z"
   },
   {
    "duration": 0,
    "start_time": "2022-04-25T09:21:02.794Z"
   },
   {
    "duration": 0,
    "start_time": "2022-04-25T09:21:02.796Z"
   },
   {
    "duration": 0,
    "start_time": "2022-04-25T09:21:02.798Z"
   },
   {
    "duration": 0,
    "start_time": "2022-04-25T09:21:02.802Z"
   },
   {
    "duration": 0,
    "start_time": "2022-04-25T09:21:02.805Z"
   },
   {
    "duration": 0,
    "start_time": "2022-04-25T09:21:02.806Z"
   },
   {
    "duration": 0,
    "start_time": "2022-04-25T09:21:02.808Z"
   },
   {
    "duration": 0,
    "start_time": "2022-04-25T09:21:02.810Z"
   },
   {
    "duration": 0,
    "start_time": "2022-04-25T09:21:02.812Z"
   },
   {
    "duration": 0,
    "start_time": "2022-04-25T09:21:02.813Z"
   },
   {
    "duration": 0,
    "start_time": "2022-04-25T09:21:02.815Z"
   },
   {
    "duration": 309,
    "start_time": "2022-04-25T09:24:17.664Z"
   },
   {
    "duration": 376,
    "start_time": "2022-04-25T09:24:38.325Z"
   },
   {
    "duration": 545,
    "start_time": "2022-04-25T09:29:11.405Z"
   },
   {
    "duration": 584,
    "start_time": "2022-04-25T09:31:02.490Z"
   },
   {
    "duration": 204,
    "start_time": "2022-04-25T09:31:25.093Z"
   },
   {
    "duration": 188,
    "start_time": "2022-04-25T09:31:36.789Z"
   },
   {
    "duration": 299,
    "start_time": "2022-04-25T09:37:31.971Z"
   },
   {
    "duration": 302,
    "start_time": "2022-04-25T09:38:36.495Z"
   },
   {
    "duration": 8,
    "start_time": "2022-04-25T09:39:20.159Z"
   },
   {
    "duration": 24,
    "start_time": "2022-04-25T09:39:24.105Z"
   },
   {
    "duration": 933,
    "start_time": "2022-04-25T09:39:31.557Z"
   },
   {
    "duration": 388,
    "start_time": "2022-04-25T09:39:37.511Z"
   },
   {
    "duration": 326,
    "start_time": "2022-04-25T09:39:42.755Z"
   },
   {
    "duration": 39,
    "start_time": "2022-04-25T09:39:46.197Z"
   },
   {
    "duration": 301,
    "start_time": "2022-04-25T09:39:50.387Z"
   },
   {
    "duration": 31,
    "start_time": "2022-04-25T09:39:53.120Z"
   },
   {
    "duration": 313,
    "start_time": "2022-04-25T09:39:55.931Z"
   },
   {
    "duration": 19,
    "start_time": "2022-04-25T09:39:58.977Z"
   },
   {
    "duration": 30,
    "start_time": "2022-04-25T09:40:01.963Z"
   },
   {
    "duration": 26,
    "start_time": "2022-04-25T09:40:06.693Z"
   },
   {
    "duration": 549,
    "start_time": "2022-04-25T09:40:19.466Z"
   },
   {
    "duration": 54,
    "start_time": "2022-04-25T09:40:28.276Z"
   },
   {
    "duration": 1857,
    "start_time": "2022-04-25T09:43:10.779Z"
   },
   {
    "duration": 637,
    "start_time": "2022-04-25T09:43:43.114Z"
   },
   {
    "duration": 12,
    "start_time": "2022-04-25T09:55:03.585Z"
   },
   {
    "duration": 582,
    "start_time": "2022-04-25T09:55:07.481Z"
   },
   {
    "duration": 1669,
    "start_time": "2022-04-25T09:56:14.336Z"
   },
   {
    "duration": 19,
    "start_time": "2022-04-25T09:56:46.503Z"
   },
   {
    "duration": 466,
    "start_time": "2022-04-25T09:57:08.091Z"
   },
   {
    "duration": 9,
    "start_time": "2022-04-25T09:59:13.000Z"
   },
   {
    "duration": 556,
    "start_time": "2022-04-25T10:00:08.215Z"
   },
   {
    "duration": 17,
    "start_time": "2022-04-25T10:00:29.948Z"
   },
   {
    "duration": 27,
    "start_time": "2022-04-25T10:01:28.434Z"
   },
   {
    "duration": 43,
    "start_time": "2022-04-25T10:01:32.470Z"
   },
   {
    "duration": 16,
    "start_time": "2022-04-25T10:07:34.107Z"
   },
   {
    "duration": 26,
    "start_time": "2022-04-25T10:09:46.312Z"
   },
   {
    "duration": 21,
    "start_time": "2022-04-25T10:10:50.999Z"
   },
   {
    "duration": 28,
    "start_time": "2022-04-25T10:12:37.418Z"
   },
   {
    "duration": 28,
    "start_time": "2022-04-25T10:14:37.432Z"
   },
   {
    "duration": 28,
    "start_time": "2022-04-25T10:15:31.410Z"
   },
   {
    "duration": 22,
    "start_time": "2022-04-25T10:20:54.971Z"
   },
   {
    "duration": 32,
    "start_time": "2022-04-25T10:21:16.240Z"
   },
   {
    "duration": 33,
    "start_time": "2022-04-25T10:22:31.393Z"
   },
   {
    "duration": 34,
    "start_time": "2022-04-25T10:23:43.535Z"
   },
   {
    "duration": 29,
    "start_time": "2022-04-25T10:24:54.126Z"
   },
   {
    "duration": 27,
    "start_time": "2022-04-25T10:27:41.068Z"
   },
   {
    "duration": 16,
    "start_time": "2022-04-25T10:27:55.958Z"
   },
   {
    "duration": 33,
    "start_time": "2022-04-25T10:28:04.489Z"
   },
   {
    "duration": 16,
    "start_time": "2022-04-25T10:29:14.199Z"
   },
   {
    "duration": 13,
    "start_time": "2022-04-25T10:29:54.131Z"
   },
   {
    "duration": 300,
    "start_time": "2022-04-25T10:30:54.611Z"
   },
   {
    "duration": 299,
    "start_time": "2022-04-25T10:31:15.299Z"
   },
   {
    "duration": 301,
    "start_time": "2022-04-25T10:32:06.149Z"
   },
   {
    "duration": 30,
    "start_time": "2022-04-25T10:33:08.939Z"
   },
   {
    "duration": 15,
    "start_time": "2022-04-25T10:33:20.015Z"
   },
   {
    "duration": 289,
    "start_time": "2022-04-25T10:33:47.600Z"
   },
   {
    "duration": 306,
    "start_time": "2022-04-25T10:34:52.954Z"
   },
   {
    "duration": 26,
    "start_time": "2022-04-25T10:35:31.613Z"
   },
   {
    "duration": 435,
    "start_time": "2022-04-25T10:35:46.477Z"
   },
   {
    "duration": 37,
    "start_time": "2022-04-25T10:38:58.976Z"
   },
   {
    "duration": 36,
    "start_time": "2022-04-25T10:39:18.702Z"
   },
   {
    "duration": 293,
    "start_time": "2022-04-25T10:39:30.111Z"
   },
   {
    "duration": 27,
    "start_time": "2022-04-25T10:42:33.917Z"
   },
   {
    "duration": 24,
    "start_time": "2022-04-25T10:42:36.304Z"
   },
   {
    "duration": 25,
    "start_time": "2022-04-25T10:43:26.915Z"
   },
   {
    "duration": 312,
    "start_time": "2022-04-25T10:43:29.244Z"
   },
   {
    "duration": 72,
    "start_time": "2022-04-25T20:15:48.663Z"
   },
   {
    "duration": 1942,
    "start_time": "2022-04-25T20:15:59.158Z"
   },
   {
    "duration": 150,
    "start_time": "2022-04-25T20:16:01.103Z"
   },
   {
    "duration": 26,
    "start_time": "2022-04-25T20:16:01.256Z"
   },
   {
    "duration": 89,
    "start_time": "2022-04-25T20:16:01.285Z"
   },
   {
    "duration": 29,
    "start_time": "2022-04-25T20:16:01.377Z"
   },
   {
    "duration": 56,
    "start_time": "2022-04-25T20:16:01.408Z"
   },
   {
    "duration": 27,
    "start_time": "2022-04-25T20:16:01.467Z"
   },
   {
    "duration": 568,
    "start_time": "2022-04-25T20:16:01.497Z"
   },
   {
    "duration": 27,
    "start_time": "2022-04-25T20:16:02.068Z"
   },
   {
    "duration": 199,
    "start_time": "2022-04-25T20:16:02.097Z"
   },
   {
    "duration": 424,
    "start_time": "2022-04-25T20:16:02.298Z"
   },
   {
    "duration": 56,
    "start_time": "2022-04-25T20:16:02.724Z"
   },
   {
    "duration": 24,
    "start_time": "2022-04-25T20:16:02.782Z"
   },
   {
    "duration": 370,
    "start_time": "2022-04-25T20:16:02.810Z"
   },
   {
    "duration": 426,
    "start_time": "2022-04-25T20:16:03.183Z"
   },
   {
    "duration": 197,
    "start_time": "2022-04-25T20:16:03.611Z"
   },
   {
    "duration": 295,
    "start_time": "2022-04-25T20:16:03.811Z"
   },
   {
    "duration": 286,
    "start_time": "2022-04-25T20:16:04.108Z"
   },
   {
    "duration": 7,
    "start_time": "2022-04-25T20:16:04.396Z"
   },
   {
    "duration": 51,
    "start_time": "2022-04-25T20:16:04.406Z"
   },
   {
    "duration": 1198,
    "start_time": "2022-04-25T20:16:04.460Z"
   },
   {
    "duration": 563,
    "start_time": "2022-04-25T20:16:05.661Z"
   },
   {
    "duration": 327,
    "start_time": "2022-04-25T20:16:06.226Z"
   },
   {
    "duration": 27,
    "start_time": "2022-04-25T20:16:06.555Z"
   },
   {
    "duration": 237,
    "start_time": "2022-04-25T20:16:06.585Z"
   },
   {
    "duration": 29,
    "start_time": "2022-04-25T20:16:06.824Z"
   },
   {
    "duration": 321,
    "start_time": "2022-04-25T20:16:06.855Z"
   },
   {
    "duration": 20,
    "start_time": "2022-04-25T20:16:07.178Z"
   },
   {
    "duration": 52,
    "start_time": "2022-04-25T20:16:07.200Z"
   },
   {
    "duration": 28,
    "start_time": "2022-04-25T20:16:07.254Z"
   },
   {
    "duration": 341,
    "start_time": "2022-04-25T20:16:07.285Z"
   },
   {
    "duration": 42,
    "start_time": "2022-04-25T20:16:07.630Z"
   },
   {
    "duration": 31,
    "start_time": "2022-04-25T20:16:07.675Z"
   },
   {
    "duration": 51,
    "start_time": "2022-04-25T20:16:07.709Z"
   },
   {
    "duration": 419,
    "start_time": "2022-04-25T20:16:07.763Z"
   },
   {
    "duration": 202,
    "start_time": "2022-04-25T20:37:31.178Z"
   },
   {
    "duration": 24,
    "start_time": "2022-04-25T20:37:43.056Z"
   },
   {
    "duration": 29,
    "start_time": "2022-04-25T20:39:39.404Z"
   },
   {
    "duration": 16,
    "start_time": "2022-04-25T20:40:30.197Z"
   },
   {
    "duration": 314,
    "start_time": "2022-04-25T20:41:20.704Z"
   },
   {
    "duration": 28,
    "start_time": "2022-04-25T20:52:25.459Z"
   },
   {
    "duration": 18,
    "start_time": "2022-04-25T20:53:14.223Z"
   },
   {
    "duration": 27,
    "start_time": "2022-04-25T21:08:00.345Z"
   },
   {
    "duration": 384,
    "start_time": "2022-04-25T21:09:54.686Z"
   },
   {
    "duration": 391,
    "start_time": "2022-04-25T21:10:34.807Z"
   },
   {
    "duration": 1870,
    "start_time": "2022-04-25T21:11:18.633Z"
   },
   {
    "duration": 366,
    "start_time": "2022-04-25T21:11:36.674Z"
   },
   {
    "duration": 18,
    "start_time": "2022-04-25T21:16:08.063Z"
   },
   {
    "duration": 31,
    "start_time": "2022-04-25T21:16:30.763Z"
   },
   {
    "duration": 1776,
    "start_time": "2022-04-25T21:16:46.382Z"
   },
   {
    "duration": 1819,
    "start_time": "2022-04-25T21:17:33.291Z"
   },
   {
    "duration": 251,
    "start_time": "2022-04-25T21:17:51.060Z"
   },
   {
    "duration": 269,
    "start_time": "2022-04-25T21:20:03.357Z"
   },
   {
    "duration": 234,
    "start_time": "2022-04-25T21:20:31.020Z"
   },
   {
    "duration": 6496,
    "start_time": "2022-04-25T21:20:59.221Z"
   },
   {
    "duration": 260,
    "start_time": "2022-04-25T21:21:28.882Z"
   },
   {
    "duration": 23,
    "start_time": "2022-04-25T21:22:02.699Z"
   },
   {
    "duration": 396,
    "start_time": "2022-04-25T21:26:37.859Z"
   },
   {
    "duration": 378,
    "start_time": "2022-04-25T21:29:00.703Z"
   },
   {
    "duration": 246,
    "start_time": "2022-04-25T21:35:06.787Z"
   },
   {
    "duration": 372,
    "start_time": "2022-04-25T21:35:16.248Z"
   },
   {
    "duration": 1748,
    "start_time": "2022-04-25T21:39:38.537Z"
   },
   {
    "duration": 8,
    "start_time": "2022-04-25T21:39:51.136Z"
   },
   {
    "duration": 1184,
    "start_time": "2022-04-25T21:40:48.310Z"
   },
   {
    "duration": 1020,
    "start_time": "2022-04-25T21:42:37.976Z"
   },
   {
    "duration": 1137,
    "start_time": "2022-04-25T21:43:03.184Z"
   },
   {
    "duration": 13,
    "start_time": "2022-04-25T21:46:58.209Z"
   },
   {
    "duration": 261,
    "start_time": "2022-04-25T21:47:08.936Z"
   },
   {
    "duration": 1971,
    "start_time": "2022-04-25T21:47:41.743Z"
   },
   {
    "duration": 20,
    "start_time": "2022-04-25T21:50:29.521Z"
   },
   {
    "duration": 12,
    "start_time": "2022-04-25T21:50:47.636Z"
   },
   {
    "duration": 20,
    "start_time": "2022-04-25T21:54:21.132Z"
   },
   {
    "duration": 1769,
    "start_time": "2022-04-25T21:54:24.232Z"
   },
   {
    "duration": 1610,
    "start_time": "2022-04-25T21:54:38.744Z"
   },
   {
    "duration": 134,
    "start_time": "2022-04-25T21:54:40.357Z"
   },
   {
    "duration": 25,
    "start_time": "2022-04-25T21:54:40.493Z"
   },
   {
    "duration": 94,
    "start_time": "2022-04-25T21:54:40.521Z"
   },
   {
    "duration": 45,
    "start_time": "2022-04-25T21:54:40.618Z"
   },
   {
    "duration": 31,
    "start_time": "2022-04-25T21:54:40.665Z"
   },
   {
    "duration": 24,
    "start_time": "2022-04-25T21:54:40.699Z"
   },
   {
    "duration": 345,
    "start_time": "2022-04-25T21:54:40.751Z"
   },
   {
    "duration": 22,
    "start_time": "2022-04-25T21:54:41.098Z"
   },
   {
    "duration": 192,
    "start_time": "2022-04-25T21:54:41.122Z"
   },
   {
    "duration": 429,
    "start_time": "2022-04-25T21:54:41.317Z"
   },
   {
    "duration": 45,
    "start_time": "2022-04-25T21:54:41.752Z"
   },
   {
    "duration": 23,
    "start_time": "2022-04-25T21:54:41.799Z"
   },
   {
    "duration": 332,
    "start_time": "2022-04-25T21:54:41.854Z"
   },
   {
    "duration": 429,
    "start_time": "2022-04-25T21:54:42.188Z"
   },
   {
    "duration": 190,
    "start_time": "2022-04-25T21:54:42.619Z"
   },
   {
    "duration": 284,
    "start_time": "2022-04-25T21:54:42.811Z"
   },
   {
    "duration": 278,
    "start_time": "2022-04-25T21:54:43.098Z"
   },
   {
    "duration": 7,
    "start_time": "2022-04-25T21:54:43.377Z"
   },
   {
    "duration": 30,
    "start_time": "2022-04-25T21:54:43.386Z"
   },
   {
    "duration": 696,
    "start_time": "2022-04-25T21:54:43.418Z"
   },
   {
    "duration": 449,
    "start_time": "2022-04-25T21:54:44.115Z"
   },
   {
    "duration": 315,
    "start_time": "2022-04-25T21:54:44.566Z"
   },
   {
    "duration": 28,
    "start_time": "2022-04-25T21:54:44.884Z"
   },
   {
    "duration": 343,
    "start_time": "2022-04-25T21:54:44.914Z"
   },
   {
    "duration": 28,
    "start_time": "2022-04-25T21:54:45.259Z"
   },
   {
    "duration": 338,
    "start_time": "2022-04-25T21:54:45.290Z"
   },
   {
    "duration": 32,
    "start_time": "2022-04-25T21:54:45.631Z"
   },
   {
    "duration": 25,
    "start_time": "2022-04-25T21:54:45.665Z"
   },
   {
    "duration": 25,
    "start_time": "2022-04-25T21:54:45.692Z"
   },
   {
    "duration": 333,
    "start_time": "2022-04-25T21:54:45.719Z"
   },
   {
    "duration": 18,
    "start_time": "2022-04-25T21:54:46.054Z"
   },
   {
    "duration": 27,
    "start_time": "2022-04-25T21:54:46.074Z"
   },
   {
    "duration": 49,
    "start_time": "2022-04-25T21:54:46.103Z"
   },
   {
    "duration": 388,
    "start_time": "2022-04-25T21:54:46.154Z"
   },
   {
    "duration": 381,
    "start_time": "2022-04-25T21:54:46.552Z"
   },
   {
    "duration": 30,
    "start_time": "2022-04-25T21:54:46.935Z"
   },
   {
    "duration": 2195,
    "start_time": "2022-04-25T21:54:46.967Z"
   },
   {
    "duration": 0,
    "start_time": "2022-04-25T21:54:49.164Z"
   },
   {
    "duration": 0,
    "start_time": "2022-04-25T21:54:49.167Z"
   },
   {
    "duration": 12,
    "start_time": "2022-04-25T21:56:04.077Z"
   },
   {
    "duration": 24,
    "start_time": "2022-04-25T21:56:09.946Z"
   },
   {
    "duration": 1675,
    "start_time": "2022-04-25T21:56:41.877Z"
   },
   {
    "duration": 136,
    "start_time": "2022-04-25T21:56:43.554Z"
   },
   {
    "duration": 26,
    "start_time": "2022-04-25T21:56:43.692Z"
   },
   {
    "duration": 98,
    "start_time": "2022-04-25T21:56:43.721Z"
   },
   {
    "duration": 54,
    "start_time": "2022-04-25T21:56:43.822Z"
   },
   {
    "duration": 33,
    "start_time": "2022-04-25T21:56:43.879Z"
   },
   {
    "duration": 49,
    "start_time": "2022-04-25T21:56:43.915Z"
   },
   {
    "duration": 351,
    "start_time": "2022-04-25T21:56:43.967Z"
   },
   {
    "duration": 40,
    "start_time": "2022-04-25T21:56:44.321Z"
   },
   {
    "duration": 176,
    "start_time": "2022-04-25T21:56:44.363Z"
   },
   {
    "duration": 427,
    "start_time": "2022-04-25T21:56:44.541Z"
   },
   {
    "duration": 47,
    "start_time": "2022-04-25T21:56:44.970Z"
   },
   {
    "duration": 48,
    "start_time": "2022-04-25T21:56:45.019Z"
   },
   {
    "duration": 368,
    "start_time": "2022-04-25T21:56:45.073Z"
   },
   {
    "duration": 448,
    "start_time": "2022-04-25T21:56:45.451Z"
   },
   {
    "duration": 203,
    "start_time": "2022-04-25T21:56:45.902Z"
   },
   {
    "duration": 294,
    "start_time": "2022-04-25T21:56:46.108Z"
   },
   {
    "duration": 292,
    "start_time": "2022-04-25T21:56:46.404Z"
   },
   {
    "duration": 6,
    "start_time": "2022-04-25T21:56:46.699Z"
   },
   {
    "duration": 25,
    "start_time": "2022-04-25T21:56:46.707Z"
   },
   {
    "duration": 717,
    "start_time": "2022-04-25T21:56:46.752Z"
   },
   {
    "duration": 363,
    "start_time": "2022-04-25T21:56:47.472Z"
   },
   {
    "duration": 321,
    "start_time": "2022-04-25T21:56:47.838Z"
   },
   {
    "duration": 28,
    "start_time": "2022-04-25T21:56:48.162Z"
   },
   {
    "duration": 222,
    "start_time": "2022-04-25T21:56:48.193Z"
   },
   {
    "duration": 29,
    "start_time": "2022-04-25T21:56:48.417Z"
   },
   {
    "duration": 318,
    "start_time": "2022-04-25T21:56:48.448Z"
   },
   {
    "duration": 20,
    "start_time": "2022-04-25T21:56:48.768Z"
   },
   {
    "duration": 28,
    "start_time": "2022-04-25T21:56:48.790Z"
   },
   {
    "duration": 54,
    "start_time": "2022-04-25T21:56:48.820Z"
   },
   {
    "duration": 324,
    "start_time": "2022-04-25T21:56:48.877Z"
   },
   {
    "duration": 28,
    "start_time": "2022-04-25T21:56:49.204Z"
   },
   {
    "duration": 29,
    "start_time": "2022-04-25T21:56:49.251Z"
   },
   {
    "duration": 17,
    "start_time": "2022-04-25T21:56:49.283Z"
   },
   {
    "duration": 423,
    "start_time": "2022-04-25T21:56:49.302Z"
   },
   {
    "duration": 376,
    "start_time": "2022-04-25T21:56:49.727Z"
   },
   {
    "duration": 8,
    "start_time": "2022-04-25T21:56:50.105Z"
   },
   {
    "duration": 1081,
    "start_time": "2022-04-25T21:56:50.115Z"
   },
   {
    "duration": 390,
    "start_time": "2022-04-25T21:59:45.470Z"
   },
   {
    "duration": 440,
    "start_time": "2022-04-25T22:00:07.064Z"
   },
   {
    "duration": 21,
    "start_time": "2022-04-25T22:08:21.549Z"
   },
   {
    "duration": 12,
    "start_time": "2022-04-25T22:09:35.252Z"
   },
   {
    "duration": 23,
    "start_time": "2022-04-25T22:10:51.397Z"
   },
   {
    "duration": 24,
    "start_time": "2022-04-25T22:24:40.626Z"
   },
   {
    "duration": 24,
    "start_time": "2022-04-25T22:26:21.324Z"
   },
   {
    "duration": 17,
    "start_time": "2022-04-25T22:31:33.465Z"
   },
   {
    "duration": 30,
    "start_time": "2022-04-25T22:31:44.315Z"
   },
   {
    "duration": 1631,
    "start_time": "2022-04-25T22:35:25.498Z"
   },
   {
    "duration": 25,
    "start_time": "2022-04-25T22:35:46.306Z"
   },
   {
    "duration": 1732,
    "start_time": "2022-04-25T22:37:34.097Z"
   },
   {
    "duration": 168,
    "start_time": "2022-04-25T22:37:35.832Z"
   },
   {
    "duration": 51,
    "start_time": "2022-04-25T22:37:36.002Z"
   },
   {
    "duration": 96,
    "start_time": "2022-04-25T22:37:36.056Z"
   },
   {
    "duration": 42,
    "start_time": "2022-04-25T22:37:36.157Z"
   },
   {
    "duration": 57,
    "start_time": "2022-04-25T22:37:36.202Z"
   },
   {
    "duration": 34,
    "start_time": "2022-04-25T22:37:36.262Z"
   },
   {
    "duration": 421,
    "start_time": "2022-04-25T22:37:36.299Z"
   },
   {
    "duration": 36,
    "start_time": "2022-04-25T22:37:36.722Z"
   },
   {
    "duration": 187,
    "start_time": "2022-04-25T22:37:36.761Z"
   },
   {
    "duration": 426,
    "start_time": "2022-04-25T22:37:36.950Z"
   },
   {
    "duration": 46,
    "start_time": "2022-04-25T22:37:37.378Z"
   },
   {
    "duration": 47,
    "start_time": "2022-04-25T22:37:37.426Z"
   },
   {
    "duration": 370,
    "start_time": "2022-04-25T22:37:37.477Z"
   },
   {
    "duration": 430,
    "start_time": "2022-04-25T22:37:37.852Z"
   },
   {
    "duration": 201,
    "start_time": "2022-04-25T22:37:38.284Z"
   },
   {
    "duration": 305,
    "start_time": "2022-04-25T22:37:38.489Z"
   },
   {
    "duration": 284,
    "start_time": "2022-04-25T22:37:38.797Z"
   },
   {
    "duration": 8,
    "start_time": "2022-04-25T22:37:39.084Z"
   },
   {
    "duration": 28,
    "start_time": "2022-04-25T22:37:39.094Z"
   },
   {
    "duration": 746,
    "start_time": "2022-04-25T22:37:39.125Z"
   },
   {
    "duration": 454,
    "start_time": "2022-04-25T22:37:39.874Z"
   },
   {
    "duration": 433,
    "start_time": "2022-04-25T22:37:40.331Z"
   },
   {
    "duration": 36,
    "start_time": "2022-04-25T22:37:40.766Z"
   },
   {
    "duration": 238,
    "start_time": "2022-04-25T22:37:40.804Z"
   },
   {
    "duration": 30,
    "start_time": "2022-04-25T22:37:41.043Z"
   },
   {
    "duration": 334,
    "start_time": "2022-04-25T22:37:41.075Z"
   },
   {
    "duration": 20,
    "start_time": "2022-04-25T22:37:41.412Z"
   },
   {
    "duration": 40,
    "start_time": "2022-04-25T22:37:41.434Z"
   },
   {
    "duration": 24,
    "start_time": "2022-04-25T22:37:41.476Z"
   },
   {
    "duration": 357,
    "start_time": "2022-04-25T22:37:41.502Z"
   },
   {
    "duration": 18,
    "start_time": "2022-04-25T22:37:41.861Z"
   },
   {
    "duration": 26,
    "start_time": "2022-04-25T22:37:41.881Z"
   },
   {
    "duration": 44,
    "start_time": "2022-04-25T22:37:41.909Z"
   },
   {
    "duration": 404,
    "start_time": "2022-04-25T22:37:41.956Z"
   },
   {
    "duration": 393,
    "start_time": "2022-04-25T22:37:42.362Z"
   },
   {
    "duration": 8,
    "start_time": "2022-04-25T22:37:42.757Z"
   },
   {
    "duration": 451,
    "start_time": "2022-04-25T22:37:42.767Z"
   },
   {
    "duration": 33,
    "start_time": "2022-04-25T22:37:43.220Z"
   },
   {
    "duration": 25,
    "start_time": "2022-04-25T22:37:43.256Z"
   },
   {
    "duration": 24,
    "start_time": "2022-04-25T22:37:43.286Z"
   },
   {
    "duration": 48,
    "start_time": "2022-04-26T12:44:55.641Z"
   },
   {
    "duration": 1570,
    "start_time": "2022-04-26T12:45:15.377Z"
   },
   {
    "duration": 120,
    "start_time": "2022-04-26T12:45:16.949Z"
   },
   {
    "duration": 19,
    "start_time": "2022-04-26T12:45:17.070Z"
   },
   {
    "duration": 80,
    "start_time": "2022-04-26T12:45:17.091Z"
   },
   {
    "duration": 23,
    "start_time": "2022-04-26T12:45:17.172Z"
   },
   {
    "duration": 39,
    "start_time": "2022-04-26T12:45:17.197Z"
   },
   {
    "duration": 24,
    "start_time": "2022-04-26T12:45:17.238Z"
   },
   {
    "duration": 18,
    "start_time": "2022-04-26T12:45:17.263Z"
   },
   {
    "duration": 259,
    "start_time": "2022-04-26T12:45:17.283Z"
   },
   {
    "duration": 16,
    "start_time": "2022-04-26T12:45:17.544Z"
   },
   {
    "duration": 116,
    "start_time": "2022-04-26T12:45:17.562Z"
   },
   {
    "duration": 257,
    "start_time": "2022-04-26T12:45:17.680Z"
   },
   {
    "duration": 30,
    "start_time": "2022-04-26T12:45:17.939Z"
   },
   {
    "duration": 17,
    "start_time": "2022-04-26T12:45:17.971Z"
   },
   {
    "duration": 243,
    "start_time": "2022-04-26T12:45:17.990Z"
   },
   {
    "duration": 480,
    "start_time": "2022-04-26T12:45:18.236Z"
   },
   {
    "duration": 191,
    "start_time": "2022-04-26T12:45:18.723Z"
   },
   {
    "duration": 292,
    "start_time": "2022-04-26T12:45:18.917Z"
   },
   {
    "duration": 270,
    "start_time": "2022-04-26T12:45:19.212Z"
   },
   {
    "duration": 8,
    "start_time": "2022-04-26T12:45:19.485Z"
   },
   {
    "duration": 32,
    "start_time": "2022-04-26T12:45:19.495Z"
   },
   {
    "duration": 444,
    "start_time": "2022-04-26T12:45:19.529Z"
   },
   {
    "duration": 238,
    "start_time": "2022-04-26T12:45:19.976Z"
   },
   {
    "duration": 224,
    "start_time": "2022-04-26T12:45:20.223Z"
   },
   {
    "duration": 19,
    "start_time": "2022-04-26T12:45:20.449Z"
   },
   {
    "duration": 231,
    "start_time": "2022-04-26T12:45:20.471Z"
   },
   {
    "duration": 25,
    "start_time": "2022-04-26T12:45:20.704Z"
   },
   {
    "duration": 204,
    "start_time": "2022-04-26T12:45:20.732Z"
   },
   {
    "duration": 16,
    "start_time": "2022-04-26T12:45:20.938Z"
   },
   {
    "duration": 29,
    "start_time": "2022-04-26T12:45:20.956Z"
   },
   {
    "duration": 47,
    "start_time": "2022-04-26T12:45:20.987Z"
   },
   {
    "duration": 201,
    "start_time": "2022-04-26T12:45:21.036Z"
   },
   {
    "duration": 15,
    "start_time": "2022-04-26T12:45:21.238Z"
   },
   {
    "duration": 18,
    "start_time": "2022-04-26T12:45:21.255Z"
   },
   {
    "duration": 10,
    "start_time": "2022-04-26T12:45:21.275Z"
   },
   {
    "duration": 308,
    "start_time": "2022-04-26T12:45:21.287Z"
   },
   {
    "duration": 231,
    "start_time": "2022-04-26T12:45:21.597Z"
   },
   {
    "duration": 6,
    "start_time": "2022-04-26T12:45:21.830Z"
   },
   {
    "duration": 281,
    "start_time": "2022-04-26T12:45:21.838Z"
   },
   {
    "duration": 16,
    "start_time": "2022-04-26T12:45:22.121Z"
   },
   {
    "duration": 17,
    "start_time": "2022-04-26T12:45:22.139Z"
   },
   {
    "duration": 21,
    "start_time": "2022-04-26T12:45:22.157Z"
   },
   {
    "duration": 205,
    "start_time": "2022-04-26T12:45:22.181Z"
   },
   {
    "duration": 31,
    "start_time": "2022-04-26T12:51:16.539Z"
   },
   {
    "duration": 30,
    "start_time": "2022-04-26T12:51:25.426Z"
   },
   {
    "duration": 14,
    "start_time": "2022-04-26T12:51:42.761Z"
   },
   {
    "duration": 209,
    "start_time": "2022-04-26T13:03:49.859Z"
   },
   {
    "duration": 115,
    "start_time": "2022-04-26T13:04:41.499Z"
   },
   {
    "duration": 196,
    "start_time": "2022-04-26T13:05:03.275Z"
   },
   {
    "duration": 206,
    "start_time": "2022-04-26T13:05:17.311Z"
   },
   {
    "duration": 301,
    "start_time": "2022-04-26T13:06:33.623Z"
   },
   {
    "duration": 206,
    "start_time": "2022-04-26T13:07:48.426Z"
   },
   {
    "duration": 229,
    "start_time": "2022-04-26T13:08:08.767Z"
   },
   {
    "duration": 180,
    "start_time": "2022-04-26T13:09:37.834Z"
   },
   {
    "duration": 195,
    "start_time": "2022-04-26T13:10:11.125Z"
   },
   {
    "duration": 180,
    "start_time": "2022-04-26T13:10:52.684Z"
   },
   {
    "duration": 201,
    "start_time": "2022-04-26T13:11:18.983Z"
   },
   {
    "duration": 15,
    "start_time": "2022-04-26T13:11:52.798Z"
   },
   {
    "duration": 178,
    "start_time": "2022-04-26T13:12:30.801Z"
   },
   {
    "duration": 196,
    "start_time": "2022-04-26T13:15:19.692Z"
   },
   {
    "duration": 326,
    "start_time": "2022-04-26T13:15:31.797Z"
   },
   {
    "duration": 189,
    "start_time": "2022-04-26T13:15:41.869Z"
   },
   {
    "duration": 181,
    "start_time": "2022-04-26T13:17:24.102Z"
   },
   {
    "duration": 193,
    "start_time": "2022-04-26T13:18:07.543Z"
   },
   {
    "duration": 146,
    "start_time": "2022-04-26T13:18:49.276Z"
   },
   {
    "duration": 180,
    "start_time": "2022-04-26T13:18:57.135Z"
   },
   {
    "duration": 181,
    "start_time": "2022-04-26T13:19:28.111Z"
   },
   {
    "duration": 186,
    "start_time": "2022-04-26T13:20:03.497Z"
   },
   {
    "duration": 197,
    "start_time": "2022-04-26T13:22:05.424Z"
   },
   {
    "duration": 172,
    "start_time": "2022-04-26T13:22:10.677Z"
   },
   {
    "duration": 214,
    "start_time": "2022-04-26T13:22:18.522Z"
   },
   {
    "duration": 214,
    "start_time": "2022-04-26T13:23:03.518Z"
   },
   {
    "duration": 185,
    "start_time": "2022-04-26T13:23:56.055Z"
   },
   {
    "duration": 258,
    "start_time": "2022-04-26T13:24:53.393Z"
   },
   {
    "duration": 189,
    "start_time": "2022-04-26T13:25:20.141Z"
   },
   {
    "duration": 143,
    "start_time": "2022-04-26T13:28:36.048Z"
   },
   {
    "duration": 17,
    "start_time": "2022-04-26T13:41:22.113Z"
   },
   {
    "duration": 18,
    "start_time": "2022-04-26T13:43:58.272Z"
   },
   {
    "duration": 22,
    "start_time": "2022-04-26T13:47:00.435Z"
   },
   {
    "duration": 22,
    "start_time": "2022-04-26T13:47:23.399Z"
   },
   {
    "duration": 29,
    "start_time": "2022-04-26T13:47:36.656Z"
   },
   {
    "duration": 30,
    "start_time": "2022-04-26T13:48:12.979Z"
   },
   {
    "duration": 1360,
    "start_time": "2022-04-26T13:48:23.081Z"
   },
   {
    "duration": 106,
    "start_time": "2022-04-26T13:48:24.443Z"
   },
   {
    "duration": 20,
    "start_time": "2022-04-26T13:48:24.551Z"
   },
   {
    "duration": 82,
    "start_time": "2022-04-26T13:48:24.574Z"
   },
   {
    "duration": 20,
    "start_time": "2022-04-26T13:48:24.659Z"
   },
   {
    "duration": 16,
    "start_time": "2022-04-26T13:48:24.681Z"
   },
   {
    "duration": 29,
    "start_time": "2022-04-26T13:48:24.722Z"
   },
   {
    "duration": 14,
    "start_time": "2022-04-26T13:48:24.752Z"
   },
   {
    "duration": 21,
    "start_time": "2022-04-26T13:48:24.767Z"
   },
   {
    "duration": 46,
    "start_time": "2022-04-26T13:48:24.790Z"
   },
   {
    "duration": 210,
    "start_time": "2022-04-26T13:48:24.838Z"
   },
   {
    "duration": 18,
    "start_time": "2022-04-26T13:48:25.050Z"
   },
   {
    "duration": 109,
    "start_time": "2022-04-26T13:48:25.070Z"
   },
   {
    "duration": 247,
    "start_time": "2022-04-26T13:48:25.182Z"
   },
   {
    "duration": 33,
    "start_time": "2022-04-26T13:48:25.431Z"
   },
   {
    "duration": 20,
    "start_time": "2022-04-26T13:48:25.466Z"
   },
   {
    "duration": 363,
    "start_time": "2022-04-26T13:48:25.487Z"
   },
   {
    "duration": 439,
    "start_time": "2022-04-26T13:48:25.852Z"
   },
   {
    "duration": 135,
    "start_time": "2022-04-26T13:48:26.294Z"
   },
   {
    "duration": 0,
    "start_time": "2022-04-26T13:48:26.431Z"
   },
   {
    "duration": 0,
    "start_time": "2022-04-26T13:48:26.433Z"
   },
   {
    "duration": 0,
    "start_time": "2022-04-26T13:48:26.434Z"
   },
   {
    "duration": 0,
    "start_time": "2022-04-26T13:48:26.435Z"
   },
   {
    "duration": 0,
    "start_time": "2022-04-26T13:48:26.436Z"
   },
   {
    "duration": 0,
    "start_time": "2022-04-26T13:48:26.437Z"
   },
   {
    "duration": 0,
    "start_time": "2022-04-26T13:48:26.438Z"
   },
   {
    "duration": 0,
    "start_time": "2022-04-26T13:48:26.438Z"
   },
   {
    "duration": 0,
    "start_time": "2022-04-26T13:48:26.439Z"
   },
   {
    "duration": 0,
    "start_time": "2022-04-26T13:48:26.440Z"
   },
   {
    "duration": 0,
    "start_time": "2022-04-26T13:48:26.441Z"
   },
   {
    "duration": 0,
    "start_time": "2022-04-26T13:48:26.442Z"
   },
   {
    "duration": 0,
    "start_time": "2022-04-26T13:48:26.443Z"
   },
   {
    "duration": 0,
    "start_time": "2022-04-26T13:48:26.444Z"
   },
   {
    "duration": 0,
    "start_time": "2022-04-26T13:48:26.445Z"
   },
   {
    "duration": 0,
    "start_time": "2022-04-26T13:48:26.446Z"
   },
   {
    "duration": 0,
    "start_time": "2022-04-26T13:48:26.447Z"
   },
   {
    "duration": 0,
    "start_time": "2022-04-26T13:48:26.447Z"
   },
   {
    "duration": 0,
    "start_time": "2022-04-26T13:48:26.448Z"
   },
   {
    "duration": 0,
    "start_time": "2022-04-26T13:48:26.449Z"
   },
   {
    "duration": 0,
    "start_time": "2022-04-26T13:48:26.450Z"
   },
   {
    "duration": 0,
    "start_time": "2022-04-26T13:48:26.450Z"
   },
   {
    "duration": 0,
    "start_time": "2022-04-26T13:48:26.451Z"
   },
   {
    "duration": 0,
    "start_time": "2022-04-26T13:48:26.452Z"
   },
   {
    "duration": 0,
    "start_time": "2022-04-26T13:48:26.453Z"
   },
   {
    "duration": 0,
    "start_time": "2022-04-26T13:48:26.454Z"
   },
   {
    "duration": 129,
    "start_time": "2022-04-26T13:49:05.819Z"
   },
   {
    "duration": 202,
    "start_time": "2022-04-26T13:49:14.169Z"
   },
   {
    "duration": 223,
    "start_time": "2022-04-26T13:49:18.780Z"
   },
   {
    "duration": 6,
    "start_time": "2022-04-26T13:49:27.937Z"
   },
   {
    "duration": 15,
    "start_time": "2022-04-26T13:49:30.673Z"
   },
   {
    "duration": 438,
    "start_time": "2022-04-26T13:50:33.369Z"
   },
   {
    "duration": 453,
    "start_time": "2022-04-26T13:50:56.529Z"
   },
   {
    "duration": 199,
    "start_time": "2022-04-26T13:51:39.276Z"
   },
   {
    "duration": 212,
    "start_time": "2022-04-26T13:52:28.844Z"
   },
   {
    "duration": 18,
    "start_time": "2022-04-26T13:52:35.909Z"
   },
   {
    "duration": 271,
    "start_time": "2022-04-26T13:52:59.767Z"
   },
   {
    "duration": 21,
    "start_time": "2022-04-26T13:53:07.050Z"
   },
   {
    "duration": 280,
    "start_time": "2022-04-26T13:53:19.350Z"
   },
   {
    "duration": 14,
    "start_time": "2022-04-26T13:53:28.898Z"
   },
   {
    "duration": 19,
    "start_time": "2022-04-26T13:56:02.418Z"
   },
   {
    "duration": 14,
    "start_time": "2022-04-26T13:56:25.412Z"
   },
   {
    "duration": 1386,
    "start_time": "2022-04-26T13:57:39.323Z"
   },
   {
    "duration": 114,
    "start_time": "2022-04-26T13:57:40.711Z"
   },
   {
    "duration": 30,
    "start_time": "2022-04-26T13:57:40.827Z"
   },
   {
    "duration": 95,
    "start_time": "2022-04-26T13:57:40.860Z"
   },
   {
    "duration": 36,
    "start_time": "2022-04-26T13:57:40.957Z"
   },
   {
    "duration": 49,
    "start_time": "2022-04-26T13:57:40.995Z"
   },
   {
    "duration": 50,
    "start_time": "2022-04-26T13:57:41.047Z"
   },
   {
    "duration": 35,
    "start_time": "2022-04-26T13:57:41.099Z"
   },
   {
    "duration": 25,
    "start_time": "2022-04-26T13:57:41.136Z"
   },
   {
    "duration": 18,
    "start_time": "2022-04-26T13:57:41.165Z"
   },
   {
    "duration": 258,
    "start_time": "2022-04-26T13:57:41.185Z"
   },
   {
    "duration": 18,
    "start_time": "2022-04-26T13:57:41.445Z"
   },
   {
    "duration": 120,
    "start_time": "2022-04-26T13:57:41.465Z"
   },
   {
    "duration": 276,
    "start_time": "2022-04-26T13:57:41.587Z"
   },
   {
    "duration": 33,
    "start_time": "2022-04-26T13:57:41.865Z"
   },
   {
    "duration": 43,
    "start_time": "2022-04-26T13:57:41.900Z"
   },
   {
    "duration": 245,
    "start_time": "2022-04-26T13:57:41.946Z"
   },
   {
    "duration": 322,
    "start_time": "2022-04-26T13:57:42.193Z"
   },
   {
    "duration": 132,
    "start_time": "2022-04-26T13:57:42.516Z"
   },
   {
    "duration": 198,
    "start_time": "2022-04-26T13:57:42.650Z"
   },
   {
    "duration": 191,
    "start_time": "2022-04-26T13:57:42.850Z"
   },
   {
    "duration": 6,
    "start_time": "2022-04-26T13:57:43.042Z"
   },
   {
    "duration": 14,
    "start_time": "2022-04-26T13:57:43.050Z"
   },
   {
    "duration": 507,
    "start_time": "2022-04-26T13:57:43.066Z"
   },
   {
    "duration": 237,
    "start_time": "2022-04-26T13:57:43.575Z"
   },
   {
    "duration": 241,
    "start_time": "2022-04-26T13:57:43.813Z"
   },
   {
    "duration": 17,
    "start_time": "2022-04-26T13:57:44.055Z"
   },
   {
    "duration": 274,
    "start_time": "2022-04-26T13:57:44.075Z"
   },
   {
    "duration": 21,
    "start_time": "2022-04-26T13:57:44.351Z"
   },
   {
    "duration": 206,
    "start_time": "2022-04-26T13:57:44.374Z"
   },
   {
    "duration": 13,
    "start_time": "2022-04-26T13:57:44.582Z"
   },
   {
    "duration": 43,
    "start_time": "2022-04-26T13:57:44.597Z"
   },
   {
    "duration": 129,
    "start_time": "2022-04-26T13:57:44.642Z"
   },
   {
    "duration": 0,
    "start_time": "2022-04-26T13:57:44.773Z"
   },
   {
    "duration": 0,
    "start_time": "2022-04-26T13:57:44.775Z"
   },
   {
    "duration": 0,
    "start_time": "2022-04-26T13:57:44.776Z"
   },
   {
    "duration": 0,
    "start_time": "2022-04-26T13:57:44.778Z"
   },
   {
    "duration": 0,
    "start_time": "2022-04-26T13:57:44.779Z"
   },
   {
    "duration": 0,
    "start_time": "2022-04-26T13:57:44.780Z"
   },
   {
    "duration": 0,
    "start_time": "2022-04-26T13:57:44.782Z"
   },
   {
    "duration": 0,
    "start_time": "2022-04-26T13:57:44.783Z"
   },
   {
    "duration": 0,
    "start_time": "2022-04-26T13:57:44.784Z"
   },
   {
    "duration": 0,
    "start_time": "2022-04-26T13:57:44.786Z"
   },
   {
    "duration": 0,
    "start_time": "2022-04-26T13:57:44.787Z"
   },
   {
    "duration": 0,
    "start_time": "2022-04-26T13:57:44.789Z"
   },
   {
    "duration": 3113,
    "start_time": "2022-04-26T13:58:44.954Z"
   },
   {
    "duration": 18,
    "start_time": "2022-04-26T14:00:57.455Z"
   },
   {
    "duration": 18,
    "start_time": "2022-04-26T14:01:26.561Z"
   },
   {
    "duration": 198,
    "start_time": "2022-04-26T14:01:43.825Z"
   },
   {
    "duration": 16,
    "start_time": "2022-04-26T14:03:03.591Z"
   },
   {
    "duration": 15,
    "start_time": "2022-04-26T14:05:14.438Z"
   },
   {
    "duration": 15,
    "start_time": "2022-04-26T14:05:34.152Z"
   },
   {
    "duration": 15,
    "start_time": "2022-04-26T14:05:47.143Z"
   },
   {
    "duration": 18,
    "start_time": "2022-04-26T14:06:31.457Z"
   },
   {
    "duration": 11,
    "start_time": "2022-04-26T14:06:59.388Z"
   },
   {
    "duration": 280,
    "start_time": "2022-04-26T14:07:04.100Z"
   },
   {
    "duration": 222,
    "start_time": "2022-04-26T14:07:20.350Z"
   },
   {
    "duration": 6,
    "start_time": "2022-04-26T14:07:39.955Z"
   },
   {
    "duration": 277,
    "start_time": "2022-04-26T14:07:45.390Z"
   },
   {
    "duration": 15,
    "start_time": "2022-04-26T14:07:49.968Z"
   },
   {
    "duration": 14,
    "start_time": "2022-04-26T14:07:55.139Z"
   },
   {
    "duration": 27,
    "start_time": "2022-04-26T14:08:04.878Z"
   },
   {
    "duration": 1415,
    "start_time": "2022-04-26T14:08:34.496Z"
   },
   {
    "duration": 113,
    "start_time": "2022-04-26T14:08:35.913Z"
   },
   {
    "duration": 22,
    "start_time": "2022-04-26T14:08:36.028Z"
   },
   {
    "duration": 70,
    "start_time": "2022-04-26T14:08:36.052Z"
   },
   {
    "duration": 32,
    "start_time": "2022-04-26T14:08:36.125Z"
   },
   {
    "duration": 19,
    "start_time": "2022-04-26T14:08:36.159Z"
   },
   {
    "duration": 63,
    "start_time": "2022-04-26T14:08:36.180Z"
   },
   {
    "duration": 14,
    "start_time": "2022-04-26T14:08:36.246Z"
   },
   {
    "duration": 23,
    "start_time": "2022-04-26T14:08:36.262Z"
   },
   {
    "duration": 42,
    "start_time": "2022-04-26T14:08:36.287Z"
   },
   {
    "duration": 216,
    "start_time": "2022-04-26T14:08:36.331Z"
   },
   {
    "duration": 16,
    "start_time": "2022-04-26T14:08:36.549Z"
   },
   {
    "duration": 117,
    "start_time": "2022-04-26T14:08:36.566Z"
   },
   {
    "duration": 262,
    "start_time": "2022-04-26T14:08:36.686Z"
   },
   {
    "duration": 31,
    "start_time": "2022-04-26T14:08:36.950Z"
   },
   {
    "duration": 15,
    "start_time": "2022-04-26T14:08:36.983Z"
   },
   {
    "duration": 231,
    "start_time": "2022-04-26T14:08:37.030Z"
   },
   {
    "duration": 316,
    "start_time": "2022-04-26T14:08:37.263Z"
   },
   {
    "duration": 121,
    "start_time": "2022-04-26T14:08:37.581Z"
   },
   {
    "duration": 182,
    "start_time": "2022-04-26T14:08:37.703Z"
   },
   {
    "duration": 189,
    "start_time": "2022-04-26T14:08:37.887Z"
   },
   {
    "duration": 6,
    "start_time": "2022-04-26T14:08:38.077Z"
   },
   {
    "duration": 14,
    "start_time": "2022-04-26T14:08:38.085Z"
   },
   {
    "duration": 478,
    "start_time": "2022-04-26T14:08:38.100Z"
   },
   {
    "duration": 225,
    "start_time": "2022-04-26T14:08:38.580Z"
   },
   {
    "duration": 235,
    "start_time": "2022-04-26T14:08:38.806Z"
   },
   {
    "duration": 20,
    "start_time": "2022-04-26T14:08:39.043Z"
   },
   {
    "duration": 208,
    "start_time": "2022-04-26T14:08:39.065Z"
   },
   {
    "duration": 23,
    "start_time": "2022-04-26T14:08:39.274Z"
   },
   {
    "duration": 223,
    "start_time": "2022-04-26T14:08:39.299Z"
   },
   {
    "duration": 22,
    "start_time": "2022-04-26T14:08:39.525Z"
   },
   {
    "duration": 22,
    "start_time": "2022-04-26T14:08:39.549Z"
   },
   {
    "duration": 18,
    "start_time": "2022-04-26T14:08:39.573Z"
   },
   {
    "duration": 210,
    "start_time": "2022-04-26T14:08:39.593Z"
   },
   {
    "duration": 28,
    "start_time": "2022-04-26T14:08:39.805Z"
   },
   {
    "duration": 25,
    "start_time": "2022-04-26T14:08:39.835Z"
   },
   {
    "duration": 12,
    "start_time": "2022-04-26T14:08:39.862Z"
   },
   {
    "duration": 314,
    "start_time": "2022-04-26T14:08:39.876Z"
   },
   {
    "duration": 242,
    "start_time": "2022-04-26T14:08:40.192Z"
   },
   {
    "duration": 9,
    "start_time": "2022-04-26T14:08:40.436Z"
   },
   {
    "duration": 291,
    "start_time": "2022-04-26T14:08:40.450Z"
   },
   {
    "duration": 18,
    "start_time": "2022-04-26T14:08:40.743Z"
   },
   {
    "duration": 16,
    "start_time": "2022-04-26T14:08:40.764Z"
   },
   {
    "duration": 47,
    "start_time": "2022-04-26T14:08:40.782Z"
   },
   {
    "duration": 191,
    "start_time": "2022-04-26T14:08:40.831Z"
   },
   {
    "duration": 164,
    "start_time": "2022-04-26T14:15:42.895Z"
   },
   {
    "duration": 65,
    "start_time": "2022-04-26T14:15:51.483Z"
   },
   {
    "duration": 92,
    "start_time": "2022-04-26T14:15:59.434Z"
   },
   {
    "duration": 108,
    "start_time": "2022-04-26T14:18:06.451Z"
   },
   {
    "duration": 80,
    "start_time": "2022-04-26T14:18:20.836Z"
   },
   {
    "duration": 88,
    "start_time": "2022-04-26T14:18:40.582Z"
   },
   {
    "duration": 122,
    "start_time": "2022-04-26T14:20:00.971Z"
   },
   {
    "duration": 116,
    "start_time": "2022-04-26T14:26:15.042Z"
   },
   {
    "duration": 101,
    "start_time": "2022-04-26T14:26:36.766Z"
   },
   {
    "duration": 112,
    "start_time": "2022-04-26T14:27:12.777Z"
   },
   {
    "duration": 1330,
    "start_time": "2022-04-26T15:17:44.800Z"
   },
   {
    "duration": 108,
    "start_time": "2022-04-26T15:17:46.132Z"
   },
   {
    "duration": 17,
    "start_time": "2022-04-26T15:17:46.241Z"
   },
   {
    "duration": 69,
    "start_time": "2022-04-26T15:17:46.260Z"
   },
   {
    "duration": 21,
    "start_time": "2022-04-26T15:17:46.331Z"
   },
   {
    "duration": 16,
    "start_time": "2022-04-26T15:17:46.353Z"
   },
   {
    "duration": 27,
    "start_time": "2022-04-26T15:17:46.370Z"
   },
   {
    "duration": 41,
    "start_time": "2022-04-26T15:17:46.399Z"
   },
   {
    "duration": 16,
    "start_time": "2022-04-26T15:17:46.442Z"
   },
   {
    "duration": 212,
    "start_time": "2022-04-26T15:17:46.460Z"
   },
   {
    "duration": 16,
    "start_time": "2022-04-26T15:17:46.674Z"
   },
   {
    "duration": 104,
    "start_time": "2022-04-26T15:17:46.692Z"
   },
   {
    "duration": 228,
    "start_time": "2022-04-26T15:17:46.798Z"
   },
   {
    "duration": 28,
    "start_time": "2022-04-26T15:17:47.027Z"
   },
   {
    "duration": 14,
    "start_time": "2022-04-26T15:17:47.056Z"
   },
   {
    "duration": 224,
    "start_time": "2022-04-26T15:17:47.072Z"
   },
   {
    "duration": 283,
    "start_time": "2022-04-26T15:17:47.298Z"
   },
   {
    "duration": 111,
    "start_time": "2022-04-26T15:17:47.582Z"
   },
   {
    "duration": 160,
    "start_time": "2022-04-26T15:17:47.695Z"
   },
   {
    "duration": 155,
    "start_time": "2022-04-26T15:17:47.857Z"
   },
   {
    "duration": 5,
    "start_time": "2022-04-26T15:17:48.021Z"
   },
   {
    "duration": 14,
    "start_time": "2022-04-26T15:17:48.028Z"
   },
   {
    "duration": 424,
    "start_time": "2022-04-26T15:17:48.044Z"
   },
   {
    "duration": 207,
    "start_time": "2022-04-26T15:17:48.470Z"
   },
   {
    "duration": 220,
    "start_time": "2022-04-26T15:17:48.678Z"
   },
   {
    "duration": 25,
    "start_time": "2022-04-26T15:17:48.900Z"
   },
   {
    "duration": 255,
    "start_time": "2022-04-26T15:17:48.926Z"
   },
   {
    "duration": 20,
    "start_time": "2022-04-26T15:17:49.184Z"
   },
   {
    "duration": 181,
    "start_time": "2022-04-26T15:17:49.205Z"
   },
   {
    "duration": 14,
    "start_time": "2022-04-26T15:17:49.388Z"
   },
   {
    "duration": 28,
    "start_time": "2022-04-26T15:17:49.404Z"
   },
   {
    "duration": 18,
    "start_time": "2022-04-26T15:17:49.434Z"
   },
   {
    "duration": 189,
    "start_time": "2022-04-26T15:17:49.453Z"
   },
   {
    "duration": 14,
    "start_time": "2022-04-26T15:17:49.644Z"
   },
   {
    "duration": 17,
    "start_time": "2022-04-26T15:17:49.660Z"
   },
   {
    "duration": 11,
    "start_time": "2022-04-26T15:17:49.678Z"
   },
   {
    "duration": 297,
    "start_time": "2022-04-26T15:17:49.690Z"
   },
   {
    "duration": 215,
    "start_time": "2022-04-26T15:17:49.989Z"
   },
   {
    "duration": 5,
    "start_time": "2022-04-26T15:17:50.206Z"
   },
   {
    "duration": 259,
    "start_time": "2022-04-26T15:17:50.213Z"
   },
   {
    "duration": 15,
    "start_time": "2022-04-26T15:17:50.474Z"
   },
   {
    "duration": 34,
    "start_time": "2022-04-26T15:17:50.490Z"
   },
   {
    "duration": 19,
    "start_time": "2022-04-26T15:17:50.526Z"
   }
  ],
  "kernelspec": {
   "display_name": "Python 3 (ipykernel)",
   "language": "python",
   "name": "python3"
  },
  "language_info": {
   "codemirror_mode": {
    "name": "ipython",
    "version": 3
   },
   "file_extension": ".py",
   "mimetype": "text/x-python",
   "name": "python",
   "nbconvert_exporter": "python",
   "pygments_lexer": "ipython3",
   "version": "3.9.12"
  },
  "toc": {
   "base_numbering": 1,
   "nav_menu": {},
   "number_sections": true,
   "sideBar": true,
   "skip_h1_title": true,
   "title_cell": "Table of Contents",
   "title_sidebar": "Contents",
   "toc_cell": false,
   "toc_position": {
    "height": "calc(100% - 180px)",
    "left": "10px",
    "top": "150px",
    "width": "323.9px"
   },
   "toc_section_display": true,
   "toc_window_display": true
  }
 },
 "nbformat": 4,
 "nbformat_minor": 2
}
