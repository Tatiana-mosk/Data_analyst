{
 "cells": [
  {
   "cell_type": "markdown",
   "metadata": {},
   "source": [
    "#  Принятие решений в бизнесе. Приоритизация гипотез. Запуск и оценка результатов А/B-теста."
   ]
  },
  {
   "cell_type": "markdown",
   "metadata": {},
   "source": [
    "# Задача проекта: \n",
    "\n",
    "Приоритизация гипотез для увеличения выручки крупного интернет-магазина, запуск A/B-теста и его анализ."
   ]
  },
  {
   "cell_type": "markdown",
   "metadata": {},
   "source": [
    "# План работы.\n",
    "\n",
    "1. Изучение данных\n",
    "\n",
    "2. Предобработка данных.\n",
    "\n",
    "3. Приоритизация гипотез.\n",
    "\n",
    "- Применение фреймворка ICE для приоритизации гипотез. Сортировка их по убыванию приоритета.\n",
    "- Применение фреймворка RICE для приоритизации гипотез. Сортировка их по убыванию приоритета.\n",
    "- Анализ изменения приоритизации гипотез при применении RICE вместо ICE. \n",
    "\n",
    "4. Анализ A/B-теста\n",
    "\n",
    "- Построение графика кумулятивной выручки по группам. Выводы и предположения.\n",
    "- Построение графика кумулятивного среднего чека по группам. Выводы и предположения.\n",
    "- Построение графика относительного изменения кумулятивного среднего чека группы B к группе A. Выводы и предположения.\n",
    "- Построение графика кумулятивной конверсии по группам. Выводы и предположения.\n",
    "- Построение графика относительного изменения кумулятивной конверсии группы B к группе A. Выводы и предположения.\n",
    "- Построение точечного графика количества заказов по пользователям. Выводы и предположения.\n",
    "- Расчет 95-й и 99-й перцентили количества заказов на пользователя. Определение границы для определения аномальных пользователей.\n",
    "- Построение точечного графика стоимостей заказов. Выводы и предположения.\n",
    "- Расчет 95-й и 99-й перцентили стоимости заказов. Выбор границы для определения аномальных заказов.\n",
    "- Расчет статистической значимости различий в конверсии между группами по «сырым» данным. Выводы и предположения.\n",
    "- Расчет статистической значимости различий в среднем чеке заказа между группами по «сырым» данным. Выводы и предположения.\n",
    "- Расчет статистической значимости различий в конверсии между группами по «очищенным» данным. Выводы и предположения.\n",
    "- Расчет статистической значимости различий в среднем чеке заказа между группами по «очищенным» данным. Выводы и предположения.\n",
    "- Принятие решения по результатам теста. Общие выводы.\n"
   ]
  },
  {
   "cell_type": "markdown",
   "metadata": {},
   "source": [
    "# Описание данных.\n",
    "\n",
    " - Файл /datasets/hypothesis.csv. \n",
    "\n",
    "\n",
    "\n",
    "Hypothesis — краткое описание гипотезы;\n",
    "\n",
    "\n",
    "Reach — охват пользователей по 10-балльной шкале;\n",
    "\n",
    "\n",
    "Impact — влияние на пользователей по 10-балльной шкале;\n",
    "\n",
    "\n",
    "Confidence — уверенность в гипотезе по 10-балльной шкале;\n",
    "\n",
    "\n",
    "Efforts — затраты ресурсов на проверку гипотезы по 10-балльной шкале. Чем больше значение Efforts, тем дороже проверка гипотезы.\n",
    "\n",
    "\n",
    "\n",
    "\n",
    "\n",
    "\n",
    "- Файл /datasets/orders.csv. \n",
    "\n",
    "transactionId — идентификатор заказа;\n",
    "\n",
    "\n",
    "visitorId — идентификатор пользователя, совершившего заказ;\n",
    "\n",
    "\n",
    "date — дата, когда был совершён заказ;\n",
    "\n",
    "\n",
    "revenue — выручка заказа;\n",
    "\n",
    "\n",
    "group — группа A/B-теста, в которую попал заказ.\n",
    "\n",
    "\n",
    "\n",
    "\n",
    "\n",
    "\n",
    "\n",
    "- Файл /datasets/visitors.csv. \n",
    "\n",
    "\n",
    "date — дата;\n",
    "\n",
    "\n",
    "group — группа A/B-теста;\n",
    "\n",
    "\n",
    "visitors — количество пользователей в указанную дату в указанной группе A/B-теста"
   ]
  },
  {
   "cell_type": "markdown",
   "metadata": {},
   "source": [
    "### Изучение даных"
   ]
  },
  {
   "cell_type": "code",
   "execution_count": 1,
   "metadata": {},
   "outputs": [],
   "source": [
    "import pandas as pd\n",
    "import numpy as np\n",
    "import scipy.stats as stats\n",
    "from IPython.display import display\n",
    "import matplotlib.pyplot as plt\n",
    "%matplotlib inline\n",
    "pd.set_option('display.max_columns', 500)\n",
    "import warnings\n",
    "warnings.filterwarnings(\"ignore\")"
   ]
  },
  {
   "cell_type": "code",
   "execution_count": 2,
   "metadata": {},
   "outputs": [
    {
     "data": {
      "text/html": [
       "<div>\n",
       "<style scoped>\n",
       "    .dataframe tbody tr th:only-of-type {\n",
       "        vertical-align: middle;\n",
       "    }\n",
       "\n",
       "    .dataframe tbody tr th {\n",
       "        vertical-align: top;\n",
       "    }\n",
       "\n",
       "    .dataframe thead th {\n",
       "        text-align: right;\n",
       "    }\n",
       "</style>\n",
       "<table border=\"1\" class=\"dataframe\">\n",
       "  <thead>\n",
       "    <tr style=\"text-align: right;\">\n",
       "      <th></th>\n",
       "      <th>Hypothesis</th>\n",
       "      <th>Reach</th>\n",
       "      <th>Impact</th>\n",
       "      <th>Confidence</th>\n",
       "      <th>Efforts</th>\n",
       "    </tr>\n",
       "  </thead>\n",
       "  <tbody>\n",
       "    <tr>\n",
       "      <th>0</th>\n",
       "      <td>Добавить два новых канала привлечения трафика,...</td>\n",
       "      <td>3</td>\n",
       "      <td>10</td>\n",
       "      <td>8</td>\n",
       "      <td>6</td>\n",
       "    </tr>\n",
       "    <tr>\n",
       "      <th>1</th>\n",
       "      <td>Запустить собственную службу доставки, что сок...</td>\n",
       "      <td>2</td>\n",
       "      <td>5</td>\n",
       "      <td>4</td>\n",
       "      <td>10</td>\n",
       "    </tr>\n",
       "    <tr>\n",
       "      <th>2</th>\n",
       "      <td>Добавить блоки рекомендаций товаров на сайт ин...</td>\n",
       "      <td>8</td>\n",
       "      <td>3</td>\n",
       "      <td>7</td>\n",
       "      <td>3</td>\n",
       "    </tr>\n",
       "    <tr>\n",
       "      <th>3</th>\n",
       "      <td>Изменить структура категорий, что увеличит кон...</td>\n",
       "      <td>8</td>\n",
       "      <td>3</td>\n",
       "      <td>3</td>\n",
       "      <td>8</td>\n",
       "    </tr>\n",
       "    <tr>\n",
       "      <th>4</th>\n",
       "      <td>Изменить цвет фона главной страницы, чтобы уве...</td>\n",
       "      <td>3</td>\n",
       "      <td>1</td>\n",
       "      <td>1</td>\n",
       "      <td>1</td>\n",
       "    </tr>\n",
       "    <tr>\n",
       "      <th>5</th>\n",
       "      <td>Добавить страницу отзывов клиентов о магазине,...</td>\n",
       "      <td>3</td>\n",
       "      <td>2</td>\n",
       "      <td>2</td>\n",
       "      <td>3</td>\n",
       "    </tr>\n",
       "    <tr>\n",
       "      <th>6</th>\n",
       "      <td>Показать на главной странице баннеры с актуаль...</td>\n",
       "      <td>5</td>\n",
       "      <td>3</td>\n",
       "      <td>8</td>\n",
       "      <td>3</td>\n",
       "    </tr>\n",
       "    <tr>\n",
       "      <th>7</th>\n",
       "      <td>Добавить форму подписки на все основные страни...</td>\n",
       "      <td>10</td>\n",
       "      <td>7</td>\n",
       "      <td>8</td>\n",
       "      <td>5</td>\n",
       "    </tr>\n",
       "    <tr>\n",
       "      <th>8</th>\n",
       "      <td>Запустить акцию, дающую скидку на товар в день...</td>\n",
       "      <td>1</td>\n",
       "      <td>9</td>\n",
       "      <td>9</td>\n",
       "      <td>5</td>\n",
       "    </tr>\n",
       "  </tbody>\n",
       "</table>\n",
       "</div>"
      ],
      "text/plain": [
       "                                          Hypothesis  Reach  Impact  \\\n",
       "0  Добавить два новых канала привлечения трафика,...      3      10   \n",
       "1  Запустить собственную службу доставки, что сок...      2       5   \n",
       "2  Добавить блоки рекомендаций товаров на сайт ин...      8       3   \n",
       "3  Изменить структура категорий, что увеличит кон...      8       3   \n",
       "4  Изменить цвет фона главной страницы, чтобы уве...      3       1   \n",
       "5  Добавить страницу отзывов клиентов о магазине,...      3       2   \n",
       "6  Показать на главной странице баннеры с актуаль...      5       3   \n",
       "7  Добавить форму подписки на все основные страни...     10       7   \n",
       "8  Запустить акцию, дающую скидку на товар в день...      1       9   \n",
       "\n",
       "   Confidence  Efforts  \n",
       "0           8        6  \n",
       "1           4       10  \n",
       "2           7        3  \n",
       "3           3        8  \n",
       "4           1        1  \n",
       "5           2        3  \n",
       "6           8        3  \n",
       "7           8        5  \n",
       "8           9        5  "
      ]
     },
     "metadata": {},
     "output_type": "display_data"
    },
    {
     "name": "stdout",
     "output_type": "stream",
     "text": [
      "<class 'pandas.core.frame.DataFrame'>\n",
      "RangeIndex: 9 entries, 0 to 8\n",
      "Data columns (total 5 columns):\n",
      " #   Column      Non-Null Count  Dtype \n",
      "---  ------      --------------  ----- \n",
      " 0   Hypothesis  9 non-null      object\n",
      " 1   Reach       9 non-null      int64 \n",
      " 2   Impact      9 non-null      int64 \n",
      " 3   Confidence  9 non-null      int64 \n",
      " 4   Efforts     9 non-null      int64 \n",
      "dtypes: int64(4), object(1)\n",
      "memory usage: 488.0+ bytes\n"
     ]
    }
   ],
   "source": [
    "# изучим датасет \n",
    "hypothesis = pd.read_csv('/datasets/.........csv')\n",
    "display(hypothesis)\n",
    "hypothesis.info()"
   ]
  },
  {
   "cell_type": "markdown",
   "metadata": {},
   "source": [
    "В файле hypothesis.csv 9 гипотез по увеличению выручки интернет-магазина с указанными параметрами Reach, Impact, Confidence, Effort. Пропусков и проблем с типами данных нет. При предобработке следует откорректировать названия полей."
   ]
  },
  {
   "cell_type": "code",
   "execution_count": 3,
   "metadata": {},
   "outputs": [
    {
     "data": {
      "text/html": [
       "<div>\n",
       "<style scoped>\n",
       "    .dataframe tbody tr th:only-of-type {\n",
       "        vertical-align: middle;\n",
       "    }\n",
       "\n",
       "    .dataframe tbody tr th {\n",
       "        vertical-align: top;\n",
       "    }\n",
       "\n",
       "    .dataframe thead th {\n",
       "        text-align: right;\n",
       "    }\n",
       "</style>\n",
       "<table border=\"1\" class=\"dataframe\">\n",
       "  <thead>\n",
       "    <tr style=\"text-align: right;\">\n",
       "      <th></th>\n",
       "      <th>transactionId</th>\n",
       "      <th>visitorId</th>\n",
       "      <th>date</th>\n",
       "      <th>revenue</th>\n",
       "      <th>group</th>\n",
       "    </tr>\n",
       "  </thead>\n",
       "  <tbody>\n",
       "    <tr>\n",
       "      <th>0</th>\n",
       "      <td>3667963787</td>\n",
       "      <td>3312258926</td>\n",
       "      <td>2019-08-15</td>\n",
       "      <td>1650</td>\n",
       "      <td>B</td>\n",
       "    </tr>\n",
       "    <tr>\n",
       "      <th>1</th>\n",
       "      <td>2804400009</td>\n",
       "      <td>3642806036</td>\n",
       "      <td>2019-08-15</td>\n",
       "      <td>730</td>\n",
       "      <td>B</td>\n",
       "    </tr>\n",
       "    <tr>\n",
       "      <th>2</th>\n",
       "      <td>2961555356</td>\n",
       "      <td>4069496402</td>\n",
       "      <td>2019-08-15</td>\n",
       "      <td>400</td>\n",
       "      <td>A</td>\n",
       "    </tr>\n",
       "    <tr>\n",
       "      <th>3</th>\n",
       "      <td>3797467345</td>\n",
       "      <td>1196621759</td>\n",
       "      <td>2019-08-15</td>\n",
       "      <td>9759</td>\n",
       "      <td>B</td>\n",
       "    </tr>\n",
       "    <tr>\n",
       "      <th>4</th>\n",
       "      <td>2282983706</td>\n",
       "      <td>2322279887</td>\n",
       "      <td>2019-08-15</td>\n",
       "      <td>2308</td>\n",
       "      <td>B</td>\n",
       "    </tr>\n",
       "  </tbody>\n",
       "</table>\n",
       "</div>"
      ],
      "text/plain": [
       "   transactionId   visitorId        date  revenue group\n",
       "0     3667963787  3312258926  2019-08-15     1650     B\n",
       "1     2804400009  3642806036  2019-08-15      730     B\n",
       "2     2961555356  4069496402  2019-08-15      400     A\n",
       "3     3797467345  1196621759  2019-08-15     9759     B\n",
       "4     2282983706  2322279887  2019-08-15     2308     B"
      ]
     },
     "metadata": {},
     "output_type": "display_data"
    },
    {
     "name": "stdout",
     "output_type": "stream",
     "text": [
      "<class 'pandas.core.frame.DataFrame'>\n",
      "RangeIndex: 1197 entries, 0 to 1196\n",
      "Data columns (total 5 columns):\n",
      " #   Column         Non-Null Count  Dtype \n",
      "---  ------         --------------  ----- \n",
      " 0   transactionId  1197 non-null   int64 \n",
      " 1   visitorId      1197 non-null   int64 \n",
      " 2   date           1197 non-null   object\n",
      " 3   revenue        1197 non-null   int64 \n",
      " 4   group          1197 non-null   object\n",
      "dtypes: int64(3), object(2)\n",
      "memory usage: 46.9+ KB\n"
     ]
    }
   ],
   "source": [
    "# изучим датасет orders\n",
    "\n",
    "orders = pd.read_csv('/datasets/......csv')\n",
    "display(orders.head())\n",
    "orders.info()"
   ]
  },
  {
   "cell_type": "markdown",
   "metadata": {},
   "source": [
    "В датасете имеем информацию по 1197 заказам. Пропусков нет. При предобработке следует произвести коррекцию названия полей и изменить тип данных поля 'date' с типа object на datetime.\n",
    "\n"
   ]
  },
  {
   "cell_type": "code",
   "execution_count": 4,
   "metadata": {},
   "outputs": [
    {
     "data": {
      "text/html": [
       "<div>\n",
       "<style scoped>\n",
       "    .dataframe tbody tr th:only-of-type {\n",
       "        vertical-align: middle;\n",
       "    }\n",
       "\n",
       "    .dataframe tbody tr th {\n",
       "        vertical-align: top;\n",
       "    }\n",
       "\n",
       "    .dataframe thead th {\n",
       "        text-align: right;\n",
       "    }\n",
       "</style>\n",
       "<table border=\"1\" class=\"dataframe\">\n",
       "  <thead>\n",
       "    <tr style=\"text-align: right;\">\n",
       "      <th></th>\n",
       "      <th>date</th>\n",
       "      <th>group</th>\n",
       "      <th>visitors</th>\n",
       "    </tr>\n",
       "  </thead>\n",
       "  <tbody>\n",
       "    <tr>\n",
       "      <th>0</th>\n",
       "      <td>2019-08-01</td>\n",
       "      <td>A</td>\n",
       "      <td>719</td>\n",
       "    </tr>\n",
       "    <tr>\n",
       "      <th>1</th>\n",
       "      <td>2019-08-02</td>\n",
       "      <td>A</td>\n",
       "      <td>619</td>\n",
       "    </tr>\n",
       "    <tr>\n",
       "      <th>2</th>\n",
       "      <td>2019-08-03</td>\n",
       "      <td>A</td>\n",
       "      <td>507</td>\n",
       "    </tr>\n",
       "    <tr>\n",
       "      <th>3</th>\n",
       "      <td>2019-08-04</td>\n",
       "      <td>A</td>\n",
       "      <td>717</td>\n",
       "    </tr>\n",
       "    <tr>\n",
       "      <th>4</th>\n",
       "      <td>2019-08-05</td>\n",
       "      <td>A</td>\n",
       "      <td>756</td>\n",
       "    </tr>\n",
       "    <tr>\n",
       "      <th>...</th>\n",
       "      <td>...</td>\n",
       "      <td>...</td>\n",
       "      <td>...</td>\n",
       "    </tr>\n",
       "    <tr>\n",
       "      <th>57</th>\n",
       "      <td>2019-08-27</td>\n",
       "      <td>B</td>\n",
       "      <td>720</td>\n",
       "    </tr>\n",
       "    <tr>\n",
       "      <th>58</th>\n",
       "      <td>2019-08-28</td>\n",
       "      <td>B</td>\n",
       "      <td>654</td>\n",
       "    </tr>\n",
       "    <tr>\n",
       "      <th>59</th>\n",
       "      <td>2019-08-29</td>\n",
       "      <td>B</td>\n",
       "      <td>531</td>\n",
       "    </tr>\n",
       "    <tr>\n",
       "      <th>60</th>\n",
       "      <td>2019-08-30</td>\n",
       "      <td>B</td>\n",
       "      <td>490</td>\n",
       "    </tr>\n",
       "    <tr>\n",
       "      <th>61</th>\n",
       "      <td>2019-08-31</td>\n",
       "      <td>B</td>\n",
       "      <td>718</td>\n",
       "    </tr>\n",
       "  </tbody>\n",
       "</table>\n",
       "<p>62 rows × 3 columns</p>\n",
       "</div>"
      ],
      "text/plain": [
       "          date group  visitors\n",
       "0   2019-08-01     A       719\n",
       "1   2019-08-02     A       619\n",
       "2   2019-08-03     A       507\n",
       "3   2019-08-04     A       717\n",
       "4   2019-08-05     A       756\n",
       "..         ...   ...       ...\n",
       "57  2019-08-27     B       720\n",
       "58  2019-08-28     B       654\n",
       "59  2019-08-29     B       531\n",
       "60  2019-08-30     B       490\n",
       "61  2019-08-31     B       718\n",
       "\n",
       "[62 rows x 3 columns]"
      ]
     },
     "metadata": {},
     "output_type": "display_data"
    },
    {
     "name": "stdout",
     "output_type": "stream",
     "text": [
      "<class 'pandas.core.frame.DataFrame'>\n",
      "RangeIndex: 62 entries, 0 to 61\n",
      "Data columns (total 3 columns):\n",
      " #   Column    Non-Null Count  Dtype \n",
      "---  ------    --------------  ----- \n",
      " 0   date      62 non-null     object\n",
      " 1   group     62 non-null     object\n",
      " 2   visitors  62 non-null     int64 \n",
      "dtypes: int64(1), object(2)\n",
      "memory usage: 1.6+ KB\n"
     ]
    }
   ],
   "source": [
    "# изучим датасет  visitors\n",
    "visitors = pd.read_csv('/datasets/........csv')\n",
    "display(visitors)\n",
    "visitors.info()"
   ]
  },
  {
   "cell_type": "markdown",
   "metadata": {},
   "source": [
    "В датасет попадают данные о посетителях за период с 01 по 31 августа. 62 строки, пропусков нет. При предобработке следует привети тип данных поля 'date' на datetime."
   ]
  },
  {
   "cell_type": "markdown",
   "metadata": {},
   "source": [
    "### Предобработка данных."
   ]
  },
  {
   "cell_type": "code",
   "execution_count": 5,
   "metadata": {},
   "outputs": [
    {
     "data": {
      "text/html": [
       "<div>\n",
       "<style scoped>\n",
       "    .dataframe tbody tr th:only-of-type {\n",
       "        vertical-align: middle;\n",
       "    }\n",
       "\n",
       "    .dataframe tbody tr th {\n",
       "        vertical-align: top;\n",
       "    }\n",
       "\n",
       "    .dataframe thead th {\n",
       "        text-align: right;\n",
       "    }\n",
       "</style>\n",
       "<table border=\"1\" class=\"dataframe\">\n",
       "  <thead>\n",
       "    <tr style=\"text-align: right;\">\n",
       "      <th></th>\n",
       "      <th>hypothesis</th>\n",
       "      <th>reach</th>\n",
       "      <th>impact</th>\n",
       "      <th>confidence</th>\n",
       "      <th>efforts</th>\n",
       "    </tr>\n",
       "  </thead>\n",
       "  <tbody>\n",
       "    <tr>\n",
       "      <th>0</th>\n",
       "      <td>Добавить два новых канала привлечения трафика,...</td>\n",
       "      <td>3</td>\n",
       "      <td>10</td>\n",
       "      <td>8</td>\n",
       "      <td>6</td>\n",
       "    </tr>\n",
       "    <tr>\n",
       "      <th>1</th>\n",
       "      <td>Запустить собственную службу доставки, что сок...</td>\n",
       "      <td>2</td>\n",
       "      <td>5</td>\n",
       "      <td>4</td>\n",
       "      <td>10</td>\n",
       "    </tr>\n",
       "    <tr>\n",
       "      <th>2</th>\n",
       "      <td>Добавить блоки рекомендаций товаров на сайт ин...</td>\n",
       "      <td>8</td>\n",
       "      <td>3</td>\n",
       "      <td>7</td>\n",
       "      <td>3</td>\n",
       "    </tr>\n",
       "    <tr>\n",
       "      <th>3</th>\n",
       "      <td>Изменить структура категорий, что увеличит кон...</td>\n",
       "      <td>8</td>\n",
       "      <td>3</td>\n",
       "      <td>3</td>\n",
       "      <td>8</td>\n",
       "    </tr>\n",
       "    <tr>\n",
       "      <th>4</th>\n",
       "      <td>Изменить цвет фона главной страницы, чтобы уве...</td>\n",
       "      <td>3</td>\n",
       "      <td>1</td>\n",
       "      <td>1</td>\n",
       "      <td>1</td>\n",
       "    </tr>\n",
       "    <tr>\n",
       "      <th>5</th>\n",
       "      <td>Добавить страницу отзывов клиентов о магазине,...</td>\n",
       "      <td>3</td>\n",
       "      <td>2</td>\n",
       "      <td>2</td>\n",
       "      <td>3</td>\n",
       "    </tr>\n",
       "    <tr>\n",
       "      <th>6</th>\n",
       "      <td>Показать на главной странице баннеры с актуаль...</td>\n",
       "      <td>5</td>\n",
       "      <td>3</td>\n",
       "      <td>8</td>\n",
       "      <td>3</td>\n",
       "    </tr>\n",
       "    <tr>\n",
       "      <th>7</th>\n",
       "      <td>Добавить форму подписки на все основные страни...</td>\n",
       "      <td>10</td>\n",
       "      <td>7</td>\n",
       "      <td>8</td>\n",
       "      <td>5</td>\n",
       "    </tr>\n",
       "    <tr>\n",
       "      <th>8</th>\n",
       "      <td>Запустить акцию, дающую скидку на товар в день...</td>\n",
       "      <td>1</td>\n",
       "      <td>9</td>\n",
       "      <td>9</td>\n",
       "      <td>5</td>\n",
       "    </tr>\n",
       "  </tbody>\n",
       "</table>\n",
       "</div>"
      ],
      "text/plain": [
       "                                          hypothesis  reach  impact  \\\n",
       "0  Добавить два новых канала привлечения трафика,...      3      10   \n",
       "1  Запустить собственную службу доставки, что сок...      2       5   \n",
       "2  Добавить блоки рекомендаций товаров на сайт ин...      8       3   \n",
       "3  Изменить структура категорий, что увеличит кон...      8       3   \n",
       "4  Изменить цвет фона главной страницы, чтобы уве...      3       1   \n",
       "5  Добавить страницу отзывов клиентов о магазине,...      3       2   \n",
       "6  Показать на главной странице баннеры с актуаль...      5       3   \n",
       "7  Добавить форму подписки на все основные страни...     10       7   \n",
       "8  Запустить акцию, дающую скидку на товар в день...      1       9   \n",
       "\n",
       "   confidence  efforts  \n",
       "0           8        6  \n",
       "1           4       10  \n",
       "2           7        3  \n",
       "3           3        8  \n",
       "4           1        1  \n",
       "5           2        3  \n",
       "6           8        3  \n",
       "7           8        5  \n",
       "8           9        5  "
      ]
     },
     "metadata": {},
     "output_type": "display_data"
    }
   ],
   "source": [
    "# коррекция названия полей в датасете 'hypothesis' и проверка результата\n",
    "hypothesis.columns = hypothesis.columns.str.lower()\n",
    "display(hypothesis)"
   ]
  },
  {
   "cell_type": "code",
   "execution_count": 6,
   "metadata": {},
   "outputs": [
    {
     "data": {
      "text/html": [
       "<div>\n",
       "<style scoped>\n",
       "    .dataframe tbody tr th:only-of-type {\n",
       "        vertical-align: middle;\n",
       "    }\n",
       "\n",
       "    .dataframe tbody tr th {\n",
       "        vertical-align: top;\n",
       "    }\n",
       "\n",
       "    .dataframe thead th {\n",
       "        text-align: right;\n",
       "    }\n",
       "</style>\n",
       "<table border=\"1\" class=\"dataframe\">\n",
       "  <thead>\n",
       "    <tr style=\"text-align: right;\">\n",
       "      <th></th>\n",
       "      <th>transactionid</th>\n",
       "      <th>visitorid</th>\n",
       "      <th>date</th>\n",
       "      <th>revenue</th>\n",
       "      <th>group</th>\n",
       "    </tr>\n",
       "  </thead>\n",
       "  <tbody>\n",
       "    <tr>\n",
       "      <th>0</th>\n",
       "      <td>3667963787</td>\n",
       "      <td>3312258926</td>\n",
       "      <td>2019-08-15</td>\n",
       "      <td>1650</td>\n",
       "      <td>B</td>\n",
       "    </tr>\n",
       "    <tr>\n",
       "      <th>1</th>\n",
       "      <td>2804400009</td>\n",
       "      <td>3642806036</td>\n",
       "      <td>2019-08-15</td>\n",
       "      <td>730</td>\n",
       "      <td>B</td>\n",
       "    </tr>\n",
       "    <tr>\n",
       "      <th>2</th>\n",
       "      <td>2961555356</td>\n",
       "      <td>4069496402</td>\n",
       "      <td>2019-08-15</td>\n",
       "      <td>400</td>\n",
       "      <td>A</td>\n",
       "    </tr>\n",
       "    <tr>\n",
       "      <th>3</th>\n",
       "      <td>3797467345</td>\n",
       "      <td>1196621759</td>\n",
       "      <td>2019-08-15</td>\n",
       "      <td>9759</td>\n",
       "      <td>B</td>\n",
       "    </tr>\n",
       "    <tr>\n",
       "      <th>4</th>\n",
       "      <td>2282983706</td>\n",
       "      <td>2322279887</td>\n",
       "      <td>2019-08-15</td>\n",
       "      <td>2308</td>\n",
       "      <td>B</td>\n",
       "    </tr>\n",
       "  </tbody>\n",
       "</table>\n",
       "</div>"
      ],
      "text/plain": [
       "   transactionid   visitorid       date  revenue group\n",
       "0     3667963787  3312258926 2019-08-15     1650     B\n",
       "1     2804400009  3642806036 2019-08-15      730     B\n",
       "2     2961555356  4069496402 2019-08-15      400     A\n",
       "3     3797467345  1196621759 2019-08-15     9759     B\n",
       "4     2282983706  2322279887 2019-08-15     2308     B"
      ]
     },
     "metadata": {},
     "output_type": "display_data"
    },
    {
     "name": "stdout",
     "output_type": "stream",
     "text": [
      "<class 'pandas.core.frame.DataFrame'>\n",
      "RangeIndex: 1197 entries, 0 to 1196\n",
      "Data columns (total 5 columns):\n",
      " #   Column         Non-Null Count  Dtype         \n",
      "---  ------         --------------  -----         \n",
      " 0   transactionid  1197 non-null   int64         \n",
      " 1   visitorid      1197 non-null   int64         \n",
      " 2   date           1197 non-null   datetime64[ns]\n",
      " 3   revenue        1197 non-null   int64         \n",
      " 4   group          1197 non-null   object        \n",
      "dtypes: datetime64[ns](1), int64(3), object(1)\n",
      "memory usage: 46.9+ KB\n"
     ]
    }
   ],
   "source": [
    "# коррекция названия полей и изменение типа данных в датасете 'orders', проверка результата\n",
    "\n",
    "orders.columns = orders.columns.str.lower()\n",
    "orders['date'] = pd.to_datetime(orders['date'], format='%Y-%m-%d')\n",
    "display(orders.head())\n",
    "orders.info()\n"
   ]
  },
  {
   "cell_type": "code",
   "execution_count": 7,
   "metadata": {},
   "outputs": [
    {
     "name": "stdout",
     "output_type": "stream",
     "text": [
      "<class 'pandas.core.frame.DataFrame'>\n",
      "RangeIndex: 62 entries, 0 to 61\n",
      "Data columns (total 3 columns):\n",
      " #   Column    Non-Null Count  Dtype         \n",
      "---  ------    --------------  -----         \n",
      " 0   date      62 non-null     datetime64[ns]\n",
      " 1   group     62 non-null     object        \n",
      " 2   visitors  62 non-null     int64         \n",
      "dtypes: datetime64[ns](1), int64(1), object(1)\n",
      "memory usage: 1.6+ KB\n"
     ]
    }
   ],
   "source": [
    "# изменение типа данных в датасете 'visitors', проверка результата\n",
    "visitors['date'] = pd.to_datetime(visitors['date'], format='%Y-%m-%d')\n",
    "visitors.info()"
   ]
  },
  {
   "cell_type": "markdown",
   "metadata": {},
   "source": [
    "### Приоритизация гипотез."
   ]
  },
  {
   "cell_type": "markdown",
   "metadata": {},
   "source": [
    "#### Применение фреймворка ICE для приоритизации гипотез. Сортировка их по убыванию приоритета."
   ]
  },
  {
   "cell_type": "code",
   "execution_count": 8,
   "metadata": {},
   "outputs": [
    {
     "data": {
      "text/html": [
       "<div>\n",
       "<style scoped>\n",
       "    .dataframe tbody tr th:only-of-type {\n",
       "        vertical-align: middle;\n",
       "    }\n",
       "\n",
       "    .dataframe tbody tr th {\n",
       "        vertical-align: top;\n",
       "    }\n",
       "\n",
       "    .dataframe thead th {\n",
       "        text-align: right;\n",
       "    }\n",
       "</style>\n",
       "<table border=\"1\" class=\"dataframe\">\n",
       "  <thead>\n",
       "    <tr style=\"text-align: right;\">\n",
       "      <th></th>\n",
       "      <th>hypothesis</th>\n",
       "      <th>reach</th>\n",
       "      <th>impact</th>\n",
       "      <th>confidence</th>\n",
       "      <th>efforts</th>\n",
       "      <th>ICE</th>\n",
       "    </tr>\n",
       "  </thead>\n",
       "  <tbody>\n",
       "    <tr>\n",
       "      <th>8</th>\n",
       "      <td>Запустить акцию, дающую скидку на товар в день...</td>\n",
       "      <td>1</td>\n",
       "      <td>9</td>\n",
       "      <td>9</td>\n",
       "      <td>5</td>\n",
       "      <td>16.200000</td>\n",
       "    </tr>\n",
       "    <tr>\n",
       "      <th>0</th>\n",
       "      <td>Добавить два новых канала привлечения трафика,...</td>\n",
       "      <td>3</td>\n",
       "      <td>10</td>\n",
       "      <td>8</td>\n",
       "      <td>6</td>\n",
       "      <td>13.333333</td>\n",
       "    </tr>\n",
       "    <tr>\n",
       "      <th>7</th>\n",
       "      <td>Добавить форму подписки на все основные страни...</td>\n",
       "      <td>10</td>\n",
       "      <td>7</td>\n",
       "      <td>8</td>\n",
       "      <td>5</td>\n",
       "      <td>11.200000</td>\n",
       "    </tr>\n",
       "    <tr>\n",
       "      <th>6</th>\n",
       "      <td>Показать на главной странице баннеры с актуаль...</td>\n",
       "      <td>5</td>\n",
       "      <td>3</td>\n",
       "      <td>8</td>\n",
       "      <td>3</td>\n",
       "      <td>8.000000</td>\n",
       "    </tr>\n",
       "    <tr>\n",
       "      <th>2</th>\n",
       "      <td>Добавить блоки рекомендаций товаров на сайт ин...</td>\n",
       "      <td>8</td>\n",
       "      <td>3</td>\n",
       "      <td>7</td>\n",
       "      <td>3</td>\n",
       "      <td>7.000000</td>\n",
       "    </tr>\n",
       "    <tr>\n",
       "      <th>1</th>\n",
       "      <td>Запустить собственную службу доставки, что сок...</td>\n",
       "      <td>2</td>\n",
       "      <td>5</td>\n",
       "      <td>4</td>\n",
       "      <td>10</td>\n",
       "      <td>2.000000</td>\n",
       "    </tr>\n",
       "    <tr>\n",
       "      <th>5</th>\n",
       "      <td>Добавить страницу отзывов клиентов о магазине,...</td>\n",
       "      <td>3</td>\n",
       "      <td>2</td>\n",
       "      <td>2</td>\n",
       "      <td>3</td>\n",
       "      <td>1.333333</td>\n",
       "    </tr>\n",
       "    <tr>\n",
       "      <th>3</th>\n",
       "      <td>Изменить структура категорий, что увеличит кон...</td>\n",
       "      <td>8</td>\n",
       "      <td>3</td>\n",
       "      <td>3</td>\n",
       "      <td>8</td>\n",
       "      <td>1.125000</td>\n",
       "    </tr>\n",
       "    <tr>\n",
       "      <th>4</th>\n",
       "      <td>Изменить цвет фона главной страницы, чтобы уве...</td>\n",
       "      <td>3</td>\n",
       "      <td>1</td>\n",
       "      <td>1</td>\n",
       "      <td>1</td>\n",
       "      <td>1.000000</td>\n",
       "    </tr>\n",
       "  </tbody>\n",
       "</table>\n",
       "</div>"
      ],
      "text/plain": [
       "                                          hypothesis  reach  impact  \\\n",
       "8  Запустить акцию, дающую скидку на товар в день...      1       9   \n",
       "0  Добавить два новых канала привлечения трафика,...      3      10   \n",
       "7  Добавить форму подписки на все основные страни...     10       7   \n",
       "6  Показать на главной странице баннеры с актуаль...      5       3   \n",
       "2  Добавить блоки рекомендаций товаров на сайт ин...      8       3   \n",
       "1  Запустить собственную службу доставки, что сок...      2       5   \n",
       "5  Добавить страницу отзывов клиентов о магазине,...      3       2   \n",
       "3  Изменить структура категорий, что увеличит кон...      8       3   \n",
       "4  Изменить цвет фона главной страницы, чтобы уве...      3       1   \n",
       "\n",
       "   confidence  efforts        ICE  \n",
       "8           9        5  16.200000  \n",
       "0           8        6  13.333333  \n",
       "7           8        5  11.200000  \n",
       "6           8        3   8.000000  \n",
       "2           7        3   7.000000  \n",
       "1           4       10   2.000000  \n",
       "5           2        3   1.333333  \n",
       "3           3        8   1.125000  \n",
       "4           1        1   1.000000  "
      ]
     },
     "execution_count": 8,
     "metadata": {},
     "output_type": "execute_result"
    }
   ],
   "source": [
    "# расчет и добавление в таблицу ICE для каждой гипотезы, сортировка по убыванию\n",
    "\n",
    "hypothesis['ICE'] = (hypothesis['impact'] * hypothesis['confidence']) / hypothesis['efforts']\n",
    "hypothesis.sort_values('ICE', ascending=False)"
   ]
  },
  {
   "cell_type": "code",
   "execution_count": 9,
   "metadata": {},
   "outputs": [
    {
     "data": {
      "image/png": "[encoded data removed]",
      "text/plain": [
       "<Figure size 432x288 with 1 Axes>"
      ]
     },
     "metadata": {
      "needs_background": "light"
     },
     "output_type": "display_data"
    }
   ],
   "source": [
    "ax = hypothesis[['hypothesis', 'ICE']].set_index('hypothesis').sort_values('ICE', ascending=True).plot(kind='barh')\n",
    "ax.set_xlabel('Приоритет')\n",
    "ax.set_ylabel('Гипотеза')\n",
    "ax.set_title('ICE')\n",
    "plt.show()\n"
   ]
  },
  {
   "cell_type": "markdown",
   "metadata": {},
   "source": [
    "#### Применение фреймворка RICE для приоритизации гипотез. Сортировка их по убыванию приоритета."
   ]
  },
  {
   "cell_type": "code",
   "execution_count": 10,
   "metadata": {},
   "outputs": [
    {
     "data": {
      "text/html": [
       "<div>\n",
       "<style scoped>\n",
       "    .dataframe tbody tr th:only-of-type {\n",
       "        vertical-align: middle;\n",
       "    }\n",
       "\n",
       "    .dataframe tbody tr th {\n",
       "        vertical-align: top;\n",
       "    }\n",
       "\n",
       "    .dataframe thead th {\n",
       "        text-align: right;\n",
       "    }\n",
       "</style>\n",
       "<table border=\"1\" class=\"dataframe\">\n",
       "  <thead>\n",
       "    <tr style=\"text-align: right;\">\n",
       "      <th></th>\n",
       "      <th>hypothesis</th>\n",
       "      <th>reach</th>\n",
       "      <th>impact</th>\n",
       "      <th>confidence</th>\n",
       "      <th>efforts</th>\n",
       "      <th>ICE</th>\n",
       "      <th>RICE</th>\n",
       "    </tr>\n",
       "  </thead>\n",
       "  <tbody>\n",
       "    <tr>\n",
       "      <th>7</th>\n",
       "      <td>Добавить форму подписки на все основные страни...</td>\n",
       "      <td>10</td>\n",
       "      <td>7</td>\n",
       "      <td>8</td>\n",
       "      <td>5</td>\n",
       "      <td>11.200000</td>\n",
       "      <td>112.0</td>\n",
       "    </tr>\n",
       "    <tr>\n",
       "      <th>2</th>\n",
       "      <td>Добавить блоки рекомендаций товаров на сайт ин...</td>\n",
       "      <td>8</td>\n",
       "      <td>3</td>\n",
       "      <td>7</td>\n",
       "      <td>3</td>\n",
       "      <td>7.000000</td>\n",
       "      <td>56.0</td>\n",
       "    </tr>\n",
       "    <tr>\n",
       "      <th>0</th>\n",
       "      <td>Добавить два новых канала привлечения трафика,...</td>\n",
       "      <td>3</td>\n",
       "      <td>10</td>\n",
       "      <td>8</td>\n",
       "      <td>6</td>\n",
       "      <td>13.333333</td>\n",
       "      <td>40.0</td>\n",
       "    </tr>\n",
       "    <tr>\n",
       "      <th>6</th>\n",
       "      <td>Показать на главной странице баннеры с актуаль...</td>\n",
       "      <td>5</td>\n",
       "      <td>3</td>\n",
       "      <td>8</td>\n",
       "      <td>3</td>\n",
       "      <td>8.000000</td>\n",
       "      <td>40.0</td>\n",
       "    </tr>\n",
       "    <tr>\n",
       "      <th>8</th>\n",
       "      <td>Запустить акцию, дающую скидку на товар в день...</td>\n",
       "      <td>1</td>\n",
       "      <td>9</td>\n",
       "      <td>9</td>\n",
       "      <td>5</td>\n",
       "      <td>16.200000</td>\n",
       "      <td>16.2</td>\n",
       "    </tr>\n",
       "    <tr>\n",
       "      <th>3</th>\n",
       "      <td>Изменить структура категорий, что увеличит кон...</td>\n",
       "      <td>8</td>\n",
       "      <td>3</td>\n",
       "      <td>3</td>\n",
       "      <td>8</td>\n",
       "      <td>1.125000</td>\n",
       "      <td>9.0</td>\n",
       "    </tr>\n",
       "    <tr>\n",
       "      <th>1</th>\n",
       "      <td>Запустить собственную службу доставки, что сок...</td>\n",
       "      <td>2</td>\n",
       "      <td>5</td>\n",
       "      <td>4</td>\n",
       "      <td>10</td>\n",
       "      <td>2.000000</td>\n",
       "      <td>4.0</td>\n",
       "    </tr>\n",
       "    <tr>\n",
       "      <th>5</th>\n",
       "      <td>Добавить страницу отзывов клиентов о магазине,...</td>\n",
       "      <td>3</td>\n",
       "      <td>2</td>\n",
       "      <td>2</td>\n",
       "      <td>3</td>\n",
       "      <td>1.333333</td>\n",
       "      <td>4.0</td>\n",
       "    </tr>\n",
       "    <tr>\n",
       "      <th>4</th>\n",
       "      <td>Изменить цвет фона главной страницы, чтобы уве...</td>\n",
       "      <td>3</td>\n",
       "      <td>1</td>\n",
       "      <td>1</td>\n",
       "      <td>1</td>\n",
       "      <td>1.000000</td>\n",
       "      <td>3.0</td>\n",
       "    </tr>\n",
       "  </tbody>\n",
       "</table>\n",
       "</div>"
      ],
      "text/plain": [
       "                                          hypothesis  reach  impact  \\\n",
       "7  Добавить форму подписки на все основные страни...     10       7   \n",
       "2  Добавить блоки рекомендаций товаров на сайт ин...      8       3   \n",
       "0  Добавить два новых канала привлечения трафика,...      3      10   \n",
       "6  Показать на главной странице баннеры с актуаль...      5       3   \n",
       "8  Запустить акцию, дающую скидку на товар в день...      1       9   \n",
       "3  Изменить структура категорий, что увеличит кон...      8       3   \n",
       "1  Запустить собственную службу доставки, что сок...      2       5   \n",
       "5  Добавить страницу отзывов клиентов о магазине,...      3       2   \n",
       "4  Изменить цвет фона главной страницы, чтобы уве...      3       1   \n",
       "\n",
       "   confidence  efforts        ICE   RICE  \n",
       "7           8        5  11.200000  112.0  \n",
       "2           7        3   7.000000   56.0  \n",
       "0           8        6  13.333333   40.0  \n",
       "6           8        3   8.000000   40.0  \n",
       "8           9        5  16.200000   16.2  \n",
       "3           3        8   1.125000    9.0  \n",
       "1           4       10   2.000000    4.0  \n",
       "5           2        3   1.333333    4.0  \n",
       "4           1        1   1.000000    3.0  "
      ]
     },
     "execution_count": 10,
     "metadata": {},
     "output_type": "execute_result"
    }
   ],
   "source": [
    "# расчет и добавление в таблицу RICE для каждой гипотезы, сортировка по убыванию приоритета по RICE\n",
    "hypothesis['RICE'] = (hypothesis['reach'] * hypothesis['impact'] * hypothesis['confidence']) / hypothesis['efforts']\n",
    "hypothesis.sort_values('RICE', ascending=False)"
   ]
  },
  {
   "cell_type": "code",
   "execution_count": 11,
   "metadata": {},
   "outputs": [
    {
     "data": {
      "image/png": "[encoded data removed]",
      "text/plain": [
       "<Figure size 432x288 with 1 Axes>"
      ]
     },
     "metadata": {
      "needs_background": "light"
     },
     "output_type": "display_data"
    }
   ],
   "source": [
    "ax = hypothesis[['hypothesis', 'RICE']].set_index('hypothesis').sort_values('RICE', ascending=True).plot(kind='barh')\n",
    "ax.set_xlabel('Приоритет')\n",
    "ax.set_ylabel('Гипотеза')\n",
    "ax.set_title('RICE')\n",
    "plt.show()"
   ]
  },
  {
   "cell_type": "markdown",
   "metadata": {},
   "source": [
    "#### Вывод. Анализ изменения приоритизации гипотез при применении RICE вместо ICE."
   ]
  },
  {
   "cell_type": "markdown",
   "metadata": {},
   "source": [
    "\n",
    "\n",
    "При применении фреймворка ICE для приоретизации гипотез наибольшую оценку имеют гипиотезы 8,0 и 7. После применения фреймворка RICE приоритеты изменились на гипиотезы 7,2 и 0. Причиной таких изменений является то, что в случае применения фреймворка ICE в отличие от RICE мы не учитывали охват изменений, тогда как это является важной составляющей оценки гипотез. \n",
    "\n",
    "Таким образом,  наиболее приоритетными гипотезами будут 7, 2, 0.\n",
    "Особенно выделяется гипотеза 7, т.к. помимо высоких impact (насколько сильно изменение повлияет на пользователей, их опыт и удовлетворение от продукта) и confidence (насколько мы уверены, что это изменение повлияет на пользователей именно так), она коснётся всех пользователей сайта, так как показатель reach равен 10."
   ]
  },
  {
   "cell_type": "markdown",
   "metadata": {},
   "source": [
    "### Анализ A/B-теста"
   ]
  },
  {
   "cell_type": "markdown",
   "metadata": {},
   "source": [
    "Проверим, есть ли пользователи, которые попали одновременно в обе группы тестирования."
   ]
  },
  {
   "cell_type": "code",
   "execution_count": 12,
   "metadata": {},
   "outputs": [
    {
     "name": "stdout",
     "output_type": "stream",
     "text": [
      "visitorid    58\n",
      "group        58\n",
      "dtype: int64\n"
     ]
    }
   ],
   "source": [
    "# считаем количество пользователей, попавших в обе группы при проведении теста\n",
    "ab_same = orders.groupby('visitorid').agg({'group':'nunique'}).query('group>1').reset_index()\n",
    "#len(list(set(orders.query('group==\"A\"').visitorid) & set(orders.query('group==\"B\"').visitorid)))\n",
    "print(ab_same.count())"
   ]
  },
  {
   "cell_type": "markdown",
   "metadata": {},
   "source": [
    "Да, такие пользователи присутствуют в количестве 58-ми. Это небольшой процент от общего количества пользователей (5 %). Удалим их для чистоты эксперимента."
   ]
  },
  {
   "cell_type": "code",
   "execution_count": 13,
   "metadata": {},
   "outputs": [],
   "source": [
    "# уберем из дальнейшего анализа обнаруженные пересечения в группах\n",
    "orders = orders[orders['visitorid'].isin(ab_same['visitorid']) == False]"
   ]
  },
  {
   "cell_type": "markdown",
   "metadata": {},
   "source": [
    "#### Построение графика кумулятивной выручки по группам. "
   ]
  },
  {
   "cell_type": "code",
   "execution_count": 14,
   "metadata": {},
   "outputs": [
    {
     "data": {
      "text/html": [
       "<div>\n",
       "<style scoped>\n",
       "    .dataframe tbody tr th:only-of-type {\n",
       "        vertical-align: middle;\n",
       "    }\n",
       "\n",
       "    .dataframe tbody tr th {\n",
       "        vertical-align: top;\n",
       "    }\n",
       "\n",
       "    .dataframe thead th {\n",
       "        text-align: right;\n",
       "    }\n",
       "</style>\n",
       "<table border=\"1\" class=\"dataframe\">\n",
       "  <thead>\n",
       "    <tr style=\"text-align: right;\">\n",
       "      <th></th>\n",
       "      <th>date</th>\n",
       "      <th>group</th>\n",
       "      <th>transactionid</th>\n",
       "      <th>visitorid</th>\n",
       "      <th>revenue</th>\n",
       "    </tr>\n",
       "  </thead>\n",
       "  <tbody>\n",
       "    <tr>\n",
       "      <th>55</th>\n",
       "      <td>2019-08-01</td>\n",
       "      <td>A</td>\n",
       "      <td>23</td>\n",
       "      <td>19</td>\n",
       "      <td>142779</td>\n",
       "    </tr>\n",
       "    <tr>\n",
       "      <th>66</th>\n",
       "      <td>2019-08-01</td>\n",
       "      <td>B</td>\n",
       "      <td>17</td>\n",
       "      <td>17</td>\n",
       "      <td>59758</td>\n",
       "    </tr>\n",
       "    <tr>\n",
       "      <th>175</th>\n",
       "      <td>2019-08-02</td>\n",
       "      <td>A</td>\n",
       "      <td>42</td>\n",
       "      <td>36</td>\n",
       "      <td>234381</td>\n",
       "    </tr>\n",
       "    <tr>\n",
       "      <th>173</th>\n",
       "      <td>2019-08-02</td>\n",
       "      <td>B</td>\n",
       "      <td>40</td>\n",
       "      <td>39</td>\n",
       "      <td>221801</td>\n",
       "    </tr>\n",
       "    <tr>\n",
       "      <th>291</th>\n",
       "      <td>2019-08-03</td>\n",
       "      <td>A</td>\n",
       "      <td>66</td>\n",
       "      <td>60</td>\n",
       "      <td>346854</td>\n",
       "    </tr>\n",
       "    <tr>\n",
       "      <th>383</th>\n",
       "      <td>2019-08-03</td>\n",
       "      <td>B</td>\n",
       "      <td>54</td>\n",
       "      <td>53</td>\n",
       "      <td>288850</td>\n",
       "    </tr>\n",
       "    <tr>\n",
       "      <th>499</th>\n",
       "      <td>2019-08-04</td>\n",
       "      <td>A</td>\n",
       "      <td>77</td>\n",
       "      <td>71</td>\n",
       "      <td>388030</td>\n",
       "    </tr>\n",
       "    <tr>\n",
       "      <th>498</th>\n",
       "      <td>2019-08-04</td>\n",
       "      <td>B</td>\n",
       "      <td>68</td>\n",
       "      <td>66</td>\n",
       "      <td>385740</td>\n",
       "    </tr>\n",
       "    <tr>\n",
       "      <th>719</th>\n",
       "      <td>2019-08-05</td>\n",
       "      <td>A</td>\n",
       "      <td>99</td>\n",
       "      <td>92</td>\n",
       "      <td>474413</td>\n",
       "    </tr>\n",
       "    <tr>\n",
       "      <th>699</th>\n",
       "      <td>2019-08-05</td>\n",
       "      <td>B</td>\n",
       "      <td>89</td>\n",
       "      <td>87</td>\n",
       "      <td>475648</td>\n",
       "    </tr>\n",
       "  </tbody>\n",
       "</table>\n",
       "</div>"
      ],
      "text/plain": [
       "          date group  transactionid  visitorid  revenue\n",
       "55  2019-08-01     A             23         19   142779\n",
       "66  2019-08-01     B             17         17    59758\n",
       "175 2019-08-02     A             42         36   234381\n",
       "173 2019-08-02     B             40         39   221801\n",
       "291 2019-08-03     A             66         60   346854\n",
       "383 2019-08-03     B             54         53   288850\n",
       "499 2019-08-04     A             77         71   388030\n",
       "498 2019-08-04     B             68         66   385740\n",
       "719 2019-08-05     A             99         92   474413\n",
       "699 2019-08-05     B             89         87   475648"
      ]
     },
     "metadata": {},
     "output_type": "display_data"
    }
   ],
   "source": [
    "# cоздаем массив уникальных пар значений дат и групп теста\n",
    "datesGroups = orders[['date','group']].drop_duplicates() \n",
    "\n",
    "# собираем агрегированные кумулятивные по дням данные о заказах\n",
    "ordersAggregated = (datesGroups\n",
    "                    .apply(lambda x: orders[(orders['date'] <= x['date']) & (orders['group'] == x['group'])]\n",
    "                        .agg({'date':'max', 'group':'max', 'transactionid':pd.Series.nunique, 'visitorid':pd.Series.nunique, 'revenue':'sum'}), axis=1)\n",
    "                    .sort_values(by=['date','group']) \n",
    "                   )\n",
    "display(ordersAggregated.head(10))"
   ]
  },
  {
   "cell_type": "code",
   "execution_count": 15,
   "metadata": {},
   "outputs": [
    {
     "data": {
      "text/html": [
       "<div>\n",
       "<style scoped>\n",
       "    .dataframe tbody tr th:only-of-type {\n",
       "        vertical-align: middle;\n",
       "    }\n",
       "\n",
       "    .dataframe tbody tr th {\n",
       "        vertical-align: top;\n",
       "    }\n",
       "\n",
       "    .dataframe thead th {\n",
       "        text-align: right;\n",
       "    }\n",
       "</style>\n",
       "<table border=\"1\" class=\"dataframe\">\n",
       "  <thead>\n",
       "    <tr style=\"text-align: right;\">\n",
       "      <th></th>\n",
       "      <th>date</th>\n",
       "      <th>group</th>\n",
       "      <th>visitors</th>\n",
       "    </tr>\n",
       "  </thead>\n",
       "  <tbody>\n",
       "    <tr>\n",
       "      <th>55</th>\n",
       "      <td>2019-08-01</td>\n",
       "      <td>A</td>\n",
       "      <td>719</td>\n",
       "    </tr>\n",
       "    <tr>\n",
       "      <th>66</th>\n",
       "      <td>2019-08-01</td>\n",
       "      <td>B</td>\n",
       "      <td>713</td>\n",
       "    </tr>\n",
       "    <tr>\n",
       "      <th>175</th>\n",
       "      <td>2019-08-02</td>\n",
       "      <td>A</td>\n",
       "      <td>1338</td>\n",
       "    </tr>\n",
       "    <tr>\n",
       "      <th>173</th>\n",
       "      <td>2019-08-02</td>\n",
       "      <td>B</td>\n",
       "      <td>1294</td>\n",
       "    </tr>\n",
       "    <tr>\n",
       "      <th>291</th>\n",
       "      <td>2019-08-03</td>\n",
       "      <td>A</td>\n",
       "      <td>1845</td>\n",
       "    </tr>\n",
       "    <tr>\n",
       "      <th>383</th>\n",
       "      <td>2019-08-03</td>\n",
       "      <td>B</td>\n",
       "      <td>1803</td>\n",
       "    </tr>\n",
       "    <tr>\n",
       "      <th>499</th>\n",
       "      <td>2019-08-04</td>\n",
       "      <td>A</td>\n",
       "      <td>2562</td>\n",
       "    </tr>\n",
       "    <tr>\n",
       "      <th>498</th>\n",
       "      <td>2019-08-04</td>\n",
       "      <td>B</td>\n",
       "      <td>2573</td>\n",
       "    </tr>\n",
       "    <tr>\n",
       "      <th>719</th>\n",
       "      <td>2019-08-05</td>\n",
       "      <td>A</td>\n",
       "      <td>3318</td>\n",
       "    </tr>\n",
       "    <tr>\n",
       "      <th>699</th>\n",
       "      <td>2019-08-05</td>\n",
       "      <td>B</td>\n",
       "      <td>3280</td>\n",
       "    </tr>\n",
       "  </tbody>\n",
       "</table>\n",
       "</div>"
      ],
      "text/plain": [
       "          date group  visitors\n",
       "55  2019-08-01     A       719\n",
       "66  2019-08-01     B       713\n",
       "175 2019-08-02     A      1338\n",
       "173 2019-08-02     B      1294\n",
       "291 2019-08-03     A      1845\n",
       "383 2019-08-03     B      1803\n",
       "499 2019-08-04     A      2562\n",
       "498 2019-08-04     B      2573\n",
       "719 2019-08-05     A      3318\n",
       "699 2019-08-05     B      3280"
      ]
     },
     "metadata": {},
     "output_type": "display_data"
    }
   ],
   "source": [
    "# собираем агрегированные кумулятивные по дням данные о посетителях\n",
    "visitorsAggregated = (datesGroups\n",
    "                      .apply(lambda x: visitors[(visitors['date'] <= x['date']) & (visitors['group'] == x['group'])]\n",
    "                          .agg({'date' : 'max', 'group' : 'max', 'visitors' : 'sum'}), axis=1)\n",
    "                      .sort_values(by=['date','group'])\n",
    "                     )\n",
    "display(visitorsAggregated.head(10))"
   ]
  },
  {
   "cell_type": "code",
   "execution_count": 16,
   "metadata": {},
   "outputs": [
    {
     "data": {
      "text/html": [
       "<div>\n",
       "<style scoped>\n",
       "    .dataframe tbody tr th:only-of-type {\n",
       "        vertical-align: middle;\n",
       "    }\n",
       "\n",
       "    .dataframe tbody tr th {\n",
       "        vertical-align: top;\n",
       "    }\n",
       "\n",
       "    .dataframe thead th {\n",
       "        text-align: right;\n",
       "    }\n",
       "</style>\n",
       "<table border=\"1\" class=\"dataframe\">\n",
       "  <thead>\n",
       "    <tr style=\"text-align: right;\">\n",
       "      <th></th>\n",
       "      <th>date</th>\n",
       "      <th>group</th>\n",
       "      <th>orders</th>\n",
       "      <th>buyers</th>\n",
       "      <th>revenue</th>\n",
       "      <th>visitors</th>\n",
       "    </tr>\n",
       "  </thead>\n",
       "  <tbody>\n",
       "    <tr>\n",
       "      <th>0</th>\n",
       "      <td>2019-08-01</td>\n",
       "      <td>A</td>\n",
       "      <td>23</td>\n",
       "      <td>19</td>\n",
       "      <td>142779</td>\n",
       "      <td>719</td>\n",
       "    </tr>\n",
       "    <tr>\n",
       "      <th>1</th>\n",
       "      <td>2019-08-01</td>\n",
       "      <td>B</td>\n",
       "      <td>17</td>\n",
       "      <td>17</td>\n",
       "      <td>59758</td>\n",
       "      <td>713</td>\n",
       "    </tr>\n",
       "    <tr>\n",
       "      <th>2</th>\n",
       "      <td>2019-08-02</td>\n",
       "      <td>A</td>\n",
       "      <td>42</td>\n",
       "      <td>36</td>\n",
       "      <td>234381</td>\n",
       "      <td>1338</td>\n",
       "    </tr>\n",
       "    <tr>\n",
       "      <th>3</th>\n",
       "      <td>2019-08-02</td>\n",
       "      <td>B</td>\n",
       "      <td>40</td>\n",
       "      <td>39</td>\n",
       "      <td>221801</td>\n",
       "      <td>1294</td>\n",
       "    </tr>\n",
       "    <tr>\n",
       "      <th>4</th>\n",
       "      <td>2019-08-03</td>\n",
       "      <td>A</td>\n",
       "      <td>66</td>\n",
       "      <td>60</td>\n",
       "      <td>346854</td>\n",
       "      <td>1845</td>\n",
       "    </tr>\n",
       "    <tr>\n",
       "      <th>5</th>\n",
       "      <td>2019-08-03</td>\n",
       "      <td>B</td>\n",
       "      <td>54</td>\n",
       "      <td>53</td>\n",
       "      <td>288850</td>\n",
       "      <td>1803</td>\n",
       "    </tr>\n",
       "    <tr>\n",
       "      <th>6</th>\n",
       "      <td>2019-08-04</td>\n",
       "      <td>A</td>\n",
       "      <td>77</td>\n",
       "      <td>71</td>\n",
       "      <td>388030</td>\n",
       "      <td>2562</td>\n",
       "    </tr>\n",
       "    <tr>\n",
       "      <th>7</th>\n",
       "      <td>2019-08-04</td>\n",
       "      <td>B</td>\n",
       "      <td>68</td>\n",
       "      <td>66</td>\n",
       "      <td>385740</td>\n",
       "      <td>2573</td>\n",
       "    </tr>\n",
       "    <tr>\n",
       "      <th>8</th>\n",
       "      <td>2019-08-05</td>\n",
       "      <td>A</td>\n",
       "      <td>99</td>\n",
       "      <td>92</td>\n",
       "      <td>474413</td>\n",
       "      <td>3318</td>\n",
       "    </tr>\n",
       "    <tr>\n",
       "      <th>9</th>\n",
       "      <td>2019-08-05</td>\n",
       "      <td>B</td>\n",
       "      <td>89</td>\n",
       "      <td>87</td>\n",
       "      <td>475648</td>\n",
       "      <td>3280</td>\n",
       "    </tr>\n",
       "  </tbody>\n",
       "</table>\n",
       "</div>"
      ],
      "text/plain": [
       "        date group  orders  buyers  revenue  visitors\n",
       "0 2019-08-01     A      23      19   142779       719\n",
       "1 2019-08-01     B      17      17    59758       713\n",
       "2 2019-08-02     A      42      36   234381      1338\n",
       "3 2019-08-02     B      40      39   221801      1294\n",
       "4 2019-08-03     A      66      60   346854      1845\n",
       "5 2019-08-03     B      54      53   288850      1803\n",
       "6 2019-08-04     A      77      71   388030      2562\n",
       "7 2019-08-04     B      68      66   385740      2573\n",
       "8 2019-08-05     A      99      92   474413      3318\n",
       "9 2019-08-05     B      89      87   475648      3280"
      ]
     },
     "metadata": {},
     "output_type": "display_data"
    }
   ],
   "source": [
    "# объединяем кумулятивные данные в одной таблице\n",
    "cumulativeData = ordersAggregated.merge(visitorsAggregated, left_on=['date', 'group'], right_on=['date', 'group'])\n",
    "cumulativeData.columns = ['date', 'group', 'orders', 'buyers', 'revenue', 'visitors']\n",
    "\n",
    "display(cumulativeData.head(10)) "
   ]
  },
  {
   "cell_type": "code",
   "execution_count": 17,
   "metadata": {},
   "outputs": [
    {
     "data": {
      "image/png": "[encoded data removed]",
      "text/plain": [
       "<Figure size 720x360 with 1 Axes>"
      ]
     },
     "metadata": {
      "needs_background": "light"
     },
     "output_type": "display_data"
    }
   ],
   "source": [
    "# датафрейм с кумулятивным количеством заказов и кумулятивной выручкой по дням в группе А\n",
    "cumulativeRevenueA = cumulativeData[cumulativeData['group']=='A'][['date','revenue', 'orders']]\n",
    "\n",
    "# датафрейм с кумулятивным количеством заказов и кумулятивной выручкой по дням в группе B\n",
    "cumulativeRevenueB = cumulativeData[cumulativeData['group']=='B'][['date','revenue', 'orders']]\n",
    "\n",
    "plt.figure(figsize=(10,5))\n",
    "# Строим график выручки группы А\n",
    "plt.plot(cumulativeRevenueA['date'], cumulativeRevenueA['revenue'], label='A')\n",
    "\n",
    "# Строим график выручки группы B\n",
    "plt.plot(cumulativeRevenueB['date'], cumulativeRevenueB['revenue'], label='B')\n",
    "\n",
    "plt.title('График кумулятивной выручки по группам')\n",
    "plt.xlabel('Дата')\n",
    "plt.ylabel(\"Кумулятивная выручка\")\n",
    "plt.xticks(rotation=45)\n",
    "plt.legend()\n",
    "plt.show()"
   ]
  },
  {
   "cell_type": "markdown",
   "metadata": {},
   "source": [
    "#### Вывод\n",
    "\n",
    "- В группе А выручка равномерно увеличивается на протяжении всего теста.\n",
    "- В группе В выручка также показывает рост. И с середины проведения теста дает резкое увеличение, и затем снова плавный рост. Это может быть связано с тем, что при проведении теста был всплекск стоимости либо количества заказов в группе В. Разберемся позже.\n",
    "- За все время проведения теста выручка в группе В выше, чем в группе А, за исключением первых пяти дней."
   ]
  },
  {
   "cell_type": "markdown",
   "metadata": {},
   "source": [
    "#### Построение графика кумулятивного среднего чека по группам. "
   ]
  },
  {
   "cell_type": "code",
   "execution_count": 18,
   "metadata": {},
   "outputs": [
    {
     "data": {
      "image/png": "[encoded data removed]",
      "text/plain": [
       "<Figure size 720x360 with 1 Axes>"
      ]
     },
     "metadata": {
      "needs_background": "light"
     },
     "output_type": "display_data"
    }
   ],
   "source": [
    "plt.figure(figsize=(10,5))\n",
    "plt.plot(cumulativeRevenueA['date'], cumulativeRevenueA['revenue']/cumulativeRevenueA['orders'], label='A')\n",
    "plt.plot(cumulativeRevenueB['date'], cumulativeRevenueB['revenue']/cumulativeRevenueB['orders'], label='B')\n",
    "plt.title('Кумулятивный средний чек по группам')\n",
    "plt.xlabel('Дата')\n",
    "plt.ylabel('Кумулятивный средний чек')\n",
    "plt.xticks(rotation=45)\n",
    "plt.legend() \n",
    "plt.show()"
   ]
  },
  {
   "cell_type": "markdown",
   "metadata": {},
   "source": [
    "#### Вывод\n",
    "\n",
    "- Средний чек в группе А снижается в первые пять дней, затем идет на увеличение и к середине теста выравнивается.\n",
    "- Средний чек в группе В постепенно растет с первого дня проведения теста, но с 20-го дня наблюдается резкий скачек на увеличение и затем постепенное плавное снижение (незначительное). Это могло быть связано с аномалиями (проведение нескольких покупок с высокой стоимостью). Проверим в дальнейшем аномалии. "
   ]
  },
  {
   "cell_type": "markdown",
   "metadata": {},
   "source": [
    "#### Построение графика относительного изменения кумулятивного среднего чека группы B к группе A. "
   ]
  },
  {
   "cell_type": "code",
   "execution_count": 19,
   "metadata": {},
   "outputs": [
    {
     "data": {
      "image/png": "[encoded data removed]",
      "text/plain": [
       "<Figure size 720x360 with 1 Axes>"
      ]
     },
     "metadata": {
      "needs_background": "light"
     },
     "output_type": "display_data"
    }
   ],
   "source": [
    "# собираем данные в одном датафрейме\n",
    "mergedCumulativeRevenue = cumulativeRevenueA.merge(cumulativeRevenueB, left_on='date', right_on='date', how='left', suffixes=['A', 'B'])\n",
    "\n",
    "plt.figure(figsize=(10,5))\n",
    "# cтроим отношение средних чеков\n",
    "plt.plot(mergedCumulativeRevenue['date'], (mergedCumulativeRevenue['revenueB']/mergedCumulativeRevenue['ordersB'])/(mergedCumulativeRevenue['revenueA']/mergedCumulativeRevenue['ordersA'])-1)\n",
    "\n",
    "# добавляем ось X\n",
    "plt.axhline(y=0, color='black', linestyle='--') \n",
    "plt.title('График относительного изменения кумулятивного среднего чека группы B к группе A')\n",
    "plt.xlabel('Дата')\n",
    "plt.ylabel('(ср.чек В/ср.чек А) -1')\n",
    "plt.xticks(rotation=45)\n",
    "plt.show()"
   ]
  },
  {
   "cell_type": "markdown",
   "metadata": {},
   "source": [
    "#### Вывод\n",
    "\n",
    "Наблюдаем на графике относительного изменения кумулятивного среднего чека группы B к группе A резкие изменения на повышение и понижение показателей в середине проведения теста. Есть предположения о наличии аномалий (выбросов). Поработаем в дальнейшем с этим.\n",
    "\n"
   ]
  },
  {
   "cell_type": "markdown",
   "metadata": {},
   "source": [
    "#### Построение графика кумулятивной конверсии по группам. "
   ]
  },
  {
   "cell_type": "code",
   "execution_count": 20,
   "metadata": {},
   "outputs": [
    {
     "data": {
      "image/png": "[encoded data removed]",
      "text/plain": [
       "<Figure size 720x360 with 1 Axes>"
      ]
     },
     "metadata": {
      "needs_background": "light"
     },
     "output_type": "display_data"
    }
   ],
   "source": [
    "# считаем кумулятивную конверсию\n",
    "cumulativeData['conversion'] = cumulativeData['orders']/cumulativeData['visitors']\n",
    "\n",
    "# отделяем данные по группе A\n",
    "cumulativeDataA = cumulativeData[cumulativeData['group']=='A']\n",
    "\n",
    "# отделяем данные по группе B\n",
    "cumulativeDataB = cumulativeData[cumulativeData['group']=='B']\n",
    "\n",
    "# строим графики\n",
    "\n",
    "plt.figure(figsize=(10,5))\n",
    "plt.plot(cumulativeDataA['date'], cumulativeDataA['conversion'], label='A')\n",
    "plt.plot(cumulativeDataB['date'], cumulativeDataB['conversion'], label='B')\n",
    "plt.legend()\n",
    "plt.title('Кумулятивная конверсия по группам')\n",
    "plt.xlabel('Дата')\n",
    "plt.ylabel('Конверсия')\n",
    "plt.xticks(rotation=45)\n",
    "plt.show()\n",
    "\n",
    "\n"
   ]
  },
  {
   "cell_type": "markdown",
   "metadata": {},
   "source": [
    "#### Вывод.\n",
    "\n",
    "- Кумулятивная конверсия группы А первые дни проведения теста имела резкий краткосрочный рост и в течение 1-2 дней пошла на резкое снижение, которое стабилизировалось на восьмой-десятый день.\n",
    "- Кумулятивная конверсия группы В в первые два дня имела скачек на повышение показателя, затем резкое снижение на 4-й день проведения теста, после чего конверсия с 10-го дня стабилизировалась.\n",
    "- Кумулятивная конверсия группы В с пятого дня проведения теста стабильно выше конверсии группы А.\n",
    "- Скачки в показателях кумулятивной конверсии в первые дни проведения теста могут быть связаны с аномалиями. Проверим в дальнейшем."
   ]
  },
  {
   "cell_type": "markdown",
   "metadata": {},
   "source": [
    "#### Построение графика относительного изменения кумулятивной конверсии группы B к группе A. "
   ]
  },
  {
   "cell_type": "code",
   "execution_count": 21,
   "metadata": {},
   "outputs": [
    {
     "data": {
      "image/png": "[encoded data removed]",
      "text/plain": [
       "<Figure size 720x360 with 1 Axes>"
      ]
     },
     "metadata": {
      "needs_background": "light"
     },
     "output_type": "display_data"
    }
   ],
   "source": [
    "mergedCumulativeConversions = cumulativeDataA[['date','conversion']].merge(cumulativeDataB[['date','conversion']], left_on='date', right_on='date', how='left', suffixes=['A', 'B'])\n",
    "plt.figure(figsize=(10,5))\n",
    "plt.plot(mergedCumulativeConversions['date'], mergedCumulativeConversions['conversionB']/mergedCumulativeConversions['conversionA']-1)\n",
    "\n",
    "plt.axhline(y=0, color='black', linestyle='--')\n",
    "plt.axhline(y=0.2, color='red', linestyle='--')\n",
    "\n",
    "plt.title('Относительное изменение кумулятивной конверсии группы В к группе А')\n",
    "plt.xlabel('Дата')\n",
    "plt.ylabel('(конверсия В/конверсия А) -1')\n",
    "plt.xticks(rotation=45)\n",
    "plt.show()"
   ]
  },
  {
   "cell_type": "markdown",
   "metadata": {},
   "source": [
    "#### Вывод.\n",
    "\n",
    "Из графика относительного различия конверсии группы В к группе А видим, что с 3-го дня после начала проведения теста группа В лидирует по кумулятивной конверсии и зафиксировалась около прироста в 15 % относительно группы А. "
   ]
  },
  {
   "cell_type": "markdown",
   "metadata": {},
   "source": [
    "#### Построение точечного графика количества заказов по пользователям. "
   ]
  },
  {
   "cell_type": "code",
   "execution_count": 22,
   "metadata": {},
   "outputs": [
    {
     "name": "stdout",
     "output_type": "stream",
     "text": [
      "      visitorid  orders\n",
      "908  3967698036       3\n",
      "55    249864742       3\n",
      "478  2108163459       3\n",
      "687  2988190573       3\n",
      "890  3908431265       3\n",
      "138   611059232       3\n",
      "632  2742574263       3\n",
      "157   678354126       2\n",
      "323  1404560065       2\n",
      "452  1985475298       2\n",
      "\n",
      "count    973.000000\n",
      "mean       1.044193\n",
      "std        0.238090\n",
      "min        1.000000\n",
      "25%        1.000000\n",
      "50%        1.000000\n",
      "75%        1.000000\n",
      "max        3.000000\n",
      "Name: orders, dtype: float64\n"
     ]
    },
    {
     "data": {
      "image/png": "[encoded data removed]",
      "text/plain": [
       "<Figure size 720x360 with 1 Axes>"
      ]
     },
     "metadata": {
      "needs_background": "light"
     },
     "output_type": "display_data"
    }
   ],
   "source": [
    "ordersByUsers = orders.drop(['group', 'revenue', 'date'], axis=1).groupby('visitorid', as_index=False).agg({'transactionid' : pd.Series.nunique})\n",
    "ordersByUsers.columns = ['visitorid','orders']\n",
    "\n",
    "print(ordersByUsers.sort_values(by='orders', ascending=False).head(10))\n",
    "print()\n",
    "print(ordersByUsers['orders'].describe())\n",
    "\n",
    "plt.figure(figsize=(10,5))\n",
    "plt.title('Количество заказов по пользователям')\n",
    "\n",
    "# серия из чисел от 0 до количества наблюдений в ordersByUsers\n",
    "x_values = pd.Series(range(0, len(ordersByUsers)))\n",
    "plt.scatter(x_values, ordersByUsers['orders']) \n",
    "plt.show()"
   ]
  },
  {
   "cell_type": "markdown",
   "metadata": {},
   "source": [
    "#### Вывод.\n",
    "\n",
    "Видим преобладание заказов по пользователям в количестве одного-двух. Есть пользователи с заказами в количестве 10-11, но их мало, исходя из графика, и для понимания того, считать это выбросами или нет, определим их долю."
   ]
  },
  {
   "cell_type": "markdown",
   "metadata": {},
   "source": [
    "#### Расчет 95-й и 99-й перцентили количества заказов на пользователя. Определение границы для определения аномальных пользователей."
   ]
  },
  {
   "cell_type": "code",
   "execution_count": 23,
   "metadata": {},
   "outputs": [
    {
     "name": "stdout",
     "output_type": "stream",
     "text": [
      "[1. 1. 2.]\n"
     ]
    }
   ],
   "source": [
    "# Метод np.percentile('column', [percentile1, percentile2, percentile3]) находит перцентили.\n",
    "print(np.percentile(ordersByUsers['orders'], [90, 95, 99])) "
   ]
  },
  {
   "cell_type": "markdown",
   "metadata": {},
   "source": [
    "#### Вывод\n",
    "\n",
    "Не более 5 % пользователей совершали покупки более 1-го раза, и не более 1 % пользователей - более 2-х заказов. Исходя из расчета перцентилей определим верхнюю границу в 2 заказа на одного пользователя."
   ]
  },
  {
   "cell_type": "markdown",
   "metadata": {},
   "source": [
    "#### Построение точечного графика стоимостей заказов. "
   ]
  },
  {
   "cell_type": "code",
   "execution_count": 24,
   "metadata": {},
   "outputs": [
    {
     "name": "stdout",
     "output_type": "stream",
     "text": [
      "      transactionid   visitorid       date  revenue group\n",
      "425       590470918  1920142716 2019-08-19  1294500     B\n",
      "1196     3936777065  2108080724 2019-08-15   202740     B\n",
      "1136      666610489  1307669133 2019-08-13    92550     A\n",
      "744      3668308183   888512513 2019-08-27    86620     B\n",
      "743      3603576309  4133034833 2019-08-09    67990     A\n",
      "1103     1348774318  1164614297 2019-08-12    66350     A\n",
      "1099      316924019   148427295 2019-08-12    65710     A\n",
      "949      1347999392   887908475 2019-08-21    60450     A\n",
      "940      2420050534  4003628586 2019-08-08    58550     B\n",
      "131      3163614039  2254586615 2019-08-22    53904     A\n"
     ]
    },
    {
     "data": {
      "text/plain": [
       "count    1.016000e+03\n",
       "mean     8.300815e+03\n",
       "std      4.212199e+04\n",
       "min      5.000000e+01\n",
       "25%      1.190000e+03\n",
       "50%      2.955000e+03\n",
       "75%      8.134250e+03\n",
       "max      1.294500e+06\n",
       "Name: revenue, dtype: float64"
      ]
     },
     "metadata": {},
     "output_type": "display_data"
    },
    {
     "data": {
      "image/png": "[encoded data removed]",
      "text/plain": [
       "<Figure size 720x360 with 1 Axes>"
      ]
     },
     "metadata": {
      "needs_background": "light"
     },
     "output_type": "display_data"
    },
    {
     "data": {
      "image/png": "[encoded data removed]",
      "text/plain": [
       "<Figure size 720x360 with 1 Axes>"
      ]
     },
     "metadata": {
      "needs_background": "light"
     },
     "output_type": "display_data"
    }
   ],
   "source": [
    "print(orders.sort_values(by='revenue', ascending=False).head(10))\n",
    "display(orders['revenue'].describe())\n",
    "\n",
    "plt.figure(figsize=(10,5))\n",
    "x_values = pd.Series(range(0, len(orders['revenue'])))\n",
    "plt.scatter(x_values, orders['revenue']) \n",
    "plt.title('Стоимость заказов')\n",
    "plt.show()\n",
    "\n",
    "plt.figure(figsize=(10,5))\n",
    "plt.ylim(0, 210000)\n",
    "plt.scatter(x_values, orders['revenue']) \n",
    "plt.title('Стоимость заказов', fontsize=12, fontweight='bold')\n",
    "plt.show()"
   ]
  },
  {
   "cell_type": "markdown",
   "metadata": {},
   "source": [
    "#### Вывод.\n",
    "\n",
    "На графике видим два очень крупных заказа: один на 1294500 у.е., второй выбивающийся заказ на сумму 202740 у.е. Эти заказы могут существенно влиять на результаты теста. Для уточнения нужно определить верхнюю границу заказа."
   ]
  },
  {
   "cell_type": "markdown",
   "metadata": {},
   "source": [
    "#### Расчет 95-й и 99-й перцентили стоимости заказов. Выбор границы для определения аномальных заказов."
   ]
  },
  {
   "cell_type": "code",
   "execution_count": 25,
   "metadata": {},
   "outputs": [
    {
     "name": "stdout",
     "output_type": "stream",
     "text": [
      "[17990. 26785. 53904.]\n"
     ]
    }
   ],
   "source": [
    "print(np.percentile(orders['revenue'], [90, 95, 99])) "
   ]
  },
  {
   "cell_type": "markdown",
   "metadata": {},
   "source": [
    "#### Вывод.\n",
    "\n",
    "Не более 10% пользователей совершали заказы на сумму больше 17 990 у.е., не более 5 % пользователей - на сумму не превышающую 26 785 у.е. Исходя из расчета перцентилей, определим верхнюю границу стоимости заказов для анализа теста в 27 000 у.е."
   ]
  },
  {
   "cell_type": "markdown",
   "metadata": {},
   "source": [
    "#### Расчет статистической значимости различий в конверсии между группами по «сырым» данным."
   ]
  },
  {
   "cell_type": "code",
   "execution_count": 26,
   "metadata": {},
   "outputs": [
    {
     "data": {
      "text/html": [
       "<div>\n",
       "<style scoped>\n",
       "    .dataframe tbody tr th:only-of-type {\n",
       "        vertical-align: middle;\n",
       "    }\n",
       "\n",
       "    .dataframe tbody tr th {\n",
       "        vertical-align: top;\n",
       "    }\n",
       "\n",
       "    .dataframe thead th {\n",
       "        text-align: right;\n",
       "    }\n",
       "</style>\n",
       "<table border=\"1\" class=\"dataframe\">\n",
       "  <thead>\n",
       "    <tr style=\"text-align: right;\">\n",
       "      <th></th>\n",
       "      <th>date</th>\n",
       "      <th>ordersPerDateA</th>\n",
       "      <th>revenuePerDateA</th>\n",
       "      <th>ordersPerDateB</th>\n",
       "      <th>revenuePerDateB</th>\n",
       "      <th>ordersCummulativeA</th>\n",
       "      <th>revenueCummulativeA</th>\n",
       "      <th>ordersCummulativeB</th>\n",
       "      <th>revenueCummulativeB</th>\n",
       "      <th>visitorsPerDateA</th>\n",
       "      <th>visitorsPerDateB</th>\n",
       "      <th>visitorsCummulativeA</th>\n",
       "      <th>visitorsCummulativeB</th>\n",
       "    </tr>\n",
       "  </thead>\n",
       "  <tbody>\n",
       "    <tr>\n",
       "      <th>0</th>\n",
       "      <td>2019-08-01</td>\n",
       "      <td>23</td>\n",
       "      <td>142779</td>\n",
       "      <td>17</td>\n",
       "      <td>59758</td>\n",
       "      <td>23</td>\n",
       "      <td>142779</td>\n",
       "      <td>17</td>\n",
       "      <td>59758</td>\n",
       "      <td>719</td>\n",
       "      <td>713</td>\n",
       "      <td>719</td>\n",
       "      <td>713</td>\n",
       "    </tr>\n",
       "    <tr>\n",
       "      <th>1</th>\n",
       "      <td>2019-08-02</td>\n",
       "      <td>19</td>\n",
       "      <td>91602</td>\n",
       "      <td>23</td>\n",
       "      <td>162043</td>\n",
       "      <td>42</td>\n",
       "      <td>234381</td>\n",
       "      <td>40</td>\n",
       "      <td>221801</td>\n",
       "      <td>619</td>\n",
       "      <td>581</td>\n",
       "      <td>1338</td>\n",
       "      <td>1294</td>\n",
       "    </tr>\n",
       "    <tr>\n",
       "      <th>2</th>\n",
       "      <td>2019-08-03</td>\n",
       "      <td>24</td>\n",
       "      <td>112473</td>\n",
       "      <td>14</td>\n",
       "      <td>67049</td>\n",
       "      <td>66</td>\n",
       "      <td>346854</td>\n",
       "      <td>54</td>\n",
       "      <td>288850</td>\n",
       "      <td>507</td>\n",
       "      <td>509</td>\n",
       "      <td>1845</td>\n",
       "      <td>1803</td>\n",
       "    </tr>\n",
       "    <tr>\n",
       "      <th>3</th>\n",
       "      <td>2019-08-04</td>\n",
       "      <td>11</td>\n",
       "      <td>41176</td>\n",
       "      <td>14</td>\n",
       "      <td>96890</td>\n",
       "      <td>77</td>\n",
       "      <td>388030</td>\n",
       "      <td>68</td>\n",
       "      <td>385740</td>\n",
       "      <td>717</td>\n",
       "      <td>770</td>\n",
       "      <td>2562</td>\n",
       "      <td>2573</td>\n",
       "    </tr>\n",
       "    <tr>\n",
       "      <th>4</th>\n",
       "      <td>2019-08-05</td>\n",
       "      <td>22</td>\n",
       "      <td>86383</td>\n",
       "      <td>21</td>\n",
       "      <td>89908</td>\n",
       "      <td>99</td>\n",
       "      <td>474413</td>\n",
       "      <td>89</td>\n",
       "      <td>475648</td>\n",
       "      <td>756</td>\n",
       "      <td>707</td>\n",
       "      <td>3318</td>\n",
       "      <td>3280</td>\n",
       "    </tr>\n",
       "    <tr>\n",
       "      <th>5</th>\n",
       "      <td>2019-08-06</td>\n",
       "      <td>15</td>\n",
       "      <td>40919</td>\n",
       "      <td>23</td>\n",
       "      <td>214842</td>\n",
       "      <td>114</td>\n",
       "      <td>515332</td>\n",
       "      <td>112</td>\n",
       "      <td>690490</td>\n",
       "      <td>667</td>\n",
       "      <td>655</td>\n",
       "      <td>3985</td>\n",
       "      <td>3935</td>\n",
       "    </tr>\n",
       "    <tr>\n",
       "      <th>6</th>\n",
       "      <td>2019-08-07</td>\n",
       "      <td>16</td>\n",
       "      <td>123248</td>\n",
       "      <td>23</td>\n",
       "      <td>219164</td>\n",
       "      <td>130</td>\n",
       "      <td>638580</td>\n",
       "      <td>135</td>\n",
       "      <td>909654</td>\n",
       "      <td>644</td>\n",
       "      <td>709</td>\n",
       "      <td>4629</td>\n",
       "      <td>4644</td>\n",
       "    </tr>\n",
       "    <tr>\n",
       "      <th>7</th>\n",
       "      <td>2019-08-08</td>\n",
       "      <td>14</td>\n",
       "      <td>88639</td>\n",
       "      <td>22</td>\n",
       "      <td>150141</td>\n",
       "      <td>144</td>\n",
       "      <td>727219</td>\n",
       "      <td>157</td>\n",
       "      <td>1059795</td>\n",
       "      <td>610</td>\n",
       "      <td>654</td>\n",
       "      <td>5239</td>\n",
       "      <td>5298</td>\n",
       "    </tr>\n",
       "    <tr>\n",
       "      <th>8</th>\n",
       "      <td>2019-08-09</td>\n",
       "      <td>11</td>\n",
       "      <td>134237</td>\n",
       "      <td>19</td>\n",
       "      <td>103166</td>\n",
       "      <td>155</td>\n",
       "      <td>861456</td>\n",
       "      <td>176</td>\n",
       "      <td>1162961</td>\n",
       "      <td>617</td>\n",
       "      <td>610</td>\n",
       "      <td>5856</td>\n",
       "      <td>5908</td>\n",
       "    </tr>\n",
       "    <tr>\n",
       "      <th>9</th>\n",
       "      <td>2019-08-10</td>\n",
       "      <td>15</td>\n",
       "      <td>152275</td>\n",
       "      <td>22</td>\n",
       "      <td>105162</td>\n",
       "      <td>170</td>\n",
       "      <td>1013731</td>\n",
       "      <td>198</td>\n",
       "      <td>1268123</td>\n",
       "      <td>406</td>\n",
       "      <td>369</td>\n",
       "      <td>6262</td>\n",
       "      <td>6277</td>\n",
       "    </tr>\n",
       "  </tbody>\n",
       "</table>\n",
       "</div>"
      ],
      "text/plain": [
       "        date  ordersPerDateA  revenuePerDateA  ordersPerDateB  \\\n",
       "0 2019-08-01              23           142779              17   \n",
       "1 2019-08-02              19            91602              23   \n",
       "2 2019-08-03              24           112473              14   \n",
       "3 2019-08-04              11            41176              14   \n",
       "4 2019-08-05              22            86383              21   \n",
       "5 2019-08-06              15            40919              23   \n",
       "6 2019-08-07              16           123248              23   \n",
       "7 2019-08-08              14            88639              22   \n",
       "8 2019-08-09              11           134237              19   \n",
       "9 2019-08-10              15           152275              22   \n",
       "\n",
       "   revenuePerDateB  ordersCummulativeA  revenueCummulativeA  \\\n",
       "0            59758                  23               142779   \n",
       "1           162043                  42               234381   \n",
       "2            67049                  66               346854   \n",
       "3            96890                  77               388030   \n",
       "4            89908                  99               474413   \n",
       "5           214842                 114               515332   \n",
       "6           219164                 130               638580   \n",
       "7           150141                 144               727219   \n",
       "8           103166                 155               861456   \n",
       "9           105162                 170              1013731   \n",
       "\n",
       "   ordersCummulativeB  revenueCummulativeB  visitorsPerDateA  \\\n",
       "0                  17                59758               719   \n",
       "1                  40               221801               619   \n",
       "2                  54               288850               507   \n",
       "3                  68               385740               717   \n",
       "4                  89               475648               756   \n",
       "5                 112               690490               667   \n",
       "6                 135               909654               644   \n",
       "7                 157              1059795               610   \n",
       "8                 176              1162961               617   \n",
       "9                 198              1268123               406   \n",
       "\n",
       "   visitorsPerDateB  visitorsCummulativeA  visitorsCummulativeB  \n",
       "0               713                   719                   713  \n",
       "1               581                  1338                  1294  \n",
       "2               509                  1845                  1803  \n",
       "3               770                  2562                  2573  \n",
       "4               707                  3318                  3280  \n",
       "5               655                  3985                  3935  \n",
       "6               709                  4629                  4644  \n",
       "7               654                  5239                  5298  \n",
       "8               610                  5856                  5908  \n",
       "9               369                  6262                  6277  "
      ]
     },
     "execution_count": 26,
     "metadata": {},
     "output_type": "execute_result"
    }
   ],
   "source": [
    "# Подготовим датафрейм с фактическими и кумулятивными данными по дням:\n",
    "\n",
    "visitorsADaily = visitors[visitors['group']=='A'][['date', 'visitors']]\n",
    "visitorsADaily.columns = ['date', 'visitorsPerDateA']\n",
    "\n",
    "visitorsACummulative = (visitorsADaily\n",
    "                        .apply(lambda x: visitorsADaily[visitorsADaily['date'] <= x['date']]\n",
    "                               .agg({'date':'max', 'visitorsPerDateA':'sum'}), axis=1)\n",
    "                       )\n",
    "visitorsACummulative.columns = ['date', 'visitorsCummulativeA']\n",
    "\n",
    "visitorsBDaily = visitors[visitors['group']=='B'][['date', 'visitors']]\n",
    "visitorsBDaily.columns = ['date', 'visitorsPerDateB']\n",
    "\n",
    "visitorsBCummulative = (visitorsBDaily\n",
    "                        .apply(lambda x: visitorsBDaily[visitorsBDaily['date'] <= x['date']]\n",
    "                               .agg({'date':'max', 'visitorsPerDateB':'sum'}), axis=1)\n",
    "                       )\n",
    "visitorsBCummulative.columns = ['date', 'visitorsCummulativeB']\n",
    "\n",
    "ordersADaily = (orders[orders['group']=='A'][['date', 'transactionid', 'visitorid', 'revenue']]\n",
    "                .groupby('date', as_index=False)\n",
    "                .agg({'transactionid':pd.Series.nunique, 'revenue':'sum'})\n",
    "               )\n",
    "ordersADaily.columns = ['date', 'ordersPerDateA', 'revenuePerDateA']\n",
    "\n",
    "ordersACummulative = (ordersADaily\n",
    "                      .apply(lambda x:ordersADaily[ordersADaily['date'] <= x['date']]\n",
    "                             .agg({\n",
    "                                    'date':'max',\n",
    "                                    'ordersPerDateA':'sum',\n",
    "                                    'revenuePerDateA':'sum'}), axis=1)\n",
    "                      .sort_values(by=['date'])\n",
    "                     )\n",
    "ordersACummulative.columns = ['date', 'ordersCummulativeA', 'revenueCummulativeA']\n",
    "\n",
    "ordersBDaily = (orders[orders['group']=='B'][['date', 'transactionid', 'visitorid', 'revenue']]\n",
    "                .groupby('date', as_index=False)\n",
    "                .agg({'transactionid':pd.Series.nunique, 'revenue':'sum'})\n",
    "               )\n",
    "ordersBDaily.columns = ['date', 'ordersPerDateB', 'revenuePerDateB']\n",
    "\n",
    "ordersBCummulative = (ordersBDaily\n",
    "                      .apply(lambda x: ordersBDaily[ordersBDaily['date'] <= x['date']]\n",
    "                             .agg({\n",
    "                                    'date':'max',\n",
    "                                    'ordersPerDateB':'sum',\n",
    "                                    'revenuePerDateB' : 'sum'}), axis=1)\n",
    "                      .sort_values(by=['date'])\n",
    "                     )\n",
    "ordersBCummulative.columns = ['date', 'ordersCummulativeB', 'revenueCummulativeB']\n",
    "\n",
    "data = (ordersADaily\n",
    "        .merge(ordersBDaily, left_on='date', right_on='date', how='left')\n",
    "        .merge(ordersACummulative, left_on='date', right_on='date', how='left')\n",
    "        .merge(ordersBCummulative, left_on='date', right_on='date', how='left')\n",
    "        .merge(visitorsADaily, left_on='date', right_on='date', how='left')\n",
    "        .merge(visitorsBDaily, left_on='date', right_on='date', how='left')\n",
    "        .merge(visitorsACummulative, left_on='date', right_on='date', how='left')\n",
    "        .merge(visitorsBCummulative, left_on='date', right_on='date', how='left')\n",
    "       )\n",
    "\n",
    "data.head(10)"
   ]
  },
  {
   "cell_type": "code",
   "execution_count": 27,
   "metadata": {},
   "outputs": [],
   "source": [
    "# создаем для каждой группы датафрейм с количеством заказов на пользователя\n",
    "\n",
    "ordersByUsersA = orders[orders['group']=='A'].groupby('visitorid', as_index=False).agg({'transactionid':pd.Series.nunique})\n",
    "ordersByUsersA.columns = ['visitorid', 'orders']\n",
    "\n",
    "ordersByUsersB = orders[orders['group']=='B'].groupby('visitorid', as_index=False).agg({'transactionid':pd.Series.nunique})\n",
    "ordersByUsersB.columns = ['visitorid', 'orders'] "
   ]
  },
  {
   "cell_type": "code",
   "execution_count": 28,
   "metadata": {},
   "outputs": [],
   "source": [
    "# создаем списки с числом заказов каждого пользователя, в том числе ноль\n",
    "\n",
    "sampleA = pd.concat([ordersByUsersA['orders'],\n",
    "                     pd.Series(0, index=np.arange(data['visitorsPerDateA'].sum() - len(ordersByUsersA['orders'])), name='orders')],axis=0)\n",
    "sampleB = pd.concat([ordersByUsersB['orders'],\n",
    "                     pd.Series(0, index=np.arange(data['visitorsPerDateB'].sum() - len(ordersByUsersB['orders'])), name='orders')],axis=0)"
   ]
  },
  {
   "cell_type": "markdown",
   "metadata": {},
   "source": [
    "Формулируем гипотезы:\n",
    "\n",
    "- H0 - нет различий между группами А и В\n",
    "- H1 -есть различия между группами А и В"
   ]
  },
  {
   "cell_type": "code",
   "execution_count": 29,
   "metadata": {},
   "outputs": [],
   "source": [
    "# Функция для проверки гипотезы о равенстве групп A и B\n",
    "def stat_sig(dataA, dataB):\n",
    "    # нулевая гипотеза H0: между группами dataA и dataB нет статистически значимой разницы\n",
    "    alpha = 0.05\n",
    "    p_value = stats.mannwhitneyu(dataA, dataB)[1]\n",
    "\n",
    "    print(\"P-value: {0:.3f}\".format(p_value))\n",
    "\n",
    "    if (p_value < alpha):\n",
    "        print(\"Отвергаем нулевую гипотезу: между группами по 'сырым' данным есть разница\")\n",
    "    else:\n",
    "        print(\"Не получилось отвергнуть нулевую гипотезу\")\n",
    "    \n",
    "    print(\"Относительный прирост показателя группы В к группе А: {0:.2%}\".format(dataB.mean()/dataA.mean()-1))\n",
    "    "
   ]
  },
  {
   "cell_type": "code",
   "execution_count": 30,
   "metadata": {},
   "outputs": [
    {
     "name": "stdout",
     "output_type": "stream",
     "text": [
      "P-value: 0.011\n",
      "Отвергаем нулевую гипотезу: между группами по 'сырым' данным есть разница\n",
      "Относительный прирост показателя группы В к группе А: 15.98%\n"
     ]
    }
   ],
   "source": [
    "stat_sig(sampleA, sampleB)"
   ]
  },
  {
   "cell_type": "markdown",
   "metadata": {},
   "source": [
    "#### Вывод.\n",
    "\n",
    " При анализе не очищенных от выбросов данных между конверсиями групп А и В есть статистически значимая разница. \n",
    "Относительный прирост конверсии группы В к группе А равен 15,98 %."
   ]
  },
  {
   "cell_type": "markdown",
   "metadata": {},
   "source": [
    "#### Расчет статистической значимости различий в среднем чеке заказа между группами по «сырым» данным."
   ]
  },
  {
   "cell_type": "code",
   "execution_count": 31,
   "metadata": {},
   "outputs": [
    {
     "name": "stdout",
     "output_type": "stream",
     "text": [
      "P-value: 0.829\n",
      "Не получилось отвергнуть нулевую гипотезу\n",
      "Относительный прирост показателя группы В к группе А: 28.66%\n"
     ]
    }
   ],
   "source": [
    "stat_sig(orders[orders['group']=='A']['revenue'], orders[orders['group']=='B']['revenue'])"
   ]
  },
  {
   "cell_type": "markdown",
   "metadata": {},
   "source": [
    "#### Вывод.\n",
    "\n",
    "Мы не смогли опровергнуть нулевую гипотезу, а это значит, что средний чек группы В по \"не очищенным\" (\"сырым\") данным не отличается от среднего чека группы А по тем же \"сырым\" данным. При этом прирост среднего чека группы В относительно группы А равен 28,66 %, однако данное различие не является статистически значимым.\n"
   ]
  },
  {
   "cell_type": "markdown",
   "metadata": {},
   "source": [
    "#### Расчет статистической значимости различий в конверсии между группами по «очищенным» данным."
   ]
  },
  {
   "cell_type": "code",
   "execution_count": 32,
   "metadata": {},
   "outputs": [
    {
     "name": "stdout",
     "output_type": "stream",
     "text": [
      "568     113298937\n",
      "1099    148427295\n",
      "928     204675465\n",
      "33      249864742\n",
      "684     358944393\n",
      "648     382846391\n",
      "58      611059232\n",
      "751     689129267\n",
      "1137    759473111\n",
      "77      787824685\n",
      "Name: visitorid, dtype: int64\n",
      "\n",
      "\u001b[1m Количество \"аномальных\" пользователей: 58\n"
     ]
    }
   ],
   "source": [
    "# выделим в данных \"аномальные\" показатели (пользователей совершивших более 3-х заказов и сумма заказа которых > 28000)\n",
    "\n",
    "usersWithManyOrders = pd.concat([ordersByUsersA[ordersByUsersA['orders'] > 2]['visitorid'], ordersByUsersB[ordersByUsersB['orders'] > 2]['visitorid']], axis = 0)\n",
    "usersWithExpensiveOrders = orders[orders['revenue'] > 27000]['visitorid']\n",
    "abnormalUsers = pd.concat([usersWithManyOrders, usersWithExpensiveOrders], axis = 0).drop_duplicates().sort_values()\n",
    "print(abnormalUsers.head(10))\n",
    "print()\n",
    "print('\\033[1m', 'Количество \"аномальных\" пользователей:', abnormalUsers.shape[0]) "
   ]
  },
  {
   "cell_type": "code",
   "execution_count": 33,
   "metadata": {},
   "outputs": [],
   "source": [
    "# cоздаем списки с числом заказов каждого пользователя с очищенными данными (нули включаем)\n",
    "\n",
    "sampleAFiltered = pd.concat([ordersByUsersA[~(ordersByUsersA['visitorid'].isin(abnormalUsers))]['orders'],pd.Series(0, index=np.arange(data['visitorsPerDateA'].sum() - len(ordersByUsersA['orders'])),name='orders')],axis=0)\n",
    "sampleBFiltered = pd.concat([ordersByUsersB[~(ordersByUsersB['visitorid'].isin(abnormalUsers))]['orders'],pd.Series(0, index=np.arange(data['visitorsPerDateB'].sum() - len(ordersByUsersB['orders'])),name='orders')],axis=0)\n"
   ]
  },
  {
   "cell_type": "code",
   "execution_count": 34,
   "metadata": {},
   "outputs": [
    {
     "name": "stdout",
     "output_type": "stream",
     "text": [
      "P-value: 0.012\n",
      "Отвергаем нулевую гипотезу: между группами по 'сырым' данным есть разница\n",
      "Относительный прирост показателя группы В к группе А: 18.19%\n"
     ]
    }
   ],
   "source": [
    "stat_sig(sampleAFiltered, sampleBFiltered)"
   ]
  },
  {
   "cell_type": "markdown",
   "metadata": {},
   "source": [
    "#### Вывод.\n",
    "\n",
    "При анализе очищенных данных между конверсиями групп А и В есть статистически значимая разница. Что не отличается от выводов с \"сырыми\" данными анализа конверсии по группам. Относительный прирост конверсии группы В к группе А равен 18,19 % (по сравнению с не очищенными данными наблюдаем увеличение на 2%).\n",
    "\n"
   ]
  },
  {
   "cell_type": "markdown",
   "metadata": {},
   "source": [
    "#### Расчет статистической значимости различий в среднем чеке заказа между группами по «очищенным» данным. "
   ]
  },
  {
   "cell_type": "code",
   "execution_count": 35,
   "metadata": {},
   "outputs": [
    {
     "name": "stdout",
     "output_type": "stream",
     "text": [
      "P-value: 0.646\n",
      "Не получилось отвергнуть нулевую гипотезу\n",
      "Относительный прирост показателя группы В к группе А: -4.85%\n"
     ]
    }
   ],
   "source": [
    "stat_sig(orders[(orders['group']=='A') & ~(orders['visitorid'].isin(abnormalUsers))]['revenue'],orders[(orders['group']=='B') & ~(orders['visitorid'].isin(abnormalUsers))]['revenue'])\n"
   ]
  },
  {
   "cell_type": "markdown",
   "metadata": {},
   "source": [
    "#### Вывод\n",
    "\n",
    "При анализе \"очищенных\" данных  не получилось отвергнуть нулевую гипотезу, как и при анализе \"сырых\" данных. А это означает , что нет оснований утверждать, что средний чек группы В отличается от среднего чека группы А. По очищенным данным прирост среднего чека группы В относительно А  - отрицательный и равен - 4,85 %."
   ]
  },
  {
   "cell_type": "markdown",
   "metadata": {},
   "source": [
    "### Общий вывод.\n",
    "\n",
    "Выборка данных имеет корректный размер и проблема подглядывания в результате сравнения групп во время проведения теста была исключена.\n",
    "Кумулятивные метрики по выручке, среднему чеку и конверсии на протяжении анализа теста лидировали в группе B. \n",
    "\n",
    "Были предположения, что это лидирование искажено аномальными данными, которые мы исключили. И как показал анализ, аномальные данные не повлияли на результат теста, так как и по \"сырым\" и по очищенным от выбросов данным между КОНВЕРСИЯМИ групп А и В есть статистически значимая разница. Конверсия группы В выше, чем в А, примерно на 16-18 %.\n",
    "\n",
    " А вот после очистки данных разница между средними чеками групп стала минимальна, но это не приводит к сомнениям в проведении теста и его результатах. По \"сырым\" и по очищенным данным нет оснований считать, что средний чек группы В отличается от среднего чека группы А.\n",
    "\n",
    "График относительного изменения кумулятивной конверсии группы B к группе A показывает, что результаты группы В стабильно лучше группы А.\n",
    "Следовательно, на основании проведенного анализа А/В теста, разница показателей конверсии до и после очистки данных является статистически значимой, что является основанием следующего решения: А/В тест следует остановить и признать его успешным - фиксируем победу группы В. \n",
    "\n",
    "\n",
    "\n",
    "\n",
    "\n"
   ]
  }
 ],
 "metadata": {
  "ExecuteTimeLog": [
   {
    "duration": 1281,
    "start_time": "2022-04-10T14:42:49.031Z"
   },
   {
    "duration": 134,
    "start_time": "2022-04-10T14:43:45.984Z"
   },
   {
    "duration": 42,
    "start_time": "2022-04-10T14:44:10.202Z"
   },
   {
    "duration": 88,
    "start_time": "2022-04-10T14:50:55.888Z"
   },
   {
    "duration": 55,
    "start_time": "2022-04-10T14:53:53.168Z"
   },
   {
    "duration": 67,
    "start_time": "2022-04-10T14:58:38.538Z"
   },
   {
    "duration": 31,
    "start_time": "2022-04-10T15:00:20.949Z"
   },
   {
    "duration": 10,
    "start_time": "2022-04-10T15:07:38.227Z"
   },
   {
    "duration": 20,
    "start_time": "2022-04-10T15:09:55.872Z"
   },
   {
    "duration": 13,
    "start_time": "2022-04-10T15:11:37.783Z"
   },
   {
    "duration": 14,
    "start_time": "2022-04-10T15:39:44.461Z"
   },
   {
    "duration": 16,
    "start_time": "2022-04-10T15:40:50.304Z"
   },
   {
    "duration": 325,
    "start_time": "2022-04-10T15:42:01.359Z"
   },
   {
    "duration": 5,
    "start_time": "2022-04-10T15:45:11.599Z"
   },
   {
    "duration": 18,
    "start_time": "2022-04-10T15:45:15.370Z"
   },
   {
    "duration": 283,
    "start_time": "2022-04-10T15:46:23.938Z"
   },
   {
    "duration": 46,
    "start_time": "2022-04-10T21:43:22.472Z"
   },
   {
    "duration": 7,
    "start_time": "2022-04-10T21:44:08.609Z"
   },
   {
    "duration": 1163,
    "start_time": "2022-04-10T21:44:20.234Z"
   },
   {
    "duration": 84,
    "start_time": "2022-04-10T21:44:21.399Z"
   },
   {
    "duration": 29,
    "start_time": "2022-04-10T21:44:21.484Z"
   },
   {
    "duration": 20,
    "start_time": "2022-04-10T21:44:21.515Z"
   },
   {
    "duration": 7,
    "start_time": "2022-04-10T21:44:21.537Z"
   },
   {
    "duration": 17,
    "start_time": "2022-04-10T21:44:21.545Z"
   },
   {
    "duration": 9,
    "start_time": "2022-04-10T21:44:21.570Z"
   },
   {
    "duration": 13,
    "start_time": "2022-04-10T21:44:21.581Z"
   },
   {
    "duration": 237,
    "start_time": "2022-04-10T21:44:21.595Z"
   },
   {
    "duration": 10,
    "start_time": "2022-04-10T21:44:21.834Z"
   },
   {
    "duration": 208,
    "start_time": "2022-04-10T21:44:21.846Z"
   },
   {
    "duration": 194,
    "start_time": "2022-04-10T21:44:22.055Z"
   },
   {
    "duration": 163,
    "start_time": "2022-04-10T21:46:07.670Z"
   },
   {
    "duration": 155,
    "start_time": "2022-04-10T21:46:29.392Z"
   },
   {
    "duration": 163,
    "start_time": "2022-04-10T21:46:42.278Z"
   },
   {
    "duration": 156,
    "start_time": "2022-04-10T21:46:55.173Z"
   },
   {
    "duration": 154,
    "start_time": "2022-04-10T21:47:50.500Z"
   },
   {
    "duration": 102,
    "start_time": "2022-04-10T21:51:10.238Z"
   },
   {
    "duration": 11,
    "start_time": "2022-04-10T21:51:53.596Z"
   },
   {
    "duration": 205,
    "start_time": "2022-04-10T21:53:59.461Z"
   },
   {
    "duration": 154,
    "start_time": "2022-04-10T21:55:21.735Z"
   },
   {
    "duration": 150,
    "start_time": "2022-04-10T21:56:04.753Z"
   },
   {
    "duration": 153,
    "start_time": "2022-04-10T21:57:43.723Z"
   },
   {
    "duration": 156,
    "start_time": "2022-04-10T21:59:19.198Z"
   },
   {
    "duration": 160,
    "start_time": "2022-04-10T21:59:34.232Z"
   },
   {
    "duration": 216,
    "start_time": "2022-04-10T22:00:06.016Z"
   },
   {
    "duration": 246,
    "start_time": "2022-04-10T22:00:42.936Z"
   },
   {
    "duration": 164,
    "start_time": "2022-04-10T22:01:40.027Z"
   },
   {
    "duration": 1022,
    "start_time": "2022-04-10T22:01:57.054Z"
   },
   {
    "duration": 77,
    "start_time": "2022-04-10T22:01:58.078Z"
   },
   {
    "duration": 30,
    "start_time": "2022-04-10T22:01:58.156Z"
   },
   {
    "duration": 20,
    "start_time": "2022-04-10T22:01:58.188Z"
   },
   {
    "duration": 7,
    "start_time": "2022-04-10T22:01:58.210Z"
   },
   {
    "duration": 21,
    "start_time": "2022-04-10T22:01:58.219Z"
   },
   {
    "duration": 33,
    "start_time": "2022-04-10T22:01:58.242Z"
   },
   {
    "duration": 12,
    "start_time": "2022-04-10T22:01:58.277Z"
   },
   {
    "duration": 242,
    "start_time": "2022-04-10T22:01:58.291Z"
   },
   {
    "duration": 11,
    "start_time": "2022-04-10T22:01:58.536Z"
   },
   {
    "duration": 217,
    "start_time": "2022-04-10T22:01:58.549Z"
   },
   {
    "duration": 166,
    "start_time": "2022-04-10T22:01:58.768Z"
   },
   {
    "duration": 118,
    "start_time": "2022-04-10T22:01:58.936Z"
   },
   {
    "duration": 16,
    "start_time": "2022-04-10T22:01:59.056Z"
   },
   {
    "duration": 254,
    "start_time": "2022-04-10T22:01:59.074Z"
   },
   {
    "duration": 256,
    "start_time": "2022-04-10T22:12:35.480Z"
   },
   {
    "duration": 263,
    "start_time": "2022-04-10T22:26:29.927Z"
   },
   {
    "duration": 311,
    "start_time": "2022-04-10T22:36:15.085Z"
   },
   {
    "duration": 257,
    "start_time": "2022-04-10T22:37:19.680Z"
   },
   {
    "duration": 317,
    "start_time": "2022-04-10T22:37:47.524Z"
   },
   {
    "duration": 173,
    "start_time": "2022-04-10T22:38:42.198Z"
   },
   {
    "duration": 261,
    "start_time": "2022-04-10T22:54:24.795Z"
   },
   {
    "duration": 291,
    "start_time": "2022-04-10T22:55:45.054Z"
   },
   {
    "duration": 256,
    "start_time": "2022-04-10T22:56:21.893Z"
   },
   {
    "duration": 284,
    "start_time": "2022-04-10T22:57:07.776Z"
   },
   {
    "duration": 10,
    "start_time": "2022-04-10T23:09:36.069Z"
   },
   {
    "duration": 196,
    "start_time": "2022-04-10T23:11:02.214Z"
   },
   {
    "duration": 203,
    "start_time": "2022-04-10T23:13:08.177Z"
   },
   {
    "duration": 216,
    "start_time": "2022-04-10T23:14:25.224Z"
   },
   {
    "duration": 223,
    "start_time": "2022-04-10T23:14:47.013Z"
   },
   {
    "duration": 319,
    "start_time": "2022-04-10T23:15:13.843Z"
   },
   {
    "duration": 50,
    "start_time": "2022-04-11T00:35:25.205Z"
   },
   {
    "duration": 1270,
    "start_time": "2022-04-11T00:36:14.824Z"
   },
   {
    "duration": 100,
    "start_time": "2022-04-11T00:36:16.097Z"
   },
   {
    "duration": 33,
    "start_time": "2022-04-11T00:36:16.198Z"
   },
   {
    "duration": 26,
    "start_time": "2022-04-11T00:36:16.233Z"
   },
   {
    "duration": 9,
    "start_time": "2022-04-11T00:36:16.261Z"
   },
   {
    "duration": 25,
    "start_time": "2022-04-11T00:36:16.272Z"
   },
   {
    "duration": 13,
    "start_time": "2022-04-11T00:36:16.299Z"
   },
   {
    "duration": 15,
    "start_time": "2022-04-11T00:36:16.338Z"
   },
   {
    "duration": 286,
    "start_time": "2022-04-11T00:36:16.355Z"
   },
   {
    "duration": 14,
    "start_time": "2022-04-11T00:36:16.645Z"
   },
   {
    "duration": 265,
    "start_time": "2022-04-11T00:36:16.661Z"
   },
   {
    "duration": 199,
    "start_time": "2022-04-11T00:36:16.929Z"
   },
   {
    "duration": 133,
    "start_time": "2022-04-11T00:36:17.130Z"
   },
   {
    "duration": 14,
    "start_time": "2022-04-11T00:36:17.265Z"
   },
   {
    "duration": 287,
    "start_time": "2022-04-11T00:36:17.281Z"
   },
   {
    "duration": 208,
    "start_time": "2022-04-11T00:36:17.570Z"
   },
   {
    "duration": 343,
    "start_time": "2022-04-11T00:36:17.780Z"
   },
   {
    "duration": 220,
    "start_time": "2022-04-11T00:36:18.125Z"
   },
   {
    "duration": 327,
    "start_time": "2022-04-11T00:36:18.347Z"
   },
   {
    "duration": 245,
    "start_time": "2022-04-11T00:36:18.676Z"
   },
   {
    "duration": 4,
    "start_time": "2022-04-11T00:36:18.923Z"
   },
   {
    "duration": 108,
    "start_time": "2022-04-11T00:50:24.616Z"
   },
   {
    "duration": 20,
    "start_time": "2022-04-11T00:51:32.346Z"
   },
   {
    "duration": 358,
    "start_time": "2022-04-11T00:51:48.082Z"
   },
   {
    "duration": 273,
    "start_time": "2022-04-11T00:52:15.395Z"
   },
   {
    "duration": 5,
    "start_time": "2022-04-11T01:00:00.642Z"
   },
   {
    "duration": 242,
    "start_time": "2022-04-11T01:15:39.522Z"
   },
   {
    "duration": 12,
    "start_time": "2022-04-11T01:20:12.977Z"
   },
   {
    "duration": 131,
    "start_time": "2022-04-11T01:25:22.879Z"
   },
   {
    "duration": 7,
    "start_time": "2022-04-11T01:26:13.251Z"
   },
   {
    "duration": 4,
    "start_time": "2022-04-11T01:33:23.363Z"
   },
   {
    "duration": 4,
    "start_time": "2022-04-11T01:33:33.312Z"
   },
   {
    "duration": 1062,
    "start_time": "2022-04-11T01:33:55.162Z"
   },
   {
    "duration": 93,
    "start_time": "2022-04-11T01:33:56.226Z"
   },
   {
    "duration": 34,
    "start_time": "2022-04-11T01:33:56.320Z"
   },
   {
    "duration": 25,
    "start_time": "2022-04-11T01:33:56.356Z"
   },
   {
    "duration": 9,
    "start_time": "2022-04-11T01:33:56.383Z"
   },
   {
    "duration": 26,
    "start_time": "2022-04-11T01:33:56.394Z"
   },
   {
    "duration": 26,
    "start_time": "2022-04-11T01:33:56.422Z"
   },
   {
    "duration": 24,
    "start_time": "2022-04-11T01:33:56.450Z"
   },
   {
    "duration": 283,
    "start_time": "2022-04-11T01:33:56.476Z"
   },
   {
    "duration": 15,
    "start_time": "2022-04-11T01:33:56.763Z"
   },
   {
    "duration": 261,
    "start_time": "2022-04-11T01:33:56.780Z"
   },
   {
    "duration": 196,
    "start_time": "2022-04-11T01:33:57.043Z"
   },
   {
    "duration": 135,
    "start_time": "2022-04-11T01:33:57.242Z"
   },
   {
    "duration": 14,
    "start_time": "2022-04-11T01:33:57.379Z"
   },
   {
    "duration": 289,
    "start_time": "2022-04-11T01:33:57.395Z"
   },
   {
    "duration": 207,
    "start_time": "2022-04-11T01:33:57.686Z"
   },
   {
    "duration": 312,
    "start_time": "2022-04-11T01:33:57.895Z"
   },
   {
    "duration": 224,
    "start_time": "2022-04-11T01:33:58.209Z"
   },
   {
    "duration": 311,
    "start_time": "2022-04-11T01:33:58.439Z"
   },
   {
    "duration": 265,
    "start_time": "2022-04-11T01:33:58.752Z"
   },
   {
    "duration": 5,
    "start_time": "2022-04-11T01:33:59.018Z"
   },
   {
    "duration": 395,
    "start_time": "2022-04-11T01:33:59.025Z"
   },
   {
    "duration": 6,
    "start_time": "2022-04-11T01:33:59.422Z"
   },
   {
    "duration": 248,
    "start_time": "2022-04-11T01:33:59.438Z"
   },
   {
    "duration": 156,
    "start_time": "2022-04-11T01:33:59.688Z"
   },
   {
    "duration": 7,
    "start_time": "2022-04-11T01:33:59.846Z"
   },
   {
    "duration": 9,
    "start_time": "2022-04-11T01:33:59.855Z"
   },
   {
    "duration": 4,
    "start_time": "2022-04-11T01:34:51.109Z"
   },
   {
    "duration": 1073,
    "start_time": "2022-04-11T01:35:24.862Z"
   },
   {
    "duration": 88,
    "start_time": "2022-04-11T01:35:25.937Z"
   },
   {
    "duration": 33,
    "start_time": "2022-04-11T01:35:26.027Z"
   },
   {
    "duration": 25,
    "start_time": "2022-04-11T01:35:26.062Z"
   },
   {
    "duration": 9,
    "start_time": "2022-04-11T01:35:26.089Z"
   },
   {
    "duration": 24,
    "start_time": "2022-04-11T01:35:26.100Z"
   },
   {
    "duration": 13,
    "start_time": "2022-04-11T01:35:26.138Z"
   },
   {
    "duration": 19,
    "start_time": "2022-04-11T01:35:26.153Z"
   },
   {
    "duration": 296,
    "start_time": "2022-04-11T01:35:26.174Z"
   },
   {
    "duration": 15,
    "start_time": "2022-04-11T01:35:26.473Z"
   },
   {
    "duration": 257,
    "start_time": "2022-04-11T01:35:26.490Z"
   },
   {
    "duration": 231,
    "start_time": "2022-04-11T01:35:26.749Z"
   },
   {
    "duration": 126,
    "start_time": "2022-04-11T01:35:26.983Z"
   },
   {
    "duration": 25,
    "start_time": "2022-04-11T01:35:27.113Z"
   },
   {
    "duration": 302,
    "start_time": "2022-04-11T01:35:27.141Z"
   },
   {
    "duration": 230,
    "start_time": "2022-04-11T01:35:27.446Z"
   },
   {
    "duration": 321,
    "start_time": "2022-04-11T01:35:27.678Z"
   },
   {
    "duration": 237,
    "start_time": "2022-04-11T01:35:28.001Z"
   },
   {
    "duration": 335,
    "start_time": "2022-04-11T01:35:28.240Z"
   },
   {
    "duration": 280,
    "start_time": "2022-04-11T01:35:28.577Z"
   },
   {
    "duration": 4,
    "start_time": "2022-04-11T01:35:28.859Z"
   },
   {
    "duration": 405,
    "start_time": "2022-04-11T01:35:28.865Z"
   },
   {
    "duration": 4,
    "start_time": "2022-04-11T01:35:29.272Z"
   },
   {
    "duration": 269,
    "start_time": "2022-04-11T01:35:29.278Z"
   },
   {
    "duration": 173,
    "start_time": "2022-04-11T01:35:29.549Z"
   },
   {
    "duration": 19,
    "start_time": "2022-04-11T01:35:29.723Z"
   },
   {
    "duration": 10,
    "start_time": "2022-04-11T01:35:29.744Z"
   },
   {
    "duration": 28,
    "start_time": "2022-04-11T01:35:29.756Z"
   },
   {
    "duration": 1083,
    "start_time": "2022-04-11T01:37:35.636Z"
   },
   {
    "duration": 92,
    "start_time": "2022-04-11T01:37:36.721Z"
   },
   {
    "duration": 33,
    "start_time": "2022-04-11T01:37:36.814Z"
   },
   {
    "duration": 26,
    "start_time": "2022-04-11T01:37:36.850Z"
   },
   {
    "duration": 9,
    "start_time": "2022-04-11T01:37:36.877Z"
   },
   {
    "duration": 25,
    "start_time": "2022-04-11T01:37:36.888Z"
   },
   {
    "duration": 33,
    "start_time": "2022-04-11T01:37:36.914Z"
   },
   {
    "duration": 16,
    "start_time": "2022-04-11T01:37:36.949Z"
   },
   {
    "duration": 290,
    "start_time": "2022-04-11T01:37:36.967Z"
   },
   {
    "duration": 14,
    "start_time": "2022-04-11T01:37:37.260Z"
   },
   {
    "duration": 254,
    "start_time": "2022-04-11T01:37:37.276Z"
   },
   {
    "duration": 198,
    "start_time": "2022-04-11T01:37:37.532Z"
   },
   {
    "duration": 128,
    "start_time": "2022-04-11T01:37:37.732Z"
   },
   {
    "duration": 14,
    "start_time": "2022-04-11T01:37:37.862Z"
   },
   {
    "duration": 296,
    "start_time": "2022-04-11T01:37:37.878Z"
   },
   {
    "duration": 204,
    "start_time": "2022-04-11T01:37:38.176Z"
   },
   {
    "duration": 290,
    "start_time": "2022-04-11T01:37:38.381Z"
   },
   {
    "duration": 224,
    "start_time": "2022-04-11T01:37:38.672Z"
   },
   {
    "duration": 341,
    "start_time": "2022-04-11T01:37:38.898Z"
   },
   {
    "duration": 258,
    "start_time": "2022-04-11T01:37:39.240Z"
   },
   {
    "duration": 4,
    "start_time": "2022-04-11T01:37:39.500Z"
   },
   {
    "duration": 384,
    "start_time": "2022-04-11T01:37:39.507Z"
   },
   {
    "duration": 5,
    "start_time": "2022-04-11T01:37:39.893Z"
   },
   {
    "duration": 256,
    "start_time": "2022-04-11T01:37:39.900Z"
   },
   {
    "duration": 131,
    "start_time": "2022-04-11T01:37:40.159Z"
   },
   {
    "duration": 9,
    "start_time": "2022-04-11T01:37:40.292Z"
   },
   {
    "duration": 117,
    "start_time": "2022-04-11T01:37:40.302Z"
   },
   {
    "duration": 0,
    "start_time": "2022-04-11T01:37:40.422Z"
   },
   {
    "duration": 1058,
    "start_time": "2022-04-11T01:38:20.470Z"
   },
   {
    "duration": 85,
    "start_time": "2022-04-11T01:38:21.530Z"
   },
   {
    "duration": 32,
    "start_time": "2022-04-11T01:38:21.617Z"
   },
   {
    "duration": 24,
    "start_time": "2022-04-11T01:38:21.651Z"
   },
   {
    "duration": 8,
    "start_time": "2022-04-11T01:38:21.676Z"
   },
   {
    "duration": 24,
    "start_time": "2022-04-11T01:38:21.686Z"
   },
   {
    "duration": 29,
    "start_time": "2022-04-11T01:38:21.712Z"
   },
   {
    "duration": 17,
    "start_time": "2022-04-11T01:38:21.743Z"
   },
   {
    "duration": 286,
    "start_time": "2022-04-11T01:38:21.762Z"
   },
   {
    "duration": 13,
    "start_time": "2022-04-11T01:38:22.051Z"
   },
   {
    "duration": 267,
    "start_time": "2022-04-11T01:38:22.067Z"
   },
   {
    "duration": 199,
    "start_time": "2022-04-11T01:38:22.335Z"
   },
   {
    "duration": 124,
    "start_time": "2022-04-11T01:38:22.536Z"
   },
   {
    "duration": 14,
    "start_time": "2022-04-11T01:38:22.662Z"
   },
   {
    "duration": 283,
    "start_time": "2022-04-11T01:38:22.677Z"
   },
   {
    "duration": 201,
    "start_time": "2022-04-11T01:38:22.963Z"
   },
   {
    "duration": 306,
    "start_time": "2022-04-11T01:38:23.166Z"
   },
   {
    "duration": 213,
    "start_time": "2022-04-11T01:38:23.474Z"
   },
   {
    "duration": 325,
    "start_time": "2022-04-11T01:38:23.689Z"
   },
   {
    "duration": 276,
    "start_time": "2022-04-11T01:38:24.016Z"
   },
   {
    "duration": 4,
    "start_time": "2022-04-11T01:38:24.294Z"
   },
   {
    "duration": 374,
    "start_time": "2022-04-11T01:38:24.300Z"
   },
   {
    "duration": 4,
    "start_time": "2022-04-11T01:38:24.676Z"
   },
   {
    "duration": 235,
    "start_time": "2022-04-11T01:38:24.682Z"
   },
   {
    "duration": 147,
    "start_time": "2022-04-11T01:38:24.919Z"
   },
   {
    "duration": 7,
    "start_time": "2022-04-11T01:38:25.068Z"
   },
   {
    "duration": 12,
    "start_time": "2022-04-11T01:38:25.077Z"
   },
   {
    "duration": 30,
    "start_time": "2022-04-11T01:38:25.093Z"
   },
   {
    "duration": 9,
    "start_time": "2022-04-11T01:42:54.980Z"
   },
   {
    "duration": 1030,
    "start_time": "2022-04-11T01:52:19.887Z"
   },
   {
    "duration": 87,
    "start_time": "2022-04-11T01:52:20.919Z"
   },
   {
    "duration": 35,
    "start_time": "2022-04-11T01:52:21.008Z"
   },
   {
    "duration": 26,
    "start_time": "2022-04-11T01:52:21.045Z"
   },
   {
    "duration": 9,
    "start_time": "2022-04-11T01:52:21.074Z"
   },
   {
    "duration": 29,
    "start_time": "2022-04-11T01:52:21.085Z"
   },
   {
    "duration": 34,
    "start_time": "2022-04-11T01:52:21.116Z"
   },
   {
    "duration": 27,
    "start_time": "2022-04-11T01:52:21.152Z"
   },
   {
    "duration": 273,
    "start_time": "2022-04-11T01:52:21.182Z"
   },
   {
    "duration": 14,
    "start_time": "2022-04-11T01:52:21.457Z"
   },
   {
    "duration": 266,
    "start_time": "2022-04-11T01:52:21.473Z"
   },
   {
    "duration": 193,
    "start_time": "2022-04-11T01:52:21.740Z"
   },
   {
    "duration": 138,
    "start_time": "2022-04-11T01:52:21.938Z"
   },
   {
    "duration": 14,
    "start_time": "2022-04-11T01:52:22.080Z"
   },
   {
    "duration": 292,
    "start_time": "2022-04-11T01:52:22.095Z"
   },
   {
    "duration": 207,
    "start_time": "2022-04-11T01:52:22.389Z"
   },
   {
    "duration": 347,
    "start_time": "2022-04-11T01:52:22.599Z"
   },
   {
    "duration": 228,
    "start_time": "2022-04-11T01:52:22.948Z"
   },
   {
    "duration": 298,
    "start_time": "2022-04-11T01:52:23.179Z"
   },
   {
    "duration": 273,
    "start_time": "2022-04-11T01:52:23.480Z"
   },
   {
    "duration": 5,
    "start_time": "2022-04-11T01:52:23.756Z"
   },
   {
    "duration": 399,
    "start_time": "2022-04-11T01:52:23.763Z"
   },
   {
    "duration": 6,
    "start_time": "2022-04-11T01:52:24.164Z"
   },
   {
    "duration": 253,
    "start_time": "2022-04-11T01:52:24.172Z"
   },
   {
    "duration": 172,
    "start_time": "2022-04-11T01:52:24.427Z"
   },
   {
    "duration": 8,
    "start_time": "2022-04-11T01:52:24.600Z"
   },
   {
    "duration": 12,
    "start_time": "2022-04-11T01:52:24.609Z"
   },
   {
    "duration": 32,
    "start_time": "2022-04-11T01:52:24.623Z"
   },
   {
    "duration": 9,
    "start_time": "2022-04-11T01:52:24.657Z"
   },
   {
    "duration": 1124,
    "start_time": "2022-04-11T02:02:32.821Z"
   },
   {
    "duration": 97,
    "start_time": "2022-04-11T02:02:33.949Z"
   },
   {
    "duration": 34,
    "start_time": "2022-04-11T02:02:34.048Z"
   },
   {
    "duration": 25,
    "start_time": "2022-04-11T02:02:34.084Z"
   },
   {
    "duration": 10,
    "start_time": "2022-04-11T02:02:34.111Z"
   },
   {
    "duration": 21,
    "start_time": "2022-04-11T02:02:34.139Z"
   },
   {
    "duration": 12,
    "start_time": "2022-04-11T02:02:34.162Z"
   },
   {
    "duration": 22,
    "start_time": "2022-04-11T02:02:34.176Z"
   },
   {
    "duration": 300,
    "start_time": "2022-04-11T02:02:34.200Z"
   },
   {
    "duration": 14,
    "start_time": "2022-04-11T02:02:34.502Z"
   },
   {
    "duration": 268,
    "start_time": "2022-04-11T02:02:34.518Z"
   },
   {
    "duration": 205,
    "start_time": "2022-04-11T02:02:34.787Z"
   },
   {
    "duration": 145,
    "start_time": "2022-04-11T02:02:34.994Z"
   },
   {
    "duration": 15,
    "start_time": "2022-04-11T02:02:35.143Z"
   },
   {
    "duration": 293,
    "start_time": "2022-04-11T02:02:35.161Z"
   },
   {
    "duration": 207,
    "start_time": "2022-04-11T02:02:35.456Z"
   },
   {
    "duration": 325,
    "start_time": "2022-04-11T02:02:35.665Z"
   },
   {
    "duration": 224,
    "start_time": "2022-04-11T02:02:35.992Z"
   },
   {
    "duration": 347,
    "start_time": "2022-04-11T02:02:36.218Z"
   },
   {
    "duration": 287,
    "start_time": "2022-04-11T02:02:36.567Z"
   },
   {
    "duration": 4,
    "start_time": "2022-04-11T02:02:36.856Z"
   },
   {
    "duration": 381,
    "start_time": "2022-04-11T02:02:36.862Z"
   },
   {
    "duration": 5,
    "start_time": "2022-04-11T02:02:37.245Z"
   },
   {
    "duration": 255,
    "start_time": "2022-04-11T02:02:37.252Z"
   },
   {
    "duration": 155,
    "start_time": "2022-04-11T02:02:37.508Z"
   },
   {
    "duration": 7,
    "start_time": "2022-04-11T02:02:37.665Z"
   },
   {
    "duration": 13,
    "start_time": "2022-04-11T02:02:37.674Z"
   },
   {
    "duration": 31,
    "start_time": "2022-04-11T02:02:37.688Z"
   },
   {
    "duration": 22,
    "start_time": "2022-04-11T02:02:37.721Z"
   },
   {
    "duration": 11,
    "start_time": "2022-04-11T02:11:32.744Z"
   },
   {
    "duration": 143,
    "start_time": "2022-04-11T02:13:10.922Z"
   },
   {
    "duration": 8,
    "start_time": "2022-04-11T02:15:37.362Z"
   },
   {
    "duration": 25,
    "start_time": "2022-04-11T02:16:00.026Z"
   },
   {
    "duration": 10,
    "start_time": "2022-04-11T02:23:59.335Z"
   },
   {
    "duration": 1054,
    "start_time": "2022-04-11T02:57:10.575Z"
   },
   {
    "duration": 88,
    "start_time": "2022-04-11T02:57:11.631Z"
   },
   {
    "duration": 34,
    "start_time": "2022-04-11T02:57:11.721Z"
   },
   {
    "duration": 25,
    "start_time": "2022-04-11T02:57:11.757Z"
   },
   {
    "duration": 9,
    "start_time": "2022-04-11T02:57:11.784Z"
   },
   {
    "duration": 26,
    "start_time": "2022-04-11T02:57:11.795Z"
   },
   {
    "duration": 25,
    "start_time": "2022-04-11T02:57:11.823Z"
   },
   {
    "duration": 20,
    "start_time": "2022-04-11T02:57:11.850Z"
   },
   {
    "duration": 298,
    "start_time": "2022-04-11T02:57:11.872Z"
   },
   {
    "duration": 14,
    "start_time": "2022-04-11T02:57:12.173Z"
   },
   {
    "duration": 261,
    "start_time": "2022-04-11T02:57:12.189Z"
   },
   {
    "duration": 194,
    "start_time": "2022-04-11T02:57:12.452Z"
   },
   {
    "duration": 126,
    "start_time": "2022-04-11T02:57:12.648Z"
   },
   {
    "duration": 14,
    "start_time": "2022-04-11T02:57:12.775Z"
   },
   {
    "duration": 283,
    "start_time": "2022-04-11T02:57:12.791Z"
   },
   {
    "duration": 206,
    "start_time": "2022-04-11T02:57:13.076Z"
   },
   {
    "duration": 296,
    "start_time": "2022-04-11T02:57:13.283Z"
   },
   {
    "duration": 225,
    "start_time": "2022-04-11T02:57:13.581Z"
   },
   {
    "duration": 346,
    "start_time": "2022-04-11T02:57:13.808Z"
   },
   {
    "duration": 249,
    "start_time": "2022-04-11T02:57:14.156Z"
   },
   {
    "duration": 4,
    "start_time": "2022-04-11T02:57:14.407Z"
   },
   {
    "duration": 380,
    "start_time": "2022-04-11T02:57:14.413Z"
   },
   {
    "duration": 5,
    "start_time": "2022-04-11T02:57:14.795Z"
   },
   {
    "duration": 258,
    "start_time": "2022-04-11T02:57:14.802Z"
   },
   {
    "duration": 142,
    "start_time": "2022-04-11T02:57:15.062Z"
   },
   {
    "duration": 7,
    "start_time": "2022-04-11T02:57:15.206Z"
   },
   {
    "duration": 16,
    "start_time": "2022-04-11T02:57:15.215Z"
   },
   {
    "duration": 25,
    "start_time": "2022-04-11T02:57:15.238Z"
   },
   {
    "duration": 8,
    "start_time": "2022-04-11T02:57:15.265Z"
   },
   {
    "duration": 11,
    "start_time": "2022-04-11T02:57:15.275Z"
   },
   {
    "duration": 15,
    "start_time": "2022-04-11T02:57:15.287Z"
   },
   {
    "duration": 45,
    "start_time": "2022-04-11T02:57:15.304Z"
   },
   {
    "duration": 10,
    "start_time": "2022-04-11T02:57:15.351Z"
   },
   {
    "duration": 1118,
    "start_time": "2022-04-11T16:31:23.290Z"
   },
   {
    "duration": 79,
    "start_time": "2022-04-11T16:31:24.410Z"
   },
   {
    "duration": 34,
    "start_time": "2022-04-11T16:31:24.491Z"
   },
   {
    "duration": 24,
    "start_time": "2022-04-11T16:31:24.527Z"
   },
   {
    "duration": 9,
    "start_time": "2022-04-11T16:31:24.553Z"
   },
   {
    "duration": 23,
    "start_time": "2022-04-11T16:31:24.564Z"
   },
   {
    "duration": 11,
    "start_time": "2022-04-11T16:31:24.589Z"
   },
   {
    "duration": 18,
    "start_time": "2022-04-11T16:31:24.602Z"
   },
   {
    "duration": 285,
    "start_time": "2022-04-11T16:31:24.639Z"
   },
   {
    "duration": 21,
    "start_time": "2022-04-11T16:31:24.927Z"
   },
   {
    "duration": 251,
    "start_time": "2022-04-11T16:31:24.950Z"
   },
   {
    "duration": 196,
    "start_time": "2022-04-11T16:31:25.203Z"
   },
   {
    "duration": 122,
    "start_time": "2022-04-11T16:31:25.401Z"
   },
   {
    "duration": 18,
    "start_time": "2022-04-11T16:31:25.525Z"
   },
   {
    "duration": 282,
    "start_time": "2022-04-11T16:31:25.545Z"
   },
   {
    "duration": 213,
    "start_time": "2022-04-11T16:31:25.828Z"
   },
   {
    "duration": 309,
    "start_time": "2022-04-11T16:31:26.042Z"
   },
   {
    "duration": 218,
    "start_time": "2022-04-11T16:31:26.353Z"
   },
   {
    "duration": 377,
    "start_time": "2022-04-11T16:31:26.573Z"
   },
   {
    "duration": 515,
    "start_time": "2022-04-11T16:31:26.953Z"
   },
   {
    "duration": 5,
    "start_time": "2022-04-11T16:31:27.471Z"
   },
   {
    "duration": 594,
    "start_time": "2022-04-11T16:31:27.478Z"
   },
   {
    "duration": 5,
    "start_time": "2022-04-11T16:31:28.074Z"
   },
   {
    "duration": 257,
    "start_time": "2022-04-11T16:31:28.082Z"
   },
   {
    "duration": 158,
    "start_time": "2022-04-11T16:31:28.341Z"
   },
   {
    "duration": 7,
    "start_time": "2022-04-11T16:31:28.501Z"
   },
   {
    "duration": 45,
    "start_time": "2022-04-11T16:31:28.509Z"
   },
   {
    "duration": 58,
    "start_time": "2022-04-11T16:31:28.558Z"
   },
   {
    "duration": 22,
    "start_time": "2022-04-11T16:31:28.617Z"
   },
   {
    "duration": 42,
    "start_time": "2022-04-11T16:31:28.641Z"
   },
   {
    "duration": 59,
    "start_time": "2022-04-11T16:31:28.685Z"
   },
   {
    "duration": 56,
    "start_time": "2022-04-11T16:31:28.746Z"
   },
   {
    "duration": 13,
    "start_time": "2022-04-11T16:31:28.803Z"
   },
   {
    "duration": 2019,
    "start_time": "2022-04-12T23:35:16.243Z"
   },
   {
    "duration": 108,
    "start_time": "2022-04-12T23:35:18.265Z"
   },
   {
    "duration": 56,
    "start_time": "2022-04-12T23:35:18.375Z"
   },
   {
    "duration": 35,
    "start_time": "2022-04-12T23:35:18.434Z"
   },
   {
    "duration": 12,
    "start_time": "2022-04-12T23:35:18.471Z"
   },
   {
    "duration": 32,
    "start_time": "2022-04-12T23:35:18.485Z"
   },
   {
    "duration": 16,
    "start_time": "2022-04-12T23:35:18.519Z"
   },
   {
    "duration": 19,
    "start_time": "2022-04-12T23:35:18.537Z"
   },
   {
    "duration": 425,
    "start_time": "2022-04-12T23:35:18.558Z"
   },
   {
    "duration": 19,
    "start_time": "2022-04-12T23:35:18.995Z"
   },
   {
    "duration": 389,
    "start_time": "2022-04-12T23:35:19.016Z"
   },
   {
    "duration": 159,
    "start_time": "2022-04-12T23:35:19.407Z"
   },
   {
    "duration": 0,
    "start_time": "2022-04-12T23:35:19.568Z"
   },
   {
    "duration": 0,
    "start_time": "2022-04-12T23:35:19.570Z"
   },
   {
    "duration": 0,
    "start_time": "2022-04-12T23:35:19.571Z"
   },
   {
    "duration": 0,
    "start_time": "2022-04-12T23:35:19.573Z"
   },
   {
    "duration": 0,
    "start_time": "2022-04-12T23:35:19.574Z"
   },
   {
    "duration": 0,
    "start_time": "2022-04-12T23:35:19.576Z"
   },
   {
    "duration": 0,
    "start_time": "2022-04-12T23:35:19.593Z"
   },
   {
    "duration": 0,
    "start_time": "2022-04-12T23:35:19.595Z"
   },
   {
    "duration": 0,
    "start_time": "2022-04-12T23:35:19.598Z"
   },
   {
    "duration": 0,
    "start_time": "2022-04-12T23:35:19.599Z"
   },
   {
    "duration": 0,
    "start_time": "2022-04-12T23:35:19.601Z"
   },
   {
    "duration": 0,
    "start_time": "2022-04-12T23:35:19.603Z"
   },
   {
    "duration": 0,
    "start_time": "2022-04-12T23:35:19.605Z"
   },
   {
    "duration": 0,
    "start_time": "2022-04-12T23:35:19.607Z"
   },
   {
    "duration": 0,
    "start_time": "2022-04-12T23:35:19.608Z"
   },
   {
    "duration": 0,
    "start_time": "2022-04-12T23:35:19.610Z"
   },
   {
    "duration": 0,
    "start_time": "2022-04-12T23:35:19.611Z"
   },
   {
    "duration": 0,
    "start_time": "2022-04-12T23:35:19.613Z"
   },
   {
    "duration": 0,
    "start_time": "2022-04-12T23:35:19.615Z"
   },
   {
    "duration": 0,
    "start_time": "2022-04-12T23:35:19.617Z"
   },
   {
    "duration": 0,
    "start_time": "2022-04-12T23:35:19.618Z"
   },
   {
    "duration": 0,
    "start_time": "2022-04-12T23:35:19.620Z"
   },
   {
    "duration": 12,
    "start_time": "2022-04-12T23:36:17.383Z"
   },
   {
    "duration": 14,
    "start_time": "2022-04-12T23:38:12.133Z"
   },
   {
    "duration": 16,
    "start_time": "2022-04-12T23:38:34.117Z"
   },
   {
    "duration": 19,
    "start_time": "2022-04-12T23:41:34.732Z"
   },
   {
    "duration": 10,
    "start_time": "2022-04-12T23:44:11.000Z"
   },
   {
    "duration": 194,
    "start_time": "2022-04-12T23:49:18.604Z"
   },
   {
    "duration": 2920,
    "start_time": "2022-04-12T23:49:38.600Z"
   },
   {
    "duration": 2960,
    "start_time": "2022-04-12T23:50:02.657Z"
   },
   {
    "duration": 2920,
    "start_time": "2022-04-12T23:54:33.116Z"
   },
   {
    "duration": 25,
    "start_time": "2022-04-12T23:54:50.381Z"
   },
   {
    "duration": 4,
    "start_time": "2022-04-12T23:55:34.414Z"
   },
   {
    "duration": 2133,
    "start_time": "2022-04-12T23:55:54.249Z"
   },
   {
    "duration": 1359,
    "start_time": "2022-04-12T23:56:27.334Z"
   },
   {
    "duration": 88,
    "start_time": "2022-04-12T23:56:28.695Z"
   },
   {
    "duration": 55,
    "start_time": "2022-04-12T23:56:28.785Z"
   },
   {
    "duration": 34,
    "start_time": "2022-04-12T23:56:28.843Z"
   },
   {
    "duration": 11,
    "start_time": "2022-04-12T23:56:28.879Z"
   },
   {
    "duration": 27,
    "start_time": "2022-04-12T23:56:28.892Z"
   },
   {
    "duration": 16,
    "start_time": "2022-04-12T23:56:28.922Z"
   },
   {
    "duration": 19,
    "start_time": "2022-04-12T23:56:28.940Z"
   },
   {
    "duration": 439,
    "start_time": "2022-04-12T23:56:28.962Z"
   },
   {
    "duration": 18,
    "start_time": "2022-04-12T23:56:29.405Z"
   },
   {
    "duration": 379,
    "start_time": "2022-04-12T23:56:29.425Z"
   },
   {
    "duration": 15,
    "start_time": "2022-04-12T23:56:29.806Z"
   },
   {
    "duration": 158,
    "start_time": "2022-04-12T23:56:29.823Z"
   },
   {
    "duration": 0,
    "start_time": "2022-04-12T23:56:29.984Z"
   },
   {
    "duration": 0,
    "start_time": "2022-04-12T23:56:29.985Z"
   },
   {
    "duration": 0,
    "start_time": "2022-04-12T23:56:29.987Z"
   },
   {
    "duration": 0,
    "start_time": "2022-04-12T23:56:29.993Z"
   },
   {
    "duration": 0,
    "start_time": "2022-04-12T23:56:29.994Z"
   },
   {
    "duration": 0,
    "start_time": "2022-04-12T23:56:29.995Z"
   },
   {
    "duration": 0,
    "start_time": "2022-04-12T23:56:29.997Z"
   },
   {
    "duration": 0,
    "start_time": "2022-04-12T23:56:29.998Z"
   },
   {
    "duration": 0,
    "start_time": "2022-04-12T23:56:29.999Z"
   },
   {
    "duration": 0,
    "start_time": "2022-04-12T23:56:30.001Z"
   },
   {
    "duration": 0,
    "start_time": "2022-04-12T23:56:30.003Z"
   },
   {
    "duration": 0,
    "start_time": "2022-04-12T23:56:30.005Z"
   },
   {
    "duration": 0,
    "start_time": "2022-04-12T23:56:30.007Z"
   },
   {
    "duration": 0,
    "start_time": "2022-04-12T23:56:30.009Z"
   },
   {
    "duration": 0,
    "start_time": "2022-04-12T23:56:30.011Z"
   },
   {
    "duration": 0,
    "start_time": "2022-04-12T23:56:30.013Z"
   },
   {
    "duration": 0,
    "start_time": "2022-04-12T23:56:30.014Z"
   },
   {
    "duration": 0,
    "start_time": "2022-04-12T23:56:30.016Z"
   },
   {
    "duration": 0,
    "start_time": "2022-04-12T23:56:30.017Z"
   },
   {
    "duration": 0,
    "start_time": "2022-04-12T23:56:30.019Z"
   },
   {
    "duration": 0,
    "start_time": "2022-04-12T23:56:30.020Z"
   },
   {
    "duration": 0,
    "start_time": "2022-04-12T23:56:30.022Z"
   },
   {
    "duration": 17,
    "start_time": "2022-04-12T23:57:05.937Z"
   },
   {
    "duration": 14,
    "start_time": "2022-04-12T23:57:48.417Z"
   },
   {
    "duration": 15,
    "start_time": "2022-04-12T23:58:24.278Z"
   },
   {
    "duration": 16,
    "start_time": "2022-04-12T23:58:47.045Z"
   },
   {
    "duration": 1356,
    "start_time": "2022-04-12T23:58:55.368Z"
   },
   {
    "duration": 86,
    "start_time": "2022-04-12T23:58:56.726Z"
   },
   {
    "duration": 54,
    "start_time": "2022-04-12T23:58:56.814Z"
   },
   {
    "duration": 34,
    "start_time": "2022-04-12T23:58:56.871Z"
   },
   {
    "duration": 12,
    "start_time": "2022-04-12T23:58:56.907Z"
   },
   {
    "duration": 29,
    "start_time": "2022-04-12T23:58:56.922Z"
   },
   {
    "duration": 45,
    "start_time": "2022-04-12T23:58:56.953Z"
   },
   {
    "duration": 19,
    "start_time": "2022-04-12T23:58:57.000Z"
   },
   {
    "duration": 416,
    "start_time": "2022-04-12T23:58:57.021Z"
   },
   {
    "duration": 18,
    "start_time": "2022-04-12T23:58:57.441Z"
   },
   {
    "duration": 379,
    "start_time": "2022-04-12T23:58:57.461Z"
   },
   {
    "duration": 16,
    "start_time": "2022-04-12T23:58:57.842Z"
   },
   {
    "duration": 32,
    "start_time": "2022-04-12T23:58:57.861Z"
   },
   {
    "duration": 297,
    "start_time": "2022-04-12T23:58:57.895Z"
   },
   {
    "duration": 220,
    "start_time": "2022-04-12T23:58:58.195Z"
   },
   {
    "duration": 18,
    "start_time": "2022-04-12T23:58:58.417Z"
   },
   {
    "duration": 439,
    "start_time": "2022-04-12T23:58:58.437Z"
   },
   {
    "duration": 327,
    "start_time": "2022-04-12T23:58:58.878Z"
   },
   {
    "duration": 397,
    "start_time": "2022-04-12T23:58:59.208Z"
   },
   {
    "duration": 328,
    "start_time": "2022-04-12T23:58:59.607Z"
   },
   {
    "duration": 433,
    "start_time": "2022-04-12T23:58:59.938Z"
   },
   {
    "duration": 459,
    "start_time": "2022-04-12T23:59:00.374Z"
   },
   {
    "duration": 7,
    "start_time": "2022-04-12T23:59:00.835Z"
   },
   {
    "duration": 565,
    "start_time": "2022-04-12T23:59:00.844Z"
   },
   {
    "duration": 6,
    "start_time": "2022-04-12T23:59:01.411Z"
   },
   {
    "duration": 403,
    "start_time": "2022-04-12T23:59:01.420Z"
   },
   {
    "duration": 221,
    "start_time": "2022-04-12T23:59:01.825Z"
   },
   {
    "duration": 9,
    "start_time": "2022-04-12T23:59:02.051Z"
   },
   {
    "duration": 17,
    "start_time": "2022-04-12T23:59:02.062Z"
   },
   {
    "duration": 40,
    "start_time": "2022-04-12T23:59:02.081Z"
   },
   {
    "duration": 10,
    "start_time": "2022-04-12T23:59:02.123Z"
   },
   {
    "duration": 17,
    "start_time": "2022-04-12T23:59:02.136Z"
   },
   {
    "duration": 38,
    "start_time": "2022-04-12T23:59:02.155Z"
   },
   {
    "duration": 42,
    "start_time": "2022-04-12T23:59:02.195Z"
   },
   {
    "duration": 12,
    "start_time": "2022-04-12T23:59:02.239Z"
   },
   {
    "duration": 7,
    "start_time": "2022-04-13T00:22:12.087Z"
   },
   {
    "duration": 1322,
    "start_time": "2022-04-13T00:22:24.000Z"
   },
   {
    "duration": 108,
    "start_time": "2022-04-13T00:22:25.325Z"
   },
   {
    "duration": 55,
    "start_time": "2022-04-13T00:22:25.435Z"
   },
   {
    "duration": 36,
    "start_time": "2022-04-13T00:22:25.493Z"
   },
   {
    "duration": 12,
    "start_time": "2022-04-13T00:22:25.531Z"
   },
   {
    "duration": 51,
    "start_time": "2022-04-13T00:22:25.546Z"
   },
   {
    "duration": 22,
    "start_time": "2022-04-13T00:22:25.599Z"
   },
   {
    "duration": 20,
    "start_time": "2022-04-13T00:22:25.623Z"
   },
   {
    "duration": 431,
    "start_time": "2022-04-13T00:22:25.645Z"
   },
   {
    "duration": 26,
    "start_time": "2022-04-13T00:22:26.080Z"
   },
   {
    "duration": 388,
    "start_time": "2022-04-13T00:22:26.108Z"
   },
   {
    "duration": 15,
    "start_time": "2022-04-13T00:22:26.498Z"
   },
   {
    "duration": 7,
    "start_time": "2022-04-13T00:22:26.516Z"
   },
   {
    "duration": 18,
    "start_time": "2022-04-13T00:22:26.525Z"
   },
   {
    "duration": 50,
    "start_time": "2022-04-13T00:22:26.545Z"
   },
   {
    "duration": 889,
    "start_time": "2022-04-13T00:22:26.598Z"
   },
   {
    "duration": 0,
    "start_time": "2022-04-13T00:22:27.489Z"
   },
   {
    "duration": 0,
    "start_time": "2022-04-13T00:22:27.491Z"
   },
   {
    "duration": 0,
    "start_time": "2022-04-13T00:22:27.493Z"
   },
   {
    "duration": 0,
    "start_time": "2022-04-13T00:22:27.495Z"
   },
   {
    "duration": 0,
    "start_time": "2022-04-13T00:22:27.497Z"
   },
   {
    "duration": 0,
    "start_time": "2022-04-13T00:22:27.498Z"
   },
   {
    "duration": 0,
    "start_time": "2022-04-13T00:22:27.500Z"
   },
   {
    "duration": 0,
    "start_time": "2022-04-13T00:22:27.501Z"
   },
   {
    "duration": 0,
    "start_time": "2022-04-13T00:22:27.503Z"
   },
   {
    "duration": 0,
    "start_time": "2022-04-13T00:22:27.505Z"
   },
   {
    "duration": 0,
    "start_time": "2022-04-13T00:22:27.507Z"
   },
   {
    "duration": 0,
    "start_time": "2022-04-13T00:22:27.509Z"
   },
   {
    "duration": 0,
    "start_time": "2022-04-13T00:22:27.510Z"
   },
   {
    "duration": 0,
    "start_time": "2022-04-13T00:22:27.512Z"
   },
   {
    "duration": 0,
    "start_time": "2022-04-13T00:22:27.513Z"
   },
   {
    "duration": 0,
    "start_time": "2022-04-13T00:22:27.515Z"
   },
   {
    "duration": 0,
    "start_time": "2022-04-13T00:22:27.516Z"
   },
   {
    "duration": 0,
    "start_time": "2022-04-13T00:22:27.518Z"
   },
   {
    "duration": 0,
    "start_time": "2022-04-13T00:22:27.519Z"
   },
   {
    "duration": 5,
    "start_time": "2022-04-13T00:23:00.903Z"
   },
   {
    "duration": 8,
    "start_time": "2022-04-13T00:23:22.515Z"
   },
   {
    "duration": 1287,
    "start_time": "2022-04-13T00:23:32.138Z"
   },
   {
    "duration": 90,
    "start_time": "2022-04-13T00:23:33.428Z"
   },
   {
    "duration": 56,
    "start_time": "2022-04-13T00:23:33.520Z"
   },
   {
    "duration": 37,
    "start_time": "2022-04-13T00:23:33.578Z"
   },
   {
    "duration": 11,
    "start_time": "2022-04-13T00:23:33.619Z"
   },
   {
    "duration": 35,
    "start_time": "2022-04-13T00:23:33.632Z"
   },
   {
    "duration": 16,
    "start_time": "2022-04-13T00:23:33.693Z"
   },
   {
    "duration": 21,
    "start_time": "2022-04-13T00:23:33.712Z"
   },
   {
    "duration": 419,
    "start_time": "2022-04-13T00:23:33.736Z"
   },
   {
    "duration": 19,
    "start_time": "2022-04-13T00:23:34.157Z"
   },
   {
    "duration": 393,
    "start_time": "2022-04-13T00:23:34.178Z"
   },
   {
    "duration": 23,
    "start_time": "2022-04-13T00:23:34.574Z"
   },
   {
    "duration": 10,
    "start_time": "2022-04-13T00:23:34.599Z"
   },
   {
    "duration": 299,
    "start_time": "2022-04-13T00:23:34.613Z"
   },
   {
    "duration": 225,
    "start_time": "2022-04-13T00:23:34.914Z"
   },
   {
    "duration": 19,
    "start_time": "2022-04-13T00:23:35.141Z"
   },
   {
    "duration": 439,
    "start_time": "2022-04-13T00:23:35.162Z"
   },
   {
    "duration": 320,
    "start_time": "2022-04-13T00:23:35.604Z"
   },
   {
    "duration": 397,
    "start_time": "2022-04-13T00:23:35.927Z"
   },
   {
    "duration": 319,
    "start_time": "2022-04-13T00:23:36.326Z"
   },
   {
    "duration": 446,
    "start_time": "2022-04-13T00:23:36.647Z"
   },
   {
    "duration": 446,
    "start_time": "2022-04-13T00:23:37.095Z"
   },
   {
    "duration": 6,
    "start_time": "2022-04-13T00:23:37.544Z"
   },
   {
    "duration": 543,
    "start_time": "2022-04-13T00:23:37.552Z"
   },
   {
    "duration": 6,
    "start_time": "2022-04-13T00:23:38.098Z"
   },
   {
    "duration": 381,
    "start_time": "2022-04-13T00:23:38.106Z"
   },
   {
    "duration": 247,
    "start_time": "2022-04-13T00:23:38.492Z"
   },
   {
    "duration": 8,
    "start_time": "2022-04-13T00:23:38.741Z"
   },
   {
    "duration": 16,
    "start_time": "2022-04-13T00:23:38.751Z"
   },
   {
    "duration": 36,
    "start_time": "2022-04-13T00:23:38.769Z"
   },
   {
    "duration": 12,
    "start_time": "2022-04-13T00:23:38.807Z"
   },
   {
    "duration": 15,
    "start_time": "2022-04-13T00:23:38.821Z"
   },
   {
    "duration": 13,
    "start_time": "2022-04-13T00:23:38.838Z"
   },
   {
    "duration": 63,
    "start_time": "2022-04-13T00:23:38.853Z"
   },
   {
    "duration": 12,
    "start_time": "2022-04-13T00:23:38.918Z"
   },
   {
    "duration": 3088,
    "start_time": "2022-04-13T00:31:48.556Z"
   },
   {
    "duration": 19,
    "start_time": "2022-04-13T00:32:00.668Z"
   },
   {
    "duration": 1309,
    "start_time": "2022-04-13T00:32:09.814Z"
   },
   {
    "duration": 89,
    "start_time": "2022-04-13T00:32:11.126Z"
   },
   {
    "duration": 55,
    "start_time": "2022-04-13T00:32:11.217Z"
   },
   {
    "duration": 37,
    "start_time": "2022-04-13T00:32:11.275Z"
   },
   {
    "duration": 12,
    "start_time": "2022-04-13T00:32:11.315Z"
   },
   {
    "duration": 29,
    "start_time": "2022-04-13T00:32:11.329Z"
   },
   {
    "duration": 45,
    "start_time": "2022-04-13T00:32:11.361Z"
   },
   {
    "duration": 18,
    "start_time": "2022-04-13T00:32:11.408Z"
   },
   {
    "duration": 415,
    "start_time": "2022-04-13T00:32:11.428Z"
   },
   {
    "duration": 17,
    "start_time": "2022-04-13T00:32:11.845Z"
   },
   {
    "duration": 393,
    "start_time": "2022-04-13T00:32:11.864Z"
   },
   {
    "duration": 14,
    "start_time": "2022-04-13T00:32:12.259Z"
   },
   {
    "duration": 166,
    "start_time": "2022-04-13T00:32:12.275Z"
   },
   {
    "duration": 0,
    "start_time": "2022-04-13T00:32:12.444Z"
   },
   {
    "duration": 0,
    "start_time": "2022-04-13T00:32:12.446Z"
   },
   {
    "duration": 0,
    "start_time": "2022-04-13T00:32:12.447Z"
   },
   {
    "duration": 0,
    "start_time": "2022-04-13T00:32:12.448Z"
   },
   {
    "duration": 0,
    "start_time": "2022-04-13T00:32:12.450Z"
   },
   {
    "duration": 0,
    "start_time": "2022-04-13T00:32:12.451Z"
   },
   {
    "duration": 0,
    "start_time": "2022-04-13T00:32:12.452Z"
   },
   {
    "duration": 0,
    "start_time": "2022-04-13T00:32:12.454Z"
   },
   {
    "duration": 0,
    "start_time": "2022-04-13T00:32:12.455Z"
   },
   {
    "duration": 0,
    "start_time": "2022-04-13T00:32:12.456Z"
   },
   {
    "duration": 0,
    "start_time": "2022-04-13T00:32:12.457Z"
   },
   {
    "duration": 0,
    "start_time": "2022-04-13T00:32:12.458Z"
   },
   {
    "duration": 0,
    "start_time": "2022-04-13T00:32:12.459Z"
   },
   {
    "duration": 0,
    "start_time": "2022-04-13T00:32:12.461Z"
   },
   {
    "duration": 0,
    "start_time": "2022-04-13T00:32:12.462Z"
   },
   {
    "duration": 0,
    "start_time": "2022-04-13T00:32:12.493Z"
   },
   {
    "duration": 0,
    "start_time": "2022-04-13T00:32:12.495Z"
   },
   {
    "duration": 0,
    "start_time": "2022-04-13T00:32:12.496Z"
   },
   {
    "duration": 0,
    "start_time": "2022-04-13T00:32:12.498Z"
   },
   {
    "duration": 0,
    "start_time": "2022-04-13T00:32:12.499Z"
   },
   {
    "duration": 0,
    "start_time": "2022-04-13T00:32:12.500Z"
   },
   {
    "duration": 0,
    "start_time": "2022-04-13T00:32:12.502Z"
   },
   {
    "duration": 181,
    "start_time": "2022-04-13T00:32:42.506Z"
   },
   {
    "duration": 239,
    "start_time": "2022-04-13T00:33:12.928Z"
   },
   {
    "duration": 186,
    "start_time": "2022-04-13T00:33:32.380Z"
   },
   {
    "duration": 197,
    "start_time": "2022-04-13T00:33:40.920Z"
   },
   {
    "duration": 47,
    "start_time": "2022-04-13T00:33:49.970Z"
   },
   {
    "duration": 193,
    "start_time": "2022-04-13T00:34:05.738Z"
   },
   {
    "duration": 185,
    "start_time": "2022-04-13T00:34:47.280Z"
   },
   {
    "duration": 93,
    "start_time": "2022-04-13T00:34:56.740Z"
   },
   {
    "duration": 433,
    "start_time": "2022-04-13T00:35:05.974Z"
   },
   {
    "duration": 193,
    "start_time": "2022-04-13T00:36:17.738Z"
   },
   {
    "duration": 182,
    "start_time": "2022-04-13T00:36:47.886Z"
   },
   {
    "duration": 14,
    "start_time": "2022-04-13T00:37:23.039Z"
   },
   {
    "duration": 4,
    "start_time": "2022-04-13T00:41:36.257Z"
   },
   {
    "duration": 12,
    "start_time": "2022-04-13T00:41:39.292Z"
   },
   {
    "duration": 12,
    "start_time": "2022-04-13T00:41:58.628Z"
   },
   {
    "duration": 12,
    "start_time": "2022-04-13T00:42:34.264Z"
   },
   {
    "duration": 1313,
    "start_time": "2022-04-13T00:44:16.122Z"
   },
   {
    "duration": 93,
    "start_time": "2022-04-13T00:44:17.437Z"
   },
   {
    "duration": 55,
    "start_time": "2022-04-13T00:44:17.533Z"
   },
   {
    "duration": 34,
    "start_time": "2022-04-13T00:44:17.591Z"
   },
   {
    "duration": 11,
    "start_time": "2022-04-13T00:44:17.627Z"
   },
   {
    "duration": 29,
    "start_time": "2022-04-13T00:44:17.640Z"
   },
   {
    "duration": 34,
    "start_time": "2022-04-13T00:44:17.672Z"
   },
   {
    "duration": 20,
    "start_time": "2022-04-13T00:44:17.709Z"
   },
   {
    "duration": 422,
    "start_time": "2022-04-13T00:44:17.731Z"
   },
   {
    "duration": 18,
    "start_time": "2022-04-13T00:44:18.157Z"
   },
   {
    "duration": 407,
    "start_time": "2022-04-13T00:44:18.177Z"
   },
   {
    "duration": 16,
    "start_time": "2022-04-13T00:44:18.586Z"
   },
   {
    "duration": 150,
    "start_time": "2022-04-13T00:44:18.605Z"
   },
   {
    "duration": 0,
    "start_time": "2022-04-13T00:44:18.758Z"
   },
   {
    "duration": 0,
    "start_time": "2022-04-13T00:44:18.760Z"
   },
   {
    "duration": 0,
    "start_time": "2022-04-13T00:44:18.762Z"
   },
   {
    "duration": 0,
    "start_time": "2022-04-13T00:44:18.763Z"
   },
   {
    "duration": 0,
    "start_time": "2022-04-13T00:44:18.765Z"
   },
   {
    "duration": 0,
    "start_time": "2022-04-13T00:44:18.766Z"
   },
   {
    "duration": 0,
    "start_time": "2022-04-13T00:44:18.768Z"
   },
   {
    "duration": 0,
    "start_time": "2022-04-13T00:44:18.769Z"
   },
   {
    "duration": 0,
    "start_time": "2022-04-13T00:44:18.771Z"
   },
   {
    "duration": 0,
    "start_time": "2022-04-13T00:44:18.793Z"
   },
   {
    "duration": 0,
    "start_time": "2022-04-13T00:44:18.794Z"
   },
   {
    "duration": 0,
    "start_time": "2022-04-13T00:44:18.796Z"
   },
   {
    "duration": 0,
    "start_time": "2022-04-13T00:44:18.798Z"
   },
   {
    "duration": 0,
    "start_time": "2022-04-13T00:44:18.799Z"
   },
   {
    "duration": 0,
    "start_time": "2022-04-13T00:44:18.801Z"
   },
   {
    "duration": 0,
    "start_time": "2022-04-13T00:44:18.802Z"
   },
   {
    "duration": 0,
    "start_time": "2022-04-13T00:44:18.804Z"
   },
   {
    "duration": 0,
    "start_time": "2022-04-13T00:44:18.806Z"
   },
   {
    "duration": 0,
    "start_time": "2022-04-13T00:44:18.807Z"
   },
   {
    "duration": 0,
    "start_time": "2022-04-13T00:44:18.808Z"
   },
   {
    "duration": 0,
    "start_time": "2022-04-13T00:44:18.810Z"
   },
   {
    "duration": 0,
    "start_time": "2022-04-13T00:44:18.811Z"
   },
   {
    "duration": 14,
    "start_time": "2022-04-13T00:44:45.407Z"
   },
   {
    "duration": 15,
    "start_time": "2022-04-13T00:45:18.614Z"
   },
   {
    "duration": 11,
    "start_time": "2022-04-13T00:45:40.858Z"
   },
   {
    "duration": 18,
    "start_time": "2022-04-13T01:07:54.094Z"
   },
   {
    "duration": 19,
    "start_time": "2022-04-13T01:13:55.771Z"
   },
   {
    "duration": 14,
    "start_time": "2022-04-13T01:14:07.812Z"
   },
   {
    "duration": 16,
    "start_time": "2022-04-13T01:14:37.828Z"
   },
   {
    "duration": 1379,
    "start_time": "2022-04-13T01:14:55.546Z"
   },
   {
    "duration": 100,
    "start_time": "2022-04-13T01:14:56.928Z"
   },
   {
    "duration": 55,
    "start_time": "2022-04-13T01:14:57.030Z"
   },
   {
    "duration": 35,
    "start_time": "2022-04-13T01:14:57.087Z"
   },
   {
    "duration": 12,
    "start_time": "2022-04-13T01:14:57.125Z"
   },
   {
    "duration": 30,
    "start_time": "2022-04-13T01:14:57.139Z"
   },
   {
    "duration": 32,
    "start_time": "2022-04-13T01:14:57.172Z"
   },
   {
    "duration": 20,
    "start_time": "2022-04-13T01:14:57.207Z"
   },
   {
    "duration": 421,
    "start_time": "2022-04-13T01:14:57.229Z"
   },
   {
    "duration": 18,
    "start_time": "2022-04-13T01:14:57.652Z"
   },
   {
    "duration": 378,
    "start_time": "2022-04-13T01:14:57.672Z"
   },
   {
    "duration": 13,
    "start_time": "2022-04-13T01:14:58.053Z"
   },
   {
    "duration": 8,
    "start_time": "2022-04-13T01:14:58.068Z"
   },
   {
    "duration": 298,
    "start_time": "2022-04-13T01:14:58.096Z"
   },
   {
    "duration": 221,
    "start_time": "2022-04-13T01:14:58.396Z"
   },
   {
    "duration": 21,
    "start_time": "2022-04-13T01:14:58.619Z"
   },
   {
    "duration": 485,
    "start_time": "2022-04-13T01:14:58.642Z"
   },
   {
    "duration": 321,
    "start_time": "2022-04-13T01:14:59.129Z"
   },
   {
    "duration": 441,
    "start_time": "2022-04-13T01:14:59.452Z"
   },
   {
    "duration": 347,
    "start_time": "2022-04-13T01:14:59.895Z"
   },
   {
    "duration": 456,
    "start_time": "2022-04-13T01:15:00.244Z"
   },
   {
    "duration": 530,
    "start_time": "2022-04-13T01:15:00.702Z"
   },
   {
    "duration": 6,
    "start_time": "2022-04-13T01:15:01.234Z"
   },
   {
    "duration": 590,
    "start_time": "2022-04-13T01:15:01.243Z"
   },
   {
    "duration": 8,
    "start_time": "2022-04-13T01:15:01.836Z"
   },
   {
    "duration": 396,
    "start_time": "2022-04-13T01:15:01.846Z"
   },
   {
    "duration": 271,
    "start_time": "2022-04-13T01:15:02.245Z"
   },
   {
    "duration": 11,
    "start_time": "2022-04-13T01:15:02.519Z"
   },
   {
    "duration": 8,
    "start_time": "2022-04-13T01:15:02.532Z"
   },
   {
    "duration": 55,
    "start_time": "2022-04-13T01:15:02.542Z"
   },
   {
    "duration": 12,
    "start_time": "2022-04-13T01:15:02.600Z"
   },
   {
    "duration": 15,
    "start_time": "2022-04-13T01:15:02.614Z"
   },
   {
    "duration": 13,
    "start_time": "2022-04-13T01:15:02.632Z"
   },
   {
    "duration": 70,
    "start_time": "2022-04-13T01:15:02.648Z"
   },
   {
    "duration": 15,
    "start_time": "2022-04-13T01:15:02.720Z"
   },
   {
    "duration": 11,
    "start_time": "2022-04-13T01:15:58.555Z"
   },
   {
    "duration": 146,
    "start_time": "2022-04-13T01:16:07.232Z"
   },
   {
    "duration": 21,
    "start_time": "2022-04-13T01:16:58.930Z"
   },
   {
    "duration": 12,
    "start_time": "2022-04-13T01:17:07.388Z"
   },
   {
    "duration": 11,
    "start_time": "2022-04-13T01:17:20.134Z"
   },
   {
    "duration": 12,
    "start_time": "2022-04-13T01:18:40.010Z"
   },
   {
    "duration": 11,
    "start_time": "2022-04-13T01:19:06.579Z"
   },
   {
    "duration": 15,
    "start_time": "2022-04-13T01:19:34.970Z"
   },
   {
    "duration": 15,
    "start_time": "2022-04-13T01:19:46.137Z"
   },
   {
    "duration": 14,
    "start_time": "2022-04-13T01:20:03.531Z"
   },
   {
    "duration": 14,
    "start_time": "2022-04-13T01:20:10.516Z"
   },
   {
    "duration": 18,
    "start_time": "2022-04-13T01:21:04.680Z"
   },
   {
    "duration": 15,
    "start_time": "2022-04-13T01:21:20.299Z"
   },
   {
    "duration": 1471,
    "start_time": "2022-04-13T01:21:40.451Z"
   },
   {
    "duration": 93,
    "start_time": "2022-04-13T01:21:41.925Z"
   },
   {
    "duration": 61,
    "start_time": "2022-04-13T01:21:42.021Z"
   },
   {
    "duration": 39,
    "start_time": "2022-04-13T01:21:42.085Z"
   },
   {
    "duration": 13,
    "start_time": "2022-04-13T01:21:42.127Z"
   },
   {
    "duration": 29,
    "start_time": "2022-04-13T01:21:42.142Z"
   },
   {
    "duration": 18,
    "start_time": "2022-04-13T01:21:42.193Z"
   },
   {
    "duration": 20,
    "start_time": "2022-04-13T01:21:42.214Z"
   },
   {
    "duration": 465,
    "start_time": "2022-04-13T01:21:42.236Z"
   },
   {
    "duration": 20,
    "start_time": "2022-04-13T01:21:42.705Z"
   },
   {
    "duration": 400,
    "start_time": "2022-04-13T01:21:42.727Z"
   },
   {
    "duration": 16,
    "start_time": "2022-04-13T01:21:43.130Z"
   },
   {
    "duration": 18,
    "start_time": "2022-04-13T01:21:43.148Z"
   },
   {
    "duration": 329,
    "start_time": "2022-04-13T01:21:43.168Z"
   },
   {
    "duration": 217,
    "start_time": "2022-04-13T01:21:43.499Z"
   },
   {
    "duration": 19,
    "start_time": "2022-04-13T01:21:43.718Z"
   },
   {
    "duration": 433,
    "start_time": "2022-04-13T01:21:43.739Z"
   },
   {
    "duration": 319,
    "start_time": "2022-04-13T01:21:44.175Z"
   },
   {
    "duration": 392,
    "start_time": "2022-04-13T01:21:44.496Z"
   },
   {
    "duration": 326,
    "start_time": "2022-04-13T01:21:44.893Z"
   },
   {
    "duration": 379,
    "start_time": "2022-04-13T01:21:45.222Z"
   },
   {
    "duration": 490,
    "start_time": "2022-04-13T01:21:45.603Z"
   },
   {
    "duration": 5,
    "start_time": "2022-04-13T01:21:46.095Z"
   },
   {
    "duration": 513,
    "start_time": "2022-04-13T01:21:46.102Z"
   },
   {
    "duration": 6,
    "start_time": "2022-04-13T01:21:46.617Z"
   },
   {
    "duration": 402,
    "start_time": "2022-04-13T01:21:46.625Z"
   },
   {
    "duration": 274,
    "start_time": "2022-04-13T01:21:47.030Z"
   },
   {
    "duration": 8,
    "start_time": "2022-04-13T01:21:47.309Z"
   },
   {
    "duration": 13,
    "start_time": "2022-04-13T01:21:47.319Z"
   },
   {
    "duration": 35,
    "start_time": "2022-04-13T01:21:47.334Z"
   },
   {
    "duration": 28,
    "start_time": "2022-04-13T01:21:47.371Z"
   },
   {
    "duration": 14,
    "start_time": "2022-04-13T01:21:47.401Z"
   },
   {
    "duration": 11,
    "start_time": "2022-04-13T01:21:47.417Z"
   },
   {
    "duration": 64,
    "start_time": "2022-04-13T01:21:47.430Z"
   },
   {
    "duration": 12,
    "start_time": "2022-04-13T01:21:47.497Z"
   },
   {
    "duration": 1377,
    "start_time": "2022-04-13T01:23:40.247Z"
   },
   {
    "duration": 88,
    "start_time": "2022-04-13T01:23:41.627Z"
   },
   {
    "duration": 55,
    "start_time": "2022-04-13T01:23:41.717Z"
   },
   {
    "duration": 35,
    "start_time": "2022-04-13T01:23:41.774Z"
   },
   {
    "duration": 11,
    "start_time": "2022-04-13T01:23:41.813Z"
   },
   {
    "duration": 29,
    "start_time": "2022-04-13T01:23:41.826Z"
   },
   {
    "duration": 48,
    "start_time": "2022-04-13T01:23:41.857Z"
   },
   {
    "duration": 20,
    "start_time": "2022-04-13T01:23:41.907Z"
   },
   {
    "duration": 418,
    "start_time": "2022-04-13T01:23:41.929Z"
   },
   {
    "duration": 19,
    "start_time": "2022-04-13T01:23:42.349Z"
   },
   {
    "duration": 399,
    "start_time": "2022-04-13T01:23:42.370Z"
   },
   {
    "duration": 28,
    "start_time": "2022-04-13T01:23:42.771Z"
   },
   {
    "duration": 6,
    "start_time": "2022-04-13T01:23:42.801Z"
   },
   {
    "duration": 295,
    "start_time": "2022-04-13T01:23:42.811Z"
   },
   {
    "duration": 216,
    "start_time": "2022-04-13T01:23:43.108Z"
   },
   {
    "duration": 19,
    "start_time": "2022-04-13T01:23:43.326Z"
   },
   {
    "duration": 439,
    "start_time": "2022-04-13T01:23:43.347Z"
   },
   {
    "duration": 314,
    "start_time": "2022-04-13T01:23:43.788Z"
   },
   {
    "duration": 379,
    "start_time": "2022-04-13T01:23:44.105Z"
   },
   {
    "duration": 323,
    "start_time": "2022-04-13T01:23:44.486Z"
   },
   {
    "duration": 406,
    "start_time": "2022-04-13T01:23:44.811Z"
   },
   {
    "duration": 524,
    "start_time": "2022-04-13T01:23:45.220Z"
   },
   {
    "duration": 6,
    "start_time": "2022-04-13T01:23:45.746Z"
   },
   {
    "duration": 525,
    "start_time": "2022-04-13T01:23:45.754Z"
   },
   {
    "duration": 14,
    "start_time": "2022-04-13T01:23:46.281Z"
   },
   {
    "duration": 364,
    "start_time": "2022-04-13T01:23:46.297Z"
   },
   {
    "duration": 211,
    "start_time": "2022-04-13T01:23:46.663Z"
   },
   {
    "duration": 17,
    "start_time": "2022-04-13T01:23:46.876Z"
   },
   {
    "duration": 5,
    "start_time": "2022-04-13T01:23:46.895Z"
   },
   {
    "duration": 35,
    "start_time": "2022-04-13T01:23:46.903Z"
   },
   {
    "duration": 10,
    "start_time": "2022-04-13T01:23:46.940Z"
   },
   {
    "duration": 42,
    "start_time": "2022-04-13T01:23:46.952Z"
   },
   {
    "duration": 16,
    "start_time": "2022-04-13T01:23:46.996Z"
   },
   {
    "duration": 27,
    "start_time": "2022-04-13T01:23:47.014Z"
   },
   {
    "duration": 13,
    "start_time": "2022-04-13T01:23:47.043Z"
   },
   {
    "duration": 6,
    "start_time": "2022-04-13T02:19:21.821Z"
   },
   {
    "duration": 1378,
    "start_time": "2022-04-13T02:19:37.354Z"
   },
   {
    "duration": 92,
    "start_time": "2022-04-13T02:19:38.735Z"
   },
   {
    "duration": 56,
    "start_time": "2022-04-13T02:19:38.829Z"
   },
   {
    "duration": 36,
    "start_time": "2022-04-13T02:19:38.887Z"
   },
   {
    "duration": 12,
    "start_time": "2022-04-13T02:19:38.926Z"
   },
   {
    "duration": 28,
    "start_time": "2022-04-13T02:19:38.940Z"
   },
   {
    "duration": 31,
    "start_time": "2022-04-13T02:19:38.970Z"
   },
   {
    "duration": 21,
    "start_time": "2022-04-13T02:19:39.003Z"
   },
   {
    "duration": 417,
    "start_time": "2022-04-13T02:19:39.026Z"
   },
   {
    "duration": 18,
    "start_time": "2022-04-13T02:19:39.445Z"
   },
   {
    "duration": 382,
    "start_time": "2022-04-13T02:19:39.465Z"
   },
   {
    "duration": 15,
    "start_time": "2022-04-13T02:19:39.849Z"
   },
   {
    "duration": 26,
    "start_time": "2022-04-13T02:19:39.867Z"
   },
   {
    "duration": 294,
    "start_time": "2022-04-13T02:19:39.898Z"
   },
   {
    "duration": 218,
    "start_time": "2022-04-13T02:19:40.195Z"
   },
   {
    "duration": 31,
    "start_time": "2022-04-13T02:19:40.415Z"
   },
   {
    "duration": 432,
    "start_time": "2022-04-13T02:19:40.448Z"
   },
   {
    "duration": 327,
    "start_time": "2022-04-13T02:19:40.882Z"
   },
   {
    "duration": 371,
    "start_time": "2022-04-13T02:19:41.211Z"
   },
   {
    "duration": 316,
    "start_time": "2022-04-13T02:19:41.584Z"
   },
   {
    "duration": 388,
    "start_time": "2022-04-13T02:19:41.902Z"
   },
   {
    "duration": 460,
    "start_time": "2022-04-13T02:19:42.293Z"
   },
   {
    "duration": 5,
    "start_time": "2022-04-13T02:19:42.756Z"
   },
   {
    "duration": 541,
    "start_time": "2022-04-13T02:19:42.764Z"
   },
   {
    "duration": 8,
    "start_time": "2022-04-13T02:19:43.307Z"
   },
   {
    "duration": 397,
    "start_time": "2022-04-13T02:19:43.317Z"
   },
   {
    "duration": 240,
    "start_time": "2022-04-13T02:19:43.716Z"
   },
   {
    "duration": 8,
    "start_time": "2022-04-13T02:19:43.959Z"
   },
   {
    "duration": 9,
    "start_time": "2022-04-13T02:19:43.969Z"
   },
   {
    "duration": 31,
    "start_time": "2022-04-13T02:19:43.993Z"
   },
   {
    "duration": 11,
    "start_time": "2022-04-13T02:19:44.026Z"
   },
   {
    "duration": 14,
    "start_time": "2022-04-13T02:19:44.039Z"
   },
   {
    "duration": 43,
    "start_time": "2022-04-13T02:19:44.055Z"
   },
   {
    "duration": 29,
    "start_time": "2022-04-13T02:19:44.100Z"
   },
   {
    "duration": 13,
    "start_time": "2022-04-13T02:19:44.131Z"
   },
   {
    "duration": 209,
    "start_time": "2022-04-13T02:25:56.327Z"
   },
   {
    "duration": 1346,
    "start_time": "2022-04-13T02:42:46.284Z"
   },
   {
    "duration": 97,
    "start_time": "2022-04-13T02:42:47.633Z"
   },
   {
    "duration": 54,
    "start_time": "2022-04-13T02:42:47.732Z"
   },
   {
    "duration": 34,
    "start_time": "2022-04-13T02:42:47.789Z"
   },
   {
    "duration": 12,
    "start_time": "2022-04-13T02:42:47.825Z"
   },
   {
    "duration": 28,
    "start_time": "2022-04-13T02:42:47.839Z"
   },
   {
    "duration": 32,
    "start_time": "2022-04-13T02:42:47.869Z"
   },
   {
    "duration": 19,
    "start_time": "2022-04-13T02:42:47.903Z"
   },
   {
    "duration": 515,
    "start_time": "2022-04-13T02:42:47.924Z"
   },
   {
    "duration": 20,
    "start_time": "2022-04-13T02:42:48.443Z"
   },
   {
    "duration": 384,
    "start_time": "2022-04-13T02:42:48.465Z"
   },
   {
    "duration": 16,
    "start_time": "2022-04-13T02:42:48.851Z"
   },
   {
    "duration": 26,
    "start_time": "2022-04-13T02:42:48.869Z"
   },
   {
    "duration": 296,
    "start_time": "2022-04-13T02:42:48.897Z"
   },
   {
    "duration": 207,
    "start_time": "2022-04-13T02:42:49.195Z"
   },
   {
    "duration": 20,
    "start_time": "2022-04-13T02:42:49.404Z"
   },
   {
    "duration": 427,
    "start_time": "2022-04-13T02:42:49.426Z"
   },
   {
    "duration": 321,
    "start_time": "2022-04-13T02:42:49.855Z"
   },
   {
    "duration": 393,
    "start_time": "2022-04-13T02:42:50.178Z"
   },
   {
    "duration": 320,
    "start_time": "2022-04-13T02:42:50.573Z"
   },
   {
    "duration": 394,
    "start_time": "2022-04-13T02:42:50.895Z"
   },
   {
    "duration": 433,
    "start_time": "2022-04-13T02:42:51.292Z"
   },
   {
    "duration": 5,
    "start_time": "2022-04-13T02:42:51.728Z"
   },
   {
    "duration": 533,
    "start_time": "2022-04-13T02:42:51.735Z"
   },
   {
    "duration": 6,
    "start_time": "2022-04-13T02:42:52.270Z"
   },
   {
    "duration": 392,
    "start_time": "2022-04-13T02:42:52.278Z"
   },
   {
    "duration": 214,
    "start_time": "2022-04-13T02:42:52.673Z"
   },
   {
    "duration": 8,
    "start_time": "2022-04-13T02:42:52.891Z"
   },
   {
    "duration": 10,
    "start_time": "2022-04-13T02:42:52.901Z"
   },
   {
    "duration": 31,
    "start_time": "2022-04-13T02:42:52.913Z"
   },
   {
    "duration": 11,
    "start_time": "2022-04-13T02:42:52.946Z"
   },
   {
    "duration": 41,
    "start_time": "2022-04-13T02:42:52.959Z"
   },
   {
    "duration": 10,
    "start_time": "2022-04-13T02:42:53.002Z"
   },
   {
    "duration": 30,
    "start_time": "2022-04-13T02:42:53.014Z"
   },
   {
    "duration": 12,
    "start_time": "2022-04-13T02:42:53.046Z"
   },
   {
    "duration": 1373,
    "start_time": "2022-04-13T03:04:13.482Z"
   },
   {
    "duration": 95,
    "start_time": "2022-04-13T03:04:14.857Z"
   },
   {
    "duration": 57,
    "start_time": "2022-04-13T03:04:14.955Z"
   },
   {
    "duration": 38,
    "start_time": "2022-04-13T03:04:15.016Z"
   },
   {
    "duration": 13,
    "start_time": "2022-04-13T03:04:15.057Z"
   },
   {
    "duration": 44,
    "start_time": "2022-04-13T03:04:15.073Z"
   },
   {
    "duration": 17,
    "start_time": "2022-04-13T03:04:15.119Z"
   },
   {
    "duration": 20,
    "start_time": "2022-04-13T03:04:15.138Z"
   },
   {
    "duration": 459,
    "start_time": "2022-04-13T03:04:15.160Z"
   },
   {
    "duration": 18,
    "start_time": "2022-04-13T03:04:15.623Z"
   },
   {
    "duration": 388,
    "start_time": "2022-04-13T03:04:15.643Z"
   },
   {
    "duration": 15,
    "start_time": "2022-04-13T03:04:16.033Z"
   },
   {
    "duration": 6,
    "start_time": "2022-04-13T03:04:16.050Z"
   },
   {
    "duration": 305,
    "start_time": "2022-04-13T03:04:16.058Z"
   },
   {
    "duration": 213,
    "start_time": "2022-04-13T03:04:16.365Z"
   },
   {
    "duration": 20,
    "start_time": "2022-04-13T03:04:16.593Z"
   },
   {
    "duration": 440,
    "start_time": "2022-04-13T03:04:16.615Z"
   },
   {
    "duration": 316,
    "start_time": "2022-04-13T03:04:17.057Z"
   },
   {
    "duration": 426,
    "start_time": "2022-04-13T03:04:17.375Z"
   },
   {
    "duration": 316,
    "start_time": "2022-04-13T03:04:17.803Z"
   },
   {
    "duration": 401,
    "start_time": "2022-04-13T03:04:18.121Z"
   },
   {
    "duration": 529,
    "start_time": "2022-04-13T03:04:18.525Z"
   },
   {
    "duration": 5,
    "start_time": "2022-04-13T03:04:19.056Z"
   },
   {
    "duration": 507,
    "start_time": "2022-04-13T03:04:19.064Z"
   },
   {
    "duration": 5,
    "start_time": "2022-04-13T03:04:19.573Z"
   },
   {
    "duration": 394,
    "start_time": "2022-04-13T03:04:19.581Z"
   },
   {
    "duration": 259,
    "start_time": "2022-04-13T03:04:19.977Z"
   },
   {
    "duration": 8,
    "start_time": "2022-04-13T03:04:20.241Z"
   },
   {
    "duration": 11,
    "start_time": "2022-04-13T03:04:20.251Z"
   },
   {
    "duration": 45,
    "start_time": "2022-04-13T03:04:20.264Z"
   },
   {
    "duration": 11,
    "start_time": "2022-04-13T03:04:20.312Z"
   },
   {
    "duration": 14,
    "start_time": "2022-04-13T03:04:20.325Z"
   },
   {
    "duration": 18,
    "start_time": "2022-04-13T03:04:20.341Z"
   },
   {
    "duration": 56,
    "start_time": "2022-04-13T03:04:20.361Z"
   },
   {
    "duration": 13,
    "start_time": "2022-04-13T03:04:20.419Z"
   },
   {
    "duration": 1261,
    "start_time": "2022-04-13T17:59:16.321Z"
   },
   {
    "duration": 96,
    "start_time": "2022-04-13T17:59:17.584Z"
   },
   {
    "duration": 31,
    "start_time": "2022-04-13T17:59:17.681Z"
   },
   {
    "duration": 24,
    "start_time": "2022-04-13T17:59:17.715Z"
   },
   {
    "duration": 9,
    "start_time": "2022-04-13T17:59:17.741Z"
   },
   {
    "duration": 28,
    "start_time": "2022-04-13T17:59:17.754Z"
   },
   {
    "duration": 10,
    "start_time": "2022-04-13T17:59:17.784Z"
   },
   {
    "duration": 15,
    "start_time": "2022-04-13T17:59:17.795Z"
   },
   {
    "duration": 283,
    "start_time": "2022-04-13T17:59:17.813Z"
   },
   {
    "duration": 13,
    "start_time": "2022-04-13T17:59:18.099Z"
   },
   {
    "duration": 251,
    "start_time": "2022-04-13T17:59:18.113Z"
   },
   {
    "duration": 12,
    "start_time": "2022-04-13T17:59:18.367Z"
   },
   {
    "duration": 4,
    "start_time": "2022-04-13T17:59:18.381Z"
   },
   {
    "duration": 199,
    "start_time": "2022-04-13T17:59:18.386Z"
   },
   {
    "duration": 130,
    "start_time": "2022-04-13T17:59:18.587Z"
   },
   {
    "duration": 13,
    "start_time": "2022-04-13T17:59:18.719Z"
   },
   {
    "duration": 279,
    "start_time": "2022-04-13T17:59:18.734Z"
   },
   {
    "duration": 206,
    "start_time": "2022-04-13T17:59:19.015Z"
   },
   {
    "duration": 333,
    "start_time": "2022-04-13T17:59:19.223Z"
   },
   {
    "duration": 210,
    "start_time": "2022-04-13T17:59:19.557Z"
   },
   {
    "duration": 298,
    "start_time": "2022-04-13T17:59:19.769Z"
   },
   {
    "duration": 295,
    "start_time": "2022-04-13T17:59:20.071Z"
   },
   {
    "duration": 4,
    "start_time": "2022-04-13T17:59:20.368Z"
   },
   {
    "duration": 369,
    "start_time": "2022-04-13T17:59:20.374Z"
   },
   {
    "duration": 11,
    "start_time": "2022-04-13T17:59:20.745Z"
   },
   {
    "duration": 235,
    "start_time": "2022-04-13T17:59:20.758Z"
   },
   {
    "duration": 138,
    "start_time": "2022-04-13T17:59:20.994Z"
   },
   {
    "duration": 20,
    "start_time": "2022-04-13T17:59:21.136Z"
   },
   {
    "duration": 19,
    "start_time": "2022-04-13T17:59:21.158Z"
   },
   {
    "duration": 30,
    "start_time": "2022-04-13T17:59:21.178Z"
   },
   {
    "duration": 9,
    "start_time": "2022-04-13T17:59:21.209Z"
   },
   {
    "duration": 9,
    "start_time": "2022-04-13T17:59:21.219Z"
   },
   {
    "duration": 10,
    "start_time": "2022-04-13T17:59:21.230Z"
   },
   {
    "duration": 40,
    "start_time": "2022-04-13T17:59:21.241Z"
   },
   {
    "duration": 10,
    "start_time": "2022-04-13T17:59:21.283Z"
   }
  ],
  "kernelspec": {
   "display_name": "Python 3 (ipykernel)",
   "language": "python",
   "name": "python3"
  },
  "language_info": {
   "codemirror_mode": {
    "name": "ipython",
    "version": 3
   },
   "file_extension": ".py",
   "mimetype": "text/x-python",
   "name": "python",
   "nbconvert_exporter": "python",
   "pygments_lexer": "ipython3",
   "version": "3.9.12"
  },
  "toc": {
   "base_numbering": 1,
   "nav_menu": {},
   "number_sections": true,
   "sideBar": true,
   "skip_h1_title": true,
   "title_cell": "Table of Contents",
   "title_sidebar": "Contents",
   "toc_cell": false,
   "toc_position": {
    "height": "calc(100% - 180px)",
    "left": "10px",
    "top": "150px",
    "width": "235px"
   },
   "toc_section_display": true,
   "toc_window_display": true
  }
 },
 "nbformat": 4,
 "nbformat_minor": 2
}
