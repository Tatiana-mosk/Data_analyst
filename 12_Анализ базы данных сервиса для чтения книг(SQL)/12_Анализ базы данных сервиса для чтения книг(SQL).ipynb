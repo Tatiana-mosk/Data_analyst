{
 "cells": [
  {
   "cell_type": "markdown",
   "metadata": {},
   "source": [
    "# Анализ базы данных сервиса для чтения книг"
   ]
  },
  {
   "cell_type": "markdown",
   "metadata": {},
   "source": [
    "Коронавирус застал мир врасплох, изменив привычный порядок вещей. В свободное время жители городов больше не выходят на улицу, не посещают кафе и торговые центры. Зато стало больше времени для книг. Это заметили стартаперы — и бросились создавать приложения для тех, кто любит читать."
   ]
  },
  {
   "cell_type": "markdown",
   "metadata": {},
   "source": [
    "# Цель исследования\n",
    "\n",
    "В связи с приобретением компанией крупного сервиса для чтения книг по подписке, необходимо провести анализ базы данных, благодаря которому будет возможно формулирование ценностного предложения для нового продукта. \n",
    "\n"
   ]
  },
  {
   "cell_type": "markdown",
   "metadata": {},
   "source": [
    "# Описание данных\n",
    "\n",
    "\n",
    "Таблица **\"books\"** (содержит данные о книгах):\n",
    "\n",
    "\n",
    "\n",
    "- **book_id** — идентификатор книги;\n",
    "\n",
    "- **author_id** — идентификатор автора;\n",
    "\n",
    "- **title** — название книги;\n",
    "\n",
    "- **num_pages** — количество страниц;\n",
    "\n",
    "- **publication_date** — дата публикации книги;\n",
    "\n",
    "- **publisher_id** — идентификатор издателя.\n",
    "\n",
    "\n",
    "\n",
    "\n",
    "\n",
    "\n"
   ]
  },
  {
   "cell_type": "markdown",
   "metadata": {},
   "source": [
    "Таблица **\"authors\"** (содержит данные об авторах):\n",
    "\n",
    "- **author_id** — идентификатор автора;\n",
    "\n",
    "- **author** — имя автора.\n",
    "\n",
    "\n",
    "\n",
    "\n",
    "\n",
    "\n"
   ]
  },
  {
   "cell_type": "markdown",
   "metadata": {},
   "source": [
    "Таблица **\"publishers\"** (содержит данные об издательствах):\n",
    "\n",
    "- **publisher_id** — идентификатор издательства;\n",
    "\n",
    "- **publisher** — название издательства;\n",
    "\n",
    "\n",
    "\n",
    "\n",
    "\n",
    "\n"
   ]
  },
  {
   "cell_type": "markdown",
   "metadata": {},
   "source": [
    "Таблица **\"ratings\"** (содержит данные о пользовательских оценках книг):\n",
    "\n",
    "- **rating_id** — идентификатор оценки;\n",
    "\n",
    "- **book_id** — идентификатор книги;\n",
    "\n",
    "- **username** — имя пользователя, оставившего оценку;\n",
    "\n",
    "\n",
    "\n",
    "\n",
    "\n",
    "\n"
   ]
  },
  {
   "cell_type": "markdown",
   "metadata": {},
   "source": [
    "Таблица **\"reviews\"** (содержит данные о пользовательских обзорах на книги):\n",
    "\n",
    "- **review_id** — идентификатор обзора;\n",
    "\n",
    "- **book_id** — идентификатор книги;\n",
    "\n",
    "- **username** — имя пользователя, написавшего обзор;\n",
    "\n",
    "- **text** — текст обзора."
   ]
  },
  {
   "cell_type": "markdown",
   "metadata": {},
   "source": [
    "# План работы:\n",
    "\n",
    "[1. Подключение к базе данных и изучение таблиц](#one)\n",
    "\n",
    "[2.Анализ данных](#two)\n",
    "\n",
    "   [2.1.Расчет количества книг, которые вышли после 1 января 2000 года](#two_1)\n",
    "   \n",
    "   [2.1.1. Вывод](#two_1_1)\n",
    "   \n",
    "   [2.2. Расчет для каждой книги количества обзоров и средней оценки](#two_2)\n",
    "   \n",
    "   [2.2.1. Вывод](#two_2_1)\n",
    "   \n",
    "   [2.3.Определение издательства, которое выпустило наибольшее число книг толще 50 страниц](#two_3)\n",
    "   \n",
    "   [2.3.1. Вывод](#two_3_1)\n",
    "   \n",
    "   [2.4. Определение автора с самой высокой средней оценкой книг, учитывая только книги с 50 и более оценками](#two_4)\n",
    "   \n",
    "   [2.4.1. Вывод](#two_4_1)\n",
    "   \n",
    "   [2.5. Расчет среднего количества обзоров от пользователей, которые поставили больше 50 оценок](#two_5)\n",
    "   \n",
    "   [2.5.1. Вывод](#two_5_1)\n",
    "   \n",
    " [3. Общий вывод](#three)"
   ]
  },
  {
   "cell_type": "markdown",
   "metadata": {},
   "source": [
    "<a id=\"one\"></a> \n",
    "## Подключение к базе данных и изучение таблиц"
   ]
  },
  {
   "cell_type": "code",
   "execution_count": 1,
   "metadata": {},
   "outputs": [],
   "source": [
    "# импортируем библиотеки\n",
    "import pandas as pd \n",
    "from sqlalchemy import create_engine \n",
    "# устанавливаем параметры\n",
    "db_config = {'user': '.........', # имя пользователя\n",
    "             'pwd': '...........', # пароль\n",
    "             'host': '...............', \n",
    "             'port': ......, # порт подключения\n",
    "              'db': '...........'} # название базы данных\n",
    "connection_string = '.............              '.format(db_config['...'], \n",
    "                                                         db_config['...'], \n",
    "                                                         db_config['...'], \n",
    "                                                         db_config['...'], \n",
    "                                                         db_config['...']) \n",
    "# сохраняем коннектор\n",
    "engine = create_engine(connection_string, connect_args={'sslmode':'require'})"
   ]
  },
  {
   "cell_type": "code",
   "execution_count": 2,
   "metadata": {},
   "outputs": [],
   "source": [
    "# создадим функцию, которая принимает на вход SQL-запрос и выводит  результат SQL-запроса\n",
    "\n",
    "def request_result(query):\n",
    "  return pd.io.sql.read_sql(query, con = engine)"
   ]
  },
  {
   "cell_type": "markdown",
   "metadata": {},
   "source": [
    "**Запрос к таблице  \"books\"**"
   ]
  },
  {
   "cell_type": "code",
   "execution_count": 3,
   "metadata": {},
   "outputs": [
    {
     "data": {
      "text/html": [
       "<div>\n",
       "<style scoped>\n",
       "    .dataframe tbody tr th:only-of-type {\n",
       "        vertical-align: middle;\n",
       "    }\n",
       "\n",
       "    .dataframe tbody tr th {\n",
       "        vertical-align: top;\n",
       "    }\n",
       "\n",
       "    .dataframe thead th {\n",
       "        text-align: right;\n",
       "    }\n",
       "</style>\n",
       "<table border=\"1\" class=\"dataframe\">\n",
       "  <thead>\n",
       "    <tr style=\"text-align: right;\">\n",
       "      <th></th>\n",
       "      <th>book_id</th>\n",
       "      <th>author_id</th>\n",
       "      <th>title</th>\n",
       "      <th>num_pages</th>\n",
       "      <th>publication_date</th>\n",
       "      <th>publisher_id</th>\n",
       "    </tr>\n",
       "  </thead>\n",
       "  <tbody>\n",
       "    <tr>\n",
       "      <th>0</th>\n",
       "      <td>1</td>\n",
       "      <td>546</td>\n",
       "      <td>'Salem's Lot</td>\n",
       "      <td>594</td>\n",
       "      <td>2005-11-01</td>\n",
       "      <td>93</td>\n",
       "    </tr>\n",
       "    <tr>\n",
       "      <th>1</th>\n",
       "      <td>2</td>\n",
       "      <td>465</td>\n",
       "      <td>1 000 Places to See Before You Die</td>\n",
       "      <td>992</td>\n",
       "      <td>2003-05-22</td>\n",
       "      <td>336</td>\n",
       "    </tr>\n",
       "    <tr>\n",
       "      <th>2</th>\n",
       "      <td>3</td>\n",
       "      <td>407</td>\n",
       "      <td>13 Little Blue Envelopes (Little Blue Envelope...</td>\n",
       "      <td>322</td>\n",
       "      <td>2010-12-21</td>\n",
       "      <td>135</td>\n",
       "    </tr>\n",
       "    <tr>\n",
       "      <th>3</th>\n",
       "      <td>4</td>\n",
       "      <td>82</td>\n",
       "      <td>1491: New Revelations of the Americas Before C...</td>\n",
       "      <td>541</td>\n",
       "      <td>2006-10-10</td>\n",
       "      <td>309</td>\n",
       "    </tr>\n",
       "    <tr>\n",
       "      <th>4</th>\n",
       "      <td>5</td>\n",
       "      <td>125</td>\n",
       "      <td>1776</td>\n",
       "      <td>386</td>\n",
       "      <td>2006-07-04</td>\n",
       "      <td>268</td>\n",
       "    </tr>\n",
       "  </tbody>\n",
       "</table>\n",
       "</div>"
      ],
      "text/plain": [
       "   book_id  author_id                                              title  \\\n",
       "0        1        546                                       'Salem's Lot   \n",
       "1        2        465                 1 000 Places to See Before You Die   \n",
       "2        3        407  13 Little Blue Envelopes (Little Blue Envelope...   \n",
       "3        4         82  1491: New Revelations of the Americas Before C...   \n",
       "4        5        125                                               1776   \n",
       "\n",
       "   num_pages publication_date  publisher_id  \n",
       "0        594       2005-11-01            93  \n",
       "1        992       2003-05-22           336  \n",
       "2        322       2010-12-21           135  \n",
       "3        541       2006-10-10           309  \n",
       "4        386       2006-07-04           268  "
      ]
     },
     "execution_count": 3,
     "metadata": {},
     "output_type": "execute_result"
    }
   ],
   "source": [
    "query = '''SELECT * \n",
    "           FROM books\n",
    "           LIMIT 5\n",
    "\n",
    "        '''\n",
    "request_result(query)"
   ]
  },
  {
   "cell_type": "markdown",
   "metadata": {},
   "source": [
    "**Запрос к таблице \"authors\"**"
   ]
  },
  {
   "cell_type": "code",
   "execution_count": 4,
   "metadata": {},
   "outputs": [
    {
     "data": {
      "text/html": [
       "<div>\n",
       "<style scoped>\n",
       "    .dataframe tbody tr th:only-of-type {\n",
       "        vertical-align: middle;\n",
       "    }\n",
       "\n",
       "    .dataframe tbody tr th {\n",
       "        vertical-align: top;\n",
       "    }\n",
       "\n",
       "    .dataframe thead th {\n",
       "        text-align: right;\n",
       "    }\n",
       "</style>\n",
       "<table border=\"1\" class=\"dataframe\">\n",
       "  <thead>\n",
       "    <tr style=\"text-align: right;\">\n",
       "      <th></th>\n",
       "      <th>author_id</th>\n",
       "      <th>author</th>\n",
       "    </tr>\n",
       "  </thead>\n",
       "  <tbody>\n",
       "    <tr>\n",
       "      <th>0</th>\n",
       "      <td>1</td>\n",
       "      <td>A.S. Byatt</td>\n",
       "    </tr>\n",
       "    <tr>\n",
       "      <th>1</th>\n",
       "      <td>2</td>\n",
       "      <td>Aesop/Laura Harris/Laura Gibbs</td>\n",
       "    </tr>\n",
       "    <tr>\n",
       "      <th>2</th>\n",
       "      <td>3</td>\n",
       "      <td>Agatha Christie</td>\n",
       "    </tr>\n",
       "    <tr>\n",
       "      <th>3</th>\n",
       "      <td>4</td>\n",
       "      <td>Alan Brennert</td>\n",
       "    </tr>\n",
       "    <tr>\n",
       "      <th>4</th>\n",
       "      <td>5</td>\n",
       "      <td>Alan Moore/David   Lloyd</td>\n",
       "    </tr>\n",
       "  </tbody>\n",
       "</table>\n",
       "</div>"
      ],
      "text/plain": [
       "   author_id                          author\n",
       "0          1                      A.S. Byatt\n",
       "1          2  Aesop/Laura Harris/Laura Gibbs\n",
       "2          3                 Agatha Christie\n",
       "3          4                   Alan Brennert\n",
       "4          5        Alan Moore/David   Lloyd"
      ]
     },
     "execution_count": 4,
     "metadata": {},
     "output_type": "execute_result"
    }
   ],
   "source": [
    "query = '''SELECT * \n",
    "           FROM authors\n",
    "           LIMIT 5\n",
    "\n",
    "        '''\n",
    "request_result(query)"
   ]
  },
  {
   "cell_type": "markdown",
   "metadata": {},
   "source": [
    "**Запрос к таблице \"publishers\"**"
   ]
  },
  {
   "cell_type": "code",
   "execution_count": 5,
   "metadata": {},
   "outputs": [
    {
     "data": {
      "text/html": [
       "<div>\n",
       "<style scoped>\n",
       "    .dataframe tbody tr th:only-of-type {\n",
       "        vertical-align: middle;\n",
       "    }\n",
       "\n",
       "    .dataframe tbody tr th {\n",
       "        vertical-align: top;\n",
       "    }\n",
       "\n",
       "    .dataframe thead th {\n",
       "        text-align: right;\n",
       "    }\n",
       "</style>\n",
       "<table border=\"1\" class=\"dataframe\">\n",
       "  <thead>\n",
       "    <tr style=\"text-align: right;\">\n",
       "      <th></th>\n",
       "      <th>publisher_id</th>\n",
       "      <th>publisher</th>\n",
       "    </tr>\n",
       "  </thead>\n",
       "  <tbody>\n",
       "    <tr>\n",
       "      <th>0</th>\n",
       "      <td>1</td>\n",
       "      <td>Ace</td>\n",
       "    </tr>\n",
       "    <tr>\n",
       "      <th>1</th>\n",
       "      <td>2</td>\n",
       "      <td>Ace Book</td>\n",
       "    </tr>\n",
       "    <tr>\n",
       "      <th>2</th>\n",
       "      <td>3</td>\n",
       "      <td>Ace Books</td>\n",
       "    </tr>\n",
       "    <tr>\n",
       "      <th>3</th>\n",
       "      <td>4</td>\n",
       "      <td>Ace Hardcover</td>\n",
       "    </tr>\n",
       "    <tr>\n",
       "      <th>4</th>\n",
       "      <td>5</td>\n",
       "      <td>Addison Wesley Publishing Company</td>\n",
       "    </tr>\n",
       "  </tbody>\n",
       "</table>\n",
       "</div>"
      ],
      "text/plain": [
       "   publisher_id                          publisher\n",
       "0             1                                Ace\n",
       "1             2                           Ace Book\n",
       "2             3                          Ace Books\n",
       "3             4                      Ace Hardcover\n",
       "4             5  Addison Wesley Publishing Company"
      ]
     },
     "execution_count": 5,
     "metadata": {},
     "output_type": "execute_result"
    }
   ],
   "source": [
    "query = '''SELECT * \n",
    "           FROM publishers\n",
    "           LIMIT 5\n",
    "\n",
    "        '''\n",
    "request_result(query)"
   ]
  },
  {
   "cell_type": "markdown",
   "metadata": {},
   "source": [
    "**Запрос к таблице \"ratings\"**"
   ]
  },
  {
   "cell_type": "code",
   "execution_count": 6,
   "metadata": {},
   "outputs": [
    {
     "data": {
      "text/html": [
       "<div>\n",
       "<style scoped>\n",
       "    .dataframe tbody tr th:only-of-type {\n",
       "        vertical-align: middle;\n",
       "    }\n",
       "\n",
       "    .dataframe tbody tr th {\n",
       "        vertical-align: top;\n",
       "    }\n",
       "\n",
       "    .dataframe thead th {\n",
       "        text-align: right;\n",
       "    }\n",
       "</style>\n",
       "<table border=\"1\" class=\"dataframe\">\n",
       "  <thead>\n",
       "    <tr style=\"text-align: right;\">\n",
       "      <th></th>\n",
       "      <th>rating_id</th>\n",
       "      <th>book_id</th>\n",
       "      <th>username</th>\n",
       "      <th>rating</th>\n",
       "    </tr>\n",
       "  </thead>\n",
       "  <tbody>\n",
       "    <tr>\n",
       "      <th>0</th>\n",
       "      <td>1</td>\n",
       "      <td>1</td>\n",
       "      <td>ryanfranco</td>\n",
       "      <td>4</td>\n",
       "    </tr>\n",
       "    <tr>\n",
       "      <th>1</th>\n",
       "      <td>2</td>\n",
       "      <td>1</td>\n",
       "      <td>grantpatricia</td>\n",
       "      <td>2</td>\n",
       "    </tr>\n",
       "    <tr>\n",
       "      <th>2</th>\n",
       "      <td>3</td>\n",
       "      <td>1</td>\n",
       "      <td>brandtandrea</td>\n",
       "      <td>5</td>\n",
       "    </tr>\n",
       "    <tr>\n",
       "      <th>3</th>\n",
       "      <td>4</td>\n",
       "      <td>2</td>\n",
       "      <td>lorichen</td>\n",
       "      <td>3</td>\n",
       "    </tr>\n",
       "    <tr>\n",
       "      <th>4</th>\n",
       "      <td>5</td>\n",
       "      <td>2</td>\n",
       "      <td>mariokeller</td>\n",
       "      <td>2</td>\n",
       "    </tr>\n",
       "  </tbody>\n",
       "</table>\n",
       "</div>"
      ],
      "text/plain": [
       "   rating_id  book_id       username  rating\n",
       "0          1        1     ryanfranco       4\n",
       "1          2        1  grantpatricia       2\n",
       "2          3        1   brandtandrea       5\n",
       "3          4        2       lorichen       3\n",
       "4          5        2    mariokeller       2"
      ]
     },
     "execution_count": 6,
     "metadata": {},
     "output_type": "execute_result"
    }
   ],
   "source": [
    "query = '''SELECT * \n",
    "           FROM ratings\n",
    "           LIMIT 5\n",
    "\n",
    "        '''\n",
    "request_result(query)"
   ]
  },
  {
   "cell_type": "markdown",
   "metadata": {},
   "source": [
    "**Запрос к таблице \"reviews\"**"
   ]
  },
  {
   "cell_type": "code",
   "execution_count": 7,
   "metadata": {
    "scrolled": true
   },
   "outputs": [
    {
     "data": {
      "text/html": [
       "<div>\n",
       "<style scoped>\n",
       "    .dataframe tbody tr th:only-of-type {\n",
       "        vertical-align: middle;\n",
       "    }\n",
       "\n",
       "    .dataframe tbody tr th {\n",
       "        vertical-align: top;\n",
       "    }\n",
       "\n",
       "    .dataframe thead th {\n",
       "        text-align: right;\n",
       "    }\n",
       "</style>\n",
       "<table border=\"1\" class=\"dataframe\">\n",
       "  <thead>\n",
       "    <tr style=\"text-align: right;\">\n",
       "      <th></th>\n",
       "      <th>review_id</th>\n",
       "      <th>book_id</th>\n",
       "      <th>username</th>\n",
       "      <th>text</th>\n",
       "    </tr>\n",
       "  </thead>\n",
       "  <tbody>\n",
       "    <tr>\n",
       "      <th>0</th>\n",
       "      <td>1</td>\n",
       "      <td>1</td>\n",
       "      <td>brandtandrea</td>\n",
       "      <td>Mention society tell send professor analysis. ...</td>\n",
       "    </tr>\n",
       "    <tr>\n",
       "      <th>1</th>\n",
       "      <td>2</td>\n",
       "      <td>1</td>\n",
       "      <td>ryanfranco</td>\n",
       "      <td>Foot glass pretty audience hit themselves. Amo...</td>\n",
       "    </tr>\n",
       "    <tr>\n",
       "      <th>2</th>\n",
       "      <td>3</td>\n",
       "      <td>2</td>\n",
       "      <td>lorichen</td>\n",
       "      <td>Listen treat keep worry. Miss husband tax but ...</td>\n",
       "    </tr>\n",
       "    <tr>\n",
       "      <th>3</th>\n",
       "      <td>4</td>\n",
       "      <td>3</td>\n",
       "      <td>johnsonamanda</td>\n",
       "      <td>Finally month interesting blue could nature cu...</td>\n",
       "    </tr>\n",
       "    <tr>\n",
       "      <th>4</th>\n",
       "      <td>5</td>\n",
       "      <td>3</td>\n",
       "      <td>scotttamara</td>\n",
       "      <td>Nation purpose heavy give wait song will. List...</td>\n",
       "    </tr>\n",
       "  </tbody>\n",
       "</table>\n",
       "</div>"
      ],
      "text/plain": [
       "   review_id  book_id       username  \\\n",
       "0          1        1   brandtandrea   \n",
       "1          2        1     ryanfranco   \n",
       "2          3        2       lorichen   \n",
       "3          4        3  johnsonamanda   \n",
       "4          5        3    scotttamara   \n",
       "\n",
       "                                                text  \n",
       "0  Mention society tell send professor analysis. ...  \n",
       "1  Foot glass pretty audience hit themselves. Amo...  \n",
       "2  Listen treat keep worry. Miss husband tax but ...  \n",
       "3  Finally month interesting blue could nature cu...  \n",
       "4  Nation purpose heavy give wait song will. List...  "
      ]
     },
     "execution_count": 7,
     "metadata": {},
     "output_type": "execute_result"
    }
   ],
   "source": [
    "query = '''SELECT * \n",
    "           FROM reviews\n",
    "           LIMIT 5\n",
    "\n",
    "        '''\n",
    "request_result(query)"
   ]
  },
  {
   "cell_type": "markdown",
   "metadata": {},
   "source": [
    "<a id=\"two\"></a>\n",
    "## Анализ данных"
   ]
  },
  {
   "cell_type": "markdown",
   "metadata": {},
   "source": [
    "<a id=\"two_1\"></a>    \n",
    "### Расчет количества книг, которые вышли после 1 января 2000 года"
   ]
  },
  {
   "cell_type": "code",
   "execution_count": 8,
   "metadata": {},
   "outputs": [
    {
     "data": {
      "text/html": [
       "<div>\n",
       "<style scoped>\n",
       "    .dataframe tbody tr th:only-of-type {\n",
       "        vertical-align: middle;\n",
       "    }\n",
       "\n",
       "    .dataframe tbody tr th {\n",
       "        vertical-align: top;\n",
       "    }\n",
       "\n",
       "    .dataframe thead th {\n",
       "        text-align: right;\n",
       "    }\n",
       "</style>\n",
       "<table border=\"1\" class=\"dataframe\">\n",
       "  <thead>\n",
       "    <tr style=\"text-align: right;\">\n",
       "      <th></th>\n",
       "      <th>number_of_books</th>\n",
       "    </tr>\n",
       "  </thead>\n",
       "  <tbody>\n",
       "    <tr>\n",
       "      <th>0</th>\n",
       "      <td>819</td>\n",
       "    </tr>\n",
       "  </tbody>\n",
       "</table>\n",
       "</div>"
      ],
      "text/plain": [
       "   number_of_books\n",
       "0              819"
      ]
     },
     "execution_count": 8,
     "metadata": {},
     "output_type": "execute_result"
    }
   ],
   "source": [
    "query = '''SELECT COUNT(book_id) AS number_of_books\n",
    "           FROM books\n",
    "           WHERE publication_date > '2000-01-01'\n",
    "        '''\n",
    "request_result(query)"
   ]
  },
  {
   "cell_type": "markdown",
   "metadata": {},
   "source": [
    "<a id=\"two_1_1\"></a>\n",
    "#### Вывод\n",
    "\n"
   ]
  },
  {
   "cell_type": "markdown",
   "metadata": {},
   "source": [
    "В базе содержится 819 книг, которые были выпущены после 1 января 2000 года. При выработке бизнес-стратегии  стоит учесть тот факт, что с 2000 года не было ситуации мирового локдауна и поэтому вполне возможно, что такое количество книг было выпущено на платформе, в связи с тем, что они не были настолько востребованы, как могут быть в период мирового карантина.  "
   ]
  },
  {
   "cell_type": "markdown",
   "metadata": {},
   "source": [
    "<a id=\"two_2\" ></a>\n",
    "### Расчет для каждой книги количества обзоров и средней оценки"
   ]
  },
  {
   "cell_type": "code",
   "execution_count": 9,
   "metadata": {},
   "outputs": [
    {
     "data": {
      "text/html": [
       "<div>\n",
       "<style scoped>\n",
       "    .dataframe tbody tr th:only-of-type {\n",
       "        vertical-align: middle;\n",
       "    }\n",
       "\n",
       "    .dataframe tbody tr th {\n",
       "        vertical-align: top;\n",
       "    }\n",
       "\n",
       "    .dataframe thead th {\n",
       "        text-align: right;\n",
       "    }\n",
       "</style>\n",
       "<table border=\"1\" class=\"dataframe\">\n",
       "  <thead>\n",
       "    <tr style=\"text-align: right;\">\n",
       "      <th></th>\n",
       "      <th>title</th>\n",
       "      <th>number_of_reviews</th>\n",
       "      <th>number_of_rating</th>\n",
       "    </tr>\n",
       "  </thead>\n",
       "  <tbody>\n",
       "    <tr>\n",
       "      <th>0</th>\n",
       "      <td>Twilight (Twilight  #1)</td>\n",
       "      <td>7</td>\n",
       "      <td>3.66</td>\n",
       "    </tr>\n",
       "    <tr>\n",
       "      <th>1</th>\n",
       "      <td>The Hobbit  or There and Back Again</td>\n",
       "      <td>6</td>\n",
       "      <td>4.13</td>\n",
       "    </tr>\n",
       "    <tr>\n",
       "      <th>2</th>\n",
       "      <td>The Catcher in the Rye</td>\n",
       "      <td>6</td>\n",
       "      <td>3.83</td>\n",
       "    </tr>\n",
       "    <tr>\n",
       "      <th>3</th>\n",
       "      <td>Harry Potter and the Prisoner of Azkaban (Harr...</td>\n",
       "      <td>6</td>\n",
       "      <td>4.41</td>\n",
       "    </tr>\n",
       "    <tr>\n",
       "      <th>4</th>\n",
       "      <td>Harry Potter and the Chamber of Secrets (Harry...</td>\n",
       "      <td>6</td>\n",
       "      <td>4.29</td>\n",
       "    </tr>\n",
       "    <tr>\n",
       "      <th>...</th>\n",
       "      <td>...</td>\n",
       "      <td>...</td>\n",
       "      <td>...</td>\n",
       "    </tr>\n",
       "    <tr>\n",
       "      <th>994</th>\n",
       "      <td>Disney's Beauty and the Beast (A Little Golden...</td>\n",
       "      <td>0</td>\n",
       "      <td>4.00</td>\n",
       "    </tr>\n",
       "    <tr>\n",
       "      <th>995</th>\n",
       "      <td>Essential Tales and Poems</td>\n",
       "      <td>0</td>\n",
       "      <td>4.00</td>\n",
       "    </tr>\n",
       "    <tr>\n",
       "      <th>996</th>\n",
       "      <td>Leonardo's Notebooks</td>\n",
       "      <td>0</td>\n",
       "      <td>4.00</td>\n",
       "    </tr>\n",
       "    <tr>\n",
       "      <th>997</th>\n",
       "      <td>The Natural Way to Draw</td>\n",
       "      <td>0</td>\n",
       "      <td>3.00</td>\n",
       "    </tr>\n",
       "    <tr>\n",
       "      <th>998</th>\n",
       "      <td>The Cat in the Hat and Other Dr. Seuss Favorites</td>\n",
       "      <td>0</td>\n",
       "      <td>5.00</td>\n",
       "    </tr>\n",
       "  </tbody>\n",
       "</table>\n",
       "<p>999 rows × 3 columns</p>\n",
       "</div>"
      ],
      "text/plain": [
       "                                                 title  number_of_reviews  \\\n",
       "0                              Twilight (Twilight  #1)                  7   \n",
       "1                  The Hobbit  or There and Back Again                  6   \n",
       "2                               The Catcher in the Rye                  6   \n",
       "3    Harry Potter and the Prisoner of Azkaban (Harr...                  6   \n",
       "4    Harry Potter and the Chamber of Secrets (Harry...                  6   \n",
       "..                                                 ...                ...   \n",
       "994  Disney's Beauty and the Beast (A Little Golden...                  0   \n",
       "995                          Essential Tales and Poems                  0   \n",
       "996                               Leonardo's Notebooks                  0   \n",
       "997                            The Natural Way to Draw                  0   \n",
       "998   The Cat in the Hat and Other Dr. Seuss Favorites                  0   \n",
       "\n",
       "     number_of_rating  \n",
       "0                3.66  \n",
       "1                4.13  \n",
       "2                3.83  \n",
       "3                4.41  \n",
       "4                4.29  \n",
       "..                ...  \n",
       "994              4.00  \n",
       "995              4.00  \n",
       "996              4.00  \n",
       "997              3.00  \n",
       "998              5.00  \n",
       "\n",
       "[999 rows x 3 columns]"
      ]
     },
     "execution_count": 9,
     "metadata": {},
     "output_type": "execute_result"
    }
   ],
   "source": [
    "query = '''SELECT\n",
    "               books.title AS title,\n",
    "               COUNT (distinct review_id) AS number_of_reviews,\n",
    "                ROUND(AVG(rating), 2) AS number_of_rating\n",
    "            FROM \n",
    "                books\n",
    "            LEFT JOIN\n",
    "                reviews ON reviews.book_id = books.book_id\n",
    "            LEFT JOIN\n",
    "                ratings ON ratings.book_id = books.book_id\n",
    "            GROUP BY\n",
    "                books.title\n",
    "            ORDER BY \n",
    "                COUNT(reviews.review_id) DESC\n",
    "\n",
    "         '''\n",
    "request_result(query)"
   ]
  },
  {
   "cell_type": "markdown",
   "metadata": {},
   "source": [
    "<a id=\"two_2_1\"></a>\n",
    "#### Вывод"
   ]
  },
  {
   "cell_type": "markdown",
   "metadata": {},
   "source": [
    "Из анализа информации видим, что наибольшее количество отзывов имеет книга \"Twilight\" (\"Сумерки\"), но она не является самой рейтинговой (ее рейтинг - 3,66). В то время как книга \"The Cat in the Hat and Other Dr. Seuss Favorites\" имеет рейтинг - 5.0, хотя обзоров на нее на сервисе нет. Таким образом видим, что наибольшее количество отзывов не влечет за собой высокие оценки для книг.  \n",
    "\n"
   ]
  },
  {
   "cell_type": "markdown",
   "metadata": {},
   "source": [
    "<a id=\"two_3\" ></a>\n",
    "### Определение издательства, которое выпустило наибольшее число книг толще 50 страниц"
   ]
  },
  {
   "cell_type": "code",
   "execution_count": 10,
   "metadata": {},
   "outputs": [
    {
     "data": {
      "text/html": [
       "<div>\n",
       "<style scoped>\n",
       "    .dataframe tbody tr th:only-of-type {\n",
       "        vertical-align: middle;\n",
       "    }\n",
       "\n",
       "    .dataframe tbody tr th {\n",
       "        vertical-align: top;\n",
       "    }\n",
       "\n",
       "    .dataframe thead th {\n",
       "        text-align: right;\n",
       "    }\n",
       "</style>\n",
       "<table border=\"1\" class=\"dataframe\">\n",
       "  <thead>\n",
       "    <tr style=\"text-align: right;\">\n",
       "      <th></th>\n",
       "      <th>name_publishing_house</th>\n",
       "      <th>number_of_books</th>\n",
       "    </tr>\n",
       "  </thead>\n",
       "  <tbody>\n",
       "    <tr>\n",
       "      <th>0</th>\n",
       "      <td>Penguin Books</td>\n",
       "      <td>42</td>\n",
       "    </tr>\n",
       "  </tbody>\n",
       "</table>\n",
       "</div>"
      ],
      "text/plain": [
       "  name_publishing_house  number_of_books\n",
       "0         Penguin Books               42"
      ]
     },
     "execution_count": 10,
     "metadata": {},
     "output_type": "execute_result"
    }
   ],
   "source": [
    "query = '''SELECT publishers.publisher AS name_publishing_house,\n",
    "                  COUNT (subq.book_id) AS number_of_books\n",
    "           FROM (\n",
    "               SELECT book_id,\n",
    "                      publisher_id\n",
    "               FROM books\n",
    "               WHERE num_pages > 50) AS subq\n",
    "           INNER JOIN publishers ON publishers.publisher_id = subq.publisher_id\n",
    "           GROUP BY name_publishing_house\n",
    "           ORDER BY number_of_books DESC\n",
    "           LIMIT 1;\n",
    "        '''\n",
    "\n",
    "request_result(query)"
   ]
  },
  {
   "cell_type": "markdown",
   "metadata": {},
   "source": [
    "<a id=\"two_3_1\" ></a>\n",
    "#### Вывод"
   ]
  },
  {
   "cell_type": "markdown",
   "metadata": {},
   "source": [
    "Наблюдаем, что издательством, которое выпустило наибольшее число книг (исключая брошюры) является \"Penguin Books\". Исследуя информацию в интернете, видим, что   это британское издательство, основанное в 1935 году в Лондоне. Главной заслугой издательства считают демократизацию книжного рынка, превратившую книгу из предмета роскоши в удовольствие, доступное массам. Исходя из полученной информации, тот факт, что данное издательство на сервисе выпустило наибольшее количество книг, подтверждает выбранную стратегию издательства, а для нас эти данные будут полезны при формировании предложений для читателей."
   ]
  },
  {
   "cell_type": "markdown",
   "metadata": {},
   "source": [
    "<a id=\"two_4\" ></a>\n",
    "### Определение автора с самой высокой средней оценкой книг, учитывая только книги с 50 и более оценками"
   ]
  },
  {
   "cell_type": "code",
   "execution_count": 15,
   "metadata": {},
   "outputs": [
    {
     "data": {
      "text/html": [
       "<div>\n",
       "<style scoped>\n",
       "    .dataframe tbody tr th:only-of-type {\n",
       "        vertical-align: middle;\n",
       "    }\n",
       "\n",
       "    .dataframe tbody tr th {\n",
       "        vertical-align: top;\n",
       "    }\n",
       "\n",
       "    .dataframe thead th {\n",
       "        text-align: right;\n",
       "    }\n",
       "</style>\n",
       "<table border=\"1\" class=\"dataframe\">\n",
       "  <thead>\n",
       "    <tr style=\"text-align: right;\">\n",
       "      <th></th>\n",
       "      <th>author</th>\n",
       "      <th>best_rating</th>\n",
       "    </tr>\n",
       "  </thead>\n",
       "  <tbody>\n",
       "    <tr>\n",
       "      <th>0</th>\n",
       "      <td>J.K. Rowling/Mary GrandPré</td>\n",
       "      <td>4.28</td>\n",
       "    </tr>\n",
       "  </tbody>\n",
       "</table>\n",
       "</div>"
      ],
      "text/plain": [
       "                       author  best_rating\n",
       "0  J.K. Rowling/Mary GrandPré         4.28"
      ]
     },
     "execution_count": 15,
     "metadata": {},
     "output_type": "execute_result"
    }
   ],
   "source": [
    "query = '''SELECT\n",
    "               author,\n",
    "               ROUND(AVG(sub.avg_rating), 2) AS best_rating\n",
    "           FROM\n",
    "               (SELECT\n",
    "                   author,\n",
    "                   books.book_id,\n",
    "                   AVG(rating) AS avg_rating\n",
    "                FROM \n",
    "                   authors\n",
    "                LEFT JOIN books ON books.author_id = authors.author_id\n",
    "                LEFT JOIN ratings ON ratings.book_id = books.book_id\n",
    "                GROUP BY\n",
    "                    author,\n",
    "                    books.book_id\n",
    "                HAVING\n",
    "                    COUNT(rating) >= 50) AS sub\n",
    "                GROUP BY\n",
    "                    author\n",
    "                ORDER BY\n",
    "                    best_rating DESC\n",
    "                LIMIT 1\n",
    "        '''\n",
    "request_result(query)"
   ]
  },
  {
   "cell_type": "markdown",
   "metadata": {},
   "source": [
    "<a id=\"two_4_1\" ></a>\n",
    "#### Вывод"
   ]
  },
  {
   "cell_type": "markdown",
   "metadata": {},
   "source": [
    "Автором с самой высокой средней оценкой книг, учитывая только книги с количеством 50 оценок и более, является - Джоан Роулинг(J. K. Rowling) — британская писательница, сценаристка и кинопродюсер, наиболее известная как автор серии романов о Гарри Поттере.  Данная информация нам будет полезна при формировании списка книг, доступных на сервисе для читателя, и соответственно, повышения популярности нашего сервиса для чтения книг."
   ]
  },
  {
   "cell_type": "markdown",
   "metadata": {},
   "source": [
    "<a id=\"two_5\" ></a>\n",
    "### Расчет среднего количества обзоров от пользователей, которые поставили больше 50 оценок"
   ]
  },
  {
   "cell_type": "code",
   "execution_count": 12,
   "metadata": {},
   "outputs": [
    {
     "data": {
      "text/html": [
       "<div>\n",
       "<style scoped>\n",
       "    .dataframe tbody tr th:only-of-type {\n",
       "        vertical-align: middle;\n",
       "    }\n",
       "\n",
       "    .dataframe tbody tr th {\n",
       "        vertical-align: top;\n",
       "    }\n",
       "\n",
       "    .dataframe thead th {\n",
       "        text-align: right;\n",
       "    }\n",
       "</style>\n",
       "<table border=\"1\" class=\"dataframe\">\n",
       "  <thead>\n",
       "    <tr style=\"text-align: right;\">\n",
       "      <th></th>\n",
       "      <th>avg_number_of_reviews</th>\n",
       "    </tr>\n",
       "  </thead>\n",
       "  <tbody>\n",
       "    <tr>\n",
       "      <th>0</th>\n",
       "      <td>24.33</td>\n",
       "    </tr>\n",
       "  </tbody>\n",
       "</table>\n",
       "</div>"
      ],
      "text/plain": [
       "   avg_number_of_reviews\n",
       "0                  24.33"
      ]
     },
     "execution_count": 12,
     "metadata": {},
     "output_type": "execute_result"
    }
   ],
   "source": [
    "query = '''SELECT\n",
    "               ROUND(AVG(sub.count_review), 2) AS avg_number_of_reviews\n",
    "           FROM\n",
    "               (SELECT\n",
    "                COUNT(review_id) AS count_review\n",
    "                FROM\n",
    "                    reviews\n",
    "                WHERE username IN\n",
    "                    (SELECT\n",
    "                         username\n",
    "                     FROM\n",
    "                         ratings\n",
    "                     GROUP BY\n",
    "                         username\n",
    "                     HAVING\n",
    "                         COUNT(ratings) > 50)\n",
    "                     GROUP BY\n",
    "                         username) AS sub \n",
    "\n",
    "       '''\n",
    "request_result(query)"
   ]
  },
  {
   "cell_type": "markdown",
   "metadata": {},
   "source": [
    "<a id=\"two_5_1\" ></a>\n",
    "#### Вывод\n"
   ]
  },
  {
   "cell_type": "markdown",
   "metadata": {},
   "source": [
    "Среднее количество обзоров читателей, которые поставили больше 50 оценок - 24 ед. Наблюдаем неплохую активность пользователей, но насколько эта активность велика на данный момент оценить трудно, для оценки данного показателя требуются дополнительные исследования.  "
   ]
  },
  {
   "cell_type": "markdown",
   "metadata": {},
   "source": [
    "<a id=\"three\" ></a>\n",
    "## Общий вывод"
   ]
  },
  {
   "cell_type": "markdown",
   "metadata": {},
   "source": [
    "В базе содержится 819 книг, которые были выпущены после 1 января 2000 года. Учитывая, что исследование проводится в 2020 году, то это количество книг выглядит, возможно, не достаточно большим за 20 лет. При выработке бизнес-стратегии также стоит учесть тот факт, что с 2000 года не было ситуации мирового локдауна и поэтому вполне возможно, что такое количество книг было выпущено на платформе, в связи с тем, что они не были настолько востребованы, как могут быть в период мирового карантина. Поэтому, в целях повышения конкурентнособности сервиса, стоит повышать количество книг, представляемых для чтения пользователям.\n",
    "\n",
    "Наибольшее количество отзывов не влечет за собой высокие оценки для книг. Возможно, читатели не являются активными в социальном плане по психотипу и соответственно, не оставляют обзоры на понравившиеся книги, но одновременно активны в чтении книг. \n",
    "\n",
    "Издательством, которое выпустило наибольшее число книг (исключая брошюры) является \"Penguin Books\", а также Автором с самой высокой средней оценкой книг, учитывая только книги с количеством 50 оценок и более, является - Джоан Роулинг. Следует обратить внимание на данное издательство и автора при формировании дополнительных списков книг для чтения на сервисе.\n",
    "\n",
    "Читатели исследуемого сервиса делают обзоры на книги в среднем в количестве - 24-х.\n",
    "\n",
    "Рекомендовано провести дополнительный анализ целевой аудитории (возраст, частота посещений сервиса, предпочтения жанров и авторов наиболее активными читателями и наиболее активными читателями оставляющими обзоры). Рекомендованный дополнительный анализ даст полезную информацию при дополнении списка книг для чтения и, соответственно, повышения активности читателей и  монетизации проекта."
   ]
  }
 ],
 "metadata": {
  "ExecuteTimeLog": [
   {
    "duration": 8967,
    "start_time": "2022-06-25T10:34:42.732Z"
   },
   {
    "duration": 3,
    "start_time": "2022-06-25T10:40:13.039Z"
   },
   {
    "duration": 286,
    "start_time": "2022-06-25T10:43:20.800Z"
   },
   {
    "duration": 81,
    "start_time": "2022-06-25T10:44:55.316Z"
   },
   {
    "duration": 78,
    "start_time": "2022-06-25T10:46:49.122Z"
   },
   {
    "duration": 89,
    "start_time": "2022-06-25T10:48:11.317Z"
   },
   {
    "duration": 93,
    "start_time": "2022-06-25T10:49:23.147Z"
   },
   {
    "duration": 74,
    "start_time": "2022-06-25T11:11:35.373Z"
   },
   {
    "duration": 155,
    "start_time": "2022-06-25T11:47:03.216Z"
   },
   {
    "duration": 48,
    "start_time": "2022-06-25T15:06:40.119Z"
   },
   {
    "duration": 6540,
    "start_time": "2022-06-25T15:06:56.398Z"
   },
   {
    "duration": 4,
    "start_time": "2022-06-25T15:07:02.940Z"
   },
   {
    "duration": 247,
    "start_time": "2022-06-25T15:07:02.945Z"
   },
   {
    "duration": 72,
    "start_time": "2022-06-25T15:07:03.194Z"
   },
   {
    "duration": 74,
    "start_time": "2022-06-25T15:07:03.269Z"
   },
   {
    "duration": 72,
    "start_time": "2022-06-25T15:07:03.345Z"
   },
   {
    "duration": 73,
    "start_time": "2022-06-25T15:07:03.420Z"
   },
   {
    "duration": 66,
    "start_time": "2022-06-25T15:07:03.495Z"
   },
   {
    "duration": 120,
    "start_time": "2022-06-25T15:07:03.563Z"
   },
   {
    "duration": 189,
    "start_time": "2022-06-25T15:07:03.684Z"
   },
   {
    "duration": 126,
    "start_time": "2022-06-25T15:07:40.586Z"
   },
   {
    "duration": 68,
    "start_time": "2022-06-25T15:08:38.736Z"
   },
   {
    "duration": 76,
    "start_time": "2022-06-25T15:10:04.548Z"
   },
   {
    "duration": 88,
    "start_time": "2022-06-25T15:27:09.479Z"
   },
   {
    "duration": 78,
    "start_time": "2022-06-25T15:28:09.442Z"
   },
   {
    "duration": 15,
    "start_time": "2022-06-25T15:59:26.622Z"
   },
   {
    "duration": 222,
    "start_time": "2022-06-25T15:59:41.789Z"
   },
   {
    "duration": 98,
    "start_time": "2022-06-25T16:00:23.162Z"
   },
   {
    "duration": 105,
    "start_time": "2022-06-25T16:00:46.255Z"
   },
   {
    "duration": 186,
    "start_time": "2022-06-25T16:02:25.021Z"
   },
   {
    "duration": 196,
    "start_time": "2022-06-25T16:02:51.494Z"
   },
   {
    "duration": 82,
    "start_time": "2022-06-25T16:03:03.756Z"
   },
   {
    "duration": 112,
    "start_time": "2022-06-25T16:04:11.460Z"
   },
   {
    "duration": 99,
    "start_time": "2022-06-25T16:13:44.508Z"
   },
   {
    "duration": 97,
    "start_time": "2022-06-25T16:13:52.862Z"
   },
   {
    "duration": 52,
    "start_time": "2022-06-25T16:15:17.162Z"
   },
   {
    "duration": 93,
    "start_time": "2022-06-25T16:21:36.125Z"
   },
   {
    "duration": 7670,
    "start_time": "2022-06-25T16:44:07.045Z"
   },
   {
    "duration": 4,
    "start_time": "2022-06-25T16:44:14.717Z"
   },
   {
    "duration": 345,
    "start_time": "2022-06-25T16:44:14.723Z"
   },
   {
    "duration": 77,
    "start_time": "2022-06-25T16:44:15.070Z"
   },
   {
    "duration": 81,
    "start_time": "2022-06-25T16:44:15.150Z"
   },
   {
    "duration": 88,
    "start_time": "2022-06-25T16:44:15.234Z"
   },
   {
    "duration": 95,
    "start_time": "2022-06-25T16:44:15.324Z"
   },
   {
    "duration": 90,
    "start_time": "2022-06-25T16:44:15.421Z"
   },
   {
    "duration": 153,
    "start_time": "2022-06-25T16:44:15.513Z"
   },
   {
    "duration": 92,
    "start_time": "2022-06-25T16:44:15.670Z"
   },
   {
    "duration": 96,
    "start_time": "2022-06-25T16:44:15.764Z"
   },
   {
    "duration": 82,
    "start_time": "2022-06-25T16:44:15.863Z"
   },
   {
    "duration": 13188,
    "start_time": "2022-06-25T17:47:23.051Z"
   },
   {
    "duration": 3,
    "start_time": "2022-06-25T17:47:36.241Z"
   },
   {
    "duration": 110,
    "start_time": "2022-06-25T17:47:36.246Z"
   },
   {
    "duration": 13,
    "start_time": "2022-06-25T17:47:36.358Z"
   },
   {
    "duration": 12,
    "start_time": "2022-06-25T17:47:36.372Z"
   },
   {
    "duration": 14,
    "start_time": "2022-06-25T17:47:36.386Z"
   },
   {
    "duration": 12,
    "start_time": "2022-06-25T17:47:36.402Z"
   },
   {
    "duration": 35,
    "start_time": "2022-06-25T17:47:36.416Z"
   },
   {
    "duration": 34,
    "start_time": "2022-06-25T17:47:36.454Z"
   },
   {
    "duration": 13,
    "start_time": "2022-06-25T17:47:36.491Z"
   },
   {
    "duration": 19,
    "start_time": "2022-06-25T17:47:36.506Z"
   },
   {
    "duration": 19,
    "start_time": "2022-06-25T17:47:36.527Z"
   },
   {
    "duration": 20,
    "start_time": "2022-06-25T17:55:35.261Z"
   },
   {
    "duration": 20,
    "start_time": "2022-06-25T17:55:56.029Z"
   },
   {
    "duration": 20,
    "start_time": "2022-06-25T17:56:08.774Z"
   }
  ],
  "kernelspec": {
   "display_name": "Python 3 (ipykernel)",
   "language": "python",
   "name": "python3"
  },
  "language_info": {
   "codemirror_mode": {
    "name": "ipython",
    "version": 3
   },
   "file_extension": ".py",
   "mimetype": "text/x-python",
   "name": "python",
   "nbconvert_exporter": "python",
   "pygments_lexer": "ipython3",
   "version": "3.9.12"
  },
  "toc": {
   "base_numbering": 1,
   "nav_menu": {},
   "number_sections": true,
   "sideBar": true,
   "skip_h1_title": true,
   "title_cell": "Table of Contents",
   "title_sidebar": "Contents",
   "toc_cell": false,
   "toc_position": {
    "height": "calc(100% - 180px)",
    "left": "10px",
    "top": "150px",
    "width": "289.6px"
   },
   "toc_section_display": true,
   "toc_window_display": true
  }
 },
 "nbformat": 4,
 "nbformat_minor": 2
}
